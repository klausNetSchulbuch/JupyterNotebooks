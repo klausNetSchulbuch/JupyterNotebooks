{
 "cells": [
  {
   "cell_type": "markdown",
   "metadata": {
    "slideshow": {
     "slide_type": "slide"
    }
   },
   "source": [
    "# Erkennen von Ziffern (MNIST_SIMPLE) mit einem Entscheidungsbaum"
   ]
  },
  {
   "cell_type": "markdown",
   "metadata": {
    "slideshow": {
     "slide_type": "slide"
    }
   },
   "source": [
    "<div class=\"alert alert-block alert-success\">\n",
    "\n",
    "Uns liegt ein Datensatz für 8 Ziffern vor. Diese Daten benutzen wir, um das System zu **trainieren**, damit es später unbekannte Ziffern erkennen kann.\n",
    "    \n",
    "Dabei gibt es genau die 8 Klassen:\n",
    "    \n",
    "    - Ziffer 1\n",
    "    - Ziffer 2\n",
    "    - ...\n",
    "    - Ziffer 8"
   ]
  },
  {
   "cell_type": "markdown",
   "metadata": {
    "slideshow": {
     "slide_type": "slide"
    }
   },
   "source": [
    "<div class=\"alert alert-block alert-warning\">\n",
    "    \n",
    "### *Aufgabe:*\n",
    "    \n",
    "Öffne die Datei [mnist_simple.csv](Daten/mnist_simple.csv) - sie liegt in dem Unterordner `Daten` -  mit einem Texteditor. Analysiere und beschreibe den Aufbau der Datei."
   ]
  },
  {
   "cell_type": "markdown",
   "metadata": {
    "slideshow": {
     "slide_type": "slide"
    }
   },
   "source": [
    "## Das System bekommt die Daten"
   ]
  },
  {
   "cell_type": "markdown",
   "metadata": {
    "slideshow": {
     "slide_type": "slide"
    }
   },
   "source": [
    "<div class=\"alert alert-block alert-success\">\n",
    "\n",
    "Die Daten aus der csv-Datei müssen in dieses System eingelesen werden, damit sie von Python-Befehlen bearbeitet werden können.\n",
    "    \n",
    "Man benötigt dazu Hilfsmittel. Das sind sog. **Funktionen**, die in einer **Bibliothek** enthalten sind. Diese Bibliothek muss man zuvor laden"
   ]
  },
  {
   "cell_type": "markdown",
   "metadata": {
    "slideshow": {
     "slide_type": "slide"
    }
   },
   "source": [
    "### Jetzt werden die Daten eingelesen."
   ]
  },
  {
   "cell_type": "markdown",
   "metadata": {
    "slideshow": {
     "slide_type": "skip"
    }
   },
   "source": [
    "<div class=\"alert alert-block alert-info\">    \n",
    "   \n",
    "    \n",
    "**Führe dazu die folgende Zelle aus!**\n",
    "    \n",
    "Die Bibliothek mit dem Namen `pandas`wird dann geladen und kann anschließend unter dem Namen `pd`benutzt werden."
   ]
  },
  {
   "cell_type": "markdown",
   "metadata": {
    "slideshow": {
     "slide_type": "slide"
    }
   },
   "source": [
    "<div class=\"alert alert-block alert-success\">\n",
    "    \n",
    "**Hintergrundwissen:**\n",
    "`pandas` ist eine Programmbibliothek für die Programmiersprache Python, die Hilfsmittel für die Verwaltung von Daten und deren Analyse anbietet. Insbesondere enthält sie Datenstrukturen und Operatoren für den Zugriff auf numerische Tabellen und Zeitreihen. \n",
    "    \n",
    "**Und jetzt bitte die folgende Zelle ausführen!**"
   ]
  },
  {
   "cell_type": "code",
   "execution_count": null,
   "metadata": {
    "slideshow": {
     "slide_type": "slide"
    }
   },
   "outputs": [],
   "source": [
    "# Dieser Quelltext ist nicht prüfungsrelevant.\n",
    "\n",
    "# Bibliotheken importieren\n",
    "import pandas as pd\n",
    "from PyTree import ClassificationTree as ct\n",
    "from plotly.offline import iplot\n",
    "import plotly as py\n",
    "import cufflinks as cf\n",
    "cf.go_offline()"
   ]
  },
  {
   "cell_type": "markdown",
   "metadata": {
    "slideshow": {
     "slide_type": "slide"
    }
   },
   "source": [
    "<div class=\"alert alert-block alert-success\">\n",
    "    \n",
    "Jetzt endlich können die Daten aus der Datei `mnist_simple.csv.csv` eingelesen werden.\n",
    "    \n",
    "- In der Datei `mnist_simple.csv.csv` sind die Datensätze zeilenweise aufgeführt.\n",
    "- Die Einträge in den Spalten sind jeweils durch ein Semikolon (\";\") getrennt.\n",
    "    \n",
    "**Und jetzt bitte die folgende Zelle ausführen!** \n",
    "- Die Daten werden dann eingelesen und (zur Sicherheit) ausgegeben."
   ]
  },
  {
   "cell_type": "code",
   "execution_count": null,
   "metadata": {
    "slideshow": {
     "slide_type": "slide"
    }
   },
   "outputs": [],
   "source": [
    "df_ziffern = pd.read_csv(\"Daten/mnist_simple.csv\", sep=\";\")\n",
    "\n",
    "display(df_ziffern)"
   ]
  },
  {
   "cell_type": "code",
   "execution_count": null,
   "metadata": {},
   "outputs": [],
   "source": [
    "# Entscheidungsbaum initialisieren mit Zielvariable (hier in Spalte \"Ziffer\") und Trainingsdaten\n",
    "tree = ct.DecisionTree(target = 'Ziffer', data = df_ziffern)"
   ]
  },
  {
   "cell_type": "code",
   "execution_count": null,
   "metadata": {},
   "outputs": [],
   "source": [
    "#Entscheidungsbaum erstellen \n",
    "tree.grow_tree(df_ziffern, 'Ziffer')\n",
    "\n",
    "#Entscheidungsbaum ausgeben\n",
    "tree.print_tree()"
   ]
  },
  {
   "cell_type": "code",
   "execution_count": null,
   "metadata": {},
   "outputs": [],
   "source": []
  },
  {
   "cell_type": "code",
   "execution_count": null,
   "metadata": {},
   "outputs": [],
   "source": []
  }
 ],
 "metadata": {
  "celltoolbar": "Slideshow",
  "hide_input": false,
  "kernelspec": {
   "display_name": "Python 3 (ipykernel)",
   "language": "python",
   "name": "python3"
  },
  "language_info": {
   "codemirror_mode": {
    "name": "ipython",
    "version": 3
   },
   "file_extension": ".py",
   "mimetype": "text/x-python",
   "name": "python",
   "nbconvert_exporter": "python",
   "pygments_lexer": "ipython3",
   "version": "3.10.13"
  },
  "latex_envs": {
   "LaTeX_envs_menu_present": true,
   "autoclose": false,
   "autocomplete": true,
   "bibliofile": "biblio.bib",
   "cite_by": "apalike",
   "current_citInitial": 1,
   "eqLabelWithNumbers": true,
   "eqNumInitial": 1,
   "hotkeys": {
    "equation": "Ctrl-E",
    "itemize": "Ctrl-I"
   },
   "labels_anchors": false,
   "latex_user_defs": false,
   "report_style_numbering": false,
   "user_envs_cfg": true
  },
  "toc": {
   "base_numbering": 1,
   "nav_menu": {},
   "number_sections": true,
   "sideBar": true,
   "skip_h1_title": true,
   "title_cell": "Table of Contents",
   "title_sidebar": "Contents",
   "toc_cell": false,
   "toc_position": {
    "height": "calc(100% - 180px)",
    "left": "10px",
    "top": "150px",
    "width": "165px"
   },
   "toc_section_display": true,
   "toc_window_display": true
  },
  "varInspector": {
   "cols": {
    "lenName": 16,
    "lenType": 16,
    "lenVar": 40
   },
   "kernels_config": {
    "python": {
     "delete_cmd_postfix": "",
     "delete_cmd_prefix": "del ",
     "library": "var_list.py",
     "varRefreshCmd": "print(var_dic_list())"
    },
    "r": {
     "delete_cmd_postfix": ") ",
     "delete_cmd_prefix": "rm(",
     "library": "var_list.r",
     "varRefreshCmd": "cat(var_dic_list()) "
    }
   },
   "types_to_exclude": [
    "module",
    "function",
    "builtin_function_or_method",
    "instance",
    "_Feature"
   ],
   "window_display": false
  }
 },
 "nbformat": 4,
 "nbformat_minor": 2
}
