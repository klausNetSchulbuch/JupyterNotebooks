{
 "cells": [
  {
   "cell_type": "markdown",
   "metadata": {},
   "source": [
    "# Wie können Marienkäfer von Raupen unterschieden werden?\n",
    "**Idee: Schwellenwert**"
   ]
  },
  {
   "cell_type": "markdown",
   "metadata": {
    "slideshow": {
     "slide_type": "slide"
    }
   },
   "source": [
    "## Vorbereitung"
   ]
  },
  {
   "cell_type": "markdown",
   "metadata": {
    "slideshow": {
     "slide_type": "fragment"
    }
   },
   "source": [
    "<div class=\"alert alert-block alert-success\">\n",
    "\n",
    "Uns liegt also ein Datensatz für 20 Marienkäfer und Raupen vor. Diese Daten benutzen wir, um das System zu **trainieren**, damit es später unbekannte Insekten als Käfer bzw. Raupe erkennen kann."
   ]
  },
  {
   "cell_type": "markdown",
   "metadata": {
    "slideshow": {
     "slide_type": "skip"
    }
   },
   "source": [
    "<div class=\"alert alert-block alert-info\">\n",
    "\n",
    "Zur Vorbereitung werden wieder einige notwendige Bibliotheken sowie die Daten eingelesen.\n",
    "    \n",
    "**Führe also die folgenden beiden Zellen aus:**"
   ]
  },
  {
   "cell_type": "code",
   "execution_count": null,
   "metadata": {
    "slideshow": {
     "slide_type": "slide"
    }
   },
   "outputs": [],
   "source": [
    "import pandas as pd\n",
    "import plotly.express as px\n",
    "from PyTree import ClassificationTree as ct\n",
    "import ipywidgets as widgets\n",
    "\n",
    "color_map = {'Marienkäfer': 'orange', 'Raupe': 'lightblue'}\n",
    "\n",
    "data_x = \"Breite\"\n",
    "data_y = \"Länge\"\n",
    "target = \"Insekt\"\n",
    "breite=800\n",
    "hoehe=600"
   ]
  },
  {
   "cell_type": "code",
   "execution_count": null,
   "metadata": {
    "slideshow": {
     "slide_type": "slide"
    }
   },
   "outputs": [],
   "source": [
    "df_kaefer = pd.read_csv(\"Daten/Kaefer_20_int_mm.csv\", sep=\";\")\n",
    "display(df_kaefer)"
   ]
  },
  {
   "cell_type": "code",
   "execution_count": null,
   "metadata": {},
   "outputs": [],
   "source": [
    "max_x = max(df_kaefer [\"Breite\"])\n",
    "min_x = min(df_kaefer [\"Breite\"])\n",
    "max_y = max(df_kaefer [\"Länge\"])\n",
    "min_y = min(df_kaefer [\"Länge\"])\n",
    "\n",
    "delta_x = (max_x - min_x)\n",
    "delta_y = (max_y - min_y)\n",
    "\n",
    "bereich_x = [int(min_x - delta_x*0.05), int(max_x + delta_x*0.05)]\n",
    "bereich_y = [int(min_y - delta_y*0.05), int(max_y + delta_y*0.05)]"
   ]
  },
  {
   "cell_type": "markdown",
   "metadata": {
    "slideshow": {
     "slide_type": "slide"
    }
   },
   "source": [
    "## Schwellenwert"
   ]
  },
  {
   "cell_type": "markdown",
   "metadata": {
    "slideshow": {
     "slide_type": "fragment"
    }
   },
   "source": [
    "<div class=\"alert alert-block alert-info\">\n",
    "\n",
    "**Zur Erinnerung** hier nochmal das Streudiagramm:"
   ]
  },
  {
   "cell_type": "code",
   "execution_count": null,
   "metadata": {
    "slideshow": {
     "slide_type": "slide"
    }
   },
   "outputs": [],
   "source": [
    "fig = px.scatter(\n",
    "    df_kaefer,\n",
    "    x=data_x,\n",
    "    y=data_y,\n",
    "    color=target,\n",
    "    color_discrete_map=color_map,\n",
    "    width=breite,\n",
    "    height=hoehe,\n",
    "    range_x=bereich_x,\n",
    "    range_y=bereich_y,\n",
    ")\n",
    "\n",
    "fig.update_traces(marker=dict(size=10, line=dict(width=1, color=\"black\")))\n",
    "\n",
    "fig.show()"
   ]
  },
  {
   "cell_type": "markdown",
   "metadata": {
    "slideshow": {
     "slide_type": "skip"
    }
   },
   "source": [
    "<div class=\"alert alert-block alert-success\">\n",
    "\n",
    "**Wie können wir anhand dieser Graphik die Raupen und die Marienkäfer unterscheiden?**"
   ]
  },
  {
   "cell_type": "markdown",
   "metadata": {
    "slideshow": {
     "slide_type": "slide"
    }
   },
   "source": [
    "<div class=\"alert alert-block alert-success\">\n",
    "Das obige Streudiagramm wird durch eine Kleinigkeit ergänzt. "
   ]
  },
  {
   "cell_type": "code",
   "execution_count": null,
   "metadata": {
    "slideshow": {
     "slide_type": "slide"
    }
   },
   "outputs": [],
   "source": [
    "hor = 59\n",
    "fig = px.scatter(\n",
    "    df_kaefer,\n",
    "    x=data_x,\n",
    "    y=data_y,\n",
    "    color=target,\n",
    "    color_discrete_map=color_map,\n",
    "    width=breite,\n",
    "    height=hoehe,\n",
    "    range_x=bereich_x,\n",
    "    range_y=bereich_y,\n",
    ")\n",
    "\n",
    "fig.update_traces(marker=dict(size=10, line=dict(width=1, color=\"black\")))\n",
    "\n",
    "fig.update_layout(\n",
    "    shapes=[\n",
    "        dict(\n",
    "            type=\"line\",\n",
    "            yref=\"y1\",\n",
    "            y0=hor,\n",
    "            y1=hor,\n",
    "            xref=\"x1\",\n",
    "            x0=bereich_x[0],\n",
    "            x1=bereich_x[1],\n",
    "            line=dict(color=\"Red\", width=1),\n",
    "        )\n",
    "    ]\n",
    ")\n",
    "\n",
    "fig.add_annotation(\n",
    "    x=60, y=hor, text=\"Schwellenwert der Länge=\" + str(hor), showarrow=True,\n",
    ")\n",
    "\n",
    "fig.show()"
   ]
  },
  {
   "cell_type": "markdown",
   "metadata": {
    "slideshow": {
     "slide_type": "fragment"
    }
   },
   "source": [
    "<div class=\"alert alert-block alert-warning\">\n",
    "\n",
    "#### *Aufgabe:* \n",
    "    \n",
    "Beschreibe, welche Bedeutung die eingezeichnete waagerechte Linie hat.\n",
    "    \n",
    "- *Beachte, dass einige Marker genau auf der Linie liegen!* \n",
    "    \n",
    "   - **Diese Marker gehören dann zu dem Bereich unterhalb der Linie!**\n",
    "\n",
    "- Welche Maße haben diese Insekten?\n"
   ]
  },
  {
   "cell_type": "markdown",
   "metadata": {
    "slideshow": {
     "slide_type": "skip"
    }
   },
   "source": [
    "<div class=\"alert alert-block alert-info\">\n",
    "    \n",
    "Hier bitte deine Beschreibung eingeben.\n",
    "    \n",
    "</div>"
   ]
  },
  {
   "cell_type": "markdown",
   "metadata": {},
   "source": [
    "<div class=\"alert alert-block alert-warning\">\n",
    "\n",
    "#### *Aufgabe:* \n",
    "   \n",
    "Nehmen wir jetzt einmal an, dass wir alle Insekten in zwei Klassen einteilen:\n",
    "    \n",
    "- Insekten, deren Marker oberhalb der eingezeichneten Linie liegt.\n",
    "    - Wir nennen sie ***Raupe***.\n",
    "- Insekten, deren Marker auf der Linie oder unterhalb der Linie liegt.\n",
    "    - Wir nennen sie ***Käfer***.\n",
    "    \n",
    "Finde heraus, wie viele Insekten dann falsch benannt werden."
   ]
  },
  {
   "cell_type": "markdown",
   "metadata": {},
   "source": [
    "<div class=\"alert alert-block alert-info\">\n",
    "    \n",
    "Hier bitte deine Lösung eingeben.\n",
    "    \n",
    "</div>"
   ]
  },
  {
   "cell_type": "markdown",
   "metadata": {
    "slideshow": {
     "slide_type": "slide"
    }
   },
   "source": [
    "<div class=\"alert alert-block alert-success\">\n",
    "\n",
    "**Der** ***Schwellenwert*** **ist der Wert eines Attributes, der die Daten in zwei Klassen aufteilt.**\n",
    "    \n",
    "In dem dargestellten Diagramm ist der Schwellenwert 59\n",
    "    \n",
    "In dem Beispiel gibt es zwei Arten von Insekten:\n",
    "- Insekten, deren Länge größer ist als der Schwellenwert 59\n",
    "- Insekten, deren Länge nicht größer ist als der Schwellenwert 59, die also 59 mm lang oder kürzer als 59 mm sind.\n",
    "    \n",
    "**Man erkennt, dass alle Insekten, deren Länge größer ist als der Schwellenwert 59, Raupen sind.**"
   ]
  },
  {
   "cell_type": "markdown",
   "metadata": {
    "slideshow": {
     "slide_type": "fragment"
    }
   },
   "source": [
    "<div class=\"alert alert-block alert-warning\">\n",
    "\n",
    "#### *Aufgabe:*\n",
    "\n",
    "Begründe, weshalb man keine Aussage über diejenigen Insekten machen kann, deren Länge nicht größer als 59 ist."
   ]
  },
  {
   "cell_type": "markdown",
   "metadata": {},
   "source": [
    "<div class=\"alert alert-block alert-info\">\n",
    "    \n",
    "Hier bitte deine Begründung eingeben.\n",
    "    \n",
    "</div>"
   ]
  },
  {
   "cell_type": "markdown",
   "metadata": {
    "slideshow": {
     "slide_type": "slide"
    }
   },
   "source": [
    "### Fehler bei der Wahl des Schwellenwertes"
   ]
  },
  {
   "cell_type": "markdown",
   "metadata": {
    "slideshow": {
     "slide_type": "fragment"
    }
   },
   "source": [
    "<div class=\"alert alert-block alert-success\">\n",
    "    \n",
    "Schau dir noch einmal das Streudiagramm an, in dem der Schwellenwert 59 als waagerechte Linie dargestellt ist.\n",
    "    \n",
    "Diese Linie teilt die Graphik in zwei Teile. Das wird noch durch unterlegte Farben verdeutlicht: "
   ]
  },
  {
   "cell_type": "code",
   "execution_count": null,
   "metadata": {
    "hide_input": false,
    "slideshow": {
     "slide_type": "slide"
    }
   },
   "outputs": [],
   "source": [
    "hor = 60\n",
    "fig = px.scatter(\n",
    "    df_kaefer,\n",
    "    x=data_x,\n",
    "    y=data_y,\n",
    "    color=target,\n",
    "    color_discrete_map=color_map,\n",
    "    width=breite,\n",
    "    height=hoehe,\n",
    "    range_x=bereich_x,\n",
    "    range_y=bereich_y,\n",
    ")\n",
    "\n",
    "fig.update_traces(marker=dict(size=10, line=dict(width=1, color=\"black\")))\n",
    "\n",
    "fig.update_layout(\n",
    "    shapes=[\n",
    "        dict(\n",
    "            type=\"line\",\n",
    "            yref=\"y1\",\n",
    "            y0=hor,\n",
    "            y1=hor,\n",
    "            xref=\"x1\",\n",
    "            x0=bereich_x[0],\n",
    "            x1=bereich_x[1],\n",
    "            line=dict(color=\"Red\", width=1),\n",
    "        ),\n",
    "        dict(\n",
    "            type=\"rect\",\n",
    "            yref=\"y1\",\n",
    "            y0=hor,\n",
    "            y1=bereich_y[1],\n",
    "            xref=\"x1\",\n",
    "            x0=bereich_x[0],\n",
    "            x1=bereich_x[1],\n",
    "            fillcolor=color_map[\"Raupe\"],\n",
    "            opacity=0.3,\n",
    "            layer=\"below\",\n",
    "            line_width=0,\n",
    "        ),\n",
    "        dict(\n",
    "            type=\"rect\",\n",
    "            yref=\"y1\",\n",
    "            y0=bereich_y[0],\n",
    "            y1=hor,\n",
    "            xref=\"x1\",\n",
    "            x0=bereich_x[0],\n",
    "            x1=bereich_x[1],\n",
    "            fillcolor=color_map[\"Marienkäfer\"],\n",
    "            opacity=0.3,\n",
    "            layer=\"below\",\n",
    "            line_width=0,\n",
    "        ),\n",
    "    ]\n",
    ")\n",
    "\n",
    "fig.add_annotation(\n",
    "    x=60, y=hor, text=\"Schwellenwert der Länge=\" + str(hor), showarrow=True,\n",
    ")\n",
    "\n",
    "fig.show()"
   ]
  },
  {
   "cell_type": "markdown",
   "metadata": {
    "solution2": "shown",
    "solution2_first": true
   },
   "source": [
    "<div class=\"alert alert-block alert-success\">\n",
    "    \n",
    "Mehrere Insekten sind Raupen, obwohl ihre Länge nicht größer als 59 ist.\n",
    "    \n",
    "Wenn wir also alle diese Insekten als Käfer klassifizieren würden, hätten wir einige Fehler gemacht. \n",
    "    \n",
    "- **Du kannst ja einmal zählen, wie viele Fehler das sind.**\n",
    "    \n",
    "Wenn du dir nicht sicher bist, welche Maße das Insekt hat, kannst Du dazu den Cursor auf die jeweilige Marke bewegen; dann wird die zug. Länge angezeigt. Wenn dieser Wert kleiner oder gleich 59 und das Insekt eine Raupe ist, ist das Insekt also fehlerhaft klassifiziert.\n",
    "    \n",
    "**Hinweis:** Wenn eine Marke genau auf der Linie liegt, wird sie zu dem unteren Bereich gezähl!\n",
    "    \n",
    "Das Zählen ist wahrscheinlich mühsam. Ein kleines Programm nimmt dir die Arbeit ab. Kontrolliere, ob du korrekt gezählt hast. Öffne dazu die Lösung und aktiviere die Zelle."
   ]
  },
  {
   "cell_type": "code",
   "execution_count": null,
   "metadata": {
    "solution2": "shown"
   },
   "outputs": [],
   "source": [
    "tree = ct.DecisionTree(target=target, data=df_kaefer)\n",
    "tree.manual_split(attribute=\"Länge\", threshold=69, node_nr=1)\n",
    "tree.calculate_errors(data=df_kaefer)"
   ]
  },
  {
   "cell_type": "markdown",
   "metadata": {
    "solution2": "hidden",
    "solution2_first": true
   },
   "source": [
    "<div class=\"alert alert-block alert-warning\">\n",
    "\n",
    "#### *Aufgabe:*\n",
    "\n",
    "Die waagerechte Linie wurde auf der Höhe von `Länge=59` in das Diagramm intuitiv eingezeichnet. Der Wert 62 wäre sicherlich auch möglich gewesen. \n",
    "    \n",
    "*Wie viele Fehlklassifikationen hätten sich dann ergeben?*"
   ]
  },
  {
   "cell_type": "markdown",
   "metadata": {
    "solution2": "hidden"
   },
   "source": [
    "Es wären dann 5 Insekten falsch zugeordnet worden. Siehe dazu auch das kleine Programm hier:  "
   ]
  },
  {
   "cell_type": "code",
   "execution_count": null,
   "metadata": {
    "solution2": "hidden"
   },
   "outputs": [],
   "source": [
    "tree = ct.DecisionTree(target=target, data=df_kaefer)\n",
    "tree.manual_split(attribute=\"Länge\", threshold=62, node_nr=1)\n",
    "tree.calculate_errors(data=df_kaefer)"
   ]
  },
  {
   "cell_type": "markdown",
   "metadata": {},
   "source": [
    "## Bester Schwellenwert"
   ]
  },
  {
   "cell_type": "markdown",
   "metadata": {},
   "source": [
    "<div class=\"alert alert-block alert-warning\">\n",
    "Jetzt kannst Du einmal versuchen, andere Schwellenwert zu nutzen.\n",
    "\n",
    "- Dazu kannst du in der folgenden Zelle mit dem Schieber den Schwellenwert verändern. \n",
    "- Alternativ kannst du in der übernächsten Zelle den Schwellenwert in einer Eingabebox auswählen. \n",
    "\n",
    "Das entsprechende Streudiagramm mit der Angabe der Fehlklassifikationen wird dann angezeigt."
   ]
  },
  {
   "cell_type": "code",
   "execution_count": null,
   "metadata": {},
   "outputs": [],
   "source": [
    "def fehler_laenge(schwellenwert):\n",
    "    anz = 0\n",
    "    for i in range (len (df_kaefer[\"Länge\"])):\n",
    "        if df_kaefer[\"Länge\"][i] <= schwellenwert and df_kaefer[\"Insekt\"][i] == \"Raupe\":\n",
    "            anz += 1\n",
    "    for i in range (len (df_kaefer[\"Länge\"])):\n",
    "        if df_kaefer[\"Länge\"][i] > schwellenwert and df_kaefer[\"Insekt\"][i] == \"Marienkäfer\":\n",
    "            anz += 1\n",
    "    return anz"
   ]
  },
  {
   "cell_type": "code",
   "execution_count": null,
   "metadata": {},
   "outputs": [],
   "source": [
    "start = (min_y + max_y) // 2\n",
    "\n",
    "slider_l = widgets.FloatSlider(\n",
    "    value=start,\n",
    "    min=int(min_y+1),\n",
    "    max=int(max_y-1),\n",
    "    step=1,\n",
    "    description=\"\",\n",
    "    layout=widgets.Layout(width=\"50%\"),\n",
    ")\n",
    "\n",
    "\n",
    "def fehlersumme_l(threshold):\n",
    "    tree = ct.DecisionTree(target=target, data=df_kaefer)\n",
    "    tree.manual_split(attribute=\"Länge\", threshold=threshold, node_nr=1)\n",
    "    return fehler_laenge (threshold)\n",
    "    # return tree.calculate_errors(data=df_kaefer)\n",
    "\n",
    "\n",
    "def makeFigure_l(schwellenwert):\n",
    "    fig = px.scatter(\n",
    "        df_kaefer,\n",
    "        x=data_x,\n",
    "        y=data_y,\n",
    "        color=target,\n",
    "        color_discrete_map=color_map,\n",
    "        width=breite,\n",
    "        height=hoehe,\n",
    "        range_x=bereich_x,\n",
    "        range_y=bereich_y,\n",
    "    )\n",
    "\n",
    "    fig.update_traces(marker=dict(size=10, line=dict(width=1, color=\"black\")))\n",
    "\n",
    "    fig.update_layout(\n",
    "        shapes=[\n",
    "            dict(\n",
    "                type=\"line\",\n",
    "                yref=\"y1\",\n",
    "                y0=schwellenwert,\n",
    "                y1=schwellenwert,\n",
    "                xref=\"x1\",\n",
    "                x0=bereich_x[0],\n",
    "                x1=bereich_x[1],\n",
    "                line=dict(color=\"Red\", width=1),\n",
    "            ),\n",
    "            dict(\n",
    "                type=\"rect\",\n",
    "                yref=\"y1\",\n",
    "                y0=schwellenwert,\n",
    "                y1=bereich_y[1],\n",
    "                xref=\"x1\",\n",
    "                x0=bereich_x[0],\n",
    "                x1=bereich_x[1],\n",
    "                fillcolor=color_map[\"Raupe\"],\n",
    "                opacity=0.3,\n",
    "                layer=\"below\",\n",
    "                line_width=0,\n",
    "            ),\n",
    "            dict(\n",
    "                type=\"rect\",\n",
    "                yref=\"y1\",\n",
    "                y0=bereich_y[0],\n",
    "                y1=schwellenwert,\n",
    "                xref=\"x1\",\n",
    "                x0=bereich_x[0],\n",
    "                x1=bereich_x[1],\n",
    "                fillcolor=color_map[\"Marienkäfer\"],\n",
    "                opacity=0.3,\n",
    "                layer=\"below\",\n",
    "                line_width=0,\n",
    "            ),\n",
    "        ]\n",
    "    )\n",
    "\n",
    "    fig.add_annotation(\n",
    "        x=62,\n",
    "        y=schwellenwert,\n",
    "        text=\"SW=\" + str(int(schwellenwert)),\n",
    "        showarrow=True,\n",
    "        xshift=20,\n",
    "    )\n",
    "\n",
    "    fig.add_annotation(\n",
    "        x=63,\n",
    "        y=schwellenwert,\n",
    "        text=\"Fehler: \" + str(fehlersumme_l(schwellenwert)),\n",
    "        showarrow=False,\n",
    "        yshift=50,\n",
    "    )\n",
    "    return fig\n",
    "\n",
    "\n",
    "def on_value_change_l(event):\n",
    "\n",
    "    with output_l:\n",
    "        output_l.clear_output()\n",
    "        sw_l = event[\"new\"]\n",
    "        fs_l = fehlersumme_l(sw_l)\n",
    "        fig = makeFigure_l(sw_l)\n",
    "        fig.show()\n",
    "\n",
    "\n",
    "slider_l.observe(on_value_change_l, names=\"value\")\n",
    "\n",
    "output_l = widgets.interactive_output(fehlersumme_l, {\"threshold\": slider_l})\n",
    "\n",
    "display(\n",
    "    widgets.VBox([widgets.Label(\"Schwellenwert für die Länge\"), slider_l, output_l])\n",
    ")\n",
    "sw_l = start\n",
    "fs_l = fehlersumme_l(sw_l)\n",
    "fig = makeFigure_l(sw_l)\n",
    "with output_l:\n",
    "    fig.show()"
   ]
  },
  {
   "cell_type": "code",
   "execution_count": null,
   "metadata": {},
   "outputs": [],
   "source": [
    "start = (min_y + max_y) // 2\n",
    "\n",
    "sw_widget = widgets.BoundedFloatText(\n",
    "    value=start,\n",
    "    min=int(min_y+1),\n",
    "    max=int(max_y-1),\n",
    "    step=1,\n",
    "    description=\"\",\n",
    "    layout=widgets.Layout(width=\"20%\"),\n",
    "\n",
    "    disabled=False\n",
    ")\n",
    "\n",
    "\n",
    "def fehlersumme_l(threshold):\n",
    "    tree = ct.DecisionTree(target=target, data=df_kaefer)\n",
    "    tree.manual_split(attribute=\"Länge\", threshold=threshold, node_nr=1)\n",
    "    return fehler_laenge (threshold)\n",
    "    # return tree.calculate_errors(data=df_kaefer)\n",
    "\n",
    "\n",
    "def makeFigure_l(schwellenwert):\n",
    "    fig = px.scatter(\n",
    "        df_kaefer,\n",
    "        x=data_x,\n",
    "        y=data_y,\n",
    "        color=target,\n",
    "        color_discrete_map=color_map,\n",
    "        width=breite,\n",
    "        height=hoehe,\n",
    "        range_x=bereich_x,\n",
    "        range_y=bereich_y,\n",
    "    )\n",
    "\n",
    "    fig.update_traces(marker=dict(size=10, line=dict(width=1, color=\"black\")))\n",
    "\n",
    "    fig.update_layout(\n",
    "        shapes=[\n",
    "            dict(\n",
    "                type=\"line\",\n",
    "                yref=\"y1\",\n",
    "                y0=schwellenwert,\n",
    "                y1=schwellenwert,\n",
    "                xref=\"x1\",\n",
    "                x0=bereich_x[0],\n",
    "                x1=bereich_x[1],\n",
    "                line=dict(color=\"Red\", width=1),\n",
    "            ),\n",
    "            dict(\n",
    "                type=\"rect\",\n",
    "                yref=\"y1\",\n",
    "                y0=schwellenwert,\n",
    "                y1=bereich_y[1],\n",
    "                xref=\"x1\",\n",
    "                x0=bereich_x[0],\n",
    "                x1=bereich_x[1],\n",
    "                fillcolor=color_map[\"Raupe\"],\n",
    "                opacity=0.3,\n",
    "                layer=\"below\",\n",
    "                line_width=0,\n",
    "            ),\n",
    "            dict(\n",
    "                type=\"rect\",\n",
    "                yref=\"y1\",\n",
    "                y0=bereich_y[0],\n",
    "                y1=schwellenwert,\n",
    "                xref=\"x1\",\n",
    "                x0=bereich_x[0],\n",
    "                x1=bereich_x[1],\n",
    "                fillcolor=color_map[\"Marienkäfer\"],\n",
    "                opacity=0.3,\n",
    "                layer=\"below\",\n",
    "                line_width=0,\n",
    "            ),\n",
    "        ]\n",
    "    )\n",
    "\n",
    "    fig.add_annotation(\n",
    "        x=62,\n",
    "        y=schwellenwert,\n",
    "        text=\"SW=\" + str(int(schwellenwert)),\n",
    "        showarrow=True,\n",
    "        xshift=20,\n",
    "    )\n",
    "\n",
    "    fig.add_annotation(\n",
    "        x=63,\n",
    "        y=schwellenwert,\n",
    "        text=\"Fehler: \" + str(fehlersumme_l(schwellenwert)),\n",
    "        showarrow=False,\n",
    "        yshift=50,\n",
    "    )\n",
    "    return fig\n",
    "\n",
    "\n",
    "def on_value_change_l(event):\n",
    "\n",
    "    with output_l:\n",
    "        output_l.clear_output()\n",
    "        sw_l = event[\"new\"]\n",
    "        fs_l = fehlersumme_l(sw_l)\n",
    "        fig = makeFigure_l(sw_l)\n",
    "        fig.show()\n",
    "\n",
    "\n",
    "sw_widget.observe(on_value_change_l, names=\"value\")\n",
    "\n",
    "output_l = widgets.interactive_output(fehlersumme_l, {\"threshold\": sw_widget})\n",
    "\n",
    "display(\n",
    "    widgets.VBox([widgets.Label(\"Schwellenwert für die Länge\"), sw_widget, output_l])\n",
    ")\n",
    "sw_l = start\n",
    "fs_l = fehlersumme_l(sw_l)\n",
    "fig = makeFigure_l(sw_l)\n",
    "with output_l:\n",
    "    fig.show()"
   ]
  },
  {
   "cell_type": "markdown",
   "metadata": {
    "solution2": "shown",
    "solution2_first": true
   },
   "source": [
    "<div class=\"alert alert-block alert-warning\">\n",
    "\n",
    "#### *Aufgabe:*\n",
    "\n",
    "Bei welchem Schwellenwert ist die Anzahl der Fehler am kleinsten? (Es gibt wahrscheinlich mehrere davon!)\n",
    "    \n",
    "- Aktiviere die Zelle, in der der beste Schwellenwert definiert ist.\n",
    "- Führe dann die darauf folgende Zelle aus.\n",
    "    \n",
    "Dann erkennst du erneut die waagerechte Aufteilung der 20 Insekten in zwei Klassen."
   ]
  },
  {
   "cell_type": "code",
   "execution_count": null,
   "metadata": {
    "solution2": "shown"
   },
   "outputs": [],
   "source": [
    " # besterSchwellenwert zum Beispiel\n",
    "besterSchwellenwert = 52"
   ]
  },
  {
   "cell_type": "code",
   "execution_count": null,
   "metadata": {
    "hide_input": false,
    "solution2": "shown"
   },
   "outputs": [],
   "source": [
    "hor = besterSchwellenwert\n",
    "fig = px.scatter(\n",
    "    df_kaefer,\n",
    "    x=data_x,\n",
    "    y=data_y,\n",
    "    color=target,\n",
    "    color_discrete_map=color_map,\n",
    "    width=breite,\n",
    "    height=hoehe,\n",
    "    range_x=bereich_x,\n",
    "    range_y=bereich_y,\n",
    ")\n",
    "\n",
    "fig.update_traces(marker=dict(size=10, line=dict(width=1, color=\"black\")))\n",
    "\n",
    "fig.update_layout(\n",
    "    shapes=[\n",
    "        dict(\n",
    "            type=\"line\",\n",
    "            yref=\"y1\",\n",
    "            y0=hor,\n",
    "            y1=hor,\n",
    "            xref=\"x1\",\n",
    "            x0=bereich_x[0],\n",
    "            x1=bereich_x[1],\n",
    "            line=dict(color=\"Red\", width=1),\n",
    "        ),\n",
    "        dict(\n",
    "            type=\"rect\",\n",
    "            yref=\"y1\",\n",
    "            y0=hor,\n",
    "            y1=bereich_y[1],\n",
    "            xref=\"x1\",\n",
    "            x0=bereich_x[0],\n",
    "            x1=bereich_x[1],\n",
    "            fillcolor=color_map[\"Raupe\"],\n",
    "            opacity=0.3,\n",
    "            layer=\"below\",\n",
    "            line_width=0,\n",
    "        ),\n",
    "        dict(\n",
    "            type=\"rect\",\n",
    "            yref=\"y1\",\n",
    "            y0=bereich_y[0],\n",
    "            y1=hor,\n",
    "            xref=\"x1\",\n",
    "            x0=bereich_x[0],\n",
    "            x1=bereich_x[1],\n",
    "            fillcolor=color_map[\"Marienkäfer\"],\n",
    "            opacity=0.3,\n",
    "            layer=\"below\",\n",
    "            line_width=0,\n",
    "        ),\n",
    "    ]\n",
    ")\n",
    "\n",
    "fig.add_annotation(\n",
    "    x=55, y=hor, text=\"Möglicher bester Schwellenwert=\" + str(hor), showarrow=True,\n",
    ")\n",
    "\n",
    "fig.show()"
   ]
  },
  {
   "cell_type": "markdown",
   "metadata": {},
   "source": [
    "<div class=\"alert alert-block alert-success\">\n",
    "    \n",
    "Es kann passieren, dass in dem  Streudiagramm oberhalb der waagerechten Linie, die den besten Schwellenwert darstellt, auch Symbole für Marienkäfer auftauchen.\n",
    "        \n",
    "Das erscheint auf den ersten Blick seltsam! Denn bei einem Schwellenwert von 59 wurden **alle** Käfer richtig erkannt. Einige Raupen (nämlich 4), deren Länge nicht größer als 59 ist, wurden fälschlicherweise als Käfer klassifiziert.\n",
    "\n",
    "Benutzt man als Schwellenwert jetzt den Wert 52, werden sowohl einige Raupen als auch einige Käfer falsch klassifiziert. Insbesondere entstehen jetzt auch Fehler bei Käfern.\n",
    "    \n",
    "**Jedoch ist wichtig zu bedenken:**\n",
    "    \n",
    "- Wenn man als Schwellenwert 59 benutzt, werden 4 Insekten falsch klassifiziert.\n",
    "- Wenn man als Schwellenwert 52 benutzt, werden nur 3 Insekten falsch klassifiziert. Die Gesamtzahl der Fehler ist dann also am geringsten.\n",
    "    \n",
    "Der für uns **beste Schwellenwert** ist also derjenige Wert, bei dem insgesamt die wenigsten Fehler gemacht werden, und **nicht** der Wert, bei dem alle Objekte einer Klasse (hier z.B. alle Marienkäfer) korrekt klassifiziert werden.\n",
    "    \n",
    "**Hinweis:** Es gibt noch andere Kriterien, einen möglichst guten Schwellenwert zu definieren. Wir benutzen hier denjenigen Schwellenwert, bei dem möglichst wenige Insekten falsch klassifiziert werden."
   ]
  },
  {
   "cell_type": "markdown",
   "metadata": {},
   "source": [
    "<div class=\"alert alert-block alert-success\">\n",
    "    \n",
    "Mit Hilfe des Schwellenwertes haben wir einen sog. **Datensplit** erzeugt, haben also die 20 Daten in zwei Teile geteilt:\n",
    "- Ein Teil der Daten wurde als Raupe gekennzeichnet.\n",
    "    - Das waren diejenigen Insekten, die länger als 52 sind.\n",
    "- Der andere Teil, also die Insekten, die *nicht* länger als 52 sind, wurden als Marienkäfer bezeichnet.\n",
    "    \n",
    "**Beachte**, dass es dabei zu einigen Fehlbezeichnungen gekommen ist. \n",
    "    \n",
    "Bei genauem Hinsehen erkennt man sogar weitere Details:\n",
    "- 1 Marienkäfer mit einer Länge von 55 wird fälschlicherweise als Raupe bezeichnet.\n",
    "- 2 Raupen, die alle eine Länge von 55 oder weniger haben, werden als Käfer interpretiert.\n",
    "    "
   ]
  },
  {
   "cell_type": "markdown",
   "metadata": {},
   "source": [
    "## Klassifikation mit Hilfe der Breite der Insekten"
   ]
  },
  {
   "cell_type": "markdown",
   "metadata": {},
   "source": [
    "<div class=\"alert alert-block alert-success\">\n",
    "\n",
    "In dem Streudiagramm erkennt man, dass bei einem Schwellenwert von 0.51 einige (14) Insekten fehlerhaft klassifiziert werden.\n",
    "    \n",
    "Jedoch haben wir bisher die ausschließlich Länge der Insekten benutzt, um die beiden Klassen zu unterscheiden.\n",
    "    \n",
    "In den folgenden beiden Zellen kannst du statt der Länge jetzt einmal probieren, einen guten Schwellenwert für die Breite der Insekten zu finden.\n",
    "    \n",
    "- Du findest dort erneut einen Schieberegler oder eine Eingabebox, so dass du einen Schwellenwert für die Breite einstellen kannst. Das Streudiagramm und die Fehlklassifikationen werden dann angezeigt."
   ]
  },
  {
   "cell_type": "code",
   "execution_count": null,
   "metadata": {
    "scrolled": false
   },
   "outputs": [],
   "source": [
    "start = (min_x + max_x) // 2\n",
    "\n",
    "slider_r = widgets.FloatSlider(\n",
    "    value=start,\n",
    "    min=int(min_x+1),\n",
    "    max=int(max_x-1),\n",
    "    step=1,\n",
    "    description=\"\",\n",
    "    layout=widgets.Layout(width=\"50%\"),\n",
    ")\n",
    "\n",
    "\n",
    "def fehlersumme_r(threshold):\n",
    "    tree = ct.DecisionTree(target=target, data=df_kaefer)\n",
    "    tree.manual_split(attribute=\"Breite\", threshold=threshold, node_nr=1)\n",
    "    return tree.calculate_errors(data=df_kaefer)\n",
    "\n",
    "\n",
    "def makeFigure_r(schwellenwert):\n",
    "    fig = px.scatter(\n",
    "        df_kaefer,\n",
    "        x=data_x,\n",
    "        y=data_y,\n",
    "        color=target,\n",
    "        color_discrete_map=color_map,\n",
    "        width=breite,\n",
    "        height=hoehe,\n",
    "        range_x=bereich_x,\n",
    "        range_y=bereich_y,\n",
    "    )\n",
    "\n",
    "    fig.update_traces(marker=dict(size=10, line=dict(width=1, color=\"black\")))\n",
    "\n",
    "    fig.update_layout(\n",
    "        shapes=[\n",
    "            dict(\n",
    "                type=\"line\",\n",
    "                yref=\"y1\",\n",
    "                x0=schwellenwert,\n",
    "                x1=schwellenwert,\n",
    "                xref=\"x1\",\n",
    "                y0=bereich_y[0],\n",
    "                y1=bereich_y[1],\n",
    "                line=dict(color=\"Red\", width=1),\n",
    "            ),\n",
    "            dict(\n",
    "                type=\"rect\",\n",
    "                yref=\"y1\",\n",
    "                x0=schwellenwert,\n",
    "                x1=bereich_x[1],\n",
    "                xref=\"x1\",\n",
    "                y0=bereich_y[0],\n",
    "                y1=bereich_y[1],\n",
    "                fillcolor=color_map[\"Marienkäfer\"],\n",
    "                opacity=0.3,\n",
    "                layer=\"below\",\n",
    "                line_width=0,\n",
    "            ),\n",
    "            dict(\n",
    "                type=\"rect\",\n",
    "                yref=\"y1\",\n",
    "                x0=bereich_x[0],\n",
    "                x1=schwellenwert,\n",
    "                xref=\"x1\",\n",
    "                y0=bereich_y[0],\n",
    "                y1=bereich_y[1],\n",
    "                fillcolor=color_map[\"Raupe\"],\n",
    "                opacity=0.3,\n",
    "                layer=\"below\",\n",
    "                line_width=0,\n",
    "            ),\n",
    "        ]\n",
    "    )\n",
    "\n",
    "    fig.add_annotation(\n",
    "        y=80,\n",
    "        x=schwellenwert,\n",
    "        text=\"Schwellenwert der Breite=\" + str(int(schwellenwert)),\n",
    "        showarrow=False,\n",
    "        # xshift=20,\n",
    "    )\n",
    "\n",
    "    fig.add_annotation(\n",
    "        y=75,\n",
    "        x=schwellenwert,\n",
    "        text=\"Fehler: \" + str(fehlersumme_r(schwellenwert)),\n",
    "        showarrow=False,\n",
    "        #yshift=-20,\n",
    "    )\n",
    "    return fig\n",
    "\n",
    "\n",
    "def on_value_change_r(event):\n",
    "\n",
    "    with output_r:\n",
    "        output_r.clear_output()\n",
    "        sw_r = event[\"new\"]\n",
    "        fs_r = fehlersumme_r(sw_r)\n",
    "        fig = makeFigure_r(sw_r)\n",
    "        fig.show()\n",
    "\n",
    "\n",
    "slider_r.observe(on_value_change_r, names=\"value\")\n",
    "\n",
    "output_r = widgets.interactive_output(fehlersumme_r, {\"threshold\": slider_r})\n",
    "\n",
    "display(\n",
    "    widgets.VBox([widgets.Label(\"Schwellenwert für die Breite\"), slider_r, output_r])\n",
    ")\n",
    "sw_r = start\n",
    "fs_r = fehlersumme_l(sw_r)\n",
    "fig = makeFigure_r(sw_r)\n",
    "with output_r:\n",
    "    fig.show()"
   ]
  },
  {
   "cell_type": "code",
   "execution_count": null,
   "metadata": {},
   "outputs": [],
   "source": [
    "start = (min_x + max_x) // 2\n",
    "\n",
    "sr_widget = widgets.BoundedFloatText(\n",
    "    value=start,\n",
    "    min=int(min_x+1),\n",
    "    max=int(max_x-1),\n",
    "    step=1,\n",
    "    description=\"\",\n",
    "    layout=widgets.Layout(width=\"20%\"),\n",
    "\n",
    "    disabled=False\n",
    ")\n",
    "\n",
    "def fehlersumme_r(threshold):\n",
    "    tree = ct.DecisionTree(target=target, data=df_kaefer)\n",
    "    tree.manual_split(attribute=\"Breite\", threshold=threshold, node_nr=1)\n",
    "    return tree.calculate_errors(data=df_kaefer)\n",
    "\n",
    "def makeFigure_r(schwellenwert):\n",
    "    fig = px.scatter(\n",
    "        df_kaefer,\n",
    "        x=data_x,\n",
    "        y=data_y,\n",
    "        color=target,\n",
    "        color_discrete_map=color_map,\n",
    "        width=breite,\n",
    "        height=hoehe,\n",
    "        range_x=bereich_x,\n",
    "        range_y=bereich_y,\n",
    "    )\n",
    "\n",
    "    fig.update_traces(marker=dict(size=10, line=dict(width=1, color=\"black\")))\n",
    "\n",
    "    fig.update_layout(\n",
    "        shapes=[\n",
    "            dict(\n",
    "                type=\"line\",\n",
    "                yref=\"y1\",\n",
    "                x0=schwellenwert,\n",
    "                x1=schwellenwert,\n",
    "                xref=\"x1\",\n",
    "                y0=bereich_y[0],\n",
    "                y1=bereich_y[1],\n",
    "                line=dict(color=\"Red\", width=1),\n",
    "            ),\n",
    "            dict(\n",
    "                type=\"rect\",\n",
    "                yref=\"y1\",\n",
    "                x0=schwellenwert,\n",
    "                x1=bereich_x[1],\n",
    "                xref=\"x1\",\n",
    "                y0=bereich_y[0],\n",
    "                y1=bereich_y[1],\n",
    "                fillcolor=color_map[\"Marienkäfer\"],\n",
    "                opacity=0.3,\n",
    "                layer=\"below\",\n",
    "                line_width=0,\n",
    "            ),\n",
    "            dict(\n",
    "                type=\"rect\",\n",
    "                yref=\"y1\",\n",
    "                x0=bereich_x[0],\n",
    "                x1=schwellenwert,\n",
    "                xref=\"x1\",\n",
    "                y0=bereich_y[0],\n",
    "                y1=bereich_y[1],\n",
    "                fillcolor=color_map[\"Raupe\"],\n",
    "                opacity=0.3,\n",
    "                layer=\"below\",\n",
    "                line_width=0,\n",
    "            ),\n",
    "        ]\n",
    "    )\n",
    "\n",
    "    fig.add_annotation(\n",
    "        y=80,\n",
    "        x=schwellenwert,\n",
    "        text=\"Schwellenwert der Breite=\" + str(int(schwellenwert)),\n",
    "        showarrow=False,\n",
    "        # xshift=20,\n",
    "    )\n",
    "\n",
    "    fig.add_annotation(\n",
    "        y=75,\n",
    "        x=schwellenwert,\n",
    "        text=\"Fehler: \" + str(fehlersumme_r(schwellenwert)),\n",
    "        showarrow=False,\n",
    "        #yshift=-20,\n",
    "    )\n",
    "   \n",
    "    return fig\n",
    "\n",
    "\n",
    "def on_value_change_r(event):\n",
    "\n",
    "    with output_r:\n",
    "        output_r.clear_output()\n",
    "        sw_r = event[\"new\"]\n",
    "        fs_r = fehlersumme_r(sw_r)\n",
    "        fig = makeFigure_r(sw_r)\n",
    "        fig.show()\n",
    "\n",
    "\n",
    "sr_widget.observe(on_value_change_r, names=\"value\")\n",
    "\n",
    "output_r = widgets.interactive_output(fehlersumme_r, {\"threshold\": sr_widget})\n",
    "\n",
    "display(\n",
    "    widgets.VBox([widgets.Label(\"Schwellenwert für die Breite\"), sr_widget, output_r])\n",
    ")\n",
    "sw_r = start\n",
    "fs_r = fehlersumme_r(sw_r)\n",
    "fig = makeFigure_r(sw_r)\n",
    "with output_r:\n",
    "    fig.show()"
   ]
  },
  {
   "cell_type": "markdown",
   "metadata": {},
   "source": [
    "<div class=\"alert alert-block alert-warning\">\n",
    "\n",
    "#### *Aufgabe:*\n",
    "\n",
    "Bei welchem Schwellenwert ist die Anzahl der Fehler am kleinsten?"
   ]
  },
  {
   "cell_type": "markdown",
   "metadata": {},
   "source": [
    "<div class=\"alert alert-block alert-success\">\n",
    "\n",
    "Der beste Schwellenwert für die Breite beträgt 0.36, denn dabei werden 16 Insekten falsch klassifiziert.\n",
    "    \n",
    "In dem obigen Abschnitt\n",
    "    \n",
    "[Bester Schwellenwert](#Bester-Schwellenwert)\n",
    "    \n",
    "haben wir erkannt, dass 14 die minimale Anzahl der Fehlklassifikationen ist, wenn wir als Unterscheidungsmerkmal die Länge der Insekten benutzen. Das ist also offenbar besser als hier. Wir werden also die Insekten zunächst mit Hilfe der Länge klassifizieren."
   ]
  },
  {
   "cell_type": "code",
   "execution_count": null,
   "metadata": {},
   "outputs": [],
   "source": []
  },
  {
   "cell_type": "code",
   "execution_count": null,
   "metadata": {},
   "outputs": [],
   "source": []
  }
 ],
 "metadata": {
  "celltoolbar": "Slideshow",
  "hide_input": false,
  "kernelspec": {
   "display_name": "Python 3 (ipykernel)",
   "language": "python",
   "name": "python3"
  },
  "language_info": {
   "codemirror_mode": {
    "name": "ipython",
    "version": 3
   },
   "file_extension": ".py",
   "mimetype": "text/x-python",
   "name": "python",
   "nbconvert_exporter": "python",
   "pygments_lexer": "ipython3",
   "version": "3.10.13"
  },
  "latex_envs": {
   "LaTeX_envs_menu_present": true,
   "autoclose": false,
   "autocomplete": true,
   "bibliofile": "biblio.bib",
   "cite_by": "apalike",
   "current_citInitial": 1,
   "eqLabelWithNumbers": true,
   "eqNumInitial": 1,
   "hotkeys": {
    "equation": "Ctrl-E",
    "itemize": "Ctrl-I"
   },
   "labels_anchors": false,
   "latex_user_defs": false,
   "report_style_numbering": false,
   "user_envs_cfg": true
  },
  "toc": {
   "base_numbering": 1,
   "nav_menu": {},
   "number_sections": true,
   "sideBar": true,
   "skip_h1_title": true,
   "title_cell": "Table of Contents",
   "title_sidebar": "Contents",
   "toc_cell": false,
   "toc_position": {
    "height": "calc(100% - 180px)",
    "left": "10px",
    "top": "150px",
    "width": "165px"
   },
   "toc_section_display": true,
   "toc_window_display": true
  },
  "varInspector": {
   "cols": {
    "lenName": 16,
    "lenType": 16,
    "lenVar": 40
   },
   "kernels_config": {
    "python": {
     "delete_cmd_postfix": "",
     "delete_cmd_prefix": "del ",
     "library": "var_list.py",
     "varRefreshCmd": "print(var_dic_list())"
    },
    "r": {
     "delete_cmd_postfix": ") ",
     "delete_cmd_prefix": "rm(",
     "library": "var_list.r",
     "varRefreshCmd": "cat(var_dic_list()) "
    }
   },
   "types_to_exclude": [
    "module",
    "function",
    "builtin_function_or_method",
    "instance",
    "_Feature"
   ],
   "window_display": false
  }
 },
 "nbformat": 4,
 "nbformat_minor": 2
}
