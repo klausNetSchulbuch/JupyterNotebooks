{
 "cells": [
  {
   "cell_type": "markdown",
   "metadata": {},
   "source": [
    "# Wie können Marienkäfer von Raupen unterschieden werden?"
   ]
  },
  {
   "cell_type": "markdown",
   "metadata": {},
   "source": [
    "## Vorbereitung"
   ]
  },
  {
   "cell_type": "markdown",
   "metadata": {},
   "source": [
    "<div class=\"alert alert-block alert-success\">\n",
    "\n",
    "Uns liegt also ein Datensatz für 20 Marienkäfer und Raupen vor. Diese Daten benutzen wir, um das System zu **trainieren**, damit es später unbekannte Insekten als Käfer bzw. Raupe erkennen kann."
   ]
  },
  {
   "cell_type": "markdown",
   "metadata": {},
   "source": [
    "<div class=\"alert alert-block alert-info\">\n",
    "\n",
    "Zur Vorbereitung werden wieder einige notwendige Bibliotheken sowie die Daten eingelesen.\n",
    "    \n",
    "**Führe also die folgenden beiden Zellen aus:**"
   ]
  },
  {
   "cell_type": "code",
   "execution_count": null,
   "metadata": {},
   "outputs": [],
   "source": [
    "import pandas as pd\n",
    "import plotly.express as px\n",
    "from PyTree import ClassificationTree as ct\n",
    "import ipywidgets as widgets\n",
    "\n",
    "color_map = {'Marienkäfer': 'orange', 'Raupe': 'lightblue'}\n",
    "\n",
    "data_x = \"Breite\"\n",
    "data_y = \"Länge\"\n",
    "target = \"Insekt\"\n",
    "breite=800\n",
    "hoehe=600"
   ]
  },
  {
   "cell_type": "code",
   "execution_count": null,
   "metadata": {
    "scrolled": true
   },
   "outputs": [],
   "source": [
    "df_kaefer = pd.read_csv(\"Daten/Kaefer_20_int_mm.csv\", sep=\";\")\n",
    "display(df_kaefer)"
   ]
  },
  {
   "cell_type": "code",
   "execution_count": null,
   "metadata": {},
   "outputs": [],
   "source": [
    "max_x = max(df_kaefer [\"Breite\"])\n",
    "min_x = min(df_kaefer [\"Breite\"])\n",
    "max_y = max(df_kaefer [\"Länge\"])\n",
    "min_y = min(df_kaefer [\"Länge\"])\n",
    "\n",
    "delta_x = (max_x - min_x)\n",
    "delta_y = (max_y - min_y)\n",
    "\n",
    "bereich_x = [int(min_x - delta_x*0.05), int(max_x + delta_x*0.05)]\n",
    "bereich_y = [int(min_y - delta_y*0.05), int(max_y + delta_y*0.05)]"
   ]
  },
  {
   "cell_type": "markdown",
   "metadata": {},
   "source": [
    "## Entscheidungsbaum"
   ]
  },
  {
   "cell_type": "markdown",
   "metadata": {},
   "source": [
    "<div class=\"alert alert-block alert-success\">\n",
    "\n",
    "Die Idee vom **Schwellenwert** kann man auch anders darstellen. \n",
    "    \n",
    "Betrachten wir nochmal das Streudiagramm mit dem Schwellenwert `Länge 52`, in dem die Anzahl Fehlklassifikationen eingetragen ist: "
   ]
  },
  {
   "cell_type": "code",
   "execution_count": null,
   "metadata": {
    "hide_input": false
   },
   "outputs": [],
   "source": [
    "schwellenwert = 52\n",
    "\n",
    "def fehlersumme_l(threshold):\n",
    "    tree = ct.DecisionTree(target=target, data=df_kaefer)\n",
    "    tree.manual_split(attribute=\"Länge\", threshold=threshold, node_nr=1)\n",
    "    return tree.calculate_errors(data=df_kaefer)\n",
    "\n",
    "\n",
    "fig = px.scatter(\n",
    "    df_kaefer,\n",
    "    x=data_x,\n",
    "    y=data_y,\n",
    "    color=target,\n",
    "    color_discrete_map=color_map,\n",
    "    width=breite,\n",
    "    height=hoehe,\n",
    "    range_x=bereich_x,\n",
    "    range_y=bereich_y,\n",
    ")\n",
    "\n",
    "fig.update_traces(marker=dict(size=10, line=dict(width=1, color=\"black\")))\n",
    "\n",
    "fig.update_layout(\n",
    "    shapes=[\n",
    "        dict(\n",
    "            type=\"line\",\n",
    "            yref=\"y1\",\n",
    "            y0=schwellenwert,\n",
    "            y1=schwellenwert,\n",
    "            xref=\"x1\",\n",
    "            x0=bereich_x[0],\n",
    "            x1=bereich_x[1],\n",
    "            line=dict(color=\"Red\", width=1),\n",
    "        )\n",
    "    ]\n",
    ")\n",
    "\n",
    "fig.add_annotation(\n",
    "    x=60,\n",
    "    y=schwellenwert,\n",
    "    text=\"Schwellenwert der Länge=\" + str(schwellenwert),\n",
    "    showarrow=True,\n",
    "    xshift=20,\n",
    ")\n",
    "\n",
    "fig.add_annotation(\n",
    "    x=60,\n",
    "    y=schwellenwert,\n",
    "    text=\"Fehler: \" + str(fehlersumme_l(schwellenwert)),\n",
    "    showarrow=False,\n",
    "    yshift=50,\n",
    ")\n",
    "\n",
    "\n",
    "fig.show()"
   ]
  },
  {
   "cell_type": "markdown",
   "metadata": {},
   "source": [
    "<div class=\"alert alert-block alert-success\">\n",
    "\n",
    "Die Anzahl der Fehler (hier 3) setzt sich dabei zusammen:\n",
    "    \n",
    "- Ein Marienkäfer (Länge = 55) wurde als Raupe bezeichnet.\n",
    "- 2 Raupen (Länge 36 bzw. 21) wurden fälschlicherweise als Marienkäfer klassifiziert.\n",
    "    \n",
    "Das kann man auch so ausdrücken:\n",
    "    \n",
    "- Ist ein Insekt länger als 52, nennen wir es *Raupe*.\n",
    "    - Dabei werden 7 Insekten korrekt klasifiziert, für ein Insekt stimmt das nicht.\n",
    "- Ist ein Insekt 52 lang oder kürzer, nennen wir es *Marienkäfer*.\n",
    "    - In 10 Fällen ist das korrekt, 2 Raupen werden dabei falsch klassifiziert.\n",
    "    \n",
    "Das kann man in der folgenden Art darstellen:"
   ]
  },
  {
   "cell_type": "code",
   "execution_count": null,
   "metadata": {
    "hide_input": false,
    "scrolled": false
   },
   "outputs": [],
   "source": [
    "tree = ct.DecisionTree(target=target, data=df_kaefer)\n",
    "tree.manual_split(attribute=\"Länge\", threshold=52, node_nr=1)\n",
    "tree.print_tree()"
   ]
  },
  {
   "cell_type": "markdown",
   "metadata": {},
   "source": [
    "<div class=\"alert alert-block alert-success\">\n",
    "\n",
    "Eine solche Darstellung nennen wir **Entschidungsbaum** (engl.: **Decision Tree**). \n",
    "    \n",
    "In dem blau-unterlegten Rechteck (das gehört eigentlich nicht zu dem Baum) findet man Angaben, die für das Verständnis der Darstellung wichtig sind."
   ]
  },
  {
   "cell_type": "markdown",
   "metadata": {},
   "source": [
    "<div class=\"alert alert-block alert-warning\">\n",
    "\n",
    "#### *Aufgabe:*\n",
    "\n",
    "Beschreibe, welche Informationen hier erkennbar sind."
   ]
  },
  {
   "cell_type": "markdown",
   "metadata": {},
   "source": [
    "<div class=\"alert alert-block alert-info\">\n",
    "    \n",
    "Schreibe jetzt hier Deine Beobachtung hin.\n",
    "    \n",
    "- In dem blauen Rechteck:\n",
    "    - ???\n",
    "- In dem weissen Rechteck Nr. 1:\n",
    "   - ??? \n",
    "- In dem linken gelben Rechteck Nr. 2:\n",
    "   - ??? \n",
    "- In dem rechten gelben Rechteck Nr. 3:\n",
    "    - ???\n",
    "</div>"
   ]
  },
  {
   "cell_type": "markdown",
   "metadata": {},
   "source": [
    "<div class=\"alert alert-block alert-success\">\n",
    "\n",
    "- Die rechteckigen Kästen (weiss bzw gelb unterlegt) sind sog. **Knoten** des Baumes. Diese Knoten enthalten wichtige Informationen.\n",
    "    - Es gibt in dem dargestellten Entscheidungsbaum drei Knoten; zur Unterscheidung haben sie Nummern 1, 2 und 3.\n",
    "    - Der oberste (in der Graphik weiß dargestellte) Knoten heißt **Wurzelknoten**.\n",
    "    - Die beiden gelb-unterlegten Knoten nennt man **Blätter**.\n"
   ]
  },
  {
   "cell_type": "markdown",
   "metadata": {},
   "source": [
    "<div class=\"alert alert-block alert-success\">\n",
    "\n",
    "Du kannst dir hier für verschiedene Schwellenwerte den jeweiligen Entscheidungsbaum ansehen:"
   ]
  },
  {
   "cell_type": "code",
   "execution_count": null,
   "metadata": {},
   "outputs": [],
   "source": [
    "start = (min_y + max_y) // 2\n",
    "\n",
    "slider_l = widgets.BoundedFloatText(\n",
    "    value=start,\n",
    "    min=int(min_y+1),\n",
    "    max=int(max_y-1),\n",
    "    step=1,\n",
    "    description=\"\",\n",
    "    layout=widgets.Layout(width=\"30%\"),\n",
    ")\n",
    "\n",
    "def makeTree_l(schwellenwert):\n",
    "    tree = ct.DecisionTree(target=target, data=df_kaefer)\n",
    "    tree.manual_split(attribute=\"Länge\", threshold=schwellenwert, node_nr=1)\n",
    "    return tree\n",
    "\n",
    "def on_value_change_l(event):\n",
    "\n",
    "    with output_l:\n",
    "        output_l.clear_output()\n",
    "        sw_l = event[\"new\"]\n",
    "        tree = makeTree_l(sw_l)\n",
    "        display (tree.print_tree())\n",
    "\n",
    "\n",
    "slider_l.observe(on_value_change_l, names=\"value\")\n",
    "\n",
    "output_l = widgets.Output ();\n",
    "display(\n",
    "    widgets.HBox([widgets.Label(\"Schwellenwert für die Länge\"), slider_l, output_l])\n",
    ")\n",
    "sw_l = start\n",
    "tree = makeTree_l(sw_l)\n",
    "with output_l:\n",
    "    display (tree.print_tree())"
   ]
  },
  {
   "cell_type": "markdown",
   "metadata": {},
   "source": [
    "<div class=\"alert alert-block alert-warning\">\n",
    "\n",
    "#### *Aufgabe:* \n",
    "    \n",
    "Bestätige anhand dieser dynamischen Graphik, dass der Schwellenwert für die Länge zwischen 50 und 55 liegen sollte, damit die Anzahl der Fehler minimal wird."
   ]
  },
  {
   "cell_type": "markdown",
   "metadata": {
    "solution2": "hidden",
    "solution2_first": true
   },
   "source": [
    "<div class=\"alert alert-block alert-warning\">\n",
    "\n",
    "#### *Aufgabe:* \n",
    "    \n",
    "Finde anhand dieser dynamischen Graphik heraus, wie viele Fehlklassifikationen für den Schwellenwert \n",
    "\n",
    "1. `Länge = 30`\n",
    "2. `Länge = 70`\n",
    "    \n",
    "    \n",
    "entstehen."
   ]
  },
  {
   "cell_type": "markdown",
   "metadata": {
    "solution2": "hidden"
   },
   "source": [
    "1. Für einen Schwellenwert von 30 werden 9 Insekten (1 Marienkäfer, 8 Raupen) falsch klassifiziert. \n",
    "2. Für einen Schwellenwert von 70 werden 6 Insekten (alles Marienkäfer) falsch als Raupe klassifiziert. "
   ]
  },
  {
   "cell_type": "markdown",
   "metadata": {},
   "source": [
    "<div class=\"alert alert-block alert-success\">\n",
    "\n",
    "Statt der Länge können wir jetzt - wie in dem vorigen Notebook - auch die Breite als Kriterium nutzen:"
   ]
  },
  {
   "cell_type": "code",
   "execution_count": null,
   "metadata": {},
   "outputs": [],
   "source": [
    "start = (min_x + max_x) // 2\n",
    "\n",
    "slider_r = widgets.BoundedFloatText(\n",
    "    value=start,\n",
    "    min=int(min_x+1),\n",
    "    max=int(max_x-1),\n",
    "    step=1,\n",
    "    description=\"\",\n",
    "    layout=widgets.Layout(width=\"30%\"),\n",
    ")\n",
    "\n",
    "def makeTree_r(schwellenwert):\n",
    "    tree = ct.DecisionTree(target=target, data=df_kaefer)\n",
    "    tree.manual_split(attribute=\"Breite\", threshold=schwellenwert, node_nr=1)\n",
    "    return tree\n",
    "\n",
    "def on_value_change_r(event):\n",
    "\n",
    "    with output_r:\n",
    "        output_r.clear_output()\n",
    "        sw_r = event[\"new\"]\n",
    "        tree = makeTree_r(sw_r)\n",
    "        display (tree.print_tree())\n",
    "\n",
    "\n",
    "slider_r.observe(on_value_change_r, names=\"value\")\n",
    "\n",
    "output_r = widgets.Output()\n",
    "\n",
    "display(\n",
    "    widgets.HBox([widgets.Label(\"Schwellenwert für die Breite\"), slider_r, output_r])\n",
    ")\n",
    "sw_r = start\n",
    "tree = makeTree_r(sw_r)\n",
    "with output_r:\n",
    "    display (tree.print_tree())"
   ]
  },
  {
   "cell_type": "markdown",
   "metadata": {
    "solution2": "hidden",
    "solution2_first": true
   },
   "source": [
    "<div class=\"alert alert-block alert-warning\">\n",
    "\n",
    "#### *Aufgabe:* \n",
    "    \n",
    "Finde anhand dieser dynamischen Graphik heraus, wie viele Fehlklassifikationen für den Schwellenwert \n",
    "\n",
    "1. `Breite = 30`\n",
    "2. `Breite = 40`\n",
    "    \n",
    "    \n",
    "entstehen."
   ]
  },
  {
   "cell_type": "markdown",
   "metadata": {
    "solution2": "hidden"
   },
   "source": [
    "1. Für einen Schwellenwert von 30 werden 3 Insekten falsch klassifiziert, eine Raupe sowie 2 Marienkäfer.\n",
    "2. Für einen Schwellenwert von 40 werden 2 Marienkäfer falsch als Raupe klassifiziert. "
   ]
  },
  {
   "cell_type": "markdown",
   "metadata": {},
   "source": [
    "<div class=\"alert alert-block alert-warning\">\n",
    "\n",
    "#### *Aufgabe:* \n",
    "    \n",
    "Bestätige anhand dieser dynamischen Graphik, dass der optimale Schwellenwert für die Breite tatsächlich 27, 28 bzw. 29 ist. "
   ]
  },
  {
   "cell_type": "markdown",
   "metadata": {},
   "source": [
    "<div class=\"alert alert-block alert-success\">\n",
    "\n",
    "Hier kannst du dir nochmal verschiedene Entscheidungsbäume ansehen. Du kannst\n",
    "    \n",
    "- wählen, ob du die Länge oder die Breite der Insekten als Prädiktorvariable nutzen möchtest\n",
    "- den Schwellenwert einstellen."
   ]
  },
  {
   "cell_type": "code",
   "execution_count": null,
   "metadata": {},
   "outputs": [],
   "source": [
    "def show_tree(attribute, schwellenwert):\n",
    "\n",
    "    tree = ct.DecisionTree(target=target, data=df_kaefer)\n",
    "    tree.manual_split(attribute=attribute, threshold=schwellenwert, node_nr=1)\n",
    "    tree.print_tree()\n",
    "    display(tree.tree_graph)\n",
    "\n",
    "    return tree\n",
    "\n",
    "\n",
    "tree_widget = widgets.interactive(\n",
    "    show_tree,\n",
    "    {\"manual\": True, \"manual_name\": \"Erstelle Tree\"},\n",
    "    attribute = [\"Länge\",\"Breite\"],\n",
    "    schwellenwert = (10, 90, 1)\n",
    ")\n",
    "tree_widget"
   ]
  },
  {
   "cell_type": "markdown",
   "metadata": {},
   "source": [
    "## Weitere manuelle Datensplits"
   ]
  },
  {
   "cell_type": "markdown",
   "metadata": {},
   "source": [
    "<div class=\"alert alert-block alert-success\">\n",
    "\n",
    "### Fazit bisher:\n",
    "    \n",
    "Wenn wir nur eine der beiden Variablen für einen Datensplit benutzen, ist die Wahl der Breite mit einem Schwellenwert von z.B. 28 offenbar optimal, obwohl dann immer noch ein Fehler entsteht!\n",
    "    \n",
    "Also definieren wir ab hier:"
   ]
  },
  {
   "cell_type": "code",
   "execution_count": null,
   "metadata": {},
   "outputs": [],
   "source": [
    "# Das ist der optimale Schwellenwert, wenn wir als Prädiktorvariable die Breite der Insekten wählen:\n",
    "besterSchwellenwert = 28 "
   ]
  },
  {
   "cell_type": "markdown",
   "metadata": {},
   "source": [
    "<div class=\"alert alert-block alert-success\">\n",
    "\n",
    "### Streudiagramm mit bestem Schwellenwert:\n",
    "    \n",
    "Wenn wir nur eine der beiden Variablen für einen Datensplit benutzen, ist die Wahl der Länge mit einem Schwellenwert von 0.51 offenbar optimal, obwohl dann immer noch 14 Fehler entstehen!\n",
    "    \n",
    "Hier nochmals das zugehörige Streudiagramm mit der horizontalen Trennlinie:"
   ]
  },
  {
   "cell_type": "code",
   "execution_count": null,
   "metadata": {},
   "outputs": [],
   "source": [
    "schwellenwert = besterSchwellenwert\n",
    "\n",
    "def fehlersumme_r(threshold):\n",
    "    tree = ct.DecisionTree(target=target, data=df_kaefer)\n",
    "    tree.manual_split(attribute=\"Breite\", threshold=threshold, node_nr=1)\n",
    "    return tree.calculate_errors(data=df_kaefer)\n",
    "\n",
    "\n",
    "def makeFigure_r(schwellenwert):\n",
    "    fig = px.scatter(\n",
    "        df_kaefer,\n",
    "        x=data_x,\n",
    "        y=data_y,\n",
    "        color=target,\n",
    "        color_discrete_map=color_map,\n",
    "        width=breite,\n",
    "        height=hoehe,\n",
    "        range_x=bereich_x,\n",
    "        range_y=bereich_y,\n",
    "    )\n",
    "\n",
    "    fig.update_traces(marker=dict(size=10, line=dict(width=1, color=\"black\")))\n",
    "\n",
    "    fig.update_layout(\n",
    "        shapes=[\n",
    "            dict(\n",
    "                type=\"line\",\n",
    "                yref=\"y1\",\n",
    "                x0=schwellenwert,\n",
    "                x1=schwellenwert,\n",
    "                xref=\"x1\",\n",
    "                y0=bereich_y[0],\n",
    "                y1=bereich_y[1],\n",
    "                line=dict(color=\"Red\", width=1),\n",
    "            ),\n",
    "            dict(\n",
    "                type=\"rect\",\n",
    "                yref=\"y1\",\n",
    "                x0=schwellenwert,\n",
    "                x1=bereich_x[1],\n",
    "                xref=\"x1\",\n",
    "                y0=bereich_y[0],\n",
    "                y1=bereich_y[1],\n",
    "                fillcolor=color_map[\"Marienkäfer\"],\n",
    "                opacity=0.3,\n",
    "                layer=\"below\",\n",
    "                line_width=0,\n",
    "            ),\n",
    "            dict(\n",
    "                type=\"rect\",\n",
    "                yref=\"y1\",\n",
    "                x0=bereich_x[0],\n",
    "                x1=schwellenwert,\n",
    "                xref=\"x1\",\n",
    "                y0=bereich_y[0],\n",
    "                y1=bereich_y[1],\n",
    "                fillcolor=color_map[\"Raupe\"],\n",
    "                opacity=0.3,\n",
    "                layer=\"below\",\n",
    "                line_width=0,\n",
    "            ),\n",
    "        ]\n",
    "    )\n",
    "\n",
    "    fig.add_annotation(\n",
    "        y=80,\n",
    "        x=schwellenwert,\n",
    "        text=\"Schwellenwert der Breite=\" + str(int(schwellenwert)),\n",
    "        showarrow=False,\n",
    "        # xshift=20,\n",
    "    )\n",
    "\n",
    "    fig.add_annotation(\n",
    "        y=75,\n",
    "        x=schwellenwert,\n",
    "        text=\"Fehler: \" + str(fehlersumme_r(schwellenwert)),\n",
    "        showarrow=False,\n",
    "        #yshift=-20,\n",
    "    )\n",
    "    return fig\n",
    "\n",
    "\n",
    "makeFigure_r (besterSchwellenwert).show()"
   ]
  },
  {
   "cell_type": "markdown",
   "metadata": {},
   "source": [
    "<div class=\"alert alert-block alert-success\">\n",
    "\n",
    "Rechts der waagerechten Linie finden wir falsch eine klassifizierte Mrkierung:\n",
    "\n",
    "- Eine Raupe wird in dem Diagramm als Käfer bezeichnet."
   ]
  },
  {
   "cell_type": "markdown",
   "metadata": {},
   "source": [
    "<div class=\"alert alert-block alert-success\">\n",
    "\n",
    "Das wurde auch in dem Entscheidungsbaum verdeutlicht:"
   ]
  },
  {
   "cell_type": "code",
   "execution_count": null,
   "metadata": {},
   "outputs": [],
   "source": [
    "tree = ct.DecisionTree(target=target, data=df_kaefer)\n",
    "tree.manual_split(attribute=\"Breite\", threshold=28, node_nr=1)\n",
    "tree.print_tree()"
   ]
  },
  {
   "cell_type": "markdown",
   "metadata": {},
   "source": [
    "<div class=\"alert alert-block alert-success\">\n",
    "    \n",
    "Wir haben jetzt die Insekten ausschließlich anhand der Breite klassifiziert, haben dabei die Länge der Insekten nicht weiter beachtet.\n",
    "   \n",
    "Die Idee ist jetzt, den Knoten mit der Nummer 3 weiter aufzuteilen:\n",
    "    \n",
    "Also:\n",
    "\n",
    "- Für die Insekten, die breiter sind als 28, suchen wir nach einem Schwellenwert für die Länge, um Raupen von Marienkäfern zu unterscheiden. Dieser Schwellenwert soll also nur für die Insekten im Knoten Nr. 3 zuständig sein.\n",
    "    \n",
    "Dabei fällt uns auf, dass alle Marienkäfer in dem rechten Bereich (siehe Streudiagramm oben) eine Länge unterhalb von z.B. 58 haben. Das führt zu der folgenden Erweiterung des Entscheidungsbaumes:"
   ]
  },
  {
   "cell_type": "code",
   "execution_count": null,
   "metadata": {},
   "outputs": [],
   "source": [
    "vertikal = 28\n",
    "horizontal = 58\n",
    "\n",
    "tree = ct.DecisionTree(target=\"Insekt\", data=df_kaefer)\n",
    "\n",
    "# threshold bedeutet Schwellenwert\n",
    "tree.manual_split(attribute = 'Breite', threshold = vertikal, node_nr = 1) \n",
    "tree.manual_split(attribute = 'Länge', threshold = horizontal, node_nr = 3) \n",
    "\n",
    "\n",
    "#Entscheidungsbaum ausgeben\n",
    "tree.print_tree()"
   ]
  },
  {
   "cell_type": "markdown",
   "metadata": {
    "solution2": "hidden"
   },
   "source": [
    "<div class=\"alert alert-block alert-success\">\n",
    "\n",
    "Geeignete Schwellenwerte sind z.B.\n",
    "\n",
    "- `SchwellenwertKnoten2 = 0.3`\n",
    "- `SchwellenwertKnoten3 = 0.5`\n"
   ]
  },
  {
   "cell_type": "markdown",
   "metadata": {},
   "source": [
    "<div class=\"alert alert-block alert-success\">\n",
    "\n",
    "Das folgende Bild verdeutlicht diese Lösung auch in einem Streudiagramm:"
   ]
  },
  {
   "cell_type": "code",
   "execution_count": null,
   "metadata": {
    "scrolled": false
   },
   "outputs": [],
   "source": [
    "import plotly.express as px\n",
    "\n",
    "vertikal = 28\n",
    "horizontal = 58\n",
    "\n",
    "tree = ct.DecisionTree(target=\"Insekt\", data=df_kaefer)\n",
    "\n",
    "#fehlersumme = calc_errors(hor, tree, \"Länge\")\n",
    "#fehlersumme = tree.calculate_errors(data = df_kaefer) \n",
    "\n",
    "color_map = {'Marienkäfer': 'orange', 'Raupe': 'lightblue'}\n",
    "\n",
    "fig = px.scatter(\n",
    "    df_kaefer,\n",
    "    x=\"Breite\",\n",
    "    y=\"Länge\",\n",
    "    color=\"Insekt\",\n",
    "    color_discrete_map=color_map,\n",
    "    width=800,\n",
    "    height=600,\n",
    "    range_x=bereich_x,\n",
    "    range_y=bereich_y,\n",
    "    #size = 0.01\n",
    ")\n",
    "\n",
    "fig.update_traces(marker=dict(  #size=5, \n",
    "    line=dict(width=1, color='black')))\n",
    "\n",
    "\n",
    "fig.update_layout(shapes=[\n",
    "    dict(\n",
    "        type=\"line\",\n",
    "        yref=\"y1\",\n",
    "        x0=vertikal,\n",
    "        x1=vertikal,\n",
    "        xref=\"x1\",\n",
    "        y0=bereich_y[0],\n",
    "        y1=bereich_y[1],\n",
    "        line=dict(color=\"Red\", width=1),\n",
    "    ),\n",
    "    dict(\n",
    "        type=\"line\",\n",
    "        yref=\"y1\",\n",
    "        x0=vertikal,\n",
    "        x1=bereich_x[1],\n",
    "        xref=\"x1\",\n",
    "        y0=horizontal,\n",
    "        y1=horizontal,\n",
    "        line=dict(color=\"Red\", width=1),\n",
    "    ),\n",
    "    dict(\n",
    "        type=\"rect\",\n",
    "        yref=\"y1\",\n",
    "        x0=bereich_x[0],\n",
    "        x1=vertikal,\n",
    "        xref=\"x1\",\n",
    "        y0=bereich_y[0],\n",
    "        y1=bereich_y[1],\n",
    "        fillcolor=color_map[\"Raupe\"],\n",
    "        opacity=0.3,\n",
    "        layer=\"below\",\n",
    "        line_width=0,\n",
    "    ),\n",
    "    dict(\n",
    "        type=\"rect\",\n",
    "        yref=\"y1\",\n",
    "        x0=vertikal,\n",
    "        x1=bereich_x[1],\n",
    "        xref=\"x1\",\n",
    "        y0=bereich_y[0],\n",
    "        y1=horizontal,\n",
    "        fillcolor=color_map[\"Marienkäfer\"],\n",
    "        opacity=0.3,\n",
    "        layer=\"below\",\n",
    "        line_width=0,\n",
    "    ),\n",
    "    dict(\n",
    "        type=\"rect\",\n",
    "        yref=\"y1\",\n",
    "        x0=vertikal,\n",
    "        x1=bereich_x[1],\n",
    "        xref=\"x1\",\n",
    "        y0=horizontal,\n",
    "        y1=bereich_y[1],\n",
    "        fillcolor=color_map[\"Raupe\"],\n",
    "        opacity=0.3,\n",
    "        layer=\"below\",\n",
    "        line_width=0,\n",
    "    ),\n",
    "])\n",
    "fig.add_annotation(\n",
    "    y=85,\n",
    "    x=vertikal,\n",
    "    text=\"Schwellenwert der Breite in Knoten Nr. 1 = \" + str(int(vertikal)),\n",
    "    showarrow=True,\n",
    "    #xshift=150,\n",
    "    )\n",
    "fig.add_annotation(\n",
    "    y=horizontal,\n",
    "    x=50,\n",
    "    text=\"Schwellenwert der Länge in Knoten Nr. 3 = \" + str(int(horizontal)),\n",
    "    showarrow=True,\n",
    "    #yshift=10,\n",
    "    )\n",
    "\n",
    "\n",
    "fig.show()"
   ]
  },
  {
   "cell_type": "markdown",
   "metadata": {},
   "source": [
    "## Testdaten"
   ]
  },
  {
   "cell_type": "markdown",
   "metadata": {},
   "source": [
    "<div class=\"alert alert-block alert-success\">\n",
    "  \n",
    "Wir haben es jetzt erreicht, dass **alle** Trainingsdaten korrekt klassifiziert werden.\n",
    "\n",
    "- Das ist in der Praxis sehr selten! Der Grund ist eigentlich sehr einfach:\n",
    "\n",
    "Wir haben nur 20 Trainingsdaten benutzt, so dass wir bei geeigneten Schwellenwerten wenig Probleme hatten. In der Praxis benutzt man **viel** mehr Trainingsdaten, viele Tausend oder noch mehr. Dann wird man sehr häufig erleben, dass nicht alle Trainingsdaten korrekt klassifiziert werden. Man gibt sich jedoch in der Regel mit einer Fehlerrate von z.B. 2% zufrieden.\n",
    "    \n",
    "Wir belassen es jetzt einmal bei unserem trainierten Entscheidungsbaum, sollten dennoch einen weiteren Test starten."
   ]
  },
  {
   "cell_type": "markdown",
   "metadata": {},
   "source": [
    "<div class=\"alert alert-block alert-success\">\n",
    "  \n",
    "Um die Qualität des Entscheidungsbaumes zu testen, haben wir jetzt die folgende Idee:\n",
    "- Wir haben weitere Datensätze von bekannten Insekten, also von Insekten, von denen wir wissen, ob es sich um Raupen oder Marienkäfer handelt. Diese Datensätze lassen wir durch den Entscheidungsbaum klaasifizieren, und prüfen dann, ob der tatsächliche Insektentyp mit der Vorhersage des Entscheidungsbaumes übereinstimmt.\n",
    "    \n",
    "Hier nochmal der Entscheidungsbaum:"
   ]
  },
  {
   "cell_type": "code",
   "execution_count": null,
   "metadata": {},
   "outputs": [],
   "source": [
    "tree = ct.DecisionTree(target = 'Insekt', data = df_kaefer)\n",
    "vertikal = 28\n",
    "horizontal = 58\n",
    "\n",
    "tree = ct.DecisionTree(target=\"Insekt\", data=df_kaefer)\n",
    "\n",
    "# threshold bedeutet Schwellenwert\n",
    "tree.manual_split(attribute = 'Breite', threshold = vertikal, node_nr = 1) \n",
    "tree.manual_split(attribute = 'Länge', threshold = horizontal, node_nr = 3) \n",
    "tree.print_tree()"
   ]
  },
  {
   "cell_type": "markdown",
   "metadata": {},
   "source": [
    "<div class=\"alert alert-block alert-success\">\n",
    "  \n",
    "Zum Testen haben wir jetzt (ebenfalls ungewöhnlich nur) 10 Datensätze vorbereitet:"
   ]
  },
  {
   "cell_type": "code",
   "execution_count": null,
   "metadata": {},
   "outputs": [],
   "source": [
    "df_testdaten = pd.read_csv(\"Daten/Kaefer_10-test_int_mm.csv\", sep=\";\")\n",
    "df_testdaten"
   ]
  },
  {
   "cell_type": "markdown",
   "metadata": {},
   "source": [
    "<div class=\"alert alert-block alert-success\">\n",
    "  \n",
    "Und jetzt sind wir gespannt auf den Qualitätstest:"
   ]
  },
  {
   "cell_type": "code",
   "execution_count": null,
   "metadata": {},
   "outputs": [],
   "source": [
    "lst1 = []\n",
    "lst2 = []\n",
    "lst3 = []\n",
    "lstBreite = []\n",
    "lstLaenge = []\n",
    "\n",
    "fehlerzahl = 0\n",
    "\n",
    "for ind in df_testdaten.index:\n",
    "    eintrag={df_testdaten.columns[0]:df_testdaten.values[ind][0], \n",
    "             df_testdaten.columns[1]:df_testdaten.values[ind][1]}\n",
    "    breite = df_testdaten.values[ind][0]\n",
    "    laenge = df_testdaten.values[ind][1]\n",
    "    ist = tree.query (eintrag)   # sagt der DecTree\n",
    "    sol = df_testdaten.values[ind][2] # das Label\n",
    "    \n",
    "    if ist == sol:\n",
    "        errEntry = \"korrekt erkannt\"\n",
    "    else:\n",
    "         errEntry = \"fehlerhaft klassifiziert\"\n",
    "         fehlerzahl += 1\n",
    "            \n",
    "    lstBreite += [breite]\n",
    "    lstLaenge += [laenge]\n",
    "    lst1 += [ist]\n",
    "    lst2 += [sol]\n",
    "    lst3 += [errEntry]\n",
    "    ind = ind + 1\n",
    "\n",
    "df = pd.DataFrame ({df_testdaten.columns[0]: lstBreite, \n",
    "                    df_testdaten.columns[1]: lstLaenge, \n",
    "                    \"tatsächlich\": lst2, \n",
    "                    \"Entscheidungsbaum sagt\": lst1, \n",
    "                    \"Kommentar\": lst3})\n",
    "\n",
    "print (\"Es gib\", fehlerzahl, \"fehlerhafte Klassifikationen\")\n",
    "df"
   ]
  },
  {
   "cell_type": "markdown",
   "metadata": {},
   "source": [
    "<div class=\"alert alert-block alert-success\">\n",
    "  \n",
    "Tatsächlich gibt es zwei Insekten, die falsch klassifiziert wurden.\n",
    "\n",
    "Das Streudiagramm zeigt uns jetzt alle 30 Insekten."
   ]
  },
  {
   "cell_type": "code",
   "execution_count": null,
   "metadata": {},
   "outputs": [],
   "source": [
    "data = [df_kaefer, df_testdaten]\n",
    "df_all_data = pd.concat(data,ignore_index=True)"
   ]
  },
  {
   "cell_type": "code",
   "execution_count": null,
   "metadata": {},
   "outputs": [],
   "source": [
    "import plotly.express as px\n",
    "\n",
    "vertikal = 28\n",
    "horizontal = 58\n",
    "\n",
    "tree = ct.DecisionTree(target=\"Insekt\", data=df_all_data)\n",
    "\n",
    "#fehlersumme = calc_errors(hor, tree, \"Länge\")\n",
    "#fehlersumme = tree.calculate_errors(data = df_kaefer) \n",
    "\n",
    "color_map = {'Marienkäfer': 'orange', 'Raupe': 'lightblue'}\n",
    "\n",
    "fig = px.scatter(\n",
    "    df_all_data,\n",
    "#    df_testdaten,\n",
    "    x=\"Breite\",\n",
    "    y=\"Länge\",\n",
    "    color=\"Insekt\",\n",
    "    color_discrete_map=color_map,\n",
    "    width=800,\n",
    "    height=600,\n",
    "    range_x=bereich_x,\n",
    "    range_y=bereich_y,\n",
    "    #size = 0.01\n",
    ")\n",
    "\n",
    "fig.update_traces(marker=dict(  #size=5, \n",
    "    line=dict(width=1, color='black')))\n",
    "\n",
    "\n",
    "fig.update_layout(shapes=[\n",
    "    dict(\n",
    "        type=\"line\",\n",
    "        yref=\"y1\",\n",
    "        x0=vertikal,\n",
    "        x1=vertikal,\n",
    "        xref=\"x1\",\n",
    "        y0=bereich_y[0],\n",
    "        y1=bereich_y[1],\n",
    "        line=dict(color=\"Red\", width=1),\n",
    "    ),\n",
    "    dict(\n",
    "        type=\"line\",\n",
    "        yref=\"y1\",\n",
    "        x0=vertikal,\n",
    "        x1=bereich_x[1],\n",
    "        xref=\"x1\",\n",
    "        y0=horizontal,\n",
    "        y1=horizontal,\n",
    "        line=dict(color=\"Red\", width=1),\n",
    "    ),\n",
    "    dict(\n",
    "        type=\"rect\",\n",
    "        yref=\"y1\",\n",
    "        x0=bereich_x[0],\n",
    "        x1=vertikal,\n",
    "        xref=\"x1\",\n",
    "        y0=bereich_y[0],\n",
    "        y1=bereich_y[1],\n",
    "        fillcolor=color_map[\"Raupe\"],\n",
    "        opacity=0.3,\n",
    "        layer=\"below\",\n",
    "        line_width=0,\n",
    "    ),\n",
    "    dict(\n",
    "        type=\"rect\",\n",
    "        yref=\"y1\",\n",
    "        x0=vertikal,\n",
    "        x1=bereich_x[1],\n",
    "        xref=\"x1\",\n",
    "        y0=bereich_y[0],\n",
    "        y1=horizontal,\n",
    "        fillcolor=color_map[\"Marienkäfer\"],\n",
    "        opacity=0.3,\n",
    "        layer=\"below\",\n",
    "        line_width=0,\n",
    "    ),\n",
    "    dict(\n",
    "        type=\"rect\",\n",
    "        yref=\"y1\",\n",
    "        x0=vertikal,\n",
    "        x1=bereich_x[1],\n",
    "        xref=\"x1\",\n",
    "        y0=horizontal,\n",
    "        y1=bereich_y[1],\n",
    "        fillcolor=color_map[\"Raupe\"],\n",
    "        opacity=0.3,\n",
    "        layer=\"below\",\n",
    "        line_width=0,\n",
    "    ),\n",
    "])\n",
    "fig.add_annotation(\n",
    "    y=85,\n",
    "    x=vertikal,\n",
    "    text=\"Schwellenwert der Breite in Knoten Nr. 1 = \" + str(int(vertikal)),\n",
    "    showarrow=True,\n",
    "    #xshift=150,\n",
    "    )\n",
    "fig.add_annotation(\n",
    "    y=horizontal,\n",
    "    x=50,\n",
    "    text=\"Schwellenwert der Länge in Knoten Nr. 3 = \" + str(int(horizontal)),\n",
    "    showarrow=True,\n",
    "    #yshift=10,\n",
    "    )\n",
    "\n",
    "fig.show()"
   ]
  },
  {
   "cell_type": "code",
   "execution_count": null,
   "metadata": {},
   "outputs": [],
   "source": []
  },
  {
   "cell_type": "markdown",
   "metadata": {},
   "source": [
    "## Automatisch wird ein Entscheidungsbaum erstellt"
   ]
  },
  {
   "cell_type": "code",
   "execution_count": null,
   "metadata": {},
   "outputs": [],
   "source": [
    "tree_all = ct.DecisionTree(target = 'Insekt', data = df_all_data)\n",
    "\n",
    "#Entscheidungsbaum erstellen \n",
    "tree_all.grow_tree(df_all_data, 'Insekt')\n",
    "\n",
    "#Entscheidungsbaum ausgeben\n",
    "tree_all.print_tree()"
   ]
  },
  {
   "cell_type": "markdown",
   "metadata": {},
   "source": [
    "<div class=\"alert alert-block alert-success\">\n",
    "  \n",
    "Der optimale Entscheidungsbaum für all diese Daten (Trainingsdaten und Testdaten) ist dann ein wenig anders.\n",
    "Doch wir sollten beachten:\n",
    "- Wir haben jetzt keine weiteren Testdaten mehr, um die Qualität des neuen Entscheidungsbaums zu prüfen,\n",
    "    so dass wir uns bei neuen unbekannten Insekten völlig auf die Güte der Vorhersage verlassen müssen."
   ]
  },
  {
   "cell_type": "markdown",
   "metadata": {},
   "source": [
    "<div class=\"alert alert-block alert-success\">\n",
    "\n",
    "Das zugehörige Streudiagramm:"
   ]
  },
  {
   "cell_type": "code",
   "execution_count": null,
   "metadata": {},
   "outputs": [],
   "source": [
    "import plotly.express as px\n",
    "\n",
    "vertikal = 15\n",
    "horizontal = 55\n",
    "\n",
    "tree = ct.DecisionTree(target=\"Insekt\", data=df_all_data)\n",
    "\n",
    "#fehlersumme = calc_errors(hor, tree, \"Länge\")\n",
    "#fehlersumme = tree.calculate_errors(data = df_kaefer) \n",
    "\n",
    "color_map = {'Marienkäfer': 'orange', 'Raupe': 'lightblue'}\n",
    "\n",
    "fig = px.scatter(\n",
    "    df_all_data,\n",
    "#    df_testdaten,\n",
    "    x=\"Breite\",\n",
    "    y=\"Länge\",\n",
    "    color=\"Insekt\",\n",
    "    color_discrete_map=color_map,\n",
    "    width=800,\n",
    "    height=600,\n",
    "    range_x=bereich_x,\n",
    "    range_y=bereich_y,\n",
    "    #size = 0.01\n",
    ")\n",
    "\n",
    "fig.update_traces(marker=dict(  #size=5, \n",
    "    line=dict(width=1, color='black')))\n",
    "\n",
    "\n",
    "fig.update_layout(shapes=[\n",
    "    dict(\n",
    "        type=\"line\",\n",
    "        yref=\"y1\",\n",
    "        x0=vertikal,\n",
    "        x1=vertikal,\n",
    "        xref=\"x1\",\n",
    "        y0=bereich_y[0],\n",
    "        y1=horizontal,\n",
    "        line=dict(color=\"Red\", width=1),\n",
    "    ),\n",
    "    dict(\n",
    "        type=\"line\",\n",
    "        yref=\"y1\",\n",
    "        x0=bereich_x[0],\n",
    "        x1=bereich_x[1],\n",
    "        xref=\"x1\",\n",
    "        y0=horizontal,\n",
    "        y1=horizontal,\n",
    "        line=dict(color=\"Red\", width=1),\n",
    "    ),\n",
    "    dict(\n",
    "        type=\"rect\",\n",
    "        yref=\"y1\",\n",
    "        x0=bereich_x[0],\n",
    "        x1=vertikal,\n",
    "        xref=\"x1\",\n",
    "        y0=bereich_y[0],\n",
    "        y1=bereich_y[1],\n",
    "        fillcolor=color_map[\"Raupe\"],\n",
    "        opacity=0.3,\n",
    "        layer=\"below\",\n",
    "        line_width=0,\n",
    "    ),\n",
    "    dict(\n",
    "        type=\"rect\",\n",
    "        yref=\"y1\",\n",
    "        x0=vertikal,\n",
    "        x1=bereich_x[1],\n",
    "        xref=\"x1\",\n",
    "        y0=bereich_y[0],\n",
    "        y1=horizontal,\n",
    "        fillcolor=color_map[\"Marienkäfer\"],\n",
    "        opacity=0.3,\n",
    "        layer=\"below\",\n",
    "        line_width=0,\n",
    "    ),\n",
    "    dict(\n",
    "        type=\"rect\",\n",
    "        yref=\"y1\",\n",
    "        x0=vertikal,\n",
    "        x1=bereich_x[1],\n",
    "        xref=\"x1\",\n",
    "        y0=horizontal,\n",
    "        y1=bereich_y[1],\n",
    "        fillcolor=color_map[\"Raupe\"],\n",
    "        opacity=0.3,\n",
    "        layer=\"below\",\n",
    "        line_width=0,\n",
    "    ),\n",
    "])\n",
    "\n",
    "fig.show()"
   ]
  },
  {
   "cell_type": "code",
   "execution_count": null,
   "metadata": {},
   "outputs": [],
   "source": []
  }
 ],
 "metadata": {
  "celltoolbar": "Raw Cell Format",
  "hide_input": false,
  "kernelspec": {
   "display_name": "Python 3 (ipykernel)",
   "language": "python",
   "name": "python3"
  },
  "language_info": {
   "codemirror_mode": {
    "name": "ipython",
    "version": 3
   },
   "file_extension": ".py",
   "mimetype": "text/x-python",
   "name": "python",
   "nbconvert_exporter": "python",
   "pygments_lexer": "ipython3",
   "version": "3.10.13"
  },
  "latex_envs": {
   "LaTeX_envs_menu_present": true,
   "autoclose": false,
   "autocomplete": true,
   "bibliofile": "biblio.bib",
   "cite_by": "apalike",
   "current_citInitial": 1,
   "eqLabelWithNumbers": true,
   "eqNumInitial": 1,
   "hotkeys": {
    "equation": "Ctrl-E",
    "itemize": "Ctrl-I"
   },
   "labels_anchors": false,
   "latex_user_defs": false,
   "report_style_numbering": false,
   "user_envs_cfg": true
  },
  "toc": {
   "base_numbering": 1,
   "nav_menu": {},
   "number_sections": true,
   "sideBar": true,
   "skip_h1_title": true,
   "title_cell": "Table of Contents",
   "title_sidebar": "Contents",
   "toc_cell": false,
   "toc_position": {
    "height": "calc(100% - 180px)",
    "left": "10px",
    "top": "150px",
    "width": "165px"
   },
   "toc_section_display": true,
   "toc_window_display": true
  },
  "varInspector": {
   "cols": {
    "lenName": 16,
    "lenType": 16,
    "lenVar": 40
   },
   "kernels_config": {
    "python": {
     "delete_cmd_postfix": "",
     "delete_cmd_prefix": "del ",
     "library": "var_list.py",
     "varRefreshCmd": "print(var_dic_list())"
    },
    "r": {
     "delete_cmd_postfix": ") ",
     "delete_cmd_prefix": "rm(",
     "library": "var_list.r",
     "varRefreshCmd": "cat(var_dic_list()) "
    }
   },
   "types_to_exclude": [
    "module",
    "function",
    "builtin_function_or_method",
    "instance",
    "_Feature"
   ],
   "window_display": false
  }
 },
 "nbformat": 4,
 "nbformat_minor": 2
}
