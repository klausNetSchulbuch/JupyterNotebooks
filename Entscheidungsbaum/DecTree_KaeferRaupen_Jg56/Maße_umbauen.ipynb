{
 "cells": [
  {
   "cell_type": "code",
   "execution_count": null,
   "id": "42005161",
   "metadata": {},
   "outputs": [],
   "source": [
    "import pandas as pd\n",
    "import numpy as np\n",
    "import csv"
   ]
  },
  {
   "cell_type": "code",
   "execution_count": null,
   "id": "77362d43",
   "metadata": {},
   "outputs": [],
   "source": [
    "with open(\"Daten/Kaefer_10-test.csv\") as file_name:\n",
    "    file_read = csv.reader(file_name)\n",
    "    array = list(file_read)"
   ]
  },
  {
   "cell_type": "code",
   "execution_count": null,
   "id": "a56923ed",
   "metadata": {},
   "outputs": [],
   "source": [
    "len(array)"
   ]
  },
  {
   "cell_type": "code",
   "execution_count": null,
   "id": "b2f9e66d",
   "metadata": {},
   "outputs": [],
   "source": [
    "for i in range(1,len(array)):\n",
    "    eintrag = array[i]\n",
    "    zeile = eintrag [0]\n",
    "    werte = zeile.split(\";\")\n",
    "    breite = float (werte [0])\n",
    "    laenge = float (werte [1])\n",
    "    typ = werte [2]\n",
    "    breite_mm = int (breite * 10 * 10)\n",
    "    laenge_mm = int (laenge * 10 * 10)\n",
    "    array[i] = list ([str(breite_mm), str(laenge_mm), typ])"
   ]
  },
  {
   "cell_type": "code",
   "execution_count": null,
   "id": "0865d1d4",
   "metadata": {},
   "outputs": [],
   "source": [
    "array[0] = [\"Breite\", \"Länge\", \"Insekt\"]"
   ]
  },
  {
   "cell_type": "code",
   "execution_count": null,
   "id": "4826c41c",
   "metadata": {},
   "outputs": [],
   "source": [
    "with open('Daten/Kaefer_10-test_int_mm.csv', 'w', newline='') as file:\n",
    "    mywriter = csv.writer(file, delimiter=';')\n",
    "    mywriter.writerows(array)"
   ]
  },
  {
   "cell_type": "code",
   "execution_count": null,
   "id": "0e8f2160",
   "metadata": {},
   "outputs": [],
   "source": [
    "round(0.8*2.54*10,2)"
   ]
  },
  {
   "cell_type": "code",
   "execution_count": null,
   "id": "6b829ee6",
   "metadata": {},
   "outputs": [],
   "source": []
  },
  {
   "cell_type": "code",
   "execution_count": null,
   "id": "ed2ad3d0",
   "metadata": {},
   "outputs": [],
   "source": []
  }
 ],
 "metadata": {
  "hide_input": false,
  "kernelspec": {
   "display_name": "Python 3 (ipykernel)",
   "language": "python",
   "name": "python3"
  },
  "language_info": {
   "codemirror_mode": {
    "name": "ipython",
    "version": 3
   },
   "file_extension": ".py",
   "mimetype": "text/x-python",
   "name": "python",
   "nbconvert_exporter": "python",
   "pygments_lexer": "ipython3",
   "version": "3.10.9"
  },
  "latex_envs": {
   "LaTeX_envs_menu_present": true,
   "autoclose": false,
   "autocomplete": true,
   "bibliofile": "biblio.bib",
   "cite_by": "apalike",
   "current_citInitial": 1,
   "eqLabelWithNumbers": true,
   "eqNumInitial": 1,
   "hotkeys": {
    "equation": "Ctrl-E",
    "itemize": "Ctrl-I"
   },
   "labels_anchors": false,
   "latex_user_defs": false,
   "report_style_numbering": false,
   "user_envs_cfg": false
  },
  "toc": {
   "base_numbering": 1,
   "nav_menu": {},
   "number_sections": true,
   "sideBar": true,
   "skip_h1_title": true,
   "title_cell": "Inhalt",
   "title_sidebar": "Inhalt",
   "toc_cell": false,
   "toc_position": {},
   "toc_section_display": true,
   "toc_window_display": true
  },
  "varInspector": {
   "cols": {
    "lenName": 16,
    "lenType": 16,
    "lenVar": 40
   },
   "kernels_config": {
    "python": {
     "delete_cmd_postfix": "",
     "delete_cmd_prefix": "del ",
     "library": "var_list.py",
     "varRefreshCmd": "print(var_dic_list())"
    },
    "r": {
     "delete_cmd_postfix": ") ",
     "delete_cmd_prefix": "rm(",
     "library": "var_list.r",
     "varRefreshCmd": "cat(var_dic_list()) "
    }
   },
   "types_to_exclude": [
    "module",
    "function",
    "builtin_function_or_method",
    "instance",
    "_Feature"
   ],
   "window_display": false
  }
 },
 "nbformat": 4,
 "nbformat_minor": 5
}
