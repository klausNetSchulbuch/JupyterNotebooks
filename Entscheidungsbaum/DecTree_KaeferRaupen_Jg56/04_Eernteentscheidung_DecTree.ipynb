{
 "cells": [
  {
   "cell_type": "markdown",
   "metadata": {},
   "source": [
    "# Wie kann ein Landwirt entscheiden?"
   ]
  },
  {
   "cell_type": "markdown",
   "metadata": {},
   "source": [
    "## Die Story"
   ]
  },
  {
   "cell_type": "markdown",
   "metadata": {},
   "source": [
    "<div class=\"alert alert-block alert-success\">\n",
    "\n",
    "Ein Landwirt möchte entscheiden, ob ein man heute mit der Getreideernte beginnen möchte.\n",
    " \n",
    "Das hängt z.B. von der Regenwahrscheinlichkeit und dem Feuchtegehalt des Getreides ab.\n",
    "   \n",
    "Seine Entscheidungen in der Vergangenheit hat der Landwirt in einer Tabelle aufgezeichnet.\n"
   ]
  },
  {
   "cell_type": "markdown",
   "metadata": {},
   "source": [
    "<div class=\"alert alert-block alert-info\">\n",
    "\n",
    "Zur Vorbereitung werden wieder einige notwendige Bibliotheken sowie die Daten eingelesen.\n",
    "    \n",
    "**Führe also die folgenden beiden Zellen aus:**"
   ]
  },
  {
   "cell_type": "code",
   "execution_count": null,
   "metadata": {},
   "outputs": [],
   "source": [
    "import pandas as pd\n",
    "import plotly.express as px\n",
    "from PyTree import ClassificationTree as ct\n",
    "import ipywidgets as widgets\n",
    "\n",
    "color_map = {'ernten': 'green', 'warten': 'red'}\n",
    "\n",
    "data_x = \"Feuchtegrad\"\n",
    "data_y = \"Regen\"\n",
    "target = \"Aktion\"\n",
    "breite=800\n",
    "hoehe=600"
   ]
  },
  {
   "cell_type": "code",
   "execution_count": null,
   "metadata": {},
   "outputs": [],
   "source": [
    "df_ernten = pd.read_csv(\"Daten/Ernteentscheidung.csv\", sep=\";\")\n",
    "display(df_ernten)"
   ]
  },
  {
   "cell_type": "code",
   "execution_count": null,
   "metadata": {},
   "outputs": [],
   "source": [
    "max_x = max(df_ernten [\"Feuchtegrad\"])\n",
    "min_x = min(df_ernten [\"Feuchtegrad\"])\n",
    "max_y = max(df_ernten [\"Regen\"])\n",
    "min_y = min(df_ernten [\"Regen\"])\n",
    "\n",
    "delta_x = (max_x - min_x)\n",
    "delta_y = (max_y - min_y)\n",
    "\n",
    "bereich_x = [int(min_x - delta_x*0.05), int(max_x + delta_x*0.15)]\n",
    "bereich_y = [int(min_y - delta_y*0.05), int(max_y + delta_y*0.05)]"
   ]
  },
  {
   "cell_type": "markdown",
   "metadata": {},
   "source": [
    "## Entscheidungsbaum"
   ]
  },
  {
   "cell_type": "markdown",
   "metadata": {},
   "source": [
    "<div class=\"alert alert-block alert-success\">\n",
    "\n",
    "Betrachten wir das Streudiagramm mit dem Schwellenwert `Regen 45`, in dem die Anzahl Fehlklassifikationen eingetragen ist: "
   ]
  },
  {
   "cell_type": "code",
   "execution_count": null,
   "metadata": {
    "hide_input": false
   },
   "outputs": [],
   "source": [
    "schwellenwert = 45\n",
    "\n",
    "def fehlersumme_l(threshold):\n",
    "    tree = ct.DecisionTree(target=target, data=df_ernten)\n",
    "    tree.manual_split(attribute=\"Regen\", threshold=threshold, node_nr=1)\n",
    "    return tree.calculate_errors(data=df_ernten)\n",
    "\n",
    "\n",
    "fig = px.scatter(\n",
    "    df_ernten,\n",
    "    x=data_x,\n",
    "    y=data_y,\n",
    "    color=target,\n",
    "    color_discrete_map=color_map,\n",
    "    width=breite,\n",
    "    height=hoehe,\n",
    "    range_x=bereich_x,\n",
    "    range_y=bereich_y,\n",
    ")\n",
    "\n",
    "fig.update_traces(marker=dict(size=10, line=dict(width=1, color=\"black\")))\n",
    "\n",
    "fig.update_layout(\n",
    "    shapes=[\n",
    "        dict(\n",
    "            type=\"line\",\n",
    "            yref=\"y1\",\n",
    "            y0=schwellenwert,\n",
    "            y1=schwellenwert,\n",
    "            xref=\"x1\",\n",
    "            x0=bereich_x[0],\n",
    "            x1=bereich_x[1],\n",
    "            line=dict(color=\"Red\", width=1),\n",
    "        )\n",
    "    ]\n",
    ")\n",
    "\n",
    "fig.add_annotation(\n",
    "    x=16,\n",
    "    y=schwellenwert,\n",
    "    text=\"Schwellenwert Regen = \" + str(schwellenwert),\n",
    "    showarrow=False,\n",
    "    xshift=15,\n",
    ")\n",
    "\n",
    "fig.add_annotation(\n",
    "    x=16,\n",
    "    y=schwellenwert,\n",
    "    text=\"Fehler: \" + str(fehlersumme_l(schwellenwert)),\n",
    "    showarrow=False,\n",
    "    yshift=15,\n",
    ")\n",
    "\n",
    "\n",
    "fig.show()"
   ]
  },
  {
   "cell_type": "markdown",
   "metadata": {},
   "source": [
    "<div class=\"alert alert-block alert-warning\">\n",
    "\n",
    "#### *Aufgabe:* \n",
    "    \n",
    "Beschreibe, wie der Wert `39` als Fehleranzahl entsteht!\n",
    "</div>"
   ]
  },
  {
   "cell_type": "markdown",
   "metadata": {},
   "source": [
    "<div class=\"alert alert-block alert-success\">\n",
    "    \n",
    "Wenn du dir den zugehörigen Entscheidungsbaum zeigen lässt, kannst du verschiedene Informationen ablesen:"
   ]
  },
  {
   "cell_type": "code",
   "execution_count": null,
   "metadata": {
    "hide_input": false,
    "scrolled": false
   },
   "outputs": [],
   "source": [
    "tree = ct.DecisionTree(target=target, data=df_ernten)\n",
    "tree.manual_split(attribute=\"Regen\", threshold=45, node_nr=1)\n",
    "tree.print_tree()"
   ]
  },
  {
   "cell_type": "markdown",
   "metadata": {},
   "source": [
    "<div class=\"alert alert-block alert-warning\">\n",
    "\n",
    "#### *Aufgabe:* \n",
    "    \n",
    "Schreibe jetzt hier Deine Beobachtung hin.\n",
    "    \n",
    "- In dem blauen Rechteck:\n",
    "    - ???\n",
    "- In dem weissen Rechteck Nr. 1:\n",
    "   - ??? \n",
    "- In dem linken gelben Rechteck Nr. 2:\n",
    "   - ??? \n",
    "- In dem rechten gelben Rechteck Nr. 3:\n",
    "    - ???\n",
    "</div>"
   ]
  },
  {
   "cell_type": "markdown",
   "metadata": {},
   "source": [
    "<div class=\"alert alert-block alert-success\">\n",
    "\n",
    "Du kannst dir hier für verschiedene Schwellenwerte den jeweiligen Entscheidungsbaum ansehen:"
   ]
  },
  {
   "cell_type": "code",
   "execution_count": null,
   "metadata": {},
   "outputs": [],
   "source": [
    "start = (min_y + max_y) // 2\n",
    "\n",
    "slider_l = widgets.BoundedFloatText(\n",
    "    value=start,\n",
    "    min=int(min_y+0.5),\n",
    "    max=int(max_y-0.5),\n",
    "    step=0.5,\n",
    "    description=\"\",\n",
    "    layout=widgets.Layout(width=\"30%\"),\n",
    ")\n",
    "\n",
    "def makeTree_l(schwellenwert):\n",
    "    tree = ct.DecisionTree(target=target, data=df_ernten)\n",
    "    tree.manual_split(attribute=\"Regen\", threshold=schwellenwert, node_nr=1)\n",
    "    return tree\n",
    "\n",
    "def on_value_change_l(event):\n",
    "\n",
    "    with output_l:\n",
    "        output_l.clear_output()\n",
    "        sw_l = event[\"new\"]\n",
    "        tree = makeTree_l(sw_l)\n",
    "        display (tree.print_tree())\n",
    "\n",
    "\n",
    "slider_l.observe(on_value_change_l, names=\"value\")\n",
    "\n",
    "output_l = widgets.Output ();\n",
    "display(\n",
    "    widgets.HBox([widgets.Label(\"Schwellenwert für Regen\"), slider_l, output_l])\n",
    ")\n",
    "sw_l = start\n",
    "tree = makeTree_l(sw_l)\n",
    "with output_l:\n",
    "    display (tree.print_tree())"
   ]
  },
  {
   "cell_type": "markdown",
   "metadata": {},
   "source": [
    "<div class=\"alert alert-block alert-warning\">\n",
    "\n",
    "#### *Aufgabe:* \n",
    "    \n",
    "Suche jetzt für die Variable `Regen` den besten Schwellenwert!"
   ]
  },
  {
   "cell_type": "markdown",
   "metadata": {
    "solution2": "hidden"
   },
   "source": [
    "1. Für einen Schwellenwert von 30 werden 9 Insekten (1 Marienkäfer, 8 Raupen) falsch klassifiziert. \n",
    "2. Für einen Schwellenwert von 70 werden 6 Insekten (alles Marienkäfer) falsch als Raupe klassifiziert. "
   ]
  },
  {
   "cell_type": "markdown",
   "metadata": {},
   "source": [
    "<div class=\"alert alert-block alert-success\">\n",
    "\n",
    "Wir können jetzt auch den Feuchtegrad als Kriterium nutzen:"
   ]
  },
  {
   "cell_type": "code",
   "execution_count": null,
   "metadata": {},
   "outputs": [],
   "source": [
    "start = (min_x + max_x) // 2\n",
    "\n",
    "slider_r = widgets.BoundedFloatText(\n",
    "    value=start,\n",
    "    min=int(min_x+0.5),\n",
    "    max=int(max_x-0.5),\n",
    "    step=0.5,\n",
    "    description=\"\",\n",
    "    layout=widgets.Layout(width=\"30%\"),\n",
    ")\n",
    "\n",
    "def makeTree_r(schwellenwert):\n",
    "    tree = ct.DecisionTree(target=target, data=df_ernten)\n",
    "    tree.manual_split(attribute=\"Feuchtegrad\", threshold=schwellenwert, node_nr=1)\n",
    "    return tree\n",
    "\n",
    "def on_value_change_r(event):\n",
    "\n",
    "    with output_r:\n",
    "        output_r.clear_output()\n",
    "        sw_r = event[\"new\"]\n",
    "        tree = makeTree_r(sw_r)\n",
    "        display (tree.print_tree())\n",
    "\n",
    "\n",
    "slider_r.observe(on_value_change_r, names=\"value\")\n",
    "\n",
    "output_r = widgets.Output()\n",
    "\n",
    "display(\n",
    "    widgets.HBox([widgets.Label(\"Schwellenwert für Feuchtegrad\"), slider_r, output_r])\n",
    ")\n",
    "sw_r = start\n",
    "tree = makeTree_r(sw_r)\n",
    "with output_r:\n",
    "    display (tree.print_tree())"
   ]
  },
  {
   "cell_type": "markdown",
   "metadata": {
    "solution2": "shown",
    "solution2_first": true
   },
   "source": [
    "<div class=\"alert alert-block alert-warning\">\n",
    "\n",
    "#### *Aufgabe:* \n",
    "    \n",
    "Suche jetzt für die Variable `Feuchtegrad` den besten Schwellenwert!"
   ]
  },
  {
   "cell_type": "markdown",
   "metadata": {
    "solution2": "shown"
   },
   "source": [
    "Für einen Schwellenwert von 14.5 entstehen 7 Fehler. Das ist der beste Schwellenwert."
   ]
  },
  {
   "cell_type": "markdown",
   "metadata": {},
   "source": [
    "<div class=\"alert alert-block alert-success\">\n",
    "\n",
    "Hier kannst du dir nochmal verschiedene Entscheidungsbäume ansehen. Du kannst\n",
    "    \n",
    "- wählen, welche Variable du als Prädiktorvariable nutzen möchtest.\n",
    "- den Schwellenwert einstellen."
   ]
  },
  {
   "cell_type": "code",
   "execution_count": null,
   "metadata": {},
   "outputs": [],
   "source": [
    "def show_tree(attribute, schwellenwert):\n",
    "\n",
    "    tree = ct.DecisionTree(target=target, data=df_ernten)\n",
    "    tree.manual_split(attribute=attribute, threshold=schwellenwert, node_nr=1)\n",
    "    tree.print_tree()\n",
    "    display(tree.tree_graph)\n",
    "\n",
    "    return tree\n",
    "\n",
    "\n",
    "tree_widget = widgets.interactive(\n",
    "    show_tree,\n",
    "    {\"manual\": True, \"manual_name\": \"Erstelle Tree\"},\n",
    "    attribute = [\"Regen\",\"Feuchtegrad\"],\n",
    "    schwellenwert = (0, 100, 0.5)\n",
    ")\n",
    "tree_widget"
   ]
  },
  {
   "cell_type": "markdown",
   "metadata": {},
   "source": [
    "## Weitere Datensplits"
   ]
  },
  {
   "cell_type": "markdown",
   "metadata": {},
   "source": [
    "<div class=\"alert alert-block alert-success\">\n",
    "    \n",
    "Wir haben jetzt die Daten optimal anhand des Feuchtegrades klassifiziert.\n",
    "    \n",
    "Denn der optimale Datensplit (Feuchtegrad = 14.5) erzeugte nur 7 Fehler. Diese Fehler erkennt man in dem Knoten 3:\n",
    "    \n",
    "- Alle Daten werden als *warten* interpretiert, obwohl 7 Daten als *ernten* gelabled waren.\n",
    "   \n",
    "Die Idee ist jetzt, den Knoten mit der Nummer 3 weiter aufzuteilen:\n",
    "    \n",
    "Also:\n",
    "\n",
    "- Für die Daten mit `Feuchtegehalt > 14.` suchen wir nach einem Schwellenwert für die Regenwahrscheinlichkeit, um die insgesamt 49 Daten zu unterscheiden. Dieser Schwellenwert soll also nur für die daten im Knoten Nr. 3 zuständig sein."
   ]
  },
  {
   "cell_type": "markdown",
   "metadata": {},
   "source": [
    "<div class=\"alert alert-block alert-warning\">\n",
    "\n",
    "#### *Aufgabe:* \n",
    "    \n",
    "Ändere in dem folgenden Programmabschnitt den Wert für `schwellenwertFuerRegen` geeignet ab, also so, dass möglichst wenige Fehlklassifikationen entstehen.\n",
    "</div>"
   ]
  },
  {
   "cell_type": "code",
   "execution_count": null,
   "metadata": {},
   "outputs": [],
   "source": [
    "def show_tree(attribute, schwellenwert):\n",
    "\n",
    "    tree = ct.DecisionTree(target=target, data=df_ernten)\n",
    "    tree.manual_split(attribute='Feuchtegrad', threshold=14.5, node_nr=1)\n",
    "    tree.manual_split(attribute='Regen', threshold=schwellenwert, node_nr=3)\n",
    "\n",
    "    tree.print_tree()\n",
    "    \n",
    "    print(\"Fehler:\", tree.calculate_errors(data=df_ernten))\n",
    "\n",
    "    display(tree.tree_graph)\n",
    "\n",
    "    return tree\n",
    "\n",
    "tree_widget = widgets.interactive(\n",
    "    show_tree,\n",
    "    {\"manual\": True, \"manual_name\": \"Erstelle Tree\"},\n",
    "    attribute = [\"Regen\"],\n",
    "    schwellenwert = (10, 90, 0.5)\n",
    ")\n",
    "tree_widget"
   ]
  },
  {
   "cell_type": "markdown",
   "metadata": {},
   "source": [
    "## Der optimale Entscheidungsbaum mit zwei Stufen wird automatisch erstellt."
   ]
  },
  {
   "cell_type": "markdown",
   "metadata": {},
   "source": [
    "<div class=\"alert alert-block alert-success\">\n",
    "\n",
    "Bisher haben wir den besten Entscheidungsbaum selber erstellt, indem wir in mehreren Stufen die jeweils besten Schwellenwerte genutzt haben, um weitere Datensplits zu erzeugen.\n",
    "    \n",
    "Es gibt eine Bibliothek, die diesen Vorgang automatisiert. Sie funktioniert nach genau diesem Prinzip:"
   ]
  },
  {
   "cell_type": "code",
   "execution_count": null,
   "metadata": {},
   "outputs": [],
   "source": [
    "tree_all = ct.DecisionTree(target = 'Aktion', data = df_ernten)\n",
    "\n",
    "#Entscheidungsbaum erstellen \n",
    "tree_all.grow_tree(df_ernten, 'Aktion', max_depth = 2)\n",
    "\n",
    "#Entscheidungsbaum ausgeben\n",
    "tree_all.print_tree()"
   ]
  },
  {
   "cell_type": "markdown",
   "metadata": {},
   "source": [
    "<div class=\"alert alert-block alert-success\">\n",
    "\n",
    "Das zugehörige Streudiagramm:"
   ]
  },
  {
   "cell_type": "code",
   "execution_count": null,
   "metadata": {},
   "outputs": [],
   "source": [
    "import plotly.express as px\n",
    "\n",
    "vertikal = 14.6\n",
    "horizontal = 79.0\n",
    "\n",
    "tree = ct.DecisionTree(target=\"Aktion\", data=df_ernten)\n",
    "\n",
    "#fehlersumme = calc_errors(hor, tree, \"Länge\")\n",
    "#fehlersumme = tree.calculate_errors(data = df_kaefer) \n",
    "\n",
    "color_map = {'ernten': 'green', 'warten': 'red'}\n",
    "\n",
    "fig = px.scatter(\n",
    "    df_ernten,\n",
    "#    df_testdaten,\n",
    "    x=\"Feuchtegrad\",\n",
    "    y=\"Regen\",\n",
    "    color=\"Aktion\",\n",
    "    color_discrete_map=color_map,\n",
    "    width=800,\n",
    "    height=600,\n",
    "    range_x=bereich_x,\n",
    "    range_y=bereich_y,\n",
    "    #size = 0.01\n",
    ")\n",
    "\n",
    "fig.update_traces(marker=dict(  #size=5, \n",
    "    line=dict(width=1, color='black')))\n",
    "\n",
    "\n",
    "fig.update_layout(shapes=[\n",
    "    dict(\n",
    "        type=\"line\",\n",
    "        yref=\"y1\",\n",
    "        x0=vertikal,\n",
    "        x1=vertikal,\n",
    "        xref=\"x1\",\n",
    "        y0=bereich_y[0],\n",
    "        y1=horizontal,\n",
    "        line=dict(color=\"Red\", width=1),\n",
    "    ),\n",
    "    dict(\n",
    "        type=\"line\",\n",
    "        yref=\"y1\",\n",
    "        x0=bereich_x[0],\n",
    "        x1=bereich_x[1],\n",
    "        xref=\"x1\",\n",
    "        y0=horizontal,\n",
    "        y1=horizontal,\n",
    "        line=dict(color=\"Red\", width=1),\n",
    "    ),\n",
    "    dict(\n",
    "        type=\"rect\",\n",
    "        yref=\"y1\",\n",
    "        x0=bereich_x[0],\n",
    "        x1=vertikal,\n",
    "        xref=\"x1\",\n",
    "        y0=bereich_y[0],\n",
    "        y1=bereich_y[1],\n",
    "        fillcolor=color_map[\"ernten\"],\n",
    "        opacity=0.3,\n",
    "        layer=\"below\",\n",
    "        line_width=0,\n",
    "    ),\n",
    "    dict(\n",
    "        type=\"rect\",\n",
    "        yref=\"y1\",\n",
    "        x0=vertikal,\n",
    "        x1=bereich_x[1],\n",
    "        xref=\"x1\",\n",
    "        y0=bereich_y[0],\n",
    "        y1=horizontal,\n",
    "        fillcolor=color_map[\"warten\"],\n",
    "        opacity=0.3,\n",
    "        layer=\"below\",\n",
    "        line_width=0,\n",
    "    ),\n",
    "    dict(\n",
    "        type=\"rect\",\n",
    "        yref=\"y1\",\n",
    "        x0=vertikal,\n",
    "        x1=bereich_x[1],\n",
    "        xref=\"x1\",\n",
    "        y0=horizontal,\n",
    "        y1=bereich_y[1],\n",
    "        fillcolor=color_map[\"ernten\"],\n",
    "        opacity=0.3,\n",
    "        layer=\"below\",\n",
    "        line_width=0,\n",
    "    ),\n",
    "])\n",
    "\n",
    "fig.show()"
   ]
  },
  {
   "cell_type": "code",
   "execution_count": null,
   "metadata": {},
   "outputs": [],
   "source": []
  }
 ],
 "metadata": {
  "celltoolbar": "Raw Cell Format",
  "hide_input": false,
  "kernelspec": {
   "display_name": "Python 3 (ipykernel)",
   "language": "python",
   "name": "python3"
  },
  "language_info": {
   "codemirror_mode": {
    "name": "ipython",
    "version": 3
   },
   "file_extension": ".py",
   "mimetype": "text/x-python",
   "name": "python",
   "nbconvert_exporter": "python",
   "pygments_lexer": "ipython3",
   "version": "3.10.13"
  },
  "latex_envs": {
   "LaTeX_envs_menu_present": true,
   "autoclose": false,
   "autocomplete": true,
   "bibliofile": "biblio.bib",
   "cite_by": "apalike",
   "current_citInitial": 1,
   "eqLabelWithNumbers": true,
   "eqNumInitial": 1,
   "hotkeys": {
    "equation": "Ctrl-E",
    "itemize": "Ctrl-I"
   },
   "labels_anchors": false,
   "latex_user_defs": false,
   "report_style_numbering": false,
   "user_envs_cfg": true
  },
  "toc": {
   "base_numbering": 1,
   "nav_menu": {},
   "number_sections": true,
   "sideBar": true,
   "skip_h1_title": true,
   "title_cell": "Table of Contents",
   "title_sidebar": "Contents",
   "toc_cell": false,
   "toc_position": {
    "height": "calc(100% - 180px)",
    "left": "10px",
    "top": "150px",
    "width": "165px"
   },
   "toc_section_display": true,
   "toc_window_display": true
  },
  "varInspector": {
   "cols": {
    "lenName": 16,
    "lenType": 16,
    "lenVar": 40
   },
   "kernels_config": {
    "python": {
     "delete_cmd_postfix": "",
     "delete_cmd_prefix": "del ",
     "library": "var_list.py",
     "varRefreshCmd": "print(var_dic_list())"
    },
    "r": {
     "delete_cmd_postfix": ") ",
     "delete_cmd_prefix": "rm(",
     "library": "var_list.r",
     "varRefreshCmd": "cat(var_dic_list()) "
    }
   },
   "types_to_exclude": [
    "module",
    "function",
    "builtin_function_or_method",
    "instance",
    "_Feature"
   ],
   "window_display": false
  }
 },
 "nbformat": 4,
 "nbformat_minor": 2
}
