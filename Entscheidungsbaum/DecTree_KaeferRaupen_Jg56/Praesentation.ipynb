{
 "cells": [
  {
   "cell_type": "markdown",
   "id": "231b7fe6",
   "metadata": {
    "toc": true
   },
   "source": [
    "<h1>Inhalt<span class=\"tocSkip\"></span></h1>\n",
    "<div class=\"toc\"><ul class=\"toc-item\"><li><span><a href=\"#Welche-Breiten-und-Längen-sind-typisch-für-Marienkäfer-und-Raupen?\" data-toc-modified-id=\"Welche-Breiten-und-Längen-sind-typisch-für-Marienkäfer-und-Raupen?-1\"><span class=\"toc-item-num\">1&nbsp;&nbsp;</span>Welche <strong>Breiten</strong> und <strong>Längen</strong> sind typisch für Marienkäfer und Raupen?</a></span></li><li><span><a href=\"#Das-System-bekommt-die-Daten\" data-toc-modified-id=\"Das-System-bekommt-die-Daten-2\"><span class=\"toc-item-num\">2&nbsp;&nbsp;</span>Das System bekommt die Daten</a></span></li><li><span><a href=\"#Streudiagramm\" data-toc-modified-id=\"Streudiagramm-3\"><span class=\"toc-item-num\">3&nbsp;&nbsp;</span>Streudiagramm</a></span><ul class=\"toc-item\"><li><ul class=\"toc-item\"><li><span><a href=\"#Aufgabe:\" data-toc-modified-id=\"Aufgabe:-3.0.1\"><span class=\"toc-item-num\">3.0.1&nbsp;&nbsp;</span><em>Aufgabe:</em></a></span></li><li><span><a href=\"#Aufgabe:\" data-toc-modified-id=\"Aufgabe:-3.0.2\"><span class=\"toc-item-num\">3.0.2&nbsp;&nbsp;</span><em>Aufgabe:</em></a></span></li></ul></li></ul></li><li><span><a href=\"#Streudiagramm-aus-den-Daten-erzeugen-lassen\" data-toc-modified-id=\"Streudiagramm-aus-den-Daten-erzeugen-lassen-4\"><span class=\"toc-item-num\">4&nbsp;&nbsp;</span>Streudiagramm aus den Daten erzeugen lassen</a></span><ul class=\"toc-item\"><li><span><a href=\"#Aufgabe:-Beschreibe,-welche-Informationen-Du-erkennen-kannst.\" data-toc-modified-id=\"Aufgabe:-Beschreibe,-welche-Informationen-Du-erkennen-kannst.-4.1\"><span class=\"toc-item-num\">4.1&nbsp;&nbsp;</span><em>Aufgabe: Beschreibe, welche Informationen Du erkennen kannst.</em></a></span></li></ul></li><li><span><a href=\"#Schwellenwert\" data-toc-modified-id=\"Schwellenwert-5\"><span class=\"toc-item-num\">5&nbsp;&nbsp;</span>Schwellenwert</a></span><ul class=\"toc-item\"><li><ul class=\"toc-item\"><li><span><a href=\"#Aufgabe:\" data-toc-modified-id=\"Aufgabe:-5.0.1\"><span class=\"toc-item-num\">5.0.1&nbsp;&nbsp;</span><em>Aufgabe:</em></a></span></li></ul></li></ul></li><li><span><a href=\"#Bester-Schwellenwert-für-die-Länge-der-Insekten\" data-toc-modified-id=\"Bester-Schwellenwert-für-die-Länge-der-Insekten-6\"><span class=\"toc-item-num\">6&nbsp;&nbsp;</span>Bester Schwellenwert für die Länge der Insekten</a></span><ul class=\"toc-item\"><li><ul class=\"toc-item\"><li><span><a href=\"#Aufgabe:\" data-toc-modified-id=\"Aufgabe:-6.0.1\"><span class=\"toc-item-num\">6.0.1&nbsp;&nbsp;</span><em>Aufgabe:</em></a></span></li></ul></li></ul></li><li><span><a href=\"#Klassifikation-mit-Hilfe-der-Breite-der-Insekten\" data-toc-modified-id=\"Klassifikation-mit-Hilfe-der-Breite-der-Insekten-7\"><span class=\"toc-item-num\">7&nbsp;&nbsp;</span>Klassifikation mit Hilfe der Breite der Insekten</a></span></li><li><span><a href=\"#Entscheidungsbaum\" data-toc-modified-id=\"Entscheidungsbaum-8\"><span class=\"toc-item-num\">8&nbsp;&nbsp;</span>Entscheidungsbaum</a></span><ul class=\"toc-item\"><li><ul class=\"toc-item\"><li><span><a href=\"#Aufgabe:\" data-toc-modified-id=\"Aufgabe:-8.0.1\"><span class=\"toc-item-num\">8.0.1&nbsp;&nbsp;</span><em>Aufgabe:</em></a></span></li></ul></li></ul></li><li><span><a href=\"#Weitere-manuelle-Datensplits\" data-toc-modified-id=\"Weitere-manuelle-Datensplits-9\"><span class=\"toc-item-num\">9&nbsp;&nbsp;</span>Weitere manuelle Datensplits</a></span></li><li><span><a href=\"#Testdaten:-Wie-gut-ist-der-Entscheidungsbaum?\" data-toc-modified-id=\"Testdaten:-Wie-gut-ist-der-Entscheidungsbaum?-10\"><span class=\"toc-item-num\">10&nbsp;&nbsp;</span>Testdaten: Wie gut ist der Entscheidungsbaum?</a></span></li></ul></div>"
   ]
  },
  {
   "cell_type": "markdown",
   "id": "40639e13",
   "metadata": {
    "slideshow": {
     "slide_type": "slide"
    }
   },
   "source": [
    "# Wie können Marienkäfer von Raupen unterschieden werden?\n",
    "\n",
    "**Die Daten: Grundlage für das Lernen**"
   ]
  },
  {
   "cell_type": "markdown",
   "id": "539c2451",
   "metadata": {
    "slideshow": {
     "slide_type": "fragment"
    }
   },
   "source": [
    "<td> \n",
    "    <img src=\"Bilder\\marienkaefer.jpg\" alt=\"Drawing\" style=\"width: 300px; float: left;\"  hspace=40 /> \n",
    "    <img src=\"Bilder\\raupe.jpg\" alt=\"Drawing\" style=\"width: 300px; float: left;\" hspace=40/>\n",
    "</td>\n"
   ]
  },
  {
   "cell_type": "markdown",
   "id": "5f8b2cb5",
   "metadata": {
    "slideshow": {
     "slide_type": "slide"
    }
   },
   "source": [
    "## Welche **Breiten** und **Längen** sind typisch für Marienkäfer und Raupen?\n",
    "\n",
    "Beispielhaft können wir uns einmal die Maße eines Marienkäfers anschauen: "
   ]
  },
  {
   "cell_type": "markdown",
   "id": "554892da",
   "metadata": {
    "slideshow": {
     "slide_type": "fragment"
    }
   },
   "source": [
    "<img src=\"Bilder/kaefer_messen.png\" alt=\"Käfer messen\" style=\"width: 300px; float: left;\" hspace=40/>"
   ]
  },
  {
   "cell_type": "markdown",
   "id": "92090b6b",
   "metadata": {
    "slideshow": {
     "slide_type": "slide"
    }
   },
   "source": [
    "## Das System bekommt die Daten"
   ]
  },
  {
   "cell_type": "code",
   "execution_count": null,
   "id": "6b41b133",
   "metadata": {
    "slideshow": {
     "slide_type": "slide"
    }
   },
   "outputs": [],
   "source": [
    "# Bibliothek pandas importieren\n",
    "import pandas as pd"
   ]
  },
  {
   "cell_type": "code",
   "execution_count": null,
   "id": "942de9dc",
   "metadata": {
    "slideshow": {
     "slide_type": "fragment"
    }
   },
   "outputs": [],
   "source": [
    "df_kaefer = pd.read_csv(\"Daten/Kaefer.csv\", sep=\";\")\n",
    "\n",
    "display(df_kaefer)"
   ]
  },
  {
   "cell_type": "markdown",
   "id": "6822cd9e",
   "metadata": {
    "slideshow": {
     "slide_type": "slide"
    }
   },
   "source": [
    "## Streudiagramm"
   ]
  },
  {
   "cell_type": "markdown",
   "id": "7e1679b6",
   "metadata": {
    "slideshow": {
     "slide_type": "slide"
    }
   },
   "source": [
    "<img src=\"Bilder/Beispieldiagramm_Marienkaefer_Raupe.png\" alt=\"Streudiagramm\" style=\"float: left;\">"
   ]
  },
  {
   "cell_type": "markdown",
   "id": "49924710",
   "metadata": {
    "slideshow": {
     "slide_type": "skip"
    }
   },
   "source": [
    "<div class=\"alert alert-block alert-warning\">\n",
    "   \n",
    "#### *Aufgabe:*\n",
    "\n",
    "Erstelle ein Streudiagramm auf Papier und trage die Daten von folgenden Marienkäfern und Raupen als Punkte dort ein.\n",
    "    \n",
    "Zeilennr. | Breite | Länge | Insekt\n",
    "--------- | ------ | ------| ------\n",
    "0         | 0.48   | 0.38  | Marienkäfer\n",
    "1         | 0.32   | 0.74  | Raupe\n",
    "2         | 0.49   | 0.27  | Marienkäfer\n",
    "3         | 0.58   | 0.46  | Marienkäfer\n",
    "4         | 0.11   | 0.58  | Raupe"
   ]
  },
  {
   "cell_type": "markdown",
   "id": "4a3e1265",
   "metadata": {
    "slideshow": {
     "slide_type": "skip"
    }
   },
   "source": [
    "<div class=\"alert alert-block alert-warning\">\n",
    "   \n",
    "#### *Aufgabe:*\n",
    "    \n",
    "Trage die Daten der folgenden vier Insekten zusätzlich in Dein Streudiagramm ein.\n",
    "    \n",
    "- Bestimme - auf Grundlage ihrer Größe (Breite / Länge) die Insektenklasse (Käfer oder Raupe).\n",
    "- Begründe Deine Entscheidung.\n",
    "\n",
    "Zeilennr. | Breite | Länge | Insekt?\n",
    "----------|--------|-------|------\n",
    "0         | 0.6    | 0.4   |\n",
    "1         | 0.2    | 0.8   |\n",
    "3         | 0.8    | 0.4   |\n",
    "4         | 0.5    | 0.6   |\n"
   ]
  },
  {
   "cell_type": "markdown",
   "id": "bc9ee923",
   "metadata": {
    "slideshow": {
     "slide_type": "slide"
    }
   },
   "source": [
    "## Streudiagramm aus den Daten erzeugen lassen"
   ]
  },
  {
   "cell_type": "code",
   "execution_count": null,
   "id": "6fea38a4",
   "metadata": {
    "slideshow": {
     "slide_type": "slide"
    }
   },
   "outputs": [],
   "source": [
    "import plotly.express as px\n",
    "\n",
    "color_map = {'Marienkäfer': 'orange', 'Raupe': 'lightblue'}\n",
    "\n",
    "data_x = \"Breite\"\n",
    "data_y = \"Länge\"\n",
    "target = \"Insekt\"\n",
    "breite=800\n",
    "hoehe=600\n",
    "bereich_x=[-0.01, 1.01]\n",
    "bereich_y=[-0.01, 1.01]"
   ]
  },
  {
   "cell_type": "code",
   "execution_count": null,
   "id": "33892655",
   "metadata": {
    "slideshow": {
     "slide_type": "slide"
    }
   },
   "outputs": [],
   "source": [
    "fig = px.scatter(\n",
    "    df_kaefer,\n",
    "    x=data_x,\n",
    "    y=data_y,\n",
    "    color=target,\n",
    "    color_discrete_map=color_map,\n",
    "    width=breite,\n",
    "    height=hoehe,\n",
    "    range_x=bereich_x,\n",
    "    range_y=bereich_y,\n",
    ")\n",
    "\n",
    "fig.update_traces(marker=dict(size=10, line=dict(width=1, color=\"black\")))\n",
    "\n",
    "fig.show()"
   ]
  },
  {
   "cell_type": "markdown",
   "id": "4e3a60ac",
   "metadata": {
    "slideshow": {
     "slide_type": "skip"
    }
   },
   "source": [
    "<div class=\"alert alert-block alert-warning\">\n",
    "\n",
    "### *Aufgabe: Beschreibe, welche Informationen Du erkennen kannst.*"
   ]
  },
  {
   "cell_type": "markdown",
   "id": "c738994a",
   "metadata": {
    "slideshow": {
     "slide_type": "slide"
    }
   },
   "source": [
    "## Schwellenwert"
   ]
  },
  {
   "cell_type": "markdown",
   "id": "d3356ff2",
   "metadata": {
    "slideshow": {
     "slide_type": "fragment"
    }
   },
   "source": [
    "<div class=\"alert alert-block alert-success\">\n",
    "Das Streudiagramm wird durch eine Kleinigkeit ergänzt. "
   ]
  },
  {
   "cell_type": "code",
   "execution_count": null,
   "id": "d8f9e8c8",
   "metadata": {
    "slideshow": {
     "slide_type": "slide"
    }
   },
   "outputs": [],
   "source": [
    "hor = 0.54\n",
    "fig = px.scatter(\n",
    "    df_kaefer,\n",
    "    x=data_x,\n",
    "    y=data_y,\n",
    "    color=target,\n",
    "    color_discrete_map=color_map,\n",
    "    width=breite,\n",
    "    height=hoehe,\n",
    "    range_x=bereich_x,\n",
    "    range_y=bereich_y,\n",
    ")\n",
    "\n",
    "fig.update_traces(marker=dict(size=10, line=dict(width=1, color=\"black\")))\n",
    "\n",
    "fig.update_layout(\n",
    "    shapes=[\n",
    "        dict(\n",
    "            type=\"line\",\n",
    "            yref=\"y1\",\n",
    "            y0=hor,\n",
    "            y1=hor,\n",
    "            xref=\"x1\",\n",
    "            x0=0,\n",
    "            x1=1,\n",
    "            line=dict(color=\"Red\", width=1),\n",
    "        ),\n",
    "        dict(\n",
    "            type=\"rect\",\n",
    "            yref=\"y1\",\n",
    "            y0=hor,\n",
    "            y1=1,\n",
    "            xref=\"x1\",\n",
    "            x0=0,\n",
    "            x1=1,\n",
    "            fillcolor=color_map[\"Raupe\"],\n",
    "            opacity=0.3,\n",
    "            layer=\"below\",\n",
    "            line_width=0,\n",
    "        ),\n",
    "        dict(\n",
    "            type=\"rect\",\n",
    "            yref=\"y1\",\n",
    "            y0=0,\n",
    "            y1=hor,\n",
    "            xref=\"x1\",\n",
    "            x0=0,\n",
    "            x1=1,\n",
    "            fillcolor=color_map[\"Marienkäfer\"],\n",
    "            opacity=0.3,\n",
    "            layer=\"below\",\n",
    "            line_width=0,\n",
    "        ),\n",
    "    ]\n",
    ")\n",
    "\n",
    "fig.add_annotation(\n",
    "    x=0.8, y=hor, text=\"Wert der Länge=\" + str(hor), showarrow=True,\n",
    ")\n",
    "\n",
    "fig.show()"
   ]
  },
  {
   "cell_type": "markdown",
   "id": "5aa38ac1",
   "metadata": {
    "slideshow": {
     "slide_type": "skip"
    }
   },
   "source": [
    "<div class=\"alert alert-block alert-warning\">\n",
    "\n",
    "#### *Aufgabe:* \n",
    "    \n",
    "Beschreibe, welche Bedeutung die eingezeichnete waagerechte Linie hat.\n",
    "    \n",
    "- *Beachte, dass einige Marker genau auf der Linie liegen!* \n",
    "    \n",
    "   - **Diese Marker gehören dann zu dem unteren Bereich!**\n",
    "\n",
    "- Welche Maße haben diese Insekten?\n"
   ]
  },
  {
   "cell_type": "markdown",
   "id": "22e4edd7",
   "metadata": {
    "slideshow": {
     "slide_type": "slide"
    }
   },
   "source": [
    "<div class=\"alert alert-block alert-success\">\n",
    "\n",
    "**Der** ***Schwellenwert*** **ist der Wert eines Attributes, der die Daten in zwei Klassen aufteilt.**\n",
    "    \n",
    "In dem dargestellten Diagramm ist der Schwellenwert 0.56\n",
    "    \n",
    "In dem Beispiel gibt es zwei Arten von Insekten:\n",
    "- Insekten, deren Länge größer ist als der Schwellenwert 0.56\n",
    "- Insekten, deren Länge nicht größer ist als der Schwellenwert 0.56\n",
    "    \n",
    "**Man erkennt, dass alle Insekten, deren Länge größer ist als der Schwellenwert 0.56, Raupen sind.**"
   ]
  },
  {
   "cell_type": "markdown",
   "id": "c3f9266c",
   "metadata": {
    "slideshow": {
     "slide_type": "slide"
    }
   },
   "source": [
    "## Bester Schwellenwert für die Länge der Insekten"
   ]
  },
  {
   "cell_type": "markdown",
   "id": "71ebdc24",
   "metadata": {
    "slideshow": {
     "slide_type": "fragment"
    }
   },
   "source": [
    "<div class=\"alert alert-block alert-warning\">\n",
    "Jetzt kannst Du einmal versuchen, andere Schwellenwert zu nutzen.\n",
    "\n",
    "- Dazu kannst du in der folgenden Zelle mit dem Schieber den Schwellenwert verändern. \n",
    "- Alternativ kannst du in der übernächsten Zelle den Schwellenwert in einer Eingabebox auswählen. \n",
    "\n",
    "Das entsprechende Streudiagramm mit der Angabe der Fehlklassifikationen wird dann angezeigt."
   ]
  },
  {
   "cell_type": "code",
   "execution_count": null,
   "id": "9767c956",
   "metadata": {
    "slideshow": {
     "slide_type": "slide"
    }
   },
   "outputs": [],
   "source": [
    "import ipywidgets as widgets\n",
    "from PyTree import ClassificationTree as ct"
   ]
  },
  {
   "cell_type": "code",
   "execution_count": null,
   "id": "8556512c",
   "metadata": {
    "slideshow": {
     "slide_type": "slide"
    }
   },
   "outputs": [],
   "source": [
    "sw_widget = widgets.BoundedFloatText(\n",
    "    value=0.8,\n",
    "    min=0.20,\n",
    "    max=0.80,\n",
    "    step=0.01,\n",
    "    description=\"\",\n",
    "    layout=widgets.Layout(width=\"20%\"),\n",
    "\n",
    "    disabled=False\n",
    ")\n",
    "\n",
    "\n",
    "def fehlersumme_l(threshold):\n",
    "    tree = ct.DecisionTree(target=target, data=df_kaefer)\n",
    "    tree.manual_split(attribute=\"Länge\", threshold=threshold, node_nr=1)\n",
    "    return tree.calculate_errors(data=df_kaefer)\n",
    "\n",
    "\n",
    "def makeFigure_l(schwellenwert):\n",
    "    fig = px.scatter(\n",
    "        df_kaefer,\n",
    "        x=data_x,\n",
    "        y=data_y,\n",
    "        color=target,\n",
    "        color_discrete_map=color_map,\n",
    "        width=breite,\n",
    "        height=hoehe,\n",
    "        range_x=bereich_x,\n",
    "        range_y=bereich_y,\n",
    "    )\n",
    "\n",
    "    fig.update_traces(marker=dict(size=10, line=dict(width=1, color=\"black\")))\n",
    "\n",
    "    fig.update_layout(\n",
    "        shapes=[\n",
    "            dict(\n",
    "                type=\"line\",\n",
    "                yref=\"y1\",\n",
    "                y0=schwellenwert,\n",
    "                y1=schwellenwert,\n",
    "                xref=\"x1\",\n",
    "                x0=0,\n",
    "                x1=1,\n",
    "                line=dict(color=\"Red\", width=1),\n",
    "            ),\n",
    "            dict(\n",
    "                type=\"rect\",\n",
    "                yref=\"y1\",\n",
    "                y0=schwellenwert,\n",
    "                y1=1,\n",
    "                xref=\"x1\",\n",
    "                x0=0,\n",
    "                x1=1,\n",
    "                fillcolor=color_map[\"Raupe\"],\n",
    "                opacity=0.3,\n",
    "                layer=\"below\",\n",
    "                line_width=0,\n",
    "            ),\n",
    "            dict(\n",
    "                type=\"rect\",\n",
    "                yref=\"y1\",\n",
    "                y0=0,\n",
    "                y1=schwellenwert,\n",
    "                xref=\"x1\",\n",
    "                x0=0,\n",
    "                x1=1,\n",
    "                fillcolor=color_map[\"Marienkäfer\"],\n",
    "                opacity=0.3,\n",
    "                layer=\"below\",\n",
    "                line_width=0,\n",
    "            ),\n",
    "        ]\n",
    "    )\n",
    "\n",
    "    fig.add_annotation(\n",
    "        x=0.8,\n",
    "        y=schwellenwert,\n",
    "        text=\"Schwellenwert Länge=\" + str(schwellenwert),\n",
    "        showarrow=True,\n",
    "        xshift=40,\n",
    "    )\n",
    "\n",
    "    fig.add_annotation(\n",
    "        x=0.8,\n",
    "        y=schwellenwert,\n",
    "        text=\"Fehler: \" + str(fehlersumme_l(schwellenwert)),\n",
    "        showarrow=False,\n",
    "        yshift=50,\n",
    "    )\n",
    "    return fig\n",
    "\n",
    "\n",
    "def on_value_change_l(event):\n",
    "\n",
    "    with output_l:\n",
    "        output_l.clear_output()\n",
    "        sw_l = event[\"new\"]\n",
    "        fs_l = fehlersumme_l(sw_l)\n",
    "        fig = makeFigure_l(sw_l)\n",
    "        fig.show()\n",
    "\n",
    "\n",
    "sw_widget.observe(on_value_change_l, names=\"value\")\n",
    "\n",
    "output_l = widgets.interactive_output(fehlersumme_l, {\"threshold\": sw_widget})\n",
    "\n",
    "display(\n",
    "    widgets.VBox([widgets.Label(\"Schwellenwert für die Länge\"), sw_widget, output_l])\n",
    ")\n",
    "sw_l = 0.8\n",
    "fs_l = fehlersumme_l(sw_l)\n",
    "fig = makeFigure_l(sw_l)\n",
    "with output_l:\n",
    "    fig.show()"
   ]
  },
  {
   "cell_type": "markdown",
   "id": "9e520ec8",
   "metadata": {},
   "source": [
    "<div class=\"alert alert-block alert-warning\">\n",
    "\n",
    "#### *Aufgabe:*\n",
    "\n",
    "Bei welchem Schwellenwert ist die Anzahl der Fehler am kleinsten?"
   ]
  },
  {
   "cell_type": "markdown",
   "id": "b1e5e589",
   "metadata": {
    "slideshow": {
     "slide_type": "slide"
    }
   },
   "source": [
    "<div class=\"alert alert-block alert-success\">\n",
    "    \n",
    "Mit Hilfe des Schwellenwertes haben wir einen sog. **Datensplit** erzeugt, haben also die 200 Daten in zwei Teile geteilt:\n",
    "- Ein Teil der Daten wurde als Raupe gekennzeichnet.\n",
    "    - Das waren diejenigen Insekten, die länger als 0.51 sind.\n",
    "- Der andere Teil, also die Insekten, die *nicht* länger als 0.51 sind, wurden als Marienkäfer bezeichnet.\n",
    "    \n",
    "**Beachte**, dass es dabei zu 14 Fehlbezeichnungen gekommen ist. \n",
    "    \n",
    "Bei genauem Hinsehen erkennt man sogar weitere Details:\n",
    "- 1 Marienkäfer mit einer Länge von 0.53 wird fälschlicherweise als Raupe bezeichnet.\n",
    "- 13 Raupen, die alle eine Länge von 0.51 oder weniger haben, werden als Käfer interpretiert.\n",
    "    "
   ]
  },
  {
   "cell_type": "markdown",
   "id": "9e58a15a",
   "metadata": {
    "slideshow": {
     "slide_type": "slide"
    }
   },
   "source": [
    "## Klassifikation mit Hilfe der Breite der Insekten"
   ]
  },
  {
   "cell_type": "code",
   "execution_count": null,
   "id": "23600cfc",
   "metadata": {
    "slideshow": {
     "slide_type": "slide"
    }
   },
   "outputs": [],
   "source": [
    "sr_widget = widgets.BoundedFloatText(\n",
    "    value=0.6,\n",
    "    min=0.10,\n",
    "    max=0.68,\n",
    "    step=0.01,\n",
    "    description=\"\",\n",
    "    layout=widgets.Layout(width=\"20%\"),\n",
    "\n",
    "    disabled=False\n",
    ")\n",
    "\n",
    "def fehlersumme_r(threshold):\n",
    "    tree = ct.DecisionTree(target=target, data=df_kaefer)\n",
    "    tree.manual_split(attribute=\"Breite\", threshold=threshold, node_nr=1)\n",
    "    return tree.calculate_errors(data=df_kaefer)\n",
    "\n",
    "def makeFigure_r(schwellenwert):\n",
    "    fig = px.scatter(\n",
    "        df_kaefer,\n",
    "        x=data_x,\n",
    "        y=data_y,\n",
    "        color=target,\n",
    "        color_discrete_map=color_map,\n",
    "        width=breite,\n",
    "        height=hoehe,\n",
    "        range_x=bereich_x,\n",
    "        range_y=bereich_y,\n",
    "    )\n",
    "\n",
    "    fig.update_traces(marker=dict(size=10, line=dict(width=1, color=\"black\")))\n",
    "\n",
    "    fig.update_layout(\n",
    "        shapes=[\n",
    "            dict(\n",
    "                type=\"line\",\n",
    "                yref=\"y1\",\n",
    "                x0=schwellenwert,\n",
    "                x1=schwellenwert,\n",
    "                xref=\"x1\",\n",
    "                y0=0,\n",
    "                y1=1,\n",
    "                line=dict(color=\"Red\", width=1),\n",
    "            ),\n",
    "            dict(\n",
    "                type=\"rect\",\n",
    "                yref=\"y1\",\n",
    "                x0=schwellenwert,\n",
    "                x1=1,\n",
    "                xref=\"x1\",\n",
    "                y0=0,\n",
    "                y1=1,\n",
    "                fillcolor=color_map[\"Marienkäfer\"],\n",
    "                opacity=0.3,\n",
    "                layer=\"below\",\n",
    "                line_width=0,\n",
    "            ),\n",
    "            dict(\n",
    "                type=\"rect\",\n",
    "                yref=\"y1\",\n",
    "                x0=0,\n",
    "                x1=schwellenwert,\n",
    "                xref=\"x1\",\n",
    "                y0=0,\n",
    "                y1=1,\n",
    "                fillcolor=color_map[\"Raupe\"],\n",
    "                opacity=0.3,\n",
    "                layer=\"below\",\n",
    "                line_width=0,\n",
    "            ),\n",
    "        ]\n",
    "    )\n",
    "\n",
    "    fig.add_annotation(\n",
    "        y=0.1,\n",
    "        x=schwellenwert,\n",
    "        text=\"Wert der Breite=\" + str(schwellenwert),\n",
    "        showarrow=False,\n",
    "        # xshift=20,\n",
    "    )\n",
    "\n",
    "    fig.add_annotation(\n",
    "        y=0.1,\n",
    "        x=schwellenwert,\n",
    "        text=\"Fehler: \" + str(fehlersumme_r(schwellenwert)),\n",
    "        showarrow=False,\n",
    "        yshift=-20,\n",
    "    )\n",
    "    return fig\n",
    "\n",
    "\n",
    "def on_value_change_r(event):\n",
    "\n",
    "    with output_r:\n",
    "        output_r.clear_output()\n",
    "        sw_r = event[\"new\"]\n",
    "        fs_r = fehlersumme_r(sw_r)\n",
    "        fig = makeFigure_r(sw_r)\n",
    "        fig.show()\n",
    "\n",
    "\n",
    "sr_widget.observe(on_value_change_r, names=\"value\")\n",
    "\n",
    "output_r = widgets.interactive_output(fehlersumme_r, {\"threshold\": sr_widget})\n",
    "\n",
    "display(\n",
    "    widgets.VBox([widgets.Label(\"Schwellenwert für die Breite\"), sr_widget, output_r])\n",
    ")\n",
    "sw_r = 0.6\n",
    "fs_r = fehlersumme_l(sw_r)\n",
    "fig = makeFigure_r(sw_r)\n",
    "with output_r:\n",
    "    fig.show()"
   ]
  },
  {
   "cell_type": "markdown",
   "id": "59b80b7d",
   "metadata": {
    "slideshow": {
     "slide_type": "slide"
    }
   },
   "source": [
    "<div class=\"alert alert-block alert-success\">\n",
    "\n",
    "Der beste Schwellenwert für die Breite beträgt 0.36, denn dabei werden 16 Insekten falsch klassifiziert.\n",
    "    \n",
    "In dem obigen Abschnitt haben wir erkannt, dass 14 die minimale Anzahl der Fehlklassifikationen ist, wenn wir als Unterscheidungsmerkmal die Länge der Insekten benutzen. Das ist also offenbar besser als hier. \n",
    "    \n",
    "**Wir werden also die Insekten zunächst mit Hilfe der Länge klassifizieren.**"
   ]
  },
  {
   "cell_type": "markdown",
   "id": "5b7b7f4c",
   "metadata": {
    "slideshow": {
     "slide_type": "slide"
    }
   },
   "source": [
    "## Entscheidungsbaum"
   ]
  },
  {
   "cell_type": "markdown",
   "id": "d2870a8e",
   "metadata": {
    "slideshow": {
     "slide_type": "fragment"
    }
   },
   "source": [
    "<div class=\"alert alert-block alert-success\">\n",
    "\n",
    "Den Datensplit kann man auch in der folgenden Art darstellen:"
   ]
  },
  {
   "cell_type": "code",
   "execution_count": null,
   "id": "14352b02",
   "metadata": {
    "slideshow": {
     "slide_type": "slide"
    }
   },
   "outputs": [],
   "source": [
    "tree = ct.DecisionTree(target=target, data=df_kaefer)\n",
    "tree.manual_split(attribute=\"Länge\", threshold=0.6, node_nr=1)\n",
    "tree.print_tree()"
   ]
  },
  {
   "cell_type": "markdown",
   "id": "a954b9f6",
   "metadata": {
    "slideshow": {
     "slide_type": "slide"
    }
   },
   "source": [
    "<div class=\"alert alert-block alert-success\">\n",
    "\n",
    "Eine solche Darstellung nennen wir **Entschidungsbaum** (engl.: **Decision Tree**). \n",
    "    \n",
    "In dem blau-unterlegten Rechteck (das gehört eigentlich nicht zu dem Baum) findet man Angaben, die für das Verständnis der Darstellung wichtig sind."
   ]
  },
  {
   "cell_type": "markdown",
   "id": "2efbbb11",
   "metadata": {
    "slideshow": {
     "slide_type": "skip"
    }
   },
   "source": [
    "<div class=\"alert alert-block alert-warning\">\n",
    "\n",
    "#### *Aufgabe:*\n",
    "\n",
    "Beschreibe, welche Informationen hier erkennbar sind."
   ]
  },
  {
   "cell_type": "markdown",
   "id": "f44dfa5c",
   "metadata": {
    "slideshow": {
     "slide_type": "slide"
    }
   },
   "source": [
    "<div class=\"alert alert-block alert-success\">\n",
    "\n",
    "Auch hier kannst du dir hier für verschiedene Schwellenwerte den jeweiligen Entscheidungsbaum ansehen und die minimale Fehlerzahl entdecken, wenn man die Länge der Insekten benutzt:"
   ]
  },
  {
   "cell_type": "code",
   "execution_count": null,
   "id": "40af027a",
   "metadata": {
    "slideshow": {
     "slide_type": "slide"
    }
   },
   "outputs": [],
   "source": [
    "slider_l = widgets.BoundedFloatText(\n",
    "    value=0.7,\n",
    "    min=0.20,\n",
    "    max=0.80,\n",
    "    step=0.01,\n",
    "    description=\"\",\n",
    "    layout=widgets.Layout(width=\"30%\"),\n",
    ")\n",
    "\n",
    "def makeTree_l(schwellenwert):\n",
    "    tree = ct.DecisionTree(target=target, data=df_kaefer)\n",
    "    tree.manual_split(attribute=\"Länge\", threshold=schwellenwert, node_nr=1)\n",
    "    return tree\n",
    "\n",
    "def on_value_change_l(event):\n",
    "\n",
    "    with output_l:\n",
    "        output_l.clear_output()\n",
    "        sw_l = event[\"new\"]\n",
    "        tree = makeTree_l(sw_l)\n",
    "        display (tree.print_tree())\n",
    "\n",
    "\n",
    "slider_l.observe(on_value_change_l, names=\"value\")\n",
    "\n",
    "output_l = widgets.Output ();\n",
    "display(\n",
    "    widgets.HBox([widgets.Label(\"Schwellenwert für die Länge\"), slider_l, output_l])\n",
    ")\n",
    "sw_l = 0.7\n",
    "tree = makeTree_l(sw_l)\n",
    "with output_l:\n",
    "    display (tree.print_tree())"
   ]
  },
  {
   "cell_type": "markdown",
   "id": "e61d3ac0",
   "metadata": {
    "slideshow": {
     "slide_type": "slide"
    }
   },
   "source": [
    "<div class=\"alert alert-block alert-success\">\n",
    "\n",
    "Analog für die Breite:"
   ]
  },
  {
   "cell_type": "code",
   "execution_count": null,
   "id": "18fae9da",
   "metadata": {
    "slideshow": {
     "slide_type": "slide"
    }
   },
   "outputs": [],
   "source": [
    "slider_r = widgets.BoundedFloatText(\n",
    "    value=0.5,\n",
    "    min=0.10,\n",
    "    max=0.68,\n",
    "    step=0.01,\n",
    "    description=\"\",\n",
    "    layout=widgets.Layout(width=\"30%\"),\n",
    ")\n",
    "\n",
    "def makeTree_r(schwellenwert):\n",
    "    tree = ct.DecisionTree(target=target, data=df_kaefer)\n",
    "    tree.manual_split(attribute=\"Breite\", threshold=schwellenwert, node_nr=1)\n",
    "    return tree\n",
    "\n",
    "def on_value_change_r(event):\n",
    "\n",
    "    with output_r:\n",
    "        output_r.clear_output()\n",
    "        sw_r = event[\"new\"]\n",
    "        tree = makeTree_r(sw_r)\n",
    "        display (tree.print_tree())\n",
    "\n",
    "\n",
    "slider_r.observe(on_value_change_r, names=\"value\")\n",
    "\n",
    "output_r = widgets.Output()\n",
    "\n",
    "display(\n",
    "    widgets.HBox([widgets.Label(\"Schwellenwert für die Breite\"), slider_r, output_r])\n",
    ")\n",
    "sw_r = 0.5\n",
    "tree = makeTree_r(sw_r)\n",
    "with output_r:\n",
    "    display (tree.print_tree())"
   ]
  },
  {
   "cell_type": "markdown",
   "id": "5cf02d8b",
   "metadata": {
    "slideshow": {
     "slide_type": "slide"
    }
   },
   "source": [
    "<div class=\"alert alert-block alert-success\">\n",
    "\n",
    "Hier kannst du dir nochmal verschiedene Entscheidungsbäume ansehen. Du kannst\n",
    "    \n",
    "- wählen, ob du die Länge oder die Breite der Insekten als Prädiktorvariable nutzen möchtest\n",
    "- den Schwellenwert einstellen."
   ]
  },
  {
   "cell_type": "code",
   "execution_count": null,
   "id": "fbfcaa50",
   "metadata": {
    "slideshow": {
     "slide_type": "slide"
    }
   },
   "outputs": [],
   "source": [
    "def show_tree(attribute, schwellenwert):\n",
    "\n",
    "    tree = ct.DecisionTree(target=target, data=df_kaefer)\n",
    "    tree.manual_split(attribute=attribute, threshold=schwellenwert, node_nr=1)\n",
    "    tree.print_tree()\n",
    "    display(tree.tree_graph)\n",
    "\n",
    "    return tree\n",
    "\n",
    "\n",
    "tree_widget = widgets.interactive(\n",
    "    show_tree,\n",
    "    {\"manual\": True, \"manual_name\": \"Erstelle den Baum\"},\n",
    "    attribute = [\"Länge\",\"Breite\"],\n",
    "    schwellenwert = (0.1, 0.7, 0.01)\n",
    ")\n",
    "tree_widget"
   ]
  },
  {
   "cell_type": "markdown",
   "id": "26da2e91",
   "metadata": {
    "slideshow": {
     "slide_type": "slide"
    }
   },
   "source": [
    "## Weitere manuelle Datensplits"
   ]
  },
  {
   "cell_type": "markdown",
   "id": "758084b3",
   "metadata": {
    "slideshow": {
     "slide_type": "slide"
    }
   },
   "source": [
    "<div class=\"alert alert-block alert-success\">\n",
    "\n",
    "Wir benutzen also die Länge der Insekten \n",
    "\n",
    "Der folgende Programmabschnitt ermöglicht es jetzt, einen weitere Datensplits vorzunehmen. Die Idee ist dabei, die Prädiktorvariable *Breite* zu benutzen, um die Insekten in den beiden Teilbereichen zu klassifizieren.\n",
    "    \n",
    "Also:\n",
    "\n",
    "- Ist ein Insekt nicht länger als 0.51, dann suchen wir für diese Insekten nach einem Schwellenwert für die Breite, der Marienkäfer von Raupen unterscheidet. Dieser Schwellenwert soll also nur für die Insekten im Knoten Nr. 2 zuständig sein.\n",
    "- Ist ein Insekt länger als 0.51, dann suchen wir für diese Insekten nach einem Schwellenwert für die Breite, der Marienkäfer von Raupen unterscheidet. Dieser Schwellenwert soll also nur für die Insekten im Knoten Nr. 3 zuständig sein."
   ]
  },
  {
   "cell_type": "code",
   "execution_count": null,
   "id": "14ddfb90",
   "metadata": {
    "slideshow": {
     "slide_type": "slide"
    }
   },
   "outputs": [],
   "source": [
    "df_käfer_trainingsdaten = pd.read_csv('Daten/Kaefer.csv', sep=';')\n",
    "\n",
    "tree6 = ct.DecisionTree(target = 'Insekt', data = df_käfer_trainingsdaten)\n",
    "\n",
    "SchwellenwertKnoten1 = 0.5\n",
    "SchwellenwertKnoten2 = 0.35\n",
    "SchwellenwertKnoten3 = 0.38\n",
    "\n",
    "# threshold bedeutet Schwellenwert\n",
    "tree6.manual_split(attribute = 'Länge',  threshold = SchwellenwertKnoten1, node_nr = 1) \n",
    "tree6.manual_split(attribute = 'Breite', threshold = SchwellenwertKnoten2, node_nr = 2) \n",
    "tree6.manual_split(attribute = 'Breite', threshold = SchwellenwertKnoten3, node_nr = 3) \n",
    "\n",
    "#Entscheidungsbaum ausgeben\n",
    "tree6.print_tree()"
   ]
  },
  {
   "cell_type": "markdown",
   "id": "50787e5c",
   "metadata": {
    "slideshow": {
     "slide_type": "slide"
    }
   },
   "source": [
    "###### Automatische Lösung"
   ]
  },
  {
   "cell_type": "code",
   "execution_count": null,
   "id": "4f3efd97",
   "metadata": {
    "slideshow": {
     "slide_type": "slide"
    }
   },
   "outputs": [],
   "source": [
    "tree = ct.DecisionTree(target = 'Insekt', data = df_kaefer)\n",
    "tree.grow_tree(df_kaefer, 'Insekt',max_depth=2)\n",
    "tree.print_tree()"
   ]
  },
  {
   "cell_type": "markdown",
   "id": "9162270e",
   "metadata": {
    "slideshow": {
     "slide_type": "slide"
    }
   },
   "source": [
    "## Testdaten: Wie gut ist der Entscheidungsbaum?"
   ]
  },
  {
   "cell_type": "code",
   "execution_count": null,
   "id": "98ecf961",
   "metadata": {
    "slideshow": {
     "slide_type": "slide"
    }
   },
   "outputs": [],
   "source": [
    "df_testdaten = pd.read_csv(\"Daten/Kaefer_Testdaten.csv\", sep=\";\")\n",
    "display(df_testdaten.head(20))"
   ]
  },
  {
   "cell_type": "code",
   "execution_count": null,
   "id": "2f5d02f7",
   "metadata": {
    "slideshow": {
     "slide_type": "slide"
    }
   },
   "outputs": [],
   "source": [
    "lst1 = []\n",
    "lst2 = []\n",
    "lst3 = []\n",
    "lstBreite = []\n",
    "\n",
    "lstLaenge = []\n",
    "\n",
    "\n",
    "for ind in df_testdaten.index:\n",
    "    eintrag={df_testdaten.columns[0]:df_testdaten.values[ind][0], \n",
    "             df_testdaten.columns[1]:df_testdaten.values[ind][1]}\n",
    "    breite = df_testdaten.values[ind][0]\n",
    "    laenge = df_testdaten.values[ind][1]\n",
    "    ist = tree.query (eintrag)   # sagt der DecTree\n",
    "    sol = df_testdaten.values[ind][2] # das Label\n",
    "    \n",
    "    if ist == sol:\n",
    "        errEntry = \"\"\n",
    "    else:\n",
    "         errEntry = \"Fehler!\"\n",
    "            \n",
    "    lstBreite += [breite]\n",
    "    lstLaenge += [laenge]\n",
    "    lst1 += [ist]\n",
    "    lst2 += [sol]\n",
    "    lst3 += [errEntry]\n",
    "    ind = ind + 1\n",
    "\n",
    "df = pd.DataFrame ({df_testdaten.columns[0]: lstBreite, \n",
    "                    df_testdaten.columns[1]: lstLaenge, \n",
    "                    \"Insekt\": lst2, \n",
    "                    \"DecTreeAnswer\": lst1, \n",
    "                    \"Comment\": lst3})\n",
    "df.head(20)\n"
   ]
  },
  {
   "cell_type": "code",
   "execution_count": null,
   "id": "7f238557",
   "metadata": {
    "slideshow": {
     "slide_type": "slide"
    }
   },
   "outputs": [],
   "source": [
    "df_mask=df['Comment']=='Fehler!'\n",
    "df[df_mask]"
   ]
  },
  {
   "cell_type": "code",
   "execution_count": null,
   "id": "d7c4a2a8",
   "metadata": {},
   "outputs": [],
   "source": []
  }
 ],
 "metadata": {
  "hide_input": false,
  "kernelspec": {
   "display_name": "Python 3 (ipykernel)",
   "language": "python",
   "name": "python3"
  },
  "language_info": {
   "codemirror_mode": {
    "name": "ipython",
    "version": 3
   },
   "file_extension": ".py",
   "mimetype": "text/x-python",
   "name": "python",
   "nbconvert_exporter": "python",
   "pygments_lexer": "ipython3",
   "version": "3.10.13"
  },
  "latex_envs": {
   "LaTeX_envs_menu_present": true,
   "autoclose": false,
   "autocomplete": true,
   "bibliofile": "biblio.bib",
   "cite_by": "apalike",
   "current_citInitial": 1,
   "eqLabelWithNumbers": true,
   "eqNumInitial": 1,
   "hotkeys": {
    "equation": "Ctrl-E",
    "itemize": "Ctrl-I"
   },
   "labels_anchors": false,
   "latex_user_defs": false,
   "report_style_numbering": false,
   "user_envs_cfg": false
  },
  "toc": {
   "base_numbering": 1,
   "nav_menu": {},
   "number_sections": true,
   "sideBar": true,
   "skip_h1_title": true,
   "title_cell": "Inhalt",
   "title_sidebar": "Inhalt",
   "toc_cell": true,
   "toc_position": {},
   "toc_section_display": true,
   "toc_window_display": true
  },
  "varInspector": {
   "cols": {
    "lenName": 16,
    "lenType": 16,
    "lenVar": 40
   },
   "kernels_config": {
    "python": {
     "delete_cmd_postfix": "",
     "delete_cmd_prefix": "del ",
     "library": "var_list.py",
     "varRefreshCmd": "print(var_dic_list())"
    },
    "r": {
     "delete_cmd_postfix": ") ",
     "delete_cmd_prefix": "rm(",
     "library": "var_list.r",
     "varRefreshCmd": "cat(var_dic_list()) "
    }
   },
   "types_to_exclude": [
    "module",
    "function",
    "builtin_function_or_method",
    "instance",
    "_Feature"
   ],
   "window_display": false
  }
 },
 "nbformat": 4,
 "nbformat_minor": 5
}
