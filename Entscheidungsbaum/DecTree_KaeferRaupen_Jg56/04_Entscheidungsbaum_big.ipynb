{
 "cells": [
  {
   "cell_type": "markdown",
   "metadata": {},
   "source": [
    "# Wie können Marienkäfer von Raupen unterschieden werden?"
   ]
  },
  {
   "cell_type": "markdown",
   "metadata": {},
   "source": [
    "## Vorbereitung"
   ]
  },
  {
   "cell_type": "markdown",
   "metadata": {},
   "source": [
    "<div class=\"alert alert-block alert-success\">\n",
    "\n",
    "Uns liegt also ein Datensatz für 200 Marienkäfer und Raupen vor. Diese Daten benutzen wir, um das System zu **trainieren**, damit es später unbekannte Insekten als Käfer bzw. Raupe erkennen kann."
   ]
  },
  {
   "cell_type": "markdown",
   "metadata": {},
   "source": [
    "<div class=\"alert alert-block alert-info\">\n",
    "\n",
    "Zur Vorbereitung werden wieder einige notwendige Bibliotheken sowie die Daten eingelesen.\n",
    "    \n",
    "**Führe also die folgenden beiden Zellen aus:**"
   ]
  },
  {
   "cell_type": "code",
   "execution_count": 1,
   "metadata": {},
   "outputs": [],
   "source": [
    "import pandas as pd\n",
    "import plotly.express as px\n",
    "from PyTree import ClassificationTree as ct\n",
    "import ipywidgets as widgets\n",
    "\n",
    "color_map = {'Marienkäfer': 'orange', 'Raupe': 'lightblue'}\n",
    "\n",
    "data_x = \"Breite\"\n",
    "data_y = \"Länge\"\n",
    "target = \"Insekt\"\n",
    "breite=800\n",
    "hoehe=600"
   ]
  },
  {
   "cell_type": "code",
   "execution_count": 2,
   "metadata": {},
   "outputs": [
    {
     "data": {
      "text/html": [
       "<div>\n",
       "<style scoped>\n",
       "    .dataframe tbody tr th:only-of-type {\n",
       "        vertical-align: middle;\n",
       "    }\n",
       "\n",
       "    .dataframe tbody tr th {\n",
       "        vertical-align: top;\n",
       "    }\n",
       "\n",
       "    .dataframe thead th {\n",
       "        text-align: right;\n",
       "    }\n",
       "</style>\n",
       "<table border=\"1\" class=\"dataframe\">\n",
       "  <thead>\n",
       "    <tr style=\"text-align: right;\">\n",
       "      <th></th>\n",
       "      <th>Breite</th>\n",
       "      <th>Länge</th>\n",
       "      <th>Insekt</th>\n",
       "    </tr>\n",
       "  </thead>\n",
       "  <tbody>\n",
       "    <tr>\n",
       "      <th>0</th>\n",
       "      <td>12.19</td>\n",
       "      <td>9.65</td>\n",
       "      <td>Marienkäfer</td>\n",
       "    </tr>\n",
       "    <tr>\n",
       "      <th>1</th>\n",
       "      <td>8.13</td>\n",
       "      <td>18.80</td>\n",
       "      <td>Raupe</td>\n",
       "    </tr>\n",
       "    <tr>\n",
       "      <th>2</th>\n",
       "      <td>12.45</td>\n",
       "      <td>6.86</td>\n",
       "      <td>Marienkäfer</td>\n",
       "    </tr>\n",
       "    <tr>\n",
       "      <th>3</th>\n",
       "      <td>14.73</td>\n",
       "      <td>11.68</td>\n",
       "      <td>Marienkäfer</td>\n",
       "    </tr>\n",
       "    <tr>\n",
       "      <th>4</th>\n",
       "      <td>2.79</td>\n",
       "      <td>14.73</td>\n",
       "      <td>Raupe</td>\n",
       "    </tr>\n",
       "    <tr>\n",
       "      <th>...</th>\n",
       "      <td>...</td>\n",
       "      <td>...</td>\n",
       "      <td>...</td>\n",
       "    </tr>\n",
       "    <tr>\n",
       "      <th>195</th>\n",
       "      <td>14.48</td>\n",
       "      <td>9.40</td>\n",
       "      <td>Marienkäfer</td>\n",
       "    </tr>\n",
       "    <tr>\n",
       "      <th>196</th>\n",
       "      <td>2.54</td>\n",
       "      <td>13.72</td>\n",
       "      <td>Raupe</td>\n",
       "    </tr>\n",
       "    <tr>\n",
       "      <th>197</th>\n",
       "      <td>9.91</td>\n",
       "      <td>20.57</td>\n",
       "      <td>Raupe</td>\n",
       "    </tr>\n",
       "    <tr>\n",
       "      <th>198</th>\n",
       "      <td>14.22</td>\n",
       "      <td>7.37</td>\n",
       "      <td>Marienkäfer</td>\n",
       "    </tr>\n",
       "    <tr>\n",
       "      <th>199</th>\n",
       "      <td>9.65</td>\n",
       "      <td>23.62</td>\n",
       "      <td>Raupe</td>\n",
       "    </tr>\n",
       "  </tbody>\n",
       "</table>\n",
       "<p>200 rows × 3 columns</p>\n",
       "</div>"
      ],
      "text/plain": [
       "     Breite  Länge       Insekt\n",
       "0     12.19   9.65  Marienkäfer\n",
       "1      8.13  18.80        Raupe\n",
       "2     12.45   6.86  Marienkäfer\n",
       "3     14.73  11.68  Marienkäfer\n",
       "4      2.79  14.73        Raupe\n",
       "..      ...    ...          ...\n",
       "195   14.48   9.40  Marienkäfer\n",
       "196    2.54  13.72        Raupe\n",
       "197    9.91  20.57        Raupe\n",
       "198   14.22   7.37  Marienkäfer\n",
       "199    9.65  23.62        Raupe\n",
       "\n",
       "[200 rows x 3 columns]"
      ]
     },
     "metadata": {},
     "output_type": "display_data"
    }
   ],
   "source": [
    "df_kaefer = pd.read_csv(\"Daten/Kaefer_mm.csv\", sep=\";\")\n",
    "display(df_kaefer)"
   ]
  },
  {
   "cell_type": "code",
   "execution_count": 3,
   "metadata": {},
   "outputs": [],
   "source": [
    "max_x = max(df_kaefer [\"Breite\"])\n",
    "min_x = min(df_kaefer [\"Breite\"])\n",
    "max_y = max(df_kaefer [\"Länge\"])\n",
    "min_y = min(df_kaefer [\"Länge\"])\n",
    "\n",
    "delta_x = (max_x - min_x)\n",
    "delta_y = (max_y - min_y)\n",
    "\n",
    "bereich_x = [int(min_x - delta_x*0.05), int(max_x + delta_x*0.05)]\n",
    "bereich_y = [int(min_y - delta_y*0.05), int(max_y + delta_y*0.05)]"
   ]
  },
  {
   "cell_type": "markdown",
   "metadata": {},
   "source": [
    "## Automatisch wird ein Entscheidungsbaum erstellt\n"
   ]
  },
  {
   "cell_type": "code",
   "execution_count": 13,
   "metadata": {},
   "outputs": [
    {
     "data": {
      "image/svg+xml": [
       "<?xml version=\"1.0\" encoding=\"UTF-8\" standalone=\"no\"?>\n",
       "<!DOCTYPE svg PUBLIC \"-//W3C//DTD SVG 1.1//EN\"\n",
       " \"http://www.w3.org/Graphics/SVG/1.1/DTD/svg11.dtd\">\n",
       "<!-- Generated by graphviz version 2.43.0 (0)\n",
       " -->\n",
       "<!-- Title: %3 Pages: 1 -->\n",
       "<svg width=\"402pt\" height=\"306pt\"\n",
       " viewBox=\"0.00 0.00 402.00 306.00\" xmlns=\"http://www.w3.org/2000/svg\" xmlns:xlink=\"http://www.w3.org/1999/xlink\">\n",
       "<g id=\"graph0\" class=\"graph\" transform=\"scale(1 1) rotate(0) translate(4 302)\">\n",
       "<title>%3</title>\n",
       "<polygon fill=\"white\" stroke=\"transparent\" points=\"-4,4 -4,-302 398,-302 398,4 -4,4\"/>\n",
       "<polygon fill=\"lightblue\" stroke=\"transparent\" points=\"8,-250 8,-294 142,-294 142,-250 8,-250\"/>\n",
       "<polygon fill=\"none\" stroke=\"black\" points=\"11,-272 11,-291 139,-291 139,-272 11,-272\"/>\n",
       "<text text-anchor=\"start\" x=\"47.5\" y=\"-278.4\" font-family=\"Times,serif\" font-size=\"12.00\">Insekt? &#160;&#160;</text>\n",
       "<polygon fill=\"none\" stroke=\"black\" points=\"11,-253 11,-270 139,-270 139,-253 11,-253\"/>\n",
       "<text text-anchor=\"start\" x=\"14\" y=\"-259\" font-family=\"Times,serif\" font-size=\"10.00\" fill=\"dimgrey\">[&#39;Marienkäfer&#39;, &#39;Raupe&#39;]</text>\n",
       "<polygon fill=\"none\" stroke=\"black\" points=\"8,-250 8,-294 142,-294 142,-250 8,-250\"/>\n",
       "<!-- 1 -->\n",
       "<g id=\"node1\" class=\"node\">\n",
       "<title>1</title>\n",
       "<polygon fill=\"none\" stroke=\"black\" points=\"152,-200.5 152,-245.5 220,-245.5 220,-200.5 152,-200.5\"/>\n",
       "<text text-anchor=\"start\" x=\"161\" y=\"-233\" font-family=\"Times,serif\" font-size=\"10.00\" fill=\"dimgrey\">[100, 100]</text>\n",
       "<text text-anchor=\"start\" x=\"160\" y=\"-218.8\" font-family=\"Times,serif\" font-size=\"14.00\">Länge?</text>\n",
       "<text text-anchor=\"start\" x=\"190\" y=\"-207\" font-family=\"Times,serif\" font-size=\"10.00\" fill=\"dimgrey\">Nr.1</text>\n",
       "</g>\n",
       "<!-- 2 -->\n",
       "<g id=\"node2\" class=\"node\">\n",
       "<title>2</title>\n",
       "<polygon fill=\"none\" stroke=\"black\" points=\"101,-103.5 101,-148.5 169,-148.5 169,-103.5 101,-103.5\"/>\n",
       "<text text-anchor=\"start\" x=\"116\" y=\"-136\" font-family=\"Times,serif\" font-size=\"10.00\" fill=\"dimgrey\">[99, 13]</text>\n",
       "<text text-anchor=\"start\" x=\"109\" y=\"-121.8\" font-family=\"Times,serif\" font-size=\"14.00\">Breite?</text>\n",
       "<text text-anchor=\"start\" x=\"139\" y=\"-110\" font-family=\"Times,serif\" font-size=\"10.00\" fill=\"dimgrey\">Nr.2</text>\n",
       "</g>\n",
       "<!-- 1&#45;&gt;2 -->\n",
       "<g id=\"edge3\" class=\"edge\">\n",
       "<title>1&#45;&gt;2</title>\n",
       "<path fill=\"none\" stroke=\"black\" d=\"M168.03,-200.32C163.75,-194.58 159.44,-188.23 156,-182 151.86,-174.49 148.18,-166 145.1,-157.97\"/>\n",
       "<polygon fill=\"black\" stroke=\"black\" points=\"148.36,-156.71 141.65,-148.51 141.78,-159.1 148.36,-156.71\"/>\n",
       "<g id=\"a_edge3&#45;label\"><a xlink:title=\"12.95\">\n",
       "<text text-anchor=\"middle\" x=\"182.5\" y=\"-170.8\" font-family=\"Times,serif\" font-size=\"14.00\">≤12.95</text>\n",
       "</a>\n",
       "</g>\n",
       "</g>\n",
       "<!-- 5 -->\n",
       "<g id=\"node5\" class=\"node\">\n",
       "<title>5</title>\n",
       "<polygon fill=\"none\" stroke=\"black\" points=\"204,-103.5 204,-148.5 272,-148.5 272,-103.5 204,-103.5\"/>\n",
       "<text text-anchor=\"start\" x=\"222\" y=\"-136\" font-family=\"Times,serif\" font-size=\"10.00\" fill=\"dimgrey\">[1, 87]</text>\n",
       "<text text-anchor=\"start\" x=\"212\" y=\"-121.8\" font-family=\"Times,serif\" font-size=\"14.00\">Breite?</text>\n",
       "<text text-anchor=\"start\" x=\"242\" y=\"-110\" font-family=\"Times,serif\" font-size=\"10.00\" fill=\"dimgrey\">Nr.5</text>\n",
       "</g>\n",
       "<!-- 1&#45;&gt;5 -->\n",
       "<g id=\"edge6\" class=\"edge\">\n",
       "<title>1&#45;&gt;5</title>\n",
       "<path fill=\"none\" stroke=\"black\" d=\"M198.56,-200.49C201.99,-194.53 205.68,-188.03 209,-182 213.34,-174.12 217.93,-165.53 222.15,-157.55\"/>\n",
       "<polygon fill=\"black\" stroke=\"black\" points=\"225.34,-159 226.89,-148.52 219.14,-155.74 225.34,-159\"/>\n",
       "<g id=\"a_edge6&#45;label\"><a xlink:title=\"12.95\">\n",
       "<text text-anchor=\"middle\" x=\"242.5\" y=\"-170.8\" font-family=\"Times,serif\" font-size=\"14.00\">&gt;12.95</text>\n",
       "</a>\n",
       "</g>\n",
       "</g>\n",
       "<!-- 3 -->\n",
       "<g id=\"node3\" class=\"node\">\n",
       "<title>3</title>\n",
       "<polygon fill=\"yellow\" stroke=\"yellow\" points=\"0,-0.5 0,-51.5 64,-51.5 64,-0.5 0,-0.5\"/>\n",
       "<text text-anchor=\"start\" x=\"16\" y=\"-38\" font-family=\"Times,serif\" font-size=\"10.00\" fill=\"dimgrey\">[0, 13]</text>\n",
       "<text text-anchor=\"start\" x=\"9\" y=\"-21.8\" font-family=\"Times,serif\" font-size=\"14.00\">Raupe</text>\n",
       "<text text-anchor=\"start\" x=\"33\" y=\"-8\" font-family=\"Times,serif\" font-size=\"10.00\" fill=\"dimgrey\">Nr.3</text>\n",
       "</g>\n",
       "<!-- 2&#45;&gt;3 -->\n",
       "<g id=\"edge1\" class=\"edge\">\n",
       "<title>2&#45;&gt;3</title>\n",
       "<path fill=\"none\" stroke=\"black\" d=\"M107.86,-103.33C100.92,-97.53 93.57,-91.16 87,-85 78.31,-76.85 69.26,-67.64 61.08,-59.01\"/>\n",
       "<polygon fill=\"black\" stroke=\"black\" points=\"63.53,-56.5 54.13,-51.6 58.42,-61.29 63.53,-56.5\"/>\n",
       "<g id=\"a_edge1&#45;label\"><a xlink:title=\"4.83\">\n",
       "<text text-anchor=\"middle\" x=\"109\" y=\"-73.8\" font-family=\"Times,serif\" font-size=\"14.00\">≤4.83</text>\n",
       "</a>\n",
       "</g>\n",
       "</g>\n",
       "<!-- 4 -->\n",
       "<g id=\"node4\" class=\"node\">\n",
       "<title>4</title>\n",
       "<polygon fill=\"yellow\" stroke=\"yellow\" points=\"82,-0.5 82,-51.5 188,-51.5 188,-0.5 82,-0.5\"/>\n",
       "<text text-anchor=\"start\" x=\"119\" y=\"-38\" font-family=\"Times,serif\" font-size=\"10.00\" fill=\"dimgrey\">[99, 0]</text>\n",
       "<text text-anchor=\"start\" x=\"91\" y=\"-21.8\" font-family=\"Times,serif\" font-size=\"14.00\">Marienkäfer</text>\n",
       "<text text-anchor=\"start\" x=\"157\" y=\"-8\" font-family=\"Times,serif\" font-size=\"10.00\" fill=\"dimgrey\">Nr.4</text>\n",
       "</g>\n",
       "<!-- 2&#45;&gt;4 -->\n",
       "<g id=\"edge2\" class=\"edge\">\n",
       "<title>2&#45;&gt;4</title>\n",
       "<path fill=\"none\" stroke=\"black\" d=\"M135,-103.25C135,-91.12 135,-75.72 135,-61.94\"/>\n",
       "<polygon fill=\"black\" stroke=\"black\" points=\"138.5,-61.8 135,-51.8 131.5,-61.8 138.5,-61.8\"/>\n",
       "<g id=\"a_edge2&#45;label\"><a xlink:title=\"4.83\">\n",
       "<text text-anchor=\"middle\" x=\"157\" y=\"-73.8\" font-family=\"Times,serif\" font-size=\"14.00\">&gt;4.83</text>\n",
       "</a>\n",
       "</g>\n",
       "</g>\n",
       "<!-- 6 -->\n",
       "<g id=\"node6\" class=\"node\">\n",
       "<title>6</title>\n",
       "<polygon fill=\"yellow\" stroke=\"yellow\" points=\"206,-0.5 206,-51.5 270,-51.5 270,-0.5 206,-0.5\"/>\n",
       "<text text-anchor=\"start\" x=\"222\" y=\"-38\" font-family=\"Times,serif\" font-size=\"10.00\" fill=\"dimgrey\">[0, 87]</text>\n",
       "<text text-anchor=\"start\" x=\"215\" y=\"-21.8\" font-family=\"Times,serif\" font-size=\"14.00\">Raupe</text>\n",
       "<text text-anchor=\"start\" x=\"239\" y=\"-8\" font-family=\"Times,serif\" font-size=\"10.00\" fill=\"dimgrey\">Nr.6</text>\n",
       "</g>\n",
       "<!-- 5&#45;&gt;6 -->\n",
       "<g id=\"edge4\" class=\"edge\">\n",
       "<title>5&#45;&gt;6</title>\n",
       "<path fill=\"none\" stroke=\"black\" d=\"M238,-103.25C238,-91.12 238,-75.72 238,-61.94\"/>\n",
       "<polygon fill=\"black\" stroke=\"black\" points=\"241.5,-61.8 238,-51.8 234.5,-61.8 241.5,-61.8\"/>\n",
       "<g id=\"a_edge4&#45;label\"><a xlink:title=\"9.91\">\n",
       "<text text-anchor=\"middle\" x=\"260\" y=\"-73.8\" font-family=\"Times,serif\" font-size=\"14.00\">≤9.91</text>\n",
       "</a>\n",
       "</g>\n",
       "</g>\n",
       "<!-- 7 -->\n",
       "<g id=\"node7\" class=\"node\">\n",
       "<title>7</title>\n",
       "<polygon fill=\"yellow\" stroke=\"yellow\" points=\"288,-0.5 288,-51.5 394,-51.5 394,-0.5 288,-0.5\"/>\n",
       "<text text-anchor=\"start\" x=\"328\" y=\"-38\" font-family=\"Times,serif\" font-size=\"10.00\" fill=\"dimgrey\">[1, 0]</text>\n",
       "<text text-anchor=\"start\" x=\"297\" y=\"-21.8\" font-family=\"Times,serif\" font-size=\"14.00\">Marienkäfer</text>\n",
       "<text text-anchor=\"start\" x=\"363\" y=\"-8\" font-family=\"Times,serif\" font-size=\"10.00\" fill=\"dimgrey\">Nr.7</text>\n",
       "</g>\n",
       "<!-- 5&#45;&gt;7 -->\n",
       "<g id=\"edge5\" class=\"edge\">\n",
       "<title>5&#45;&gt;7</title>\n",
       "<path fill=\"none\" stroke=\"black\" d=\"M265.14,-103.33C272.08,-97.53 279.43,-91.16 286,-85 294.69,-76.85 303.74,-67.64 311.92,-59.01\"/>\n",
       "<polygon fill=\"black\" stroke=\"black\" points=\"314.58,-61.29 318.87,-51.6 309.47,-56.5 314.58,-61.29\"/>\n",
       "<g id=\"a_edge5&#45;label\"><a xlink:title=\"9.91\">\n",
       "<text text-anchor=\"middle\" x=\"322\" y=\"-73.8\" font-family=\"Times,serif\" font-size=\"14.00\">&gt;9.91</text>\n",
       "</a>\n",
       "</g>\n",
       "</g>\n",
       "</g>\n",
       "</svg>\n"
      ],
      "text/plain": [
       "<graphviz.graphs.Digraph at 0x7ff6d8757c10>"
      ]
     },
     "execution_count": 13,
     "metadata": {},
     "output_type": "execute_result"
    }
   ],
   "source": [
    "tree = ct.DecisionTree(target = 'Insekt', data = df_kaefer)\n",
    "\n",
    "#Entscheidungsbaum erstellen \n",
    "tree.grow_tree(df_kaefer, 'Insekt')\n",
    "\n",
    "#Entscheidungsbaum ausgeben\n",
    "tree.print_tree()"
   ]
  },
  {
   "cell_type": "markdown",
   "metadata": {},
   "source": [
    "## Testdaten"
   ]
  },
  {
   "cell_type": "markdown",
   "metadata": {},
   "source": [
    "<div class=\"alert alert-block alert-success\">\n",
    "  \n",
    "Wir haben es jetzt erreicht, dass **fast alle** Trainingsdaten korrekt klassifiziert werden.\n",
    "\n",
    "- Das ist in der Praxis sehr selten!\n",
    "    \n",
    "Wir belassen es jetzt einmal bei unserem trainierten Entscheidungsbaum, sollten dennoch einen weiteren Test starten."
   ]
  },
  {
   "cell_type": "markdown",
   "metadata": {},
   "source": [
    "<div class=\"alert alert-block alert-success\">\n",
    "  \n",
    "Um die Qualität des Entscheidungsbaumes zu testen, haben wir jetzt die folgende Idee:\n",
    "- Wir haben weitere Datensätze von bekannten Insekten, also von Insekten, von denen wir wissen, ob es sich um Raupen oder Marienkäfer handelt. Diese Datensätze lassen wir durch den Entscheidungsbaum klaasifizieren, und prüfen dann, ob der tatsächliche Insektentyp mit der Vorhersage des Entscheidungsbaumes übereinstimmt.\n",
    "    \n",
    "Hier nochmal der Entscheidungsbaum:"
   ]
  },
  {
   "cell_type": "markdown",
   "metadata": {},
   "source": [
    "<div class=\"alert alert-block alert-success\">\n",
    "  \n",
    "Zum Testen haben wir jetzt weitere Datensätze vorbereitet:"
   ]
  },
  {
   "cell_type": "code",
   "execution_count": 18,
   "metadata": {},
   "outputs": [
    {
     "data": {
      "text/html": [
       "<div>\n",
       "<style scoped>\n",
       "    .dataframe tbody tr th:only-of-type {\n",
       "        vertical-align: middle;\n",
       "    }\n",
       "\n",
       "    .dataframe tbody tr th {\n",
       "        vertical-align: top;\n",
       "    }\n",
       "\n",
       "    .dataframe thead th {\n",
       "        text-align: right;\n",
       "    }\n",
       "</style>\n",
       "<table border=\"1\" class=\"dataframe\">\n",
       "  <thead>\n",
       "    <tr style=\"text-align: right;\">\n",
       "      <th></th>\n",
       "      <th>Breite</th>\n",
       "      <th>Länge</th>\n",
       "      <th>Insekt</th>\n",
       "    </tr>\n",
       "  </thead>\n",
       "  <tbody>\n",
       "    <tr>\n",
       "      <th>0</th>\n",
       "      <td>10.67</td>\n",
       "      <td>7.37</td>\n",
       "      <td>Marienkäfer</td>\n",
       "    </tr>\n",
       "    <tr>\n",
       "      <th>1</th>\n",
       "      <td>9.91</td>\n",
       "      <td>23.37</td>\n",
       "      <td>Raupe</td>\n",
       "    </tr>\n",
       "    <tr>\n",
       "      <th>2</th>\n",
       "      <td>9.91</td>\n",
       "      <td>8.13</td>\n",
       "      <td>Marienkäfer</td>\n",
       "    </tr>\n",
       "    <tr>\n",
       "      <th>3</th>\n",
       "      <td>13.46</td>\n",
       "      <td>11.18</td>\n",
       "      <td>Marienkäfer</td>\n",
       "    </tr>\n",
       "    <tr>\n",
       "      <th>4</th>\n",
       "      <td>17.27</td>\n",
       "      <td>13.46</td>\n",
       "      <td>Marienkäfer</td>\n",
       "    </tr>\n",
       "    <tr>\n",
       "      <th>...</th>\n",
       "      <td>...</td>\n",
       "      <td>...</td>\n",
       "      <td>...</td>\n",
       "    </tr>\n",
       "    <tr>\n",
       "      <th>197</th>\n",
       "      <td>12.95</td>\n",
       "      <td>8.89</td>\n",
       "      <td>Marienkäfer</td>\n",
       "    </tr>\n",
       "    <tr>\n",
       "      <th>198</th>\n",
       "      <td>4.83</td>\n",
       "      <td>17.78</td>\n",
       "      <td>Raupe</td>\n",
       "    </tr>\n",
       "    <tr>\n",
       "      <th>199</th>\n",
       "      <td>14.48</td>\n",
       "      <td>7.37</td>\n",
       "      <td>Marienkäfer</td>\n",
       "    </tr>\n",
       "    <tr>\n",
       "      <th>200</th>\n",
       "      <td>4.06</td>\n",
       "      <td>15.24</td>\n",
       "      <td>Raupe</td>\n",
       "    </tr>\n",
       "    <tr>\n",
       "      <th>201</th>\n",
       "      <td>11.43</td>\n",
       "      <td>5.59</td>\n",
       "      <td>Marienkäfer</td>\n",
       "    </tr>\n",
       "  </tbody>\n",
       "</table>\n",
       "<p>202 rows × 3 columns</p>\n",
       "</div>"
      ],
      "text/plain": [
       "     Breite  Länge       Insekt\n",
       "0     10.67   7.37  Marienkäfer\n",
       "1      9.91  23.37        Raupe\n",
       "2      9.91   8.13  Marienkäfer\n",
       "3     13.46  11.18  Marienkäfer\n",
       "4     17.27  13.46  Marienkäfer\n",
       "..      ...    ...          ...\n",
       "197   12.95   8.89  Marienkäfer\n",
       "198    4.83  17.78        Raupe\n",
       "199   14.48   7.37  Marienkäfer\n",
       "200    4.06  15.24        Raupe\n",
       "201   11.43   5.59  Marienkäfer\n",
       "\n",
       "[202 rows x 3 columns]"
      ]
     },
     "execution_count": 18,
     "metadata": {},
     "output_type": "execute_result"
    }
   ],
   "source": [
    "df_testdaten = pd.read_csv(\"Daten/Kaefer_Testdaten_mm.csv\", sep=\";\")\n",
    "df_testdaten"
   ]
  },
  {
   "cell_type": "markdown",
   "metadata": {},
   "source": [
    "<div class=\"alert alert-block alert-success\">\n",
    "  \n",
    "Und jetzt sind wir gespannt auf den Qualitätstest:"
   ]
  },
  {
   "cell_type": "code",
   "execution_count": 19,
   "metadata": {},
   "outputs": [
    {
     "name": "stdout",
     "output_type": "stream",
     "text": [
      "Es gib 16 fehlerhafte Klassifikationen\n"
     ]
    },
    {
     "data": {
      "text/html": [
       "<div>\n",
       "<style scoped>\n",
       "    .dataframe tbody tr th:only-of-type {\n",
       "        vertical-align: middle;\n",
       "    }\n",
       "\n",
       "    .dataframe tbody tr th {\n",
       "        vertical-align: top;\n",
       "    }\n",
       "\n",
       "    .dataframe thead th {\n",
       "        text-align: right;\n",
       "    }\n",
       "</style>\n",
       "<table border=\"1\" class=\"dataframe\">\n",
       "  <thead>\n",
       "    <tr style=\"text-align: right;\">\n",
       "      <th></th>\n",
       "      <th>Breite</th>\n",
       "      <th>Länge</th>\n",
       "      <th>tatsächlich</th>\n",
       "      <th>Entscheidungsbaum sagt</th>\n",
       "      <th>Kommentar</th>\n",
       "    </tr>\n",
       "  </thead>\n",
       "  <tbody>\n",
       "    <tr>\n",
       "      <th>0</th>\n",
       "      <td>10.67</td>\n",
       "      <td>7.37</td>\n",
       "      <td>Marienkäfer</td>\n",
       "      <td>Marienkäfer</td>\n",
       "      <td>korrekt erkannt</td>\n",
       "    </tr>\n",
       "    <tr>\n",
       "      <th>1</th>\n",
       "      <td>9.91</td>\n",
       "      <td>23.37</td>\n",
       "      <td>Raupe</td>\n",
       "      <td>Raupe</td>\n",
       "      <td>korrekt erkannt</td>\n",
       "    </tr>\n",
       "    <tr>\n",
       "      <th>2</th>\n",
       "      <td>9.91</td>\n",
       "      <td>8.13</td>\n",
       "      <td>Marienkäfer</td>\n",
       "      <td>Marienkäfer</td>\n",
       "      <td>korrekt erkannt</td>\n",
       "    </tr>\n",
       "    <tr>\n",
       "      <th>3</th>\n",
       "      <td>13.46</td>\n",
       "      <td>11.18</td>\n",
       "      <td>Marienkäfer</td>\n",
       "      <td>Marienkäfer</td>\n",
       "      <td>korrekt erkannt</td>\n",
       "    </tr>\n",
       "    <tr>\n",
       "      <th>4</th>\n",
       "      <td>17.27</td>\n",
       "      <td>13.46</td>\n",
       "      <td>Marienkäfer</td>\n",
       "      <td>Marienkäfer</td>\n",
       "      <td>korrekt erkannt</td>\n",
       "    </tr>\n",
       "    <tr>\n",
       "      <th>...</th>\n",
       "      <td>...</td>\n",
       "      <td>...</td>\n",
       "      <td>...</td>\n",
       "      <td>...</td>\n",
       "      <td>...</td>\n",
       "    </tr>\n",
       "    <tr>\n",
       "      <th>197</th>\n",
       "      <td>12.95</td>\n",
       "      <td>8.89</td>\n",
       "      <td>Marienkäfer</td>\n",
       "      <td>Marienkäfer</td>\n",
       "      <td>korrekt erkannt</td>\n",
       "    </tr>\n",
       "    <tr>\n",
       "      <th>198</th>\n",
       "      <td>4.83</td>\n",
       "      <td>17.78</td>\n",
       "      <td>Raupe</td>\n",
       "      <td>Raupe</td>\n",
       "      <td>korrekt erkannt</td>\n",
       "    </tr>\n",
       "    <tr>\n",
       "      <th>199</th>\n",
       "      <td>14.48</td>\n",
       "      <td>7.37</td>\n",
       "      <td>Marienkäfer</td>\n",
       "      <td>Marienkäfer</td>\n",
       "      <td>korrekt erkannt</td>\n",
       "    </tr>\n",
       "    <tr>\n",
       "      <th>200</th>\n",
       "      <td>4.06</td>\n",
       "      <td>15.24</td>\n",
       "      <td>Raupe</td>\n",
       "      <td>Raupe</td>\n",
       "      <td>korrekt erkannt</td>\n",
       "    </tr>\n",
       "    <tr>\n",
       "      <th>201</th>\n",
       "      <td>11.43</td>\n",
       "      <td>5.59</td>\n",
       "      <td>Marienkäfer</td>\n",
       "      <td>Marienkäfer</td>\n",
       "      <td>korrekt erkannt</td>\n",
       "    </tr>\n",
       "  </tbody>\n",
       "</table>\n",
       "<p>202 rows × 5 columns</p>\n",
       "</div>"
      ],
      "text/plain": [
       "     Breite  Länge  tatsächlich Entscheidungsbaum sagt        Kommentar\n",
       "0     10.67   7.37  Marienkäfer            Marienkäfer  korrekt erkannt\n",
       "1      9.91  23.37        Raupe                  Raupe  korrekt erkannt\n",
       "2      9.91   8.13  Marienkäfer            Marienkäfer  korrekt erkannt\n",
       "3     13.46  11.18  Marienkäfer            Marienkäfer  korrekt erkannt\n",
       "4     17.27  13.46  Marienkäfer            Marienkäfer  korrekt erkannt\n",
       "..      ...    ...          ...                    ...              ...\n",
       "197   12.95   8.89  Marienkäfer            Marienkäfer  korrekt erkannt\n",
       "198    4.83  17.78        Raupe                  Raupe  korrekt erkannt\n",
       "199   14.48   7.37  Marienkäfer            Marienkäfer  korrekt erkannt\n",
       "200    4.06  15.24        Raupe                  Raupe  korrekt erkannt\n",
       "201   11.43   5.59  Marienkäfer            Marienkäfer  korrekt erkannt\n",
       "\n",
       "[202 rows x 5 columns]"
      ]
     },
     "execution_count": 19,
     "metadata": {},
     "output_type": "execute_result"
    }
   ],
   "source": [
    "lst1 = []\n",
    "lst2 = []\n",
    "lst3 = []\n",
    "lstBreite = []\n",
    "lstLaenge = []\n",
    "\n",
    "fehlerzahl = 0\n",
    "\n",
    "for ind in df_testdaten.index:\n",
    "    eintrag={df_testdaten.columns[0]:df_testdaten.values[ind][0], \n",
    "             df_testdaten.columns[1]:df_testdaten.values[ind][1]}\n",
    "    breite = df_testdaten.values[ind][0]\n",
    "    laenge = df_testdaten.values[ind][1]\n",
    "    ist = tree.query (eintrag)   # sagt der DecTree\n",
    "    sol = df_testdaten.values[ind][2] # das Label\n",
    "    \n",
    "    if ist == sol:\n",
    "        errEntry = \"korrekt erkannt\"\n",
    "    else:\n",
    "         errEntry = \"fehlerhaft klassifiziert\"\n",
    "         fehlerzahl += 1\n",
    "            \n",
    "    lstBreite += [breite]\n",
    "    lstLaenge += [laenge]\n",
    "    lst1 += [ist]\n",
    "    lst2 += [sol]\n",
    "    lst3 += [errEntry]\n",
    "    ind = ind + 1\n",
    "\n",
    "df = pd.DataFrame ({df_testdaten.columns[0]: lstBreite, \n",
    "                    df_testdaten.columns[1]: lstLaenge, \n",
    "                    \"tatsächlich\": lst2, \n",
    "                    \"Entscheidungsbaum sagt\": lst1, \n",
    "                    \"Kommentar\": lst3})\n",
    "\n",
    "print (\"Es gib\", fehlerzahl, \"fehlerhafte Klassifikationen\")\n",
    "df"
   ]
  },
  {
   "cell_type": "markdown",
   "metadata": {},
   "source": [
    "<div class=\"alert alert-block alert-success\">\n",
    "  \n",
    "Tatsächlich gibt es also 16 Insekten, die falsch klassifiziert wurden."
   ]
  },
  {
   "cell_type": "code",
   "execution_count": 20,
   "metadata": {},
   "outputs": [],
   "source": [
    "data = [df_kaefer, df_testdaten]\n",
    "df_all_data = pd.concat(data,ignore_index=True)"
   ]
  },
  {
   "cell_type": "code",
   "execution_count": 23,
   "metadata": {},
   "outputs": [
    {
     "data": {
      "application/vnd.plotly.v1+json": {
       "config": {
        "plotlyServerURL": "https://plot.ly"
       },
       "data": [
        {
         "hovertemplate": "Insekt=Marienkäfer<br>Breite=%{x}<br>Länge=%{y}<extra></extra>",
         "legendgroup": "Marienkäfer",
         "marker": {
          "color": "orange",
          "line": {
           "color": "black",
           "width": 1
          },
          "symbol": "circle"
         },
         "mode": "markers",
         "name": "Marienkäfer",
         "orientation": "v",
         "showlegend": true,
         "type": "scatter",
         "x": [
          12.19,
          12.45,
          14.73,
          10.41,
          11.43,
          14.73,
          9.91,
          14.73,
          17.27,
          11.68,
          14.48,
          17.27,
          13.46,
          14.48,
          10.67,
          11.43,
          14.22,
          16.51,
          10.67,
          11.68,
          11.18,
          15.24,
          16.51,
          10.67,
          17.53,
          16.51,
          10.41,
          15.49,
          9.91,
          10.92,
          13.72,
          9.4,
          14.99,
          15.24,
          12.7,
          9.91,
          17.02,
          14.99,
          16.51,
          10.92,
          17.27,
          12.95,
          15.49,
          14.48,
          15.24,
          14.73,
          12.95,
          12.95,
          14.99,
          10.16,
          11.68,
          12.7,
          13.46,
          11.94,
          16.51,
          16,
          11.68,
          12.7,
          16.76,
          9.4,
          9.65,
          17.02,
          9.91,
          15.24,
          16.76,
          17.02,
          14.48,
          12.95,
          14.99,
          9.4,
          10.16,
          8.89,
          11.94,
          9.65,
          9.4,
          9.65,
          17.53,
          14.99,
          15.24,
          16.76,
          16.26,
          9.65,
          9.91,
          14.73,
          13.97,
          15.49,
          14.99,
          14.22,
          11.68,
          8.89,
          9.91,
          17.27,
          13.72,
          13.46,
          16.26,
          8.89,
          10.67,
          16.51,
          14.48,
          14.22,
          10.67,
          9.91,
          13.46,
          17.27,
          7.11,
          11.43,
          13.97,
          13.46,
          13.97,
          12.19,
          16.26,
          15.24,
          9.65,
          14.22,
          17.27,
          16.26,
          11.18,
          9.65,
          8.89,
          16,
          13.72,
          14.22,
          11.18,
          11.18,
          10.92,
          12.95,
          8.89,
          10.92,
          16,
          11.94,
          12.19,
          8.13,
          12.45,
          13.97,
          8.89,
          16.51,
          17.53,
          12.7,
          9.14,
          17.78,
          14.99,
          14.22,
          18.03,
          17.78,
          8.64,
          17.02,
          17.53,
          9.91,
          15.24,
          13.21,
          8.89,
          8.64,
          10.16,
          17.02,
          14.22,
          9.4,
          8.89,
          14.48,
          15.49,
          15.24,
          10.41,
          14.73,
          9.91,
          8.38,
          9.14,
          17.27,
          12.19,
          9.4,
          16.76,
          18.03,
          18.03,
          10.67,
          10.92,
          14.99,
          17.27,
          11.18,
          14.48,
          16.26,
          9.4,
          14.99,
          17.53,
          10.67,
          15.49,
          16,
          13.46,
          14.22,
          11.18,
          12.95,
          13.97,
          14.73,
          17.53,
          14.99,
          14.73,
          8.64,
          14.22,
          13.46,
          9.91,
          16.26,
          9.14,
          12.95,
          14.48,
          11.43
         ],
         "xaxis": "x",
         "y": [
          9.65,
          6.86,
          11.68,
          8.13,
          7.87,
          10.67,
          6.35,
          10.41,
          10.92,
          9.4,
          9.91,
          10.41,
          6.6,
          9.14,
          6.6,
          9.4,
          10.67,
          13.46,
          5.84,
          6.6,
          8.64,
          10.67,
          12.95,
          6.86,
          10.67,
          10.41,
          8.64,
          8.89,
          6.86,
          8.38,
          8.64,
          5.08,
          10.41,
          9.14,
          9.65,
          6.6,
          8.89,
          10.92,
          11.94,
          6.35,
          9.14,
          6.35,
          10.67,
          7.62,
          11.94,
          9.91,
          8.38,
          6.86,
          7.37,
          5.84,
          6.35,
          7.37,
          6.86,
          8.13,
          12.7,
          10.16,
          7.11,
          6.86,
          9.4,
          6.6,
          6.86,
          9.65,
          5.84,
          10.67,
          9.91,
          8.38,
          9.4,
          7.11,
          7.62,
          5.59,
          5.08,
          6.1,
          7.62,
          5.59,
          6.6,
          6.86,
          12.19,
          11.94,
          7.62,
          12.45,
          12.95,
          7.37,
          6.6,
          7.87,
          10.41,
          12.95,
          11.18,
          8.64,
          6.1,
          5.84,
          5.33,
          12.7,
          8.64,
          10.16,
          11.68,
          5.84,
          5.33,
          12.95,
          9.4,
          7.37,
          7.37,
          8.13,
          11.18,
          13.46,
          5.33,
          5.33,
          10.67,
          10.67,
          7.87,
          8.89,
          11.94,
          9.91,
          13.21,
          8.13,
          12.7,
          8.64,
          6.86,
          7.62,
          7.37,
          12.95,
          7.37,
          8.38,
          8.38,
          6.35,
          7.62,
          7.37,
          6.1,
          8.89,
          8.89,
          8.89,
          9.4,
          6.1,
          6.6,
          6.6,
          5.08,
          12.7,
          14.73,
          8.64,
          4.83,
          14.99,
          11.94,
          11.18,
          14.22,
          10.16,
          6.86,
          10.92,
          10.67,
          4.83,
          12.7,
          10.67,
          5.84,
          6.1,
          6.6,
          9.14,
          9.65,
          6.86,
          5.33,
          9.14,
          7.37,
          11.18,
          8.13,
          11.68,
          6.1,
          6.86,
          6.1,
          12.19,
          7.62,
          4.57,
          11.94,
          13.21,
          13.72,
          8.13,
          9.14,
          12.7,
          10.16,
          6.86,
          10.67,
          8.64,
          7.37,
          10.67,
          14.73,
          6.1,
          9.4,
          8.64,
          10.41,
          10.67,
          6.1,
          8.89,
          7.87,
          10.16,
          13.21,
          9.65,
          9.14,
          4.57,
          9.65,
          7.87,
          8.13,
          8.89,
          6.6,
          8.89,
          7.37,
          5.59
         ],
         "yaxis": "y"
        },
        {
         "hovertemplate": "Insekt=Raupe<br>Breite=%{x}<br>Länge=%{y}<extra></extra>",
         "legendgroup": "Raupe",
         "marker": {
          "color": "lightblue",
          "line": {
           "color": "black",
           "width": 1
          },
          "symbol": "circle"
         },
         "mode": "markers",
         "name": "Raupe",
         "orientation": "v",
         "showlegend": true,
         "type": "scatter",
         "x": [
          8.13,
          2.79,
          8.13,
          9.4,
          5.08,
          2.54,
          5.84,
          6.86,
          3.81,
          2.79,
          4.06,
          2.79,
          5.33,
          8.64,
          7.87,
          9.91,
          4.83,
          5.33,
          8.13,
          5.08,
          6.86,
          7.37,
          9.4,
          8.38,
          4.57,
          5.08,
          3.81,
          4.83,
          2.54,
          8.89,
          9.91,
          8.64,
          8.64,
          3.56,
          6.86,
          6.35,
          6.6,
          3.56,
          6.35,
          8.64,
          9.65,
          3.3,
          5.84,
          8.13,
          4.83,
          8.89,
          5.33,
          5.33,
          4.06,
          8.13,
          9.91,
          9.65,
          2.54,
          6.86,
          4.32,
          6.6,
          9.4,
          8.38,
          5.08,
          8.38,
          9.14,
          9.91,
          8.13,
          4.83,
          8.64,
          4.83,
          4.83,
          4.06,
          9.65,
          3.56,
          8.89,
          7.87,
          7.87,
          9.91,
          3.3,
          8.13,
          2.54,
          9.14,
          3.05,
          9.14,
          4.32,
          5.84,
          3.81,
          5.33,
          7.62,
          4.83,
          4.06,
          6.35,
          8.13,
          5.08,
          5.59,
          5.84,
          3.3,
          4.83,
          7.87,
          8.89,
          5.84,
          2.54,
          9.91,
          9.65,
          9.91,
          8.13,
          9.65,
          7.87,
          5.08,
          3.3,
          9.4,
          5.59,
          5.59,
          4.57,
          4.32,
          4.57,
          6.35,
          9.91,
          5.59,
          10.16,
          6.1,
          8.38,
          5.84,
          6.1,
          10.41,
          4.06,
          4.57,
          2.54,
          10.67,
          9.65,
          9.4,
          8.64,
          5.84,
          9.14,
          4.57,
          3.05,
          3.56,
          8.64,
          6.35,
          4.83,
          4.06,
          4.06,
          8.64,
          6.35,
          3.3,
          5.59,
          6.1,
          9.65,
          5.84,
          5.33,
          10.67,
          5.59,
          4.57,
          8.13,
          6.35,
          7.37,
          10.67,
          4.57,
          9.4,
          5.08,
          6.35,
          9.65,
          7.62,
          7.37,
          6.6,
          10.41,
          5.08,
          4.06,
          6.1,
          9.14,
          5.08,
          3.3,
          6.6,
          4.83,
          8.64,
          8.64,
          9.14,
          8.89,
          7.87,
          7.37,
          3.05,
          4.57,
          2.79,
          7.87,
          8.64,
          10.67,
          7.62,
          8.89,
          8.64,
          3.56,
          5.59,
          7.87,
          5.33,
          10.41,
          5.84,
          7.87,
          8.13,
          10.41,
          7.62,
          7.37,
          8.38,
          8.64,
          4.83,
          4.06
         ],
         "xaxis": "x",
         "y": [
          18.8,
          14.73,
          21.08,
          24.13,
          18.03,
          5.33,
          16.26,
          15.49,
          20.07,
          14.22,
          21.59,
          9.14,
          22.61,
          17.27,
          21.34,
          23.62,
          21.84,
          18.03,
          18.03,
          18.8,
          17.53,
          18.29,
          20.07,
          22.1,
          17.27,
          16.76,
          23.88,
          13.72,
          6.35,
          18.03,
          19.81,
          18.8,
          18.03,
          10.41,
          17.02,
          24.13,
          20.57,
          20.83,
          24.38,
          18.8,
          22.35,
          12.45,
          14.48,
          24.64,
          21.59,
          22.61,
          17.53,
          15.24,
          21.59,
          20.83,
          22.61,
          20.83,
          11.43,
          21.84,
          9.4,
          22.1,
          22.35,
          21.59,
          23.37,
          23.62,
          18.8,
          20.07,
          17.27,
          13.21,
          17.53,
          19.81,
          24.13,
          12.95,
          22.61,
          18.03,
          23.11,
          17.53,
          20.57,
          22.35,
          11.94,
          21.34,
          23.11,
          21.59,
          21.08,
          20.07,
          15.75,
          20.83,
          10.41,
          14.22,
          24.38,
          12.45,
          10.16,
          13.97,
          19.05,
          17.53,
          14.73,
          13.21,
          6.6,
          23.11,
          17.53,
          18.8,
          15.75,
          13.72,
          20.57,
          23.62,
          23.37,
          9.65,
          19.05,
          12.45,
          10.92,
          7.62,
          16.76,
          22.61,
          23.88,
          22.1,
          15.75,
          19.81,
          21.84,
          18.54,
          15.24,
          18.54,
          19.3,
          22.86,
          15.24,
          18.54,
          21.34,
          19.05,
          23.37,
          23.88,
          19.81,
          22.61,
          19.56,
          23.62,
          12.45,
          22.35,
          24.64,
          7.11,
          13.46,
          19.81,
          22.86,
          16.76,
          12.19,
          21.84,
          15.75,
          19.3,
          22.35,
          12.19,
          12.19,
          17.27,
          19.81,
          14.22,
          22.61,
          24.38,
          10.41,
          21.84,
          23.88,
          15.75,
          23.62,
          19.05,
          17.53,
          23.62,
          23.37,
          23.37,
          18.03,
          20.83,
          17.02,
          19.3,
          19.56,
          15.49,
          24.64,
          18.8,
          19.3,
          12.45,
          17.27,
          10.41,
          15.75,
          16,
          24.64,
          17.78,
          21.34,
          24.38,
          13.21,
          16.76,
          21.59,
          14.73,
          21.84,
          22.86,
          24.13,
          20.07,
          20.83,
          15.75,
          17.02,
          15.24,
          17.02,
          20.07,
          24.38,
          19.56,
          24.64,
          21.59,
          19.3,
          20.07,
          15.75,
          21.08,
          17.78,
          15.24
         ],
         "yaxis": "y"
        }
       ],
       "layout": {
        "height": 600,
        "legend": {
         "title": {
          "text": "Insekt"
         },
         "tracegroupgap": 0
        },
        "margin": {
         "t": 60
        },
        "template": {
         "data": {
          "bar": [
           {
            "error_x": {
             "color": "#2a3f5f"
            },
            "error_y": {
             "color": "#2a3f5f"
            },
            "marker": {
             "line": {
              "color": "#E5ECF6",
              "width": 0.5
             },
             "pattern": {
              "fillmode": "overlay",
              "size": 10,
              "solidity": 0.2
             }
            },
            "type": "bar"
           }
          ],
          "barpolar": [
           {
            "marker": {
             "line": {
              "color": "#E5ECF6",
              "width": 0.5
             },
             "pattern": {
              "fillmode": "overlay",
              "size": 10,
              "solidity": 0.2
             }
            },
            "type": "barpolar"
           }
          ],
          "carpet": [
           {
            "aaxis": {
             "endlinecolor": "#2a3f5f",
             "gridcolor": "white",
             "linecolor": "white",
             "minorgridcolor": "white",
             "startlinecolor": "#2a3f5f"
            },
            "baxis": {
             "endlinecolor": "#2a3f5f",
             "gridcolor": "white",
             "linecolor": "white",
             "minorgridcolor": "white",
             "startlinecolor": "#2a3f5f"
            },
            "type": "carpet"
           }
          ],
          "choropleth": [
           {
            "colorbar": {
             "outlinewidth": 0,
             "ticks": ""
            },
            "type": "choropleth"
           }
          ],
          "contour": [
           {
            "colorbar": {
             "outlinewidth": 0,
             "ticks": ""
            },
            "colorscale": [
             [
              0,
              "#0d0887"
             ],
             [
              0.1111111111111111,
              "#46039f"
             ],
             [
              0.2222222222222222,
              "#7201a8"
             ],
             [
              0.3333333333333333,
              "#9c179e"
             ],
             [
              0.4444444444444444,
              "#bd3786"
             ],
             [
              0.5555555555555556,
              "#d8576b"
             ],
             [
              0.6666666666666666,
              "#ed7953"
             ],
             [
              0.7777777777777778,
              "#fb9f3a"
             ],
             [
              0.8888888888888888,
              "#fdca26"
             ],
             [
              1,
              "#f0f921"
             ]
            ],
            "type": "contour"
           }
          ],
          "contourcarpet": [
           {
            "colorbar": {
             "outlinewidth": 0,
             "ticks": ""
            },
            "type": "contourcarpet"
           }
          ],
          "heatmap": [
           {
            "colorbar": {
             "outlinewidth": 0,
             "ticks": ""
            },
            "colorscale": [
             [
              0,
              "#0d0887"
             ],
             [
              0.1111111111111111,
              "#46039f"
             ],
             [
              0.2222222222222222,
              "#7201a8"
             ],
             [
              0.3333333333333333,
              "#9c179e"
             ],
             [
              0.4444444444444444,
              "#bd3786"
             ],
             [
              0.5555555555555556,
              "#d8576b"
             ],
             [
              0.6666666666666666,
              "#ed7953"
             ],
             [
              0.7777777777777778,
              "#fb9f3a"
             ],
             [
              0.8888888888888888,
              "#fdca26"
             ],
             [
              1,
              "#f0f921"
             ]
            ],
            "type": "heatmap"
           }
          ],
          "heatmapgl": [
           {
            "colorbar": {
             "outlinewidth": 0,
             "ticks": ""
            },
            "colorscale": [
             [
              0,
              "#0d0887"
             ],
             [
              0.1111111111111111,
              "#46039f"
             ],
             [
              0.2222222222222222,
              "#7201a8"
             ],
             [
              0.3333333333333333,
              "#9c179e"
             ],
             [
              0.4444444444444444,
              "#bd3786"
             ],
             [
              0.5555555555555556,
              "#d8576b"
             ],
             [
              0.6666666666666666,
              "#ed7953"
             ],
             [
              0.7777777777777778,
              "#fb9f3a"
             ],
             [
              0.8888888888888888,
              "#fdca26"
             ],
             [
              1,
              "#f0f921"
             ]
            ],
            "type": "heatmapgl"
           }
          ],
          "histogram": [
           {
            "marker": {
             "pattern": {
              "fillmode": "overlay",
              "size": 10,
              "solidity": 0.2
             }
            },
            "type": "histogram"
           }
          ],
          "histogram2d": [
           {
            "colorbar": {
             "outlinewidth": 0,
             "ticks": ""
            },
            "colorscale": [
             [
              0,
              "#0d0887"
             ],
             [
              0.1111111111111111,
              "#46039f"
             ],
             [
              0.2222222222222222,
              "#7201a8"
             ],
             [
              0.3333333333333333,
              "#9c179e"
             ],
             [
              0.4444444444444444,
              "#bd3786"
             ],
             [
              0.5555555555555556,
              "#d8576b"
             ],
             [
              0.6666666666666666,
              "#ed7953"
             ],
             [
              0.7777777777777778,
              "#fb9f3a"
             ],
             [
              0.8888888888888888,
              "#fdca26"
             ],
             [
              1,
              "#f0f921"
             ]
            ],
            "type": "histogram2d"
           }
          ],
          "histogram2dcontour": [
           {
            "colorbar": {
             "outlinewidth": 0,
             "ticks": ""
            },
            "colorscale": [
             [
              0,
              "#0d0887"
             ],
             [
              0.1111111111111111,
              "#46039f"
             ],
             [
              0.2222222222222222,
              "#7201a8"
             ],
             [
              0.3333333333333333,
              "#9c179e"
             ],
             [
              0.4444444444444444,
              "#bd3786"
             ],
             [
              0.5555555555555556,
              "#d8576b"
             ],
             [
              0.6666666666666666,
              "#ed7953"
             ],
             [
              0.7777777777777778,
              "#fb9f3a"
             ],
             [
              0.8888888888888888,
              "#fdca26"
             ],
             [
              1,
              "#f0f921"
             ]
            ],
            "type": "histogram2dcontour"
           }
          ],
          "mesh3d": [
           {
            "colorbar": {
             "outlinewidth": 0,
             "ticks": ""
            },
            "type": "mesh3d"
           }
          ],
          "parcoords": [
           {
            "line": {
             "colorbar": {
              "outlinewidth": 0,
              "ticks": ""
             }
            },
            "type": "parcoords"
           }
          ],
          "pie": [
           {
            "automargin": true,
            "type": "pie"
           }
          ],
          "scatter": [
           {
            "fillpattern": {
             "fillmode": "overlay",
             "size": 10,
             "solidity": 0.2
            },
            "type": "scatter"
           }
          ],
          "scatter3d": [
           {
            "line": {
             "colorbar": {
              "outlinewidth": 0,
              "ticks": ""
             }
            },
            "marker": {
             "colorbar": {
              "outlinewidth": 0,
              "ticks": ""
             }
            },
            "type": "scatter3d"
           }
          ],
          "scattercarpet": [
           {
            "marker": {
             "colorbar": {
              "outlinewidth": 0,
              "ticks": ""
             }
            },
            "type": "scattercarpet"
           }
          ],
          "scattergeo": [
           {
            "marker": {
             "colorbar": {
              "outlinewidth": 0,
              "ticks": ""
             }
            },
            "type": "scattergeo"
           }
          ],
          "scattergl": [
           {
            "marker": {
             "colorbar": {
              "outlinewidth": 0,
              "ticks": ""
             }
            },
            "type": "scattergl"
           }
          ],
          "scattermapbox": [
           {
            "marker": {
             "colorbar": {
              "outlinewidth": 0,
              "ticks": ""
             }
            },
            "type": "scattermapbox"
           }
          ],
          "scatterpolar": [
           {
            "marker": {
             "colorbar": {
              "outlinewidth": 0,
              "ticks": ""
             }
            },
            "type": "scatterpolar"
           }
          ],
          "scatterpolargl": [
           {
            "marker": {
             "colorbar": {
              "outlinewidth": 0,
              "ticks": ""
             }
            },
            "type": "scatterpolargl"
           }
          ],
          "scatterternary": [
           {
            "marker": {
             "colorbar": {
              "outlinewidth": 0,
              "ticks": ""
             }
            },
            "type": "scatterternary"
           }
          ],
          "surface": [
           {
            "colorbar": {
             "outlinewidth": 0,
             "ticks": ""
            },
            "colorscale": [
             [
              0,
              "#0d0887"
             ],
             [
              0.1111111111111111,
              "#46039f"
             ],
             [
              0.2222222222222222,
              "#7201a8"
             ],
             [
              0.3333333333333333,
              "#9c179e"
             ],
             [
              0.4444444444444444,
              "#bd3786"
             ],
             [
              0.5555555555555556,
              "#d8576b"
             ],
             [
              0.6666666666666666,
              "#ed7953"
             ],
             [
              0.7777777777777778,
              "#fb9f3a"
             ],
             [
              0.8888888888888888,
              "#fdca26"
             ],
             [
              1,
              "#f0f921"
             ]
            ],
            "type": "surface"
           }
          ],
          "table": [
           {
            "cells": {
             "fill": {
              "color": "#EBF0F8"
             },
             "line": {
              "color": "white"
             }
            },
            "header": {
             "fill": {
              "color": "#C8D4E3"
             },
             "line": {
              "color": "white"
             }
            },
            "type": "table"
           }
          ]
         },
         "layout": {
          "annotationdefaults": {
           "arrowcolor": "#2a3f5f",
           "arrowhead": 0,
           "arrowwidth": 1
          },
          "autotypenumbers": "strict",
          "coloraxis": {
           "colorbar": {
            "outlinewidth": 0,
            "ticks": ""
           }
          },
          "colorscale": {
           "diverging": [
            [
             0,
             "#8e0152"
            ],
            [
             0.1,
             "#c51b7d"
            ],
            [
             0.2,
             "#de77ae"
            ],
            [
             0.3,
             "#f1b6da"
            ],
            [
             0.4,
             "#fde0ef"
            ],
            [
             0.5,
             "#f7f7f7"
            ],
            [
             0.6,
             "#e6f5d0"
            ],
            [
             0.7,
             "#b8e186"
            ],
            [
             0.8,
             "#7fbc41"
            ],
            [
             0.9,
             "#4d9221"
            ],
            [
             1,
             "#276419"
            ]
           ],
           "sequential": [
            [
             0,
             "#0d0887"
            ],
            [
             0.1111111111111111,
             "#46039f"
            ],
            [
             0.2222222222222222,
             "#7201a8"
            ],
            [
             0.3333333333333333,
             "#9c179e"
            ],
            [
             0.4444444444444444,
             "#bd3786"
            ],
            [
             0.5555555555555556,
             "#d8576b"
            ],
            [
             0.6666666666666666,
             "#ed7953"
            ],
            [
             0.7777777777777778,
             "#fb9f3a"
            ],
            [
             0.8888888888888888,
             "#fdca26"
            ],
            [
             1,
             "#f0f921"
            ]
           ],
           "sequentialminus": [
            [
             0,
             "#0d0887"
            ],
            [
             0.1111111111111111,
             "#46039f"
            ],
            [
             0.2222222222222222,
             "#7201a8"
            ],
            [
             0.3333333333333333,
             "#9c179e"
            ],
            [
             0.4444444444444444,
             "#bd3786"
            ],
            [
             0.5555555555555556,
             "#d8576b"
            ],
            [
             0.6666666666666666,
             "#ed7953"
            ],
            [
             0.7777777777777778,
             "#fb9f3a"
            ],
            [
             0.8888888888888888,
             "#fdca26"
            ],
            [
             1,
             "#f0f921"
            ]
           ]
          },
          "colorway": [
           "#636efa",
           "#EF553B",
           "#00cc96",
           "#ab63fa",
           "#FFA15A",
           "#19d3f3",
           "#FF6692",
           "#B6E880",
           "#FF97FF",
           "#FECB52"
          ],
          "font": {
           "color": "#2a3f5f"
          },
          "geo": {
           "bgcolor": "white",
           "lakecolor": "white",
           "landcolor": "#E5ECF6",
           "showlakes": true,
           "showland": true,
           "subunitcolor": "white"
          },
          "hoverlabel": {
           "align": "left"
          },
          "hovermode": "closest",
          "mapbox": {
           "style": "light"
          },
          "paper_bgcolor": "white",
          "plot_bgcolor": "#E5ECF6",
          "polar": {
           "angularaxis": {
            "gridcolor": "white",
            "linecolor": "white",
            "ticks": ""
           },
           "bgcolor": "#E5ECF6",
           "radialaxis": {
            "gridcolor": "white",
            "linecolor": "white",
            "ticks": ""
           }
          },
          "scene": {
           "xaxis": {
            "backgroundcolor": "#E5ECF6",
            "gridcolor": "white",
            "gridwidth": 2,
            "linecolor": "white",
            "showbackground": true,
            "ticks": "",
            "zerolinecolor": "white"
           },
           "yaxis": {
            "backgroundcolor": "#E5ECF6",
            "gridcolor": "white",
            "gridwidth": 2,
            "linecolor": "white",
            "showbackground": true,
            "ticks": "",
            "zerolinecolor": "white"
           },
           "zaxis": {
            "backgroundcolor": "#E5ECF6",
            "gridcolor": "white",
            "gridwidth": 2,
            "linecolor": "white",
            "showbackground": true,
            "ticks": "",
            "zerolinecolor": "white"
           }
          },
          "shapedefaults": {
           "line": {
            "color": "#2a3f5f"
           }
          },
          "ternary": {
           "aaxis": {
            "gridcolor": "white",
            "linecolor": "white",
            "ticks": ""
           },
           "baxis": {
            "gridcolor": "white",
            "linecolor": "white",
            "ticks": ""
           },
           "bgcolor": "#E5ECF6",
           "caxis": {
            "gridcolor": "white",
            "linecolor": "white",
            "ticks": ""
           }
          },
          "title": {
           "x": 0.05
          },
          "xaxis": {
           "automargin": true,
           "gridcolor": "white",
           "linecolor": "white",
           "ticks": "",
           "title": {
            "standoff": 15
           },
           "zerolinecolor": "white",
           "zerolinewidth": 2
          },
          "yaxis": {
           "automargin": true,
           "gridcolor": "white",
           "linecolor": "white",
           "ticks": "",
           "title": {
            "standoff": 15
           },
           "zerolinecolor": "white",
           "zerolinewidth": 2
          }
         }
        },
        "width": 800,
        "xaxis": {
         "anchor": "y",
         "domain": [
          0,
          1
         ],
         "range": [
          1,
          18
         ],
         "title": {
          "text": "Breite"
         }
        },
        "yaxis": {
         "anchor": "x",
         "domain": [
          0,
          1
         ],
         "range": [
          4,
          25
         ],
         "title": {
          "text": "Länge"
         }
        }
       }
      },
      "text/html": [
       "<div>                            <div id=\"fcb76202-f839-44e4-822c-71a372ce9d73\" class=\"plotly-graph-div\" style=\"height:600px; width:800px;\"></div>            <script type=\"text/javascript\">                require([\"plotly\"], function(Plotly) {                    window.PLOTLYENV=window.PLOTLYENV || {};                                    if (document.getElementById(\"fcb76202-f839-44e4-822c-71a372ce9d73\")) {                    Plotly.newPlot(                        \"fcb76202-f839-44e4-822c-71a372ce9d73\",                        [{\"hovertemplate\":\"Insekt=Marienk\\u00e4fer<br>Breite=%{x}<br>L\\u00e4nge=%{y}<extra></extra>\",\"legendgroup\":\"Marienk\\u00e4fer\",\"marker\":{\"color\":\"orange\",\"symbol\":\"circle\",\"line\":{\"color\":\"black\",\"width\":1}},\"mode\":\"markers\",\"name\":\"Marienk\\u00e4fer\",\"orientation\":\"v\",\"showlegend\":true,\"x\":[12.19,12.45,14.73,10.41,11.43,14.73,9.91,14.73,17.27,11.68,14.48,17.27,13.46,14.48,10.67,11.43,14.22,16.51,10.67,11.68,11.18,15.24,16.51,10.67,17.53,16.51,10.41,15.49,9.91,10.92,13.72,9.4,14.99,15.24,12.7,9.91,17.02,14.99,16.51,10.92,17.27,12.95,15.49,14.48,15.24,14.73,12.95,12.95,14.99,10.16,11.68,12.7,13.46,11.94,16.51,16.0,11.68,12.7,16.76,9.4,9.65,17.02,9.91,15.24,16.76,17.02,14.48,12.95,14.99,9.4,10.16,8.89,11.94,9.65,9.4,9.65,17.53,14.99,15.24,16.76,16.26,9.65,9.91,14.73,13.97,15.49,14.99,14.22,11.68,8.89,9.91,17.27,13.72,13.46,16.26,8.89,10.67,16.51,14.48,14.22,10.67,9.91,13.46,17.27,7.11,11.43,13.97,13.46,13.97,12.19,16.26,15.24,9.65,14.22,17.27,16.26,11.18,9.65,8.89,16.0,13.72,14.22,11.18,11.18,10.92,12.95,8.89,10.92,16.0,11.94,12.19,8.13,12.45,13.97,8.89,16.51,17.53,12.7,9.14,17.78,14.99,14.22,18.03,17.78,8.64,17.02,17.53,9.91,15.24,13.21,8.89,8.64,10.16,17.02,14.22,9.4,8.89,14.48,15.49,15.24,10.41,14.73,9.91,8.38,9.14,17.27,12.19,9.4,16.76,18.03,18.03,10.67,10.92,14.99,17.27,11.18,14.48,16.26,9.4,14.99,17.53,10.67,15.49,16.0,13.46,14.22,11.18,12.95,13.97,14.73,17.53,14.99,14.73,8.64,14.22,13.46,9.91,16.26,9.14,12.95,14.48,11.43],\"xaxis\":\"x\",\"y\":[9.65,6.86,11.68,8.13,7.87,10.67,6.35,10.41,10.92,9.4,9.91,10.41,6.6,9.14,6.6,9.4,10.67,13.46,5.84,6.6,8.64,10.67,12.95,6.86,10.67,10.41,8.64,8.89,6.86,8.38,8.64,5.08,10.41,9.14,9.65,6.6,8.89,10.92,11.94,6.35,9.14,6.35,10.67,7.62,11.94,9.91,8.38,6.86,7.37,5.84,6.35,7.37,6.86,8.13,12.7,10.16,7.11,6.86,9.4,6.6,6.86,9.65,5.84,10.67,9.91,8.38,9.4,7.11,7.62,5.59,5.08,6.1,7.62,5.59,6.6,6.86,12.19,11.94,7.62,12.45,12.95,7.37,6.6,7.87,10.41,12.95,11.18,8.64,6.1,5.84,5.33,12.7,8.64,10.16,11.68,5.84,5.33,12.95,9.4,7.37,7.37,8.13,11.18,13.46,5.33,5.33,10.67,10.67,7.87,8.89,11.94,9.91,13.21,8.13,12.7,8.64,6.86,7.62,7.37,12.95,7.37,8.38,8.38,6.35,7.62,7.37,6.1,8.89,8.89,8.89,9.4,6.1,6.6,6.6,5.08,12.7,14.73,8.64,4.83,14.99,11.94,11.18,14.22,10.16,6.86,10.92,10.67,4.83,12.7,10.67,5.84,6.1,6.6,9.14,9.65,6.86,5.33,9.14,7.37,11.18,8.13,11.68,6.1,6.86,6.1,12.19,7.62,4.57,11.94,13.21,13.72,8.13,9.14,12.7,10.16,6.86,10.67,8.64,7.37,10.67,14.73,6.1,9.4,8.64,10.41,10.67,6.1,8.89,7.87,10.16,13.21,9.65,9.14,4.57,9.65,7.87,8.13,8.89,6.6,8.89,7.37,5.59],\"yaxis\":\"y\",\"type\":\"scatter\"},{\"hovertemplate\":\"Insekt=Raupe<br>Breite=%{x}<br>L\\u00e4nge=%{y}<extra></extra>\",\"legendgroup\":\"Raupe\",\"marker\":{\"color\":\"lightblue\",\"symbol\":\"circle\",\"line\":{\"color\":\"black\",\"width\":1}},\"mode\":\"markers\",\"name\":\"Raupe\",\"orientation\":\"v\",\"showlegend\":true,\"x\":[8.13,2.79,8.13,9.4,5.08,2.54,5.84,6.86,3.81,2.79,4.06,2.79,5.33,8.64,7.87,9.91,4.83,5.33,8.13,5.08,6.86,7.37,9.4,8.38,4.57,5.08,3.81,4.83,2.54,8.89,9.91,8.64,8.64,3.56,6.86,6.35,6.6,3.56,6.35,8.64,9.65,3.3,5.84,8.13,4.83,8.89,5.33,5.33,4.06,8.13,9.91,9.65,2.54,6.86,4.32,6.6,9.4,8.38,5.08,8.38,9.14,9.91,8.13,4.83,8.64,4.83,4.83,4.06,9.65,3.56,8.89,7.87,7.87,9.91,3.3,8.13,2.54,9.14,3.05,9.14,4.32,5.84,3.81,5.33,7.62,4.83,4.06,6.35,8.13,5.08,5.59,5.84,3.3,4.83,7.87,8.89,5.84,2.54,9.91,9.65,9.91,8.13,9.65,7.87,5.08,3.3,9.4,5.59,5.59,4.57,4.32,4.57,6.35,9.91,5.59,10.16,6.1,8.38,5.84,6.1,10.41,4.06,4.57,2.54,10.67,9.65,9.4,8.64,5.84,9.14,4.57,3.05,3.56,8.64,6.35,4.83,4.06,4.06,8.64,6.35,3.3,5.59,6.1,9.65,5.84,5.33,10.67,5.59,4.57,8.13,6.35,7.37,10.67,4.57,9.4,5.08,6.35,9.65,7.62,7.37,6.6,10.41,5.08,4.06,6.1,9.14,5.08,3.3,6.6,4.83,8.64,8.64,9.14,8.89,7.87,7.37,3.05,4.57,2.79,7.87,8.64,10.67,7.62,8.89,8.64,3.56,5.59,7.87,5.33,10.41,5.84,7.87,8.13,10.41,7.62,7.37,8.38,8.64,4.83,4.06],\"xaxis\":\"x\",\"y\":[18.8,14.73,21.08,24.13,18.03,5.33,16.26,15.49,20.07,14.22,21.59,9.14,22.61,17.27,21.34,23.62,21.84,18.03,18.03,18.8,17.53,18.29,20.07,22.1,17.27,16.76,23.88,13.72,6.35,18.03,19.81,18.8,18.03,10.41,17.02,24.13,20.57,20.83,24.38,18.8,22.35,12.45,14.48,24.64,21.59,22.61,17.53,15.24,21.59,20.83,22.61,20.83,11.43,21.84,9.4,22.1,22.35,21.59,23.37,23.62,18.8,20.07,17.27,13.21,17.53,19.81,24.13,12.95,22.61,18.03,23.11,17.53,20.57,22.35,11.94,21.34,23.11,21.59,21.08,20.07,15.75,20.83,10.41,14.22,24.38,12.45,10.16,13.97,19.05,17.53,14.73,13.21,6.6,23.11,17.53,18.8,15.75,13.72,20.57,23.62,23.37,9.65,19.05,12.45,10.92,7.62,16.76,22.61,23.88,22.1,15.75,19.81,21.84,18.54,15.24,18.54,19.3,22.86,15.24,18.54,21.34,19.05,23.37,23.88,19.81,22.61,19.56,23.62,12.45,22.35,24.64,7.11,13.46,19.81,22.86,16.76,12.19,21.84,15.75,19.3,22.35,12.19,12.19,17.27,19.81,14.22,22.61,24.38,10.41,21.84,23.88,15.75,23.62,19.05,17.53,23.62,23.37,23.37,18.03,20.83,17.02,19.3,19.56,15.49,24.64,18.8,19.3,12.45,17.27,10.41,15.75,16.0,24.64,17.78,21.34,24.38,13.21,16.76,21.59,14.73,21.84,22.86,24.13,20.07,20.83,15.75,17.02,15.24,17.02,20.07,24.38,19.56,24.64,21.59,19.3,20.07,15.75,21.08,17.78,15.24],\"yaxis\":\"y\",\"type\":\"scatter\"}],                        {\"template\":{\"data\":{\"histogram2dcontour\":[{\"type\":\"histogram2dcontour\",\"colorbar\":{\"outlinewidth\":0,\"ticks\":\"\"},\"colorscale\":[[0.0,\"#0d0887\"],[0.1111111111111111,\"#46039f\"],[0.2222222222222222,\"#7201a8\"],[0.3333333333333333,\"#9c179e\"],[0.4444444444444444,\"#bd3786\"],[0.5555555555555556,\"#d8576b\"],[0.6666666666666666,\"#ed7953\"],[0.7777777777777778,\"#fb9f3a\"],[0.8888888888888888,\"#fdca26\"],[1.0,\"#f0f921\"]]}],\"choropleth\":[{\"type\":\"choropleth\",\"colorbar\":{\"outlinewidth\":0,\"ticks\":\"\"}}],\"histogram2d\":[{\"type\":\"histogram2d\",\"colorbar\":{\"outlinewidth\":0,\"ticks\":\"\"},\"colorscale\":[[0.0,\"#0d0887\"],[0.1111111111111111,\"#46039f\"],[0.2222222222222222,\"#7201a8\"],[0.3333333333333333,\"#9c179e\"],[0.4444444444444444,\"#bd3786\"],[0.5555555555555556,\"#d8576b\"],[0.6666666666666666,\"#ed7953\"],[0.7777777777777778,\"#fb9f3a\"],[0.8888888888888888,\"#fdca26\"],[1.0,\"#f0f921\"]]}],\"heatmap\":[{\"type\":\"heatmap\",\"colorbar\":{\"outlinewidth\":0,\"ticks\":\"\"},\"colorscale\":[[0.0,\"#0d0887\"],[0.1111111111111111,\"#46039f\"],[0.2222222222222222,\"#7201a8\"],[0.3333333333333333,\"#9c179e\"],[0.4444444444444444,\"#bd3786\"],[0.5555555555555556,\"#d8576b\"],[0.6666666666666666,\"#ed7953\"],[0.7777777777777778,\"#fb9f3a\"],[0.8888888888888888,\"#fdca26\"],[1.0,\"#f0f921\"]]}],\"heatmapgl\":[{\"type\":\"heatmapgl\",\"colorbar\":{\"outlinewidth\":0,\"ticks\":\"\"},\"colorscale\":[[0.0,\"#0d0887\"],[0.1111111111111111,\"#46039f\"],[0.2222222222222222,\"#7201a8\"],[0.3333333333333333,\"#9c179e\"],[0.4444444444444444,\"#bd3786\"],[0.5555555555555556,\"#d8576b\"],[0.6666666666666666,\"#ed7953\"],[0.7777777777777778,\"#fb9f3a\"],[0.8888888888888888,\"#fdca26\"],[1.0,\"#f0f921\"]]}],\"contourcarpet\":[{\"type\":\"contourcarpet\",\"colorbar\":{\"outlinewidth\":0,\"ticks\":\"\"}}],\"contour\":[{\"type\":\"contour\",\"colorbar\":{\"outlinewidth\":0,\"ticks\":\"\"},\"colorscale\":[[0.0,\"#0d0887\"],[0.1111111111111111,\"#46039f\"],[0.2222222222222222,\"#7201a8\"],[0.3333333333333333,\"#9c179e\"],[0.4444444444444444,\"#bd3786\"],[0.5555555555555556,\"#d8576b\"],[0.6666666666666666,\"#ed7953\"],[0.7777777777777778,\"#fb9f3a\"],[0.8888888888888888,\"#fdca26\"],[1.0,\"#f0f921\"]]}],\"surface\":[{\"type\":\"surface\",\"colorbar\":{\"outlinewidth\":0,\"ticks\":\"\"},\"colorscale\":[[0.0,\"#0d0887\"],[0.1111111111111111,\"#46039f\"],[0.2222222222222222,\"#7201a8\"],[0.3333333333333333,\"#9c179e\"],[0.4444444444444444,\"#bd3786\"],[0.5555555555555556,\"#d8576b\"],[0.6666666666666666,\"#ed7953\"],[0.7777777777777778,\"#fb9f3a\"],[0.8888888888888888,\"#fdca26\"],[1.0,\"#f0f921\"]]}],\"mesh3d\":[{\"type\":\"mesh3d\",\"colorbar\":{\"outlinewidth\":0,\"ticks\":\"\"}}],\"scatter\":[{\"fillpattern\":{\"fillmode\":\"overlay\",\"size\":10,\"solidity\":0.2},\"type\":\"scatter\"}],\"parcoords\":[{\"type\":\"parcoords\",\"line\":{\"colorbar\":{\"outlinewidth\":0,\"ticks\":\"\"}}}],\"scatterpolargl\":[{\"type\":\"scatterpolargl\",\"marker\":{\"colorbar\":{\"outlinewidth\":0,\"ticks\":\"\"}}}],\"bar\":[{\"error_x\":{\"color\":\"#2a3f5f\"},\"error_y\":{\"color\":\"#2a3f5f\"},\"marker\":{\"line\":{\"color\":\"#E5ECF6\",\"width\":0.5},\"pattern\":{\"fillmode\":\"overlay\",\"size\":10,\"solidity\":0.2}},\"type\":\"bar\"}],\"scattergeo\":[{\"type\":\"scattergeo\",\"marker\":{\"colorbar\":{\"outlinewidth\":0,\"ticks\":\"\"}}}],\"scatterpolar\":[{\"type\":\"scatterpolar\",\"marker\":{\"colorbar\":{\"outlinewidth\":0,\"ticks\":\"\"}}}],\"histogram\":[{\"marker\":{\"pattern\":{\"fillmode\":\"overlay\",\"size\":10,\"solidity\":0.2}},\"type\":\"histogram\"}],\"scattergl\":[{\"type\":\"scattergl\",\"marker\":{\"colorbar\":{\"outlinewidth\":0,\"ticks\":\"\"}}}],\"scatter3d\":[{\"type\":\"scatter3d\",\"line\":{\"colorbar\":{\"outlinewidth\":0,\"ticks\":\"\"}},\"marker\":{\"colorbar\":{\"outlinewidth\":0,\"ticks\":\"\"}}}],\"scattermapbox\":[{\"type\":\"scattermapbox\",\"marker\":{\"colorbar\":{\"outlinewidth\":0,\"ticks\":\"\"}}}],\"scatterternary\":[{\"type\":\"scatterternary\",\"marker\":{\"colorbar\":{\"outlinewidth\":0,\"ticks\":\"\"}}}],\"scattercarpet\":[{\"type\":\"scattercarpet\",\"marker\":{\"colorbar\":{\"outlinewidth\":0,\"ticks\":\"\"}}}],\"carpet\":[{\"aaxis\":{\"endlinecolor\":\"#2a3f5f\",\"gridcolor\":\"white\",\"linecolor\":\"white\",\"minorgridcolor\":\"white\",\"startlinecolor\":\"#2a3f5f\"},\"baxis\":{\"endlinecolor\":\"#2a3f5f\",\"gridcolor\":\"white\",\"linecolor\":\"white\",\"minorgridcolor\":\"white\",\"startlinecolor\":\"#2a3f5f\"},\"type\":\"carpet\"}],\"table\":[{\"cells\":{\"fill\":{\"color\":\"#EBF0F8\"},\"line\":{\"color\":\"white\"}},\"header\":{\"fill\":{\"color\":\"#C8D4E3\"},\"line\":{\"color\":\"white\"}},\"type\":\"table\"}],\"barpolar\":[{\"marker\":{\"line\":{\"color\":\"#E5ECF6\",\"width\":0.5},\"pattern\":{\"fillmode\":\"overlay\",\"size\":10,\"solidity\":0.2}},\"type\":\"barpolar\"}],\"pie\":[{\"automargin\":true,\"type\":\"pie\"}]},\"layout\":{\"autotypenumbers\":\"strict\",\"colorway\":[\"#636efa\",\"#EF553B\",\"#00cc96\",\"#ab63fa\",\"#FFA15A\",\"#19d3f3\",\"#FF6692\",\"#B6E880\",\"#FF97FF\",\"#FECB52\"],\"font\":{\"color\":\"#2a3f5f\"},\"hovermode\":\"closest\",\"hoverlabel\":{\"align\":\"left\"},\"paper_bgcolor\":\"white\",\"plot_bgcolor\":\"#E5ECF6\",\"polar\":{\"bgcolor\":\"#E5ECF6\",\"angularaxis\":{\"gridcolor\":\"white\",\"linecolor\":\"white\",\"ticks\":\"\"},\"radialaxis\":{\"gridcolor\":\"white\",\"linecolor\":\"white\",\"ticks\":\"\"}},\"ternary\":{\"bgcolor\":\"#E5ECF6\",\"aaxis\":{\"gridcolor\":\"white\",\"linecolor\":\"white\",\"ticks\":\"\"},\"baxis\":{\"gridcolor\":\"white\",\"linecolor\":\"white\",\"ticks\":\"\"},\"caxis\":{\"gridcolor\":\"white\",\"linecolor\":\"white\",\"ticks\":\"\"}},\"coloraxis\":{\"colorbar\":{\"outlinewidth\":0,\"ticks\":\"\"}},\"colorscale\":{\"sequential\":[[0.0,\"#0d0887\"],[0.1111111111111111,\"#46039f\"],[0.2222222222222222,\"#7201a8\"],[0.3333333333333333,\"#9c179e\"],[0.4444444444444444,\"#bd3786\"],[0.5555555555555556,\"#d8576b\"],[0.6666666666666666,\"#ed7953\"],[0.7777777777777778,\"#fb9f3a\"],[0.8888888888888888,\"#fdca26\"],[1.0,\"#f0f921\"]],\"sequentialminus\":[[0.0,\"#0d0887\"],[0.1111111111111111,\"#46039f\"],[0.2222222222222222,\"#7201a8\"],[0.3333333333333333,\"#9c179e\"],[0.4444444444444444,\"#bd3786\"],[0.5555555555555556,\"#d8576b\"],[0.6666666666666666,\"#ed7953\"],[0.7777777777777778,\"#fb9f3a\"],[0.8888888888888888,\"#fdca26\"],[1.0,\"#f0f921\"]],\"diverging\":[[0,\"#8e0152\"],[0.1,\"#c51b7d\"],[0.2,\"#de77ae\"],[0.3,\"#f1b6da\"],[0.4,\"#fde0ef\"],[0.5,\"#f7f7f7\"],[0.6,\"#e6f5d0\"],[0.7,\"#b8e186\"],[0.8,\"#7fbc41\"],[0.9,\"#4d9221\"],[1,\"#276419\"]]},\"xaxis\":{\"gridcolor\":\"white\",\"linecolor\":\"white\",\"ticks\":\"\",\"title\":{\"standoff\":15},\"zerolinecolor\":\"white\",\"automargin\":true,\"zerolinewidth\":2},\"yaxis\":{\"gridcolor\":\"white\",\"linecolor\":\"white\",\"ticks\":\"\",\"title\":{\"standoff\":15},\"zerolinecolor\":\"white\",\"automargin\":true,\"zerolinewidth\":2},\"scene\":{\"xaxis\":{\"backgroundcolor\":\"#E5ECF6\",\"gridcolor\":\"white\",\"linecolor\":\"white\",\"showbackground\":true,\"ticks\":\"\",\"zerolinecolor\":\"white\",\"gridwidth\":2},\"yaxis\":{\"backgroundcolor\":\"#E5ECF6\",\"gridcolor\":\"white\",\"linecolor\":\"white\",\"showbackground\":true,\"ticks\":\"\",\"zerolinecolor\":\"white\",\"gridwidth\":2},\"zaxis\":{\"backgroundcolor\":\"#E5ECF6\",\"gridcolor\":\"white\",\"linecolor\":\"white\",\"showbackground\":true,\"ticks\":\"\",\"zerolinecolor\":\"white\",\"gridwidth\":2}},\"shapedefaults\":{\"line\":{\"color\":\"#2a3f5f\"}},\"annotationdefaults\":{\"arrowcolor\":\"#2a3f5f\",\"arrowhead\":0,\"arrowwidth\":1},\"geo\":{\"bgcolor\":\"white\",\"landcolor\":\"#E5ECF6\",\"subunitcolor\":\"white\",\"showland\":true,\"showlakes\":true,\"lakecolor\":\"white\"},\"title\":{\"x\":0.05},\"mapbox\":{\"style\":\"light\"}}},\"xaxis\":{\"anchor\":\"y\",\"domain\":[0.0,1.0],\"title\":{\"text\":\"Breite\"},\"range\":[1,18]},\"yaxis\":{\"anchor\":\"x\",\"domain\":[0.0,1.0],\"title\":{\"text\":\"L\\u00e4nge\"},\"range\":[4,25]},\"legend\":{\"title\":{\"text\":\"Insekt\"},\"tracegroupgap\":0},\"margin\":{\"t\":60},\"height\":600,\"width\":800},                        {\"responsive\": true}                    ).then(function(){\n",
       "                            \n",
       "var gd = document.getElementById('fcb76202-f839-44e4-822c-71a372ce9d73');\n",
       "var x = new MutationObserver(function (mutations, observer) {{\n",
       "        var display = window.getComputedStyle(gd).display;\n",
       "        if (!display || display === 'none') {{\n",
       "            console.log([gd, 'removed!']);\n",
       "            Plotly.purge(gd);\n",
       "            observer.disconnect();\n",
       "        }}\n",
       "}});\n",
       "\n",
       "// Listen for the removal of the full notebook cells\n",
       "var notebookContainer = gd.closest('#notebook-container');\n",
       "if (notebookContainer) {{\n",
       "    x.observe(notebookContainer, {childList: true});\n",
       "}}\n",
       "\n",
       "// Listen for the clearing of the current output cell\n",
       "var outputEl = gd.closest('.output');\n",
       "if (outputEl) {{\n",
       "    x.observe(outputEl, {childList: true});\n",
       "}}\n",
       "\n",
       "                        })                };                });            </script>        </div>"
      ]
     },
     "metadata": {},
     "output_type": "display_data"
    }
   ],
   "source": [
    "import plotly.express as px\n",
    "\n",
    "tree = ct.DecisionTree(target=\"Insekt\", data=df_all_data)\n",
    "\n",
    "#fehlersumme = calc_errors(hor, tree, \"Länge\")\n",
    "#fehlersumme = tree.calculate_errors(data = df_kaefer) \n",
    "\n",
    "color_map = {'Marienkäfer': 'orange', 'Raupe': 'lightblue'}\n",
    "\n",
    "fig = px.scatter(\n",
    "    df_all_data,\n",
    "    x=\"Breite\",\n",
    "    y=\"Länge\",\n",
    "    color=\"Insekt\",\n",
    "    color_discrete_map=color_map,\n",
    "    width=800,\n",
    "    height=600,\n",
    "    range_x=bereich_x,\n",
    "    range_y=bereich_y,\n",
    "    #size = 0.01\n",
    ")\n",
    "\n",
    "fig.update_traces(marker=dict(  #size=5, \n",
    "    line=dict(width=1, color='black')))\n",
    "\n",
    "\n",
    "fig.update_layout(shapes=[\n",
    "\n",
    "])\n",
    "\n",
    "fig.show()"
   ]
  },
  {
   "cell_type": "code",
   "execution_count": null,
   "metadata": {},
   "outputs": [],
   "source": []
  }
 ],
 "metadata": {
  "celltoolbar": "Raw Cell Format",
  "hide_input": false,
  "kernelspec": {
   "display_name": "Python 3 (ipykernel)",
   "language": "python",
   "name": "python3"
  },
  "language_info": {
   "codemirror_mode": {
    "name": "ipython",
    "version": 3
   },
   "file_extension": ".py",
   "mimetype": "text/x-python",
   "name": "python",
   "nbconvert_exporter": "python",
   "pygments_lexer": "ipython3",
   "version": "3.8.10"
  },
  "latex_envs": {
   "LaTeX_envs_menu_present": true,
   "autoclose": false,
   "autocomplete": true,
   "bibliofile": "biblio.bib",
   "cite_by": "apalike",
   "current_citInitial": 1,
   "eqLabelWithNumbers": true,
   "eqNumInitial": 1,
   "hotkeys": {
    "equation": "Ctrl-E",
    "itemize": "Ctrl-I"
   },
   "labels_anchors": false,
   "latex_user_defs": false,
   "report_style_numbering": false,
   "user_envs_cfg": true
  },
  "toc": {
   "base_numbering": 1,
   "nav_menu": {},
   "number_sections": true,
   "sideBar": true,
   "skip_h1_title": true,
   "title_cell": "Table of Contents",
   "title_sidebar": "Contents",
   "toc_cell": false,
   "toc_position": {
    "height": "calc(100% - 180px)",
    "left": "10px",
    "top": "150px",
    "width": "165px"
   },
   "toc_section_display": true,
   "toc_window_display": true
  },
  "varInspector": {
   "cols": {
    "lenName": 16,
    "lenType": 16,
    "lenVar": 40
   },
   "kernels_config": {
    "python": {
     "delete_cmd_postfix": "",
     "delete_cmd_prefix": "del ",
     "library": "var_list.py",
     "varRefreshCmd": "print(var_dic_list())"
    },
    "r": {
     "delete_cmd_postfix": ") ",
     "delete_cmd_prefix": "rm(",
     "library": "var_list.r",
     "varRefreshCmd": "cat(var_dic_list()) "
    }
   },
   "types_to_exclude": [
    "module",
    "function",
    "builtin_function_or_method",
    "instance",
    "_Feature"
   ],
   "window_display": false
  }
 },
 "nbformat": 4,
 "nbformat_minor": 2
}
