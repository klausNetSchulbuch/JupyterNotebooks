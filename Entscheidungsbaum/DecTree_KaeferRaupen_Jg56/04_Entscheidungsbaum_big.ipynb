{
 "cells": [
  {
   "cell_type": "markdown",
   "metadata": {},
   "source": [
    "# Wie können Marienkäfer von Raupen unterschieden werden?"
   ]
  },
  {
   "cell_type": "markdown",
   "metadata": {},
   "source": [
    "## Vorbereitung"
   ]
  },
  {
   "cell_type": "markdown",
   "metadata": {},
   "source": [
    "<div class=\"alert alert-block alert-success\">\n",
    "\n",
    "Uns liegt also ein Datensatz für 200 Marienkäfer und Raupen vor. Diese Daten benutzen wir, um das System zu **trainieren**, damit es später unbekannte Insekten als Käfer bzw. Raupe erkennen kann."
   ]
  },
  {
   "cell_type": "markdown",
   "metadata": {},
   "source": [
    "<div class=\"alert alert-block alert-info\">\n",
    "\n",
    "Zur Vorbereitung werden wieder einige notwendige Bibliotheken sowie die Daten eingelesen.\n",
    "    \n",
    "**Führe also die folgenden beiden Zellen aus:**"
   ]
  },
  {
   "cell_type": "code",
   "execution_count": 3,
   "metadata": {},
   "outputs": [],
   "source": [
    "import pandas as pd\n",
    "import plotly.express as px\n",
    "from PyTree import ClassificationTree as ct\n",
    "import ipywidgets as widgets\n",
    "\n",
    "color_map = {'Marienkäfer': 'orange', 'Raupe': 'lightblue'}\n",
    "\n",
    "data_x = \"Breite\"\n",
    "data_y = \"Länge\"\n",
    "target = \"Insekt\"\n",
    "breite=800\n",
    "hoehe=600"
   ]
  },
  {
   "cell_type": "code",
   "execution_count": 4,
   "metadata": {},
   "outputs": [
    {
     "data": {
      "text/html": [
       "<div>\n",
       "<style scoped>\n",
       "    .dataframe tbody tr th:only-of-type {\n",
       "        vertical-align: middle;\n",
       "    }\n",
       "\n",
       "    .dataframe tbody tr th {\n",
       "        vertical-align: top;\n",
       "    }\n",
       "\n",
       "    .dataframe thead th {\n",
       "        text-align: right;\n",
       "    }\n",
       "</style>\n",
       "<table border=\"1\" class=\"dataframe\">\n",
       "  <thead>\n",
       "    <tr style=\"text-align: right;\">\n",
       "      <th></th>\n",
       "      <th>Breite</th>\n",
       "      <th>Länge</th>\n",
       "      <th>Insekt</th>\n",
       "    </tr>\n",
       "  </thead>\n",
       "  <tbody>\n",
       "    <tr>\n",
       "      <th>0</th>\n",
       "      <td>12.19</td>\n",
       "      <td>9.65</td>\n",
       "      <td>Marienkäfer</td>\n",
       "    </tr>\n",
       "    <tr>\n",
       "      <th>1</th>\n",
       "      <td>8.13</td>\n",
       "      <td>18.80</td>\n",
       "      <td>Raupe</td>\n",
       "    </tr>\n",
       "    <tr>\n",
       "      <th>2</th>\n",
       "      <td>12.45</td>\n",
       "      <td>6.86</td>\n",
       "      <td>Marienkäfer</td>\n",
       "    </tr>\n",
       "    <tr>\n",
       "      <th>3</th>\n",
       "      <td>14.73</td>\n",
       "      <td>11.68</td>\n",
       "      <td>Marienkäfer</td>\n",
       "    </tr>\n",
       "    <tr>\n",
       "      <th>4</th>\n",
       "      <td>2.79</td>\n",
       "      <td>14.73</td>\n",
       "      <td>Raupe</td>\n",
       "    </tr>\n",
       "    <tr>\n",
       "      <th>...</th>\n",
       "      <td>...</td>\n",
       "      <td>...</td>\n",
       "      <td>...</td>\n",
       "    </tr>\n",
       "    <tr>\n",
       "      <th>195</th>\n",
       "      <td>14.48</td>\n",
       "      <td>9.40</td>\n",
       "      <td>Marienkäfer</td>\n",
       "    </tr>\n",
       "    <tr>\n",
       "      <th>196</th>\n",
       "      <td>2.54</td>\n",
       "      <td>13.72</td>\n",
       "      <td>Raupe</td>\n",
       "    </tr>\n",
       "    <tr>\n",
       "      <th>197</th>\n",
       "      <td>9.91</td>\n",
       "      <td>20.57</td>\n",
       "      <td>Raupe</td>\n",
       "    </tr>\n",
       "    <tr>\n",
       "      <th>198</th>\n",
       "      <td>14.22</td>\n",
       "      <td>7.37</td>\n",
       "      <td>Marienkäfer</td>\n",
       "    </tr>\n",
       "    <tr>\n",
       "      <th>199</th>\n",
       "      <td>9.65</td>\n",
       "      <td>23.62</td>\n",
       "      <td>Raupe</td>\n",
       "    </tr>\n",
       "  </tbody>\n",
       "</table>\n",
       "<p>200 rows × 3 columns</p>\n",
       "</div>"
      ],
      "text/plain": [
       "     Breite  Länge       Insekt\n",
       "0     12.19   9.65  Marienkäfer\n",
       "1      8.13  18.80        Raupe\n",
       "2     12.45   6.86  Marienkäfer\n",
       "3     14.73  11.68  Marienkäfer\n",
       "4      2.79  14.73        Raupe\n",
       "..      ...    ...          ...\n",
       "195   14.48   9.40  Marienkäfer\n",
       "196    2.54  13.72        Raupe\n",
       "197    9.91  20.57        Raupe\n",
       "198   14.22   7.37  Marienkäfer\n",
       "199    9.65  23.62        Raupe\n",
       "\n",
       "[200 rows x 3 columns]"
      ]
     },
     "metadata": {},
     "output_type": "display_data"
    }
   ],
   "source": [
    "df_kaefer = pd.read_csv(\"Daten/Kaefer_mm.csv\", sep=\";\")\n",
    "display(df_kaefer)"
   ]
  },
  {
   "cell_type": "code",
   "execution_count": 5,
   "metadata": {},
   "outputs": [],
   "source": [
    "max_x = max(df_kaefer [\"Breite\"])\n",
    "min_x = min(df_kaefer [\"Breite\"])\n",
    "max_y = max(df_kaefer [\"Länge\"])\n",
    "min_y = min(df_kaefer [\"Länge\"])\n",
    "\n",
    "delta_x = (max_x - min_x)\n",
    "delta_y = (max_y - min_y)\n",
    "\n",
    "bereich_x = [int(min_x - delta_x*0.05), int(max_x + delta_x*0.05)]\n",
    "bereich_y = [int(min_y - delta_y*0.05), int(max_y + delta_y*0.05)]"
   ]
  },
  {
   "cell_type": "markdown",
   "metadata": {},
   "source": [
    "## Entscheidungsbaum"
   ]
  },
  {
   "cell_type": "markdown",
   "metadata": {},
   "source": [
    "<div class=\"alert alert-block alert-success\">\n",
    "\n",
    "Die Idee vom **Schwellenwert** kann man auch anders darstellen. \n",
    "    \n",
    "Betrachten wir nochmal das Streudiagramm mit dem Schwellenwert `Länge 12`, in dem die Anzahl Fehlklassifikationen eingetragen ist: "
   ]
  },
  {
   "cell_type": "code",
   "execution_count": 9,
   "metadata": {
    "hide_input": false
   },
   "outputs": [
    {
     "data": {
      "application/vnd.plotly.v1+json": {
       "config": {
        "plotlyServerURL": "https://plot.ly"
       },
       "data": [
        {
         "hovertemplate": "Insekt=Marienkäfer<br>Breite=%{x}<br>Länge=%{y}<extra></extra>",
         "legendgroup": "Marienkäfer",
         "marker": {
          "color": "orange",
          "line": {
           "color": "black",
           "width": 1
          },
          "size": 10,
          "symbol": "circle"
         },
         "mode": "markers",
         "name": "Marienkäfer",
         "orientation": "v",
         "showlegend": true,
         "type": "scatter",
         "x": [
          12.19,
          12.45,
          14.73,
          10.41,
          11.43,
          14.73,
          9.91,
          14.73,
          17.27,
          11.68,
          14.48,
          17.27,
          13.46,
          14.48,
          10.67,
          11.43,
          14.22,
          16.51,
          10.67,
          11.68,
          11.18,
          15.24,
          16.51,
          10.67,
          17.53,
          16.51,
          10.41,
          15.49,
          9.91,
          10.92,
          13.72,
          9.4,
          14.99,
          15.24,
          12.7,
          9.91,
          17.02,
          14.99,
          16.51,
          10.92,
          17.27,
          12.95,
          15.49,
          14.48,
          15.24,
          14.73,
          12.95,
          12.95,
          14.99,
          10.16,
          11.68,
          12.7,
          13.46,
          11.94,
          16.51,
          16,
          11.68,
          12.7,
          16.76,
          9.4,
          9.65,
          17.02,
          9.91,
          15.24,
          16.76,
          17.02,
          14.48,
          12.95,
          14.99,
          9.4,
          10.16,
          8.89,
          11.94,
          9.65,
          9.4,
          9.65,
          17.53,
          14.99,
          15.24,
          16.76,
          16.26,
          9.65,
          9.91,
          14.73,
          13.97,
          15.49,
          14.99,
          14.22,
          11.68,
          8.89,
          9.91,
          17.27,
          13.72,
          13.46,
          16.26,
          8.89,
          10.67,
          16.51,
          14.48,
          14.22
         ],
         "xaxis": "x",
         "y": [
          9.65,
          6.86,
          11.68,
          8.13,
          7.87,
          10.67,
          6.35,
          10.41,
          10.92,
          9.4,
          9.91,
          10.41,
          6.6,
          9.14,
          6.6,
          9.4,
          10.67,
          13.46,
          5.84,
          6.6,
          8.64,
          10.67,
          12.95,
          6.86,
          10.67,
          10.41,
          8.64,
          8.89,
          6.86,
          8.38,
          8.64,
          5.08,
          10.41,
          9.14,
          9.65,
          6.6,
          8.89,
          10.92,
          11.94,
          6.35,
          9.14,
          6.35,
          10.67,
          7.62,
          11.94,
          9.91,
          8.38,
          6.86,
          7.37,
          5.84,
          6.35,
          7.37,
          6.86,
          8.13,
          12.7,
          10.16,
          7.11,
          6.86,
          9.4,
          6.6,
          6.86,
          9.65,
          5.84,
          10.67,
          9.91,
          8.38,
          9.4,
          7.11,
          7.62,
          5.59,
          5.08,
          6.1,
          7.62,
          5.59,
          6.6,
          6.86,
          12.19,
          11.94,
          7.62,
          12.45,
          12.95,
          7.37,
          6.6,
          7.87,
          10.41,
          12.95,
          11.18,
          8.64,
          6.1,
          5.84,
          5.33,
          12.7,
          8.64,
          10.16,
          11.68,
          5.84,
          5.33,
          12.95,
          9.4,
          7.37
         ],
         "yaxis": "y"
        },
        {
         "hovertemplate": "Insekt=Raupe<br>Breite=%{x}<br>Länge=%{y}<extra></extra>",
         "legendgroup": "Raupe",
         "marker": {
          "color": "lightblue",
          "line": {
           "color": "black",
           "width": 1
          },
          "size": 10,
          "symbol": "circle"
         },
         "mode": "markers",
         "name": "Raupe",
         "orientation": "v",
         "showlegend": true,
         "type": "scatter",
         "x": [
          8.13,
          2.79,
          8.13,
          9.4,
          5.08,
          2.54,
          5.84,
          6.86,
          3.81,
          2.79,
          4.06,
          2.79,
          5.33,
          8.64,
          7.87,
          9.91,
          4.83,
          5.33,
          8.13,
          5.08,
          6.86,
          7.37,
          9.4,
          8.38,
          4.57,
          5.08,
          3.81,
          4.83,
          2.54,
          8.89,
          9.91,
          8.64,
          8.64,
          3.56,
          6.86,
          6.35,
          6.6,
          3.56,
          6.35,
          8.64,
          9.65,
          3.3,
          5.84,
          8.13,
          4.83,
          8.89,
          5.33,
          5.33,
          4.06,
          8.13,
          9.91,
          9.65,
          2.54,
          6.86,
          4.32,
          6.6,
          9.4,
          8.38,
          5.08,
          8.38,
          9.14,
          9.91,
          8.13,
          4.83,
          8.64,
          4.83,
          4.83,
          4.06,
          9.65,
          3.56,
          8.89,
          7.87,
          7.87,
          9.91,
          3.3,
          8.13,
          2.54,
          9.14,
          3.05,
          9.14,
          4.32,
          5.84,
          3.81,
          5.33,
          7.62,
          4.83,
          4.06,
          6.35,
          8.13,
          5.08,
          5.59,
          5.84,
          3.3,
          4.83,
          7.87,
          8.89,
          5.84,
          2.54,
          9.91,
          9.65
         ],
         "xaxis": "x",
         "y": [
          18.8,
          14.73,
          21.08,
          24.13,
          18.03,
          5.33,
          16.26,
          15.49,
          20.07,
          14.22,
          21.59,
          9.14,
          22.61,
          17.27,
          21.34,
          23.62,
          21.84,
          18.03,
          18.03,
          18.8,
          17.53,
          18.29,
          20.07,
          22.1,
          17.27,
          16.76,
          23.88,
          13.72,
          6.35,
          18.03,
          19.81,
          18.8,
          18.03,
          10.41,
          17.02,
          24.13,
          20.57,
          20.83,
          24.38,
          18.8,
          22.35,
          12.45,
          14.48,
          24.64,
          21.59,
          22.61,
          17.53,
          15.24,
          21.59,
          20.83,
          22.61,
          20.83,
          11.43,
          21.84,
          9.4,
          22.1,
          22.35,
          21.59,
          23.37,
          23.62,
          18.8,
          20.07,
          17.27,
          13.21,
          17.53,
          19.81,
          24.13,
          12.95,
          22.61,
          18.03,
          23.11,
          17.53,
          20.57,
          22.35,
          11.94,
          21.34,
          23.11,
          21.59,
          21.08,
          20.07,
          15.75,
          20.83,
          10.41,
          14.22,
          24.38,
          12.45,
          10.16,
          13.97,
          19.05,
          17.53,
          14.73,
          13.21,
          6.6,
          23.11,
          17.53,
          18.8,
          15.75,
          13.72,
          20.57,
          23.62
         ],
         "yaxis": "y"
        }
       ],
       "layout": {
        "annotations": [
         {
          "showarrow": true,
          "text": "Schwellenwert der Länge=12",
          "x": 10,
          "xshift": 20,
          "y": 12
         },
         {
          "showarrow": false,
          "text": "Fehler: 19",
          "x": 10,
          "y": 12,
          "yshift": 50
         }
        ],
        "height": 600,
        "legend": {
         "title": {
          "text": "Insekt"
         },
         "tracegroupgap": 0
        },
        "margin": {
         "t": 60
        },
        "shapes": [
         {
          "line": {
           "color": "Red",
           "width": 1
          },
          "type": "line",
          "x0": 1,
          "x1": 18,
          "xref": "x",
          "y0": 12,
          "y1": 12,
          "yref": "y"
         }
        ],
        "template": {
         "data": {
          "bar": [
           {
            "error_x": {
             "color": "#2a3f5f"
            },
            "error_y": {
             "color": "#2a3f5f"
            },
            "marker": {
             "line": {
              "color": "#E5ECF6",
              "width": 0.5
             },
             "pattern": {
              "fillmode": "overlay",
              "size": 10,
              "solidity": 0.2
             }
            },
            "type": "bar"
           }
          ],
          "barpolar": [
           {
            "marker": {
             "line": {
              "color": "#E5ECF6",
              "width": 0.5
             },
             "pattern": {
              "fillmode": "overlay",
              "size": 10,
              "solidity": 0.2
             }
            },
            "type": "barpolar"
           }
          ],
          "carpet": [
           {
            "aaxis": {
             "endlinecolor": "#2a3f5f",
             "gridcolor": "white",
             "linecolor": "white",
             "minorgridcolor": "white",
             "startlinecolor": "#2a3f5f"
            },
            "baxis": {
             "endlinecolor": "#2a3f5f",
             "gridcolor": "white",
             "linecolor": "white",
             "minorgridcolor": "white",
             "startlinecolor": "#2a3f5f"
            },
            "type": "carpet"
           }
          ],
          "choropleth": [
           {
            "colorbar": {
             "outlinewidth": 0,
             "ticks": ""
            },
            "type": "choropleth"
           }
          ],
          "contour": [
           {
            "colorbar": {
             "outlinewidth": 0,
             "ticks": ""
            },
            "colorscale": [
             [
              0,
              "#0d0887"
             ],
             [
              0.1111111111111111,
              "#46039f"
             ],
             [
              0.2222222222222222,
              "#7201a8"
             ],
             [
              0.3333333333333333,
              "#9c179e"
             ],
             [
              0.4444444444444444,
              "#bd3786"
             ],
             [
              0.5555555555555556,
              "#d8576b"
             ],
             [
              0.6666666666666666,
              "#ed7953"
             ],
             [
              0.7777777777777778,
              "#fb9f3a"
             ],
             [
              0.8888888888888888,
              "#fdca26"
             ],
             [
              1,
              "#f0f921"
             ]
            ],
            "type": "contour"
           }
          ],
          "contourcarpet": [
           {
            "colorbar": {
             "outlinewidth": 0,
             "ticks": ""
            },
            "type": "contourcarpet"
           }
          ],
          "heatmap": [
           {
            "colorbar": {
             "outlinewidth": 0,
             "ticks": ""
            },
            "colorscale": [
             [
              0,
              "#0d0887"
             ],
             [
              0.1111111111111111,
              "#46039f"
             ],
             [
              0.2222222222222222,
              "#7201a8"
             ],
             [
              0.3333333333333333,
              "#9c179e"
             ],
             [
              0.4444444444444444,
              "#bd3786"
             ],
             [
              0.5555555555555556,
              "#d8576b"
             ],
             [
              0.6666666666666666,
              "#ed7953"
             ],
             [
              0.7777777777777778,
              "#fb9f3a"
             ],
             [
              0.8888888888888888,
              "#fdca26"
             ],
             [
              1,
              "#f0f921"
             ]
            ],
            "type": "heatmap"
           }
          ],
          "heatmapgl": [
           {
            "colorbar": {
             "outlinewidth": 0,
             "ticks": ""
            },
            "colorscale": [
             [
              0,
              "#0d0887"
             ],
             [
              0.1111111111111111,
              "#46039f"
             ],
             [
              0.2222222222222222,
              "#7201a8"
             ],
             [
              0.3333333333333333,
              "#9c179e"
             ],
             [
              0.4444444444444444,
              "#bd3786"
             ],
             [
              0.5555555555555556,
              "#d8576b"
             ],
             [
              0.6666666666666666,
              "#ed7953"
             ],
             [
              0.7777777777777778,
              "#fb9f3a"
             ],
             [
              0.8888888888888888,
              "#fdca26"
             ],
             [
              1,
              "#f0f921"
             ]
            ],
            "type": "heatmapgl"
           }
          ],
          "histogram": [
           {
            "marker": {
             "pattern": {
              "fillmode": "overlay",
              "size": 10,
              "solidity": 0.2
             }
            },
            "type": "histogram"
           }
          ],
          "histogram2d": [
           {
            "colorbar": {
             "outlinewidth": 0,
             "ticks": ""
            },
            "colorscale": [
             [
              0,
              "#0d0887"
             ],
             [
              0.1111111111111111,
              "#46039f"
             ],
             [
              0.2222222222222222,
              "#7201a8"
             ],
             [
              0.3333333333333333,
              "#9c179e"
             ],
             [
              0.4444444444444444,
              "#bd3786"
             ],
             [
              0.5555555555555556,
              "#d8576b"
             ],
             [
              0.6666666666666666,
              "#ed7953"
             ],
             [
              0.7777777777777778,
              "#fb9f3a"
             ],
             [
              0.8888888888888888,
              "#fdca26"
             ],
             [
              1,
              "#f0f921"
             ]
            ],
            "type": "histogram2d"
           }
          ],
          "histogram2dcontour": [
           {
            "colorbar": {
             "outlinewidth": 0,
             "ticks": ""
            },
            "colorscale": [
             [
              0,
              "#0d0887"
             ],
             [
              0.1111111111111111,
              "#46039f"
             ],
             [
              0.2222222222222222,
              "#7201a8"
             ],
             [
              0.3333333333333333,
              "#9c179e"
             ],
             [
              0.4444444444444444,
              "#bd3786"
             ],
             [
              0.5555555555555556,
              "#d8576b"
             ],
             [
              0.6666666666666666,
              "#ed7953"
             ],
             [
              0.7777777777777778,
              "#fb9f3a"
             ],
             [
              0.8888888888888888,
              "#fdca26"
             ],
             [
              1,
              "#f0f921"
             ]
            ],
            "type": "histogram2dcontour"
           }
          ],
          "mesh3d": [
           {
            "colorbar": {
             "outlinewidth": 0,
             "ticks": ""
            },
            "type": "mesh3d"
           }
          ],
          "parcoords": [
           {
            "line": {
             "colorbar": {
              "outlinewidth": 0,
              "ticks": ""
             }
            },
            "type": "parcoords"
           }
          ],
          "pie": [
           {
            "automargin": true,
            "type": "pie"
           }
          ],
          "scatter": [
           {
            "fillpattern": {
             "fillmode": "overlay",
             "size": 10,
             "solidity": 0.2
            },
            "type": "scatter"
           }
          ],
          "scatter3d": [
           {
            "line": {
             "colorbar": {
              "outlinewidth": 0,
              "ticks": ""
             }
            },
            "marker": {
             "colorbar": {
              "outlinewidth": 0,
              "ticks": ""
             }
            },
            "type": "scatter3d"
           }
          ],
          "scattercarpet": [
           {
            "marker": {
             "colorbar": {
              "outlinewidth": 0,
              "ticks": ""
             }
            },
            "type": "scattercarpet"
           }
          ],
          "scattergeo": [
           {
            "marker": {
             "colorbar": {
              "outlinewidth": 0,
              "ticks": ""
             }
            },
            "type": "scattergeo"
           }
          ],
          "scattergl": [
           {
            "marker": {
             "colorbar": {
              "outlinewidth": 0,
              "ticks": ""
             }
            },
            "type": "scattergl"
           }
          ],
          "scattermapbox": [
           {
            "marker": {
             "colorbar": {
              "outlinewidth": 0,
              "ticks": ""
             }
            },
            "type": "scattermapbox"
           }
          ],
          "scatterpolar": [
           {
            "marker": {
             "colorbar": {
              "outlinewidth": 0,
              "ticks": ""
             }
            },
            "type": "scatterpolar"
           }
          ],
          "scatterpolargl": [
           {
            "marker": {
             "colorbar": {
              "outlinewidth": 0,
              "ticks": ""
             }
            },
            "type": "scatterpolargl"
           }
          ],
          "scatterternary": [
           {
            "marker": {
             "colorbar": {
              "outlinewidth": 0,
              "ticks": ""
             }
            },
            "type": "scatterternary"
           }
          ],
          "surface": [
           {
            "colorbar": {
             "outlinewidth": 0,
             "ticks": ""
            },
            "colorscale": [
             [
              0,
              "#0d0887"
             ],
             [
              0.1111111111111111,
              "#46039f"
             ],
             [
              0.2222222222222222,
              "#7201a8"
             ],
             [
              0.3333333333333333,
              "#9c179e"
             ],
             [
              0.4444444444444444,
              "#bd3786"
             ],
             [
              0.5555555555555556,
              "#d8576b"
             ],
             [
              0.6666666666666666,
              "#ed7953"
             ],
             [
              0.7777777777777778,
              "#fb9f3a"
             ],
             [
              0.8888888888888888,
              "#fdca26"
             ],
             [
              1,
              "#f0f921"
             ]
            ],
            "type": "surface"
           }
          ],
          "table": [
           {
            "cells": {
             "fill": {
              "color": "#EBF0F8"
             },
             "line": {
              "color": "white"
             }
            },
            "header": {
             "fill": {
              "color": "#C8D4E3"
             },
             "line": {
              "color": "white"
             }
            },
            "type": "table"
           }
          ]
         },
         "layout": {
          "annotationdefaults": {
           "arrowcolor": "#2a3f5f",
           "arrowhead": 0,
           "arrowwidth": 1
          },
          "autotypenumbers": "strict",
          "coloraxis": {
           "colorbar": {
            "outlinewidth": 0,
            "ticks": ""
           }
          },
          "colorscale": {
           "diverging": [
            [
             0,
             "#8e0152"
            ],
            [
             0.1,
             "#c51b7d"
            ],
            [
             0.2,
             "#de77ae"
            ],
            [
             0.3,
             "#f1b6da"
            ],
            [
             0.4,
             "#fde0ef"
            ],
            [
             0.5,
             "#f7f7f7"
            ],
            [
             0.6,
             "#e6f5d0"
            ],
            [
             0.7,
             "#b8e186"
            ],
            [
             0.8,
             "#7fbc41"
            ],
            [
             0.9,
             "#4d9221"
            ],
            [
             1,
             "#276419"
            ]
           ],
           "sequential": [
            [
             0,
             "#0d0887"
            ],
            [
             0.1111111111111111,
             "#46039f"
            ],
            [
             0.2222222222222222,
             "#7201a8"
            ],
            [
             0.3333333333333333,
             "#9c179e"
            ],
            [
             0.4444444444444444,
             "#bd3786"
            ],
            [
             0.5555555555555556,
             "#d8576b"
            ],
            [
             0.6666666666666666,
             "#ed7953"
            ],
            [
             0.7777777777777778,
             "#fb9f3a"
            ],
            [
             0.8888888888888888,
             "#fdca26"
            ],
            [
             1,
             "#f0f921"
            ]
           ],
           "sequentialminus": [
            [
             0,
             "#0d0887"
            ],
            [
             0.1111111111111111,
             "#46039f"
            ],
            [
             0.2222222222222222,
             "#7201a8"
            ],
            [
             0.3333333333333333,
             "#9c179e"
            ],
            [
             0.4444444444444444,
             "#bd3786"
            ],
            [
             0.5555555555555556,
             "#d8576b"
            ],
            [
             0.6666666666666666,
             "#ed7953"
            ],
            [
             0.7777777777777778,
             "#fb9f3a"
            ],
            [
             0.8888888888888888,
             "#fdca26"
            ],
            [
             1,
             "#f0f921"
            ]
           ]
          },
          "colorway": [
           "#636efa",
           "#EF553B",
           "#00cc96",
           "#ab63fa",
           "#FFA15A",
           "#19d3f3",
           "#FF6692",
           "#B6E880",
           "#FF97FF",
           "#FECB52"
          ],
          "font": {
           "color": "#2a3f5f"
          },
          "geo": {
           "bgcolor": "white",
           "lakecolor": "white",
           "landcolor": "#E5ECF6",
           "showlakes": true,
           "showland": true,
           "subunitcolor": "white"
          },
          "hoverlabel": {
           "align": "left"
          },
          "hovermode": "closest",
          "mapbox": {
           "style": "light"
          },
          "paper_bgcolor": "white",
          "plot_bgcolor": "#E5ECF6",
          "polar": {
           "angularaxis": {
            "gridcolor": "white",
            "linecolor": "white",
            "ticks": ""
           },
           "bgcolor": "#E5ECF6",
           "radialaxis": {
            "gridcolor": "white",
            "linecolor": "white",
            "ticks": ""
           }
          },
          "scene": {
           "xaxis": {
            "backgroundcolor": "#E5ECF6",
            "gridcolor": "white",
            "gridwidth": 2,
            "linecolor": "white",
            "showbackground": true,
            "ticks": "",
            "zerolinecolor": "white"
           },
           "yaxis": {
            "backgroundcolor": "#E5ECF6",
            "gridcolor": "white",
            "gridwidth": 2,
            "linecolor": "white",
            "showbackground": true,
            "ticks": "",
            "zerolinecolor": "white"
           },
           "zaxis": {
            "backgroundcolor": "#E5ECF6",
            "gridcolor": "white",
            "gridwidth": 2,
            "linecolor": "white",
            "showbackground": true,
            "ticks": "",
            "zerolinecolor": "white"
           }
          },
          "shapedefaults": {
           "line": {
            "color": "#2a3f5f"
           }
          },
          "ternary": {
           "aaxis": {
            "gridcolor": "white",
            "linecolor": "white",
            "ticks": ""
           },
           "baxis": {
            "gridcolor": "white",
            "linecolor": "white",
            "ticks": ""
           },
           "bgcolor": "#E5ECF6",
           "caxis": {
            "gridcolor": "white",
            "linecolor": "white",
            "ticks": ""
           }
          },
          "title": {
           "x": 0.05
          },
          "xaxis": {
           "automargin": true,
           "gridcolor": "white",
           "linecolor": "white",
           "ticks": "",
           "title": {
            "standoff": 15
           },
           "zerolinecolor": "white",
           "zerolinewidth": 2
          },
          "yaxis": {
           "automargin": true,
           "gridcolor": "white",
           "linecolor": "white",
           "ticks": "",
           "title": {
            "standoff": 15
           },
           "zerolinecolor": "white",
           "zerolinewidth": 2
          }
         }
        },
        "width": 800,
        "xaxis": {
         "anchor": "y",
         "domain": [
          0,
          1
         ],
         "range": [
          1,
          18
         ],
         "title": {
          "text": "Breite"
         }
        },
        "yaxis": {
         "anchor": "x",
         "domain": [
          0,
          1
         ],
         "range": [
          4,
          25
         ],
         "title": {
          "text": "Länge"
         }
        }
       }
      },
      "text/html": [
       "<div>                            <div id=\"21cd4fd5-97f5-4d79-adfe-9e0eca16635f\" class=\"plotly-graph-div\" style=\"height:600px; width:800px;\"></div>            <script type=\"text/javascript\">                require([\"plotly\"], function(Plotly) {                    window.PLOTLYENV=window.PLOTLYENV || {};                                    if (document.getElementById(\"21cd4fd5-97f5-4d79-adfe-9e0eca16635f\")) {                    Plotly.newPlot(                        \"21cd4fd5-97f5-4d79-adfe-9e0eca16635f\",                        [{\"hovertemplate\":\"Insekt=Marienk\\u00e4fer\\u003cbr\\u003eBreite=%{x}\\u003cbr\\u003eL\\u00e4nge=%{y}\\u003cextra\\u003e\\u003c\\u002fextra\\u003e\",\"legendgroup\":\"Marienk\\u00e4fer\",\"marker\":{\"color\":\"orange\",\"symbol\":\"circle\",\"line\":{\"color\":\"black\",\"width\":1},\"size\":10},\"mode\":\"markers\",\"name\":\"Marienk\\u00e4fer\",\"orientation\":\"v\",\"showlegend\":true,\"x\":[12.19,12.45,14.73,10.41,11.43,14.73,9.91,14.73,17.27,11.68,14.48,17.27,13.46,14.48,10.67,11.43,14.22,16.51,10.67,11.68,11.18,15.24,16.51,10.67,17.53,16.51,10.41,15.49,9.91,10.92,13.72,9.4,14.99,15.24,12.7,9.91,17.02,14.99,16.51,10.92,17.27,12.95,15.49,14.48,15.24,14.73,12.95,12.95,14.99,10.16,11.68,12.7,13.46,11.94,16.51,16.0,11.68,12.7,16.76,9.4,9.65,17.02,9.91,15.24,16.76,17.02,14.48,12.95,14.99,9.4,10.16,8.89,11.94,9.65,9.4,9.65,17.53,14.99,15.24,16.76,16.26,9.65,9.91,14.73,13.97,15.49,14.99,14.22,11.68,8.89,9.91,17.27,13.72,13.46,16.26,8.89,10.67,16.51,14.48,14.22],\"xaxis\":\"x\",\"y\":[9.65,6.86,11.68,8.13,7.87,10.67,6.35,10.41,10.92,9.4,9.91,10.41,6.6,9.14,6.6,9.4,10.67,13.46,5.84,6.6,8.64,10.67,12.95,6.86,10.67,10.41,8.64,8.89,6.86,8.38,8.64,5.08,10.41,9.14,9.65,6.6,8.89,10.92,11.94,6.35,9.14,6.35,10.67,7.62,11.94,9.91,8.38,6.86,7.37,5.84,6.35,7.37,6.86,8.13,12.7,10.16,7.11,6.86,9.4,6.6,6.86,9.65,5.84,10.67,9.91,8.38,9.4,7.11,7.62,5.59,5.08,6.1,7.62,5.59,6.6,6.86,12.19,11.94,7.62,12.45,12.95,7.37,6.6,7.87,10.41,12.95,11.18,8.64,6.1,5.84,5.33,12.7,8.64,10.16,11.68,5.84,5.33,12.95,9.4,7.37],\"yaxis\":\"y\",\"type\":\"scatter\"},{\"hovertemplate\":\"Insekt=Raupe\\u003cbr\\u003eBreite=%{x}\\u003cbr\\u003eL\\u00e4nge=%{y}\\u003cextra\\u003e\\u003c\\u002fextra\\u003e\",\"legendgroup\":\"Raupe\",\"marker\":{\"color\":\"lightblue\",\"symbol\":\"circle\",\"line\":{\"color\":\"black\",\"width\":1},\"size\":10},\"mode\":\"markers\",\"name\":\"Raupe\",\"orientation\":\"v\",\"showlegend\":true,\"x\":[8.13,2.79,8.13,9.4,5.08,2.54,5.84,6.86,3.81,2.79,4.06,2.79,5.33,8.64,7.87,9.91,4.83,5.33,8.13,5.08,6.86,7.37,9.4,8.38,4.57,5.08,3.81,4.83,2.54,8.89,9.91,8.64,8.64,3.56,6.86,6.35,6.6,3.56,6.35,8.64,9.65,3.3,5.84,8.13,4.83,8.89,5.33,5.33,4.06,8.13,9.91,9.65,2.54,6.86,4.32,6.6,9.4,8.38,5.08,8.38,9.14,9.91,8.13,4.83,8.64,4.83,4.83,4.06,9.65,3.56,8.89,7.87,7.87,9.91,3.3,8.13,2.54,9.14,3.05,9.14,4.32,5.84,3.81,5.33,7.62,4.83,4.06,6.35,8.13,5.08,5.59,5.84,3.3,4.83,7.87,8.89,5.84,2.54,9.91,9.65],\"xaxis\":\"x\",\"y\":[18.8,14.73,21.08,24.13,18.03,5.33,16.26,15.49,20.07,14.22,21.59,9.14,22.61,17.27,21.34,23.62,21.84,18.03,18.03,18.8,17.53,18.29,20.07,22.1,17.27,16.76,23.88,13.72,6.35,18.03,19.81,18.8,18.03,10.41,17.02,24.13,20.57,20.83,24.38,18.8,22.35,12.45,14.48,24.64,21.59,22.61,17.53,15.24,21.59,20.83,22.61,20.83,11.43,21.84,9.4,22.1,22.35,21.59,23.37,23.62,18.8,20.07,17.27,13.21,17.53,19.81,24.13,12.95,22.61,18.03,23.11,17.53,20.57,22.35,11.94,21.34,23.11,21.59,21.08,20.07,15.75,20.83,10.41,14.22,24.38,12.45,10.16,13.97,19.05,17.53,14.73,13.21,6.6,23.11,17.53,18.8,15.75,13.72,20.57,23.62],\"yaxis\":\"y\",\"type\":\"scatter\"}],                        {\"template\":{\"data\":{\"histogram2dcontour\":[{\"type\":\"histogram2dcontour\",\"colorbar\":{\"outlinewidth\":0,\"ticks\":\"\"},\"colorscale\":[[0.0,\"#0d0887\"],[0.1111111111111111,\"#46039f\"],[0.2222222222222222,\"#7201a8\"],[0.3333333333333333,\"#9c179e\"],[0.4444444444444444,\"#bd3786\"],[0.5555555555555556,\"#d8576b\"],[0.6666666666666666,\"#ed7953\"],[0.7777777777777778,\"#fb9f3a\"],[0.8888888888888888,\"#fdca26\"],[1.0,\"#f0f921\"]]}],\"choropleth\":[{\"type\":\"choropleth\",\"colorbar\":{\"outlinewidth\":0,\"ticks\":\"\"}}],\"histogram2d\":[{\"type\":\"histogram2d\",\"colorbar\":{\"outlinewidth\":0,\"ticks\":\"\"},\"colorscale\":[[0.0,\"#0d0887\"],[0.1111111111111111,\"#46039f\"],[0.2222222222222222,\"#7201a8\"],[0.3333333333333333,\"#9c179e\"],[0.4444444444444444,\"#bd3786\"],[0.5555555555555556,\"#d8576b\"],[0.6666666666666666,\"#ed7953\"],[0.7777777777777778,\"#fb9f3a\"],[0.8888888888888888,\"#fdca26\"],[1.0,\"#f0f921\"]]}],\"heatmap\":[{\"type\":\"heatmap\",\"colorbar\":{\"outlinewidth\":0,\"ticks\":\"\"},\"colorscale\":[[0.0,\"#0d0887\"],[0.1111111111111111,\"#46039f\"],[0.2222222222222222,\"#7201a8\"],[0.3333333333333333,\"#9c179e\"],[0.4444444444444444,\"#bd3786\"],[0.5555555555555556,\"#d8576b\"],[0.6666666666666666,\"#ed7953\"],[0.7777777777777778,\"#fb9f3a\"],[0.8888888888888888,\"#fdca26\"],[1.0,\"#f0f921\"]]}],\"heatmapgl\":[{\"type\":\"heatmapgl\",\"colorbar\":{\"outlinewidth\":0,\"ticks\":\"\"},\"colorscale\":[[0.0,\"#0d0887\"],[0.1111111111111111,\"#46039f\"],[0.2222222222222222,\"#7201a8\"],[0.3333333333333333,\"#9c179e\"],[0.4444444444444444,\"#bd3786\"],[0.5555555555555556,\"#d8576b\"],[0.6666666666666666,\"#ed7953\"],[0.7777777777777778,\"#fb9f3a\"],[0.8888888888888888,\"#fdca26\"],[1.0,\"#f0f921\"]]}],\"contourcarpet\":[{\"type\":\"contourcarpet\",\"colorbar\":{\"outlinewidth\":0,\"ticks\":\"\"}}],\"contour\":[{\"type\":\"contour\",\"colorbar\":{\"outlinewidth\":0,\"ticks\":\"\"},\"colorscale\":[[0.0,\"#0d0887\"],[0.1111111111111111,\"#46039f\"],[0.2222222222222222,\"#7201a8\"],[0.3333333333333333,\"#9c179e\"],[0.4444444444444444,\"#bd3786\"],[0.5555555555555556,\"#d8576b\"],[0.6666666666666666,\"#ed7953\"],[0.7777777777777778,\"#fb9f3a\"],[0.8888888888888888,\"#fdca26\"],[1.0,\"#f0f921\"]]}],\"surface\":[{\"type\":\"surface\",\"colorbar\":{\"outlinewidth\":0,\"ticks\":\"\"},\"colorscale\":[[0.0,\"#0d0887\"],[0.1111111111111111,\"#46039f\"],[0.2222222222222222,\"#7201a8\"],[0.3333333333333333,\"#9c179e\"],[0.4444444444444444,\"#bd3786\"],[0.5555555555555556,\"#d8576b\"],[0.6666666666666666,\"#ed7953\"],[0.7777777777777778,\"#fb9f3a\"],[0.8888888888888888,\"#fdca26\"],[1.0,\"#f0f921\"]]}],\"mesh3d\":[{\"type\":\"mesh3d\",\"colorbar\":{\"outlinewidth\":0,\"ticks\":\"\"}}],\"scatter\":[{\"fillpattern\":{\"fillmode\":\"overlay\",\"size\":10,\"solidity\":0.2},\"type\":\"scatter\"}],\"parcoords\":[{\"type\":\"parcoords\",\"line\":{\"colorbar\":{\"outlinewidth\":0,\"ticks\":\"\"}}}],\"scatterpolargl\":[{\"type\":\"scatterpolargl\",\"marker\":{\"colorbar\":{\"outlinewidth\":0,\"ticks\":\"\"}}}],\"bar\":[{\"error_x\":{\"color\":\"#2a3f5f\"},\"error_y\":{\"color\":\"#2a3f5f\"},\"marker\":{\"line\":{\"color\":\"#E5ECF6\",\"width\":0.5},\"pattern\":{\"fillmode\":\"overlay\",\"size\":10,\"solidity\":0.2}},\"type\":\"bar\"}],\"scattergeo\":[{\"type\":\"scattergeo\",\"marker\":{\"colorbar\":{\"outlinewidth\":0,\"ticks\":\"\"}}}],\"scatterpolar\":[{\"type\":\"scatterpolar\",\"marker\":{\"colorbar\":{\"outlinewidth\":0,\"ticks\":\"\"}}}],\"histogram\":[{\"marker\":{\"pattern\":{\"fillmode\":\"overlay\",\"size\":10,\"solidity\":0.2}},\"type\":\"histogram\"}],\"scattergl\":[{\"type\":\"scattergl\",\"marker\":{\"colorbar\":{\"outlinewidth\":0,\"ticks\":\"\"}}}],\"scatter3d\":[{\"type\":\"scatter3d\",\"line\":{\"colorbar\":{\"outlinewidth\":0,\"ticks\":\"\"}},\"marker\":{\"colorbar\":{\"outlinewidth\":0,\"ticks\":\"\"}}}],\"scattermapbox\":[{\"type\":\"scattermapbox\",\"marker\":{\"colorbar\":{\"outlinewidth\":0,\"ticks\":\"\"}}}],\"scatterternary\":[{\"type\":\"scatterternary\",\"marker\":{\"colorbar\":{\"outlinewidth\":0,\"ticks\":\"\"}}}],\"scattercarpet\":[{\"type\":\"scattercarpet\",\"marker\":{\"colorbar\":{\"outlinewidth\":0,\"ticks\":\"\"}}}],\"carpet\":[{\"aaxis\":{\"endlinecolor\":\"#2a3f5f\",\"gridcolor\":\"white\",\"linecolor\":\"white\",\"minorgridcolor\":\"white\",\"startlinecolor\":\"#2a3f5f\"},\"baxis\":{\"endlinecolor\":\"#2a3f5f\",\"gridcolor\":\"white\",\"linecolor\":\"white\",\"minorgridcolor\":\"white\",\"startlinecolor\":\"#2a3f5f\"},\"type\":\"carpet\"}],\"table\":[{\"cells\":{\"fill\":{\"color\":\"#EBF0F8\"},\"line\":{\"color\":\"white\"}},\"header\":{\"fill\":{\"color\":\"#C8D4E3\"},\"line\":{\"color\":\"white\"}},\"type\":\"table\"}],\"barpolar\":[{\"marker\":{\"line\":{\"color\":\"#E5ECF6\",\"width\":0.5},\"pattern\":{\"fillmode\":\"overlay\",\"size\":10,\"solidity\":0.2}},\"type\":\"barpolar\"}],\"pie\":[{\"automargin\":true,\"type\":\"pie\"}]},\"layout\":{\"autotypenumbers\":\"strict\",\"colorway\":[\"#636efa\",\"#EF553B\",\"#00cc96\",\"#ab63fa\",\"#FFA15A\",\"#19d3f3\",\"#FF6692\",\"#B6E880\",\"#FF97FF\",\"#FECB52\"],\"font\":{\"color\":\"#2a3f5f\"},\"hovermode\":\"closest\",\"hoverlabel\":{\"align\":\"left\"},\"paper_bgcolor\":\"white\",\"plot_bgcolor\":\"#E5ECF6\",\"polar\":{\"bgcolor\":\"#E5ECF6\",\"angularaxis\":{\"gridcolor\":\"white\",\"linecolor\":\"white\",\"ticks\":\"\"},\"radialaxis\":{\"gridcolor\":\"white\",\"linecolor\":\"white\",\"ticks\":\"\"}},\"ternary\":{\"bgcolor\":\"#E5ECF6\",\"aaxis\":{\"gridcolor\":\"white\",\"linecolor\":\"white\",\"ticks\":\"\"},\"baxis\":{\"gridcolor\":\"white\",\"linecolor\":\"white\",\"ticks\":\"\"},\"caxis\":{\"gridcolor\":\"white\",\"linecolor\":\"white\",\"ticks\":\"\"}},\"coloraxis\":{\"colorbar\":{\"outlinewidth\":0,\"ticks\":\"\"}},\"colorscale\":{\"sequential\":[[0.0,\"#0d0887\"],[0.1111111111111111,\"#46039f\"],[0.2222222222222222,\"#7201a8\"],[0.3333333333333333,\"#9c179e\"],[0.4444444444444444,\"#bd3786\"],[0.5555555555555556,\"#d8576b\"],[0.6666666666666666,\"#ed7953\"],[0.7777777777777778,\"#fb9f3a\"],[0.8888888888888888,\"#fdca26\"],[1.0,\"#f0f921\"]],\"sequentialminus\":[[0.0,\"#0d0887\"],[0.1111111111111111,\"#46039f\"],[0.2222222222222222,\"#7201a8\"],[0.3333333333333333,\"#9c179e\"],[0.4444444444444444,\"#bd3786\"],[0.5555555555555556,\"#d8576b\"],[0.6666666666666666,\"#ed7953\"],[0.7777777777777778,\"#fb9f3a\"],[0.8888888888888888,\"#fdca26\"],[1.0,\"#f0f921\"]],\"diverging\":[[0,\"#8e0152\"],[0.1,\"#c51b7d\"],[0.2,\"#de77ae\"],[0.3,\"#f1b6da\"],[0.4,\"#fde0ef\"],[0.5,\"#f7f7f7\"],[0.6,\"#e6f5d0\"],[0.7,\"#b8e186\"],[0.8,\"#7fbc41\"],[0.9,\"#4d9221\"],[1,\"#276419\"]]},\"xaxis\":{\"gridcolor\":\"white\",\"linecolor\":\"white\",\"ticks\":\"\",\"title\":{\"standoff\":15},\"zerolinecolor\":\"white\",\"automargin\":true,\"zerolinewidth\":2},\"yaxis\":{\"gridcolor\":\"white\",\"linecolor\":\"white\",\"ticks\":\"\",\"title\":{\"standoff\":15},\"zerolinecolor\":\"white\",\"automargin\":true,\"zerolinewidth\":2},\"scene\":{\"xaxis\":{\"backgroundcolor\":\"#E5ECF6\",\"gridcolor\":\"white\",\"linecolor\":\"white\",\"showbackground\":true,\"ticks\":\"\",\"zerolinecolor\":\"white\",\"gridwidth\":2},\"yaxis\":{\"backgroundcolor\":\"#E5ECF6\",\"gridcolor\":\"white\",\"linecolor\":\"white\",\"showbackground\":true,\"ticks\":\"\",\"zerolinecolor\":\"white\",\"gridwidth\":2},\"zaxis\":{\"backgroundcolor\":\"#E5ECF6\",\"gridcolor\":\"white\",\"linecolor\":\"white\",\"showbackground\":true,\"ticks\":\"\",\"zerolinecolor\":\"white\",\"gridwidth\":2}},\"shapedefaults\":{\"line\":{\"color\":\"#2a3f5f\"}},\"annotationdefaults\":{\"arrowcolor\":\"#2a3f5f\",\"arrowhead\":0,\"arrowwidth\":1},\"geo\":{\"bgcolor\":\"white\",\"landcolor\":\"#E5ECF6\",\"subunitcolor\":\"white\",\"showland\":true,\"showlakes\":true,\"lakecolor\":\"white\"},\"title\":{\"x\":0.05},\"mapbox\":{\"style\":\"light\"}}},\"xaxis\":{\"anchor\":\"y\",\"domain\":[0.0,1.0],\"title\":{\"text\":\"Breite\"},\"range\":[1,18]},\"yaxis\":{\"anchor\":\"x\",\"domain\":[0.0,1.0],\"title\":{\"text\":\"L\\u00e4nge\"},\"range\":[4,25]},\"legend\":{\"title\":{\"text\":\"Insekt\"},\"tracegroupgap\":0},\"margin\":{\"t\":60},\"height\":600,\"width\":800,\"shapes\":[{\"line\":{\"color\":\"Red\",\"width\":1},\"type\":\"line\",\"x0\":1,\"x1\":18,\"xref\":\"x\",\"y0\":12,\"y1\":12,\"yref\":\"y\"}],\"annotations\":[{\"showarrow\":true,\"text\":\"Schwellenwert der L\\u00e4nge=12\",\"x\":10,\"xshift\":20,\"y\":12},{\"showarrow\":false,\"text\":\"Fehler: 19\",\"x\":10,\"y\":12,\"yshift\":50}]},                        {\"responsive\": true}                    ).then(function(){\n",
       "                            \n",
       "var gd = document.getElementById('21cd4fd5-97f5-4d79-adfe-9e0eca16635f');\n",
       "var x = new MutationObserver(function (mutations, observer) {{\n",
       "        var display = window.getComputedStyle(gd).display;\n",
       "        if (!display || display === 'none') {{\n",
       "            console.log([gd, 'removed!']);\n",
       "            Plotly.purge(gd);\n",
       "            observer.disconnect();\n",
       "        }}\n",
       "}});\n",
       "\n",
       "// Listen for the removal of the full notebook cells\n",
       "var notebookContainer = gd.closest('#notebook-container');\n",
       "if (notebookContainer) {{\n",
       "    x.observe(notebookContainer, {childList: true});\n",
       "}}\n",
       "\n",
       "// Listen for the clearing of the current output cell\n",
       "var outputEl = gd.closest('.output');\n",
       "if (outputEl) {{\n",
       "    x.observe(outputEl, {childList: true});\n",
       "}}\n",
       "\n",
       "                        })                };                });            </script>        </div>"
      ]
     },
     "metadata": {},
     "output_type": "display_data"
    }
   ],
   "source": [
    "schwellenwert = 12\n",
    "\n",
    "def fehlersumme_l(threshold):\n",
    "    tree = ct.DecisionTree(target=target, data=df_kaefer)\n",
    "    tree.manual_split(attribute=\"Länge\", threshold=threshold, node_nr=1)\n",
    "    return tree.calculate_errors(data=df_kaefer)\n",
    "\n",
    "\n",
    "fig = px.scatter(\n",
    "    df_kaefer,\n",
    "    x=data_x,\n",
    "    y=data_y,\n",
    "    color=target,\n",
    "    color_discrete_map=color_map,\n",
    "    width=breite,\n",
    "    height=hoehe,\n",
    "    range_x=bereich_x,\n",
    "    range_y=bereich_y,\n",
    ")\n",
    "\n",
    "fig.update_traces(marker=dict(size=10, line=dict(width=1, color=\"black\")))\n",
    "\n",
    "fig.update_layout(\n",
    "    shapes=[\n",
    "        dict(\n",
    "            type=\"line\",\n",
    "            yref=\"y1\",\n",
    "            y0=schwellenwert,\n",
    "            y1=schwellenwert,\n",
    "            xref=\"x1\",\n",
    "            x0=bereich_x[0],\n",
    "            x1=bereich_x[1],\n",
    "            line=dict(color=\"Red\", width=1),\n",
    "        )\n",
    "    ]\n",
    ")\n",
    "\n",
    "fig.add_annotation(\n",
    "    x=10,\n",
    "    y=schwellenwert,\n",
    "    text=\"Schwellenwert der Länge=\" + str(schwellenwert),\n",
    "    showarrow=True,\n",
    "    xshift=20,\n",
    ")\n",
    "\n",
    "fig.add_annotation(\n",
    "    x=10,\n",
    "    y=schwellenwert,\n",
    "    text=\"Fehler: \" + str(fehlersumme_l(schwellenwert)),\n",
    "    showarrow=False,\n",
    "    yshift=50,\n",
    ")\n",
    "\n",
    "\n",
    "fig.show()"
   ]
  },
  {
   "cell_type": "markdown",
   "metadata": {},
   "source": [
    "<div class=\"alert alert-block alert-success\">\n",
    "\n",
    "Die Anzahl der Fehler ist hier 19. \n",
    "    \n",
    "Schau dir den zugehörigen Entscheidungsbaum an und erläutere, wie der Wert 19 zustande kommt."
   ]
  },
  {
   "cell_type": "code",
   "execution_count": 10,
   "metadata": {
    "hide_input": false,
    "scrolled": false
   },
   "outputs": [
    {
     "data": {
      "image/svg+xml": [
       "<?xml version=\"1.0\" encoding=\"UTF-8\" standalone=\"no\"?>\n",
       "<!DOCTYPE svg PUBLIC \"-//W3C//DTD SVG 1.1//EN\"\n",
       " \"http://www.w3.org/Graphics/SVG/1.1/DTD/svg11.dtd\">\n",
       "<!-- Generated by graphviz version 2.50.0 (0)\n",
       " -->\n",
       "<!-- Pages: 1 -->\n",
       "<svg width=\"166pt\" height=\"209pt\"\n",
       " viewBox=\"0.00 0.00 166.00 209.00\" xmlns=\"http://www.w3.org/2000/svg\" xmlns:xlink=\"http://www.w3.org/1999/xlink\">\n",
       "<g id=\"graph0\" class=\"graph\" transform=\"scale(1 1) rotate(0) translate(4 205)\">\n",
       "<polygon fill=\"white\" stroke=\"transparent\" points=\"-4,4 -4,-205 162,-205 162,4 -4,4\"/>\n",
       "<polygon fill=\"lightblue\" stroke=\"transparent\" points=\"8,-153 8,-197 113,-197 113,-153 8,-153\"/>\n",
       "<polygon fill=\"none\" stroke=\"black\" points=\"11.5,-175 11.5,-194 110.5,-194 110.5,-175 11.5,-175\"/>\n",
       "<text text-anchor=\"start\" x=\"39.5\" y=\"-181.4\" font-family=\"Times,serif\" font-size=\"12.00\">Insekt? &#160;&#160;</text>\n",
       "<polygon fill=\"none\" stroke=\"black\" points=\"11.5,-156 11.5,-173 110.5,-173 110.5,-156 11.5,-156\"/>\n",
       "<text text-anchor=\"start\" x=\"14.5\" y=\"-162\" font-family=\"Times,serif\" font-size=\"10.00\" fill=\"dimgrey\">[&#39;Marienkäfer&#39;, &#39;Raupe&#39;]</text>\n",
       "<polygon fill=\"none\" stroke=\"black\" points=\"8,-153 8,-197 113,-197 113,-153 8,-153\"/>\n",
       "<!-- 1 -->\n",
       "<g id=\"node1\" class=\"node\">\n",
       "<title>1</title>\n",
       "<polygon fill=\"none\" stroke=\"black\" points=\"57.5,-103.5 57.5,-148.5 116.5,-148.5 116.5,-103.5 57.5,-103.5\"/>\n",
       "<text text-anchor=\"start\" x=\"66\" y=\"-136\" font-family=\"Times,serif\" font-size=\"10.00\" fill=\"dimgrey\">[100, 100]</text>\n",
       "<text text-anchor=\"start\" x=\"67.5\" y=\"-121.8\" font-family=\"Times,serif\" font-size=\"14.00\">Länge?</text>\n",
       "<text text-anchor=\"start\" x=\"90\" y=\"-110\" font-family=\"Times,serif\" font-size=\"10.00\" fill=\"dimgrey\">Nr.1</text>\n",
       "</g>\n",
       "<!-- 2 -->\n",
       "<g id=\"node2\" class=\"node\">\n",
       "<title>2</title>\n",
       "<polygon fill=\"yellow\" stroke=\"yellow\" points=\"0,-0.5 0,-51.5 86,-51.5 86,-0.5 0,-0.5\"/>\n",
       "<text text-anchor=\"start\" x=\"27\" y=\"-38\" font-family=\"Times,serif\" font-size=\"10.00\" fill=\"dimgrey\">[91, 10]</text>\n",
       "<text text-anchor=\"start\" x=\"9\" y=\"-21.8\" font-family=\"Times,serif\" font-size=\"14.00\">Marienkäfer</text>\n",
       "<text text-anchor=\"start\" x=\"58\" y=\"-8\" font-family=\"Times,serif\" font-size=\"10.00\" fill=\"dimgrey\">Nr.2</text>\n",
       "</g>\n",
       "<!-- 1&#45;&gt;2 -->\n",
       "<g id=\"edge1\" class=\"edge\">\n",
       "<title>1&#45;&gt;2</title>\n",
       "<path fill=\"none\" stroke=\"black\" d=\"M77.23,-103.25C71.68,-90.88 64.6,-75.11 58.32,-61.13\"/>\n",
       "<polygon fill=\"black\" stroke=\"black\" points=\"61.42,-59.49 54.13,-51.8 55.04,-62.35 61.42,-59.49\"/>\n",
       "<g id=\"a_edge1&#45;label\"><a xlink:title=\"12\">\n",
       "<text text-anchor=\"middle\" x=\"80\" y=\"-73.8\" font-family=\"Times,serif\" font-size=\"14.00\">≤12</text>\n",
       "</a>\n",
       "</g>\n",
       "</g>\n",
       "<!-- 3 -->\n",
       "<g id=\"node3\" class=\"node\">\n",
       "<title>3</title>\n",
       "<polygon fill=\"yellow\" stroke=\"yellow\" points=\"104,-0.5 104,-51.5 158,-51.5 158,-0.5 104,-0.5\"/>\n",
       "<text text-anchor=\"start\" x=\"118\" y=\"-38\" font-family=\"Times,serif\" font-size=\"10.00\" fill=\"dimgrey\">[9, 90]</text>\n",
       "<text text-anchor=\"start\" x=\"114\" y=\"-21.8\" font-family=\"Times,serif\" font-size=\"14.00\">Raupe</text>\n",
       "<text text-anchor=\"start\" x=\"130\" y=\"-8\" font-family=\"Times,serif\" font-size=\"10.00\" fill=\"dimgrey\">Nr.3</text>\n",
       "</g>\n",
       "<!-- 1&#45;&gt;3 -->\n",
       "<g id=\"edge2\" class=\"edge\">\n",
       "<title>1&#45;&gt;3</title>\n",
       "<path fill=\"none\" stroke=\"black\" d=\"M96.77,-103.25C102.32,-90.88 109.4,-75.11 115.68,-61.13\"/>\n",
       "<polygon fill=\"black\" stroke=\"black\" points=\"118.96,-62.35 119.87,-51.8 112.58,-59.49 118.96,-62.35\"/>\n",
       "<g id=\"a_edge2&#45;label\"><a xlink:title=\"12\">\n",
       "<text text-anchor=\"middle\" x=\"122\" y=\"-73.8\" font-family=\"Times,serif\" font-size=\"14.00\">&gt;12</text>\n",
       "</a>\n",
       "</g>\n",
       "</g>\n",
       "</g>\n",
       "</svg>\n"
      ],
      "text/plain": [
       "<graphviz.graphs.Digraph at 0x142b4beb0>"
      ]
     },
     "execution_count": 10,
     "metadata": {},
     "output_type": "execute_result"
    }
   ],
   "source": [
    "tree = ct.DecisionTree(target=target, data=df_kaefer)\n",
    "tree.manual_split(attribute=\"Länge\", threshold=12, node_nr=1)\n",
    "tree.print_tree()"
   ]
  },
  {
   "cell_type": "markdown",
   "metadata": {},
   "source": [
    "<div class=\"alert alert-block alert-success\">\n",
    "\n",
    "Eine solche Darstellung nennen wir **Entschidungsbaum** (engl.: **Decision Tree**). \n",
    "    \n",
    "In dem blau-unterlegten Rechteck (das gehört eigentlich nicht zu dem Baum) findet man Angaben, die für das Verständnis der Darstellung wichtig sind."
   ]
  },
  {
   "cell_type": "markdown",
   "metadata": {},
   "source": [
    "<div class=\"alert alert-block alert-warning\">\n",
    "\n",
    "#### *Aufgabe:*\n",
    "\n",
    "Beschreibe, welche Informationen hier erkennbar sind."
   ]
  },
  {
   "cell_type": "markdown",
   "metadata": {},
   "source": [
    "<div class=\"alert alert-block alert-info\">\n",
    "    \n",
    "Schreibe jetzt hier Deine Beobachtung hin.\n",
    "    \n",
    "- In dem blauen Rechteck:\n",
    "    - ???\n",
    "- In dem weissen Rechteck Nr. 1:\n",
    "   - ??? \n",
    "- In dem linken gelben Rechteck Nr. 2:\n",
    "   - ??? \n",
    "- In dem rechten gelben Rechteck Nr. 3:\n",
    "    - ???\n",
    "</div>"
   ]
  },
  {
   "cell_type": "markdown",
   "metadata": {},
   "source": [
    "<div class=\"alert alert-block alert-success\">\n",
    "\n",
    "- Die rechteckigen Kästen (weiss bzw gelb unterlegt) sind sog. **Knoten** des Baumes. Diese Knoten enthalten wichtige Informationen.\n",
    "    - Es gibt in dem dargestellten Entscheidungsbaum drei Knoten; zur Unterscheidung haben sie Nummern 1, 2 und 3.\n",
    "    - Der oberste (in der Graphik weiß dargestellte) Knoten heißt **Wurzelknoten**.\n",
    "    - Die beiden gelb-unterlegten Knoten nennt man **Blätter**.\n"
   ]
  },
  {
   "cell_type": "markdown",
   "metadata": {},
   "source": [
    "<div class=\"alert alert-block alert-success\">\n",
    "\n",
    "Du kannst dir hier für verschiedene Schwellenwerte den jeweiligen Entscheidungsbaum ansehen:"
   ]
  },
  {
   "cell_type": "code",
   "execution_count": null,
   "metadata": {},
   "outputs": [],
   "source": [
    "start = (min_y + max_y) // 2\n",
    "\n",
    "slider_l = widgets.BoundedFloatText(\n",
    "    value=start,\n",
    "    min=int(min_y+1),\n",
    "    max=int(max_y-1),\n",
    "    step=1,\n",
    "    description=\"\",\n",
    "    layout=widgets.Layout(width=\"30%\"),\n",
    ")\n",
    "\n",
    "def makeTree_l(schwellenwert):\n",
    "    tree = ct.DecisionTree(target=target, data=df_kaefer)\n",
    "    tree.manual_split(attribute=\"Länge\", threshold=schwellenwert, node_nr=1)\n",
    "    return tree\n",
    "\n",
    "def on_value_change_l(event):\n",
    "\n",
    "    with output_l:\n",
    "        output_l.clear_output()\n",
    "        sw_l = event[\"new\"]\n",
    "        tree = makeTree_l(sw_l)\n",
    "        display (tree.print_tree())\n",
    "\n",
    "\n",
    "slider_l.observe(on_value_change_l, names=\"value\")\n",
    "\n",
    "output_l = widgets.Output ();\n",
    "display(\n",
    "    widgets.HBox([widgets.Label(\"Schwellenwert für die Länge\"), slider_l, output_l])\n",
    ")\n",
    "sw_l = start\n",
    "tree = makeTree_l(sw_l)\n",
    "with output_l:\n",
    "    display (tree.print_tree())"
   ]
  },
  {
   "cell_type": "markdown",
   "metadata": {},
   "source": [
    "<div class=\"alert alert-block alert-warning\">\n",
    "\n",
    "#### *Aufgabe:* \n",
    "    \n",
    "Bestätige anhand dieser dynamischen Graphik, dass der Schwellenwert für die Länge zwischen 50 und 55 liegen sollte, damit die Anzahl der Fehler minimal wird."
   ]
  },
  {
   "cell_type": "markdown",
   "metadata": {
    "solution2": "hidden",
    "solution2_first": true
   },
   "source": [
    "<div class=\"alert alert-block alert-warning\">\n",
    "\n",
    "#### *Aufgabe:* \n",
    "    \n",
    "Finde anhand dieser dynamischen Graphik heraus, wie viele Fehlklassifikationen für den Schwellenwert \n",
    "\n",
    "1. `Länge = 30`\n",
    "2. `Länge = 70`\n",
    "    \n",
    "    \n",
    "entstehen."
   ]
  },
  {
   "cell_type": "markdown",
   "metadata": {
    "solution2": "hidden"
   },
   "source": [
    "1. Für einen Schwellenwert von 30 werden 9 Insekten (1 Marienkäfer, 8 Raupen) falsch klassifiziert. \n",
    "2. Für einen Schwellenwert von 70 werden 6 Insekten (alles Marienkäfer) falsch als Raupe klassifiziert. "
   ]
  },
  {
   "cell_type": "markdown",
   "metadata": {},
   "source": [
    "<div class=\"alert alert-block alert-success\">\n",
    "\n",
    "Statt der Länge können wir jetzt - wie in dem vorigen Notebook - auch die Breite als Kriterium nutzen:"
   ]
  },
  {
   "cell_type": "code",
   "execution_count": null,
   "metadata": {},
   "outputs": [],
   "source": [
    "start = (min_x + max_x) // 2\n",
    "\n",
    "slider_r = widgets.BoundedFloatText(\n",
    "    value=start,\n",
    "    min=int(min_x+1),\n",
    "    max=int(max_x-1),\n",
    "    step=1,\n",
    "    description=\"\",\n",
    "    layout=widgets.Layout(width=\"30%\"),\n",
    ")\n",
    "\n",
    "def makeTree_r(schwellenwert):\n",
    "    tree = ct.DecisionTree(target=target, data=df_kaefer)\n",
    "    tree.manual_split(attribute=\"Breite\", threshold=schwellenwert, node_nr=1)\n",
    "    return tree\n",
    "\n",
    "def on_value_change_r(event):\n",
    "\n",
    "    with output_r:\n",
    "        output_r.clear_output()\n",
    "        sw_r = event[\"new\"]\n",
    "        tree = makeTree_r(sw_r)\n",
    "        display (tree.print_tree())\n",
    "\n",
    "\n",
    "slider_r.observe(on_value_change_r, names=\"value\")\n",
    "\n",
    "output_r = widgets.Output()\n",
    "\n",
    "display(\n",
    "    widgets.HBox([widgets.Label(\"Schwellenwert für die Breite\"), slider_r, output_r])\n",
    ")\n",
    "sw_r = start\n",
    "tree = makeTree_r(sw_r)\n",
    "with output_r:\n",
    "    display (tree.print_tree())"
   ]
  },
  {
   "cell_type": "markdown",
   "metadata": {
    "solution2": "hidden",
    "solution2_first": true
   },
   "source": [
    "<div class=\"alert alert-block alert-warning\">\n",
    "\n",
    "#### *Aufgabe:* \n",
    "    \n",
    "Finde anhand dieser dynamischen Graphik heraus, wie viele Fehlklassifikationen für den Schwellenwert \n",
    "\n",
    "1. `Breite = 30`\n",
    "2. `Breite = 40`\n",
    "    \n",
    "    \n",
    "entstehen."
   ]
  },
  {
   "cell_type": "markdown",
   "metadata": {
    "solution2": "hidden"
   },
   "source": [
    "1. Für einen Schwellenwert von 30 werden 3 Insekten falsch klassifiziert, eine Raupe sowie 2 Marienkäfer.\n",
    "2. Für einen Schwellenwert von 40 werden 2 Marienkäfer falsch als Raupe klassifiziert. "
   ]
  },
  {
   "cell_type": "markdown",
   "metadata": {},
   "source": [
    "<div class=\"alert alert-block alert-warning\">\n",
    "\n",
    "#### *Aufgabe:* \n",
    "    \n",
    "Bestätige anhand dieser dynamischen Graphik, dass der optimale Schwellenwert für die Breite tatsächlich 27, 28 bzw. 29 ist. "
   ]
  },
  {
   "cell_type": "markdown",
   "metadata": {},
   "source": [
    "<div class=\"alert alert-block alert-success\">\n",
    "\n",
    "Hier kannst du dir nochmal verschiedene Entscheidungsbäume ansehen. Du kannst\n",
    "    \n",
    "- wählen, ob du die Länge oder die Breite der Insekten als Prädiktorvariable nutzen möchtest\n",
    "- den Schwellenwert einstellen."
   ]
  },
  {
   "cell_type": "code",
   "execution_count": null,
   "metadata": {},
   "outputs": [],
   "source": [
    "def show_tree(attribute, schwellenwert):\n",
    "\n",
    "    tree = ct.DecisionTree(target=target, data=df_kaefer)\n",
    "    tree.manual_split(attribute=attribute, threshold=schwellenwert, node_nr=1)\n",
    "    tree.print_tree()\n",
    "    display(tree.tree_graph)\n",
    "\n",
    "    return tree\n",
    "\n",
    "\n",
    "tree_widget = widgets.interactive(\n",
    "    show_tree,\n",
    "    {\"manual\": True, \"manual_name\": \"Erstelle Tree\"},\n",
    "    attribute = [\"Länge\",\"Breite\"],\n",
    "    schwellenwert = (0, 25, 1)\n",
    ")\n",
    "tree_widget"
   ]
  },
  {
   "cell_type": "markdown",
   "metadata": {},
   "source": [
    "## Weitere manuelle Datensplits"
   ]
  },
  {
   "cell_type": "markdown",
   "metadata": {},
   "source": [
    "<div class=\"alert alert-block alert-success\">\n",
    "\n",
    "### Fazit bisher:\n",
    "    \n",
    "Wenn wir nur eine der beiden Variablen für einen Datensplit benutzen, ist die Wahl der Breite mit einem Schwellenwert von z.B. 28 offenbar optimal, obwohl dann immer noch ein Fehler entsteht!\n",
    "    \n",
    "Also definieren wir ab hier:"
   ]
  },
  {
   "cell_type": "code",
   "execution_count": null,
   "metadata": {},
   "outputs": [],
   "source": [
    "# Das ist der optimale Schwellenwert, wenn wir als Prädiktorvariable die Breite der Insekten wählen:\n",
    "besterSchwellenwert = 28 "
   ]
  },
  {
   "cell_type": "markdown",
   "metadata": {},
   "source": [
    "<div class=\"alert alert-block alert-success\">\n",
    "\n",
    "### Streudiagramm mit bestem Schwellenwert:\n",
    "    \n",
    "Wenn wir nur eine der beiden Variablen für einen Datensplit benutzen, ist die Wahl der Länge mit einem Schwellenwert von 0.51 offenbar optimal, obwohl dann immer noch 14 Fehler entstehen!\n",
    "    \n",
    "Hier nochmals das zugehörige Streudiagramm mit der horizontalen Trennlinie:"
   ]
  },
  {
   "cell_type": "code",
   "execution_count": null,
   "metadata": {},
   "outputs": [],
   "source": [
    "schwellenwert = besterSchwellenwert\n",
    "\n",
    "def fehlersumme_r(threshold):\n",
    "    tree = ct.DecisionTree(target=target, data=df_kaefer)\n",
    "    tree.manual_split(attribute=\"Breite\", threshold=threshold, node_nr=1)\n",
    "    return tree.calculate_errors(data=df_kaefer)\n",
    "\n",
    "\n",
    "def makeFigure_r(schwellenwert):\n",
    "    fig = px.scatter(\n",
    "        df_kaefer,\n",
    "        x=data_x,\n",
    "        y=data_y,\n",
    "        color=target,\n",
    "        color_discrete_map=color_map,\n",
    "        width=breite,\n",
    "        height=hoehe,\n",
    "        range_x=bereich_x,\n",
    "        range_y=bereich_y,\n",
    "    )\n",
    "\n",
    "    fig.update_traces(marker=dict(size=10, line=dict(width=1, color=\"black\")))\n",
    "\n",
    "    fig.update_layout(\n",
    "        shapes=[\n",
    "            dict(\n",
    "                type=\"line\",\n",
    "                yref=\"y1\",\n",
    "                x0=schwellenwert,\n",
    "                x1=schwellenwert,\n",
    "                xref=\"x1\",\n",
    "                y0=bereich_y[0],\n",
    "                y1=bereich_y[1],\n",
    "                line=dict(color=\"Red\", width=1),\n",
    "            ),\n",
    "            dict(\n",
    "                type=\"rect\",\n",
    "                yref=\"y1\",\n",
    "                x0=schwellenwert,\n",
    "                x1=bereich_x[1],\n",
    "                xref=\"x1\",\n",
    "                y0=bereich_y[0],\n",
    "                y1=bereich_y[1],\n",
    "                fillcolor=color_map[\"Marienkäfer\"],\n",
    "                opacity=0.3,\n",
    "                layer=\"below\",\n",
    "                line_width=0,\n",
    "            ),\n",
    "            dict(\n",
    "                type=\"rect\",\n",
    "                yref=\"y1\",\n",
    "                x0=bereich_x[0],\n",
    "                x1=schwellenwert,\n",
    "                xref=\"x1\",\n",
    "                y0=bereich_y[0],\n",
    "                y1=bereich_y[1],\n",
    "                fillcolor=color_map[\"Raupe\"],\n",
    "                opacity=0.3,\n",
    "                layer=\"below\",\n",
    "                line_width=0,\n",
    "            ),\n",
    "        ]\n",
    "    )\n",
    "\n",
    "    fig.add_annotation(\n",
    "        y=80,\n",
    "        x=schwellenwert,\n",
    "        text=\"Schwellenwert der Breite=\" + str(int(schwellenwert)),\n",
    "        showarrow=False,\n",
    "        # xshift=20,\n",
    "    )\n",
    "\n",
    "    fig.add_annotation(\n",
    "        y=75,\n",
    "        x=schwellenwert,\n",
    "        text=\"Fehler: \" + str(fehlersumme_r(schwellenwert)),\n",
    "        showarrow=False,\n",
    "        #yshift=-20,\n",
    "    )\n",
    "    return fig\n",
    "\n",
    "\n",
    "makeFigure_r (besterSchwellenwert).show()"
   ]
  },
  {
   "cell_type": "markdown",
   "metadata": {},
   "source": [
    "<div class=\"alert alert-block alert-success\">\n",
    "\n",
    "Rechts der waagerechten Linie finden wir falsch eine klassifizierte Mrkierung:\n",
    "\n",
    "- Eine Raupe wird in dem Diagramm als Käfer bezeichnet."
   ]
  },
  {
   "cell_type": "markdown",
   "metadata": {},
   "source": [
    "<div class=\"alert alert-block alert-success\">\n",
    "\n",
    "Das wurde auch in dem Entscheidungsbaum verdeutlicht:"
   ]
  },
  {
   "cell_type": "code",
   "execution_count": null,
   "metadata": {},
   "outputs": [],
   "source": [
    "tree = ct.DecisionTree(target=target, data=df_kaefer)\n",
    "tree.manual_split(attribute=\"Breite\", threshold=7, node_nr=1)\n",
    "tree.print_tree()"
   ]
  },
  {
   "cell_type": "markdown",
   "metadata": {},
   "source": [
    "<div class=\"alert alert-block alert-success\">\n",
    "    \n",
    "Wir haben jetzt die Insekten ausschließlich anhand der Breite klassifiziert, haben dabei die Länge der Insekten nicht weiter beachtet.\n",
    "   \n",
    "Die Idee ist jetzt, den Knoten mit der Nummer 3 weiter aufzuteilen:\n",
    "    \n",
    "Also:\n",
    "\n",
    "- Für die Insekten, die breiter sind als 28, suchen wir nach einem Schwellenwert für die Länge, um Raupen von Marienkäfern zu unterscheiden. Dieser Schwellenwert soll also nur für die Insekten im Knoten Nr. 3 zuständig sein.\n",
    "    \n",
    "Dabei fällt uns auf, dass alle Marienkäfer in dem rechten Bereich (siehe Streudiagramm oben) eine Länge unterhalb von z.B. 58 haben. Das führt zu der folgenden Erweiterung des Entscheidungsbaumes:"
   ]
  },
  {
   "cell_type": "code",
   "execution_count": null,
   "metadata": {},
   "outputs": [],
   "source": [
    "vertikal = 7\n",
    "horizontal = 17\n",
    "\n",
    "tree = ct.DecisionTree(target=\"Insekt\", data=df_kaefer)\n",
    "\n",
    "# threshold bedeutet Schwellenwert\n",
    "tree.manual_split(attribute = 'Breite', threshold = vertikal, node_nr = 1) \n",
    "tree.manual_split(attribute = 'Länge', threshold = horizontal, node_nr = 3) \n",
    "\n",
    "\n",
    "#Entscheidungsbaum ausgeben\n",
    "tree.print_tree()"
   ]
  },
  {
   "cell_type": "markdown",
   "metadata": {
    "solution2": "hidden"
   },
   "source": [
    "<div class=\"alert alert-block alert-success\">\n",
    "\n",
    "Geeignete Schwellenwerte sind z.B.\n",
    "\n",
    "- `SchwellenwertKnoten2 = 0.3`\n",
    "- `SchwellenwertKnoten3 = 0.5`\n"
   ]
  },
  {
   "cell_type": "markdown",
   "metadata": {},
   "source": [
    "<div class=\"alert alert-block alert-success\">\n",
    "\n",
    "Das folgende Bild verdeutlicht diese Lösung auch in einem Streudiagramm:"
   ]
  },
  {
   "cell_type": "code",
   "execution_count": null,
   "metadata": {
    "scrolled": false
   },
   "outputs": [],
   "source": [
    "import plotly.express as px\n",
    "\n",
    "vertikal = 28\n",
    "horizontal = 58\n",
    "\n",
    "tree = ct.DecisionTree(target=\"Insekt\", data=df_kaefer)\n",
    "\n",
    "#fehlersumme = calc_errors(hor, tree, \"Länge\")\n",
    "#fehlersumme = tree.calculate_errors(data = df_kaefer) \n",
    "\n",
    "color_map = {'Marienkäfer': 'orange', 'Raupe': 'lightblue'}\n",
    "\n",
    "fig = px.scatter(\n",
    "    df_kaefer,\n",
    "    x=\"Breite\",\n",
    "    y=\"Länge\",\n",
    "    color=\"Insekt\",\n",
    "    color_discrete_map=color_map,\n",
    "    width=800,\n",
    "    height=600,\n",
    "    range_x=bereich_x,\n",
    "    range_y=bereich_y,\n",
    "    #size = 0.01\n",
    ")\n",
    "\n",
    "fig.update_traces(marker=dict(  #size=5, \n",
    "    line=dict(width=1, color='black')))\n",
    "\n",
    "\n",
    "fig.update_layout(shapes=[\n",
    "    dict(\n",
    "        type=\"line\",\n",
    "        yref=\"y1\",\n",
    "        x0=vertikal,\n",
    "        x1=vertikal,\n",
    "        xref=\"x1\",\n",
    "        y0=bereich_y[0],\n",
    "        y1=bereich_y[1],\n",
    "        line=dict(color=\"Red\", width=1),\n",
    "    ),\n",
    "    dict(\n",
    "        type=\"line\",\n",
    "        yref=\"y1\",\n",
    "        x0=vertikal,\n",
    "        x1=bereich_x[1],\n",
    "        xref=\"x1\",\n",
    "        y0=horizontal,\n",
    "        y1=horizontal,\n",
    "        line=dict(color=\"Red\", width=1),\n",
    "    ),\n",
    "    dict(\n",
    "        type=\"rect\",\n",
    "        yref=\"y1\",\n",
    "        x0=bereich_x[0],\n",
    "        x1=vertikal,\n",
    "        xref=\"x1\",\n",
    "        y0=bereich_y[0],\n",
    "        y1=bereich_y[1],\n",
    "        fillcolor=color_map[\"Raupe\"],\n",
    "        opacity=0.3,\n",
    "        layer=\"below\",\n",
    "        line_width=0,\n",
    "    ),\n",
    "    dict(\n",
    "        type=\"rect\",\n",
    "        yref=\"y1\",\n",
    "        x0=vertikal,\n",
    "        x1=bereich_x[1],\n",
    "        xref=\"x1\",\n",
    "        y0=bereich_y[0],\n",
    "        y1=horizontal,\n",
    "        fillcolor=color_map[\"Marienkäfer\"],\n",
    "        opacity=0.3,\n",
    "        layer=\"below\",\n",
    "        line_width=0,\n",
    "    ),\n",
    "    dict(\n",
    "        type=\"rect\",\n",
    "        yref=\"y1\",\n",
    "        x0=vertikal,\n",
    "        x1=bereich_x[1],\n",
    "        xref=\"x1\",\n",
    "        y0=horizontal,\n",
    "        y1=bereich_y[1],\n",
    "        fillcolor=color_map[\"Raupe\"],\n",
    "        opacity=0.3,\n",
    "        layer=\"below\",\n",
    "        line_width=0,\n",
    "    ),\n",
    "])\n",
    "fig.add_annotation(\n",
    "    y=85,\n",
    "    x=vertikal,\n",
    "    text=\"Schwellenwert der Breite in Knoten Nr. 1 = \" + str(int(vertikal)),\n",
    "    showarrow=True,\n",
    "    #xshift=150,\n",
    "    )\n",
    "fig.add_annotation(\n",
    "    y=horizontal,\n",
    "    x=50,\n",
    "    text=\"Schwellenwert der Länge in Knoten Nr. 3 = \" + str(int(horizontal)),\n",
    "    showarrow=True,\n",
    "    #yshift=10,\n",
    "    )\n",
    "\n",
    "\n",
    "fig.show()"
   ]
  },
  {
   "cell_type": "markdown",
   "metadata": {},
   "source": [
    "## Testdaten"
   ]
  },
  {
   "cell_type": "markdown",
   "metadata": {},
   "source": [
    "<div class=\"alert alert-block alert-success\">\n",
    "  \n",
    "Wir haben es jetzt erreicht, dass **alle** Trainingsdaten korrekt klassifiziert werden.\n",
    "\n",
    "- Das ist in der Praxis sehr selten! Der Grund ist eigentlich sehr einfach:\n",
    "\n",
    "Wir haben nur 20 Trainingsdaten benutzt, so dass wir bei geeigneten Schwellenwerten wenig Probleme hatten. In der Praxis benutzt man **viel** mehr Trainingsdaten, viele Tausend oder noch mehr. Dann wird man sehr häufig erleben, dass nicht alle Trainingsdaten korrekt klassifiziert werden. Man gibt sich jedoch in der Regel mit einer Fehlerrate von z.B. 2% zufrieden.\n",
    "    \n",
    "Wir belassen es jetzt einmal bei unserem trainierten Entscheidungsbaum, sollten dennoch einen weiteren Test starten."
   ]
  },
  {
   "cell_type": "markdown",
   "metadata": {},
   "source": [
    "<div class=\"alert alert-block alert-success\">\n",
    "  \n",
    "Um die Qualität des Entscheidungsbaumes zu testen, haben wir jetzt die folgende Idee:\n",
    "- Wir haben weitere Datensätze von bekannten Insekten, also von Insekten, von denen wir wissen, ob es sich um Raupen oder Marienkäfer handelt. Diese Datensätze lassen wir durch den Entscheidungsbaum klaasifizieren, und prüfen dann, ob der tatsächliche Insektentyp mit der Vorhersage des Entscheidungsbaumes übereinstimmt.\n",
    "    \n",
    "Hier nochmal der Entscheidungsbaum:"
   ]
  },
  {
   "cell_type": "code",
   "execution_count": null,
   "metadata": {},
   "outputs": [],
   "source": [
    "tree = ct.DecisionTree(target = 'Insekt', data = df_kaefer)\n",
    "vertikal = 7\n",
    "horizontal = 17\n",
    "\n",
    "tree = ct.DecisionTree(target=\"Insekt\", data=df_kaefer)\n",
    "\n",
    "# threshold bedeutet Schwellenwert\n",
    "tree.manual_split(attribute = 'Breite', threshold = vertikal, node_nr = 1) \n",
    "tree.manual_split(attribute = 'Länge', threshold = horizontal, node_nr = 3) \n",
    "tree.print_tree()"
   ]
  },
  {
   "cell_type": "markdown",
   "metadata": {},
   "source": [
    "<div class=\"alert alert-block alert-success\">\n",
    "  \n",
    "Zum Testen haben wir jetzt (ebenfalls ungewöhnlich nur) 10 Datensätze vorbereitet:"
   ]
  },
  {
   "cell_type": "code",
   "execution_count": null,
   "metadata": {},
   "outputs": [],
   "source": [
    "df_testdaten = pd.read_csv(\"Daten/Kaefer_10-test_int_mm.csv\", sep=\";\")\n",
    "df_testdaten"
   ]
  },
  {
   "cell_type": "markdown",
   "metadata": {},
   "source": [
    "<div class=\"alert alert-block alert-success\">\n",
    "  \n",
    "Und jetzt sind wir gespannt auf den Qualitätstest:"
   ]
  },
  {
   "cell_type": "code",
   "execution_count": null,
   "metadata": {},
   "outputs": [],
   "source": [
    "lst1 = []\n",
    "lst2 = []\n",
    "lst3 = []\n",
    "lstBreite = []\n",
    "lstLaenge = []\n",
    "\n",
    "fehlerzahl = 0\n",
    "\n",
    "for ind in df_testdaten.index:\n",
    "    eintrag={df_testdaten.columns[0]:df_testdaten.values[ind][0], \n",
    "             df_testdaten.columns[1]:df_testdaten.values[ind][1]}\n",
    "    breite = df_testdaten.values[ind][0]\n",
    "    laenge = df_testdaten.values[ind][1]\n",
    "    ist = tree.query (eintrag)   # sagt der DecTree\n",
    "    sol = df_testdaten.values[ind][2] # das Label\n",
    "    \n",
    "    if ist == sol:\n",
    "        errEntry = \"korrekt erkannt\"\n",
    "    else:\n",
    "         errEntry = \"fehlerhaft klassifiziert\"\n",
    "         fehlerzahl += 1\n",
    "            \n",
    "    lstBreite += [breite]\n",
    "    lstLaenge += [laenge]\n",
    "    lst1 += [ist]\n",
    "    lst2 += [sol]\n",
    "    lst3 += [errEntry]\n",
    "    ind = ind + 1\n",
    "\n",
    "df = pd.DataFrame ({df_testdaten.columns[0]: lstBreite, \n",
    "                    df_testdaten.columns[1]: lstLaenge, \n",
    "                    \"tatsächlich\": lst2, \n",
    "                    \"Entscheidungsbaum sagt\": lst1, \n",
    "                    \"Kommentar\": lst3})\n",
    "\n",
    "print (\"Es gib\", fehlerzahl, \"fehlerhafte Klassifikationen\")\n",
    "df"
   ]
  },
  {
   "cell_type": "markdown",
   "metadata": {},
   "source": [
    "<div class=\"alert alert-block alert-success\">\n",
    "  \n",
    "Tatsächlich gibt es zwei Insekten, die falsch klassifiziert wurden.\n",
    "\n",
    "Das Streudiagramm zeigt uns jetzt alle 30 Insekten."
   ]
  },
  {
   "cell_type": "code",
   "execution_count": null,
   "metadata": {},
   "outputs": [],
   "source": [
    "data = [df_kaefer, df_testdaten]\n",
    "df_all_data = pd.concat(data,ignore_index=True)"
   ]
  },
  {
   "cell_type": "code",
   "execution_count": null,
   "metadata": {},
   "outputs": [],
   "source": [
    "import plotly.express as px\n",
    "\n",
    "vertikal = 28\n",
    "horizontal = 58\n",
    "\n",
    "tree = ct.DecisionTree(target=\"Insekt\", data=df_all_data)\n",
    "\n",
    "#fehlersumme = calc_errors(hor, tree, \"Länge\")\n",
    "#fehlersumme = tree.calculate_errors(data = df_kaefer) \n",
    "\n",
    "color_map = {'Marienkäfer': 'orange', 'Raupe': 'lightblue'}\n",
    "\n",
    "fig = px.scatter(\n",
    "    df_all_data,\n",
    "#    df_testdaten,\n",
    "    x=\"Breite\",\n",
    "    y=\"Länge\",\n",
    "    color=\"Insekt\",\n",
    "    color_discrete_map=color_map,\n",
    "    width=800,\n",
    "    height=600,\n",
    "    range_x=bereich_x,\n",
    "    range_y=bereich_y,\n",
    "    #size = 0.01\n",
    ")\n",
    "\n",
    "fig.update_traces(marker=dict(  #size=5, \n",
    "    line=dict(width=1, color='black')))\n",
    "\n",
    "\n",
    "fig.update_layout(shapes=[\n",
    "    dict(\n",
    "        type=\"line\",\n",
    "        yref=\"y1\",\n",
    "        x0=vertikal,\n",
    "        x1=vertikal,\n",
    "        xref=\"x1\",\n",
    "        y0=bereich_y[0],\n",
    "        y1=bereich_y[1],\n",
    "        line=dict(color=\"Red\", width=1),\n",
    "    ),\n",
    "    dict(\n",
    "        type=\"line\",\n",
    "        yref=\"y1\",\n",
    "        x0=vertikal,\n",
    "        x1=bereich_x[1],\n",
    "        xref=\"x1\",\n",
    "        y0=horizontal,\n",
    "        y1=horizontal,\n",
    "        line=dict(color=\"Red\", width=1),\n",
    "    ),\n",
    "    dict(\n",
    "        type=\"rect\",\n",
    "        yref=\"y1\",\n",
    "        x0=bereich_x[0],\n",
    "        x1=vertikal,\n",
    "        xref=\"x1\",\n",
    "        y0=bereich_y[0],\n",
    "        y1=bereich_y[1],\n",
    "        fillcolor=color_map[\"Raupe\"],\n",
    "        opacity=0.3,\n",
    "        layer=\"below\",\n",
    "        line_width=0,\n",
    "    ),\n",
    "    dict(\n",
    "        type=\"rect\",\n",
    "        yref=\"y1\",\n",
    "        x0=vertikal,\n",
    "        x1=bereich_x[1],\n",
    "        xref=\"x1\",\n",
    "        y0=bereich_y[0],\n",
    "        y1=horizontal,\n",
    "        fillcolor=color_map[\"Marienkäfer\"],\n",
    "        opacity=0.3,\n",
    "        layer=\"below\",\n",
    "        line_width=0,\n",
    "    ),\n",
    "    dict(\n",
    "        type=\"rect\",\n",
    "        yref=\"y1\",\n",
    "        x0=vertikal,\n",
    "        x1=bereich_x[1],\n",
    "        xref=\"x1\",\n",
    "        y0=horizontal,\n",
    "        y1=bereich_y[1],\n",
    "        fillcolor=color_map[\"Raupe\"],\n",
    "        opacity=0.3,\n",
    "        layer=\"below\",\n",
    "        line_width=0,\n",
    "    ),\n",
    "])\n",
    "fig.add_annotation(\n",
    "    y=85,\n",
    "    x=vertikal,\n",
    "    text=\"Schwellenwert der Breite in Knoten Nr. 1 = \" + str(int(vertikal)),\n",
    "    showarrow=True,\n",
    "    #xshift=150,\n",
    "    )\n",
    "fig.add_annotation(\n",
    "    y=horizontal,\n",
    "    x=50,\n",
    "    text=\"Schwellenwert der Länge in Knoten Nr. 3 = \" + str(int(horizontal)),\n",
    "    showarrow=True,\n",
    "    #yshift=10,\n",
    "    )\n",
    "\n",
    "fig.show()"
   ]
  },
  {
   "cell_type": "markdown",
   "metadata": {},
   "source": [
    "## Alle Daten benutzen?"
   ]
  },
  {
   "cell_type": "code",
   "execution_count": null,
   "metadata": {},
   "outputs": [],
   "source": [
    "tree_all = ct.DecisionTree(target = 'Insekt', data = df_all_data)\n",
    "\n",
    "#Entscheidungsbaum erstellen \n",
    "tree_all.grow_tree(df_all_data, 'Insekt')\n",
    "\n",
    "#Entscheidungsbaum ausgeben\n",
    "tree_all.print_tree()"
   ]
  },
  {
   "cell_type": "markdown",
   "metadata": {},
   "source": [
    "<div class=\"alert alert-block alert-success\">\n",
    "  \n",
    "Der optimale Entscheidungsbaum für all diese Daten (Trainingsdaten und Testdaten) ist dann ein wenig anders.\n",
    "Doch wir sollten beachten:\n",
    "- Wir haben jetzt keine weiteren Testdaten mehr, um die Qualität des neuen Entscheidungsbaums zu prüfen,\n",
    "    so dass wir uns bei neuen unbekannten Insekten völlig auf die Güte der Vorhersage verlassen müssen."
   ]
  },
  {
   "cell_type": "markdown",
   "metadata": {},
   "source": [
    "<div class=\"alert alert-block alert-success\">\n",
    "\n",
    "Das zugehörige Streudiagramm:"
   ]
  },
  {
   "cell_type": "code",
   "execution_count": null,
   "metadata": {},
   "outputs": [],
   "source": [
    "import plotly.express as px\n",
    "\n",
    "vertikal = 7\n",
    "horizontal = 17\n",
    "\n",
    "tree = ct.DecisionTree(target=\"Insekt\", data=df_all_data)\n",
    "\n",
    "#fehlersumme = calc_errors(hor, tree, \"Länge\")\n",
    "#fehlersumme = tree.calculate_errors(data = df_kaefer) \n",
    "\n",
    "color_map = {'Marienkäfer': 'orange', 'Raupe': 'lightblue'}\n",
    "\n",
    "fig = px.scatter(\n",
    "    df_all_data,\n",
    "#    df_testdaten,\n",
    "    x=\"Breite\",\n",
    "    y=\"Länge\",\n",
    "    color=\"Insekt\",\n",
    "    color_discrete_map=color_map,\n",
    "    width=800,\n",
    "    height=600,\n",
    "    range_x=bereich_x,\n",
    "    range_y=bereich_y,\n",
    "    #size = 0.01\n",
    ")\n",
    "\n",
    "fig.update_traces(marker=dict(  #size=5, \n",
    "    line=dict(width=1, color='black')))\n",
    "\n",
    "\n",
    "fig.update_layout(shapes=[\n",
    "    dict(\n",
    "        type=\"line\",\n",
    "        yref=\"y1\",\n",
    "        x0=vertikal,\n",
    "        x1=vertikal,\n",
    "        xref=\"x1\",\n",
    "        y0=bereich_y[0],\n",
    "        y1=horizontal,\n",
    "        line=dict(color=\"Red\", width=1),\n",
    "    ),\n",
    "    dict(\n",
    "        type=\"line\",\n",
    "        yref=\"y1\",\n",
    "        x0=bereich_x[0],\n",
    "        x1=bereich_x[1],\n",
    "        xref=\"x1\",\n",
    "        y0=horizontal,\n",
    "        y1=horizontal,\n",
    "        line=dict(color=\"Red\", width=1),\n",
    "    ),\n",
    "    dict(\n",
    "        type=\"rect\",\n",
    "        yref=\"y1\",\n",
    "        x0=bereich_x[0],\n",
    "        x1=vertikal,\n",
    "        xref=\"x1\",\n",
    "        y0=bereich_y[0],\n",
    "        y1=bereich_y[1],\n",
    "        fillcolor=color_map[\"Raupe\"],\n",
    "        opacity=0.3,\n",
    "        layer=\"below\",\n",
    "        line_width=0,\n",
    "    ),\n",
    "    dict(\n",
    "        type=\"rect\",\n",
    "        yref=\"y1\",\n",
    "        x0=vertikal,\n",
    "        x1=bereich_x[1],\n",
    "        xref=\"x1\",\n",
    "        y0=bereich_y[0],\n",
    "        y1=horizontal,\n",
    "        fillcolor=color_map[\"Marienkäfer\"],\n",
    "        opacity=0.3,\n",
    "        layer=\"below\",\n",
    "        line_width=0,\n",
    "    ),\n",
    "    dict(\n",
    "        type=\"rect\",\n",
    "        yref=\"y1\",\n",
    "        x0=vertikal,\n",
    "        x1=bereich_x[1],\n",
    "        xref=\"x1\",\n",
    "        y0=horizontal,\n",
    "        y1=bereich_y[1],\n",
    "        fillcolor=color_map[\"Raupe\"],\n",
    "        opacity=0.3,\n",
    "        layer=\"below\",\n",
    "        line_width=0,\n",
    "    ),\n",
    "])\n",
    "\n",
    "fig.show()"
   ]
  },
  {
   "cell_type": "code",
   "execution_count": null,
   "metadata": {},
   "outputs": [],
   "source": []
  }
 ],
 "metadata": {
  "celltoolbar": "Raw Cell Format",
  "hide_input": false,
  "kernelspec": {
   "display_name": "Python 3 (ipykernel)",
   "language": "python",
   "name": "python3"
  },
  "language_info": {
   "codemirror_mode": {
    "name": "ipython",
    "version": 3
   },
   "file_extension": ".py",
   "mimetype": "text/x-python",
   "name": "python",
   "nbconvert_exporter": "python",
   "pygments_lexer": "ipython3",
   "version": "3.10.13"
  },
  "latex_envs": {
   "LaTeX_envs_menu_present": true,
   "autoclose": false,
   "autocomplete": true,
   "bibliofile": "biblio.bib",
   "cite_by": "apalike",
   "current_citInitial": 1,
   "eqLabelWithNumbers": true,
   "eqNumInitial": 1,
   "hotkeys": {
    "equation": "Ctrl-E",
    "itemize": "Ctrl-I"
   },
   "labels_anchors": false,
   "latex_user_defs": false,
   "report_style_numbering": false,
   "user_envs_cfg": true
  },
  "toc": {
   "base_numbering": 1,
   "nav_menu": {},
   "number_sections": true,
   "sideBar": true,
   "skip_h1_title": true,
   "title_cell": "Table of Contents",
   "title_sidebar": "Contents",
   "toc_cell": false,
   "toc_position": {
    "height": "calc(100% - 180px)",
    "left": "10px",
    "top": "150px",
    "width": "165px"
   },
   "toc_section_display": true,
   "toc_window_display": true
  },
  "varInspector": {
   "cols": {
    "lenName": 16,
    "lenType": 16,
    "lenVar": 40
   },
   "kernels_config": {
    "python": {
     "delete_cmd_postfix": "",
     "delete_cmd_prefix": "del ",
     "library": "var_list.py",
     "varRefreshCmd": "print(var_dic_list())"
    },
    "r": {
     "delete_cmd_postfix": ") ",
     "delete_cmd_prefix": "rm(",
     "library": "var_list.r",
     "varRefreshCmd": "cat(var_dic_list()) "
    }
   },
   "types_to_exclude": [
    "module",
    "function",
    "builtin_function_or_method",
    "instance",
    "_Feature"
   ],
   "window_display": false
  }
 },
 "nbformat": 4,
 "nbformat_minor": 2
}
