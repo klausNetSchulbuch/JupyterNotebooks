{
 "cells": [
  {
   "cell_type": "markdown",
   "metadata": {
    "slideshow": {
     "slide_type": "slide"
    }
   },
   "source": [
    "# Wie können Marienkäfer von Raupen unterschieden werden?\n",
    "\n",
    "**Die Daten: Grundlage für das Lernen**"
   ]
  },
  {
   "cell_type": "markdown",
   "metadata": {
    "slideshow": {
     "slide_type": "slide"
    }
   },
   "source": [
    "Wir haben zwei **Klassen** von Insekten: \n",
    "- <CODE>Marienkäfer</CODE>\n",
    "- <CODE>Raupe</CODE>"
   ]
  },
  {
   "cell_type": "markdown",
   "metadata": {
    "slideshow": {
     "slide_type": "fragment"
    }
   },
   "source": [
    "<td> \n",
    "    <img src=\"Bilder\\marienkaefer.jpg\" alt=\"Drawing\" style=\"width: 300px; float: left;\"  hspace=40 /> \n",
    "    <img src=\"Bilder\\raupe.jpg\" alt=\"Drawing\" style=\"width: 300px; float: left;\" hspace=40/>\n",
    "</td>\n"
   ]
  },
  {
   "cell_type": "markdown",
   "metadata": {
    "slideshow": {
     "slide_type": "slide"
    }
   },
   "source": [
    "Wir als Menschen können natürlich sehr einfach Marienkäfer von Raupen unterscheiden, da wir mit unseren Augen viele Details auf den ersten Blick erkennen können, und die Bilder, die unsere Augen erfassen, im Gehirn als Ganzes verarbeiten.\n",
    "\n",
    "Der Computer benötigt zu Unterscheidung jedoch genau festgelegte **Merkmale**."
   ]
  },
  {
   "cell_type": "markdown",
   "metadata": {
    "slideshow": {
     "slide_type": "slide"
    }
   },
   "source": [
    "Die Merkmale, die man zur Erkennung heranziehen könnte sind vielfältig. Man könnte z. B. \n",
    "- Farben \n",
    "- Größe\n",
    "- Fortbewegungsgeschwindigkeit\n",
    "- Gewicht\n",
    "\n",
    "und vieles mehr anschauen. \n",
    "\n",
    "Da wir aber ein möglichst einfaches Beispiel betrachten wollen, schauen wir uns nur folgende Eigenschaften der Insekten an:\n",
    "- \"Breite\"\n",
    "- \"Länge\""
   ]
  },
  {
   "cell_type": "markdown",
   "metadata": {
    "slideshow": {
     "slide_type": "slide"
    }
   },
   "source": [
    "## Welche **Breiten** und **Längen** sind typisch für Marienkäfer und Raupen?\n",
    "\n",
    "Beispielhaft können wir uns einmal die Maße eines Marienkäfers anschauen: "
   ]
  },
  {
   "cell_type": "markdown",
   "metadata": {
    "slideshow": {
     "slide_type": "fragment"
    }
   },
   "source": [
    "\n",
    "<img src=\"Bilder/kaefer_messen_mm.png\" alt=\"Käfer messen\" style=\"width: 300px; float: center;\" hspace=40/>"
   ]
  },
  {
   "cell_type": "markdown",
   "metadata": {
    "slideshow": {
     "slide_type": "slide"
    }
   },
   "source": [
    "<div class=\"alert alert-block alert-success\">\n",
    "\n",
    "Uns liegt ein Datensatz für 20 Marienkäfer und Raupen vor. Diese Daten benutzen wir, um das System zu **trainieren**, damit es später unbekannte Insekten als Käfer bzw. Raupe erkennen kann."
   ]
  },
  {
   "cell_type": "markdown",
   "metadata": {
    "slideshow": {
     "slide_type": "slide"
    }
   },
   "source": [
    "<div class=\"alert alert-block alert-warning\">\n",
    "    \n",
    "### *Aufgabe:*\n",
    "    \n",
    "Öffne die Datei [Kaefer_20_int_mm.csv](Daten/Kaefer_20_int_mm.csv) - sie liegt in dem Unterordner `Daten` -  mit einem Texteditor. Analysiere und beschreibe den Aufbau der Datei."
   ]
  },
  {
   "cell_type": "markdown",
   "metadata": {
    "slideshow": {
     "slide_type": "skip"
    }
   },
   "source": [
    "<div class=\"alert alert-block alert-info\">\n",
    "    \n",
    "**In Feldern, die diese Hintergrundfarbe haben, kannst du Lösungstexte zu den Aufgaben, Beobachtungen sowie deine eigenen Kommentare  eingeben:**\n",
    "\n",
    "*Klicke dazu doppelt auf diese Zelle, um sie zu öffnen, und schreibe deinen Text.*\n",
    "\n",
    "\n",
    "*Beende Deine Eingabe, indem du diese Zelle wie hier unterhalb beschrieben ausführst.*\n",
    "</div>"
   ]
  },
  {
   "cell_type": "markdown",
   "metadata": {
    "slideshow": {
     "slide_type": "slide"
    }
   },
   "source": [
    "<div class=\"alert alert-block alert-success\">\n",
    "    \n",
    "#### Tipps zum Umgang mit diesem Jupyter-Notebook\n",
    "Jede Zelle mit \"Code\" muss ausgeführt werden. Auch Zellen mit beschreibenden Texten können bearbeitet und anschließend ausgeführt (neu dargestellt) werden.\n",
    "    \n",
    "Dies kann man auf zwei Arten machen:\n",
    "- Klick auf den oberen **\"Run\"-Button**\n",
    "\n",
    "oder\n",
    "- Drücke gleichzeitig die Tasten **\"Strg\"** + **\"Enter\"**"
   ]
  },
  {
   "cell_type": "markdown",
   "metadata": {
    "slideshow": {
     "slide_type": "skip"
    }
   },
   "source": [
    "<div class=\"alert alert-block alert-info\">    \n",
    "\n",
    "Schreibe jetzt hier einen beliebigen Text hinein.\n",
    "    \n",
    "</div>"
   ]
  },
  {
   "cell_type": "markdown",
   "metadata": {
    "slideshow": {
     "slide_type": "slide"
    }
   },
   "source": [
    "## Das System bekommt die Daten"
   ]
  },
  {
   "cell_type": "markdown",
   "metadata": {
    "slideshow": {
     "slide_type": "slide"
    }
   },
   "source": [
    "<div class=\"alert alert-block alert-success\">\n",
    "\n",
    "Die Daten aus der csv-Datei müssen in dieses System eingelesen werden, damit sie von Python-Befehlen bearbeitet werden können.\n",
    "    \n",
    "Man benötigt dazu Hilfsmittel. Das sind sog. **Funktionen**, die in einer **Bibliothek** enthalten sind. Diese Bibliothek muss man zuvor laden"
   ]
  },
  {
   "cell_type": "markdown",
   "metadata": {
    "slideshow": {
     "slide_type": "slide"
    }
   },
   "source": [
    "### Jetzt werden die Daten eingelesen."
   ]
  },
  {
   "cell_type": "markdown",
   "metadata": {
    "slideshow": {
     "slide_type": "skip"
    }
   },
   "source": [
    "<div class=\"alert alert-block alert-info\">    \n",
    "   \n",
    "    \n",
    "**Führe dazu die folgende Zelle aus!**\n",
    "    \n",
    "Die Bibliothek mit dem Namen `pandas`wird dann geladen und kann anschließend unter dem Namen `pd`benutzt werden."
   ]
  },
  {
   "cell_type": "markdown",
   "metadata": {
    "slideshow": {
     "slide_type": "slide"
    }
   },
   "source": [
    "<div class=\"alert alert-block alert-success\">\n",
    "    \n",
    "**Hintergrundwissen:**\n",
    "`pandas` ist eine Programmbibliothek für die Programmiersprache Python, die Hilfsmittel für die Verwaltung von Daten und deren Analyse anbietet. Insbesondere enthält sie Datenstrukturen und Operatoren für den Zugriff auf numerische Tabellen und Zeitreihen. \n",
    "    \n",
    "**Und jetzt bitte die folgende Zelle ausführen!**"
   ]
  },
  {
   "cell_type": "code",
   "execution_count": null,
   "metadata": {
    "slideshow": {
     "slide_type": "slide"
    }
   },
   "outputs": [],
   "source": [
    "# Bibliothek pandas importieren\n",
    "import pandas as pd\n",
    "\n",
    "# Textausgabe\n",
    "print(\"Gut gemacht!\")"
   ]
  },
  {
   "cell_type": "markdown",
   "metadata": {
    "slideshow": {
     "slide_type": "slide"
    }
   },
   "source": [
    "<div class=\"alert alert-block alert-success\">\n",
    "    \n",
    "Jetzt endlich können die Daten aus der Datei `Kaefer_20_int_mm.csv` eingelesen werden.\n",
    "    \n",
    "- In der Datei `Kaefer_20_int_mm.csv` sind die Datensätze zeilenweise aufgeführt.\n",
    "- Die Einträge in den Spalten sind jeweils durch ein Semikolon (\";\") getrennt.\n",
    "    \n",
    "**Und jetzt bitte die folgende Zelle ausführen!** \n",
    "- Die Daten werden dann eingelesen und (zur Sicherheit) ausgegeben."
   ]
  },
  {
   "cell_type": "code",
   "execution_count": null,
   "metadata": {
    "slideshow": {
     "slide_type": "slide"
    }
   },
   "outputs": [],
   "source": [
    "df_kaefer = pd.read_csv(\"Daten/Kaefer_20_int_mm.csv\", sep=\";\")\n",
    "\n",
    "display(df_kaefer)"
   ]
  },
  {
   "cell_type": "markdown",
   "metadata": {
    "slideshow": {
     "slide_type": "slide"
    }
   },
   "source": [
    "<div class=\"alert alert-block alert-success\">\n",
    "\n",
    "*Kann man anhand der Länge bzw. Breite der Insekten vielleicht Raupen von Marienkäfern unterscheiden?*\n",
    "\n",
    "Dazu können wir die Daten versuchsweise in einer anderen Reihenfolge ausgeben, z.B. sortiert nach der Art `Länge`:"
   ]
  },
  {
   "cell_type": "markdown",
   "metadata": {
    "slideshow": {
     "slide_type": "slide"
    }
   },
   "source": [
    "#### Wie kann ich den Datensatz sortieren?"
   ]
  },
  {
   "cell_type": "code",
   "execution_count": null,
   "metadata": {
    "scrolled": true,
    "slideshow": {
     "slide_type": "slide"
    }
   },
   "outputs": [],
   "source": [
    "# sortiere die Datensätze nach einer Spalte (aufsteigend) und zeige dann alle an\n",
    "sortInsekt = df_kaefer.sort_values(by=\"Breite\")\n",
    "display(sortInsekt)"
   ]
  },
  {
   "cell_type": "markdown",
   "metadata": {
    "slideshow": {
     "slide_type": "slide"
    }
   },
   "source": [
    "<div class=\"alert alert-block alert-warning\">\n",
    "    \n",
    "##### *Aufgabe:*\n",
    "    \n",
    "Was beobachtest Du?"
   ]
  },
  {
   "cell_type": "markdown",
   "metadata": {
    "slideshow": {
     "slide_type": "skip"
    }
   },
   "source": [
    "<div class=\"alert alert-block alert-info\">\n",
    "    \n",
    "Schreibe jetzt hier Deine Beobachtung hin.\n",
    "    \n",
    "</div>"
   ]
  },
  {
   "cell_type": "markdown",
   "metadata": {
    "slideshow": {
     "slide_type": "slide"
    }
   },
   "source": [
    "<div class=\"alert alert-block alert-warning\">\n",
    "    \n",
    "##### *Aufgabe:*\n",
    "    \n",
    "Sortiere die Datensätze nach der **Breite** und lasse Dir alle Datensätze ausgeben."
   ]
  },
  {
   "cell_type": "code",
   "execution_count": null,
   "metadata": {
    "slideshow": {
     "slide_type": "slide"
    }
   },
   "outputs": [],
   "source": [
    "sortBreite = df_kaefer.sort_values(by=\"Breite\")\n",
    "display(sortBreite)"
   ]
  },
  {
   "cell_type": "markdown",
   "metadata": {
    "slideshow": {
     "slide_type": "skip"
    }
   },
   "source": [
    "<div class=\"alert alert-block alert-info\">\n",
    "    \n",
    "Schreibe jetzt hier Deine Beobachtung hin.\n",
    "    \n",
    "</div>"
   ]
  },
  {
   "cell_type": "markdown",
   "metadata": {
    "slideshow": {
     "slide_type": "slide"
    }
   },
   "source": [
    "<div class=\"alert alert-block alert-warning\">\n",
    "    \n",
    "##### *Aufgabe:*\n",
    "    \n",
    "Sortiere die Datensätze auch nach der Art des Insektes und lasse Dir alle Datensätze ausgeben. Beobachte dann."
   ]
  },
  {
   "cell_type": "code",
   "execution_count": null,
   "metadata": {
    "scrolled": true
   },
   "outputs": [],
   "source": [
    "sortInsekt = df_kaefer.sort_values(by=\"Insekt\")\n",
    "display(sortInsekt)"
   ]
  },
  {
   "cell_type": "markdown",
   "metadata": {
    "slideshow": {
     "slide_type": "slide"
    }
   },
   "source": [
    "<div class=\"alert alert-block alert-info\">\n",
    "    \n",
    "Schreibe jetzt hier Deine Beobachtung hin.\n",
    "    \n",
    "</div>"
   ]
  },
  {
   "cell_type": "code",
   "execution_count": null,
   "metadata": {},
   "outputs": [],
   "source": []
  }
 ],
 "metadata": {
  "celltoolbar": "Slideshow",
  "hide_input": false,
  "kernelspec": {
   "display_name": "Python 3 (ipykernel)",
   "language": "python",
   "name": "python3"
  },
  "language_info": {
   "codemirror_mode": {
    "name": "ipython",
    "version": 3
   },
   "file_extension": ".py",
   "mimetype": "text/x-python",
   "name": "python",
   "nbconvert_exporter": "python",
   "pygments_lexer": "ipython3",
   "version": "3.10.13"
  },
  "latex_envs": {
   "LaTeX_envs_menu_present": true,
   "autoclose": false,
   "autocomplete": true,
   "bibliofile": "biblio.bib",
   "cite_by": "apalike",
   "current_citInitial": 1,
   "eqLabelWithNumbers": true,
   "eqNumInitial": 1,
   "hotkeys": {
    "equation": "Ctrl-E",
    "itemize": "Ctrl-I"
   },
   "labels_anchors": false,
   "latex_user_defs": false,
   "report_style_numbering": false,
   "user_envs_cfg": true
  },
  "toc": {
   "base_numbering": 1,
   "nav_menu": {},
   "number_sections": true,
   "sideBar": true,
   "skip_h1_title": true,
   "title_cell": "Table of Contents",
   "title_sidebar": "Contents",
   "toc_cell": false,
   "toc_position": {
    "height": "calc(100% - 180px)",
    "left": "10px",
    "top": "150px",
    "width": "165px"
   },
   "toc_section_display": true,
   "toc_window_display": true
  },
  "varInspector": {
   "cols": {
    "lenName": 16,
    "lenType": 16,
    "lenVar": 40
   },
   "kernels_config": {
    "python": {
     "delete_cmd_postfix": "",
     "delete_cmd_prefix": "del ",
     "library": "var_list.py",
     "varRefreshCmd": "print(var_dic_list())"
    },
    "r": {
     "delete_cmd_postfix": ") ",
     "delete_cmd_prefix": "rm(",
     "library": "var_list.r",
     "varRefreshCmd": "cat(var_dic_list()) "
    }
   },
   "types_to_exclude": [
    "module",
    "function",
    "builtin_function_or_method",
    "instance",
    "_Feature"
   ],
   "window_display": false
  }
 },
 "nbformat": 4,
 "nbformat_minor": 2
}
