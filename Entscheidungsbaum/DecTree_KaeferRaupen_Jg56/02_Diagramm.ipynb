{
 "cells": [
  {
   "cell_type": "markdown",
   "metadata": {
    "slideshow": {
     "slide_type": "slide"
    }
   },
   "source": [
    "# Wie können Marienkäfer von Raupen unterschieden werden?\n",
    "**Graphische Darstellung der Daten**"
   ]
  },
  {
   "cell_type": "markdown",
   "metadata": {
    "slideshow": {
     "slide_type": "slide"
    }
   },
   "source": [
    "## Vorbereitung"
   ]
  },
  {
   "cell_type": "markdown",
   "metadata": {
    "slideshow": {
     "slide_type": "fragment"
    }
   },
   "source": [
    "<div class=\"alert alert-block alert-success\">\n",
    "\n",
    "Uns liegt also ein Datensatz für 20 Marienkäfer und Raupen vor. Diese Daten benutzen wir, um das System zu **trainieren**, damit es später unbekannte Insekten als Käfer bzw. Raupe erkennen kann."
   ]
  },
  {
   "cell_type": "markdown",
   "metadata": {
    "slideshow": {
     "slide_type": "fragment"
    }
   },
   "source": [
    "<div class=\"alert alert-block alert-info\">\n",
    "\n",
    "Zur Vorbereitung werden wieder einige notwendige Bibliotheken sowie die Daten eingelesen.\n",
    "    \n",
    "**Führe also die folgenden beiden Zellen aus:**"
   ]
  },
  {
   "cell_type": "code",
   "execution_count": null,
   "metadata": {
    "slideshow": {
     "slide_type": "slide"
    }
   },
   "outputs": [],
   "source": [
    "import pandas as pd"
   ]
  },
  {
   "cell_type": "code",
   "execution_count": null,
   "metadata": {
    "slideshow": {
     "slide_type": "slide"
    }
   },
   "outputs": [],
   "source": [
    "df_kaefer = pd.read_csv(\"Daten/Kaefer_20_int_mm.csv\", sep=\";\")\n",
    "display(df_kaefer)\n",
    "\n",
    "# Folgendes DF zur testausgabe\n",
    "df_leer = pd.DataFrame()\n",
    "df_leer['Breite'] = [] \n",
    "df_leer['Länge'] = [] \n",
    "df_leer['Insekt'] = [] "
   ]
  },
  {
   "cell_type": "code",
   "execution_count": null,
   "metadata": {},
   "outputs": [],
   "source": [
    "max_x = max(df_kaefer [\"Breite\"])\n",
    "min_x = min(df_kaefer [\"Breite\"])\n",
    "max_y = max(df_kaefer [\"Länge\"])\n",
    "min_y = min(df_kaefer [\"Länge\"])\n",
    "\n",
    "delta_x = (max_x - min_x)\n",
    "delta_y = (max_y - min_y)\n",
    "\n",
    "bereich_x = [int(min_x - delta_x*0.05), int(max_x + delta_x*0.05)]\n",
    "bereich_y = [int(min_y - delta_y*0.05), int(max_y + delta_y*0.05)]"
   ]
  },
  {
   "cell_type": "markdown",
   "metadata": {
    "slideshow": {
     "slide_type": "slide"
    }
   },
   "source": [
    "## Streudiagramm"
   ]
  },
  {
   "cell_type": "markdown",
   "metadata": {
    "slideshow": {
     "slide_type": "slide"
    }
   },
   "source": [
    "<div class=\"alert alert-block alert-success\">\n",
    "    \n",
    "Im Folgenden ist ein **Streudiagramm** dargestellt. Hier werden die Insekten als Punkte in einem **Koordinatensystem** eingetragen."
   ]
  },
  {
   "cell_type": "markdown",
   "metadata": {
    "slideshow": {
     "slide_type": "slide"
    }
   },
   "source": [
    "<img src=\"Bilder/Beispieldiagramm_Marienkaefer_Raupe_mm.png\" alt=\"Streudiagramm\" style=\"float: left;\">"
   ]
  },
  {
   "cell_type": "markdown",
   "metadata": {
    "slideshow": {
     "slide_type": "fragment"
    }
   },
   "source": [
    "In diesem Diagramm sind die Informationen für zwei Insekten dargestellt."
   ]
  },
  {
   "cell_type": "markdown",
   "metadata": {
    "slideshow": {
     "slide_type": "fragment"
    }
   },
   "source": [
    "<div class=\"alert alert-block alert-warning\">\n",
    "   \n",
    "#### *Aufgabe:*\n",
    "    \n",
    "Beschreibe, welche Informationen durch das Streudiagramm dargestellt werden.\n",
    "    "
   ]
  },
  {
   "cell_type": "markdown",
   "metadata": {
    "slideshow": {
     "slide_type": "skip"
    }
   },
   "source": [
    "<div class=\"alert alert-block alert-info\">\n",
    "    \n",
    "Hier bitte deine Beschreibung eingeben.\n",
    "    \n",
    "</div>"
   ]
  },
  {
   "cell_type": "markdown",
   "metadata": {
    "slideshow": {
     "slide_type": "slide"
    }
   },
   "source": [
    "<div class=\"alert alert-block alert-warning\">\n",
    "   \n",
    "#### *Aufgabe:* \n",
    "    \n",
    "Gib an, welche Maße (Länge / Breite) die im Streudiagramm dargestellten Insekten sind.\n",
    "    "
   ]
  },
  {
   "cell_type": "markdown",
   "metadata": {
    "slideshow": {
     "slide_type": "skip"
    }
   },
   "source": [
    "<div class=\"alert alert-block alert-info\">\n",
    "    \n",
    "Hier bitte deine Lösung eingeben.\n",
    "    \n",
    "</div>"
   ]
  },
  {
   "cell_type": "markdown",
   "metadata": {
    "slideshow": {
     "slide_type": "slide"
    }
   },
   "source": [
    "<div class=\"alert alert-block alert-warning\">\n",
    "   \n",
    "#### *Aufgabe:*\n",
    "\n",
    "Erstelle ein Streudiagramm auf Papier und trage die Daten von folgenden Marienkäfern und Raupen als Punkte dort ein.\n",
    "    \n",
    "Zeilennummer | Breite | Länge | Insekt\n",
    "-------------| ------ | ------| ------\n",
    "0            | 15     | 5     | Marienkäfer\n",
    "1            | 5      | 20    | Raupe\n",
    "2            | 9      | 10    | Marienkäfer\n",
    "3            | 16     | 13    | Marienkäfer\n",
    "4            | 12     | 24    | Raupe"
   ]
  },
  {
   "cell_type": "markdown",
   "metadata": {
    "slideshow": {
     "slide_type": "slide"
    }
   },
   "source": [
    "<div class=\"alert alert-block alert-warning\">\n",
    "   \n",
    "#### *Aufgabe:*\n",
    "    \n",
    "Trage die Daten der folgenden vier Insekten zusätzlich in Dein Streudiagramm ein.\n",
    "    \n",
    "- Bestimme - auf Grundlage ihrer Größe (Breite / Länge) die Insektenklasse (Käfer oder Raupe).\n",
    "- Begründe Deine Entscheidung.\n",
    "\n",
    "Zeilennummer | Breite | Länge | Insekt?\n",
    "-------------|--------|-------|------\n",
    "0            | 15     | 10    |\n",
    "1            | 5      | 20    |\n",
    "3            | 20     | 10    |\n",
    "4            | 12     | 15    |\n"
   ]
  },
  {
   "cell_type": "markdown",
   "metadata": {
    "slideshow": {
     "slide_type": "skip"
    }
   },
   "source": [
    "<div class=\"alert alert-block alert-info\">\n",
    "    \n",
    "Hier bitte deine Lösung eingeben.\n",
    "    \n",
    "</div>"
   ]
  },
  {
   "cell_type": "markdown",
   "metadata": {
    "slideshow": {
     "slide_type": "slide"
    }
   },
   "source": [
    "<div class=\"alert alert-block alert-warning\">\n",
    "   \n",
    "#### *Aufgabe:*\n",
    " \n",
    "Beurteile, wie zuverlässig Deine Vorhersage für die vier Insekten ist.\n",
    "    "
   ]
  },
  {
   "cell_type": "markdown",
   "metadata": {
    "slideshow": {
     "slide_type": "skip"
    }
   },
   "source": [
    "<div class=\"alert alert-block alert-info\">\n",
    "    \n",
    "Hier bitte deinen Kommentar eingeben.\n",
    "    \n",
    "</div>"
   ]
  },
  {
   "cell_type": "markdown",
   "metadata": {
    "slideshow": {
     "slide_type": "slide"
    }
   },
   "source": [
    "## Streudiagramm selber erzeugen"
   ]
  },
  {
   "cell_type": "markdown",
   "metadata": {
    "slideshow": {
     "slide_type": "slide"
    }
   },
   "source": [
    "<div class=\"alert alert-block alert-info\">\n",
    "\n",
    "**Bitte zunächst die folgende Code-Zelle ausführen.**\n",
    "    \n",
    "Hier werden einige Bibliotheken importiert, wichtige Einstellungen vorgenommen sowie notwendige Variablen definiert:"
   ]
  },
  {
   "cell_type": "code",
   "execution_count": null,
   "metadata": {
    "slideshow": {
     "slide_type": "subslide"
    }
   },
   "outputs": [],
   "source": [
    "import plotly.express as px\n",
    "\n",
    "color_map = {'Marienkäfer': 'orange', 'Raupe': 'lightblue'}\n",
    "\n",
    "data_x = \"Breite\"\n",
    "data_y = \"Länge\"\n",
    "target = \"Insekt\"\n",
    "breite=800 # des Canvas\n",
    "hoehe=600 # des Canvas\n",
    "#bereich_x=[-1, 70]\n",
    "#bereich_y=[-1, 100]"
   ]
  },
  {
   "cell_type": "markdown",
   "metadata": {
    "slideshow": {
     "slide_type": "slide"
    }
   },
   "source": [
    "<div class=\"alert alert-block alert-success\">\n",
    "Hier lernst du kennen, dass man Daten unter gewissen Bedingungen graphisch darstellen kann. \n",
    "    \n",
    "Dazu müssen alle Daten zwei Attribute besitzen (in unserem Beispiel `Länge` und `Breite`), deren Werte man auf zwei Achsen wiederfinden kann.\n",
    "  \n",
    "Eine solche Graphik nannt man **Streudiagramm**."
   ]
  },
  {
   "cell_type": "markdown",
   "metadata": {
    "slideshow": {
     "slide_type": "slide"
    }
   },
   "source": [
    "<div class=\"alert alert-block alert-success\">\n",
    "Im Folgenden wird das Streudiagramm mit den Daten der 200 Insekten (100 Marienkäfer und 100 Raupen) dargestellt.\n",
    "    \n",
    "- **Wenn du den Cursor auf einen Punkt in der Graphik bewegst, bekommst du Informationen angezeigt.**"
   ]
  },
  {
   "cell_type": "code",
   "execution_count": null,
   "metadata": {
    "slideshow": {
     "slide_type": "slide"
    }
   },
   "outputs": [],
   "source": [
    "fig = px.scatter(\n",
    "    df_kaefer,\n",
    "    #df_leer,  # zum Testen!\n",
    "    x=data_x,\n",
    "    y=data_y,\n",
    "    color=target,\n",
    "    color_discrete_map=color_map,\n",
    "    width=breite,\n",
    "    height=hoehe,\n",
    "    range_x=bereich_x,\n",
    "    range_y=bereich_y,\n",
    ")\n",
    "\n",
    "fig.update_traces(marker=dict(size=10, line=dict(width=1, color=\"black\")))\n",
    "\n",
    "fig.show()"
   ]
  },
  {
   "cell_type": "markdown",
   "metadata": {
    "slideshow": {
     "slide_type": "slide"
    }
   },
   "source": [
    "<div class=\"alert alert-block alert-warning\">\n",
    "\n",
    "### *Aufgabe: Beschreibe, welche Informationen Du erkennen kannst.*"
   ]
  },
  {
   "cell_type": "markdown",
   "metadata": {
    "slideshow": {
     "slide_type": "skip"
    }
   },
   "source": [
    "<div class=\"alert alert-block alert-info\">\n",
    "    \n",
    "Hier bitte deine Beschreibung eingeben.\n",
    "    \n",
    "</div>"
   ]
  }
 ],
 "metadata": {
  "hide_input": false,
  "kernelspec": {
   "display_name": "Python 3 (ipykernel)",
   "language": "python",
   "name": "python3"
  },
  "language_info": {
   "codemirror_mode": {
    "name": "ipython",
    "version": 3
   },
   "file_extension": ".py",
   "mimetype": "text/x-python",
   "name": "python",
   "nbconvert_exporter": "python",
   "pygments_lexer": "ipython3",
   "version": "3.10.13"
  },
  "latex_envs": {
   "LaTeX_envs_menu_present": true,
   "autoclose": false,
   "autocomplete": true,
   "bibliofile": "biblio.bib",
   "cite_by": "apalike",
   "current_citInitial": 1,
   "eqLabelWithNumbers": true,
   "eqNumInitial": 1,
   "hotkeys": {
    "equation": "Ctrl-E",
    "itemize": "Ctrl-I"
   },
   "labels_anchors": false,
   "latex_user_defs": false,
   "report_style_numbering": false,
   "user_envs_cfg": true
  },
  "toc": {
   "base_numbering": 1,
   "nav_menu": {},
   "number_sections": true,
   "sideBar": true,
   "skip_h1_title": true,
   "title_cell": "Table of Contents",
   "title_sidebar": "Contents",
   "toc_cell": false,
   "toc_position": {
    "height": "calc(100% - 180px)",
    "left": "10px",
    "top": "150px",
    "width": "185px"
   },
   "toc_section_display": true,
   "toc_window_display": true
  },
  "varInspector": {
   "cols": {
    "lenName": 16,
    "lenType": 16,
    "lenVar": 40
   },
   "kernels_config": {
    "python": {
     "delete_cmd_postfix": "",
     "delete_cmd_prefix": "del ",
     "library": "var_list.py",
     "varRefreshCmd": "print(var_dic_list())"
    },
    "r": {
     "delete_cmd_postfix": ") ",
     "delete_cmd_prefix": "rm(",
     "library": "var_list.r",
     "varRefreshCmd": "cat(var_dic_list()) "
    }
   },
   "types_to_exclude": [
    "module",
    "function",
    "builtin_function_or_method",
    "instance",
    "_Feature"
   ],
   "window_display": false
  }
 },
 "nbformat": 4,
 "nbformat_minor": 2
}
