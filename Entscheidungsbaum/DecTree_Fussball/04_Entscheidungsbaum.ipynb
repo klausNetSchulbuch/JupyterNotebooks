{
 "cells": [
  {
   "cell_type": "markdown",
   "metadata": {},
   "source": [
    "# Können wir wohl Fußball spielen?\n"
   ]
  },
  {
   "cell_type": "markdown",
   "metadata": {},
   "source": [
    "## Vorbereitung"
   ]
  },
  {
   "cell_type": "markdown",
   "metadata": {},
   "source": [
    "<div class=\"alert alert-block alert-success\">\n",
    "\n",
    "Uns liegt also ein Datensatz für die letzten 14 Wochen vor. Die jeweiligen Temperaturen und die werte für die Luftfeuchtigkeit sind in der Tabelle eingetragen. Daneben wurde jeweils vermerkt, ob ein Fußballspiel stattgefunden hat.\n",
    "\n",
    "Diese Daten benutzen wir, um das System zu trainieren, damit es später voraussagen kann, ob es zu einem Spiel kommt.\n",
    "    \n",
    "**Alle Fragen, die sich mit der Benutzung von Jupyter-Notebooks sowie dem Umgang mit Daten beschäftigen, werden in dem Kapitel über die Raupen/Marienkäfer behandelt. Schau dort bei Bedarf nochmal hinein.**\n"
   ]
  },
  {
   "cell_type": "markdown",
   "metadata": {},
   "source": [
    "<div class=\"alert alert-block alert-info\">\n",
    "\n",
    "Zur Vorbereitung werden wieder einige notwendige Bibliotheken sowie die Daten eingelesen.\n",
    "    \n",
    "**Führe also die folgenden beiden Zellen aus:**"
   ]
  },
  {
   "cell_type": "code",
   "execution_count": null,
   "metadata": {},
   "outputs": [],
   "source": [
    "import pandas as pd\n",
    "import plotly.express as px\n",
    "from PyTree import ClassificationTree as ct\n",
    "import ipywidgets as widgets\n",
    "\n",
    "\n",
    "\n",
    "color_map = {'Temperatur': 'orange', 'Luftfeuchtigkeit': 'lightblue'}\n",
    "\n",
    "data_x = \"Temperatur\"\n",
    "data_y = \"Luftfeuchtigkeit\"\n",
    "target = \"Spielen\"\n",
    "breite=800\n",
    "hoehe=600\n",
    "bereich_x=[20, 29]\n",
    "bereich_y=[60, 100]"
   ]
  },
  {
   "cell_type": "code",
   "execution_count": null,
   "metadata": {},
   "outputs": [],
   "source": [
    "df_fussball = pd.read_csv(\"Daten/spielen.csv\", sep=\";\")\n",
    "\n",
    "display(df_fussball)"
   ]
  },
  {
   "cell_type": "markdown",
   "metadata": {},
   "source": [
    "## Entscheidungsbaum"
   ]
  },
  {
   "cell_type": "markdown",
   "metadata": {},
   "source": [
    "<div class=\"alert alert-block alert-success\">\n",
    "\n",
    "Die Idee vom **Schwellenwert** kann man auch anders darstellen. \n",
    "    \n",
    "Betrachten wir nochmal das Streudiagramm mit dem Schwellenwert `Luftfeuchtigkeit 75':"
   ]
  },
  {
   "cell_type": "code",
   "execution_count": null,
   "metadata": {},
   "outputs": [],
   "source": [
    "schwellenwert = 83\n",
    "\n",
    "def fehlersumme_l(threshold):\n",
    "    tree = ct.DecisionTree(target=target, data=df_fussball)\n",
    "    tree.manual_split(attribute=\"Luftfeuchtigkeit\", threshold=threshold, node_nr=1)\n",
    "    return tree.calculate_errors(data=df_fussball)\n",
    "\n",
    "\n",
    "fig = px.scatter(\n",
    "    df_fussball,\n",
    "    x=data_x,\n",
    "    y=data_y,\n",
    "    color=target,\n",
    "    color_discrete_map=color_map,\n",
    "    width=breite,\n",
    "    height=hoehe,\n",
    "    range_x=bereich_x,\n",
    "    range_y=bereich_y,\n",
    ")\n",
    "\n",
    "fig.update_traces(marker=dict(size=10, line=dict(width=1, color=\"black\")))\n",
    "\n",
    "fig.update_layout(\n",
    "    shapes=[\n",
    "        dict(\n",
    "            type=\"line\",\n",
    "            yref=\"y1\",\n",
    "            y0=schwellenwert,\n",
    "            y1=schwellenwert,\n",
    "            xref=\"x1\",\n",
    "            x0=bereich_x[0],\n",
    "            x1=bereich_x[1],\n",
    "            line=dict(color=\"Red\", width=1),\n",
    "        )\n",
    "    ]\n",
    ")\n",
    "\n",
    "fig.add_annotation(\n",
    "    x=21,\n",
    "    y=schwellenwert,\n",
    "    text=\"Schwellenwert der Länge=\" + str(schwellenwert),\n",
    "    showarrow=True,\n",
    "    xshift=20,\n",
    ")\n",
    "\n",
    "fig.add_annotation(\n",
    "    x=21,\n",
    "    y=schwellenwert,\n",
    "    text=\"Fehler: \" + str(fehlersumme_l(schwellenwert)),\n",
    "    showarrow=False,\n",
    "    yshift=50,\n",
    ")\n",
    "\n",
    "\n",
    "fig.show()"
   ]
  },
  {
   "cell_type": "markdown",
   "metadata": {},
   "source": [
    "<div class=\"alert alert-block alert-warning\">\n",
    "\n",
    "#### *Aufgabe:*\n",
    "\n",
    "- Beschreibe, wie die Anzahl der Fehler zu begründen ist.\n",
    "- Ändere den Wert des Schwellenwertes ab und beobachte dabei jeweils die Anzahl der Fehler."
   ]
  },
  {
   "cell_type": "markdown",
   "metadata": {},
   "source": [
    "<div class=\"alert alert-block alert-success\">\n",
    "\n",
    "Das kann jetzt auch wie folgt dargestellt werden:"
   ]
  },
  {
   "cell_type": "code",
   "execution_count": null,
   "metadata": {
    "hide_input": false
   },
   "outputs": [],
   "source": [
    "tree = ct.DecisionTree(target=target, data=df_fussball)\n",
    "tree.manual_split(attribute=\"Luftfeuchtigkeit\", threshold=83, node_nr=1)\n",
    "tree.print_tree()"
   ]
  },
  {
   "cell_type": "markdown",
   "metadata": {},
   "source": [
    "<div class=\"alert alert-block alert-success\">\n",
    "\n",
    "Eine solche Darstellung nennen wir **Entschidungsbaum** (engl.: **Decision Tree**). \n",
    "    \n",
    "In dem blau-unterlegten Rechteck (das gehört eigentlich nicht zu dem Baum) findet man Angaben, die für das Verständnis der Darstellung wichtig sind."
   ]
  },
  {
   "cell_type": "markdown",
   "metadata": {},
   "source": [
    "<div class=\"alert alert-block alert-warning\">\n",
    "\n",
    "#### *Aufgabe:*\n",
    "\n",
    "Beschreibe, welche Informationen hier erkennbar sind."
   ]
  },
  {
   "cell_type": "markdown",
   "metadata": {},
   "source": [
    "<div class=\"alert alert-block alert-info\">\n",
    "    \n",
    "Schreibe jetzt hier Deine Beobachtung hin.\n",
    "    \n",
    "- In dem blauen Rechteck:\n",
    "    - ???\n",
    "- In dem weissen Rechteck Nr. 1:\n",
    "   - ??? \n",
    "- In dem linken gelben Rechteck Nr. 2:\n",
    "   - ??? \n",
    "- In dem rechten gelben Rechteck Nr. 3:\n",
    "    - ???\n",
    "</div>"
   ]
  },
  {
   "cell_type": "markdown",
   "metadata": {},
   "source": [
    "<div class=\"alert alert-block alert-success\">\n",
    "\n",
    "- Die drei rechteckigen Kästen sind sog. **Knoten**. Diese Knoten enthalten wichtige Informationen.\n",
    "    - Der oberste (in der Graphik weiß dargestellt) Knoten heißt **Wurzelknoten**.\n",
    "    - Es gibt in dem dargestellten Entscheidungsbaum drei Knoten; zur Unterscheidung haben sie Nummern 1, 2 und 3\n"
   ]
  },
  {
   "cell_type": "markdown",
   "metadata": {},
   "source": [
    "<div class=\"alert alert-block alert-success\">\n",
    "\n",
    "Du kannst dir hier für verschiedene Schwellenwerte den jeweiligen Entscheidungsbaum ansehen:"
   ]
  },
  {
   "cell_type": "code",
   "execution_count": null,
   "metadata": {},
   "outputs": [],
   "source": [
    "slider_l = widgets.FloatSlider(\n",
    "    value=83,\n",
    "    min=61,\n",
    "    max=99,\n",
    "    step=0.5,\n",
    "    description=\"\",\n",
    "    layout=widgets.Layout(width=\"30%\"),\n",
    ")\n",
    "\n",
    "def makeTree_l(schwellenwert):\n",
    "    tree = ct.DecisionTree(target=target, data=df_fussball)\n",
    "    tree.manual_split(attribute=\"Luftfeuchtigkeit\", threshold=schwellenwert, node_nr=1)\n",
    "    return tree\n",
    "\n",
    "def on_value_change_l(event):\n",
    "\n",
    "    with output_l:\n",
    "        output_l.clear_output()\n",
    "        sw_l = event[\"new\"]\n",
    "        tree = makeTree_l(sw_l)\n",
    "        display (tree.print_tree())\n",
    "\n",
    "\n",
    "slider_l.observe(on_value_change_l, names=\"value\")\n",
    "\n",
    "output_l = widgets.Output ();\n",
    "display(\n",
    "    widgets.HBox([widgets.Label(\"Schwellenwert für die Luftfeuchtigkeit\"), slider_l, output_l])\n",
    ")\n",
    "sw_l = 83\n",
    "tree = makeTree_l(sw_l)\n",
    "with output_l:\n",
    "    display (tree.print_tree())"
   ]
  },
  {
   "cell_type": "markdown",
   "metadata": {},
   "source": [
    "<div class=\"alert alert-block alert-warning\">\n",
    "\n",
    "#### *Aufgabe:* \n",
    "    \n",
    "Bestätige anhand dieser dynamischen Graphik, dass der Schwellenwert für die Luftfeuchtigkeit tatsächlich 81 oder 82 ist, wenn die Anzahl der Fehler minimal sein soll."
   ]
  },
  {
   "cell_type": "markdown",
   "metadata": {
    "solution2": "shown",
    "solution2_first": true
   },
   "source": [
    "<div class=\"alert alert-block alert-warning\">\n",
    "\n",
    "#### *Aufgabe:* \n",
    "    \n",
    "Finde anhand dieser dynamischen Graphik heraus, wie viele Fehlklassifikationen für den Schwellenwert \n",
    "\n",
    "1. `Luftfeuchtigkeit = 70`\n",
    "2. `Luftfeuchtigkeit = 90`\n",
    "    \n",
    "    \n",
    "entstehen."
   ]
  },
  {
   "cell_type": "markdown",
   "metadata": {
    "solution2": "shown"
   },
   "source": [
    "1. Für einen Schwellenwert von 70 gibt es 4 Fehler.\n",
    "2. Für einen Schwellenwert von 90 werden alle(!) Werte als `ja` klassifiziert; dabei werden 5 Fehler gemacht."
   ]
  },
  {
   "cell_type": "markdown",
   "metadata": {},
   "source": [
    "<div class=\"alert alert-block alert-success\">\n",
    "\n",
    "Statt der Luftfeuchtigkeit können wir jetzt - wie in dem vorigen Notebook - auch die Temparatur als Kriterium nutzen:"
   ]
  },
  {
   "cell_type": "code",
   "execution_count": null,
   "metadata": {},
   "outputs": [],
   "source": [
    "slider_r = widgets.FloatSlider(\n",
    "    value=25,\n",
    "    min=21,\n",
    "    max=29,\n",
    "    step=0.5,\n",
    "    description=\"\",\n",
    "    layout=widgets.Layout(width=\"30%\"),\n",
    ")\n",
    "\n",
    "def makeTree_r(schwellenwert):\n",
    "    tree = ct.DecisionTree(target=target, data=df_fussball)\n",
    "    tree.manual_split(attribute=\"Temperatur\", threshold=schwellenwert, node_nr=1)\n",
    "    return tree\n",
    "\n",
    "def on_value_change_r(event):\n",
    "\n",
    "    with output_r:\n",
    "        output_r.clear_output()\n",
    "        sw_r = event[\"new\"]\n",
    "        tree = makeTree_r(sw_r)\n",
    "        display (tree.print_tree())\n",
    "\n",
    "\n",
    "slider_r.observe(on_value_change_r, names=\"value\")\n",
    "\n",
    "output_r = widgets.Output()\n",
    "\n",
    "display(\n",
    "    widgets.HBox([widgets.Label(\"Schwellenwert für die Temperatur\"), slider_r, output_r])\n",
    ")\n",
    "sw_r = 25\n",
    "tree = makeTree_r(sw_r)\n",
    "with output_r:\n",
    "    display (tree.print_tree())"
   ]
  },
  {
   "cell_type": "markdown",
   "metadata": {},
   "source": [
    "<div class=\"alert alert-block alert-success\">\n",
    "\n",
    "Hier kannst du alle Variablen mit allen möglichen Schwellenwerten durchprobieren:"
   ]
  },
  {
   "cell_type": "code",
   "execution_count": null,
   "metadata": {},
   "outputs": [],
   "source": [
    "def show_tree(attribute, schwellenwert):\n",
    "\n",
    "    tree = ct.DecisionTree(target=target, data=df_fussball)\n",
    "    tree.manual_split(attribute=attribute, threshold=schwellenwert, node_nr=1)\n",
    "    tree.print_tree()\n",
    "    display(tree.tree_graph)\n",
    "\n",
    "    return tree\n",
    "\n",
    "\n",
    "tree_widget = widgets.interactive(\n",
    "    show_tree,\n",
    "    {\"manual\": True, \"manual_name\": \"Erstelle Tree\"},\n",
    "    attribute = [\"Luftfeuchtigkeit\",\"Temparatur\"],\n",
    "    schwellenwert = (21, 99, 0.5)\n",
    ")\n",
    "tree_widget"
   ]
  },
  {
   "cell_type": "markdown",
   "metadata": {},
   "source": [
    "## Weitere manuelle Datensplits"
   ]
  },
  {
   "cell_type": "markdown",
   "metadata": {},
   "source": [
    "<div class=\"alert alert-block alert-success\">\n",
    "\n",
    "### Fazit bisher:\n",
    "    \n",
    "Wenn wir nur eine der beiden Variablen für einen Datensplit benutzen, ist die Wahl der Länge mit einem Schwellenwert von 0.51 offenbar optimal, obwohl dann immer noch 14 Fehler entstehen!\n",
    "    \n",
    "Hier nochmals das zugehörige Streudiagramm mit der horizontalen Trennlinie:"
   ]
  },
  {
   "cell_type": "code",
   "execution_count": null,
   "metadata": {},
   "outputs": [],
   "source": [
    "schwellenwert = 81\n",
    "\n",
    "def fehlersumme_l(threshold):\n",
    "    tree = ct.DecisionTree(target=target, data=df_fussball)\n",
    "    tree.manual_split(attribute=\"Luftfeuchtigkeit\", threshold=threshold, node_nr=1)\n",
    "    return tree.calculate_errors(data=df_fussball)\n",
    "\n",
    "\n",
    "fig = px.scatter(\n",
    "    df_fussball,\n",
    "    x=data_x,\n",
    "    y=data_y,\n",
    "    color=target,\n",
    "    color_discrete_map=color_map,\n",
    "    width=breite,\n",
    "    height=hoehe,\n",
    "    range_x=bereich_x,\n",
    "    range_y=bereich_y,\n",
    ")\n",
    "\n",
    "fig.update_traces(marker=dict(size=10, line=dict(width=1, color=\"black\")))\n",
    "\n",
    "fig.update_layout(\n",
    "    shapes=[\n",
    "        dict(\n",
    "            type=\"line\",\n",
    "            yref=\"y1\",\n",
    "            y0=schwellenwert,\n",
    "            y1=schwellenwert,\n",
    "            xref=\"x1\",\n",
    "            x0=bereich_x[0],\n",
    "            x1=bereich_x[1],\n",
    "            line=dict(color=\"Red\", width=1),\n",
    "        )\n",
    "    ]\n",
    ")\n",
    "\n",
    "fig.add_annotation(\n",
    "    x=21,\n",
    "    y=schwellenwert,\n",
    "    text=\"Schwellenwert der Länge=\" + str(schwellenwert),\n",
    "    showarrow=True,\n",
    "    xshift=20,\n",
    ")\n",
    "\n",
    "fig.add_annotation(\n",
    "    x=21,\n",
    "    y=schwellenwert,\n",
    "    text=\"Fehler: \" + str(fehlersumme_l(schwellenwert)),\n",
    "    showarrow=False,\n",
    "    yshift=50,\n",
    ")\n",
    "\n",
    "\n",
    "fig.show()"
   ]
  },
  {
   "cell_type": "markdown",
   "metadata": {},
   "source": [
    "<div class=\"alert alert-block alert-success\">\n",
    "\n",
    "Wir entdecken nur noch eine fehlerhafte Klassifikation:\n",
    "- oberhalb der roten Linie sehen wir einen lilafarbigen Punkt.\n",
    "    \n",
    "Wir legen also fest:"
   ]
  },
  {
   "cell_type": "code",
   "execution_count": null,
   "metadata": {},
   "outputs": [],
   "source": [
    "besterSchwellenwert = 81"
   ]
  },
  {
   "cell_type": "markdown",
   "metadata": {},
   "source": [
    "Der folgende Programmabschnitt ermöglicht es jetzt, einen weiteren Datensplit vorzunehmen. "
   ]
  },
  {
   "cell_type": "code",
   "execution_count": null,
   "metadata": {},
   "outputs": [],
   "source": [
    "hor = besterSchwellenwert\n",
    "SchwellenwertKnoten3 = 27\n",
    "\n",
    "# Trainingsdaten einlesen -> \"data frame df_käfer_trainingsdaten\"\n",
    "df_fussball_trainingsdaten = pd.read_csv('Daten/spielen.csv', sep=';')\n",
    "\n",
    "# zeige den Anfang des Datensatzes \"df_fussball_trainingsdaten\" an\n",
    "#print(\"Trainingsdaten\")\n",
    "#display(df_käfer_trainingsdaten)\n",
    "\n",
    "# Entscheidungsbaum initialisieren mit Zielvariable (hier in Spalte \"Spielen\") und Trainingsdaten\n",
    "tree6 = ct.DecisionTree(target = 'Spielen', data = df_fussball_trainingsdaten)\n",
    "\n",
    "# threshold bedeutet Schwellenwert\n",
    "tree6.manual_split(attribute = 'Luftfeuchtigkeit',  threshold = hor, node_nr = 1) \n",
    "#tree6.manual_split(attribute = 'Breite', threshold = SchwellenwertKnoten2, node_nr = 2) \n",
    "tree6.manual_split(attribute = 'Temperatur', threshold = SchwellenwertKnoten3, node_nr = 3) \n",
    "\n",
    "\n",
    "#Entscheidungsbaum ausgeben\n",
    "tree6.print_tree()"
   ]
  },
  {
   "cell_type": "markdown",
   "metadata": {
    "solution2": "shown",
    "solution2_first": true
   },
   "source": [
    "<div class=\"alert alert-block alert-warning\">\n",
    "\n",
    "### *Aufgabe:*\n",
    "\n",
    "Ändere den Schwellenwerte für den Knoten 3 so ab, dass möglichst wenige Fehlklassifikationen entstehen. schau dir dazu ggf. nochmal das Streudiagramm an."
   ]
  },
  {
   "cell_type": "markdown",
   "metadata": {
    "solution2": "shown"
   },
   "source": [
    "<div class=\"alert alert-block alert-success\">\n",
    "\n",
    "Geeigneter Schwellenwerte im Knoten 3 ist z.B. 24.5\n"
   ]
  },
  {
   "cell_type": "markdown",
   "metadata": {},
   "source": [
    "<div class=\"alert alert-block alert-success\">\n",
    "\n",
    "Das folgende Bild verdeutlicht diese Lösung: "
   ]
  },
  {
   "cell_type": "code",
   "execution_count": null,
   "metadata": {
    "scrolled": false
   },
   "outputs": [],
   "source": [
    "import plotly.express as px\n",
    "\n",
    "hor = besterSchwellenwert\n",
    "SchwellenwertKnoten3 = 24.5\n",
    "\n",
    "tree = ct.DecisionTree(target=\"Spielen\", data=df_fussball)\n",
    "\n",
    "#fehlersumme = calc_errors(hor, tree, \"Länge\")\n",
    "fehlersumme = tree.calculate_errors(data = df_fussball) \n",
    "\n",
    "color_map = {'Marienkäfer': 'orange', 'Raupe': 'lightblue'}\n",
    "\n",
    "fig = px.scatter(\n",
    "    df_fussball,\n",
    "    x=\"Temperatur\",\n",
    "    y=\"Luftfeuchtigkeit\",\n",
    "    color=\"Spielen\",\n",
    "    color_discrete_map=color_map,\n",
    "    width=800,\n",
    "    height=600,\n",
    "    range_x=[21,29],\n",
    "    range_y=[65, 99],\n",
    "    #size = 0.01\n",
    ")\n",
    "\n",
    "fig.update_traces(marker=dict(  #size=5, \n",
    "    line=dict(width=1, color='black')))\n",
    "\n",
    "fig.add_annotation(x=0.8,\n",
    "                   y=hor,\n",
    "                   text=\"Fehler: \" + str(fehlersumme),\n",
    "                   showarrow=False,\n",
    "                   yshift=25)\n",
    "\n",
    "fig.add_annotation(\n",
    "    x=0.8,\n",
    "    y=hor,\n",
    "    text=\"Schwellenwert: \" + str(hor),\n",
    "    showarrow=False,\n",
    "    yshift=10,\n",
    "    xshift=20,\n",
    ")\n",
    "\n",
    "fig.update_layout(shapes=[\n",
    "    dict(\n",
    "        type=\"line\",\n",
    "        yref='y1',\n",
    "        y0=hor,\n",
    "        y1=hor,\n",
    "        xref='x1',\n",
    "        x0=20,\n",
    "        x1=29,\n",
    "        line=dict(color=\"Red\", width=2\n",
    "                  #dash=\"\",\n",
    "                  )),\n",
    "    dict(type=\"line\",\n",
    "         yref='y1',\n",
    "         y0=hor,\n",
    "         y1=100,\n",
    "         xref='x1',\n",
    "         x0=SchwellenwertKnoten3,\n",
    "         x1=SchwellenwertKnoten3,\n",
    "         line=dict(\n",
    "             color=\"Black\",\n",
    "             width=2,\n",
    "             dash=\"dashdot\",\n",
    "         ))\n",
    "])\n",
    "\n",
    "fig.show()"
   ]
  },
  {
   "cell_type": "markdown",
   "metadata": {},
   "source": [
    "## Automatische Lösung"
   ]
  },
  {
   "cell_type": "markdown",
   "metadata": {},
   "source": [
    "<div class=\"alert alert-block alert-success\">\n",
    "\n",
    "Eine Funktion `grow_tree` ist in der Lage, den kompletten Datensplit automatisch zu erzeugen:"
   ]
  },
  {
   "cell_type": "code",
   "execution_count": null,
   "metadata": {},
   "outputs": [],
   "source": [
    "tree = ct.DecisionTree(target = 'Spielen', data = df_fussball)\n",
    "tree.grow_tree(df_fussball, 'Spielen',max_depth=2)\n",
    "tree.print_tree()"
   ]
  },
  {
   "cell_type": "code",
   "execution_count": null,
   "metadata": {},
   "outputs": [],
   "source": []
  }
 ],
 "metadata": {
  "celltoolbar": "Raw Cell Format",
  "hide_input": false,
  "kernelspec": {
   "display_name": "Python 3 (ipykernel)",
   "language": "python",
   "name": "python3"
  },
  "language_info": {
   "codemirror_mode": {
    "name": "ipython",
    "version": 3
   },
   "file_extension": ".py",
   "mimetype": "text/x-python",
   "name": "python",
   "nbconvert_exporter": "python",
   "pygments_lexer": "ipython3",
   "version": "3.10.13"
  },
  "latex_envs": {
   "LaTeX_envs_menu_present": true,
   "autoclose": false,
   "autocomplete": true,
   "bibliofile": "biblio.bib",
   "cite_by": "apalike",
   "current_citInitial": 1,
   "eqLabelWithNumbers": true,
   "eqNumInitial": 1,
   "hotkeys": {
    "equation": "Ctrl-E",
    "itemize": "Ctrl-I"
   },
   "labels_anchors": false,
   "latex_user_defs": false,
   "report_style_numbering": false,
   "user_envs_cfg": true
  },
  "toc": {
   "base_numbering": 1,
   "nav_menu": {},
   "number_sections": true,
   "sideBar": true,
   "skip_h1_title": true,
   "title_cell": "Table of Contents",
   "title_sidebar": "Contents",
   "toc_cell": false,
   "toc_position": {
    "height": "calc(100% - 180px)",
    "left": "10px",
    "top": "150px",
    "width": "165px"
   },
   "toc_section_display": true,
   "toc_window_display": true
  },
  "varInspector": {
   "cols": {
    "lenName": 16,
    "lenType": 16,
    "lenVar": 40
   },
   "kernels_config": {
    "python": {
     "delete_cmd_postfix": "",
     "delete_cmd_prefix": "del ",
     "library": "var_list.py",
     "varRefreshCmd": "print(var_dic_list())"
    },
    "r": {
     "delete_cmd_postfix": ") ",
     "delete_cmd_prefix": "rm(",
     "library": "var_list.r",
     "varRefreshCmd": "cat(var_dic_list()) "
    }
   },
   "types_to_exclude": [
    "module",
    "function",
    "builtin_function_or_method",
    "instance",
    "_Feature"
   ],
   "window_display": false
  }
 },
 "nbformat": 4,
 "nbformat_minor": 2
}
