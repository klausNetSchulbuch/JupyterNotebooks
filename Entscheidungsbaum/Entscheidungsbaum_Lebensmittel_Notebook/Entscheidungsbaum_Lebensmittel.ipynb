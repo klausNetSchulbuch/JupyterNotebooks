{
 "cells": [
  {
   "cell_type": "markdown",
   "metadata": {},
   "source": [
    "# Daten und Entscheidungsbäume - So macht das ein Computer"
   ]
  },
  {
   "cell_type": "code",
   "execution_count": null,
   "metadata": {
    "hide_input": true
   },
   "outputs": [],
   "source": [
    "#from dectrees_interactive_tools import ClassificationTree as ct\n",
    "from PyTree import ClassificationTree as ct\n",
    "\n",
    "import pandas as pd\n",
    "import numpy as np\n",
    "\n",
    "from ipywidgets import interact, interactive, fixed, interact_manual, Layout, HBox\n",
    "import ipywidgets as widgets\n",
    "\n",
    "from IPython.display import HTML, display\n",
    "\n",
    "display(HTML('''<style> .widget-label { min-width: 20ex !important; } </style>'''))"
   ]
  },
  {
   "cell_type": "markdown",
   "metadata": {},
   "source": [
    "<div class=\"panel panel-success\">\n",
    "    <div class=\"panel-heading\">\n",
    "        <b> Erklärungstext - Von Datenkarten zu Datentabellen im Computer</b>\n",
    "    </div>\n",
    "    <div class=\"panel-body\">\n",
    "Der Computer arbeitet mit Datentabellen statt mit Datenkarten. Alle Informationen der Karten befinden sich in einer einzigen Tabelle. <p><p>\n",
    "        Unten siehst Du den Apfel und das Popcorn als Datenkarte und darunter als Datentabelle.\n",
    "        <p><p>\n",
    "        Die Daten der Tabelle muss ein Mensch eintragen, damit der Computer damit weiterarbeiten kann.\n",
    "\n",
    "</div> "
   ]
  },
  {
   "cell_type": "markdown",
   "metadata": {},
   "source": [
    "<td> \n",
    "    <img src=\"Bilder\\Apfel.png\" alt=\"Drawing\" style=\"width: 200px; float: left;\"  hspace=40 /> \n",
    "    <img src=\"Bilder\\Popcorn.png\" alt=\"Drawing\" style=\"width: 200px; float: left;\" hspace=40/>\n",
    "</td>\n"
   ]
  },
  {
   "cell_type": "markdown",
   "metadata": {},
   "source": [
    "<td> \n",
    "    <img src=\"Bilder\\Datentabelle.png\" alt=\"Drawing\" style=\"width: 530px; float: left;\"  hspace=40 /> \n",
    "</td>\n"
   ]
  },
  {
   "cell_type": "markdown",
   "metadata": {},
   "source": [
    "<div class=\"panel panel-info\">\n",
    "    <div class=\"panel-heading\">\n",
    "        <b>Aufgabe - Wie lauten die richtigen Angaben?</b>\n",
    "    </div>\n",
    "    <div class=\"panel-body\">\n",
    "Leider ist beim Übertragen der Daten in die Tabelle etwas schief gelaufen. Ein Wert wurde falsch eingetragen. Findest du heraus, welcher Wert das ist? \n",
    "       <p><p> \n",
    "        Schaue dir die Tabelle und die Datenkarten genau an und vergleiche.\n",
    " \n",
    "<p><p>\n",
    "        Wähle unten aus, bei welchem Lebensmittel und welchem Merkmal der Fehler passiert ist!\n",
    "    </div> \n",
    "</div>"
   ]
  },
  {
   "cell_type": "code",
   "execution_count": null,
   "metadata": {
    "hide_input": true
   },
   "outputs": [],
   "source": [
    "def antwort(Lebensmittel, Merkmal):\n",
    "    \n",
    "    if (Lebensmittel == 'Apfel') & (Merkmal == 'Eiweiß'):\n",
    "        print('Gut gemacht!')\n",
    "    else:\n",
    "        print('Leider falsch, probier es noch einmal!')\n",
    "\n",
    "antwort_widget = interactive(antwort,{'manual': True, 'manual_name': 'Antwort überprüfen'}, Lebensmittel = ['Apfel', 'Popcorn'], Merkmal = ['Energie', 'Fett', 'gesättigte Fettsäuren', 'Kohlenhydrate', 'Zucker', 'Eiweiß', 'Salz']) \n",
    "display(antwort_widget)\n"
   ]
  },
  {
   "cell_type": "markdown",
   "metadata": {
    "hide_input": true
   },
   "source": [
    "# Daten importieren"
   ]
  },
  {
   "cell_type": "markdown",
   "metadata": {
    "hide_input": true
   },
   "source": [
    "<div class=\"panel panel-success\">\n",
    "    <div class=\"panel-heading\">\n",
    "        <b> Eklärungstext - Daten importieren </b>\n",
    "    </div>\n",
    "    <div class=\"panel-body\">\n",
    "Den kompletten Datensatz ohne Fehler kannst du jetzt importieren, indem du auf \"Lade Daten\" klickst. \n",
    "     </div> "
   ]
  },
  {
   "cell_type": "code",
   "execution_count": null,
   "metadata": {
    "hide_input": true,
    "scrolled": true
   },
   "outputs": [],
   "source": [
    "df_lebensmittel = pd.read_csv('Daten/Trainingsdaten.csv', sep = ';').set_index('Name')\n",
    "\n",
    "def read_csv():\n",
    "    display(df_lebensmittel)\n",
    "\n",
    "daten_widget = interactive(read_csv,{'manual': True, 'manual_name': 'Lade Daten'}) \n",
    "display(daten_widget)\n"
   ]
  },
  {
   "cell_type": "markdown",
   "metadata": {},
   "source": [
    "# Daten labeln"
   ]
  },
  {
   "cell_type": "markdown",
   "metadata": {},
   "source": [
    "<div class=\"panel panel-success\">\n",
    "    <div class=\"panel-heading\">\n",
    "        <b> Eklärungtext - Was ist eher empfehlenswert und was eher nicht? </b>\n",
    "    </div>\n",
    "    <div class=\"panel-body\">\n",
    "Der Computer \"weiß\" noch nicht, welches Lebensmittel \"eher empfehlenswert\" und welches \"eher nicht empfehlenswert\" ist. Das musst Du ihm jetzt beibringen.<p><p>\n",
    "        Im Unterricht hast Du dazu farbige Büroklammern an die Karten geheftet. Für den Computer muss es in die Datentabelle geschrieben werden.\n",
    "</div> \n"
   ]
  },
  {
   "cell_type": "markdown",
   "metadata": {},
   "source": [
    "<td> \n",
    "    <img src=\"Bilder\\Apfel_label.png\" alt=\"Drawing\" style=\"width: 200px; float: left;\"  hspace=40 /> \n",
    "    <img src=\"Bilder\\Popcorn_label.png\" alt=\"Drawing\" style=\"width: 200px; float: left;\" hspace=40/>\n",
    "</td>\n"
   ]
  },
  {
   "cell_type": "markdown",
   "metadata": {},
   "source": [
    "<div class=\"panel panel-info\">\n",
    "    <div class=\"panel-heading\">\n",
    "        <b>Aufgabe - Die Datentabelle ergänzen</b>\n",
    "    </div>\n",
    "    <div class=\"panel-body\">\n",
    " Wähle für jedes Lebensmittel aus, ob der Computer es als <b>\"eher empfehlenswert\"</b> oder als <b>\"eher nicht empfehlenswert\"</b> labeln soll. Du kannst es auch <b>\"beiseite legen\"</b>, dann wird es aus der Datentabelle gelöscht.\n",
    "        <p><p>\n",
    "        Am Ende siehst Du, dass die Datentabelle eine weitere Spalte \"Label\" hat.\n",
    "    </div> \n",
    "</div>"
   ]
  },
  {
   "cell_type": "code",
   "execution_count": null,
   "metadata": {
    "hide_input": true,
    "scrolled": false
   },
   "outputs": [],
   "source": [
    "def label_data(Apfel, Banane, Haselnussschnitte, Chips, Pommes, Nudeln, Erbsen, Eisbergsalat, Frikadelle, \n",
    "               Brotscheibe, Popcorn, Vanilleeis, Marmorkuchen, ChickenNuggets, Erdbeerjoghurt, Salatgurke, \n",
    "               Brokkoli, Schokomüsli, Waffel, Kartoffel, Vollmilchschokolade, Mayonaise, Putenbrustfilet, \n",
    "               Avocado, Gummibärchen, Knäckebrot, Haferflocken, Himbeermarmelade, Salzstangen, Räucherlachs, \n",
    "               Spiegelei, Zwieback, Salamischeibe, Bratwurst, Butter, Senf, Walnüsse, Datteln, Champignons, \n",
    "               SchwarzwälderSchinken):\n",
    "    \n",
    "    df = daten_widget.result\n",
    "    df['Etikett'] = [Apfel, Banane, Haselnussschnitte, Chips, Pommes, Nudeln, Erbsen, Eisbergsalat, Frikadelle, \n",
    "               Brotscheibe, Popcorn, Vanilleeis, Marmorkuchen, ChickenNuggets, Erdbeerjoghurt, Salatgurke, \n",
    "               Brokkoli, Schokomüsli, Waffel, Kartoffel, Vollmilchschokolade, Mayonaise, Putenbrustfilet, \n",
    "               Avocado, Gummibärchen, Knäckebrot, Haferflocken, Himbeermarmelade, Salzstangen, Räucherlachs, \n",
    "               Spiegelei, Zwieback, Salamischeibe, Bratwurst, Butter, Senf, Walnüsse, Datteln, Champignons, \n",
    "               SchwarzwälderSchinken]\n",
    "    \n",
    "    \n",
    "    return Apfel\n",
    "    \n",
    "label_widget = interactive(label_data,{'manual': True, 'manual_name': 'Label festlegen'}, \n",
    "                            Apfel = ['beiseite legen', 'eher empf.', 'eher nicht empf.'],\n",
    "                            Banane = ['beiseite legen', 'eher empf.', 'eher nicht empf.'],\n",
    "                            Haselnussschnitte = ['beiseite legen', 'eher empf.', 'eher nicht empf.'],\n",
    "                            Chips = ['beiseite legen', 'eher empf.', 'eher nicht empf.'],\n",
    "                            Pommes = ['beiseite legen', 'eher empf.', 'eher nicht empf.'],\n",
    "                            Nudeln = ['beiseite legen', 'eher empf.', 'eher nicht empf.'],\n",
    "                            Erbsen = ['beiseite legen', 'eher empf.', 'eher nicht empf.'],\n",
    "                            Eisbergsalat = ['beiseite legen', 'eher empf.', 'eher nicht empf.'],\n",
    "                            Frikadelle = ['beiseite legen', 'eher empf.', 'eher nicht empf.'],\n",
    "                            Brotscheibe = ['beiseite legen', 'eher empf.', 'eher nicht empf.'],\n",
    "                            Popcorn = ['beiseite legen', 'eher empf.', 'eher nicht empf.'],\n",
    "                            Vanilleeis = ['beiseite legen', 'eher empf.', 'eher nicht empf.'],\n",
    "                            Marmorkuchen = ['beiseite legen', 'eher empf.', 'eher nicht empf.'],\n",
    "                            ChickenNuggets = ['beiseite legen', 'eher empf.', 'eher nicht empf.'],\n",
    "                            Erdbeerjoghurt = ['beiseite legen', 'eher empf.', 'eher nicht empf.'],\n",
    "                            Salatgurke = ['beiseite legen', 'eher empf.', 'eher nicht empf.'],\n",
    "                            Brokkoli = ['beiseite legen', 'eher empf.', 'eher nicht empf.'],\n",
    "                            Schokomüsli = ['beiseite legen', 'eher empf.', 'eher nicht empf.'],\n",
    "                            Waffel = ['beiseite legen', 'eher empf.', 'eher nicht empf.'],\n",
    "                            Kartoffel = ['beiseite legen', 'eher empf.', 'eher nicht empf.'],\n",
    "                            Vollmilchschokolade = ['beiseite legen', 'eher empf.', 'eher nicht empf.'],\n",
    "                            Mayonaise = ['beiseite legen', 'eher empf.', 'eher nicht empf.'],\n",
    "                            Putenbrustfilet = ['beiseite legen', 'eher empf.', 'eher nicht empf.'],\n",
    "                            Avocado = ['beiseite legen', 'eher empf.', 'eher nicht empf.'],\n",
    "                            Gummibärchen = ['beiseite legen', 'eher empf.', 'eher nicht empf.'],\n",
    "                            Knäckebrot = ['beiseite legen', 'eher empf.', 'eher nicht empf.'],\n",
    "                            Haferflocken = ['beiseite legen', 'eher empf.', 'eher nicht empf.'],\n",
    "                            Himbeermarmelade = ['beiseite legen', 'eher empf.', 'eher nicht empf.'],\n",
    "                            Salzstangen = ['beiseite legen', 'eher empf.', 'eher nicht empf.'],\n",
    "                            Räucherlachs = ['beiseite legen', 'eher empf.', 'eher nicht empf.'],\n",
    "                            Spiegelei = ['beiseite legen', 'eher empf.', 'eher nicht empf.'],\n",
    "                            Zwieback = ['beiseite legen', 'eher empf.', 'eher nicht empf.'],\n",
    "                            Salamischeibe = ['beiseite legen', 'eher empf.', 'eher nicht empf.'],\n",
    "                            Bratwurst = ['beiseite legen', 'eher empf.', 'eher nicht empf.'],\n",
    "                            Butter = ['beiseite legen', 'eher empf.', 'eher nicht empf.'],\n",
    "                            Senf = ['beiseite legen', 'eher empf.', 'eher nicht empf.'],\n",
    "                            Walnüsse = ['beiseite legen', 'eher empf.', 'eher nicht empf.'],\n",
    "                            Datteln = ['beiseite legen', 'eher empf.', 'eher nicht empf.'],\n",
    "                            Champignons = ['beiseite legen', 'eher empf.', 'eher nicht empf.'],\n",
    "                            SchwarzwälderSchinken = ['beiseite legen', 'eher empf.', 'eher nicht empf.'])\n",
    "\n",
    "#label_widget"
   ]
  },
  {
   "cell_type": "code",
   "execution_count": null,
   "metadata": {
    "hide_input": true
   },
   "outputs": [],
   "source": [
    "liste= ['Apfel', 'Banane', 'Haselnussschnitte', 'Chips', 'Pommes', 'Nudeln', 'Erbsen', 'Eisbergsalat', 'Frikadelle',\n",
    "               'Brotscheibe', 'Popcorn', 'Vanilleeis', 'Marmorkuchen', 'Chicken Nuggets', 'Erdbeerjoghurt', 'Salatgurke',\n",
    "               'Brokkoli', 'Schokomüsli', 'Waffel', 'Kartoffel', 'Vollmilchschokolade', 'Mayonaise', 'Putenbrustfilet',\n",
    "               'Avocado', 'Gummibärchen', 'Knäckebrot', 'Haferflocken', 'Himbeermarmelade', 'Salzstangen', 'Räucherlachs',\n",
    "               'Spiegelei', 'Zwieback', 'Salamischeibe', 'Bratwurst', 'Butter', 'Senf', 'Walnüsse', 'Datteln', 'Champignons',\n",
    "               'Schwarzwälder Schinken']\n",
    "results=[]\n",
    "for i in liste:\n",
    "    results.append('beiseite legen')"
   ]
  },
  {
   "cell_type": "code",
   "execution_count": null,
   "metadata": {
    "code_folding": [],
    "hide_input": true
   },
   "outputs": [],
   "source": [
    "def radiobuttons(name, index, option1, option2, option3):\n",
    "    \n",
    "    output_radio_selected = widgets.Text()\n",
    "    radio1 = widgets.RadioButtons(options=[option1])\n",
    "    radio2 = widgets.RadioButtons(options=[option2])\n",
    "    radio3 = widgets.RadioButtons(options=[option3])\n",
    "    selected_option = None\n",
    "\n",
    "    radio1.index = None\n",
    "    radio2.index = None\n",
    "    radio3.index = None\n",
    "\n",
    "\n",
    "    def radio1_observer(sender):\n",
    "\n",
    "\n",
    "        radio2.unobserve(radio2_observer, names=['value'])\n",
    "        radio2.index = None\n",
    "\n",
    "\n",
    "        radio3.unobserve(radio3_observer, names=['value'])\n",
    "        radio3.index = None\n",
    "\n",
    "\n",
    "        global selected_option1\n",
    "        output_radio_selected.value = radio1.value\n",
    "        selected_option1 = output_radio_selected.value\n",
    "        selected_option = selected_option1\n",
    "        #print(name + ' selected option set to: ' + selected_option)\n",
    "        results[index] = selected_option\n",
    "        \n",
    "        radio2.observe(radio2_observer, names=['value'])\n",
    "        radio3.observe(radio3_observer, names=['value'])\n",
    "\n",
    "\n",
    "\n",
    "    def radio2_observer(sender):\n",
    "        radio1.unobserve(radio1_observer, names=['value'])\n",
    "        radio1.index = None\n",
    "\n",
    "\n",
    "        radio3.unobserve(radio3_observer, names=['value'])\n",
    "        radio3.index = None\n",
    "\n",
    "\n",
    "        global selected_option2\n",
    "        output_radio_selected.value = radio2.value\n",
    "        selected_option2 = output_radio_selected.value\n",
    "        selected_option = selected_option2\n",
    "        #print(name + ' selected option set to: ' + selected_option)\n",
    "        results[index] = selected_option\n",
    "        \n",
    "        radio1.observe(radio1_observer, names=['value'])\n",
    "        radio3.observe(radio3_observer, names=['value'])\n",
    "  \n",
    "\n",
    "\n",
    "    def radio3_observer(sender):\n",
    "        radio1.unobserve(radio1_observer, names=['value'])\n",
    "        radio1.index = None\n",
    "\n",
    "\n",
    "        radio2.unobserve(radio2_observer, names=['value'])\n",
    "        radio2.index = None\n",
    "\n",
    "\n",
    "        global selected_option3\n",
    "        output_radio_selected.value = radio3.value\n",
    "        selected_option3 = output_radio_selected.value\n",
    "        selected_option = selected_option3\n",
    "        #print(name + ' selected option set to: ' + selected_option)\n",
    "        results[index] = selected_option\n",
    "        \n",
    "        radio1.observe(radio1_observer, names=['value'])\n",
    "        radio2.observe(radio2_observer, names=['value'])\n",
    "\n",
    "\n",
    "    radio1.observe(radio1_observer, names=['value'])\n",
    "    radio2.observe(radio2_observer, names=['value'])\n",
    "    radio3.observe(radio3_observer, names=['value'])\n",
    "    \n",
    "   \n",
    "\n",
    "\n",
    "    label = widgets.Label(name, layout={'width': '170px'})\n",
    "    \n",
    "    return [widgets.HBox([label, radio1, radio2, radio3]), selected_option]\n"
   ]
  },
  {
   "cell_type": "code",
   "execution_count": null,
   "metadata": {
    "hide_input": true,
    "scrolled": false
   },
   "outputs": [],
   "source": [
    "j = 0\n",
    "for i in liste:\n",
    "    display(radiobuttons(i, j, 'eher empfehlenswert','eher nicht empfehlenswert','beiseite legen')[0])\n",
    "    j+=1"
   ]
  },
  {
   "cell_type": "code",
   "execution_count": null,
   "metadata": {
    "hide_input": true
   },
   "outputs": [],
   "source": [
    "def fill_in_label(label_list):\n",
    "    df_lebensmittel_label = df_lebensmittel.copy()\n",
    "    df_lebensmittel_label['Label'] = label_list\n",
    "    df_lebensmittel_label_alle = df_lebensmittel_label.copy()\n",
    "    df_lebensmittel_label = df_lebensmittel_label[df_lebensmittel_label['Label']!='beiseite legen']\n",
    "    display(df_lebensmittel_label)\n",
    "    df_lebensmittel_label.to_csv('Daten/Lebensmittel_labeled.csv', encoding='utf-8',sep=\";\")\n",
    "    return df_lebensmittel_label, df_lebensmittel_label_alle\n",
    "\n",
    "label_widget = interactive(fill_in_label,{'manual': True, 'manual_name': 'Label eintragen'},label_list = fixed(results)) \n",
    "\n",
    "display(label_widget)\n",
    "\n",
    "label_widget.result = df_lebensmittel, df_lebensmittel"
   ]
  },
  {
   "cell_type": "markdown",
   "metadata": {},
   "source": [
    "# Daten sortieren"
   ]
  },
  {
   "cell_type": "markdown",
   "metadata": {
    "hide_input": true
   },
   "source": [
    "<div class=\"panel panel-success\">\n",
    "    <div class=\"panel-heading\">\n",
    "        <b> Eklärungstext </b>\n",
    "    </div>\n",
    "    <div class=\"panel-body\">\n",
    "Vielleicht erinnerst du dich daran, wie mühsam das <b>Sortieren</b> der Datenkarten für ein Merkmal war. Der Computer kann das viel schneller. \n",
    "\n",
    "\n",
    "</div> \n"
   ]
  },
  {
   "cell_type": "markdown",
   "metadata": {},
   "source": [
    "<div class=\"panel panel-info\">\n",
    "    <div class=\"panel-heading\">\n",
    "        <b>Aufgabe - Die Datentabelle sortieren</b>\n",
    "    </div>\n",
    "    <div class=\"panel-body\">\n",
    " Wähle ein Merkmal aus, nach dem die Datentabelle sortiert werden soll.\n",
    "        <p><p>\n",
    "       Welches Lebensmittel steht nun in der Datentabelle ganz oben?\n",
    "    </div> \n",
    "</div>"
   ]
  },
  {
   "cell_type": "code",
   "execution_count": null,
   "metadata": {
    "hide_input": true,
    "scrolled": false
   },
   "outputs": [],
   "source": [
    "def sort_data(Merkmal):\n",
    "    try:\n",
    "        df_lebensmittel_label = label_widget.result[0].copy() \n",
    "        df_lebensmittel_label = df_lebensmittel_label[df_lebensmittel_label['Label']!='beiseite legen']\n",
    "        display(df_lebensmittel_label.sort_values(Merkmal))\n",
    "        return df_lebensmittel_label.sort_values(Merkmal)\n",
    "    \n",
    "    except:\n",
    "        print('FEHLER')\n",
    "        print('Die Label sind noch nicht korrekt eingetragen.')\n",
    "        print('Wähle die Label oben aus und bestätige mit dem Button: \"Label Eintragen\"')\n",
    "sort_widget = interactive(sort_data,{'manual': True, 'manual_name': 'Sortiere Daten'}, Merkmal = df_lebensmittel.columns) \n",
    "sort_widget"
   ]
  },
  {
   "cell_type": "markdown",
   "metadata": {},
   "source": [
    "# Eine Entscheidungsregel aufstellen"
   ]
  },
  {
   "cell_type": "markdown",
   "metadata": {},
   "source": [
    "<div class=\"panel panel-success\">\n",
    "    <div class=\"panel-heading\">\n",
    "        <b> Eklärungtext - Schwellenwerte ausprobieren</b>\n",
    "    </div>\n",
    "    <div class=\"panel-body\">\n",
    "Im Unterricht hast Du als nächstes einen Schwellenwert gesucht, der die sortierten Daten möglichst gut in \"eher empfehlenswert\" und in \"eher nicht empfehlenswert\" trennt. Du kannst hier verschiedene Schwellenwerte ausprobieren.\n",
    "        <p><p>\n",
    "        <b> Tipp</b> <p>\n",
    "        Nimm das Merkmal, nach dem Du die Datentabelle gerade sortiert hast und probier verschiedene Schwellenwerte aus.\n",
    "\n",
    "<p></p>        \n",
    "        <b>Hinweis</b><p>\n",
    "Wenn du <b>automatisch</b> anklickst wird der ausgesuchte Schwellwert ignoriert und der Computer sucht automatisch den besten Schwellwert für das ausgewählte Merkmal. Dann wird auch eine Tabelle angezeigt, in der du ablesen kannst, welche Schwellwerte der Computer untersucht hat. Es ist faszinierend wie Schnell der Computer den besten Schwellwert findet.\n",
    "        \n",
    "</div> \n"
   ]
  },
  {
   "cell_type": "markdown",
   "metadata": {},
   "source": [
    "<div class=\"panel panel-info\">\n",
    "    <div class=\"panel-heading\">\n",
    "        <b>Aufgabe - Was siehst Du jetzt?</b>\n",
    "    </div>\n",
    "    <div class=\"panel-body\">\n",
    "        Wie viele Lebensmittel werden mit Deinem Schwellenwert richtig klassifiziert? <p>\n",
    "        Wie viele werden falsch klassifiziert?<p>\n",
    "        Probier noch einmal einen anderen Schwellenwert aus und vergleiche, welcher besser ist!\n",
    "    </div> \n",
    "</div>"
   ]
  },
  {
   "cell_type": "code",
   "execution_count": null,
   "metadata": {
    "hide_input": true
   },
   "outputs": [],
   "source": [
    "def datensplit(Schwellwert, automatisch):\n",
    "    \n",
    "    Kriterium = 'misclassification_error'\n",
    "    Zielvariable = 'Label'\n",
    "    try:\n",
    "        df_lebensmittel_label = label_widget.result[0].copy()\n",
    "        df_lebensmittel_label = df_lebensmittel_label[df_lebensmittel_label['Label']!='beiseite legen']\n",
    "\n",
    "        tree = ct.DecisionTree(data = df_lebensmittel_label, target = Zielvariable, crit = Kriterium)\n",
    "        if automatisch:\n",
    "            doc = tree.manual_split(attribute = merkmal_widget.result, doc = True)\n",
    "        else:\n",
    "            tree.manual_split(attribute = merkmal_widget.result, threshold = Schwellwert, doc = True)\n",
    "        \n",
    "        tree.print_tree()\n",
    "        display(tree.tree_graph)\n",
    "        \n",
    "        if automatisch:\n",
    "            df_uebersicht = pd.DataFrame()\n",
    "            df_uebersicht['Merkmal'] = doc['Attribute']\n",
    "            df_uebersicht['Schwellwert'] = doc['Threshold']\n",
    "            df_uebersicht['Fehlklassifikationen'] = (min(tree.tree_nodes[1].subset['Label'].value_counts().sort_index().tolist()) - doc['Criterion'] * len(df_lebensmittel_label)).astype(int)\n",
    "\n",
    "            display(df_uebersicht)\n",
    "\n",
    "        print('Korrekt Klassifikationen:',int((tree.prediction_accuracy(df_lebensmittel_label))*len(tree.tree_nodes[1].subset)),' \\n')\n",
    "        print('Fehlklassifikationen',int((1-(tree.prediction_accuracy(df_lebensmittel_label)))*len(tree.tree_nodes[1].subset)),' \\n')\n",
    "        return tree\n",
    "    \n",
    "    except:\n",
    "        print('FEHLER')\n",
    "        print('Die Label sind noch nicht korrekt eingetragen.')\n",
    "        print('Wähle die Label oben aus und bestätige mit dem Button: \"Label Eintragen\"')\n",
    "\n",
    "def merkmal(Merkmal):\n",
    "    split_widget = interactive(datensplit,{'manual': True, 'manual_name': 'Erstelle Split'}, Schwellwert = (label_widget.result[0][Merkmal].value_counts().sort_index().index.min()+0.1,label_widget.result[0][Merkmal].value_counts().sort_index().index.max()-0.1,0.1),automatisch = False)                           \n",
    "    display(split_widget)\n",
    "    return Merkmal\n",
    "merkmal_widget = interactive(merkmal, Merkmal = df_lebensmittel.columns) \n",
    "merkmal_widget\n"
   ]
  },
  {
   "cell_type": "markdown",
   "metadata": {
    "hide_input": true
   },
   "source": [
    "# Entscheidungsbaum automatisch erstellen lassen"
   ]
  },
  {
   "cell_type": "markdown",
   "metadata": {},
   "source": [
    "<div class=\"panel panel-success\">\n",
    "    <div class=\"panel-heading\">\n",
    "        <b> Eklärungtext </b>\n",
    "    </div>\n",
    "    <div class=\"panel-body\">\n",
    "Jetzt übernimmt der Computer die ganze Arbeit. Das sortieren und auswählen der Schwellwerte passiert ganz automatisch, indem der Computer als Möglichkeiten testet.\n",
    "\n",
    "</div> \n"
   ]
  },
  {
   "cell_type": "markdown",
   "metadata": {},
   "source": [
    "<div class=\"panel panel-info\">\n",
    "    <div class=\"panel-heading\">\n",
    "        <b>Aufgabe - Die Anzahl der Stufen verändern</b>\n",
    "    </div>\n",
    "    <div class=\"panel-body\">\n",
    "        Las automatisch einen Entscheidungsbaum erstellen. Du kannst dem Computer dabei noch sagen, wie viele Stufen der Entscheidungsbaum haben soll. <p><p>\n",
    "        Probier mal aus, wie der Baum aussieht, wenn Du verschiedene Tiefen einstellst.\n",
    "    </div> \n",
    "</div>"
   ]
  },
  {
   "cell_type": "code",
   "execution_count": null,
   "metadata": {
    "hide_input": true
   },
   "outputs": [],
   "source": [
    "def grow_tree( Max_Stufen):\n",
    "    \n",
    "    try:\n",
    "        Kriterium = 'misclassification_error'\n",
    "        Zielvariable = 'Label'\n",
    "        df_lebensmittel_label = label_widget.result[0].copy()\n",
    "        df_lebensmittel_label = df_lebensmittel_label[df_lebensmittel_label['Label']!='beiseite legen']                                                                                                                \n",
    "\n",
    "        tree = ct.DecisionTree(data = df_lebensmittel_label, target = Zielvariable, crit = Kriterium)\n",
    "        tree.grow_tree(max_depth = Max_Stufen-1)\n",
    "        tree.print_tree()\n",
    "        display(tree.tree_graph)\n",
    "\n",
    "\n",
    "        print('Korrekt Klassifikationen:',int((tree.prediction_accuracy(df_lebensmittel_label))*len(tree.tree_nodes[1].subset)),' \\n')\n",
    "        print('Fehlklassifikationen',int(round((1-(tree.prediction_accuracy(df_lebensmittel_label)))*len(tree.tree_nodes[1].subset),2)),' \\n')\n",
    "        print ('\\n Super, du hast den Computer einen Entscheidungsbaum erstellen lassen!')\n",
    "\n",
    "        return tree\n",
    "    except:\n",
    "        print('FEHLER')\n",
    "        print('Die Label sind noch nicht korrekt eingetragen.')\n",
    "        print('Wähle die Label oben aus und bestätige mit dem Button: \"Label Eintragen\"')\n",
    "tree_widget = interactive(grow_tree,{'manual': True, 'manual_name': 'Erstelle Baum'}, Max_Stufen=(1,6,1) ) \n",
    "tree_widget"
   ]
  },
  {
   "cell_type": "markdown",
   "metadata": {},
   "source": [
    "# Testdaten - Neue Lebensmittel klassifizieren "
   ]
  },
  {
   "cell_type": "markdown",
   "metadata": {},
   "source": [
    "<div class=\"panel panel-success\">\n",
    "    <div class=\"panel-heading\">\n",
    "        <b> Eklärungtext - Ist der Baum gut? </b>\n",
    "    </div>\n",
    "    <div class=\"panel-body\">\n",
    "Hier kannst du Nährwerte von neuen Lebensmitteln eintragen und dann mit dem Entscheidungsbaum klassifizieren. \n",
    "\n",
    "<b></b>\n",
    "        \n",
    "**Achtung**: Statt dem Komma musst du beim eintragen der Zahlen einen Punkt verwenden. \n",
    "\n",
    "</div> \n"
   ]
  },
  {
   "cell_type": "code",
   "execution_count": null,
   "metadata": {
    "hide_input": true
   },
   "outputs": [],
   "source": [
    "def test_own(Name, Energie, Fett, gesättigteFettsäuren, Kohlenhydrate, Zucker, Eiweiß, Salz):\n",
    "    try:\n",
    "        test_lm = pd.Series(data = [float(Energie), float(Fett), float(gesättigteFettsäuren), float(Kohlenhydrate), \n",
    "                                    float(Zucker), float(Eiweiß), float(Salz)],\n",
    "                           index = df_lebensmittel.columns, \n",
    "                            name = Name)\n",
    "        print('Nährwerte von ' + Name)\n",
    "        display(test_lm)\n",
    "    \n",
    "        try:\n",
    "            print('Der Entscheidungsbaum klassifiziert das Lebensmittel ' + Name + ' als:')\n",
    "            display(tree_widget.result.query(test_lm))\n",
    "        except:\n",
    "            print('FEHLER')\n",
    "            print('Es wurde noch kein Entscheidungsbaum erstellt')\n",
    "            print('Lass weiter oben automatisch einen Entscheidungsbaum erstellen.')\n",
    "    \n",
    "    except:\n",
    "        print('FEHLER')\n",
    "        print('Eine Zahl unter den Nährwertangaben wurde nicht korrekt eingetragen.')\n",
    "        \n",
    "test_widget2 = interactive(test_own,{'manual': True, 'manual_name': 'Klassifiziere'}, \n",
    "                           Name = 'Name',\n",
    "                           Energie = '100.0',\n",
    "                           Fett = '5.0',\n",
    "                           gesättigteFettsäuren = '5.0',\n",
    "                           Kohlenhydrate = '5.0',\n",
    "                           Zucker = '5.0',\n",
    "                           Eiweiß = '5.0',\n",
    "                           Salz = '5.0') \n",
    "test_widget2"
   ]
  },
  {
   "cell_type": "code",
   "execution_count": null,
   "metadata": {},
   "outputs": [],
   "source": []
  },
  {
   "cell_type": "code",
   "execution_count": null,
   "metadata": {},
   "outputs": [],
   "source": []
  }
 ],
 "metadata": {
  "hide_input": false,
  "kernelspec": {
   "display_name": "Python 3 (ipykernel)",
   "language": "python",
   "name": "python3"
  },
  "language_info": {
   "codemirror_mode": {
    "name": "ipython",
    "version": 3
   },
   "file_extension": ".py",
   "mimetype": "text/x-python",
   "name": "python",
   "nbconvert_exporter": "python",
   "pygments_lexer": "ipython3",
   "version": "3.10.13"
  },
  "latex_envs": {
   "LaTeX_envs_menu_present": true,
   "autoclose": false,
   "autocomplete": true,
   "bibliofile": "biblio.bib",
   "cite_by": "apalike",
   "current_citInitial": 1,
   "eqLabelWithNumbers": true,
   "eqNumInitial": 1,
   "hotkeys": {
    "equation": "Ctrl-E",
    "itemize": "Ctrl-I"
   },
   "labels_anchors": false,
   "latex_user_defs": false,
   "report_style_numbering": false,
   "user_envs_cfg": false
  },
  "toc": {
   "base_numbering": 1,
   "nav_menu": {},
   "number_sections": true,
   "sideBar": true,
   "skip_h1_title": false,
   "title_cell": "Table of Contents",
   "title_sidebar": "Contents",
   "toc_cell": false,
   "toc_position": {
    "height": "calc(100% - 180px)",
    "left": "10px",
    "top": "150px",
    "width": "221px"
   },
   "toc_section_display": true,
   "toc_window_display": true
  },
  "varInspector": {
   "cols": {
    "lenName": 16,
    "lenType": 16,
    "lenVar": 40
   },
   "kernels_config": {
    "python": {
     "delete_cmd_postfix": "",
     "delete_cmd_prefix": "del ",
     "library": "var_list.py",
     "varRefreshCmd": "print(var_dic_list())"
    },
    "r": {
     "delete_cmd_postfix": ") ",
     "delete_cmd_prefix": "rm(",
     "library": "var_list.r",
     "varRefreshCmd": "cat(var_dic_list()) "
    }
   },
   "types_to_exclude": [
    "module",
    "function",
    "builtin_function_or_method",
    "instance",
    "_Feature"
   ],
   "window_display": false
  }
 },
 "nbformat": 4,
 "nbformat_minor": 2
}
