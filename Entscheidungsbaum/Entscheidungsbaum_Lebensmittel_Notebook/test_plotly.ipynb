{
 "cells": [
  {
   "cell_type": "code",
   "execution_count": 1,
   "id": "c5fec341",
   "metadata": {},
   "outputs": [
    {
     "data": {
      "text/html": [
       "        <script type=\"text/javascript\">\n",
       "        window.PlotlyConfig = {MathJaxConfig: 'local'};\n",
       "        if (window.MathJax && window.MathJax.Hub && window.MathJax.Hub.Config) {window.MathJax.Hub.Config({SVG: {font: \"STIX-Web\"}});}\n",
       "        if (typeof require !== 'undefined') {\n",
       "        require.undef(\"plotly\");\n",
       "        requirejs.config({\n",
       "            paths: {\n",
       "                'plotly': ['https://cdn.plot.ly/plotly-2.29.1.min']\n",
       "            }\n",
       "        });\n",
       "        require(['plotly'], function(Plotly) {\n",
       "            window._Plotly = Plotly;\n",
       "        });\n",
       "        }\n",
       "        </script>\n",
       "        "
      ]
     },
     "metadata": {},
     "output_type": "display_data"
    },
    {
     "data": {
      "text/html": [
       "        <script type=\"text/javascript\">\n",
       "        window.PlotlyConfig = {MathJaxConfig: 'local'};\n",
       "        if (window.MathJax && window.MathJax.Hub && window.MathJax.Hub.Config) {window.MathJax.Hub.Config({SVG: {font: \"STIX-Web\"}});}\n",
       "        if (typeof require !== 'undefined') {\n",
       "        require.undef(\"plotly\");\n",
       "        requirejs.config({\n",
       "            paths: {\n",
       "                'plotly': ['https://cdn.plot.ly/plotly-2.29.1.min']\n",
       "            }\n",
       "        });\n",
       "        require(['plotly'], function(Plotly) {\n",
       "            window._Plotly = Plotly;\n",
       "        });\n",
       "        }\n",
       "        </script>\n",
       "        "
      ]
     },
     "metadata": {},
     "output_type": "display_data"
    }
   ],
   "source": [
    "# Importing libraries\n",
    "import numpy as np\n",
    "import pandas as pd\n",
    "\n",
    "# plotly packages\n",
    "import plotly\n",
    "import cufflinks as cf\n",
    "from plotly.offline import download_plotlyjs, init_notebook_mode, plot, iplot\n",
    "\n",
    "init_notebook_mode(connected=True)\n",
    "cf.go_offline()"
   ]
  },
  {
   "cell_type": "code",
   "execution_count": 2,
   "id": "a1df37b8",
   "metadata": {},
   "outputs": [
    {
     "data": {
      "text/html": [
       "<div>\n",
       "<style scoped>\n",
       "    .dataframe tbody tr th:only-of-type {\n",
       "        vertical-align: middle;\n",
       "    }\n",
       "\n",
       "    .dataframe tbody tr th {\n",
       "        vertical-align: top;\n",
       "    }\n",
       "\n",
       "    .dataframe thead th {\n",
       "        text-align: right;\n",
       "    }\n",
       "</style>\n",
       "<table border=\"1\" class=\"dataframe\">\n",
       "  <thead>\n",
       "    <tr style=\"text-align: right;\">\n",
       "      <th></th>\n",
       "      <th>A</th>\n",
       "      <th>B</th>\n",
       "      <th>C</th>\n",
       "      <th>D</th>\n",
       "    </tr>\n",
       "  </thead>\n",
       "  <tbody>\n",
       "    <tr>\n",
       "      <th>0</th>\n",
       "      <td>-1.274424</td>\n",
       "      <td>-0.784187</td>\n",
       "      <td>-0.745124</td>\n",
       "      <td>2.003026</td>\n",
       "    </tr>\n",
       "    <tr>\n",
       "      <th>1</th>\n",
       "      <td>-1.160917</td>\n",
       "      <td>0.800959</td>\n",
       "      <td>-1.195569</td>\n",
       "      <td>-1.413647</td>\n",
       "    </tr>\n",
       "    <tr>\n",
       "      <th>2</th>\n",
       "      <td>1.420438</td>\n",
       "      <td>0.359129</td>\n",
       "      <td>-0.293947</td>\n",
       "      <td>0.656405</td>\n",
       "    </tr>\n",
       "    <tr>\n",
       "      <th>3</th>\n",
       "      <td>0.301628</td>\n",
       "      <td>-1.637196</td>\n",
       "      <td>-2.075651</td>\n",
       "      <td>-0.422059</td>\n",
       "    </tr>\n",
       "    <tr>\n",
       "      <th>4</th>\n",
       "      <td>-0.303574</td>\n",
       "      <td>-0.813781</td>\n",
       "      <td>-1.607356</td>\n",
       "      <td>0.166490</td>\n",
       "    </tr>\n",
       "  </tbody>\n",
       "</table>\n",
       "</div>"
      ],
      "text/plain": [
       "          A         B         C         D\n",
       "0 -1.274424 -0.784187 -0.745124  2.003026\n",
       "1 -1.160917  0.800959 -1.195569 -1.413647\n",
       "2  1.420438  0.359129 -0.293947  0.656405\n",
       "3  0.301628 -1.637196 -2.075651 -0.422059\n",
       "4 -0.303574 -0.813781 -1.607356  0.166490"
      ]
     },
     "execution_count": 2,
     "metadata": {},
     "output_type": "execute_result"
    }
   ],
   "source": [
    "# Let's create a random data with numpy\n",
    "df = pd.DataFrame(np.random.randn(200, 4), columns='A B C D'.split())\n",
    "\n",
    "# check the data once\n",
    "df.head()"
   ]
  },
  {
   "cell_type": "code",
   "execution_count": 3,
   "id": "745e6a73",
   "metadata": {},
   "outputs": [
    {
     "data": {
      "text/html": [
       "<div>\n",
       "<style scoped>\n",
       "    .dataframe tbody tr th:only-of-type {\n",
       "        vertical-align: middle;\n",
       "    }\n",
       "\n",
       "    .dataframe tbody tr th {\n",
       "        vertical-align: top;\n",
       "    }\n",
       "\n",
       "    .dataframe thead th {\n",
       "        text-align: right;\n",
       "    }\n",
       "</style>\n",
       "<table border=\"1\" class=\"dataframe\">\n",
       "  <thead>\n",
       "    <tr style=\"text-align: right;\">\n",
       "      <th></th>\n",
       "      <th>Category</th>\n",
       "      <th>Values</th>\n",
       "    </tr>\n",
       "  </thead>\n",
       "  <tbody>\n",
       "    <tr>\n",
       "      <th>0</th>\n",
       "      <td>A</td>\n",
       "      <td>32</td>\n",
       "    </tr>\n",
       "    <tr>\n",
       "      <th>1</th>\n",
       "      <td>B</td>\n",
       "      <td>50</td>\n",
       "    </tr>\n",
       "    <tr>\n",
       "      <th>2</th>\n",
       "      <td>C</td>\n",
       "      <td>42</td>\n",
       "    </tr>\n",
       "  </tbody>\n",
       "</table>\n",
       "</div>"
      ],
      "text/plain": [
       "  Category  Values\n",
       "0        A      32\n",
       "1        B      50\n",
       "2        C      42"
      ]
     },
     "execution_count": 3,
     "metadata": {},
     "output_type": "execute_result"
    }
   ],
   "source": [
    "# Let's create another data frame\n",
    "df2 = pd.DataFrame({'Category': ['A', 'B', 'C'], 'Values': [32, 50, 42]})\n",
    "df2.head()"
   ]
  },
  {
   "cell_type": "code",
   "execution_count": 4,
   "id": "ed980851",
   "metadata": {},
   "outputs": [
    {
     "data": {
      "text/plain": [
       "<Axes: >"
      ]
     },
     "execution_count": 4,
     "metadata": {},
     "output_type": "execute_result"
    },
    {
     "data": {
      "image/png": "[encoded data removed]",
      "text/plain": [
       "<Figure size 640x480 with 1 Axes>"
      ]
     },
     "metadata": {},
     "output_type": "display_data"
    }
   ],
   "source": [
    "df.plot()"
   ]
  },
  {
   "cell_type": "code",
   "execution_count": 5,
   "id": "c6787f63",
   "metadata": {},
   "outputs": [
    {
     "data": {
      "application/vnd.plotly.v1+json": {
       "config": {
        "linkText": "Export to plot.ly",
        "plotlyServerURL": "https://plot.ly",
        "showLink": true
       },
       "data": [
        {
         "line": {
          "color": "rgba(255, 153, 51, 1.0)",
          "dash": "solid",
          "shape": "linear",
          "width": 1.3
         },
         "mode": "lines",
         "name": "A",
         "text": "",
         "type": "scatter",
         "x": [
          0,
          1,
          2,
          3,
          4,
          5,
          6,
          7,
          8,
          9,
          10,
          11,
          12,
          13,
          14,
          15,
          16,
          17,
          18,
          19,
          20,
          21,
          22,
          23,
          24,
          25,
          26,
          27,
          28,
          29,
          30,
          31,
          32,
          33,
          34,
          35,
          36,
          37,
          38,
          39,
          40,
          41,
          42,
          43,
          44,
          45,
          46,
          47,
          48,
          49,
          50,
          51,
          52,
          53,
          54,
          55,
          56,
          57,
          58,
          59,
          60,
          61,
          62,
          63,
          64,
          65,
          66,
          67,
          68,
          69,
          70,
          71,
          72,
          73,
          74,
          75,
          76,
          77,
          78,
          79,
          80,
          81,
          82,
          83,
          84,
          85,
          86,
          87,
          88,
          89,
          90,
          91,
          92,
          93,
          94,
          95,
          96,
          97,
          98,
          99,
          100,
          101,
          102,
          103,
          104,
          105,
          106,
          107,
          108,
          109,
          110,
          111,
          112,
          113,
          114,
          115,
          116,
          117,
          118,
          119,
          120,
          121,
          122,
          123,
          124,
          125,
          126,
          127,
          128,
          129,
          130,
          131,
          132,
          133,
          134,
          135,
          136,
          137,
          138,
          139,
          140,
          141,
          142,
          143,
          144,
          145,
          146,
          147,
          148,
          149,
          150,
          151,
          152,
          153,
          154,
          155,
          156,
          157,
          158,
          159,
          160,
          161,
          162,
          163,
          164,
          165,
          166,
          167,
          168,
          169,
          170,
          171,
          172,
          173,
          174,
          175,
          176,
          177,
          178,
          179,
          180,
          181,
          182,
          183,
          184,
          185,
          186,
          187,
          188,
          189,
          190,
          191,
          192,
          193,
          194,
          195,
          196,
          197,
          198,
          199
         ],
         "y": [
          -1.27442414868139,
          -1.1609170527883417,
          1.4204384065706999,
          0.30162767483502906,
          -0.30357365164991607,
          -0.43282382543030656,
          0.35944573175417405,
          -0.4295187945193196,
          0.7620281690550206,
          -0.36893088009992153,
          1.1801685349273492,
          0.9088470986492464,
          -0.4464820580488011,
          0.553872530804751,
          -2.0857913695915515,
          -0.9242015828951299,
          0.8286955986732826,
          -1.4247622314751378,
          0.08843579140181713,
          0.3397102055430453,
          -0.4718844459217768,
          0.438731777545002,
          2.1862876755100915,
          1.4449232549446946,
          -0.5337234402711574,
          -1.5780243734361277,
          -0.1519508681620349,
          -0.33961733773040914,
          -0.34979568729960786,
          -0.20270335292931324,
          -0.218998054993648,
          -0.7357550618185167,
          0.37933073943218615,
          1.3869720218813224,
          1.2882944413717847,
          1.164518817325716,
          -2.4490023580782414,
          1.717326687030156,
          0.15099048757096017,
          2.643721451020964,
          -1.1950055851241006,
          -2.1741837953095775,
          -1.0914949863610013,
          0.5404548250368276,
          -0.851720544635452,
          0.3977349327425961,
          -0.13816632146110083,
          0.7789185011035422,
          -0.8347020306955291,
          1.0308341496898008,
          -2.6879201689959404,
          1.4419935501085068,
          1.2004809865819916,
          0.5264704215930576,
          0.21040572908680394,
          -0.6061349731963884,
          0.1224443685378313,
          0.8770471389493156,
          0.5694640641099016,
          -0.7462694410639408,
          0.6863760239959987,
          0.5027243411756473,
          -1.897263693447583,
          1.2176447800326728,
          0.0810915931493597,
          -0.9542604426994752,
          1.2665282947013128,
          -0.4513259554297812,
          1.5531617001295233,
          -0.8221211972329874,
          0.922073347480287,
          -2.101819072593588,
          0.4627675097267855,
          -0.18539299670362586,
          -1.544367262683224,
          -0.34987794061634664,
          0.5930509558217288,
          1.1209364383597173,
          -0.32687863886036883,
          -1.5801123892706,
          -0.2960327439414112,
          -2.1822455168390733,
          0.8228433635841862,
          -1.0562567691184752,
          0.1422965532146779,
          -0.347395354712389,
          -0.05673179291239016,
          -0.16796348760956062,
          0.3065524879558104,
          0.4746459135079892,
          0.414086270421272,
          -1.9145687457715863,
          -0.24274057420796188,
          -0.8431893163737985,
          -0.49976598706273523,
          0.07434811994979802,
          -1.7068900696272864,
          0.8923114834510971,
          -1.9328365673493935,
          0.881602633231934,
          0.4039405674615419,
          -1.080338344005075,
          0.6366188289993236,
          -1.123825580143212,
          -0.5764504195170491,
          0.9304295111101794,
          0.62033632944322,
          -0.12253634045679532,
          -0.9382744266208014,
          -1.5824764607829669,
          0.37763384799191796,
          -0.6259193070783746,
          0.9093178157884254,
          0.31426787385599597,
          1.30090619101618,
          0.8948420915857418,
          0.7965446210862713,
          1.1205627212559994,
          -0.9741567642404872,
          1.2042808601563262,
          -0.6622663412695803,
          1.6729179856963443,
          -0.2719078311775953,
          1.1778159837116802,
          2.9990295834839737,
          -0.013578953688290565,
          0.07804066172168907,
          -0.8836725978212442,
          -0.7631925578814764,
          0.7310233671491799,
          0.38003494225754925,
          -0.1972454027597303,
          0.2630754261733895,
          -0.3818491965844399,
          0.49858585104651515,
          -0.5748238819082675,
          1.311922396267592,
          1.1257269045380298,
          0.78436278385626,
          -3.4493096899847764,
          0.823503484988869,
          -0.9118299820991497,
          1.1148610422886407,
          -0.4018004907074332,
          1.5965803487649912,
          -1.172660939298633,
          0.21534686913617163,
          0.32381486995187436,
          -0.48031947962522925,
          -0.9915831115612561,
          0.5743189760584034,
          1.3364528838768974,
          1.7184385811408116,
          0.8060306468627223,
          -0.1592831022441935,
          0.030413962435704718,
          0.4908581995328669,
          0.6926457462176457,
          0.7006117833376474,
          0.6254803836222584,
          -1.3521915809737919,
          1.0035711819933097,
          1.0991429054786748,
          -0.9501221247227347,
          0.37846812126768914,
          0.14018710012217417,
          -0.25002020205734365,
          -0.1940477459392332,
          0.9854223212780376,
          -0.048576601317167956,
          -1.6391949346868622,
          -0.5029522774006342,
          0.22454299260340901,
          -1.0437006377654168,
          -1.8432393820759239,
          1.4860543529988446,
          0.25925639242317694,
          -1.9011015915445786,
          1.530822152582684,
          -1.287798880976896,
          0.09969856459150653,
          1.8104490239397535,
          -0.011981171581963636,
          -0.6132088476260764,
          -0.7653711233891518,
          -0.5924127620864292,
          0.545014645700061,
          0.22297985137541332,
          -0.060651291628222304,
          -0.4381689468241831,
          0.5688489172127433,
          -1.142071268760698,
          -0.176396482666839,
          0.08023926729180372,
          -0.5604174421322821,
          -1.239735247913459,
          -0.33901356026669116,
          1.5170482579898217,
          0.5340910179666206,
          -0.15520151684010544
         ]
        },
        {
         "line": {
          "color": "rgba(55, 128, 191, 1.0)",
          "dash": "solid",
          "shape": "linear",
          "width": 1.3
         },
         "mode": "lines",
         "name": "B",
         "text": "",
         "type": "scatter",
         "x": [
          0,
          1,
          2,
          3,
          4,
          5,
          6,
          7,
          8,
          9,
          10,
          11,
          12,
          13,
          14,
          15,
          16,
          17,
          18,
          19,
          20,
          21,
          22,
          23,
          24,
          25,
          26,
          27,
          28,
          29,
          30,
          31,
          32,
          33,
          34,
          35,
          36,
          37,
          38,
          39,
          40,
          41,
          42,
          43,
          44,
          45,
          46,
          47,
          48,
          49,
          50,
          51,
          52,
          53,
          54,
          55,
          56,
          57,
          58,
          59,
          60,
          61,
          62,
          63,
          64,
          65,
          66,
          67,
          68,
          69,
          70,
          71,
          72,
          73,
          74,
          75,
          76,
          77,
          78,
          79,
          80,
          81,
          82,
          83,
          84,
          85,
          86,
          87,
          88,
          89,
          90,
          91,
          92,
          93,
          94,
          95,
          96,
          97,
          98,
          99,
          100,
          101,
          102,
          103,
          104,
          105,
          106,
          107,
          108,
          109,
          110,
          111,
          112,
          113,
          114,
          115,
          116,
          117,
          118,
          119,
          120,
          121,
          122,
          123,
          124,
          125,
          126,
          127,
          128,
          129,
          130,
          131,
          132,
          133,
          134,
          135,
          136,
          137,
          138,
          139,
          140,
          141,
          142,
          143,
          144,
          145,
          146,
          147,
          148,
          149,
          150,
          151,
          152,
          153,
          154,
          155,
          156,
          157,
          158,
          159,
          160,
          161,
          162,
          163,
          164,
          165,
          166,
          167,
          168,
          169,
          170,
          171,
          172,
          173,
          174,
          175,
          176,
          177,
          178,
          179,
          180,
          181,
          182,
          183,
          184,
          185,
          186,
          187,
          188,
          189,
          190,
          191,
          192,
          193,
          194,
          195,
          196,
          197,
          198,
          199
         ],
         "y": [
          -0.7841873731032164,
          0.8009585373301631,
          0.35912853577353376,
          -1.637195716260306,
          -0.8137811076804987,
          -1.5227093746524163,
          0.4751275891103972,
          2.2545227910285908,
          0.7473432467633813,
          -0.0901371083933123,
          0.08216878516264149,
          0.03891768747524125,
          -0.6870317590438287,
          0.20504978351576747,
          0.5005382633217199,
          0.517544627241533,
          -0.24681313433744986,
          -2.383066489872815,
          0.5875004212220813,
          1.1689428893134048,
          0.3159824979968826,
          0.8109765346855754,
          -2.523963431763149,
          0.28680741153841166,
          -0.6408225842363205,
          -0.9529700469656066,
          1.3652897274160092,
          1.0855465754059288,
          1.6066488236057124,
          -0.25653723324223743,
          1.6168868811283659,
          -1.271198406124969,
          0.16419298767304497,
          -0.44055447193845454,
          1.6015710298078216,
          -0.1430471347068909,
          0.9021535135953612,
          -1.0654109959325517,
          -0.9573982337686631,
          -1.1509421729320508,
          1.4697619893275924,
          0.3080910683563194,
          0.34511775412920676,
          -0.7110627505630052,
          0.7849974915348057,
          -0.24913985307064287,
          0.3695712565487848,
          -0.025544582206336392,
          0.5208609434089886,
          1.4084249762201595,
          -0.646728268539339,
          -0.5591495014109272,
          0.9790098936253699,
          -1.8776359953570707,
          -0.7511662975548304,
          1.1714326150925705,
          -0.4878334653413618,
          -1.1494861577769524,
          0.569878045508007,
          0.3508330540741481,
          -2.1549446511743904,
          0.062224330454202816,
          -2.532303388811436,
          0.16170368219037676,
          1.022090987720601,
          -0.4853797074782747,
          -1.4600886625847485,
          0.8483201880848096,
          -0.7680224867467416,
          0.8411693873777162,
          1.2824808863764259,
          -1.8061919418620977,
          0.09137783215605681,
          -1.4620833596602718,
          -0.07848184318174757,
          0.47869786951510584,
          1.2420644860880887,
          -1.3790116297472326,
          0.04605185255988004,
          -0.9956482280826694,
          -0.41713473804017825,
          0.7955018538018513,
          -1.7541914164224715,
          0.392966983382578,
          0.3048172512285247,
          -0.13268388072045006,
          -0.8038991057544754,
          -1.1416160001450917,
          -0.11886838653908616,
          0.17936663075068002,
          0.17629657019186099,
          0.3066106161541487,
          -0.2844822363415588,
          0.9921496878814966,
          -0.008728570693844402,
          0.3104119671105906,
          -1.3807410132916695,
          -1.550227459644481,
          -0.10179452643570254,
          -1.0156608608518538,
          1.0809316001014524,
          -3.4962140811267424,
          -0.14787738829714217,
          0.5466841401784719,
          -1.3248703064832819,
          0.6910275438636189,
          -0.5574452186770643,
          -0.13172419661459317,
          0.09248447549404408,
          0.8703049149852213,
          -0.7043391966981806,
          -0.09582990925817221,
          -0.14793567358010387,
          0.6922284187198288,
          -0.5015413680449421,
          0.11724375675455015,
          -0.5099951786176544,
          0.020341742230200337,
          0.6194723400543806,
          0.5012608057134346,
          -0.2539959444675535,
          0.5946303928236549,
          -1.684542764665536,
          0.2856960597546895,
          -0.7551981884103172,
          1.1810914139019497,
          -0.4612300085417507,
          -0.8011044991933414,
          2.2010550099678396,
          -1.1273604826554544,
          0.12270031566110878,
          2.553753351262337,
          2.3455129839372497,
          -1.2397472425429215,
          -0.3084980598514235,
          -0.6331485474132121,
          1.023554085823823,
          -1.0118812842747593,
          1.4004279080089916,
          0.33285450515325643,
          -0.6585065666698331,
          -0.06920622752256632,
          -0.10671989929459834,
          -0.059470381778092246,
          1.0955401637840054,
          -0.6273777372581278,
          0.5417734176222998,
          -0.21726753451384984,
          0.8784488922468059,
          0.6263683248135469,
          0.40392706845810256,
          2.3743615220641234,
          0.12272226362846327,
          -1.5165782097893545,
          1.6962009821975579,
          0.09106946275585416,
          -0.04379440227037618,
          0.477984930942629,
          -0.6411060835944705,
          -0.9240012386292931,
          1.0903521034665071,
          0.17601535513615452,
          -0.0914772558090765,
          0.34801756797515043,
          0.9865315012788557,
          -0.4254256724577614,
          0.30882503639436015,
          -1.224394728762868,
          -1.3181991310498655,
          -2.0909288448739924,
          0.33455003616213325,
          -0.570187723119425,
          0.014772275605977832,
          1.8224758207639304,
          -3.899681913426114,
          -0.12855490995748825,
          -0.4261877059462865,
          -1.8074095259400136,
          0.14105630079118756,
          -0.09328064443875779,
          0.02811094135377943,
          0.27475451156349023,
          -0.6630912987700992,
          -0.8428644564317997,
          -1.0281105956544458,
          -0.9668741126177827,
          -1.0388428881503668,
          -0.19847402630435346,
          0.37966060222790005,
          1.5122838319216265,
          0.2441844016365175,
          -0.9316333337569899,
          -1.0963997464511164,
          1.2759593524505086,
          0.9179271660848308,
          -0.4887846682012247,
          1.2188263078848585,
          -1.3066449847357786,
          0.09517390800784178,
          0.8525394438154805
         ]
        },
        {
         "line": {
          "color": "rgba(50, 171, 96, 1.0)",
          "dash": "solid",
          "shape": "linear",
          "width": 1.3
         },
         "mode": "lines",
         "name": "C",
         "text": "",
         "type": "scatter",
         "x": [
          0,
          1,
          2,
          3,
          4,
          5,
          6,
          7,
          8,
          9,
          10,
          11,
          12,
          13,
          14,
          15,
          16,
          17,
          18,
          19,
          20,
          21,
          22,
          23,
          24,
          25,
          26,
          27,
          28,
          29,
          30,
          31,
          32,
          33,
          34,
          35,
          36,
          37,
          38,
          39,
          40,
          41,
          42,
          43,
          44,
          45,
          46,
          47,
          48,
          49,
          50,
          51,
          52,
          53,
          54,
          55,
          56,
          57,
          58,
          59,
          60,
          61,
          62,
          63,
          64,
          65,
          66,
          67,
          68,
          69,
          70,
          71,
          72,
          73,
          74,
          75,
          76,
          77,
          78,
          79,
          80,
          81,
          82,
          83,
          84,
          85,
          86,
          87,
          88,
          89,
          90,
          91,
          92,
          93,
          94,
          95,
          96,
          97,
          98,
          99,
          100,
          101,
          102,
          103,
          104,
          105,
          106,
          107,
          108,
          109,
          110,
          111,
          112,
          113,
          114,
          115,
          116,
          117,
          118,
          119,
          120,
          121,
          122,
          123,
          124,
          125,
          126,
          127,
          128,
          129,
          130,
          131,
          132,
          133,
          134,
          135,
          136,
          137,
          138,
          139,
          140,
          141,
          142,
          143,
          144,
          145,
          146,
          147,
          148,
          149,
          150,
          151,
          152,
          153,
          154,
          155,
          156,
          157,
          158,
          159,
          160,
          161,
          162,
          163,
          164,
          165,
          166,
          167,
          168,
          169,
          170,
          171,
          172,
          173,
          174,
          175,
          176,
          177,
          178,
          179,
          180,
          181,
          182,
          183,
          184,
          185,
          186,
          187,
          188,
          189,
          190,
          191,
          192,
          193,
          194,
          195,
          196,
          197,
          198,
          199
         ],
         "y": [
          -0.7451235867297168,
          -1.1955686699696881,
          -0.2939467885563826,
          -2.0756509408919266,
          -1.607355913485765,
          -1.0921603480166824,
          1.0933102217414903,
          0.4210018355970237,
          0.35482489768800596,
          0.21599132214183409,
          -0.3727027467378601,
          -1.1760705131296232,
          0.24864543562303917,
          2.1407415071348455,
          0.11471396604870476,
          -0.0032073830492580935,
          -0.011615091239016731,
          0.17693178142257202,
          -1.220974421043912,
          0.24289167831444672,
          0.37810650500646864,
          -0.5707921986181675,
          0.08050864553118782,
          1.0387965601542877,
          0.5336667514795561,
          0.5182474884173991,
          -0.10137646334497452,
          -0.6886362210657055,
          0.6164094488250487,
          0.40632743065222765,
          1.7605778400072114,
          -0.31361494300997483,
          0.07326693489329357,
          1.2113136261711082,
          1.2928936009785021,
          -0.7788307041494695,
          -0.957879675727847,
          -0.26100200810214524,
          -1.767761468988899,
          0.7106019304709466,
          -0.16241396307401199,
          1.3051688091547526,
          -1.556330642447899,
          -0.14609994597409257,
          -0.26467564966519386,
          0.24709238304725042,
          0.3929743406913871,
          -0.4383237060247371,
          0.7936178742825255,
          0.10511047354266721,
          1.2415210560992878,
          1.3788011266190987,
          0.0029274439520690036,
          -0.30613171126329136,
          1.5815832506049148,
          -0.4783357982597435,
          1.299595957934262,
          0.20224134001377359,
          0.44208663303865964,
          -0.6680572953561592,
          -1.0314723791324854,
          -0.763406833361337,
          -0.3951027614086557,
          0.08588834358847751,
          -0.2110336190175659,
          1.297517498133667,
          1.3827819870750524,
          0.6495968152138355,
          -0.19101413043547513,
          -1.0842754010760798,
          0.8565514726875874,
          2.235856652385455,
          -0.7046478078790129,
          -1.488632268088666,
          2.0077428696458144,
          0.5492009500687556,
          -0.9040952030969441,
          -0.7087265934719447,
          0.904242615308091,
          0.6277386125566697,
          -0.26973917927262353,
          0.998458725633575,
          1.6845011820041726,
          -2.0961144562195058,
          0.1834175933395618,
          0.4349975586667109,
          -0.15049222783236163,
          -0.21593056967009397,
          -1.5501896437226372,
          -1.9354452676155236,
          0.735864226796376,
          -1.3557814989572885,
          0.14560714092864274,
          -0.40957450682397717,
          -1.4066042714607583,
          -0.9424973304433376,
          -0.16708194289440564,
          -2.481631066421222,
          0.5914132229346868,
          0.13795798549594857,
          -1.1557416189316598,
          -0.13712444720065184,
          0.358595247071446,
          0.22848458714194586,
          -0.33073312514014536,
          -0.05761480159079845,
          0.8663554215386435,
          0.23946966913085765,
          2.541887332824834,
          0.8702219694512845,
          0.46828070175046027,
          0.9875930411424152,
          -2.362875749650584,
          -0.45667442616930687,
          -1.9699866824919696,
          -0.4135314666630936,
          1.7531878269179546,
          -0.5352549237849259,
          -0.11151214841045058,
          -0.19418087839398643,
          -2.069056395982831,
          -0.5519026915671789,
          -0.7312116159720846,
          0.6389487695581961,
          -1.102449346629286,
          -0.3763573899782562,
          0.2844046318173398,
          -1.6282117488715149,
          2.531572599198845,
          0.594418087881513,
          -0.22408788054058212,
          -0.2012402122446277,
          -0.04305768224808741,
          -0.20658582352287858,
          0.49339648107268147,
          -1.8040692453836586,
          -0.7682147894764115,
          0.2033756676976682,
          -1.077133130998132,
          -0.7444351488399475,
          1.5101274713580568,
          1.5107973690260816,
          1.3588087131913444,
          -0.41961806430212495,
          0.8768205135267582,
          -0.6873593372051974,
          0.8513270167737975,
          1.019224362759461,
          0.9476362629744944,
          -0.334402719667732,
          0.8300188619400811,
          0.5594379992866956,
          -0.6460998642517354,
          -1.5671437724692945,
          0.20364655888064245,
          -1.1484039682478175,
          -0.2615236536321921,
          0.8173325785319258,
          -0.6154148905540132,
          -1.3022170279604846,
          -0.7716180951521623,
          0.14138335661682203,
          -0.705085290608851,
          0.628991087781264,
          -1.9902729391720042,
          0.15536155918974054,
          -1.4272970284308142,
          -0.20006953788683082,
          0.6249005088307628,
          0.2686096573609924,
          0.7650679564813736,
          -0.40806058554433094,
          0.07584050979703787,
          -0.059268330254935046,
          -0.6313778982938051,
          0.3852345574782492,
          1.3225380338895025,
          0.7493404639302352,
          -0.6802300111262363,
          -0.8537175533921844,
          1.7776614368882422,
          0.11545001368604886,
          0.736661636392919,
          0.41899350385771117,
          0.5069743789877529,
          -1.5732903145627166,
          0.29869812424313696,
          0.9247537721379803,
          0.9099891953029412,
          -0.9973546458892067,
          -0.743725685466044,
          -2.126488679704086,
          -1.579047571168278,
          -0.3469434427648132,
          -0.0423066646486899,
          -0.38086836064381824,
          -0.9547969488945806,
          -0.7216545341718141,
          0.12854777284244365,
          -0.9721017137576767
         ]
        },
        {
         "line": {
          "color": "rgba(128, 0, 128, 1.0)",
          "dash": "solid",
          "shape": "linear",
          "width": 1.3
         },
         "mode": "lines",
         "name": "D",
         "text": "",
         "type": "scatter",
         "x": [
          0,
          1,
          2,
          3,
          4,
          5,
          6,
          7,
          8,
          9,
          10,
          11,
          12,
          13,
          14,
          15,
          16,
          17,
          18,
          19,
          20,
          21,
          22,
          23,
          24,
          25,
          26,
          27,
          28,
          29,
          30,
          31,
          32,
          33,
          34,
          35,
          36,
          37,
          38,
          39,
          40,
          41,
          42,
          43,
          44,
          45,
          46,
          47,
          48,
          49,
          50,
          51,
          52,
          53,
          54,
          55,
          56,
          57,
          58,
          59,
          60,
          61,
          62,
          63,
          64,
          65,
          66,
          67,
          68,
          69,
          70,
          71,
          72,
          73,
          74,
          75,
          76,
          77,
          78,
          79,
          80,
          81,
          82,
          83,
          84,
          85,
          86,
          87,
          88,
          89,
          90,
          91,
          92,
          93,
          94,
          95,
          96,
          97,
          98,
          99,
          100,
          101,
          102,
          103,
          104,
          105,
          106,
          107,
          108,
          109,
          110,
          111,
          112,
          113,
          114,
          115,
          116,
          117,
          118,
          119,
          120,
          121,
          122,
          123,
          124,
          125,
          126,
          127,
          128,
          129,
          130,
          131,
          132,
          133,
          134,
          135,
          136,
          137,
          138,
          139,
          140,
          141,
          142,
          143,
          144,
          145,
          146,
          147,
          148,
          149,
          150,
          151,
          152,
          153,
          154,
          155,
          156,
          157,
          158,
          159,
          160,
          161,
          162,
          163,
          164,
          165,
          166,
          167,
          168,
          169,
          170,
          171,
          172,
          173,
          174,
          175,
          176,
          177,
          178,
          179,
          180,
          181,
          182,
          183,
          184,
          185,
          186,
          187,
          188,
          189,
          190,
          191,
          192,
          193,
          194,
          195,
          196,
          197,
          198,
          199
         ],
         "y": [
          2.0030258818887328,
          -1.4136466855959138,
          0.6564045835199115,
          -0.4220591711411824,
          0.16648985363655902,
          -0.1378736397001633,
          1.401540163158697,
          0.6246234683722959,
          -0.9855335343051977,
          1.0757061726341477,
          -1.3009249150278368,
          0.1573172564309409,
          -2.85277651019679,
          1.0864056619199085,
          0.8515205443486634,
          -0.22651896725135215,
          0.8424828204959846,
          0.5585522569275791,
          1.375772796582309,
          -2.9312695374449254,
          -0.2920894005583238,
          -0.6498317274971565,
          -0.08562160540888065,
          1.6404037945839918,
          -0.2390289523816484,
          -0.07964560512589922,
          0.040899561064985705,
          -0.8238118174473738,
          0.8411625210458964,
          0.7700266357305832,
          0.32650491504434437,
          -1.4580968448167524,
          -0.5503633734270682,
          1.034614684877748,
          -0.3056093982577727,
          -0.49306543863461394,
          0.5796479191366094,
          0.16236235771824503,
          1.0860259864934942,
          1.4653514200111877,
          -1.4282617676249585,
          0.3569299533657053,
          1.3543296145684565,
          -0.8235823972823885,
          -0.21390376306728112,
          -2.401423292195934,
          0.44604460763592335,
          -1.3260109772599953,
          0.520819007929613,
          -1.077494790925445,
          -0.2559005838984762,
          -0.4784788134316607,
          -1.8777114072202377,
          1.1776939430774762,
          0.1647867858102365,
          0.6026010864266305,
          0.13306301139631008,
          0.29608788492574856,
          -0.1578698722401196,
          0.16742450991106142,
          -0.41022371105391986,
          -0.5319447895401832,
          -0.4596731767362752,
          0.5672081972089782,
          -0.27710750483323043,
          0.11974737415744138,
          -0.1284330264803782,
          2.0416627105413,
          -0.17145004728347266,
          0.2140050520527466,
          0.11110330525391891,
          2.210370120982104,
          1.7762778595804591,
          -2.2856601471349864,
          1.2033674261246055,
          1.3810302631313915,
          -0.24464142577004797,
          -0.6949996870087805,
          0.8665080979670783,
          -1.0797708621066435,
          0.5882884868624466,
          1.9315132737425738,
          2.1657166580010214,
          -0.6146683003174404,
          0.26532612565797303,
          0.2849473718247751,
          0.36051877619576383,
          1.018127618141426,
          1.2821944357906496,
          2.1275405113251247,
          -0.14976200528582648,
          -1.7712964861611271,
          0.11451384403981997,
          -0.03477566360502154,
          0.43769822899189403,
          0.2499936182821847,
          -1.2828319260824979,
          1.3239450854845776,
          0.15610201698244547,
          -1.4406046125056302,
          -1.696067159696782,
          -0.07088972727627718,
          -1.1571753315046047,
          0.12530665368091995,
          0.2786726369166015,
          -0.8000769260464361,
          -1.0464726314510087,
          -0.43083317282624434,
          1.9556463022096342,
          -0.823074358021752,
          0.8564273626909026,
          0.9877688360056043,
          -1.1260216158333907,
          -1.2322400437216399,
          -2.6860534585102287,
          -0.544120349484271,
          -0.10502864991995285,
          0.4699456638206322,
          0.5096799628729667,
          0.9373174464467943,
          -1.698976743450642,
          1.3165920896407985,
          -0.5814032073059362,
          0.313764106218215,
          0.9397628930564,
          0.5079448486506414,
          0.572550034517393,
          0.4467430622181385,
          -0.5651579883103968,
          0.6404995816952691,
          -1.8423296066982549,
          -1.1861231943659754,
          0.8771242108290745,
          0.7417220689095076,
          1.342842181908818,
          -0.060641211109566114,
          -0.47298388006640224,
          -1.2779500186854422,
          -0.7070679104777015,
          1.5611290459810478,
          -1.5349311099553336,
          1.0233202000109156,
          -1.231413676251317,
          -1.212690029730496,
          0.4522850293654489,
          -1.4559968362515723,
          0.9683428549978277,
          -0.6986935075177241,
          -0.5389983025437711,
          0.022381940374019894,
          0.7634910247269951,
          0.22010297327535702,
          -1.4514887513373056,
          0.3687970658466834,
          1.7821724825761935,
          1.104048241565006,
          -1.0240418357368626,
          0.32480093161741114,
          -0.7846820003199033,
          0.8830724851769403,
          0.8954065376679364,
          -0.22882907913527245,
          0.008219468096646497,
          -2.2768470658505437,
          0.7295090579831802,
          0.06532945543142848,
          0.9560862471316254,
          -0.09166903652242839,
          -0.019002054901877747,
          -0.02674383217506475,
          1.0206789391985986,
          0.6998732205096144,
          0.2547865342108149,
          -0.6868432532994085,
          -0.2534596555816261,
          -1.5567773028934746,
          1.4728302079479154,
          -1.9417634859270636,
          0.24517559950750248,
          0.9158681066156932,
          -0.9244693001390847,
          -0.49318621324007655,
          -0.7747791658785754,
          -0.593393632972863,
          2.431320405670487,
          -0.3092913195176709,
          -1.2250168919830717,
          -0.8593492374283505,
          -1.1810216076070843,
          1.6448010102772075,
          -1.23880431919338,
          -0.00014517840730945012,
          -1.4722293066953307,
          1.5654459442959827,
          0.2153361633781894,
          -1.7222548810210994,
          0.8974250057846401,
          -0.9654662912320866,
          -0.7467832913507298,
          -1.650933765993046
         ]
        }
       ],
       "layout": {
        "legend": {
         "bgcolor": "#F5F6F9",
         "font": {
          "color": "#4D5663"
         }
        },
        "paper_bgcolor": "#F5F6F9",
        "plot_bgcolor": "#F5F6F9",
        "template": {
         "data": {
          "bar": [
           {
            "error_x": {
             "color": "#2a3f5f"
            },
            "error_y": {
             "color": "#2a3f5f"
            },
            "marker": {
             "line": {
              "color": "#E5ECF6",
              "width": 0.5
             },
             "pattern": {
              "fillmode": "overlay",
              "size": 10,
              "solidity": 0.2
             }
            },
            "type": "bar"
           }
          ],
          "barpolar": [
           {
            "marker": {
             "line": {
              "color": "#E5ECF6",
              "width": 0.5
             },
             "pattern": {
              "fillmode": "overlay",
              "size": 10,
              "solidity": 0.2
             }
            },
            "type": "barpolar"
           }
          ],
          "carpet": [
           {
            "aaxis": {
             "endlinecolor": "#2a3f5f",
             "gridcolor": "white",
             "linecolor": "white",
             "minorgridcolor": "white",
             "startlinecolor": "#2a3f5f"
            },
            "baxis": {
             "endlinecolor": "#2a3f5f",
             "gridcolor": "white",
             "linecolor": "white",
             "minorgridcolor": "white",
             "startlinecolor": "#2a3f5f"
            },
            "type": "carpet"
           }
          ],
          "choropleth": [
           {
            "colorbar": {
             "outlinewidth": 0,
             "ticks": ""
            },
            "type": "choropleth"
           }
          ],
          "contour": [
           {
            "colorbar": {
             "outlinewidth": 0,
             "ticks": ""
            },
            "colorscale": [
             [
              0,
              "#0d0887"
             ],
             [
              0.1111111111111111,
              "#46039f"
             ],
             [
              0.2222222222222222,
              "#7201a8"
             ],
             [
              0.3333333333333333,
              "#9c179e"
             ],
             [
              0.4444444444444444,
              "#bd3786"
             ],
             [
              0.5555555555555556,
              "#d8576b"
             ],
             [
              0.6666666666666666,
              "#ed7953"
             ],
             [
              0.7777777777777778,
              "#fb9f3a"
             ],
             [
              0.8888888888888888,
              "#fdca26"
             ],
             [
              1,
              "#f0f921"
             ]
            ],
            "type": "contour"
           }
          ],
          "contourcarpet": [
           {
            "colorbar": {
             "outlinewidth": 0,
             "ticks": ""
            },
            "type": "contourcarpet"
           }
          ],
          "heatmap": [
           {
            "colorbar": {
             "outlinewidth": 0,
             "ticks": ""
            },
            "colorscale": [
             [
              0,
              "#0d0887"
             ],
             [
              0.1111111111111111,
              "#46039f"
             ],
             [
              0.2222222222222222,
              "#7201a8"
             ],
             [
              0.3333333333333333,
              "#9c179e"
             ],
             [
              0.4444444444444444,
              "#bd3786"
             ],
             [
              0.5555555555555556,
              "#d8576b"
             ],
             [
              0.6666666666666666,
              "#ed7953"
             ],
             [
              0.7777777777777778,
              "#fb9f3a"
             ],
             [
              0.8888888888888888,
              "#fdca26"
             ],
             [
              1,
              "#f0f921"
             ]
            ],
            "type": "heatmap"
           }
          ],
          "heatmapgl": [
           {
            "colorbar": {
             "outlinewidth": 0,
             "ticks": ""
            },
            "colorscale": [
             [
              0,
              "#0d0887"
             ],
             [
              0.1111111111111111,
              "#46039f"
             ],
             [
              0.2222222222222222,
              "#7201a8"
             ],
             [
              0.3333333333333333,
              "#9c179e"
             ],
             [
              0.4444444444444444,
              "#bd3786"
             ],
             [
              0.5555555555555556,
              "#d8576b"
             ],
             [
              0.6666666666666666,
              "#ed7953"
             ],
             [
              0.7777777777777778,
              "#fb9f3a"
             ],
             [
              0.8888888888888888,
              "#fdca26"
             ],
             [
              1,
              "#f0f921"
             ]
            ],
            "type": "heatmapgl"
           }
          ],
          "histogram": [
           {
            "marker": {
             "pattern": {
              "fillmode": "overlay",
              "size": 10,
              "solidity": 0.2
             }
            },
            "type": "histogram"
           }
          ],
          "histogram2d": [
           {
            "colorbar": {
             "outlinewidth": 0,
             "ticks": ""
            },
            "colorscale": [
             [
              0,
              "#0d0887"
             ],
             [
              0.1111111111111111,
              "#46039f"
             ],
             [
              0.2222222222222222,
              "#7201a8"
             ],
             [
              0.3333333333333333,
              "#9c179e"
             ],
             [
              0.4444444444444444,
              "#bd3786"
             ],
             [
              0.5555555555555556,
              "#d8576b"
             ],
             [
              0.6666666666666666,
              "#ed7953"
             ],
             [
              0.7777777777777778,
              "#fb9f3a"
             ],
             [
              0.8888888888888888,
              "#fdca26"
             ],
             [
              1,
              "#f0f921"
             ]
            ],
            "type": "histogram2d"
           }
          ],
          "histogram2dcontour": [
           {
            "colorbar": {
             "outlinewidth": 0,
             "ticks": ""
            },
            "colorscale": [
             [
              0,
              "#0d0887"
             ],
             [
              0.1111111111111111,
              "#46039f"
             ],
             [
              0.2222222222222222,
              "#7201a8"
             ],
             [
              0.3333333333333333,
              "#9c179e"
             ],
             [
              0.4444444444444444,
              "#bd3786"
             ],
             [
              0.5555555555555556,
              "#d8576b"
             ],
             [
              0.6666666666666666,
              "#ed7953"
             ],
             [
              0.7777777777777778,
              "#fb9f3a"
             ],
             [
              0.8888888888888888,
              "#fdca26"
             ],
             [
              1,
              "#f0f921"
             ]
            ],
            "type": "histogram2dcontour"
           }
          ],
          "mesh3d": [
           {
            "colorbar": {
             "outlinewidth": 0,
             "ticks": ""
            },
            "type": "mesh3d"
           }
          ],
          "parcoords": [
           {
            "line": {
             "colorbar": {
              "outlinewidth": 0,
              "ticks": ""
             }
            },
            "type": "parcoords"
           }
          ],
          "pie": [
           {
            "automargin": true,
            "type": "pie"
           }
          ],
          "scatter": [
           {
            "fillpattern": {
             "fillmode": "overlay",
             "size": 10,
             "solidity": 0.2
            },
            "type": "scatter"
           }
          ],
          "scatter3d": [
           {
            "line": {
             "colorbar": {
              "outlinewidth": 0,
              "ticks": ""
             }
            },
            "marker": {
             "colorbar": {
              "outlinewidth": 0,
              "ticks": ""
             }
            },
            "type": "scatter3d"
           }
          ],
          "scattercarpet": [
           {
            "marker": {
             "colorbar": {
              "outlinewidth": 0,
              "ticks": ""
             }
            },
            "type": "scattercarpet"
           }
          ],
          "scattergeo": [
           {
            "marker": {
             "colorbar": {
              "outlinewidth": 0,
              "ticks": ""
             }
            },
            "type": "scattergeo"
           }
          ],
          "scattergl": [
           {
            "marker": {
             "colorbar": {
              "outlinewidth": 0,
              "ticks": ""
             }
            },
            "type": "scattergl"
           }
          ],
          "scattermapbox": [
           {
            "marker": {
             "colorbar": {
              "outlinewidth": 0,
              "ticks": ""
             }
            },
            "type": "scattermapbox"
           }
          ],
          "scatterpolar": [
           {
            "marker": {
             "colorbar": {
              "outlinewidth": 0,
              "ticks": ""
             }
            },
            "type": "scatterpolar"
           }
          ],
          "scatterpolargl": [
           {
            "marker": {
             "colorbar": {
              "outlinewidth": 0,
              "ticks": ""
             }
            },
            "type": "scatterpolargl"
           }
          ],
          "scatterternary": [
           {
            "marker": {
             "colorbar": {
              "outlinewidth": 0,
              "ticks": ""
             }
            },
            "type": "scatterternary"
           }
          ],
          "surface": [
           {
            "colorbar": {
             "outlinewidth": 0,
             "ticks": ""
            },
            "colorscale": [
             [
              0,
              "#0d0887"
             ],
             [
              0.1111111111111111,
              "#46039f"
             ],
             [
              0.2222222222222222,
              "#7201a8"
             ],
             [
              0.3333333333333333,
              "#9c179e"
             ],
             [
              0.4444444444444444,
              "#bd3786"
             ],
             [
              0.5555555555555556,
              "#d8576b"
             ],
             [
              0.6666666666666666,
              "#ed7953"
             ],
             [
              0.7777777777777778,
              "#fb9f3a"
             ],
             [
              0.8888888888888888,
              "#fdca26"
             ],
             [
              1,
              "#f0f921"
             ]
            ],
            "type": "surface"
           }
          ],
          "table": [
           {
            "cells": {
             "fill": {
              "color": "#EBF0F8"
             },
             "line": {
              "color": "white"
             }
            },
            "header": {
             "fill": {
              "color": "#C8D4E3"
             },
             "line": {
              "color": "white"
             }
            },
            "type": "table"
           }
          ]
         },
         "layout": {
          "annotationdefaults": {
           "arrowcolor": "#2a3f5f",
           "arrowhead": 0,
           "arrowwidth": 1
          },
          "autotypenumbers": "strict",
          "coloraxis": {
           "colorbar": {
            "outlinewidth": 0,
            "ticks": ""
           }
          },
          "colorscale": {
           "diverging": [
            [
             0,
             "#8e0152"
            ],
            [
             0.1,
             "#c51b7d"
            ],
            [
             0.2,
             "#de77ae"
            ],
            [
             0.3,
             "#f1b6da"
            ],
            [
             0.4,
             "#fde0ef"
            ],
            [
             0.5,
             "#f7f7f7"
            ],
            [
             0.6,
             "#e6f5d0"
            ],
            [
             0.7,
             "#b8e186"
            ],
            [
             0.8,
             "#7fbc41"
            ],
            [
             0.9,
             "#4d9221"
            ],
            [
             1,
             "#276419"
            ]
           ],
           "sequential": [
            [
             0,
             "#0d0887"
            ],
            [
             0.1111111111111111,
             "#46039f"
            ],
            [
             0.2222222222222222,
             "#7201a8"
            ],
            [
             0.3333333333333333,
             "#9c179e"
            ],
            [
             0.4444444444444444,
             "#bd3786"
            ],
            [
             0.5555555555555556,
             "#d8576b"
            ],
            [
             0.6666666666666666,
             "#ed7953"
            ],
            [
             0.7777777777777778,
             "#fb9f3a"
            ],
            [
             0.8888888888888888,
             "#fdca26"
            ],
            [
             1,
             "#f0f921"
            ]
           ],
           "sequentialminus": [
            [
             0,
             "#0d0887"
            ],
            [
             0.1111111111111111,
             "#46039f"
            ],
            [
             0.2222222222222222,
             "#7201a8"
            ],
            [
             0.3333333333333333,
             "#9c179e"
            ],
            [
             0.4444444444444444,
             "#bd3786"
            ],
            [
             0.5555555555555556,
             "#d8576b"
            ],
            [
             0.6666666666666666,
             "#ed7953"
            ],
            [
             0.7777777777777778,
             "#fb9f3a"
            ],
            [
             0.8888888888888888,
             "#fdca26"
            ],
            [
             1,
             "#f0f921"
            ]
           ]
          },
          "colorway": [
           "#636efa",
           "#EF553B",
           "#00cc96",
           "#ab63fa",
           "#FFA15A",
           "#19d3f3",
           "#FF6692",
           "#B6E880",
           "#FF97FF",
           "#FECB52"
          ],
          "font": {
           "color": "#2a3f5f"
          },
          "geo": {
           "bgcolor": "white",
           "lakecolor": "white",
           "landcolor": "#E5ECF6",
           "showlakes": true,
           "showland": true,
           "subunitcolor": "white"
          },
          "hoverlabel": {
           "align": "left"
          },
          "hovermode": "closest",
          "mapbox": {
           "style": "light"
          },
          "paper_bgcolor": "white",
          "plot_bgcolor": "#E5ECF6",
          "polar": {
           "angularaxis": {
            "gridcolor": "white",
            "linecolor": "white",
            "ticks": ""
           },
           "bgcolor": "#E5ECF6",
           "radialaxis": {
            "gridcolor": "white",
            "linecolor": "white",
            "ticks": ""
           }
          },
          "scene": {
           "xaxis": {
            "backgroundcolor": "#E5ECF6",
            "gridcolor": "white",
            "gridwidth": 2,
            "linecolor": "white",
            "showbackground": true,
            "ticks": "",
            "zerolinecolor": "white"
           },
           "yaxis": {
            "backgroundcolor": "#E5ECF6",
            "gridcolor": "white",
            "gridwidth": 2,
            "linecolor": "white",
            "showbackground": true,
            "ticks": "",
            "zerolinecolor": "white"
           },
           "zaxis": {
            "backgroundcolor": "#E5ECF6",
            "gridcolor": "white",
            "gridwidth": 2,
            "linecolor": "white",
            "showbackground": true,
            "ticks": "",
            "zerolinecolor": "white"
           }
          },
          "shapedefaults": {
           "line": {
            "color": "#2a3f5f"
           }
          },
          "ternary": {
           "aaxis": {
            "gridcolor": "white",
            "linecolor": "white",
            "ticks": ""
           },
           "baxis": {
            "gridcolor": "white",
            "linecolor": "white",
            "ticks": ""
           },
           "bgcolor": "#E5ECF6",
           "caxis": {
            "gridcolor": "white",
            "linecolor": "white",
            "ticks": ""
           }
          },
          "title": {
           "x": 0.05
          },
          "xaxis": {
           "automargin": true,
           "gridcolor": "white",
           "linecolor": "white",
           "ticks": "",
           "title": {
            "standoff": 15
           },
           "zerolinecolor": "white",
           "zerolinewidth": 2
          },
          "yaxis": {
           "automargin": true,
           "gridcolor": "white",
           "linecolor": "white",
           "ticks": "",
           "title": {
            "standoff": 15
           },
           "zerolinecolor": "white",
           "zerolinewidth": 2
          }
         }
        },
        "title": {
         "font": {
          "color": "#4D5663"
         }
        },
        "xaxis": {
         "gridcolor": "#E1E5ED",
         "showgrid": true,
         "tickfont": {
          "color": "#4D5663"
         },
         "title": {
          "font": {
           "color": "#4D5663"
          },
          "text": ""
         },
         "zerolinecolor": "#E1E5ED"
        },
        "yaxis": {
         "gridcolor": "#E1E5ED",
         "showgrid": true,
         "tickfont": {
          "color": "#4D5663"
         },
         "title": {
          "font": {
           "color": "#4D5663"
          },
          "text": ""
         },
         "zerolinecolor": "#E1E5ED"
        }
       }
      },
      "text/html": [
       "<div>                            <div id=\"1db6d2bd-81fc-4844-895c-2d854a56734e\" class=\"plotly-graph-div\" style=\"height:525px; width:100%;\"></div>            <script type=\"text/javascript\">                require([\"plotly\"], function(Plotly) {                    window.PLOTLYENV=window.PLOTLYENV || {};\n",
       "                    window.PLOTLYENV.BASE_URL='https://plot.ly';                                    if (document.getElementById(\"1db6d2bd-81fc-4844-895c-2d854a56734e\")) {                    Plotly.newPlot(                        \"1db6d2bd-81fc-4844-895c-2d854a56734e\",                        [{\"line\":{\"color\":\"rgba(255, 153, 51, 1.0)\",\"dash\":\"solid\",\"shape\":\"linear\",\"width\":1.3},\"mode\":\"lines\",\"name\":\"A\",\"text\":\"\",\"x\":[0,1,2,3,4,5,6,7,8,9,10,11,12,13,14,15,16,17,18,19,20,21,22,23,24,25,26,27,28,29,30,31,32,33,34,35,36,37,38,39,40,41,42,43,44,45,46,47,48,49,50,51,52,53,54,55,56,57,58,59,60,61,62,63,64,65,66,67,68,69,70,71,72,73,74,75,76,77,78,79,80,81,82,83,84,85,86,87,88,89,90,91,92,93,94,95,96,97,98,99,100,101,102,103,104,105,106,107,108,109,110,111,112,113,114,115,116,117,118,119,120,121,122,123,124,125,126,127,128,129,130,131,132,133,134,135,136,137,138,139,140,141,142,143,144,145,146,147,148,149,150,151,152,153,154,155,156,157,158,159,160,161,162,163,164,165,166,167,168,169,170,171,172,173,174,175,176,177,178,179,180,181,182,183,184,185,186,187,188,189,190,191,192,193,194,195,196,197,198,199],\"y\":[-1.27442414868139,-1.1609170527883417,1.4204384065706999,0.30162767483502906,-0.30357365164991607,-0.43282382543030656,0.35944573175417405,-0.4295187945193196,0.7620281690550206,-0.36893088009992153,1.1801685349273492,0.9088470986492464,-0.4464820580488011,0.553872530804751,-2.0857913695915515,-0.9242015828951299,0.8286955986732826,-1.4247622314751378,0.08843579140181713,0.3397102055430453,-0.4718844459217768,0.438731777545002,2.1862876755100915,1.4449232549446946,-0.5337234402711574,-1.5780243734361277,-0.1519508681620349,-0.33961733773040914,-0.34979568729960786,-0.20270335292931324,-0.218998054993648,-0.7357550618185167,0.37933073943218615,1.3869720218813224,1.2882944413717847,1.164518817325716,-2.4490023580782414,1.717326687030156,0.15099048757096017,2.643721451020964,-1.1950055851241006,-2.1741837953095775,-1.0914949863610013,0.5404548250368276,-0.851720544635452,0.3977349327425961,-0.13816632146110083,0.7789185011035422,-0.8347020306955291,1.0308341496898008,-2.6879201689959404,1.4419935501085068,1.2004809865819916,0.5264704215930576,0.21040572908680394,-0.6061349731963884,0.1224443685378313,0.8770471389493156,0.5694640641099016,-0.7462694410639408,0.6863760239959987,0.5027243411756473,-1.897263693447583,1.2176447800326728,0.0810915931493597,-0.9542604426994752,1.2665282947013128,-0.4513259554297812,1.5531617001295233,-0.8221211972329874,0.922073347480287,-2.101819072593588,0.4627675097267855,-0.18539299670362586,-1.544367262683224,-0.34987794061634664,0.5930509558217288,1.1209364383597173,-0.32687863886036883,-1.5801123892706,-0.2960327439414112,-2.1822455168390733,0.8228433635841862,-1.0562567691184752,0.1422965532146779,-0.347395354712389,-0.05673179291239016,-0.16796348760956062,0.3065524879558104,0.4746459135079892,0.414086270421272,-1.9145687457715863,-0.24274057420796188,-0.8431893163737985,-0.49976598706273523,0.07434811994979802,-1.7068900696272864,0.8923114834510971,-1.9328365673493935,0.881602633231934,0.4039405674615419,-1.080338344005075,0.6366188289993236,-1.123825580143212,-0.5764504195170491,0.9304295111101794,0.62033632944322,-0.12253634045679532,-0.9382744266208014,-1.5824764607829669,0.37763384799191796,-0.6259193070783746,0.9093178157884254,0.31426787385599597,1.30090619101618,0.8948420915857418,0.7965446210862713,1.1205627212559994,-0.9741567642404872,1.2042808601563262,-0.6622663412695803,1.6729179856963443,-0.2719078311775953,1.1778159837116802,2.9990295834839737,-0.013578953688290565,0.07804066172168907,-0.8836725978212442,-0.7631925578814764,0.7310233671491799,0.38003494225754925,-0.1972454027597303,0.2630754261733895,-0.3818491965844399,0.49858585104651515,-0.5748238819082675,1.311922396267592,1.1257269045380298,0.78436278385626,-3.4493096899847764,0.823503484988869,-0.9118299820991497,1.1148610422886407,-0.4018004907074332,1.5965803487649912,-1.172660939298633,0.21534686913617163,0.32381486995187436,-0.48031947962522925,-0.9915831115612561,0.5743189760584034,1.3364528838768974,1.7184385811408116,0.8060306468627223,-0.1592831022441935,0.030413962435704718,0.4908581995328669,0.6926457462176457,0.7006117833376474,0.6254803836222584,-1.3521915809737919,1.0035711819933097,1.0991429054786748,-0.9501221247227347,0.37846812126768914,0.14018710012217417,-0.25002020205734365,-0.1940477459392332,0.9854223212780376,-0.048576601317167956,-1.6391949346868622,-0.5029522774006342,0.22454299260340901,-1.0437006377654168,-1.8432393820759239,1.4860543529988446,0.25925639242317694,-1.9011015915445786,1.530822152582684,-1.287798880976896,0.09969856459150653,1.8104490239397535,-0.011981171581963636,-0.6132088476260764,-0.7653711233891518,-0.5924127620864292,0.545014645700061,0.22297985137541332,-0.060651291628222304,-0.4381689468241831,0.5688489172127433,-1.142071268760698,-0.176396482666839,0.08023926729180372,-0.5604174421322821,-1.239735247913459,-0.33901356026669116,1.5170482579898217,0.5340910179666206,-0.15520151684010544],\"type\":\"scatter\"},{\"line\":{\"color\":\"rgba(55, 128, 191, 1.0)\",\"dash\":\"solid\",\"shape\":\"linear\",\"width\":1.3},\"mode\":\"lines\",\"name\":\"B\",\"text\":\"\",\"x\":[0,1,2,3,4,5,6,7,8,9,10,11,12,13,14,15,16,17,18,19,20,21,22,23,24,25,26,27,28,29,30,31,32,33,34,35,36,37,38,39,40,41,42,43,44,45,46,47,48,49,50,51,52,53,54,55,56,57,58,59,60,61,62,63,64,65,66,67,68,69,70,71,72,73,74,75,76,77,78,79,80,81,82,83,84,85,86,87,88,89,90,91,92,93,94,95,96,97,98,99,100,101,102,103,104,105,106,107,108,109,110,111,112,113,114,115,116,117,118,119,120,121,122,123,124,125,126,127,128,129,130,131,132,133,134,135,136,137,138,139,140,141,142,143,144,145,146,147,148,149,150,151,152,153,154,155,156,157,158,159,160,161,162,163,164,165,166,167,168,169,170,171,172,173,174,175,176,177,178,179,180,181,182,183,184,185,186,187,188,189,190,191,192,193,194,195,196,197,198,199],\"y\":[-0.7841873731032164,0.8009585373301631,0.35912853577353376,-1.637195716260306,-0.8137811076804987,-1.5227093746524163,0.4751275891103972,2.2545227910285908,0.7473432467633813,-0.0901371083933123,0.08216878516264149,0.03891768747524125,-0.6870317590438287,0.20504978351576747,0.5005382633217199,0.517544627241533,-0.24681313433744986,-2.383066489872815,0.5875004212220813,1.1689428893134048,0.3159824979968826,0.8109765346855754,-2.523963431763149,0.28680741153841166,-0.6408225842363205,-0.9529700469656066,1.3652897274160092,1.0855465754059288,1.6066488236057124,-0.25653723324223743,1.6168868811283659,-1.271198406124969,0.16419298767304497,-0.44055447193845454,1.6015710298078216,-0.1430471347068909,0.9021535135953612,-1.0654109959325517,-0.9573982337686631,-1.1509421729320508,1.4697619893275924,0.3080910683563194,0.34511775412920676,-0.7110627505630052,0.7849974915348057,-0.24913985307064287,0.3695712565487848,-0.025544582206336392,0.5208609434089886,1.4084249762201595,-0.646728268539339,-0.5591495014109272,0.9790098936253699,-1.8776359953570707,-0.7511662975548304,1.1714326150925705,-0.4878334653413618,-1.1494861577769524,0.569878045508007,0.3508330540741481,-2.1549446511743904,0.062224330454202816,-2.532303388811436,0.16170368219037676,1.022090987720601,-0.4853797074782747,-1.4600886625847485,0.8483201880848096,-0.7680224867467416,0.8411693873777162,1.2824808863764259,-1.8061919418620977,0.09137783215605681,-1.4620833596602718,-0.07848184318174757,0.47869786951510584,1.2420644860880887,-1.3790116297472326,0.04605185255988004,-0.9956482280826694,-0.41713473804017825,0.7955018538018513,-1.7541914164224715,0.392966983382578,0.3048172512285247,-0.13268388072045006,-0.8038991057544754,-1.1416160001450917,-0.11886838653908616,0.17936663075068002,0.17629657019186099,0.3066106161541487,-0.2844822363415588,0.9921496878814966,-0.008728570693844402,0.3104119671105906,-1.3807410132916695,-1.550227459644481,-0.10179452643570254,-1.0156608608518538,1.0809316001014524,-3.4962140811267424,-0.14787738829714217,0.5466841401784719,-1.3248703064832819,0.6910275438636189,-0.5574452186770643,-0.13172419661459317,0.09248447549404408,0.8703049149852213,-0.7043391966981806,-0.09582990925817221,-0.14793567358010387,0.6922284187198288,-0.5015413680449421,0.11724375675455015,-0.5099951786176544,0.020341742230200337,0.6194723400543806,0.5012608057134346,-0.2539959444675535,0.5946303928236549,-1.684542764665536,0.2856960597546895,-0.7551981884103172,1.1810914139019497,-0.4612300085417507,-0.8011044991933414,2.2010550099678396,-1.1273604826554544,0.12270031566110878,2.553753351262337,2.3455129839372497,-1.2397472425429215,-0.3084980598514235,-0.6331485474132121,1.023554085823823,-1.0118812842747593,1.4004279080089916,0.33285450515325643,-0.6585065666698331,-0.06920622752256632,-0.10671989929459834,-0.059470381778092246,1.0955401637840054,-0.6273777372581278,0.5417734176222998,-0.21726753451384984,0.8784488922468059,0.6263683248135469,0.40392706845810256,2.3743615220641234,0.12272226362846327,-1.5165782097893545,1.6962009821975579,0.09106946275585416,-0.04379440227037618,0.477984930942629,-0.6411060835944705,-0.9240012386292931,1.0903521034665071,0.17601535513615452,-0.0914772558090765,0.34801756797515043,0.9865315012788557,-0.4254256724577614,0.30882503639436015,-1.224394728762868,-1.3181991310498655,-2.0909288448739924,0.33455003616213325,-0.570187723119425,0.014772275605977832,1.8224758207639304,-3.899681913426114,-0.12855490995748825,-0.4261877059462865,-1.8074095259400136,0.14105630079118756,-0.09328064443875779,0.02811094135377943,0.27475451156349023,-0.6630912987700992,-0.8428644564317997,-1.0281105956544458,-0.9668741126177827,-1.0388428881503668,-0.19847402630435346,0.37966060222790005,1.5122838319216265,0.2441844016365175,-0.9316333337569899,-1.0963997464511164,1.2759593524505086,0.9179271660848308,-0.4887846682012247,1.2188263078848585,-1.3066449847357786,0.09517390800784178,0.8525394438154805],\"type\":\"scatter\"},{\"line\":{\"color\":\"rgba(50, 171, 96, 1.0)\",\"dash\":\"solid\",\"shape\":\"linear\",\"width\":1.3},\"mode\":\"lines\",\"name\":\"C\",\"text\":\"\",\"x\":[0,1,2,3,4,5,6,7,8,9,10,11,12,13,14,15,16,17,18,19,20,21,22,23,24,25,26,27,28,29,30,31,32,33,34,35,36,37,38,39,40,41,42,43,44,45,46,47,48,49,50,51,52,53,54,55,56,57,58,59,60,61,62,63,64,65,66,67,68,69,70,71,72,73,74,75,76,77,78,79,80,81,82,83,84,85,86,87,88,89,90,91,92,93,94,95,96,97,98,99,100,101,102,103,104,105,106,107,108,109,110,111,112,113,114,115,116,117,118,119,120,121,122,123,124,125,126,127,128,129,130,131,132,133,134,135,136,137,138,139,140,141,142,143,144,145,146,147,148,149,150,151,152,153,154,155,156,157,158,159,160,161,162,163,164,165,166,167,168,169,170,171,172,173,174,175,176,177,178,179,180,181,182,183,184,185,186,187,188,189,190,191,192,193,194,195,196,197,198,199],\"y\":[-0.7451235867297168,-1.1955686699696881,-0.2939467885563826,-2.0756509408919266,-1.607355913485765,-1.0921603480166824,1.0933102217414903,0.4210018355970237,0.35482489768800596,0.21599132214183409,-0.3727027467378601,-1.1760705131296232,0.24864543562303917,2.1407415071348455,0.11471396604870476,-0.0032073830492580935,-0.011615091239016731,0.17693178142257202,-1.220974421043912,0.24289167831444672,0.37810650500646864,-0.5707921986181675,0.08050864553118782,1.0387965601542877,0.5336667514795561,0.5182474884173991,-0.10137646334497452,-0.6886362210657055,0.6164094488250487,0.40632743065222765,1.7605778400072114,-0.31361494300997483,0.07326693489329357,1.2113136261711082,1.2928936009785021,-0.7788307041494695,-0.957879675727847,-0.26100200810214524,-1.767761468988899,0.7106019304709466,-0.16241396307401199,1.3051688091547526,-1.556330642447899,-0.14609994597409257,-0.26467564966519386,0.24709238304725042,0.3929743406913871,-0.4383237060247371,0.7936178742825255,0.10511047354266721,1.2415210560992878,1.3788011266190987,0.0029274439520690036,-0.30613171126329136,1.5815832506049148,-0.4783357982597435,1.299595957934262,0.20224134001377359,0.44208663303865964,-0.6680572953561592,-1.0314723791324854,-0.763406833361337,-0.3951027614086557,0.08588834358847751,-0.2110336190175659,1.297517498133667,1.3827819870750524,0.6495968152138355,-0.19101413043547513,-1.0842754010760798,0.8565514726875874,2.235856652385455,-0.7046478078790129,-1.488632268088666,2.0077428696458144,0.5492009500687556,-0.9040952030969441,-0.7087265934719447,0.904242615308091,0.6277386125566697,-0.26973917927262353,0.998458725633575,1.6845011820041726,-2.0961144562195058,0.1834175933395618,0.4349975586667109,-0.15049222783236163,-0.21593056967009397,-1.5501896437226372,-1.9354452676155236,0.735864226796376,-1.3557814989572885,0.14560714092864274,-0.40957450682397717,-1.4066042714607583,-0.9424973304433376,-0.16708194289440564,-2.481631066421222,0.5914132229346868,0.13795798549594857,-1.1557416189316598,-0.13712444720065184,0.358595247071446,0.22848458714194586,-0.33073312514014536,-0.05761480159079845,0.8663554215386435,0.23946966913085765,2.541887332824834,0.8702219694512845,0.46828070175046027,0.9875930411424152,-2.362875749650584,-0.45667442616930687,-1.9699866824919696,-0.4135314666630936,1.7531878269179546,-0.5352549237849259,-0.11151214841045058,-0.19418087839398643,-2.069056395982831,-0.5519026915671789,-0.7312116159720846,0.6389487695581961,-1.102449346629286,-0.3763573899782562,0.2844046318173398,-1.6282117488715149,2.531572599198845,0.594418087881513,-0.22408788054058212,-0.2012402122446277,-0.04305768224808741,-0.20658582352287858,0.49339648107268147,-1.8040692453836586,-0.7682147894764115,0.2033756676976682,-1.077133130998132,-0.7444351488399475,1.5101274713580568,1.5107973690260816,1.3588087131913444,-0.41961806430212495,0.8768205135267582,-0.6873593372051974,0.8513270167737975,1.019224362759461,0.9476362629744944,-0.334402719667732,0.8300188619400811,0.5594379992866956,-0.6460998642517354,-1.5671437724692945,0.20364655888064245,-1.1484039682478175,-0.2615236536321921,0.8173325785319258,-0.6154148905540132,-1.3022170279604846,-0.7716180951521623,0.14138335661682203,-0.705085290608851,0.628991087781264,-1.9902729391720042,0.15536155918974054,-1.4272970284308142,-0.20006953788683082,0.6249005088307628,0.2686096573609924,0.7650679564813736,-0.40806058554433094,0.07584050979703787,-0.059268330254935046,-0.6313778982938051,0.3852345574782492,1.3225380338895025,0.7493404639302352,-0.6802300111262363,-0.8537175533921844,1.7776614368882422,0.11545001368604886,0.736661636392919,0.41899350385771117,0.5069743789877529,-1.5732903145627166,0.29869812424313696,0.9247537721379803,0.9099891953029412,-0.9973546458892067,-0.743725685466044,-2.126488679704086,-1.579047571168278,-0.3469434427648132,-0.0423066646486899,-0.38086836064381824,-0.9547969488945806,-0.7216545341718141,0.12854777284244365,-0.9721017137576767],\"type\":\"scatter\"},{\"line\":{\"color\":\"rgba(128, 0, 128, 1.0)\",\"dash\":\"solid\",\"shape\":\"linear\",\"width\":1.3},\"mode\":\"lines\",\"name\":\"D\",\"text\":\"\",\"x\":[0,1,2,3,4,5,6,7,8,9,10,11,12,13,14,15,16,17,18,19,20,21,22,23,24,25,26,27,28,29,30,31,32,33,34,35,36,37,38,39,40,41,42,43,44,45,46,47,48,49,50,51,52,53,54,55,56,57,58,59,60,61,62,63,64,65,66,67,68,69,70,71,72,73,74,75,76,77,78,79,80,81,82,83,84,85,86,87,88,89,90,91,92,93,94,95,96,97,98,99,100,101,102,103,104,105,106,107,108,109,110,111,112,113,114,115,116,117,118,119,120,121,122,123,124,125,126,127,128,129,130,131,132,133,134,135,136,137,138,139,140,141,142,143,144,145,146,147,148,149,150,151,152,153,154,155,156,157,158,159,160,161,162,163,164,165,166,167,168,169,170,171,172,173,174,175,176,177,178,179,180,181,182,183,184,185,186,187,188,189,190,191,192,193,194,195,196,197,198,199],\"y\":[2.0030258818887328,-1.4136466855959138,0.6564045835199115,-0.4220591711411824,0.16648985363655902,-0.1378736397001633,1.401540163158697,0.6246234683722959,-0.9855335343051977,1.0757061726341477,-1.3009249150278368,0.1573172564309409,-2.85277651019679,1.0864056619199085,0.8515205443486634,-0.22651896725135215,0.8424828204959846,0.5585522569275791,1.375772796582309,-2.9312695374449254,-0.2920894005583238,-0.6498317274971565,-0.08562160540888065,1.6404037945839918,-0.2390289523816484,-0.07964560512589922,0.040899561064985705,-0.8238118174473738,0.8411625210458964,0.7700266357305832,0.32650491504434437,-1.4580968448167524,-0.5503633734270682,1.034614684877748,-0.3056093982577727,-0.49306543863461394,0.5796479191366094,0.16236235771824503,1.0860259864934942,1.4653514200111877,-1.4282617676249585,0.3569299533657053,1.3543296145684565,-0.8235823972823885,-0.21390376306728112,-2.401423292195934,0.44604460763592335,-1.3260109772599953,0.520819007929613,-1.077494790925445,-0.2559005838984762,-0.4784788134316607,-1.8777114072202377,1.1776939430774762,0.1647867858102365,0.6026010864266305,0.13306301139631008,0.29608788492574856,-0.1578698722401196,0.16742450991106142,-0.41022371105391986,-0.5319447895401832,-0.4596731767362752,0.5672081972089782,-0.27710750483323043,0.11974737415744138,-0.1284330264803782,2.0416627105413,-0.17145004728347266,0.2140050520527466,0.11110330525391891,2.210370120982104,1.7762778595804591,-2.2856601471349864,1.2033674261246055,1.3810302631313915,-0.24464142577004797,-0.6949996870087805,0.8665080979670783,-1.0797708621066435,0.5882884868624466,1.9315132737425738,2.1657166580010214,-0.6146683003174404,0.26532612565797303,0.2849473718247751,0.36051877619576383,1.018127618141426,1.2821944357906496,2.1275405113251247,-0.14976200528582648,-1.7712964861611271,0.11451384403981997,-0.03477566360502154,0.43769822899189403,0.2499936182821847,-1.2828319260824979,1.3239450854845776,0.15610201698244547,-1.4406046125056302,-1.696067159696782,-0.07088972727627718,-1.1571753315046047,0.12530665368091995,0.2786726369166015,-0.8000769260464361,-1.0464726314510087,-0.43083317282624434,1.9556463022096342,-0.823074358021752,0.8564273626909026,0.9877688360056043,-1.1260216158333907,-1.2322400437216399,-2.6860534585102287,-0.544120349484271,-0.10502864991995285,0.4699456638206322,0.5096799628729667,0.9373174464467943,-1.698976743450642,1.3165920896407985,-0.5814032073059362,0.313764106218215,0.9397628930564,0.5079448486506414,0.572550034517393,0.4467430622181385,-0.5651579883103968,0.6404995816952691,-1.8423296066982549,-1.1861231943659754,0.8771242108290745,0.7417220689095076,1.342842181908818,-0.060641211109566114,-0.47298388006640224,-1.2779500186854422,-0.7070679104777015,1.5611290459810478,-1.5349311099553336,1.0233202000109156,-1.231413676251317,-1.212690029730496,0.4522850293654489,-1.4559968362515723,0.9683428549978277,-0.6986935075177241,-0.5389983025437711,0.022381940374019894,0.7634910247269951,0.22010297327535702,-1.4514887513373056,0.3687970658466834,1.7821724825761935,1.104048241565006,-1.0240418357368626,0.32480093161741114,-0.7846820003199033,0.8830724851769403,0.8954065376679364,-0.22882907913527245,0.008219468096646497,-2.2768470658505437,0.7295090579831802,0.06532945543142848,0.9560862471316254,-0.09166903652242839,-0.019002054901877747,-0.02674383217506475,1.0206789391985986,0.6998732205096144,0.2547865342108149,-0.6868432532994085,-0.2534596555816261,-1.5567773028934746,1.4728302079479154,-1.9417634859270636,0.24517559950750248,0.9158681066156932,-0.9244693001390847,-0.49318621324007655,-0.7747791658785754,-0.593393632972863,2.431320405670487,-0.3092913195176709,-1.2250168919830717,-0.8593492374283505,-1.1810216076070843,1.6448010102772075,-1.23880431919338,-0.00014517840730945012,-1.4722293066953307,1.5654459442959827,0.2153361633781894,-1.7222548810210994,0.8974250057846401,-0.9654662912320866,-0.7467832913507298,-1.650933765993046],\"type\":\"scatter\"}],                        {\"legend\":{\"bgcolor\":\"#F5F6F9\",\"font\":{\"color\":\"#4D5663\"}},\"paper_bgcolor\":\"#F5F6F9\",\"plot_bgcolor\":\"#F5F6F9\",\"template\":{\"data\":{\"barpolar\":[{\"marker\":{\"line\":{\"color\":\"#E5ECF6\",\"width\":0.5},\"pattern\":{\"fillmode\":\"overlay\",\"size\":10,\"solidity\":0.2}},\"type\":\"barpolar\"}],\"bar\":[{\"error_x\":{\"color\":\"#2a3f5f\"},\"error_y\":{\"color\":\"#2a3f5f\"},\"marker\":{\"line\":{\"color\":\"#E5ECF6\",\"width\":0.5},\"pattern\":{\"fillmode\":\"overlay\",\"size\":10,\"solidity\":0.2}},\"type\":\"bar\"}],\"carpet\":[{\"aaxis\":{\"endlinecolor\":\"#2a3f5f\",\"gridcolor\":\"white\",\"linecolor\":\"white\",\"minorgridcolor\":\"white\",\"startlinecolor\":\"#2a3f5f\"},\"baxis\":{\"endlinecolor\":\"#2a3f5f\",\"gridcolor\":\"white\",\"linecolor\":\"white\",\"minorgridcolor\":\"white\",\"startlinecolor\":\"#2a3f5f\"},\"type\":\"carpet\"}],\"choropleth\":[{\"colorbar\":{\"outlinewidth\":0,\"ticks\":\"\"},\"type\":\"choropleth\"}],\"contourcarpet\":[{\"colorbar\":{\"outlinewidth\":0,\"ticks\":\"\"},\"type\":\"contourcarpet\"}],\"contour\":[{\"colorbar\":{\"outlinewidth\":0,\"ticks\":\"\"},\"colorscale\":[[0.0,\"#0d0887\"],[0.1111111111111111,\"#46039f\"],[0.2222222222222222,\"#7201a8\"],[0.3333333333333333,\"#9c179e\"],[0.4444444444444444,\"#bd3786\"],[0.5555555555555556,\"#d8576b\"],[0.6666666666666666,\"#ed7953\"],[0.7777777777777778,\"#fb9f3a\"],[0.8888888888888888,\"#fdca26\"],[1.0,\"#f0f921\"]],\"type\":\"contour\"}],\"heatmapgl\":[{\"colorbar\":{\"outlinewidth\":0,\"ticks\":\"\"},\"colorscale\":[[0.0,\"#0d0887\"],[0.1111111111111111,\"#46039f\"],[0.2222222222222222,\"#7201a8\"],[0.3333333333333333,\"#9c179e\"],[0.4444444444444444,\"#bd3786\"],[0.5555555555555556,\"#d8576b\"],[0.6666666666666666,\"#ed7953\"],[0.7777777777777778,\"#fb9f3a\"],[0.8888888888888888,\"#fdca26\"],[1.0,\"#f0f921\"]],\"type\":\"heatmapgl\"}],\"heatmap\":[{\"colorbar\":{\"outlinewidth\":0,\"ticks\":\"\"},\"colorscale\":[[0.0,\"#0d0887\"],[0.1111111111111111,\"#46039f\"],[0.2222222222222222,\"#7201a8\"],[0.3333333333333333,\"#9c179e\"],[0.4444444444444444,\"#bd3786\"],[0.5555555555555556,\"#d8576b\"],[0.6666666666666666,\"#ed7953\"],[0.7777777777777778,\"#fb9f3a\"],[0.8888888888888888,\"#fdca26\"],[1.0,\"#f0f921\"]],\"type\":\"heatmap\"}],\"histogram2dcontour\":[{\"colorbar\":{\"outlinewidth\":0,\"ticks\":\"\"},\"colorscale\":[[0.0,\"#0d0887\"],[0.1111111111111111,\"#46039f\"],[0.2222222222222222,\"#7201a8\"],[0.3333333333333333,\"#9c179e\"],[0.4444444444444444,\"#bd3786\"],[0.5555555555555556,\"#d8576b\"],[0.6666666666666666,\"#ed7953\"],[0.7777777777777778,\"#fb9f3a\"],[0.8888888888888888,\"#fdca26\"],[1.0,\"#f0f921\"]],\"type\":\"histogram2dcontour\"}],\"histogram2d\":[{\"colorbar\":{\"outlinewidth\":0,\"ticks\":\"\"},\"colorscale\":[[0.0,\"#0d0887\"],[0.1111111111111111,\"#46039f\"],[0.2222222222222222,\"#7201a8\"],[0.3333333333333333,\"#9c179e\"],[0.4444444444444444,\"#bd3786\"],[0.5555555555555556,\"#d8576b\"],[0.6666666666666666,\"#ed7953\"],[0.7777777777777778,\"#fb9f3a\"],[0.8888888888888888,\"#fdca26\"],[1.0,\"#f0f921\"]],\"type\":\"histogram2d\"}],\"histogram\":[{\"marker\":{\"pattern\":{\"fillmode\":\"overlay\",\"size\":10,\"solidity\":0.2}},\"type\":\"histogram\"}],\"mesh3d\":[{\"colorbar\":{\"outlinewidth\":0,\"ticks\":\"\"},\"type\":\"mesh3d\"}],\"parcoords\":[{\"line\":{\"colorbar\":{\"outlinewidth\":0,\"ticks\":\"\"}},\"type\":\"parcoords\"}],\"pie\":[{\"automargin\":true,\"type\":\"pie\"}],\"scatter3d\":[{\"line\":{\"colorbar\":{\"outlinewidth\":0,\"ticks\":\"\"}},\"marker\":{\"colorbar\":{\"outlinewidth\":0,\"ticks\":\"\"}},\"type\":\"scatter3d\"}],\"scattercarpet\":[{\"marker\":{\"colorbar\":{\"outlinewidth\":0,\"ticks\":\"\"}},\"type\":\"scattercarpet\"}],\"scattergeo\":[{\"marker\":{\"colorbar\":{\"outlinewidth\":0,\"ticks\":\"\"}},\"type\":\"scattergeo\"}],\"scattergl\":[{\"marker\":{\"colorbar\":{\"outlinewidth\":0,\"ticks\":\"\"}},\"type\":\"scattergl\"}],\"scattermapbox\":[{\"marker\":{\"colorbar\":{\"outlinewidth\":0,\"ticks\":\"\"}},\"type\":\"scattermapbox\"}],\"scatterpolargl\":[{\"marker\":{\"colorbar\":{\"outlinewidth\":0,\"ticks\":\"\"}},\"type\":\"scatterpolargl\"}],\"scatterpolar\":[{\"marker\":{\"colorbar\":{\"outlinewidth\":0,\"ticks\":\"\"}},\"type\":\"scatterpolar\"}],\"scatter\":[{\"fillpattern\":{\"fillmode\":\"overlay\",\"size\":10,\"solidity\":0.2},\"type\":\"scatter\"}],\"scatterternary\":[{\"marker\":{\"colorbar\":{\"outlinewidth\":0,\"ticks\":\"\"}},\"type\":\"scatterternary\"}],\"surface\":[{\"colorbar\":{\"outlinewidth\":0,\"ticks\":\"\"},\"colorscale\":[[0.0,\"#0d0887\"],[0.1111111111111111,\"#46039f\"],[0.2222222222222222,\"#7201a8\"],[0.3333333333333333,\"#9c179e\"],[0.4444444444444444,\"#bd3786\"],[0.5555555555555556,\"#d8576b\"],[0.6666666666666666,\"#ed7953\"],[0.7777777777777778,\"#fb9f3a\"],[0.8888888888888888,\"#fdca26\"],[1.0,\"#f0f921\"]],\"type\":\"surface\"}],\"table\":[{\"cells\":{\"fill\":{\"color\":\"#EBF0F8\"},\"line\":{\"color\":\"white\"}},\"header\":{\"fill\":{\"color\":\"#C8D4E3\"},\"line\":{\"color\":\"white\"}},\"type\":\"table\"}]},\"layout\":{\"annotationdefaults\":{\"arrowcolor\":\"#2a3f5f\",\"arrowhead\":0,\"arrowwidth\":1},\"autotypenumbers\":\"strict\",\"coloraxis\":{\"colorbar\":{\"outlinewidth\":0,\"ticks\":\"\"}},\"colorscale\":{\"diverging\":[[0,\"#8e0152\"],[0.1,\"#c51b7d\"],[0.2,\"#de77ae\"],[0.3,\"#f1b6da\"],[0.4,\"#fde0ef\"],[0.5,\"#f7f7f7\"],[0.6,\"#e6f5d0\"],[0.7,\"#b8e186\"],[0.8,\"#7fbc41\"],[0.9,\"#4d9221\"],[1,\"#276419\"]],\"sequential\":[[0.0,\"#0d0887\"],[0.1111111111111111,\"#46039f\"],[0.2222222222222222,\"#7201a8\"],[0.3333333333333333,\"#9c179e\"],[0.4444444444444444,\"#bd3786\"],[0.5555555555555556,\"#d8576b\"],[0.6666666666666666,\"#ed7953\"],[0.7777777777777778,\"#fb9f3a\"],[0.8888888888888888,\"#fdca26\"],[1.0,\"#f0f921\"]],\"sequentialminus\":[[0.0,\"#0d0887\"],[0.1111111111111111,\"#46039f\"],[0.2222222222222222,\"#7201a8\"],[0.3333333333333333,\"#9c179e\"],[0.4444444444444444,\"#bd3786\"],[0.5555555555555556,\"#d8576b\"],[0.6666666666666666,\"#ed7953\"],[0.7777777777777778,\"#fb9f3a\"],[0.8888888888888888,\"#fdca26\"],[1.0,\"#f0f921\"]]},\"colorway\":[\"#636efa\",\"#EF553B\",\"#00cc96\",\"#ab63fa\",\"#FFA15A\",\"#19d3f3\",\"#FF6692\",\"#B6E880\",\"#FF97FF\",\"#FECB52\"],\"font\":{\"color\":\"#2a3f5f\"},\"geo\":{\"bgcolor\":\"white\",\"lakecolor\":\"white\",\"landcolor\":\"#E5ECF6\",\"showlakes\":true,\"showland\":true,\"subunitcolor\":\"white\"},\"hoverlabel\":{\"align\":\"left\"},\"hovermode\":\"closest\",\"mapbox\":{\"style\":\"light\"},\"paper_bgcolor\":\"white\",\"plot_bgcolor\":\"#E5ECF6\",\"polar\":{\"angularaxis\":{\"gridcolor\":\"white\",\"linecolor\":\"white\",\"ticks\":\"\"},\"bgcolor\":\"#E5ECF6\",\"radialaxis\":{\"gridcolor\":\"white\",\"linecolor\":\"white\",\"ticks\":\"\"}},\"scene\":{\"xaxis\":{\"backgroundcolor\":\"#E5ECF6\",\"gridcolor\":\"white\",\"gridwidth\":2,\"linecolor\":\"white\",\"showbackground\":true,\"ticks\":\"\",\"zerolinecolor\":\"white\"},\"yaxis\":{\"backgroundcolor\":\"#E5ECF6\",\"gridcolor\":\"white\",\"gridwidth\":2,\"linecolor\":\"white\",\"showbackground\":true,\"ticks\":\"\",\"zerolinecolor\":\"white\"},\"zaxis\":{\"backgroundcolor\":\"#E5ECF6\",\"gridcolor\":\"white\",\"gridwidth\":2,\"linecolor\":\"white\",\"showbackground\":true,\"ticks\":\"\",\"zerolinecolor\":\"white\"}},\"shapedefaults\":{\"line\":{\"color\":\"#2a3f5f\"}},\"ternary\":{\"aaxis\":{\"gridcolor\":\"white\",\"linecolor\":\"white\",\"ticks\":\"\"},\"baxis\":{\"gridcolor\":\"white\",\"linecolor\":\"white\",\"ticks\":\"\"},\"bgcolor\":\"#E5ECF6\",\"caxis\":{\"gridcolor\":\"white\",\"linecolor\":\"white\",\"ticks\":\"\"}},\"title\":{\"x\":0.05},\"xaxis\":{\"automargin\":true,\"gridcolor\":\"white\",\"linecolor\":\"white\",\"ticks\":\"\",\"title\":{\"standoff\":15},\"zerolinecolor\":\"white\",\"zerolinewidth\":2},\"yaxis\":{\"automargin\":true,\"gridcolor\":\"white\",\"linecolor\":\"white\",\"ticks\":\"\",\"title\":{\"standoff\":15},\"zerolinecolor\":\"white\",\"zerolinewidth\":2}}},\"title\":{\"font\":{\"color\":\"#4D5663\"}},\"xaxis\":{\"gridcolor\":\"#E1E5ED\",\"showgrid\":true,\"tickfont\":{\"color\":\"#4D5663\"},\"title\":{\"font\":{\"color\":\"#4D5663\"},\"text\":\"\"},\"zerolinecolor\":\"#E1E5ED\"},\"yaxis\":{\"gridcolor\":\"#E1E5ED\",\"showgrid\":true,\"tickfont\":{\"color\":\"#4D5663\"},\"title\":{\"font\":{\"color\":\"#4D5663\"},\"text\":\"\"},\"zerolinecolor\":\"#E1E5ED\"}},                        {\"showLink\": true, \"linkText\": \"Export to plot.ly\", \"plotlyServerURL\": \"https://plot.ly\", \"responsive\": true}                    ).then(function(){\n",
       "                            \n",
       "var gd = document.getElementById('1db6d2bd-81fc-4844-895c-2d854a56734e');\n",
       "var x = new MutationObserver(function (mutations, observer) {{\n",
       "        var display = window.getComputedStyle(gd).display;\n",
       "        if (!display || display === 'none') {{\n",
       "            console.log([gd, 'removed!']);\n",
       "            Plotly.purge(gd);\n",
       "            observer.disconnect();\n",
       "        }}\n",
       "}});\n",
       "\n",
       "// Listen for the removal of the full notebook cells\n",
       "var notebookContainer = gd.closest('#notebook-container');\n",
       "if (notebookContainer) {{\n",
       "    x.observe(notebookContainer, {childList: true});\n",
       "}}\n",
       "\n",
       "// Listen for the clearing of the current output cell\n",
       "var outputEl = gd.closest('.output');\n",
       "if (outputEl) {{\n",
       "    x.observe(outputEl, {childList: true});\n",
       "}}\n",
       "\n",
       "                        })                };                });            </script>        </div>"
      ]
     },
     "metadata": {},
     "output_type": "display_data"
    }
   ],
   "source": [
    "df.iplot()"
   ]
  },
  {
   "cell_type": "code",
   "execution_count": 6,
   "id": "f620f263",
   "metadata": {},
   "outputs": [
    {
     "data": {
      "application/vnd.plotly.v1+json": {
       "config": {
        "linkText": "Export to plot.ly",
        "plotlyServerURL": "https://plot.ly",
        "showLink": true
       },
       "data": [
        {
         "line": {
          "color": "rgba(255, 153, 51, 1.0)",
          "dash": "solid",
          "shape": "linear",
          "width": 1.3
         },
         "mode": "lines",
         "name": "B",
         "text": "",
         "type": "scatter",
         "x": [
          -1.27442414868139,
          -1.1609170527883417,
          1.4204384065706999,
          0.30162767483502906,
          -0.30357365164991607,
          -0.43282382543030656,
          0.35944573175417405,
          -0.4295187945193196,
          0.7620281690550206,
          -0.36893088009992153,
          1.1801685349273492,
          0.9088470986492464,
          -0.4464820580488011,
          0.553872530804751,
          -2.0857913695915515,
          -0.9242015828951299,
          0.8286955986732826,
          -1.4247622314751378,
          0.08843579140181713,
          0.3397102055430453,
          -0.4718844459217768,
          0.438731777545002,
          2.1862876755100915,
          1.4449232549446946,
          -0.5337234402711574,
          -1.5780243734361277,
          -0.1519508681620349,
          -0.33961733773040914,
          -0.34979568729960786,
          -0.20270335292931324,
          -0.218998054993648,
          -0.7357550618185167,
          0.37933073943218615,
          1.3869720218813224,
          1.2882944413717847,
          1.164518817325716,
          -2.4490023580782414,
          1.717326687030156,
          0.15099048757096017,
          2.643721451020964,
          -1.1950055851241006,
          -2.1741837953095775,
          -1.0914949863610013,
          0.5404548250368276,
          -0.851720544635452,
          0.3977349327425961,
          -0.13816632146110083,
          0.7789185011035422,
          -0.8347020306955291,
          1.0308341496898008,
          -2.6879201689959404,
          1.4419935501085068,
          1.2004809865819916,
          0.5264704215930576,
          0.21040572908680394,
          -0.6061349731963884,
          0.1224443685378313,
          0.8770471389493156,
          0.5694640641099016,
          -0.7462694410639408,
          0.6863760239959987,
          0.5027243411756473,
          -1.897263693447583,
          1.2176447800326728,
          0.0810915931493597,
          -0.9542604426994752,
          1.2665282947013128,
          -0.4513259554297812,
          1.5531617001295233,
          -0.8221211972329874,
          0.922073347480287,
          -2.101819072593588,
          0.4627675097267855,
          -0.18539299670362586,
          -1.544367262683224,
          -0.34987794061634664,
          0.5930509558217288,
          1.1209364383597173,
          -0.32687863886036883,
          -1.5801123892706,
          -0.2960327439414112,
          -2.1822455168390733,
          0.8228433635841862,
          -1.0562567691184752,
          0.1422965532146779,
          -0.347395354712389,
          -0.05673179291239016,
          -0.16796348760956062,
          0.3065524879558104,
          0.4746459135079892,
          0.414086270421272,
          -1.9145687457715863,
          -0.24274057420796188,
          -0.8431893163737985,
          -0.49976598706273523,
          0.07434811994979802,
          -1.7068900696272864,
          0.8923114834510971,
          -1.9328365673493935,
          0.881602633231934,
          0.4039405674615419,
          -1.080338344005075,
          0.6366188289993236,
          -1.123825580143212,
          -0.5764504195170491,
          0.9304295111101794,
          0.62033632944322,
          -0.12253634045679532,
          -0.9382744266208014,
          -1.5824764607829669,
          0.37763384799191796,
          -0.6259193070783746,
          0.9093178157884254,
          0.31426787385599597,
          1.30090619101618,
          0.8948420915857418,
          0.7965446210862713,
          1.1205627212559994,
          -0.9741567642404872,
          1.2042808601563262,
          -0.6622663412695803,
          1.6729179856963443,
          -0.2719078311775953,
          1.1778159837116802,
          2.9990295834839737,
          -0.013578953688290565,
          0.07804066172168907,
          -0.8836725978212442,
          -0.7631925578814764,
          0.7310233671491799,
          0.38003494225754925,
          -0.1972454027597303,
          0.2630754261733895,
          -0.3818491965844399,
          0.49858585104651515,
          -0.5748238819082675,
          1.311922396267592,
          1.1257269045380298,
          0.78436278385626,
          -3.4493096899847764,
          0.823503484988869,
          -0.9118299820991497,
          1.1148610422886407,
          -0.4018004907074332,
          1.5965803487649912,
          -1.172660939298633,
          0.21534686913617163,
          0.32381486995187436,
          -0.48031947962522925,
          -0.9915831115612561,
          0.5743189760584034,
          1.3364528838768974,
          1.7184385811408116,
          0.8060306468627223,
          -0.1592831022441935,
          0.030413962435704718,
          0.4908581995328669,
          0.6926457462176457,
          0.7006117833376474,
          0.6254803836222584,
          -1.3521915809737919,
          1.0035711819933097,
          1.0991429054786748,
          -0.9501221247227347,
          0.37846812126768914,
          0.14018710012217417,
          -0.25002020205734365,
          -0.1940477459392332,
          0.9854223212780376,
          -0.048576601317167956,
          -1.6391949346868622,
          -0.5029522774006342,
          0.22454299260340901,
          -1.0437006377654168,
          -1.8432393820759239,
          1.4860543529988446,
          0.25925639242317694,
          -1.9011015915445786,
          1.530822152582684,
          -1.287798880976896,
          0.09969856459150653,
          1.8104490239397535,
          -0.011981171581963636,
          -0.6132088476260764,
          -0.7653711233891518,
          -0.5924127620864292,
          0.545014645700061,
          0.22297985137541332,
          -0.060651291628222304,
          -0.4381689468241831,
          0.5688489172127433,
          -1.142071268760698,
          -0.176396482666839,
          0.08023926729180372,
          -0.5604174421322821,
          -1.239735247913459,
          -0.33901356026669116,
          1.5170482579898217,
          0.5340910179666206,
          -0.15520151684010544
         ],
         "y": [
          -0.7841873731032164,
          0.8009585373301631,
          0.35912853577353376,
          -1.637195716260306,
          -0.8137811076804987,
          -1.5227093746524163,
          0.4751275891103972,
          2.2545227910285908,
          0.7473432467633813,
          -0.0901371083933123,
          0.08216878516264149,
          0.03891768747524125,
          -0.6870317590438287,
          0.20504978351576747,
          0.5005382633217199,
          0.517544627241533,
          -0.24681313433744986,
          -2.383066489872815,
          0.5875004212220813,
          1.1689428893134048,
          0.3159824979968826,
          0.8109765346855754,
          -2.523963431763149,
          0.28680741153841166,
          -0.6408225842363205,
          -0.9529700469656066,
          1.3652897274160092,
          1.0855465754059288,
          1.6066488236057124,
          -0.25653723324223743,
          1.6168868811283659,
          -1.271198406124969,
          0.16419298767304497,
          -0.44055447193845454,
          1.6015710298078216,
          -0.1430471347068909,
          0.9021535135953612,
          -1.0654109959325517,
          -0.9573982337686631,
          -1.1509421729320508,
          1.4697619893275924,
          0.3080910683563194,
          0.34511775412920676,
          -0.7110627505630052,
          0.7849974915348057,
          -0.24913985307064287,
          0.3695712565487848,
          -0.025544582206336392,
          0.5208609434089886,
          1.4084249762201595,
          -0.646728268539339,
          -0.5591495014109272,
          0.9790098936253699,
          -1.8776359953570707,
          -0.7511662975548304,
          1.1714326150925705,
          -0.4878334653413618,
          -1.1494861577769524,
          0.569878045508007,
          0.3508330540741481,
          -2.1549446511743904,
          0.062224330454202816,
          -2.532303388811436,
          0.16170368219037676,
          1.022090987720601,
          -0.4853797074782747,
          -1.4600886625847485,
          0.8483201880848096,
          -0.7680224867467416,
          0.8411693873777162,
          1.2824808863764259,
          -1.8061919418620977,
          0.09137783215605681,
          -1.4620833596602718,
          -0.07848184318174757,
          0.47869786951510584,
          1.2420644860880887,
          -1.3790116297472326,
          0.04605185255988004,
          -0.9956482280826694,
          -0.41713473804017825,
          0.7955018538018513,
          -1.7541914164224715,
          0.392966983382578,
          0.3048172512285247,
          -0.13268388072045006,
          -0.8038991057544754,
          -1.1416160001450917,
          -0.11886838653908616,
          0.17936663075068002,
          0.17629657019186099,
          0.3066106161541487,
          -0.2844822363415588,
          0.9921496878814966,
          -0.008728570693844402,
          0.3104119671105906,
          -1.3807410132916695,
          -1.550227459644481,
          -0.10179452643570254,
          -1.0156608608518538,
          1.0809316001014524,
          -3.4962140811267424,
          -0.14787738829714217,
          0.5466841401784719,
          -1.3248703064832819,
          0.6910275438636189,
          -0.5574452186770643,
          -0.13172419661459317,
          0.09248447549404408,
          0.8703049149852213,
          -0.7043391966981806,
          -0.09582990925817221,
          -0.14793567358010387,
          0.6922284187198288,
          -0.5015413680449421,
          0.11724375675455015,
          -0.5099951786176544,
          0.020341742230200337,
          0.6194723400543806,
          0.5012608057134346,
          -0.2539959444675535,
          0.5946303928236549,
          -1.684542764665536,
          0.2856960597546895,
          -0.7551981884103172,
          1.1810914139019497,
          -0.4612300085417507,
          -0.8011044991933414,
          2.2010550099678396,
          -1.1273604826554544,
          0.12270031566110878,
          2.553753351262337,
          2.3455129839372497,
          -1.2397472425429215,
          -0.3084980598514235,
          -0.6331485474132121,
          1.023554085823823,
          -1.0118812842747593,
          1.4004279080089916,
          0.33285450515325643,
          -0.6585065666698331,
          -0.06920622752256632,
          -0.10671989929459834,
          -0.059470381778092246,
          1.0955401637840054,
          -0.6273777372581278,
          0.5417734176222998,
          -0.21726753451384984,
          0.8784488922468059,
          0.6263683248135469,
          0.40392706845810256,
          2.3743615220641234,
          0.12272226362846327,
          -1.5165782097893545,
          1.6962009821975579,
          0.09106946275585416,
          -0.04379440227037618,
          0.477984930942629,
          -0.6411060835944705,
          -0.9240012386292931,
          1.0903521034665071,
          0.17601535513615452,
          -0.0914772558090765,
          0.34801756797515043,
          0.9865315012788557,
          -0.4254256724577614,
          0.30882503639436015,
          -1.224394728762868,
          -1.3181991310498655,
          -2.0909288448739924,
          0.33455003616213325,
          -0.570187723119425,
          0.014772275605977832,
          1.8224758207639304,
          -3.899681913426114,
          -0.12855490995748825,
          -0.4261877059462865,
          -1.8074095259400136,
          0.14105630079118756,
          -0.09328064443875779,
          0.02811094135377943,
          0.27475451156349023,
          -0.6630912987700992,
          -0.8428644564317997,
          -1.0281105956544458,
          -0.9668741126177827,
          -1.0388428881503668,
          -0.19847402630435346,
          0.37966060222790005,
          1.5122838319216265,
          0.2441844016365175,
          -0.9316333337569899,
          -1.0963997464511164,
          1.2759593524505086,
          0.9179271660848308,
          -0.4887846682012247,
          1.2188263078848585,
          -1.3066449847357786,
          0.09517390800784178,
          0.8525394438154805
         ]
        }
       ],
       "layout": {
        "legend": {
         "bgcolor": "#F5F6F9",
         "font": {
          "color": "#4D5663"
         }
        },
        "paper_bgcolor": "#F5F6F9",
        "plot_bgcolor": "#F5F6F9",
        "template": {
         "data": {
          "bar": [
           {
            "error_x": {
             "color": "#2a3f5f"
            },
            "error_y": {
             "color": "#2a3f5f"
            },
            "marker": {
             "line": {
              "color": "#E5ECF6",
              "width": 0.5
             },
             "pattern": {
              "fillmode": "overlay",
              "size": 10,
              "solidity": 0.2
             }
            },
            "type": "bar"
           }
          ],
          "barpolar": [
           {
            "marker": {
             "line": {
              "color": "#E5ECF6",
              "width": 0.5
             },
             "pattern": {
              "fillmode": "overlay",
              "size": 10,
              "solidity": 0.2
             }
            },
            "type": "barpolar"
           }
          ],
          "carpet": [
           {
            "aaxis": {
             "endlinecolor": "#2a3f5f",
             "gridcolor": "white",
             "linecolor": "white",
             "minorgridcolor": "white",
             "startlinecolor": "#2a3f5f"
            },
            "baxis": {
             "endlinecolor": "#2a3f5f",
             "gridcolor": "white",
             "linecolor": "white",
             "minorgridcolor": "white",
             "startlinecolor": "#2a3f5f"
            },
            "type": "carpet"
           }
          ],
          "choropleth": [
           {
            "colorbar": {
             "outlinewidth": 0,
             "ticks": ""
            },
            "type": "choropleth"
           }
          ],
          "contour": [
           {
            "colorbar": {
             "outlinewidth": 0,
             "ticks": ""
            },
            "colorscale": [
             [
              0,
              "#0d0887"
             ],
             [
              0.1111111111111111,
              "#46039f"
             ],
             [
              0.2222222222222222,
              "#7201a8"
             ],
             [
              0.3333333333333333,
              "#9c179e"
             ],
             [
              0.4444444444444444,
              "#bd3786"
             ],
             [
              0.5555555555555556,
              "#d8576b"
             ],
             [
              0.6666666666666666,
              "#ed7953"
             ],
             [
              0.7777777777777778,
              "#fb9f3a"
             ],
             [
              0.8888888888888888,
              "#fdca26"
             ],
             [
              1,
              "#f0f921"
             ]
            ],
            "type": "contour"
           }
          ],
          "contourcarpet": [
           {
            "colorbar": {
             "outlinewidth": 0,
             "ticks": ""
            },
            "type": "contourcarpet"
           }
          ],
          "heatmap": [
           {
            "colorbar": {
             "outlinewidth": 0,
             "ticks": ""
            },
            "colorscale": [
             [
              0,
              "#0d0887"
             ],
             [
              0.1111111111111111,
              "#46039f"
             ],
             [
              0.2222222222222222,
              "#7201a8"
             ],
             [
              0.3333333333333333,
              "#9c179e"
             ],
             [
              0.4444444444444444,
              "#bd3786"
             ],
             [
              0.5555555555555556,
              "#d8576b"
             ],
             [
              0.6666666666666666,
              "#ed7953"
             ],
             [
              0.7777777777777778,
              "#fb9f3a"
             ],
             [
              0.8888888888888888,
              "#fdca26"
             ],
             [
              1,
              "#f0f921"
             ]
            ],
            "type": "heatmap"
           }
          ],
          "heatmapgl": [
           {
            "colorbar": {
             "outlinewidth": 0,
             "ticks": ""
            },
            "colorscale": [
             [
              0,
              "#0d0887"
             ],
             [
              0.1111111111111111,
              "#46039f"
             ],
             [
              0.2222222222222222,
              "#7201a8"
             ],
             [
              0.3333333333333333,
              "#9c179e"
             ],
             [
              0.4444444444444444,
              "#bd3786"
             ],
             [
              0.5555555555555556,
              "#d8576b"
             ],
             [
              0.6666666666666666,
              "#ed7953"
             ],
             [
              0.7777777777777778,
              "#fb9f3a"
             ],
             [
              0.8888888888888888,
              "#fdca26"
             ],
             [
              1,
              "#f0f921"
             ]
            ],
            "type": "heatmapgl"
           }
          ],
          "histogram": [
           {
            "marker": {
             "pattern": {
              "fillmode": "overlay",
              "size": 10,
              "solidity": 0.2
             }
            },
            "type": "histogram"
           }
          ],
          "histogram2d": [
           {
            "colorbar": {
             "outlinewidth": 0,
             "ticks": ""
            },
            "colorscale": [
             [
              0,
              "#0d0887"
             ],
             [
              0.1111111111111111,
              "#46039f"
             ],
             [
              0.2222222222222222,
              "#7201a8"
             ],
             [
              0.3333333333333333,
              "#9c179e"
             ],
             [
              0.4444444444444444,
              "#bd3786"
             ],
             [
              0.5555555555555556,
              "#d8576b"
             ],
             [
              0.6666666666666666,
              "#ed7953"
             ],
             [
              0.7777777777777778,
              "#fb9f3a"
             ],
             [
              0.8888888888888888,
              "#fdca26"
             ],
             [
              1,
              "#f0f921"
             ]
            ],
            "type": "histogram2d"
           }
          ],
          "histogram2dcontour": [
           {
            "colorbar": {
             "outlinewidth": 0,
             "ticks": ""
            },
            "colorscale": [
             [
              0,
              "#0d0887"
             ],
             [
              0.1111111111111111,
              "#46039f"
             ],
             [
              0.2222222222222222,
              "#7201a8"
             ],
             [
              0.3333333333333333,
              "#9c179e"
             ],
             [
              0.4444444444444444,
              "#bd3786"
             ],
             [
              0.5555555555555556,
              "#d8576b"
             ],
             [
              0.6666666666666666,
              "#ed7953"
             ],
             [
              0.7777777777777778,
              "#fb9f3a"
             ],
             [
              0.8888888888888888,
              "#fdca26"
             ],
             [
              1,
              "#f0f921"
             ]
            ],
            "type": "histogram2dcontour"
           }
          ],
          "mesh3d": [
           {
            "colorbar": {
             "outlinewidth": 0,
             "ticks": ""
            },
            "type": "mesh3d"
           }
          ],
          "parcoords": [
           {
            "line": {
             "colorbar": {
              "outlinewidth": 0,
              "ticks": ""
             }
            },
            "type": "parcoords"
           }
          ],
          "pie": [
           {
            "automargin": true,
            "type": "pie"
           }
          ],
          "scatter": [
           {
            "fillpattern": {
             "fillmode": "overlay",
             "size": 10,
             "solidity": 0.2
            },
            "type": "scatter"
           }
          ],
          "scatter3d": [
           {
            "line": {
             "colorbar": {
              "outlinewidth": 0,
              "ticks": ""
             }
            },
            "marker": {
             "colorbar": {
              "outlinewidth": 0,
              "ticks": ""
             }
            },
            "type": "scatter3d"
           }
          ],
          "scattercarpet": [
           {
            "marker": {
             "colorbar": {
              "outlinewidth": 0,
              "ticks": ""
             }
            },
            "type": "scattercarpet"
           }
          ],
          "scattergeo": [
           {
            "marker": {
             "colorbar": {
              "outlinewidth": 0,
              "ticks": ""
             }
            },
            "type": "scattergeo"
           }
          ],
          "scattergl": [
           {
            "marker": {
             "colorbar": {
              "outlinewidth": 0,
              "ticks": ""
             }
            },
            "type": "scattergl"
           }
          ],
          "scattermapbox": [
           {
            "marker": {
             "colorbar": {
              "outlinewidth": 0,
              "ticks": ""
             }
            },
            "type": "scattermapbox"
           }
          ],
          "scatterpolar": [
           {
            "marker": {
             "colorbar": {
              "outlinewidth": 0,
              "ticks": ""
             }
            },
            "type": "scatterpolar"
           }
          ],
          "scatterpolargl": [
           {
            "marker": {
             "colorbar": {
              "outlinewidth": 0,
              "ticks": ""
             }
            },
            "type": "scatterpolargl"
           }
          ],
          "scatterternary": [
           {
            "marker": {
             "colorbar": {
              "outlinewidth": 0,
              "ticks": ""
             }
            },
            "type": "scatterternary"
           }
          ],
          "surface": [
           {
            "colorbar": {
             "outlinewidth": 0,
             "ticks": ""
            },
            "colorscale": [
             [
              0,
              "#0d0887"
             ],
             [
              0.1111111111111111,
              "#46039f"
             ],
             [
              0.2222222222222222,
              "#7201a8"
             ],
             [
              0.3333333333333333,
              "#9c179e"
             ],
             [
              0.4444444444444444,
              "#bd3786"
             ],
             [
              0.5555555555555556,
              "#d8576b"
             ],
             [
              0.6666666666666666,
              "#ed7953"
             ],
             [
              0.7777777777777778,
              "#fb9f3a"
             ],
             [
              0.8888888888888888,
              "#fdca26"
             ],
             [
              1,
              "#f0f921"
             ]
            ],
            "type": "surface"
           }
          ],
          "table": [
           {
            "cells": {
             "fill": {
              "color": "#EBF0F8"
             },
             "line": {
              "color": "white"
             }
            },
            "header": {
             "fill": {
              "color": "#C8D4E3"
             },
             "line": {
              "color": "white"
             }
            },
            "type": "table"
           }
          ]
         },
         "layout": {
          "annotationdefaults": {
           "arrowcolor": "#2a3f5f",
           "arrowhead": 0,
           "arrowwidth": 1
          },
          "autotypenumbers": "strict",
          "coloraxis": {
           "colorbar": {
            "outlinewidth": 0,
            "ticks": ""
           }
          },
          "colorscale": {
           "diverging": [
            [
             0,
             "#8e0152"
            ],
            [
             0.1,
             "#c51b7d"
            ],
            [
             0.2,
             "#de77ae"
            ],
            [
             0.3,
             "#f1b6da"
            ],
            [
             0.4,
             "#fde0ef"
            ],
            [
             0.5,
             "#f7f7f7"
            ],
            [
             0.6,
             "#e6f5d0"
            ],
            [
             0.7,
             "#b8e186"
            ],
            [
             0.8,
             "#7fbc41"
            ],
            [
             0.9,
             "#4d9221"
            ],
            [
             1,
             "#276419"
            ]
           ],
           "sequential": [
            [
             0,
             "#0d0887"
            ],
            [
             0.1111111111111111,
             "#46039f"
            ],
            [
             0.2222222222222222,
             "#7201a8"
            ],
            [
             0.3333333333333333,
             "#9c179e"
            ],
            [
             0.4444444444444444,
             "#bd3786"
            ],
            [
             0.5555555555555556,
             "#d8576b"
            ],
            [
             0.6666666666666666,
             "#ed7953"
            ],
            [
             0.7777777777777778,
             "#fb9f3a"
            ],
            [
             0.8888888888888888,
             "#fdca26"
            ],
            [
             1,
             "#f0f921"
            ]
           ],
           "sequentialminus": [
            [
             0,
             "#0d0887"
            ],
            [
             0.1111111111111111,
             "#46039f"
            ],
            [
             0.2222222222222222,
             "#7201a8"
            ],
            [
             0.3333333333333333,
             "#9c179e"
            ],
            [
             0.4444444444444444,
             "#bd3786"
            ],
            [
             0.5555555555555556,
             "#d8576b"
            ],
            [
             0.6666666666666666,
             "#ed7953"
            ],
            [
             0.7777777777777778,
             "#fb9f3a"
            ],
            [
             0.8888888888888888,
             "#fdca26"
            ],
            [
             1,
             "#f0f921"
            ]
           ]
          },
          "colorway": [
           "#636efa",
           "#EF553B",
           "#00cc96",
           "#ab63fa",
           "#FFA15A",
           "#19d3f3",
           "#FF6692",
           "#B6E880",
           "#FF97FF",
           "#FECB52"
          ],
          "font": {
           "color": "#2a3f5f"
          },
          "geo": {
           "bgcolor": "white",
           "lakecolor": "white",
           "landcolor": "#E5ECF6",
           "showlakes": true,
           "showland": true,
           "subunitcolor": "white"
          },
          "hoverlabel": {
           "align": "left"
          },
          "hovermode": "closest",
          "mapbox": {
           "style": "light"
          },
          "paper_bgcolor": "white",
          "plot_bgcolor": "#E5ECF6",
          "polar": {
           "angularaxis": {
            "gridcolor": "white",
            "linecolor": "white",
            "ticks": ""
           },
           "bgcolor": "#E5ECF6",
           "radialaxis": {
            "gridcolor": "white",
            "linecolor": "white",
            "ticks": ""
           }
          },
          "scene": {
           "xaxis": {
            "backgroundcolor": "#E5ECF6",
            "gridcolor": "white",
            "gridwidth": 2,
            "linecolor": "white",
            "showbackground": true,
            "ticks": "",
            "zerolinecolor": "white"
           },
           "yaxis": {
            "backgroundcolor": "#E5ECF6",
            "gridcolor": "white",
            "gridwidth": 2,
            "linecolor": "white",
            "showbackground": true,
            "ticks": "",
            "zerolinecolor": "white"
           },
           "zaxis": {
            "backgroundcolor": "#E5ECF6",
            "gridcolor": "white",
            "gridwidth": 2,
            "linecolor": "white",
            "showbackground": true,
            "ticks": "",
            "zerolinecolor": "white"
           }
          },
          "shapedefaults": {
           "line": {
            "color": "#2a3f5f"
           }
          },
          "ternary": {
           "aaxis": {
            "gridcolor": "white",
            "linecolor": "white",
            "ticks": ""
           },
           "baxis": {
            "gridcolor": "white",
            "linecolor": "white",
            "ticks": ""
           },
           "bgcolor": "#E5ECF6",
           "caxis": {
            "gridcolor": "white",
            "linecolor": "white",
            "ticks": ""
           }
          },
          "title": {
           "x": 0.05
          },
          "xaxis": {
           "automargin": true,
           "gridcolor": "white",
           "linecolor": "white",
           "ticks": "",
           "title": {
            "standoff": 15
           },
           "zerolinecolor": "white",
           "zerolinewidth": 2
          },
          "yaxis": {
           "automargin": true,
           "gridcolor": "white",
           "linecolor": "white",
           "ticks": "",
           "title": {
            "standoff": 15
           },
           "zerolinecolor": "white",
           "zerolinewidth": 2
          }
         }
        },
        "title": {
         "font": {
          "color": "#4D5663"
         }
        },
        "xaxis": {
         "gridcolor": "#E1E5ED",
         "showgrid": true,
         "tickfont": {
          "color": "#4D5663"
         },
         "title": {
          "font": {
           "color": "#4D5663"
          },
          "text": ""
         },
         "zerolinecolor": "#E1E5ED"
        },
        "yaxis": {
         "gridcolor": "#E1E5ED",
         "showgrid": true,
         "tickfont": {
          "color": "#4D5663"
         },
         "title": {
          "font": {
           "color": "#4D5663"
          },
          "text": ""
         },
         "zerolinecolor": "#E1E5ED"
        }
       }
      },
      "text/html": [
       "<div>                            <div id=\"63fc93df-b861-4664-af83-5c770ed5449d\" class=\"plotly-graph-div\" style=\"height:525px; width:100%;\"></div>            <script type=\"text/javascript\">                require([\"plotly\"], function(Plotly) {                    window.PLOTLYENV=window.PLOTLYENV || {};\n",
       "                    window.PLOTLYENV.BASE_URL='https://plot.ly';                                    if (document.getElementById(\"63fc93df-b861-4664-af83-5c770ed5449d\")) {                    Plotly.newPlot(                        \"63fc93df-b861-4664-af83-5c770ed5449d\",                        [{\"line\":{\"color\":\"rgba(255, 153, 51, 1.0)\",\"dash\":\"solid\",\"shape\":\"linear\",\"width\":1.3},\"mode\":\"lines\",\"name\":\"B\",\"text\":\"\",\"x\":[-1.27442414868139,-1.1609170527883417,1.4204384065706999,0.30162767483502906,-0.30357365164991607,-0.43282382543030656,0.35944573175417405,-0.4295187945193196,0.7620281690550206,-0.36893088009992153,1.1801685349273492,0.9088470986492464,-0.4464820580488011,0.553872530804751,-2.0857913695915515,-0.9242015828951299,0.8286955986732826,-1.4247622314751378,0.08843579140181713,0.3397102055430453,-0.4718844459217768,0.438731777545002,2.1862876755100915,1.4449232549446946,-0.5337234402711574,-1.5780243734361277,-0.1519508681620349,-0.33961733773040914,-0.34979568729960786,-0.20270335292931324,-0.218998054993648,-0.7357550618185167,0.37933073943218615,1.3869720218813224,1.2882944413717847,1.164518817325716,-2.4490023580782414,1.717326687030156,0.15099048757096017,2.643721451020964,-1.1950055851241006,-2.1741837953095775,-1.0914949863610013,0.5404548250368276,-0.851720544635452,0.3977349327425961,-0.13816632146110083,0.7789185011035422,-0.8347020306955291,1.0308341496898008,-2.6879201689959404,1.4419935501085068,1.2004809865819916,0.5264704215930576,0.21040572908680394,-0.6061349731963884,0.1224443685378313,0.8770471389493156,0.5694640641099016,-0.7462694410639408,0.6863760239959987,0.5027243411756473,-1.897263693447583,1.2176447800326728,0.0810915931493597,-0.9542604426994752,1.2665282947013128,-0.4513259554297812,1.5531617001295233,-0.8221211972329874,0.922073347480287,-2.101819072593588,0.4627675097267855,-0.18539299670362586,-1.544367262683224,-0.34987794061634664,0.5930509558217288,1.1209364383597173,-0.32687863886036883,-1.5801123892706,-0.2960327439414112,-2.1822455168390733,0.8228433635841862,-1.0562567691184752,0.1422965532146779,-0.347395354712389,-0.05673179291239016,-0.16796348760956062,0.3065524879558104,0.4746459135079892,0.414086270421272,-1.9145687457715863,-0.24274057420796188,-0.8431893163737985,-0.49976598706273523,0.07434811994979802,-1.7068900696272864,0.8923114834510971,-1.9328365673493935,0.881602633231934,0.4039405674615419,-1.080338344005075,0.6366188289993236,-1.123825580143212,-0.5764504195170491,0.9304295111101794,0.62033632944322,-0.12253634045679532,-0.9382744266208014,-1.5824764607829669,0.37763384799191796,-0.6259193070783746,0.9093178157884254,0.31426787385599597,1.30090619101618,0.8948420915857418,0.7965446210862713,1.1205627212559994,-0.9741567642404872,1.2042808601563262,-0.6622663412695803,1.6729179856963443,-0.2719078311775953,1.1778159837116802,2.9990295834839737,-0.013578953688290565,0.07804066172168907,-0.8836725978212442,-0.7631925578814764,0.7310233671491799,0.38003494225754925,-0.1972454027597303,0.2630754261733895,-0.3818491965844399,0.49858585104651515,-0.5748238819082675,1.311922396267592,1.1257269045380298,0.78436278385626,-3.4493096899847764,0.823503484988869,-0.9118299820991497,1.1148610422886407,-0.4018004907074332,1.5965803487649912,-1.172660939298633,0.21534686913617163,0.32381486995187436,-0.48031947962522925,-0.9915831115612561,0.5743189760584034,1.3364528838768974,1.7184385811408116,0.8060306468627223,-0.1592831022441935,0.030413962435704718,0.4908581995328669,0.6926457462176457,0.7006117833376474,0.6254803836222584,-1.3521915809737919,1.0035711819933097,1.0991429054786748,-0.9501221247227347,0.37846812126768914,0.14018710012217417,-0.25002020205734365,-0.1940477459392332,0.9854223212780376,-0.048576601317167956,-1.6391949346868622,-0.5029522774006342,0.22454299260340901,-1.0437006377654168,-1.8432393820759239,1.4860543529988446,0.25925639242317694,-1.9011015915445786,1.530822152582684,-1.287798880976896,0.09969856459150653,1.8104490239397535,-0.011981171581963636,-0.6132088476260764,-0.7653711233891518,-0.5924127620864292,0.545014645700061,0.22297985137541332,-0.060651291628222304,-0.4381689468241831,0.5688489172127433,-1.142071268760698,-0.176396482666839,0.08023926729180372,-0.5604174421322821,-1.239735247913459,-0.33901356026669116,1.5170482579898217,0.5340910179666206,-0.15520151684010544],\"y\":[-0.7841873731032164,0.8009585373301631,0.35912853577353376,-1.637195716260306,-0.8137811076804987,-1.5227093746524163,0.4751275891103972,2.2545227910285908,0.7473432467633813,-0.0901371083933123,0.08216878516264149,0.03891768747524125,-0.6870317590438287,0.20504978351576747,0.5005382633217199,0.517544627241533,-0.24681313433744986,-2.383066489872815,0.5875004212220813,1.1689428893134048,0.3159824979968826,0.8109765346855754,-2.523963431763149,0.28680741153841166,-0.6408225842363205,-0.9529700469656066,1.3652897274160092,1.0855465754059288,1.6066488236057124,-0.25653723324223743,1.6168868811283659,-1.271198406124969,0.16419298767304497,-0.44055447193845454,1.6015710298078216,-0.1430471347068909,0.9021535135953612,-1.0654109959325517,-0.9573982337686631,-1.1509421729320508,1.4697619893275924,0.3080910683563194,0.34511775412920676,-0.7110627505630052,0.7849974915348057,-0.24913985307064287,0.3695712565487848,-0.025544582206336392,0.5208609434089886,1.4084249762201595,-0.646728268539339,-0.5591495014109272,0.9790098936253699,-1.8776359953570707,-0.7511662975548304,1.1714326150925705,-0.4878334653413618,-1.1494861577769524,0.569878045508007,0.3508330540741481,-2.1549446511743904,0.062224330454202816,-2.532303388811436,0.16170368219037676,1.022090987720601,-0.4853797074782747,-1.4600886625847485,0.8483201880848096,-0.7680224867467416,0.8411693873777162,1.2824808863764259,-1.8061919418620977,0.09137783215605681,-1.4620833596602718,-0.07848184318174757,0.47869786951510584,1.2420644860880887,-1.3790116297472326,0.04605185255988004,-0.9956482280826694,-0.41713473804017825,0.7955018538018513,-1.7541914164224715,0.392966983382578,0.3048172512285247,-0.13268388072045006,-0.8038991057544754,-1.1416160001450917,-0.11886838653908616,0.17936663075068002,0.17629657019186099,0.3066106161541487,-0.2844822363415588,0.9921496878814966,-0.008728570693844402,0.3104119671105906,-1.3807410132916695,-1.550227459644481,-0.10179452643570254,-1.0156608608518538,1.0809316001014524,-3.4962140811267424,-0.14787738829714217,0.5466841401784719,-1.3248703064832819,0.6910275438636189,-0.5574452186770643,-0.13172419661459317,0.09248447549404408,0.8703049149852213,-0.7043391966981806,-0.09582990925817221,-0.14793567358010387,0.6922284187198288,-0.5015413680449421,0.11724375675455015,-0.5099951786176544,0.020341742230200337,0.6194723400543806,0.5012608057134346,-0.2539959444675535,0.5946303928236549,-1.684542764665536,0.2856960597546895,-0.7551981884103172,1.1810914139019497,-0.4612300085417507,-0.8011044991933414,2.2010550099678396,-1.1273604826554544,0.12270031566110878,2.553753351262337,2.3455129839372497,-1.2397472425429215,-0.3084980598514235,-0.6331485474132121,1.023554085823823,-1.0118812842747593,1.4004279080089916,0.33285450515325643,-0.6585065666698331,-0.06920622752256632,-0.10671989929459834,-0.059470381778092246,1.0955401637840054,-0.6273777372581278,0.5417734176222998,-0.21726753451384984,0.8784488922468059,0.6263683248135469,0.40392706845810256,2.3743615220641234,0.12272226362846327,-1.5165782097893545,1.6962009821975579,0.09106946275585416,-0.04379440227037618,0.477984930942629,-0.6411060835944705,-0.9240012386292931,1.0903521034665071,0.17601535513615452,-0.0914772558090765,0.34801756797515043,0.9865315012788557,-0.4254256724577614,0.30882503639436015,-1.224394728762868,-1.3181991310498655,-2.0909288448739924,0.33455003616213325,-0.570187723119425,0.014772275605977832,1.8224758207639304,-3.899681913426114,-0.12855490995748825,-0.4261877059462865,-1.8074095259400136,0.14105630079118756,-0.09328064443875779,0.02811094135377943,0.27475451156349023,-0.6630912987700992,-0.8428644564317997,-1.0281105956544458,-0.9668741126177827,-1.0388428881503668,-0.19847402630435346,0.37966060222790005,1.5122838319216265,0.2441844016365175,-0.9316333337569899,-1.0963997464511164,1.2759593524505086,0.9179271660848308,-0.4887846682012247,1.2188263078848585,-1.3066449847357786,0.09517390800784178,0.8525394438154805],\"type\":\"scatter\"}],                        {\"legend\":{\"bgcolor\":\"#F5F6F9\",\"font\":{\"color\":\"#4D5663\"}},\"paper_bgcolor\":\"#F5F6F9\",\"plot_bgcolor\":\"#F5F6F9\",\"template\":{\"data\":{\"barpolar\":[{\"marker\":{\"line\":{\"color\":\"#E5ECF6\",\"width\":0.5},\"pattern\":{\"fillmode\":\"overlay\",\"size\":10,\"solidity\":0.2}},\"type\":\"barpolar\"}],\"bar\":[{\"error_x\":{\"color\":\"#2a3f5f\"},\"error_y\":{\"color\":\"#2a3f5f\"},\"marker\":{\"line\":{\"color\":\"#E5ECF6\",\"width\":0.5},\"pattern\":{\"fillmode\":\"overlay\",\"size\":10,\"solidity\":0.2}},\"type\":\"bar\"}],\"carpet\":[{\"aaxis\":{\"endlinecolor\":\"#2a3f5f\",\"gridcolor\":\"white\",\"linecolor\":\"white\",\"minorgridcolor\":\"white\",\"startlinecolor\":\"#2a3f5f\"},\"baxis\":{\"endlinecolor\":\"#2a3f5f\",\"gridcolor\":\"white\",\"linecolor\":\"white\",\"minorgridcolor\":\"white\",\"startlinecolor\":\"#2a3f5f\"},\"type\":\"carpet\"}],\"choropleth\":[{\"colorbar\":{\"outlinewidth\":0,\"ticks\":\"\"},\"type\":\"choropleth\"}],\"contourcarpet\":[{\"colorbar\":{\"outlinewidth\":0,\"ticks\":\"\"},\"type\":\"contourcarpet\"}],\"contour\":[{\"colorbar\":{\"outlinewidth\":0,\"ticks\":\"\"},\"colorscale\":[[0.0,\"#0d0887\"],[0.1111111111111111,\"#46039f\"],[0.2222222222222222,\"#7201a8\"],[0.3333333333333333,\"#9c179e\"],[0.4444444444444444,\"#bd3786\"],[0.5555555555555556,\"#d8576b\"],[0.6666666666666666,\"#ed7953\"],[0.7777777777777778,\"#fb9f3a\"],[0.8888888888888888,\"#fdca26\"],[1.0,\"#f0f921\"]],\"type\":\"contour\"}],\"heatmapgl\":[{\"colorbar\":{\"outlinewidth\":0,\"ticks\":\"\"},\"colorscale\":[[0.0,\"#0d0887\"],[0.1111111111111111,\"#46039f\"],[0.2222222222222222,\"#7201a8\"],[0.3333333333333333,\"#9c179e\"],[0.4444444444444444,\"#bd3786\"],[0.5555555555555556,\"#d8576b\"],[0.6666666666666666,\"#ed7953\"],[0.7777777777777778,\"#fb9f3a\"],[0.8888888888888888,\"#fdca26\"],[1.0,\"#f0f921\"]],\"type\":\"heatmapgl\"}],\"heatmap\":[{\"colorbar\":{\"outlinewidth\":0,\"ticks\":\"\"},\"colorscale\":[[0.0,\"#0d0887\"],[0.1111111111111111,\"#46039f\"],[0.2222222222222222,\"#7201a8\"],[0.3333333333333333,\"#9c179e\"],[0.4444444444444444,\"#bd3786\"],[0.5555555555555556,\"#d8576b\"],[0.6666666666666666,\"#ed7953\"],[0.7777777777777778,\"#fb9f3a\"],[0.8888888888888888,\"#fdca26\"],[1.0,\"#f0f921\"]],\"type\":\"heatmap\"}],\"histogram2dcontour\":[{\"colorbar\":{\"outlinewidth\":0,\"ticks\":\"\"},\"colorscale\":[[0.0,\"#0d0887\"],[0.1111111111111111,\"#46039f\"],[0.2222222222222222,\"#7201a8\"],[0.3333333333333333,\"#9c179e\"],[0.4444444444444444,\"#bd3786\"],[0.5555555555555556,\"#d8576b\"],[0.6666666666666666,\"#ed7953\"],[0.7777777777777778,\"#fb9f3a\"],[0.8888888888888888,\"#fdca26\"],[1.0,\"#f0f921\"]],\"type\":\"histogram2dcontour\"}],\"histogram2d\":[{\"colorbar\":{\"outlinewidth\":0,\"ticks\":\"\"},\"colorscale\":[[0.0,\"#0d0887\"],[0.1111111111111111,\"#46039f\"],[0.2222222222222222,\"#7201a8\"],[0.3333333333333333,\"#9c179e\"],[0.4444444444444444,\"#bd3786\"],[0.5555555555555556,\"#d8576b\"],[0.6666666666666666,\"#ed7953\"],[0.7777777777777778,\"#fb9f3a\"],[0.8888888888888888,\"#fdca26\"],[1.0,\"#f0f921\"]],\"type\":\"histogram2d\"}],\"histogram\":[{\"marker\":{\"pattern\":{\"fillmode\":\"overlay\",\"size\":10,\"solidity\":0.2}},\"type\":\"histogram\"}],\"mesh3d\":[{\"colorbar\":{\"outlinewidth\":0,\"ticks\":\"\"},\"type\":\"mesh3d\"}],\"parcoords\":[{\"line\":{\"colorbar\":{\"outlinewidth\":0,\"ticks\":\"\"}},\"type\":\"parcoords\"}],\"pie\":[{\"automargin\":true,\"type\":\"pie\"}],\"scatter3d\":[{\"line\":{\"colorbar\":{\"outlinewidth\":0,\"ticks\":\"\"}},\"marker\":{\"colorbar\":{\"outlinewidth\":0,\"ticks\":\"\"}},\"type\":\"scatter3d\"}],\"scattercarpet\":[{\"marker\":{\"colorbar\":{\"outlinewidth\":0,\"ticks\":\"\"}},\"type\":\"scattercarpet\"}],\"scattergeo\":[{\"marker\":{\"colorbar\":{\"outlinewidth\":0,\"ticks\":\"\"}},\"type\":\"scattergeo\"}],\"scattergl\":[{\"marker\":{\"colorbar\":{\"outlinewidth\":0,\"ticks\":\"\"}},\"type\":\"scattergl\"}],\"scattermapbox\":[{\"marker\":{\"colorbar\":{\"outlinewidth\":0,\"ticks\":\"\"}},\"type\":\"scattermapbox\"}],\"scatterpolargl\":[{\"marker\":{\"colorbar\":{\"outlinewidth\":0,\"ticks\":\"\"}},\"type\":\"scatterpolargl\"}],\"scatterpolar\":[{\"marker\":{\"colorbar\":{\"outlinewidth\":0,\"ticks\":\"\"}},\"type\":\"scatterpolar\"}],\"scatter\":[{\"fillpattern\":{\"fillmode\":\"overlay\",\"size\":10,\"solidity\":0.2},\"type\":\"scatter\"}],\"scatterternary\":[{\"marker\":{\"colorbar\":{\"outlinewidth\":0,\"ticks\":\"\"}},\"type\":\"scatterternary\"}],\"surface\":[{\"colorbar\":{\"outlinewidth\":0,\"ticks\":\"\"},\"colorscale\":[[0.0,\"#0d0887\"],[0.1111111111111111,\"#46039f\"],[0.2222222222222222,\"#7201a8\"],[0.3333333333333333,\"#9c179e\"],[0.4444444444444444,\"#bd3786\"],[0.5555555555555556,\"#d8576b\"],[0.6666666666666666,\"#ed7953\"],[0.7777777777777778,\"#fb9f3a\"],[0.8888888888888888,\"#fdca26\"],[1.0,\"#f0f921\"]],\"type\":\"surface\"}],\"table\":[{\"cells\":{\"fill\":{\"color\":\"#EBF0F8\"},\"line\":{\"color\":\"white\"}},\"header\":{\"fill\":{\"color\":\"#C8D4E3\"},\"line\":{\"color\":\"white\"}},\"type\":\"table\"}]},\"layout\":{\"annotationdefaults\":{\"arrowcolor\":\"#2a3f5f\",\"arrowhead\":0,\"arrowwidth\":1},\"autotypenumbers\":\"strict\",\"coloraxis\":{\"colorbar\":{\"outlinewidth\":0,\"ticks\":\"\"}},\"colorscale\":{\"diverging\":[[0,\"#8e0152\"],[0.1,\"#c51b7d\"],[0.2,\"#de77ae\"],[0.3,\"#f1b6da\"],[0.4,\"#fde0ef\"],[0.5,\"#f7f7f7\"],[0.6,\"#e6f5d0\"],[0.7,\"#b8e186\"],[0.8,\"#7fbc41\"],[0.9,\"#4d9221\"],[1,\"#276419\"]],\"sequential\":[[0.0,\"#0d0887\"],[0.1111111111111111,\"#46039f\"],[0.2222222222222222,\"#7201a8\"],[0.3333333333333333,\"#9c179e\"],[0.4444444444444444,\"#bd3786\"],[0.5555555555555556,\"#d8576b\"],[0.6666666666666666,\"#ed7953\"],[0.7777777777777778,\"#fb9f3a\"],[0.8888888888888888,\"#fdca26\"],[1.0,\"#f0f921\"]],\"sequentialminus\":[[0.0,\"#0d0887\"],[0.1111111111111111,\"#46039f\"],[0.2222222222222222,\"#7201a8\"],[0.3333333333333333,\"#9c179e\"],[0.4444444444444444,\"#bd3786\"],[0.5555555555555556,\"#d8576b\"],[0.6666666666666666,\"#ed7953\"],[0.7777777777777778,\"#fb9f3a\"],[0.8888888888888888,\"#fdca26\"],[1.0,\"#f0f921\"]]},\"colorway\":[\"#636efa\",\"#EF553B\",\"#00cc96\",\"#ab63fa\",\"#FFA15A\",\"#19d3f3\",\"#FF6692\",\"#B6E880\",\"#FF97FF\",\"#FECB52\"],\"font\":{\"color\":\"#2a3f5f\"},\"geo\":{\"bgcolor\":\"white\",\"lakecolor\":\"white\",\"landcolor\":\"#E5ECF6\",\"showlakes\":true,\"showland\":true,\"subunitcolor\":\"white\"},\"hoverlabel\":{\"align\":\"left\"},\"hovermode\":\"closest\",\"mapbox\":{\"style\":\"light\"},\"paper_bgcolor\":\"white\",\"plot_bgcolor\":\"#E5ECF6\",\"polar\":{\"angularaxis\":{\"gridcolor\":\"white\",\"linecolor\":\"white\",\"ticks\":\"\"},\"bgcolor\":\"#E5ECF6\",\"radialaxis\":{\"gridcolor\":\"white\",\"linecolor\":\"white\",\"ticks\":\"\"}},\"scene\":{\"xaxis\":{\"backgroundcolor\":\"#E5ECF6\",\"gridcolor\":\"white\",\"gridwidth\":2,\"linecolor\":\"white\",\"showbackground\":true,\"ticks\":\"\",\"zerolinecolor\":\"white\"},\"yaxis\":{\"backgroundcolor\":\"#E5ECF6\",\"gridcolor\":\"white\",\"gridwidth\":2,\"linecolor\":\"white\",\"showbackground\":true,\"ticks\":\"\",\"zerolinecolor\":\"white\"},\"zaxis\":{\"backgroundcolor\":\"#E5ECF6\",\"gridcolor\":\"white\",\"gridwidth\":2,\"linecolor\":\"white\",\"showbackground\":true,\"ticks\":\"\",\"zerolinecolor\":\"white\"}},\"shapedefaults\":{\"line\":{\"color\":\"#2a3f5f\"}},\"ternary\":{\"aaxis\":{\"gridcolor\":\"white\",\"linecolor\":\"white\",\"ticks\":\"\"},\"baxis\":{\"gridcolor\":\"white\",\"linecolor\":\"white\",\"ticks\":\"\"},\"bgcolor\":\"#E5ECF6\",\"caxis\":{\"gridcolor\":\"white\",\"linecolor\":\"white\",\"ticks\":\"\"}},\"title\":{\"x\":0.05},\"xaxis\":{\"automargin\":true,\"gridcolor\":\"white\",\"linecolor\":\"white\",\"ticks\":\"\",\"title\":{\"standoff\":15},\"zerolinecolor\":\"white\",\"zerolinewidth\":2},\"yaxis\":{\"automargin\":true,\"gridcolor\":\"white\",\"linecolor\":\"white\",\"ticks\":\"\",\"title\":{\"standoff\":15},\"zerolinecolor\":\"white\",\"zerolinewidth\":2}}},\"title\":{\"font\":{\"color\":\"#4D5663\"}},\"xaxis\":{\"gridcolor\":\"#E1E5ED\",\"showgrid\":true,\"tickfont\":{\"color\":\"#4D5663\"},\"title\":{\"font\":{\"color\":\"#4D5663\"},\"text\":\"\"},\"zerolinecolor\":\"#E1E5ED\"},\"yaxis\":{\"gridcolor\":\"#E1E5ED\",\"showgrid\":true,\"tickfont\":{\"color\":\"#4D5663\"},\"title\":{\"font\":{\"color\":\"#4D5663\"},\"text\":\"\"},\"zerolinecolor\":\"#E1E5ED\"}},                        {\"showLink\": true, \"linkText\": \"Export to plot.ly\", \"plotlyServerURL\": \"https://plot.ly\", \"responsive\": true}                    ).then(function(){\n",
       "                            \n",
       "var gd = document.getElementById('63fc93df-b861-4664-af83-5c770ed5449d');\n",
       "var x = new MutationObserver(function (mutations, observer) {{\n",
       "        var display = window.getComputedStyle(gd).display;\n",
       "        if (!display || display === 'none') {{\n",
       "            console.log([gd, 'removed!']);\n",
       "            Plotly.purge(gd);\n",
       "            observer.disconnect();\n",
       "        }}\n",
       "}});\n",
       "\n",
       "// Listen for the removal of the full notebook cells\n",
       "var notebookContainer = gd.closest('#notebook-container');\n",
       "if (notebookContainer) {{\n",
       "    x.observe(notebookContainer, {childList: true});\n",
       "}}\n",
       "\n",
       "// Listen for the clearing of the current output cell\n",
       "var outputEl = gd.closest('.output');\n",
       "if (outputEl) {{\n",
       "    x.observe(outputEl, {childList: true});\n",
       "}}\n",
       "\n",
       "                        })                };                });            </script>        </div>"
      ]
     },
     "metadata": {},
     "output_type": "display_data"
    }
   ],
   "source": [
    "df.iplot(kind='scatter', x='A', y='B')"
   ]
  },
  {
   "cell_type": "code",
   "execution_count": 7,
   "id": "5325fa52",
   "metadata": {},
   "outputs": [
    {
     "data": {
      "application/vnd.plotly.v1+json": {
       "config": {
        "linkText": "Export to plot.ly",
        "plotlyServerURL": "https://plot.ly",
        "showLink": true
       },
       "data": [
        {
         "line": {
          "color": "rgba(255, 153, 51, 1.0)",
          "dash": "solid",
          "shape": "linear",
          "width": 1.3
         },
         "marker": {
          "size": 12,
          "symbol": "circle"
         },
         "mode": "markers",
         "name": "B",
         "text": "",
         "type": "scatter",
         "x": [
          -1.27442414868139,
          -1.1609170527883417,
          1.4204384065706999,
          0.30162767483502906,
          -0.30357365164991607,
          -0.43282382543030656,
          0.35944573175417405,
          -0.4295187945193196,
          0.7620281690550206,
          -0.36893088009992153,
          1.1801685349273492,
          0.9088470986492464,
          -0.4464820580488011,
          0.553872530804751,
          -2.0857913695915515,
          -0.9242015828951299,
          0.8286955986732826,
          -1.4247622314751378,
          0.08843579140181713,
          0.3397102055430453,
          -0.4718844459217768,
          0.438731777545002,
          2.1862876755100915,
          1.4449232549446946,
          -0.5337234402711574,
          -1.5780243734361277,
          -0.1519508681620349,
          -0.33961733773040914,
          -0.34979568729960786,
          -0.20270335292931324,
          -0.218998054993648,
          -0.7357550618185167,
          0.37933073943218615,
          1.3869720218813224,
          1.2882944413717847,
          1.164518817325716,
          -2.4490023580782414,
          1.717326687030156,
          0.15099048757096017,
          2.643721451020964,
          -1.1950055851241006,
          -2.1741837953095775,
          -1.0914949863610013,
          0.5404548250368276,
          -0.851720544635452,
          0.3977349327425961,
          -0.13816632146110083,
          0.7789185011035422,
          -0.8347020306955291,
          1.0308341496898008,
          -2.6879201689959404,
          1.4419935501085068,
          1.2004809865819916,
          0.5264704215930576,
          0.21040572908680394,
          -0.6061349731963884,
          0.1224443685378313,
          0.8770471389493156,
          0.5694640641099016,
          -0.7462694410639408,
          0.6863760239959987,
          0.5027243411756473,
          -1.897263693447583,
          1.2176447800326728,
          0.0810915931493597,
          -0.9542604426994752,
          1.2665282947013128,
          -0.4513259554297812,
          1.5531617001295233,
          -0.8221211972329874,
          0.922073347480287,
          -2.101819072593588,
          0.4627675097267855,
          -0.18539299670362586,
          -1.544367262683224,
          -0.34987794061634664,
          0.5930509558217288,
          1.1209364383597173,
          -0.32687863886036883,
          -1.5801123892706,
          -0.2960327439414112,
          -2.1822455168390733,
          0.8228433635841862,
          -1.0562567691184752,
          0.1422965532146779,
          -0.347395354712389,
          -0.05673179291239016,
          -0.16796348760956062,
          0.3065524879558104,
          0.4746459135079892,
          0.414086270421272,
          -1.9145687457715863,
          -0.24274057420796188,
          -0.8431893163737985,
          -0.49976598706273523,
          0.07434811994979802,
          -1.7068900696272864,
          0.8923114834510971,
          -1.9328365673493935,
          0.881602633231934,
          0.4039405674615419,
          -1.080338344005075,
          0.6366188289993236,
          -1.123825580143212,
          -0.5764504195170491,
          0.9304295111101794,
          0.62033632944322,
          -0.12253634045679532,
          -0.9382744266208014,
          -1.5824764607829669,
          0.37763384799191796,
          -0.6259193070783746,
          0.9093178157884254,
          0.31426787385599597,
          1.30090619101618,
          0.8948420915857418,
          0.7965446210862713,
          1.1205627212559994,
          -0.9741567642404872,
          1.2042808601563262,
          -0.6622663412695803,
          1.6729179856963443,
          -0.2719078311775953,
          1.1778159837116802,
          2.9990295834839737,
          -0.013578953688290565,
          0.07804066172168907,
          -0.8836725978212442,
          -0.7631925578814764,
          0.7310233671491799,
          0.38003494225754925,
          -0.1972454027597303,
          0.2630754261733895,
          -0.3818491965844399,
          0.49858585104651515,
          -0.5748238819082675,
          1.311922396267592,
          1.1257269045380298,
          0.78436278385626,
          -3.4493096899847764,
          0.823503484988869,
          -0.9118299820991497,
          1.1148610422886407,
          -0.4018004907074332,
          1.5965803487649912,
          -1.172660939298633,
          0.21534686913617163,
          0.32381486995187436,
          -0.48031947962522925,
          -0.9915831115612561,
          0.5743189760584034,
          1.3364528838768974,
          1.7184385811408116,
          0.8060306468627223,
          -0.1592831022441935,
          0.030413962435704718,
          0.4908581995328669,
          0.6926457462176457,
          0.7006117833376474,
          0.6254803836222584,
          -1.3521915809737919,
          1.0035711819933097,
          1.0991429054786748,
          -0.9501221247227347,
          0.37846812126768914,
          0.14018710012217417,
          -0.25002020205734365,
          -0.1940477459392332,
          0.9854223212780376,
          -0.048576601317167956,
          -1.6391949346868622,
          -0.5029522774006342,
          0.22454299260340901,
          -1.0437006377654168,
          -1.8432393820759239,
          1.4860543529988446,
          0.25925639242317694,
          -1.9011015915445786,
          1.530822152582684,
          -1.287798880976896,
          0.09969856459150653,
          1.8104490239397535,
          -0.011981171581963636,
          -0.6132088476260764,
          -0.7653711233891518,
          -0.5924127620864292,
          0.545014645700061,
          0.22297985137541332,
          -0.060651291628222304,
          -0.4381689468241831,
          0.5688489172127433,
          -1.142071268760698,
          -0.176396482666839,
          0.08023926729180372,
          -0.5604174421322821,
          -1.239735247913459,
          -0.33901356026669116,
          1.5170482579898217,
          0.5340910179666206,
          -0.15520151684010544
         ],
         "y": [
          -0.7841873731032164,
          0.8009585373301631,
          0.35912853577353376,
          -1.637195716260306,
          -0.8137811076804987,
          -1.5227093746524163,
          0.4751275891103972,
          2.2545227910285908,
          0.7473432467633813,
          -0.0901371083933123,
          0.08216878516264149,
          0.03891768747524125,
          -0.6870317590438287,
          0.20504978351576747,
          0.5005382633217199,
          0.517544627241533,
          -0.24681313433744986,
          -2.383066489872815,
          0.5875004212220813,
          1.1689428893134048,
          0.3159824979968826,
          0.8109765346855754,
          -2.523963431763149,
          0.28680741153841166,
          -0.6408225842363205,
          -0.9529700469656066,
          1.3652897274160092,
          1.0855465754059288,
          1.6066488236057124,
          -0.25653723324223743,
          1.6168868811283659,
          -1.271198406124969,
          0.16419298767304497,
          -0.44055447193845454,
          1.6015710298078216,
          -0.1430471347068909,
          0.9021535135953612,
          -1.0654109959325517,
          -0.9573982337686631,
          -1.1509421729320508,
          1.4697619893275924,
          0.3080910683563194,
          0.34511775412920676,
          -0.7110627505630052,
          0.7849974915348057,
          -0.24913985307064287,
          0.3695712565487848,
          -0.025544582206336392,
          0.5208609434089886,
          1.4084249762201595,
          -0.646728268539339,
          -0.5591495014109272,
          0.9790098936253699,
          -1.8776359953570707,
          -0.7511662975548304,
          1.1714326150925705,
          -0.4878334653413618,
          -1.1494861577769524,
          0.569878045508007,
          0.3508330540741481,
          -2.1549446511743904,
          0.062224330454202816,
          -2.532303388811436,
          0.16170368219037676,
          1.022090987720601,
          -0.4853797074782747,
          -1.4600886625847485,
          0.8483201880848096,
          -0.7680224867467416,
          0.8411693873777162,
          1.2824808863764259,
          -1.8061919418620977,
          0.09137783215605681,
          -1.4620833596602718,
          -0.07848184318174757,
          0.47869786951510584,
          1.2420644860880887,
          -1.3790116297472326,
          0.04605185255988004,
          -0.9956482280826694,
          -0.41713473804017825,
          0.7955018538018513,
          -1.7541914164224715,
          0.392966983382578,
          0.3048172512285247,
          -0.13268388072045006,
          -0.8038991057544754,
          -1.1416160001450917,
          -0.11886838653908616,
          0.17936663075068002,
          0.17629657019186099,
          0.3066106161541487,
          -0.2844822363415588,
          0.9921496878814966,
          -0.008728570693844402,
          0.3104119671105906,
          -1.3807410132916695,
          -1.550227459644481,
          -0.10179452643570254,
          -1.0156608608518538,
          1.0809316001014524,
          -3.4962140811267424,
          -0.14787738829714217,
          0.5466841401784719,
          -1.3248703064832819,
          0.6910275438636189,
          -0.5574452186770643,
          -0.13172419661459317,
          0.09248447549404408,
          0.8703049149852213,
          -0.7043391966981806,
          -0.09582990925817221,
          -0.14793567358010387,
          0.6922284187198288,
          -0.5015413680449421,
          0.11724375675455015,
          -0.5099951786176544,
          0.020341742230200337,
          0.6194723400543806,
          0.5012608057134346,
          -0.2539959444675535,
          0.5946303928236549,
          -1.684542764665536,
          0.2856960597546895,
          -0.7551981884103172,
          1.1810914139019497,
          -0.4612300085417507,
          -0.8011044991933414,
          2.2010550099678396,
          -1.1273604826554544,
          0.12270031566110878,
          2.553753351262337,
          2.3455129839372497,
          -1.2397472425429215,
          -0.3084980598514235,
          -0.6331485474132121,
          1.023554085823823,
          -1.0118812842747593,
          1.4004279080089916,
          0.33285450515325643,
          -0.6585065666698331,
          -0.06920622752256632,
          -0.10671989929459834,
          -0.059470381778092246,
          1.0955401637840054,
          -0.6273777372581278,
          0.5417734176222998,
          -0.21726753451384984,
          0.8784488922468059,
          0.6263683248135469,
          0.40392706845810256,
          2.3743615220641234,
          0.12272226362846327,
          -1.5165782097893545,
          1.6962009821975579,
          0.09106946275585416,
          -0.04379440227037618,
          0.477984930942629,
          -0.6411060835944705,
          -0.9240012386292931,
          1.0903521034665071,
          0.17601535513615452,
          -0.0914772558090765,
          0.34801756797515043,
          0.9865315012788557,
          -0.4254256724577614,
          0.30882503639436015,
          -1.224394728762868,
          -1.3181991310498655,
          -2.0909288448739924,
          0.33455003616213325,
          -0.570187723119425,
          0.014772275605977832,
          1.8224758207639304,
          -3.899681913426114,
          -0.12855490995748825,
          -0.4261877059462865,
          -1.8074095259400136,
          0.14105630079118756,
          -0.09328064443875779,
          0.02811094135377943,
          0.27475451156349023,
          -0.6630912987700992,
          -0.8428644564317997,
          -1.0281105956544458,
          -0.9668741126177827,
          -1.0388428881503668,
          -0.19847402630435346,
          0.37966060222790005,
          1.5122838319216265,
          0.2441844016365175,
          -0.9316333337569899,
          -1.0963997464511164,
          1.2759593524505086,
          0.9179271660848308,
          -0.4887846682012247,
          1.2188263078848585,
          -1.3066449847357786,
          0.09517390800784178,
          0.8525394438154805
         ]
        }
       ],
       "layout": {
        "legend": {
         "bgcolor": "#F5F6F9",
         "font": {
          "color": "#4D5663"
         }
        },
        "paper_bgcolor": "#F5F6F9",
        "plot_bgcolor": "#F5F6F9",
        "template": {
         "data": {
          "bar": [
           {
            "error_x": {
             "color": "#2a3f5f"
            },
            "error_y": {
             "color": "#2a3f5f"
            },
            "marker": {
             "line": {
              "color": "#E5ECF6",
              "width": 0.5
             },
             "pattern": {
              "fillmode": "overlay",
              "size": 10,
              "solidity": 0.2
             }
            },
            "type": "bar"
           }
          ],
          "barpolar": [
           {
            "marker": {
             "line": {
              "color": "#E5ECF6",
              "width": 0.5
             },
             "pattern": {
              "fillmode": "overlay",
              "size": 10,
              "solidity": 0.2
             }
            },
            "type": "barpolar"
           }
          ],
          "carpet": [
           {
            "aaxis": {
             "endlinecolor": "#2a3f5f",
             "gridcolor": "white",
             "linecolor": "white",
             "minorgridcolor": "white",
             "startlinecolor": "#2a3f5f"
            },
            "baxis": {
             "endlinecolor": "#2a3f5f",
             "gridcolor": "white",
             "linecolor": "white",
             "minorgridcolor": "white",
             "startlinecolor": "#2a3f5f"
            },
            "type": "carpet"
           }
          ],
          "choropleth": [
           {
            "colorbar": {
             "outlinewidth": 0,
             "ticks": ""
            },
            "type": "choropleth"
           }
          ],
          "contour": [
           {
            "colorbar": {
             "outlinewidth": 0,
             "ticks": ""
            },
            "colorscale": [
             [
              0,
              "#0d0887"
             ],
             [
              0.1111111111111111,
              "#46039f"
             ],
             [
              0.2222222222222222,
              "#7201a8"
             ],
             [
              0.3333333333333333,
              "#9c179e"
             ],
             [
              0.4444444444444444,
              "#bd3786"
             ],
             [
              0.5555555555555556,
              "#d8576b"
             ],
             [
              0.6666666666666666,
              "#ed7953"
             ],
             [
              0.7777777777777778,
              "#fb9f3a"
             ],
             [
              0.8888888888888888,
              "#fdca26"
             ],
             [
              1,
              "#f0f921"
             ]
            ],
            "type": "contour"
           }
          ],
          "contourcarpet": [
           {
            "colorbar": {
             "outlinewidth": 0,
             "ticks": ""
            },
            "type": "contourcarpet"
           }
          ],
          "heatmap": [
           {
            "colorbar": {
             "outlinewidth": 0,
             "ticks": ""
            },
            "colorscale": [
             [
              0,
              "#0d0887"
             ],
             [
              0.1111111111111111,
              "#46039f"
             ],
             [
              0.2222222222222222,
              "#7201a8"
             ],
             [
              0.3333333333333333,
              "#9c179e"
             ],
             [
              0.4444444444444444,
              "#bd3786"
             ],
             [
              0.5555555555555556,
              "#d8576b"
             ],
             [
              0.6666666666666666,
              "#ed7953"
             ],
             [
              0.7777777777777778,
              "#fb9f3a"
             ],
             [
              0.8888888888888888,
              "#fdca26"
             ],
             [
              1,
              "#f0f921"
             ]
            ],
            "type": "heatmap"
           }
          ],
          "heatmapgl": [
           {
            "colorbar": {
             "outlinewidth": 0,
             "ticks": ""
            },
            "colorscale": [
             [
              0,
              "#0d0887"
             ],
             [
              0.1111111111111111,
              "#46039f"
             ],
             [
              0.2222222222222222,
              "#7201a8"
             ],
             [
              0.3333333333333333,
              "#9c179e"
             ],
             [
              0.4444444444444444,
              "#bd3786"
             ],
             [
              0.5555555555555556,
              "#d8576b"
             ],
             [
              0.6666666666666666,
              "#ed7953"
             ],
             [
              0.7777777777777778,
              "#fb9f3a"
             ],
             [
              0.8888888888888888,
              "#fdca26"
             ],
             [
              1,
              "#f0f921"
             ]
            ],
            "type": "heatmapgl"
           }
          ],
          "histogram": [
           {
            "marker": {
             "pattern": {
              "fillmode": "overlay",
              "size": 10,
              "solidity": 0.2
             }
            },
            "type": "histogram"
           }
          ],
          "histogram2d": [
           {
            "colorbar": {
             "outlinewidth": 0,
             "ticks": ""
            },
            "colorscale": [
             [
              0,
              "#0d0887"
             ],
             [
              0.1111111111111111,
              "#46039f"
             ],
             [
              0.2222222222222222,
              "#7201a8"
             ],
             [
              0.3333333333333333,
              "#9c179e"
             ],
             [
              0.4444444444444444,
              "#bd3786"
             ],
             [
              0.5555555555555556,
              "#d8576b"
             ],
             [
              0.6666666666666666,
              "#ed7953"
             ],
             [
              0.7777777777777778,
              "#fb9f3a"
             ],
             [
              0.8888888888888888,
              "#fdca26"
             ],
             [
              1,
              "#f0f921"
             ]
            ],
            "type": "histogram2d"
           }
          ],
          "histogram2dcontour": [
           {
            "colorbar": {
             "outlinewidth": 0,
             "ticks": ""
            },
            "colorscale": [
             [
              0,
              "#0d0887"
             ],
             [
              0.1111111111111111,
              "#46039f"
             ],
             [
              0.2222222222222222,
              "#7201a8"
             ],
             [
              0.3333333333333333,
              "#9c179e"
             ],
             [
              0.4444444444444444,
              "#bd3786"
             ],
             [
              0.5555555555555556,
              "#d8576b"
             ],
             [
              0.6666666666666666,
              "#ed7953"
             ],
             [
              0.7777777777777778,
              "#fb9f3a"
             ],
             [
              0.8888888888888888,
              "#fdca26"
             ],
             [
              1,
              "#f0f921"
             ]
            ],
            "type": "histogram2dcontour"
           }
          ],
          "mesh3d": [
           {
            "colorbar": {
             "outlinewidth": 0,
             "ticks": ""
            },
            "type": "mesh3d"
           }
          ],
          "parcoords": [
           {
            "line": {
             "colorbar": {
              "outlinewidth": 0,
              "ticks": ""
             }
            },
            "type": "parcoords"
           }
          ],
          "pie": [
           {
            "automargin": true,
            "type": "pie"
           }
          ],
          "scatter": [
           {
            "fillpattern": {
             "fillmode": "overlay",
             "size": 10,
             "solidity": 0.2
            },
            "type": "scatter"
           }
          ],
          "scatter3d": [
           {
            "line": {
             "colorbar": {
              "outlinewidth": 0,
              "ticks": ""
             }
            },
            "marker": {
             "colorbar": {
              "outlinewidth": 0,
              "ticks": ""
             }
            },
            "type": "scatter3d"
           }
          ],
          "scattercarpet": [
           {
            "marker": {
             "colorbar": {
              "outlinewidth": 0,
              "ticks": ""
             }
            },
            "type": "scattercarpet"
           }
          ],
          "scattergeo": [
           {
            "marker": {
             "colorbar": {
              "outlinewidth": 0,
              "ticks": ""
             }
            },
            "type": "scattergeo"
           }
          ],
          "scattergl": [
           {
            "marker": {
             "colorbar": {
              "outlinewidth": 0,
              "ticks": ""
             }
            },
            "type": "scattergl"
           }
          ],
          "scattermapbox": [
           {
            "marker": {
             "colorbar": {
              "outlinewidth": 0,
              "ticks": ""
             }
            },
            "type": "scattermapbox"
           }
          ],
          "scatterpolar": [
           {
            "marker": {
             "colorbar": {
              "outlinewidth": 0,
              "ticks": ""
             }
            },
            "type": "scatterpolar"
           }
          ],
          "scatterpolargl": [
           {
            "marker": {
             "colorbar": {
              "outlinewidth": 0,
              "ticks": ""
             }
            },
            "type": "scatterpolargl"
           }
          ],
          "scatterternary": [
           {
            "marker": {
             "colorbar": {
              "outlinewidth": 0,
              "ticks": ""
             }
            },
            "type": "scatterternary"
           }
          ],
          "surface": [
           {
            "colorbar": {
             "outlinewidth": 0,
             "ticks": ""
            },
            "colorscale": [
             [
              0,
              "#0d0887"
             ],
             [
              0.1111111111111111,
              "#46039f"
             ],
             [
              0.2222222222222222,
              "#7201a8"
             ],
             [
              0.3333333333333333,
              "#9c179e"
             ],
             [
              0.4444444444444444,
              "#bd3786"
             ],
             [
              0.5555555555555556,
              "#d8576b"
             ],
             [
              0.6666666666666666,
              "#ed7953"
             ],
             [
              0.7777777777777778,
              "#fb9f3a"
             ],
             [
              0.8888888888888888,
              "#fdca26"
             ],
             [
              1,
              "#f0f921"
             ]
            ],
            "type": "surface"
           }
          ],
          "table": [
           {
            "cells": {
             "fill": {
              "color": "#EBF0F8"
             },
             "line": {
              "color": "white"
             }
            },
            "header": {
             "fill": {
              "color": "#C8D4E3"
             },
             "line": {
              "color": "white"
             }
            },
            "type": "table"
           }
          ]
         },
         "layout": {
          "annotationdefaults": {
           "arrowcolor": "#2a3f5f",
           "arrowhead": 0,
           "arrowwidth": 1
          },
          "autotypenumbers": "strict",
          "coloraxis": {
           "colorbar": {
            "outlinewidth": 0,
            "ticks": ""
           }
          },
          "colorscale": {
           "diverging": [
            [
             0,
             "#8e0152"
            ],
            [
             0.1,
             "#c51b7d"
            ],
            [
             0.2,
             "#de77ae"
            ],
            [
             0.3,
             "#f1b6da"
            ],
            [
             0.4,
             "#fde0ef"
            ],
            [
             0.5,
             "#f7f7f7"
            ],
            [
             0.6,
             "#e6f5d0"
            ],
            [
             0.7,
             "#b8e186"
            ],
            [
             0.8,
             "#7fbc41"
            ],
            [
             0.9,
             "#4d9221"
            ],
            [
             1,
             "#276419"
            ]
           ],
           "sequential": [
            [
             0,
             "#0d0887"
            ],
            [
             0.1111111111111111,
             "#46039f"
            ],
            [
             0.2222222222222222,
             "#7201a8"
            ],
            [
             0.3333333333333333,
             "#9c179e"
            ],
            [
             0.4444444444444444,
             "#bd3786"
            ],
            [
             0.5555555555555556,
             "#d8576b"
            ],
            [
             0.6666666666666666,
             "#ed7953"
            ],
            [
             0.7777777777777778,
             "#fb9f3a"
            ],
            [
             0.8888888888888888,
             "#fdca26"
            ],
            [
             1,
             "#f0f921"
            ]
           ],
           "sequentialminus": [
            [
             0,
             "#0d0887"
            ],
            [
             0.1111111111111111,
             "#46039f"
            ],
            [
             0.2222222222222222,
             "#7201a8"
            ],
            [
             0.3333333333333333,
             "#9c179e"
            ],
            [
             0.4444444444444444,
             "#bd3786"
            ],
            [
             0.5555555555555556,
             "#d8576b"
            ],
            [
             0.6666666666666666,
             "#ed7953"
            ],
            [
             0.7777777777777778,
             "#fb9f3a"
            ],
            [
             0.8888888888888888,
             "#fdca26"
            ],
            [
             1,
             "#f0f921"
            ]
           ]
          },
          "colorway": [
           "#636efa",
           "#EF553B",
           "#00cc96",
           "#ab63fa",
           "#FFA15A",
           "#19d3f3",
           "#FF6692",
           "#B6E880",
           "#FF97FF",
           "#FECB52"
          ],
          "font": {
           "color": "#2a3f5f"
          },
          "geo": {
           "bgcolor": "white",
           "lakecolor": "white",
           "landcolor": "#E5ECF6",
           "showlakes": true,
           "showland": true,
           "subunitcolor": "white"
          },
          "hoverlabel": {
           "align": "left"
          },
          "hovermode": "closest",
          "mapbox": {
           "style": "light"
          },
          "paper_bgcolor": "white",
          "plot_bgcolor": "#E5ECF6",
          "polar": {
           "angularaxis": {
            "gridcolor": "white",
            "linecolor": "white",
            "ticks": ""
           },
           "bgcolor": "#E5ECF6",
           "radialaxis": {
            "gridcolor": "white",
            "linecolor": "white",
            "ticks": ""
           }
          },
          "scene": {
           "xaxis": {
            "backgroundcolor": "#E5ECF6",
            "gridcolor": "white",
            "gridwidth": 2,
            "linecolor": "white",
            "showbackground": true,
            "ticks": "",
            "zerolinecolor": "white"
           },
           "yaxis": {
            "backgroundcolor": "#E5ECF6",
            "gridcolor": "white",
            "gridwidth": 2,
            "linecolor": "white",
            "showbackground": true,
            "ticks": "",
            "zerolinecolor": "white"
           },
           "zaxis": {
            "backgroundcolor": "#E5ECF6",
            "gridcolor": "white",
            "gridwidth": 2,
            "linecolor": "white",
            "showbackground": true,
            "ticks": "",
            "zerolinecolor": "white"
           }
          },
          "shapedefaults": {
           "line": {
            "color": "#2a3f5f"
           }
          },
          "ternary": {
           "aaxis": {
            "gridcolor": "white",
            "linecolor": "white",
            "ticks": ""
           },
           "baxis": {
            "gridcolor": "white",
            "linecolor": "white",
            "ticks": ""
           },
           "bgcolor": "#E5ECF6",
           "caxis": {
            "gridcolor": "white",
            "linecolor": "white",
            "ticks": ""
           }
          },
          "title": {
           "x": 0.05
          },
          "xaxis": {
           "automargin": true,
           "gridcolor": "white",
           "linecolor": "white",
           "ticks": "",
           "title": {
            "standoff": 15
           },
           "zerolinecolor": "white",
           "zerolinewidth": 2
          },
          "yaxis": {
           "automargin": true,
           "gridcolor": "white",
           "linecolor": "white",
           "ticks": "",
           "title": {
            "standoff": 15
           },
           "zerolinecolor": "white",
           "zerolinewidth": 2
          }
         }
        },
        "title": {
         "font": {
          "color": "#4D5663"
         }
        },
        "xaxis": {
         "gridcolor": "#E1E5ED",
         "showgrid": true,
         "tickfont": {
          "color": "#4D5663"
         },
         "title": {
          "font": {
           "color": "#4D5663"
          },
          "text": ""
         },
         "zerolinecolor": "#E1E5ED"
        },
        "yaxis": {
         "gridcolor": "#E1E5ED",
         "showgrid": true,
         "tickfont": {
          "color": "#4D5663"
         },
         "title": {
          "font": {
           "color": "#4D5663"
          },
          "text": ""
         },
         "zerolinecolor": "#E1E5ED"
        }
       }
      },
      "text/html": [
       "<div>                            <div id=\"16653f9d-398c-4b53-8b60-039936468e28\" class=\"plotly-graph-div\" style=\"height:525px; width:100%;\"></div>            <script type=\"text/javascript\">                require([\"plotly\"], function(Plotly) {                    window.PLOTLYENV=window.PLOTLYENV || {};\n",
       "                    window.PLOTLYENV.BASE_URL='https://plot.ly';                                    if (document.getElementById(\"16653f9d-398c-4b53-8b60-039936468e28\")) {                    Plotly.newPlot(                        \"16653f9d-398c-4b53-8b60-039936468e28\",                        [{\"line\":{\"color\":\"rgba(255, 153, 51, 1.0)\",\"dash\":\"solid\",\"shape\":\"linear\",\"width\":1.3},\"marker\":{\"size\":12,\"symbol\":\"circle\"},\"mode\":\"markers\",\"name\":\"B\",\"text\":\"\",\"x\":[-1.27442414868139,-1.1609170527883417,1.4204384065706999,0.30162767483502906,-0.30357365164991607,-0.43282382543030656,0.35944573175417405,-0.4295187945193196,0.7620281690550206,-0.36893088009992153,1.1801685349273492,0.9088470986492464,-0.4464820580488011,0.553872530804751,-2.0857913695915515,-0.9242015828951299,0.8286955986732826,-1.4247622314751378,0.08843579140181713,0.3397102055430453,-0.4718844459217768,0.438731777545002,2.1862876755100915,1.4449232549446946,-0.5337234402711574,-1.5780243734361277,-0.1519508681620349,-0.33961733773040914,-0.34979568729960786,-0.20270335292931324,-0.218998054993648,-0.7357550618185167,0.37933073943218615,1.3869720218813224,1.2882944413717847,1.164518817325716,-2.4490023580782414,1.717326687030156,0.15099048757096017,2.643721451020964,-1.1950055851241006,-2.1741837953095775,-1.0914949863610013,0.5404548250368276,-0.851720544635452,0.3977349327425961,-0.13816632146110083,0.7789185011035422,-0.8347020306955291,1.0308341496898008,-2.6879201689959404,1.4419935501085068,1.2004809865819916,0.5264704215930576,0.21040572908680394,-0.6061349731963884,0.1224443685378313,0.8770471389493156,0.5694640641099016,-0.7462694410639408,0.6863760239959987,0.5027243411756473,-1.897263693447583,1.2176447800326728,0.0810915931493597,-0.9542604426994752,1.2665282947013128,-0.4513259554297812,1.5531617001295233,-0.8221211972329874,0.922073347480287,-2.101819072593588,0.4627675097267855,-0.18539299670362586,-1.544367262683224,-0.34987794061634664,0.5930509558217288,1.1209364383597173,-0.32687863886036883,-1.5801123892706,-0.2960327439414112,-2.1822455168390733,0.8228433635841862,-1.0562567691184752,0.1422965532146779,-0.347395354712389,-0.05673179291239016,-0.16796348760956062,0.3065524879558104,0.4746459135079892,0.414086270421272,-1.9145687457715863,-0.24274057420796188,-0.8431893163737985,-0.49976598706273523,0.07434811994979802,-1.7068900696272864,0.8923114834510971,-1.9328365673493935,0.881602633231934,0.4039405674615419,-1.080338344005075,0.6366188289993236,-1.123825580143212,-0.5764504195170491,0.9304295111101794,0.62033632944322,-0.12253634045679532,-0.9382744266208014,-1.5824764607829669,0.37763384799191796,-0.6259193070783746,0.9093178157884254,0.31426787385599597,1.30090619101618,0.8948420915857418,0.7965446210862713,1.1205627212559994,-0.9741567642404872,1.2042808601563262,-0.6622663412695803,1.6729179856963443,-0.2719078311775953,1.1778159837116802,2.9990295834839737,-0.013578953688290565,0.07804066172168907,-0.8836725978212442,-0.7631925578814764,0.7310233671491799,0.38003494225754925,-0.1972454027597303,0.2630754261733895,-0.3818491965844399,0.49858585104651515,-0.5748238819082675,1.311922396267592,1.1257269045380298,0.78436278385626,-3.4493096899847764,0.823503484988869,-0.9118299820991497,1.1148610422886407,-0.4018004907074332,1.5965803487649912,-1.172660939298633,0.21534686913617163,0.32381486995187436,-0.48031947962522925,-0.9915831115612561,0.5743189760584034,1.3364528838768974,1.7184385811408116,0.8060306468627223,-0.1592831022441935,0.030413962435704718,0.4908581995328669,0.6926457462176457,0.7006117833376474,0.6254803836222584,-1.3521915809737919,1.0035711819933097,1.0991429054786748,-0.9501221247227347,0.37846812126768914,0.14018710012217417,-0.25002020205734365,-0.1940477459392332,0.9854223212780376,-0.048576601317167956,-1.6391949346868622,-0.5029522774006342,0.22454299260340901,-1.0437006377654168,-1.8432393820759239,1.4860543529988446,0.25925639242317694,-1.9011015915445786,1.530822152582684,-1.287798880976896,0.09969856459150653,1.8104490239397535,-0.011981171581963636,-0.6132088476260764,-0.7653711233891518,-0.5924127620864292,0.545014645700061,0.22297985137541332,-0.060651291628222304,-0.4381689468241831,0.5688489172127433,-1.142071268760698,-0.176396482666839,0.08023926729180372,-0.5604174421322821,-1.239735247913459,-0.33901356026669116,1.5170482579898217,0.5340910179666206,-0.15520151684010544],\"y\":[-0.7841873731032164,0.8009585373301631,0.35912853577353376,-1.637195716260306,-0.8137811076804987,-1.5227093746524163,0.4751275891103972,2.2545227910285908,0.7473432467633813,-0.0901371083933123,0.08216878516264149,0.03891768747524125,-0.6870317590438287,0.20504978351576747,0.5005382633217199,0.517544627241533,-0.24681313433744986,-2.383066489872815,0.5875004212220813,1.1689428893134048,0.3159824979968826,0.8109765346855754,-2.523963431763149,0.28680741153841166,-0.6408225842363205,-0.9529700469656066,1.3652897274160092,1.0855465754059288,1.6066488236057124,-0.25653723324223743,1.6168868811283659,-1.271198406124969,0.16419298767304497,-0.44055447193845454,1.6015710298078216,-0.1430471347068909,0.9021535135953612,-1.0654109959325517,-0.9573982337686631,-1.1509421729320508,1.4697619893275924,0.3080910683563194,0.34511775412920676,-0.7110627505630052,0.7849974915348057,-0.24913985307064287,0.3695712565487848,-0.025544582206336392,0.5208609434089886,1.4084249762201595,-0.646728268539339,-0.5591495014109272,0.9790098936253699,-1.8776359953570707,-0.7511662975548304,1.1714326150925705,-0.4878334653413618,-1.1494861577769524,0.569878045508007,0.3508330540741481,-2.1549446511743904,0.062224330454202816,-2.532303388811436,0.16170368219037676,1.022090987720601,-0.4853797074782747,-1.4600886625847485,0.8483201880848096,-0.7680224867467416,0.8411693873777162,1.2824808863764259,-1.8061919418620977,0.09137783215605681,-1.4620833596602718,-0.07848184318174757,0.47869786951510584,1.2420644860880887,-1.3790116297472326,0.04605185255988004,-0.9956482280826694,-0.41713473804017825,0.7955018538018513,-1.7541914164224715,0.392966983382578,0.3048172512285247,-0.13268388072045006,-0.8038991057544754,-1.1416160001450917,-0.11886838653908616,0.17936663075068002,0.17629657019186099,0.3066106161541487,-0.2844822363415588,0.9921496878814966,-0.008728570693844402,0.3104119671105906,-1.3807410132916695,-1.550227459644481,-0.10179452643570254,-1.0156608608518538,1.0809316001014524,-3.4962140811267424,-0.14787738829714217,0.5466841401784719,-1.3248703064832819,0.6910275438636189,-0.5574452186770643,-0.13172419661459317,0.09248447549404408,0.8703049149852213,-0.7043391966981806,-0.09582990925817221,-0.14793567358010387,0.6922284187198288,-0.5015413680449421,0.11724375675455015,-0.5099951786176544,0.020341742230200337,0.6194723400543806,0.5012608057134346,-0.2539959444675535,0.5946303928236549,-1.684542764665536,0.2856960597546895,-0.7551981884103172,1.1810914139019497,-0.4612300085417507,-0.8011044991933414,2.2010550099678396,-1.1273604826554544,0.12270031566110878,2.553753351262337,2.3455129839372497,-1.2397472425429215,-0.3084980598514235,-0.6331485474132121,1.023554085823823,-1.0118812842747593,1.4004279080089916,0.33285450515325643,-0.6585065666698331,-0.06920622752256632,-0.10671989929459834,-0.059470381778092246,1.0955401637840054,-0.6273777372581278,0.5417734176222998,-0.21726753451384984,0.8784488922468059,0.6263683248135469,0.40392706845810256,2.3743615220641234,0.12272226362846327,-1.5165782097893545,1.6962009821975579,0.09106946275585416,-0.04379440227037618,0.477984930942629,-0.6411060835944705,-0.9240012386292931,1.0903521034665071,0.17601535513615452,-0.0914772558090765,0.34801756797515043,0.9865315012788557,-0.4254256724577614,0.30882503639436015,-1.224394728762868,-1.3181991310498655,-2.0909288448739924,0.33455003616213325,-0.570187723119425,0.014772275605977832,1.8224758207639304,-3.899681913426114,-0.12855490995748825,-0.4261877059462865,-1.8074095259400136,0.14105630079118756,-0.09328064443875779,0.02811094135377943,0.27475451156349023,-0.6630912987700992,-0.8428644564317997,-1.0281105956544458,-0.9668741126177827,-1.0388428881503668,-0.19847402630435346,0.37966060222790005,1.5122838319216265,0.2441844016365175,-0.9316333337569899,-1.0963997464511164,1.2759593524505086,0.9179271660848308,-0.4887846682012247,1.2188263078848585,-1.3066449847357786,0.09517390800784178,0.8525394438154805],\"type\":\"scatter\"}],                        {\"legend\":{\"bgcolor\":\"#F5F6F9\",\"font\":{\"color\":\"#4D5663\"}},\"paper_bgcolor\":\"#F5F6F9\",\"plot_bgcolor\":\"#F5F6F9\",\"template\":{\"data\":{\"barpolar\":[{\"marker\":{\"line\":{\"color\":\"#E5ECF6\",\"width\":0.5},\"pattern\":{\"fillmode\":\"overlay\",\"size\":10,\"solidity\":0.2}},\"type\":\"barpolar\"}],\"bar\":[{\"error_x\":{\"color\":\"#2a3f5f\"},\"error_y\":{\"color\":\"#2a3f5f\"},\"marker\":{\"line\":{\"color\":\"#E5ECF6\",\"width\":0.5},\"pattern\":{\"fillmode\":\"overlay\",\"size\":10,\"solidity\":0.2}},\"type\":\"bar\"}],\"carpet\":[{\"aaxis\":{\"endlinecolor\":\"#2a3f5f\",\"gridcolor\":\"white\",\"linecolor\":\"white\",\"minorgridcolor\":\"white\",\"startlinecolor\":\"#2a3f5f\"},\"baxis\":{\"endlinecolor\":\"#2a3f5f\",\"gridcolor\":\"white\",\"linecolor\":\"white\",\"minorgridcolor\":\"white\",\"startlinecolor\":\"#2a3f5f\"},\"type\":\"carpet\"}],\"choropleth\":[{\"colorbar\":{\"outlinewidth\":0,\"ticks\":\"\"},\"type\":\"choropleth\"}],\"contourcarpet\":[{\"colorbar\":{\"outlinewidth\":0,\"ticks\":\"\"},\"type\":\"contourcarpet\"}],\"contour\":[{\"colorbar\":{\"outlinewidth\":0,\"ticks\":\"\"},\"colorscale\":[[0.0,\"#0d0887\"],[0.1111111111111111,\"#46039f\"],[0.2222222222222222,\"#7201a8\"],[0.3333333333333333,\"#9c179e\"],[0.4444444444444444,\"#bd3786\"],[0.5555555555555556,\"#d8576b\"],[0.6666666666666666,\"#ed7953\"],[0.7777777777777778,\"#fb9f3a\"],[0.8888888888888888,\"#fdca26\"],[1.0,\"#f0f921\"]],\"type\":\"contour\"}],\"heatmapgl\":[{\"colorbar\":{\"outlinewidth\":0,\"ticks\":\"\"},\"colorscale\":[[0.0,\"#0d0887\"],[0.1111111111111111,\"#46039f\"],[0.2222222222222222,\"#7201a8\"],[0.3333333333333333,\"#9c179e\"],[0.4444444444444444,\"#bd3786\"],[0.5555555555555556,\"#d8576b\"],[0.6666666666666666,\"#ed7953\"],[0.7777777777777778,\"#fb9f3a\"],[0.8888888888888888,\"#fdca26\"],[1.0,\"#f0f921\"]],\"type\":\"heatmapgl\"}],\"heatmap\":[{\"colorbar\":{\"outlinewidth\":0,\"ticks\":\"\"},\"colorscale\":[[0.0,\"#0d0887\"],[0.1111111111111111,\"#46039f\"],[0.2222222222222222,\"#7201a8\"],[0.3333333333333333,\"#9c179e\"],[0.4444444444444444,\"#bd3786\"],[0.5555555555555556,\"#d8576b\"],[0.6666666666666666,\"#ed7953\"],[0.7777777777777778,\"#fb9f3a\"],[0.8888888888888888,\"#fdca26\"],[1.0,\"#f0f921\"]],\"type\":\"heatmap\"}],\"histogram2dcontour\":[{\"colorbar\":{\"outlinewidth\":0,\"ticks\":\"\"},\"colorscale\":[[0.0,\"#0d0887\"],[0.1111111111111111,\"#46039f\"],[0.2222222222222222,\"#7201a8\"],[0.3333333333333333,\"#9c179e\"],[0.4444444444444444,\"#bd3786\"],[0.5555555555555556,\"#d8576b\"],[0.6666666666666666,\"#ed7953\"],[0.7777777777777778,\"#fb9f3a\"],[0.8888888888888888,\"#fdca26\"],[1.0,\"#f0f921\"]],\"type\":\"histogram2dcontour\"}],\"histogram2d\":[{\"colorbar\":{\"outlinewidth\":0,\"ticks\":\"\"},\"colorscale\":[[0.0,\"#0d0887\"],[0.1111111111111111,\"#46039f\"],[0.2222222222222222,\"#7201a8\"],[0.3333333333333333,\"#9c179e\"],[0.4444444444444444,\"#bd3786\"],[0.5555555555555556,\"#d8576b\"],[0.6666666666666666,\"#ed7953\"],[0.7777777777777778,\"#fb9f3a\"],[0.8888888888888888,\"#fdca26\"],[1.0,\"#f0f921\"]],\"type\":\"histogram2d\"}],\"histogram\":[{\"marker\":{\"pattern\":{\"fillmode\":\"overlay\",\"size\":10,\"solidity\":0.2}},\"type\":\"histogram\"}],\"mesh3d\":[{\"colorbar\":{\"outlinewidth\":0,\"ticks\":\"\"},\"type\":\"mesh3d\"}],\"parcoords\":[{\"line\":{\"colorbar\":{\"outlinewidth\":0,\"ticks\":\"\"}},\"type\":\"parcoords\"}],\"pie\":[{\"automargin\":true,\"type\":\"pie\"}],\"scatter3d\":[{\"line\":{\"colorbar\":{\"outlinewidth\":0,\"ticks\":\"\"}},\"marker\":{\"colorbar\":{\"outlinewidth\":0,\"ticks\":\"\"}},\"type\":\"scatter3d\"}],\"scattercarpet\":[{\"marker\":{\"colorbar\":{\"outlinewidth\":0,\"ticks\":\"\"}},\"type\":\"scattercarpet\"}],\"scattergeo\":[{\"marker\":{\"colorbar\":{\"outlinewidth\":0,\"ticks\":\"\"}},\"type\":\"scattergeo\"}],\"scattergl\":[{\"marker\":{\"colorbar\":{\"outlinewidth\":0,\"ticks\":\"\"}},\"type\":\"scattergl\"}],\"scattermapbox\":[{\"marker\":{\"colorbar\":{\"outlinewidth\":0,\"ticks\":\"\"}},\"type\":\"scattermapbox\"}],\"scatterpolargl\":[{\"marker\":{\"colorbar\":{\"outlinewidth\":0,\"ticks\":\"\"}},\"type\":\"scatterpolargl\"}],\"scatterpolar\":[{\"marker\":{\"colorbar\":{\"outlinewidth\":0,\"ticks\":\"\"}},\"type\":\"scatterpolar\"}],\"scatter\":[{\"fillpattern\":{\"fillmode\":\"overlay\",\"size\":10,\"solidity\":0.2},\"type\":\"scatter\"}],\"scatterternary\":[{\"marker\":{\"colorbar\":{\"outlinewidth\":0,\"ticks\":\"\"}},\"type\":\"scatterternary\"}],\"surface\":[{\"colorbar\":{\"outlinewidth\":0,\"ticks\":\"\"},\"colorscale\":[[0.0,\"#0d0887\"],[0.1111111111111111,\"#46039f\"],[0.2222222222222222,\"#7201a8\"],[0.3333333333333333,\"#9c179e\"],[0.4444444444444444,\"#bd3786\"],[0.5555555555555556,\"#d8576b\"],[0.6666666666666666,\"#ed7953\"],[0.7777777777777778,\"#fb9f3a\"],[0.8888888888888888,\"#fdca26\"],[1.0,\"#f0f921\"]],\"type\":\"surface\"}],\"table\":[{\"cells\":{\"fill\":{\"color\":\"#EBF0F8\"},\"line\":{\"color\":\"white\"}},\"header\":{\"fill\":{\"color\":\"#C8D4E3\"},\"line\":{\"color\":\"white\"}},\"type\":\"table\"}]},\"layout\":{\"annotationdefaults\":{\"arrowcolor\":\"#2a3f5f\",\"arrowhead\":0,\"arrowwidth\":1},\"autotypenumbers\":\"strict\",\"coloraxis\":{\"colorbar\":{\"outlinewidth\":0,\"ticks\":\"\"}},\"colorscale\":{\"diverging\":[[0,\"#8e0152\"],[0.1,\"#c51b7d\"],[0.2,\"#de77ae\"],[0.3,\"#f1b6da\"],[0.4,\"#fde0ef\"],[0.5,\"#f7f7f7\"],[0.6,\"#e6f5d0\"],[0.7,\"#b8e186\"],[0.8,\"#7fbc41\"],[0.9,\"#4d9221\"],[1,\"#276419\"]],\"sequential\":[[0.0,\"#0d0887\"],[0.1111111111111111,\"#46039f\"],[0.2222222222222222,\"#7201a8\"],[0.3333333333333333,\"#9c179e\"],[0.4444444444444444,\"#bd3786\"],[0.5555555555555556,\"#d8576b\"],[0.6666666666666666,\"#ed7953\"],[0.7777777777777778,\"#fb9f3a\"],[0.8888888888888888,\"#fdca26\"],[1.0,\"#f0f921\"]],\"sequentialminus\":[[0.0,\"#0d0887\"],[0.1111111111111111,\"#46039f\"],[0.2222222222222222,\"#7201a8\"],[0.3333333333333333,\"#9c179e\"],[0.4444444444444444,\"#bd3786\"],[0.5555555555555556,\"#d8576b\"],[0.6666666666666666,\"#ed7953\"],[0.7777777777777778,\"#fb9f3a\"],[0.8888888888888888,\"#fdca26\"],[1.0,\"#f0f921\"]]},\"colorway\":[\"#636efa\",\"#EF553B\",\"#00cc96\",\"#ab63fa\",\"#FFA15A\",\"#19d3f3\",\"#FF6692\",\"#B6E880\",\"#FF97FF\",\"#FECB52\"],\"font\":{\"color\":\"#2a3f5f\"},\"geo\":{\"bgcolor\":\"white\",\"lakecolor\":\"white\",\"landcolor\":\"#E5ECF6\",\"showlakes\":true,\"showland\":true,\"subunitcolor\":\"white\"},\"hoverlabel\":{\"align\":\"left\"},\"hovermode\":\"closest\",\"mapbox\":{\"style\":\"light\"},\"paper_bgcolor\":\"white\",\"plot_bgcolor\":\"#E5ECF6\",\"polar\":{\"angularaxis\":{\"gridcolor\":\"white\",\"linecolor\":\"white\",\"ticks\":\"\"},\"bgcolor\":\"#E5ECF6\",\"radialaxis\":{\"gridcolor\":\"white\",\"linecolor\":\"white\",\"ticks\":\"\"}},\"scene\":{\"xaxis\":{\"backgroundcolor\":\"#E5ECF6\",\"gridcolor\":\"white\",\"gridwidth\":2,\"linecolor\":\"white\",\"showbackground\":true,\"ticks\":\"\",\"zerolinecolor\":\"white\"},\"yaxis\":{\"backgroundcolor\":\"#E5ECF6\",\"gridcolor\":\"white\",\"gridwidth\":2,\"linecolor\":\"white\",\"showbackground\":true,\"ticks\":\"\",\"zerolinecolor\":\"white\"},\"zaxis\":{\"backgroundcolor\":\"#E5ECF6\",\"gridcolor\":\"white\",\"gridwidth\":2,\"linecolor\":\"white\",\"showbackground\":true,\"ticks\":\"\",\"zerolinecolor\":\"white\"}},\"shapedefaults\":{\"line\":{\"color\":\"#2a3f5f\"}},\"ternary\":{\"aaxis\":{\"gridcolor\":\"white\",\"linecolor\":\"white\",\"ticks\":\"\"},\"baxis\":{\"gridcolor\":\"white\",\"linecolor\":\"white\",\"ticks\":\"\"},\"bgcolor\":\"#E5ECF6\",\"caxis\":{\"gridcolor\":\"white\",\"linecolor\":\"white\",\"ticks\":\"\"}},\"title\":{\"x\":0.05},\"xaxis\":{\"automargin\":true,\"gridcolor\":\"white\",\"linecolor\":\"white\",\"ticks\":\"\",\"title\":{\"standoff\":15},\"zerolinecolor\":\"white\",\"zerolinewidth\":2},\"yaxis\":{\"automargin\":true,\"gridcolor\":\"white\",\"linecolor\":\"white\",\"ticks\":\"\",\"title\":{\"standoff\":15},\"zerolinecolor\":\"white\",\"zerolinewidth\":2}}},\"title\":{\"font\":{\"color\":\"#4D5663\"}},\"xaxis\":{\"gridcolor\":\"#E1E5ED\",\"showgrid\":true,\"tickfont\":{\"color\":\"#4D5663\"},\"title\":{\"font\":{\"color\":\"#4D5663\"},\"text\":\"\"},\"zerolinecolor\":\"#E1E5ED\"},\"yaxis\":{\"gridcolor\":\"#E1E5ED\",\"showgrid\":true,\"tickfont\":{\"color\":\"#4D5663\"},\"title\":{\"font\":{\"color\":\"#4D5663\"},\"text\":\"\"},\"zerolinecolor\":\"#E1E5ED\"}},                        {\"showLink\": true, \"linkText\": \"Export to plot.ly\", \"plotlyServerURL\": \"https://plot.ly\", \"responsive\": true}                    ).then(function(){\n",
       "                            \n",
       "var gd = document.getElementById('16653f9d-398c-4b53-8b60-039936468e28');\n",
       "var x = new MutationObserver(function (mutations, observer) {{\n",
       "        var display = window.getComputedStyle(gd).display;\n",
       "        if (!display || display === 'none') {{\n",
       "            console.log([gd, 'removed!']);\n",
       "            Plotly.purge(gd);\n",
       "            observer.disconnect();\n",
       "        }}\n",
       "}});\n",
       "\n",
       "// Listen for the removal of the full notebook cells\n",
       "var notebookContainer = gd.closest('#notebook-container');\n",
       "if (notebookContainer) {{\n",
       "    x.observe(notebookContainer, {childList: true});\n",
       "}}\n",
       "\n",
       "// Listen for the clearing of the current output cell\n",
       "var outputEl = gd.closest('.output');\n",
       "if (outputEl) {{\n",
       "    x.observe(outputEl, {childList: true});\n",
       "}}\n",
       "\n",
       "                        })                };                });            </script>        </div>"
      ]
     },
     "metadata": {},
     "output_type": "display_data"
    }
   ],
   "source": [
    "df.iplot(kind = 'scatter', x='A', y='B', mode='markers')"
   ]
  },
  {
   "cell_type": "code",
   "execution_count": null,
   "id": "0ecaf921",
   "metadata": {},
   "outputs": [],
   "source": []
  }
 ],
 "metadata": {
  "hide_input": false,
  "kernelspec": {
   "display_name": "Python 3 (ipykernel)",
   "language": "python",
   "name": "python3"
  },
  "language_info": {
   "codemirror_mode": {
    "name": "ipython",
    "version": 3
   },
   "file_extension": ".py",
   "mimetype": "text/x-python",
   "name": "python",
   "nbconvert_exporter": "python",
   "pygments_lexer": "ipython3",
   "version": "3.10.13"
  },
  "toc": {
   "base_numbering": 1,
   "nav_menu": {},
   "number_sections": true,
   "sideBar": true,
   "skip_h1_title": true,
   "title_cell": "Inhalt",
   "title_sidebar": "Inhalt",
   "toc_cell": false,
   "toc_position": {},
   "toc_section_display": true,
   "toc_window_display": true
  },
  "varInspector": {
   "cols": {
    "lenName": 16,
    "lenType": 16,
    "lenVar": 40
   },
   "kernels_config": {
    "python": {
     "delete_cmd_postfix": "",
     "delete_cmd_prefix": "del ",
     "library": "var_list.py",
     "varRefreshCmd": "print(var_dic_list())"
    },
    "r": {
     "delete_cmd_postfix": ") ",
     "delete_cmd_prefix": "rm(",
     "library": "var_list.r",
     "varRefreshCmd": "cat(var_dic_list()) "
    }
   },
   "types_to_exclude": [
    "module",
    "function",
    "builtin_function_or_method",
    "instance",
    "_Feature"
   ],
   "window_display": false
  }
 },
 "nbformat": 4,
 "nbformat_minor": 5
}
