{
 "cells": [
  {
   "cell_type": "markdown",
   "id": "d48ec75e",
   "metadata": {},
   "source": [
    "# Zahlen in Python"
   ]
  },
  {
   "cell_type": "markdown",
   "id": "7739c5cc",
   "metadata": {},
   "source": [
    "<div style=\"background-color: Cornsilk; padding: 5px 20px 20px\">\n",
    "\n",
    "**Hier erfährst du, welche Sorten von Zahlen es in Python gibt**\n",
    "    \n",
    "- Zahlen sind dabei *Dinge*, mit denen man rechnen kann. \n",
    "- Die Zahlen in Python verhalten sich jedoch ein wenig anders als die Zahlen, die du aus der Mathematik gewohnt bist!\n",
    "- Insbesondere gibt es verschiedene **Typen** von Zahlen, und die **Rechenoperatoren** (also die Rechenzeichen) sehen anders aus, funktionieren auch ein wenig anders.\n",
    "- Und dann gibt es noch die sog. **Vergleichsoperatoren**.\n",
    "</div>"
   ]
  },
  {
   "cell_type": "markdown",
   "id": "0d1ce455",
   "metadata": {},
   "source": [
    "## Typen"
   ]
  },
  {
   "cell_type": "markdown",
   "id": "14b08c95",
   "metadata": {},
   "source": [
    "<div style=\"background-color: Cornsilk; padding: 5px 20px 20px\">\n",
    "\n",
    "Es gibt in Python zwei Basis-Typen von Zahlen (andere Typen sind hier noch nicht wichtig):\n",
    "\n",
    "1. Die **ganzen Zahlen**\n",
    "2. Die **sogenannten Gleitkommazahlen**\n",
    "    \n",
    "\n",
    "</div>"
   ]
  },
  {
   "cell_type": "markdown",
   "id": "2198643d",
   "metadata": {},
   "source": [
    "| Datentyp | Python-Name | Daten |\n",
    "| :-------- | :-----------: | :----- |\n",
    "| ganze Zahl  | `int` |Das sind die Zahlen <br>..., -2, -1, 0, 1, 2, ... <br> bis zu einer in Python festgelegten <br>Unter- bzw. Obergrenze. |\n",
    "| Gleitkommazahl  | `float`  |Es sind Dezimalzahlen wie <br>z. B. 4.2 oder 0.03. <br>Für solche Gleitkommazahlen <br>gibt es unterschiedliche Schreibweisen.<br> Die Genauigkeit (also die Anzahl der <br>(Nachkomma-)stellen) wird noch <br>zu erforschen sein! |"
   ]
  },
  {
   "cell_type": "markdown",
   "id": "50b2885d",
   "metadata": {},
   "source": [
    "## Rechenoperationen"
   ]
  },
  {
   "cell_type": "markdown",
   "id": "87875278",
   "metadata": {},
   "source": [
    "<div style=\"background-color: Cornsilk; padding: 5px 20px 20px\">\n",
    "Für die beiden Datentypen gibt es folgende Rechenoperationen:\n",
    "</div>"
   ]
  },
  {
   "cell_type": "markdown",
   "id": "4c5a7397",
   "metadata": {},
   "source": [
    "| Operator | Bedeutung|\n",
    "| :--------: | :----------- |\n",
    "| `+`  | Addition |\n",
    "| `-`  | Subtraktion |\n",
    "| `*`  | Multiplikation |\n",
    "| `//` | ganzzahlige Division |\n",
    "| `%`  | Rest bei ganzzahliger Division |\n",
    "| `/`  | Gleitkommadivision |\n",
    "| `**` | Potenz |\n",
    "| `+`  | positives Vorzeichen |\n",
    "| `-`  | negatives Vorzeichen |"
   ]
  },
  {
   "cell_type": "markdown",
   "id": "723d0ab6",
   "metadata": {},
   "source": [
    "## Vergleichsoperatoren"
   ]
  },
  {
   "cell_type": "markdown",
   "id": "6514694a",
   "metadata": {},
   "source": [
    "<div style=\"background-color: Cornsilk; padding: 5px 20px 20px\">\n",
    "Für die beiden Datentypen gibt es folgende Vergleichsoperatoren:\n",
    "</div>"
   ]
  },
  {
   "cell_type": "markdown",
   "id": "d641869a",
   "metadata": {},
   "source": [
    "| Operator | Bedeutung|\n",
    "| :--------: | :----------- |\n",
    "| `<`  | kleiner |\n",
    "| `>`  | größer |\n",
    "| `<=`  | kleiner oder gleich |\n",
    "| `>=` | größer oder gleich |\n",
    "| `==`  | gleich |\n",
    "| `!=`  | ungleich |"
   ]
  },
  {
   "cell_type": "markdown",
   "id": "0d3eaf81",
   "metadata": {},
   "source": [
    "<div style=\"background-color: Cornsilk; padding: 5px 20px 20px\">\n",
    "Für die beiden Datentypen gibt es folgende Rechenoperationen:\n",
    "</div>"
   ]
  },
  {
   "cell_type": "markdown",
   "id": "0add97df",
   "metadata": {},
   "source": [
    "| Operator | Bedeutung|\n",
    "| :--------: | :----------- |\n",
    "| `+`  | Addition |\n",
    "| `-`  | Subtraktion |\n",
    "| `*`  | Multiplikation |\n",
    "| `//` | ganzzahlige Division |\n",
    "| `%`  | Rest bei ganzzahliger Division |\n",
    "| `/`  | Gleitkommadivision |\n",
    "| `**` | Potenz |\n",
    "| `+`  | positives Vorzeichen |\n",
    "| `-`  | negatives Vorzeichen |"
   ]
  },
  {
   "cell_type": "markdown",
   "id": "ebfa0995",
   "metadata": {},
   "source": [
    "## Einige Beispiele"
   ]
  },
  {
   "cell_type": "code",
   "execution_count": null,
   "id": "82f7facc",
   "metadata": {},
   "outputs": [],
   "source": [
    "a = 42\n",
    "b = 5\n",
    "print(f'{a} + {b} = {a+b}')\n",
    "print(f'{a} - {b} = {a-b}')\n",
    "print(f'{a} * {b} = {a*b}')\n",
    "print(f'{a} // {b} = {a//b}')\n",
    "print(f'{a} % {b} = {a%b}')\n",
    "print(f'{a} / {b} = {a/b}')\n",
    "print(f'{a} ** {b} = {a**b}')\n"
   ]
  },
  {
   "cell_type": "code",
   "execution_count": null,
   "id": "15314681",
   "metadata": {},
   "outputs": [],
   "source": [
    "a = 42\n",
    "b = 45\n",
    "print(f'{a} < {b} --> {a<b}')\n",
    "print(f'{a} > {b} --> {a>b}')\n",
    "print(f'{a} <= {b} --> {a<=b}')\n",
    "print(f'{a} >= {b} --> {a>=b}')\n",
    "print(f'{a} == {b} --> {a==b}')\n",
    "print(f'{a} != {b} --> {a!=b}')"
   ]
  },
  {
   "cell_type": "markdown",
   "id": "fa7b5c31",
   "metadata": {},
   "source": [
    "### Aufgabe"
   ]
  },
  {
   "cell_type": "markdown",
   "id": "f2109977",
   "metadata": {},
   "source": [
    "<div style=\"background-color: lightblue; padding: 5px 20px 20px\"> \n",
    "\n",
    "- *Ändere die Werte von* `a`und `b` *und lass dir dann die Ergebnisse ausgeben.*\n",
    "  - *Benutze dabei auch Zahlen vom Typ `float`.*\n",
    "</div>"
   ]
  },
  {
   "cell_type": "markdown",
   "id": "68e0042c",
   "metadata": {},
   "source": [
    "## Andere Darstellungen von Zahlen"
   ]
  },
  {
   "cell_type": "markdown",
   "id": "e8201aab",
   "metadata": {},
   "source": [
    "<div style=\"background-color: Cornsilk; padding: 5px 20px 20px\">\n",
    "\n",
    "**Wir sind - sozusagen seit unserer Geburt - gewohnt, alle Zahlen im Dezimalsystem zu schreiben.**\n",
    "    \n",
    "- Die Zahl `42` z.B. ist im Dezimalsystem interpretierbar als $4\\cdot 10 + 2\\cdot 1$\n",
    "    \n",
    "Das Dezimalsystem ist jedoch nur ein Beispiel eines sogenannten *Stellenwertsystems*. Jede Stelle in der Darstellung hat einen Wert, der abhängt von der Stelle in der Darstellung.\n",
    "\n",
    "- In der Zahl `333` hat die Ziffer `3` unterschiedliche Werte:\n",
    "    - Die `3` ganz rechts hat den Wert $3\\cdot 1$.\n",
    "    - Die mittlere `3` hat den Wert $30 = 3\\cdot 10$.\n",
    "    - Die `3`ganz links hat den Wert $300 = 3\\cdot 100$.\n",
    "    \n",
    "Dabei spielt also die 10 eine besondere Rolle. Man bezeichntet sie als ***Basis*** des Stellenwertsystems. Man sagt:\n",
    "\n",
    "- *Das Dezimalsystem ist ein Stellenwertsystem zur Basis 10*.\n",
    "    \n",
    "Wichtig zu beachten ist, dass es im Dezimalsystem 10 Ziffern gibt: \n",
    "- `0, 1, 2, ..., 9`\n",
    "\n",
    "Jetzt kann man sich also weitere Stellenwertsysteme vorstellen, also solche, die eine andere Basis benutzen. Interessant sind die folgenden:\n",
    "    \n",
    "- Das **Binärsystem** benutzt die Basis `2`.\n",
    "    - Es gibt genau 2 Ziffern: `0` und `1`. \n",
    "    - Die Stellenwerte sind `1`, `10`, `100`, `1000`, ...\n",
    "- Das **Oktalsystem** benutzt die Basis `8`.\n",
    "    - Hier gibt es 8 Ziffern:\n",
    "      - `0, 1, ..., 7`.\n",
    "    - Die Stellenwerte sind `1`, `8`, `$6=8^2$`, `512=8^3`, ...\n",
    "- Das **Hexadezimalsystemsystem** benutzt die Basis `16`.\n",
    "    - Hier sollte es 16 Ziffern geben. Doch wie soll man sie bezeichnen? Man hat ja nur die 1o bekannten Ziffern; weitere 6 muss man sozusagen *erfinden*. Man benutzt dazu die ersten 6 Buchstaben unseres Alphabets:\n",
    "      - `0, 1, 2, ..., 9, A, B, C, D, E, F`.\n",
    "    - Beachte, dass jetzt die Symbole `A`, `B`, ... `F` in dem Hexadezimalsystem Ziffern sind!\n",
    "    - Dann hat die *Ziffer* `A` den Wert 10, ..., die *Ziffer* `F` den Wert 15.\n",
    "    - Die Stellenwerte sind `1`, `16`, `256=16^2`, ...\n",
    "</div>"
   ]
  },
  {
   "cell_type": "markdown",
   "id": "ba2df7c0",
   "metadata": {},
   "source": [
    "<div style=\"background-color: Cornsilk; padding: 5px 20px 20px\">\n",
    "    \n",
    "**Beispiele**\n",
    "    \n",
    "- `42`, interpretiert im Oktalsystem hat dann (dezimal) den Wert `4*8 + 2 = 34`.\n",
    " \n",
    "- `42`, interpretiert im Hexadezimalsystem hat dann (dezimal) den Wert `4*16 + 2 = 66`.\n",
    "</div>"
   ]
  },
  {
   "cell_type": "markdown",
   "id": "28d5c704",
   "metadata": {},
   "source": [
    "### Die Darstellung in Python "
   ]
  },
  {
   "cell_type": "markdown",
   "id": "31f72487",
   "metadata": {},
   "source": [
    "<div style=\"background-color: Cornsilk; padding: 5px 20px 20px\">\n",
    "    \n",
    "**Wie sieht das in Python aus**\n",
    "    \n",
    "- Eine Binärzahl wird in Python als String (Zeichenkette) in der Form `0b...` geschrieben.\n",
    "    \n",
    "   - Die (dezimal-geschriebene) Zahl 13, die in binärer Form durch die Ziffernkette `1101` geschrieben wird, hat dann in Python die Form `0b1101`.\n",
    "\n",
    "- Eine Oktalzahl wird in Python als String (Zeichenkette) in der Form `0o...` geschrieben.\n",
    "    \n",
    "   - Die (dezimal-geschriebene) Zahl 49, die in oktaler Form durch die Ziffernkette `61` geschrieben wird, hat dann in Python die Form `0o61`.\n",
    "    \n",
    "- Eine Hexadezimalzahl wird in Python als String (Zeichenkette) in der Form `0x...` geschrieben.\n",
    "    \n",
    "   - Die (dezimal-geschriebene) Zahl 79, die in hexadezimaler Form durch die Ziffernkette `4F` geschrieben wird, hat dann in Python die Form `0x4F` oder auch `0x4f`.\n",
    "\n",
    "    \n",
    "</div>"
   ]
  },
  {
   "cell_type": "markdown",
   "id": "157c0ab0",
   "metadata": {},
   "source": [
    "### Zwischen den Darstellungen umwandeln"
   ]
  },
  {
   "cell_type": "markdown",
   "id": "573ecbb9",
   "metadata": {},
   "source": [
    "<div style=\"background-color: Cornsilk; padding: 5px 20px 20px\">\n",
    "    \n",
    "**Python kann Zahlen von einem Stellenwertsystem in ein anderes umwandeln.** \n",
    "</div>"
   ]
  },
  {
   "cell_type": "markdown",
   "id": "5ba67a83",
   "metadata": {},
   "source": [
    "#### Aufgabe"
   ]
  },
  {
   "cell_type": "markdown",
   "id": "4ec21b3a",
   "metadata": {},
   "source": [
    "<div style=\"background-color: lightblue; padding: 5px 20px 20px\"> \n",
    "\n",
    "- *Führe folgende Zellen aus; ändere die Werte nach deinen Wünschen ab.*\n",
    "- *Probiere, wie das System reagiert, wenn du versuchst, eine ungültige Zeichenkette umzuwandeln:*\n",
    "  - Im Oktalsystem gibt es z.B. die Ziffer 8 nicht.\n",
    "  - Im Binärsystem sind nur die 0 bzw. die 1 erlaubt.\n",
    "  - Im Hexadezimalsystem gibt es z.B. niemals das Symbol G.\n",
    "\n",
    "</div>"
   ]
  },
  {
   "cell_type": "code",
   "execution_count": null,
   "id": "3acd6337",
   "metadata": {},
   "outputs": [],
   "source": [
    "bin(59)"
   ]
  },
  {
   "cell_type": "code",
   "execution_count": null,
   "id": "253bed55",
   "metadata": {},
   "outputs": [],
   "source": [
    "hex(59)"
   ]
  },
  {
   "cell_type": "code",
   "execution_count": null,
   "id": "050ccaae",
   "metadata": {},
   "outputs": [],
   "source": [
    "oct(59)"
   ]
  },
  {
   "cell_type": "code",
   "execution_count": null,
   "id": "2a9a4934",
   "metadata": {},
   "outputs": [],
   "source": [
    "i = eval('0xFF')\n",
    "print(i)"
   ]
  },
  {
   "cell_type": "code",
   "execution_count": null,
   "id": "57f2a336",
   "metadata": {},
   "outputs": [],
   "source": [
    "i = eval('0b1010101')\n",
    "print(i)"
   ]
  },
  {
   "cell_type": "code",
   "execution_count": null,
   "id": "32c69f4e",
   "metadata": {},
   "outputs": [],
   "source": [
    "i = eval('0o76')\n",
    "print(i)"
   ]
  },
  {
   "cell_type": "markdown",
   "id": "959b09a1",
   "metadata": {},
   "source": [
    "## Umwandeln allgemein"
   ]
  },
  {
   "cell_type": "markdown",
   "id": "c97f7f5a",
   "metadata": {},
   "source": [
    "<div style=\"background-color: Cornsilk; padding: 5px 20px 20px\">\n",
    "    \n",
    "Die obigen Beispiele benutzen (dezimal geschrieben) als Zahlenbasis die Zahlen 2, 8 und 16. \n",
    "\n",
    "Natürlich können auch andere Zahlen als Basis benutzt werden. Dazu gibt es zwar keine in Python fest eigebaute Funktion zum Umwandeln. \n",
    "\n",
    "Doch das folgende Python-Programm kann jede Zahl aus dem Dezimalsystem in ein System mit der Basis `b` umwandeln und als Zeichenkette ausgeben:\n",
    "</div>"
   ]
  },
  {
   "cell_type": "code",
   "execution_count": 110,
   "id": "eb703813",
   "metadata": {},
   "outputs": [
    {
     "name": "stdout",
     "output_type": "stream",
     "text": [
      "Symbol = 13\n",
      "Restzahl = 99\n",
      "Symbol = 3\n",
      "Restzahl = 6\n",
      "Symbol = 6\n",
      "Restzahl = 0\n",
      "Die Dezimalzahl 1597 ist im Stellenwertsystem zu Basis 16 als 6 3 13 darstellbar.\n"
     ]
    }
   ],
   "source": [
    "dezimalZahl = 1597\n",
    "b = 16\n",
    "\n",
    "ausgabe = \"\"\n",
    "n = dezimalZahl\n",
    "\n",
    "while n!= 0:\n",
    "    rest = n%p\n",
    "    n = (n-n%p) // p\n",
    "    print('Symbol =', rest)\n",
    "    ausgabe = str(rest) + \" \" + ausgabe\n",
    "    print('Restzahl =', n)\n",
    "\n",
    "print(f'Die Dezimalzahl {dezimalZahl} ist im Stellenwertsystem zu Basis {b} als {ausgabe.strip()} darstellbar.')"
   ]
  },
  {
   "cell_type": "markdown",
   "id": "bc928474",
   "metadata": {},
   "source": [
    "<div style=\"background-color: Cornsilk; padding: 5px 20px 20px\">\n",
    "\n",
    "Aus der obigen Ausgabe kann man jetzt folgendes ablesen:\n",
    "\n",
    "$1597 = 99\\cdot 16 + 13$\n",
    "\n",
    "Weiter ist:\n",
    "\n",
    "$99 = 6\\cdot 16 + 3$\n",
    "\n",
    "Also:\n",
    "\n",
    "$1597 = (6\\cdot 16 + 3)\\cdot 16 + 13$\n",
    "\n",
    "$1597 = 6\\cdot 16^2 + 3\\cdot 16 + 13 $\n",
    "\n",
    "Damit ist die Hexadezimaldarstellung erreicht.\n",
    "</div>"
   ]
  },
  {
   "cell_type": "markdown",
   "id": "ad258d39",
   "metadata": {},
   "source": [
    "<div style=\"background-color: Cornsilk; padding: 5px 20px 20px\">\n",
    "\n",
    "**Dabei ist noch zu beachten, dass bei einer Basis b > 10 weitere Symbole benötigt werden.**\n",
    "    \n",
    "In dem obigen Beispiel ist also das \"Symbol\" `13` durch `D` zu ersetzen, so dass dann gilt:\n",
    "    \n",
    "$\\rm{1597_{10} = 63D_{16}}$ (= 0x63D in Python-Schreibweise)\n",
    "</div>"
   ]
  },
  {
   "cell_type": "markdown",
   "id": "feda7aec",
   "metadata": {},
   "source": [
    "<div style=\"background-color: lightblue; padding: 5px 20px 20px\"> \n",
    "\n",
    "Benutze das obige Python-Programm, um andere Umwandlungen\n",
    "\n",
    "</div>"
   ]
  },
  {
   "cell_type": "markdown",
   "id": "3a3bfdd9",
   "metadata": {},
   "source": [
    "## Versuche"
   ]
  },
  {
   "cell_type": "code",
   "execution_count": 104,
   "id": "b562b0d6",
   "metadata": {},
   "outputs": [
    {
     "name": "stdout",
     "output_type": "stream",
     "text": [
      "10\n",
      "10\n"
     ]
    }
   ],
   "source": [
    "# der sogenannte Walross-Operator (:=)\n",
    "n=5\n",
    "print(n:=n*2) # hinter dem := steht ein beliebiger Ausdruck, der n verändert\n",
    "print(n)"
   ]
  },
  {
   "cell_type": "code",
   "execution_count": 106,
   "id": "76c6111a",
   "metadata": {},
   "outputs": [
    {
     "name": "stdout",
     "output_type": "stream",
     "text": [
      "4\n",
      "6\n"
     ]
    }
   ],
   "source": [
    "# der sogenannte \"Inchworm on a stick\"-Operator (Wurm am Stiel)\n",
    "n=5\n",
    "print(~-n) # vorher decrement\n",
    "\n",
    "n = 5\n",
    "print(-~n) # vorher increment (seltsame Syntax!!!)"
   ]
  },
  {
   "cell_type": "markdown",
   "id": "74696b23",
   "metadata": {},
   "source": [
    "## Der Modulo-Operator in anderen Stellenwertsystemen"
   ]
  },
  {
   "cell_type": "code",
   "execution_count": 112,
   "id": "4b96f80b",
   "metadata": {},
   "outputs": [
    {
     "data": {
      "text/plain": [
       "6"
      ]
     },
     "execution_count": 112,
     "metadata": {},
     "output_type": "execute_result"
    }
   ],
   "source": [
    "41%7"
   ]
  },
  {
   "cell_type": "markdown",
   "id": "70bc2cf4",
   "metadata": {},
   "source": [
    "Also ist `6` im **Dezimalsystem** der Rest bei Divison von`41 geteilt duch 7`.\n",
    "\n",
    "Jetzt probieren wir das einmal im Oktalsystem; alle Zahlen sind jetzt oktal zu interpretieren!\n",
    "\n",
    "Dann ist also die **Oktalzahl** 41 im Dezimalsystem die Zahl 33:"
   ]
  },
  {
   "cell_type": "code",
   "execution_count": 113,
   "id": "823e3265",
   "metadata": {},
   "outputs": [
    {
     "name": "stdout",
     "output_type": "stream",
     "text": [
      "33\n"
     ]
    }
   ],
   "source": [
    "print(0o41)"
   ]
  },
  {
   "cell_type": "code",
   "execution_count": 116,
   "id": "381f0da7",
   "metadata": {},
   "outputs": [
    {
     "name": "stdout",
     "output_type": "stream",
     "text": [
      "0o41\n",
      "0o32\n",
      "0o23\n",
      "0o14\n",
      "0o5\n"
     ]
    }
   ],
   "source": [
    "n=0o41\n",
    "z=0o7\n",
    "while n >=z:\n",
    "    print(oct(n))\n",
    "    n = n - z\n",
    "print(oct(n))"
   ]
  },
  {
   "cell_type": "code",
   "execution_count": null,
   "id": "73c387ac",
   "metadata": {},
   "outputs": [],
   "source": []
  }
 ],
 "metadata": {
  "hide_input": false,
  "kernelspec": {
   "display_name": "Python 3 (ipykernel)",
   "language": "python",
   "name": "python3"
  },
  "language_info": {
   "codemirror_mode": {
    "name": "ipython",
    "version": 3
   },
   "file_extension": ".py",
   "mimetype": "text/x-python",
   "name": "python",
   "nbconvert_exporter": "python",
   "pygments_lexer": "ipython3",
   "version": "3.10.13"
  },
  "toc": {
   "base_numbering": 1,
   "nav_menu": {},
   "number_sections": true,
   "sideBar": true,
   "skip_h1_title": true,
   "title_cell": "Inhalt",
   "title_sidebar": "Inhalt",
   "toc_cell": false,
   "toc_position": {},
   "toc_section_display": true,
   "toc_window_display": true
  },
  "varInspector": {
   "cols": {
    "lenName": 16,
    "lenType": 16,
    "lenVar": 40
   },
   "kernels_config": {
    "python": {
     "delete_cmd_postfix": "",
     "delete_cmd_prefix": "del ",
     "library": "var_list.py",
     "varRefreshCmd": "print(var_dic_list())"
    },
    "r": {
     "delete_cmd_postfix": ") ",
     "delete_cmd_prefix": "rm(",
     "library": "var_list.r",
     "varRefreshCmd": "cat(var_dic_list()) "
    }
   },
   "types_to_exclude": [
    "module",
    "function",
    "builtin_function_or_method",
    "instance",
    "_Feature"
   ],
   "window_display": false
  }
 },
 "nbformat": 4,
 "nbformat_minor": 5
}
