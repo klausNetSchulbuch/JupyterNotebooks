{
 "cells": [
  {
   "cell_type": "markdown",
   "id": "e8159527",
   "metadata": {},
   "source": [
    "# Zahlen in Python"
   ]
  },
  {
   "cell_type": "markdown",
   "id": "a39b3f11",
   "metadata": {},
   "source": [
    "<div style=\"background-color: Cornsilk; padding: 5px 20px 20px\">\n",
    "\n",
    "**Hier erfährst du, welche Sorten von Zahlen es in Python gibt**\n",
    "    \n",
    "- Zahlen sind dabei *Dinge*, mit denen man rechnen kann. \n",
    "- Die Zahlen in Python verhalten sich jedoch ein wenig anders als die Zahlen, die du aus der Mathematik gewohnt bist!\n",
    "- Insbesondere gibt es verschiedene **Typen** von Zahlen, und die **Rechenoperatoren** (also die Rechenzeichen) sehen anders aus, funktionieren auch ein wenig anders.\n",
    "- Und dann gibt es noch die sog. **Vergleichsoperatoren**.\n",
    "</div>"
   ]
  },
  {
   "cell_type": "markdown",
   "id": "4010509b",
   "metadata": {},
   "source": [
    "## Typen"
   ]
  },
  {
   "cell_type": "markdown",
   "id": "d0de4e60",
   "metadata": {},
   "source": [
    "<div style=\"background-color: Cornsilk; padding: 5px 20px 20px\">\n",
    "\n",
    "Es gibt in Python zwei Basis-Typen von Zahlen (andere Typen sind hier noch nicht wichtig):\n",
    "\n",
    "1. Die **ganzen Zahlen**\n",
    "2. Die **sogenannten Gleitkommazahlen**\n",
    "    \n",
    "\n",
    "</div>"
   ]
  },
  {
   "cell_type": "markdown",
   "id": "53030557",
   "metadata": {},
   "source": [
    "| Datentyp | Python-Name | Daten |\n",
    "| :-------- | :-----------: | :----- |\n",
    "| ganze Zahl  | `int` |Das sind die Zahlen <br>..., -2, -1, 0, 1, 2, ... <br> bis zu einer in Python festgelegten <br>Unter- bzw. Obergrenze. |\n",
    "| Gleitkommazahl  | `float`  |Es sind Dezimalzahlen wie <br>z. B. 4.2 oder 0.03. <br>Für solche Gleitkommazahlen <br>gibt es unterschiedliche Schreibweisen.<br> Die Genauigkeit (also die Anzahl der <br>(Nachkomma-)stellen) wird noch <br>zu erforschen sein! |"
   ]
  },
  {
   "cell_type": "markdown",
   "id": "91032c18",
   "metadata": {},
   "source": [
    "## Rechenoperationen"
   ]
  },
  {
   "cell_type": "markdown",
   "id": "8a58bd5e",
   "metadata": {},
   "source": [
    "<div style=\"background-color: Cornsilk; padding: 5px 20px 20px\">\n",
    "Für die beiden Datentypen gibt es folgende Rechenoperationen:\n",
    "</div>"
   ]
  },
  {
   "cell_type": "markdown",
   "id": "ad7d1220",
   "metadata": {},
   "source": [
    "| Operator | Bedeutung|\n",
    "| :--------: | :----------- |\n",
    "| `+`  | Addition |\n",
    "| `-`  | Subtraktion |\n",
    "| `*`  | Multiplikation |\n",
    "| `//` | ganzzahlige Division |\n",
    "| `%`  | Rest bei ganzzahliger Division |\n",
    "| `/`  | Gleitkommadivision |\n",
    "| `**` | Potenz |\n",
    "| `+`  | positives Vorzeichen |\n",
    "| `-`  | negatives Vorzeichen |"
   ]
  },
  {
   "cell_type": "markdown",
   "id": "5816ad41",
   "metadata": {},
   "source": [
    "## Vergleichsoperatoren"
   ]
  },
  {
   "cell_type": "markdown",
   "id": "61de01c4",
   "metadata": {},
   "source": [
    "<div style=\"background-color: Cornsilk; padding: 5px 20px 20px\">\n",
    "Für die beiden Datentypen gibt es folgende Vergleichsoperatoren:\n",
    "</div>"
   ]
  },
  {
   "cell_type": "markdown",
   "id": "27ad398e",
   "metadata": {},
   "source": [
    "| Operator | Bedeutung|\n",
    "| :--------: | :----------- |\n",
    "| `<`  | kleiner |\n",
    "| `>`  | größer |\n",
    "| `<=`  | kleiner oder gleich |\n",
    "| `>=` | größer oder gleich |\n",
    "| `==`  | gleich |\n",
    "| `!=`  | ungleich |"
   ]
  },
  {
   "cell_type": "markdown",
   "id": "c1522fac",
   "metadata": {},
   "source": [
    "<div style=\"background-color: Cornsilk; padding: 5px 20px 20px\">\n",
    "Für die beiden Datentypen gibt es folgende Rechenoperationen:\n",
    "</div>"
   ]
  },
  {
   "cell_type": "markdown",
   "id": "53e107f8",
   "metadata": {},
   "source": [
    "| Operator | Bedeutung|\n",
    "| :--------: | :----------- |\n",
    "| `+`  | Addition |\n",
    "| `-`  | Subtraktion |\n",
    "| `*`  | Multiplikation |\n",
    "| `//` | ganzzahlige Division |\n",
    "| `%`  | Rest bei ganzzahliger Division |\n",
    "| `/`  | Gleitkommadivision |\n",
    "| `**` | Potenz |\n",
    "| `+`  | positives Vorzeichen |\n",
    "| `-`  | negatives Vorzeichen |"
   ]
  },
  {
   "cell_type": "markdown",
   "id": "ef5bd364",
   "metadata": {},
   "source": [
    "## Einige Beispiele"
   ]
  },
  {
   "cell_type": "code",
   "execution_count": 14,
   "id": "01f3dd3a",
   "metadata": {},
   "outputs": [
    {
     "name": "stdout",
     "output_type": "stream",
     "text": [
      "42 + 5 = 47\n",
      "42 - 5 = 37\n",
      "42 * 5 = 210\n",
      "42 // 5 = 8\n",
      "42 % 5 = 2\n",
      "42 / 5 = 8.4\n",
      "42 ** 5 = 130691232\n"
     ]
    }
   ],
   "source": [
    "a = 42\n",
    "b = 5\n",
    "print(f'{a} + {b} = {a+b}')\n",
    "print(f'{a} - {b} = {a-b}')\n",
    "print(f'{a} * {b} = {a*b}')\n",
    "print(f'{a} // {b} = {a//b}')\n",
    "print(f'{a} % {b} = {a%b}')\n",
    "print(f'{a} / {b} = {a/b}')\n",
    "print(f'{a} ** {b} = {a**b}')\n"
   ]
  },
  {
   "cell_type": "code",
   "execution_count": 15,
   "id": "8b17c4eb",
   "metadata": {},
   "outputs": [
    {
     "name": "stdout",
     "output_type": "stream",
     "text": [
      "42 < 45 --> True\n",
      "42 > 45 --> False\n",
      "42 <= 45 --> True\n",
      "42 >= 45 --> False\n",
      "42 == 45 --> False\n",
      "42 != 45 --> True\n"
     ]
    }
   ],
   "source": [
    "a = 42\n",
    "b = 45\n",
    "print(f'{a} < {b} --> {a<b}')\n",
    "print(f'{a} > {b} --> {a>b}')\n",
    "print(f'{a} <= {b} --> {a<=b}')\n",
    "print(f'{a} >= {b} --> {a>=b}')\n",
    "print(f'{a} == {b} --> {a==b}')\n",
    "print(f'{a} != {b} --> {a!=b}')"
   ]
  },
  {
   "cell_type": "markdown",
   "id": "8d076102",
   "metadata": {},
   "source": [
    "### Aufgabe"
   ]
  },
  {
   "cell_type": "markdown",
   "id": "b9058859",
   "metadata": {},
   "source": [
    "<div style=\"background-color: lightblue; padding: 5px 20px 20px\"> \n",
    "\n",
    "- *Ändere die Werte von* `a`und `b` *und lass dir dann die Ergebnisse ausgeben.*\n",
    "  - *Benutze dabei auch Zahlen vom Typ `float`.*\n",
    "</div>"
   ]
  },
  {
   "cell_type": "code",
   "execution_count": null,
   "id": "f8a896ce",
   "metadata": {},
   "outputs": [],
   "source": []
  }
 ],
 "metadata": {
  "hide_input": false,
  "kernelspec": {
   "display_name": "Python 3 (ipykernel)",
   "language": "python",
   "name": "python3"
  },
  "language_info": {
   "codemirror_mode": {
    "name": "ipython",
    "version": 3
   },
   "file_extension": ".py",
   "mimetype": "text/x-python",
   "name": "python",
   "nbconvert_exporter": "python",
   "pygments_lexer": "ipython3",
   "version": "3.10.13"
  },
  "toc": {
   "base_numbering": 1,
   "nav_menu": {},
   "number_sections": true,
   "sideBar": true,
   "skip_h1_title": true,
   "title_cell": "Inhalt",
   "title_sidebar": "Inhalt",
   "toc_cell": false,
   "toc_position": {},
   "toc_section_display": true,
   "toc_window_display": true
  },
  "varInspector": {
   "cols": {
    "lenName": 16,
    "lenType": 16,
    "lenVar": 40
   },
   "kernels_config": {
    "python": {
     "delete_cmd_postfix": "",
     "delete_cmd_prefix": "del ",
     "library": "var_list.py",
     "varRefreshCmd": "print(var_dic_list())"
    },
    "r": {
     "delete_cmd_postfix": ") ",
     "delete_cmd_prefix": "rm(",
     "library": "var_list.r",
     "varRefreshCmd": "cat(var_dic_list()) "
    }
   },
   "types_to_exclude": [
    "module",
    "function",
    "builtin_function_or_method",
    "instance",
    "_Feature"
   ],
   "window_display": false
  }
 },
 "nbformat": 4,
 "nbformat_minor": 5
}
