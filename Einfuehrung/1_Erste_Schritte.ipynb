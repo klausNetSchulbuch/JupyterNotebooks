{
 "cells": [
  {
   "cell_type": "markdown",
   "metadata": {},
   "source": [
    "#  Allererste Schritte mit Python und Jupyter-Notebooks"
   ]
  },
  {
   "cell_type": "markdown",
   "metadata": {},
   "source": [
    "<div class=\"alert alert-block alert-info\">\n",
    "\n",
    "**In diesem Notebook findest du in kurzer Form:**\n",
    "\n",
    "- Grundlegende Hinweise zum Benutzen von Jupyter-Notebooks\n",
    "- Allererste Python-Befehle\n",
    "    \n",
    "Wenn du noch nie Jupyter-Notebooks benutzt hast und du keine Vorstellung von den Möglichkeiten hast, wenn du vielleicht erfahren möchtest, \n",
    "    \n",
    "- was *Jupyter* ist, \n",
    "- wie man eine *Jupyter-Umgebung installiert* oder extern benutzen kann, und \n",
    "- wie man *Jupyter-Notebooks*\n",
    "    \n",
    "kannst du dir [dieses](0_Start.ipynb) Notebook ansehen.\n",
    "    \n",
    "Falls du neugierig bist, selber durch *learning-by-doing* Erfahrungen sammeln möchtest, falls du sehen möchtest, welche Möglichkeiten es mit Jupyter und Python gibt, kannst du die folgenden Links nutzen.\n",
    "\n",
    "</div>\n",
    "    \n",
    "In den folgenden Notebooks kannst du die Basis-Elemente von Python kennenlernen:\n",
    "    \n",
    "- [Umgang mit Basisdatentypen in Python](2_Python_Basics.ipynb)\n",
    "- [Fallunterscheidungen](3_Fallunterscheidungen.ipynb)    \n",
    "- [Wiederholungen](4_Wiederholungen.ipynb)    \n",
    "- [Funktionen](5_Funktionen.ipynb)\n",
    "- [rekursive Funktionen](6_Rekursion.ipynb)   \n",
    "- [Bibliotheken einbinden](7_Bibliotheken_einbinden.ipynb)   \n",
    "\n",
    "\n"
   ]
  },
  {
   "cell_type": "markdown",
   "metadata": {},
   "source": [
    "## Interaktion mit dem Notebook"
   ]
  },
  {
   "cell_type": "markdown",
   "metadata": {},
   "source": [
    "<div class=\"alert alert-block alert-info\">\n",
    "\n",
    "    Du findest hier einige Eingabezellen, die du an `In [ ]:` links am Rand erkennen kannst.\n",
    "\n",
    "**Bewege den Cursor an den linken Rand oder auch in eine solche Eingabezelle und**\n",
    "\n",
    "- clicke auf den `▶︎ Run`-Button (oben) \n",
    "    \n",
    "**oder**\n",
    "    \n",
    "- benutze die `↩︎ Eingabe`-Taste mit gedrückter `⇧ Shift`-Taste\n",
    "</div>"
   ]
  },
  {
   "cell_type": "markdown",
   "metadata": {},
   "source": [
    "<div class=\"alert alert-block alert-info\">\n",
    "\n",
    "**Also bitte die folgende Zelle auswählen und mit `⇧ <SHIFT> + ↩︎ <ENTER>` ausführen.**"
   ]
  },
  {
   "cell_type": "code",
   "execution_count": null,
   "metadata": {},
   "outputs": [],
   "source": [
    "3*9"
   ]
  },
  {
   "cell_type": "markdown",
   "metadata": {},
   "source": [
    "## Python spricht mit uns"
   ]
  },
  {
   "cell_type": "markdown",
   "metadata": {},
   "source": [
    "<div class=\"alert alert-block alert-info\">\n",
    "\n",
    "**Wir können die `print()` Funktion verwenden, um Ausgaben zu erzeugen:**"
   ]
  },
  {
   "cell_type": "code",
   "execution_count": null,
   "metadata": {},
   "outputs": [],
   "source": [
    "print(\"Hallo Python\")"
   ]
  },
  {
   "cell_type": "markdown",
   "metadata": {},
   "source": [
    "## Erste Anweisungen"
   ]
  },
  {
   "cell_type": "markdown",
   "metadata": {},
   "source": [
    "<div class=\"alert alert-block alert-info\">\n",
    "\n",
    "**Die bekannten Rechenoperationen `+`, `-`, `*`, `/`sind in Python benutzbar und verhalten sich so wie erwartet.** \n",
    "\n",
    "</div>    \n",
    "    \n",
    "***Probiere jede Anweisung aus!***"
   ]
  },
  {
   "cell_type": "code",
   "execution_count": null,
   "metadata": {
    "hide_input": false
   },
   "outputs": [],
   "source": [
    "print(15+7)"
   ]
  },
  {
   "cell_type": "code",
   "execution_count": null,
   "metadata": {},
   "outputs": [],
   "source": [
    "print(15-7)"
   ]
  },
  {
   "cell_type": "code",
   "execution_count": null,
   "metadata": {},
   "outputs": [],
   "source": [
    "print(15*7)"
   ]
  },
  {
   "cell_type": "code",
   "execution_count": null,
   "metadata": {},
   "outputs": [],
   "source": [
    "print(15/7)"
   ]
  },
  {
   "cell_type": "markdown",
   "metadata": {},
   "source": [
    "<div class=\"alert alert-block alert-info\">\n",
    "\n",
    "**Dann gibt es noch das Potenzieren**"
   ]
  },
  {
   "cell_type": "code",
   "execution_count": null,
   "metadata": {},
   "outputs": [],
   "source": [
    "print(15**7)"
   ]
  },
  {
   "cell_type": "markdown",
   "metadata": {},
   "source": [
    "<div class=\"alert alert-block alert-info\">\n",
    "\n",
    "**und die ganzzahlige Division** (*Dazu später mehr in einem weiteren Jupyter-Notebook*):"
   ]
  },
  {
   "cell_type": "code",
   "execution_count": null,
   "metadata": {},
   "outputs": [],
   "source": [
    "print (15//7)"
   ]
  },
  {
   "cell_type": "markdown",
   "metadata": {},
   "source": [
    "## Erste Anweisungsfolge"
   ]
  },
  {
   "cell_type": "markdown",
   "metadata": {},
   "source": [
    "<div class=\"alert alert-block alert-info\">\n",
    "\n",
    "**Eine Eingabezelle kann auch aus mehreren Zeilen bestehen. Man schreibt dazu eine Zeile, benutzt dann am Ende der Zeile die `↩︎ Eingabe`-Taste und kann auf diese Art mehrere Zeilen erzeugen.**\n",
    "\n",
    "**Die Eingabezelle wird, wie gewohnt, mit dem `▶︎ Run`-Button oder mit `⇧ <SHIFT> + ↩︎ <ENTER>` ausgeführt.**\n",
    "    \n",
    "**Die einzelnen Zeilen der Eingabezelle werden dann nacheinander ausgeführt.**"
   ]
  },
  {
   "cell_type": "code",
   "execution_count": null,
   "metadata": {},
   "outputs": [],
   "source": [
    "print (\"Hallo Python\")\n",
    "print (\"7 mal 8 ist\")\n",
    "print (7*8)"
   ]
  },
  {
   "cell_type": "markdown",
   "metadata": {},
   "source": [
    "## Werte aufbewahren"
   ]
  },
  {
   "cell_type": "markdown",
   "metadata": {},
   "source": [
    "<div class=\"alert alert-block alert-info\">\n",
    "\n",
    "**Eine** ***Variable*** **ist vorstellbar als ein Behälter zur Aufbewahrung von bestimmten Werten (z.B. Zahlen).**\n",
    "\n",
    "Eine Variable hat \n",
    "- einen Namen \n",
    "\n",
    "und\n",
    "\n",
    "- einen Wert\n",
    "\n",
    "Mit der ***Zuweisung*** `=` kann man den Wert in der Variablen ablegen:"
   ]
  },
  {
   "cell_type": "code",
   "execution_count": null,
   "metadata": {},
   "outputs": [],
   "source": [
    "jahreszahl = 2024"
   ]
  },
  {
   "cell_type": "markdown",
   "metadata": {},
   "source": [
    "<div class=\"alert alert-block alert-info\">\n",
    "\n",
    "*Bitte auch diese Zelle aktivieren, wenn du in der vorigen Zelle eine Änderung vorgenommen hast!*\n",
    "\n",
    "In der Variablen `jahreszahl` ist jetzt {{jahreszahl}} gespeichert!"
   ]
  },
  {
   "cell_type": "markdown",
   "metadata": {},
   "source": [
    "<div class=\"alert alert-block alert-info\">\n",
    "\n",
    "**Man kann jetzt jederzeit den Inhalt dieser Variablen ausgeben:**"
   ]
  },
  {
   "cell_type": "code",
   "execution_count": null,
   "metadata": {},
   "outputs": [],
   "source": [
    "print (jahreszahl)"
   ]
  },
  {
   "cell_type": "markdown",
   "metadata": {},
   "source": [
    "<div class=\"alert alert-block alert-info\">\n",
    "\n",
    "**oder auch anderweitig benutzen:**"
   ]
  },
  {
   "cell_type": "code",
   "execution_count": null,
   "metadata": {},
   "outputs": [],
   "source": [
    "print (jahreszahl * 2)"
   ]
  },
  {
   "cell_type": "markdown",
   "metadata": {},
   "source": [
    "## Erste Interaktion mit dem Python-System"
   ]
  },
  {
   "cell_type": "markdown",
   "metadata": {},
   "source": [
    "<div class=\"alert alert-block alert-info\">\n",
    "\n",
    "**Eingaben des Benutzers erfolgen mit dem Befehl `input(_)`**"
   ]
  },
  {
   "cell_type": "code",
   "execution_count": null,
   "metadata": {},
   "outputs": [],
   "source": [
    "name = input(\"Dein Name ist\")\n",
    "print(\"Du heisst\", name)"
   ]
  },
  {
   "cell_type": "markdown",
   "metadata": {},
   "source": [
    "# Hier geht es weiter:\n",
    "- [Umgang mit Basisdatentypen in Python](2_Python_Basics.ipynb)"
   ]
  }
 ],
 "metadata": {
  "hide_input": false,
  "kernelspec": {
   "display_name": "Python 3 (ipykernel)",
   "language": "python",
   "name": "python3"
  },
  "language_info": {
   "codemirror_mode": {
    "name": "ipython",
    "version": 3
   },
   "file_extension": ".py",
   "mimetype": "text/x-python",
   "name": "python",
   "nbconvert_exporter": "python",
   "pygments_lexer": "ipython3",
   "version": "3.10.13"
  },
  "latex_envs": {
   "LaTeX_envs_menu_present": true,
   "autoclose": false,
   "autocomplete": true,
   "bibliofile": "biblio.bib",
   "cite_by": "apalike",
   "current_citInitial": 1,
   "eqLabelWithNumbers": true,
   "eqNumInitial": 1,
   "hotkeys": {
    "equation": "Ctrl-E",
    "itemize": "Ctrl-I"
   },
   "labels_anchors": false,
   "latex_user_defs": false,
   "report_style_numbering": false,
   "user_envs_cfg": false
  },
  "toc": {
   "base_numbering": 1,
   "nav_menu": {},
   "number_sections": true,
   "sideBar": true,
   "skip_h1_title": true,
   "title_cell": "Table of Contents",
   "title_sidebar": "Contents",
   "toc_cell": false,
   "toc_position": {
    "height": "156px",
    "left": "1008px",
    "top": "144.133px",
    "width": "165px"
   },
   "toc_section_display": true,
   "toc_window_display": true
  },
  "varInspector": {
   "cols": {
    "lenName": 16,
    "lenType": 16,
    "lenVar": 40
   },
   "kernels_config": {
    "python": {
     "delete_cmd_postfix": "",
     "delete_cmd_prefix": "del ",
     "library": "var_list.py",
     "varRefreshCmd": "print(var_dic_list())"
    },
    "r": {
     "delete_cmd_postfix": ") ",
     "delete_cmd_prefix": "rm(",
     "library": "var_list.r",
     "varRefreshCmd": "cat(var_dic_list()) "
    }
   },
   "position": {
    "height": "283.85px",
    "left": "890px",
    "right": "20px",
    "top": "3px",
    "width": "421px"
   },
   "types_to_exclude": [
    "module",
    "function",
    "builtin_function_or_method",
    "instance",
    "_Feature"
   ],
   "window_display": false
  }
 },
 "nbformat": 4,
 "nbformat_minor": 4
}
