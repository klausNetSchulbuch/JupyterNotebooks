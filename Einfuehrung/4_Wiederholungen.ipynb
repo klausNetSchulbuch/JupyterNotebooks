{
 "cells": [
  {
   "cell_type": "markdown",
   "metadata": {},
   "source": [
    "# Python"
   ]
  },
  {
   "cell_type": "markdown",
   "metadata": {},
   "source": [
    "<div style=\"background-color: Cornsilk; padding: 5px 20px 20px\">\n",
    "\n",
    "In diesem Notebook wirst du erfahren, wie man in Python oft wiederkehrende Aktionen erzeugen kann.\n",
    "\n",
    "Falls du neugierig bist und schon einmal sehen möchtest, welche weiteren Möglichkeiten es in Python gibt, kannst du die folgenden Links nutzen:\n",
    "   \n",
    "- [Funktionen](5_Funktionen.ipynb)\n",
    "- [rekursive Funktionen](6_Rekursion.ipynb)"
   ]
  },
  {
   "cell_type": "markdown",
   "metadata": {},
   "source": [
    "## Wiederholungen"
   ]
  },
  {
   "cell_type": "markdown",
   "metadata": {},
   "source": [
    "Sehr häufig kommt es vor, dass eine bestimmte Aktion mehrfach auszuführen ist. So möchte man z.B. alle Quadrate $n^2$ für $1 \\leq n \\leq 10$ erzeugen: "
   ]
  },
  {
   "cell_type": "code",
   "execution_count": null,
   "metadata": {},
   "outputs": [],
   "source": [
    "print (1**2)"
   ]
  },
  {
   "cell_type": "code",
   "execution_count": null,
   "metadata": {},
   "outputs": [],
   "source": [
    "print (2**2)"
   ]
  },
  {
   "cell_type": "markdown",
   "metadata": {},
   "source": [
    "usw. .....\n",
    "\n",
    "> Das ist natürlich nicht sehr elegant. Also besser sind die folgenden beiden **Alternativen**"
   ]
  },
  {
   "cell_type": "markdown",
   "metadata": {},
   "source": [
    "> - Die sog. `Zählschleife` macht genau dies:"
   ]
  },
  {
   "cell_type": "code",
   "execution_count": null,
   "metadata": {},
   "outputs": [],
   "source": [
    "for n in range(1,11):\n",
    "    print (str(n) + \"-quadrat = \" + str (n**2))\n",
    "print (\"Hallo\")"
   ]
  },
  {
   "cell_type": "markdown",
   "metadata": {},
   "source": [
    "Wieso steht dort 11 und nicht 10? \n",
    "\n",
    "> Die erste Angabe a in einem `range(a,b)`-Ausdruck ist der Startwert der erzeugten Werte, während die zweite Angabe b angibt, dass die erzeugten Werte immer **kleiner** als b sein müssen. "
   ]
  },
  {
   "cell_type": "markdown",
   "metadata": {},
   "source": [
    "> - Es geht auch mit einer sog. `while-Schleife`:"
   ]
  },
  {
   "cell_type": "markdown",
   "metadata": {},
   "source": [
    "### ***Aufgabe***: Alle Teiler von 100 sollen ausgegeben werden."
   ]
  },
  {
   "cell_type": "code",
   "execution_count": null,
   "metadata": {},
   "outputs": [],
   "source": [
    "for n in range (1,11):\n",
    "    if 100%n == 0:\n",
    "        print (str(n) + \" ist ein Teiler von 100\")\n",
    "        print (str (100//n) + \" ist ebenfalls ein Teiler von 100\")\n",
    "print (\"Das wars!\")"
   ]
  },
  {
   "cell_type": "markdown",
   "metadata": {},
   "source": [
    "### ***Aufgabe***: Der größte-gemeinsame-Teiler von 123 und 456 soll ausgegeben werden."
   ]
  },
  {
   "cell_type": "code",
   "execution_count": null,
   "metadata": {},
   "outputs": [],
   "source": []
  },
  {
   "cell_type": "markdown",
   "metadata": {},
   "source": [
    "### ***Aufgabe***: Was leisten die folgenden Code-Beispiele?"
   ]
  },
  {
   "cell_type": "code",
   "execution_count": null,
   "metadata": {},
   "outputs": [],
   "source": [
    "# Eine unbekannte Operation\n",
    "\n",
    "nt = input (\"Gib eine Zahl ein : \")\n",
    "n = int (nt)\n",
    "i = 1\n",
    "s = 0\n",
    "while (i <= n):\n",
    "    s = s + (i*i)\n",
    "    print (i, \"--> \", s)\n",
    "    i = i + 1\n",
    "print (\"Ergebnis = \", s)"
   ]
  },
  {
   "cell_type": "markdown",
   "metadata": {},
   "source": [
    "**Ändere das Programm so ab, dass keine while-Schleife, sondern eine Zählschleife benutzt wird!**"
   ]
  },
  {
   "cell_type": "code",
   "execution_count": null,
   "metadata": {},
   "outputs": [],
   "source": []
  },
  {
   "cell_type": "code",
   "execution_count": null,
   "metadata": {},
   "outputs": [],
   "source": [
    "# Noch eine unbekannte Operation\n",
    "\n",
    "nt = input (\"Gib eine Zahl ein : \")\n",
    "n = int (nt)\n",
    "i = 1\n",
    "a = 1\n",
    "s = 0\n",
    "while (i <= n):\n",
    "    s = s + a\n",
    "    i = i + 1\n",
    "    a = a + 2\n",
    "print (\"Ergebnis = \", s)"
   ]
  },
  {
   "cell_type": "code",
   "execution_count": null,
   "metadata": {},
   "outputs": [],
   "source": [
    "from random import randint\n",
    "\n",
    "paschGefunden = False\n",
    "versuche = 0\n",
    "while not paschGefunden:\n",
    "    w1 = randint(1, 6)\n",
    "    w2 = randint(1, 6)\n",
    "    w3 = randint(1, 6)\n",
    "    versuche = versuche + 1\n",
    "    if w1 == w2 and w1 == w3:\n",
    "        paschGefunden = True\n",
    "# Ausgabe\n",
    "print(versuche)"
   ]
  },
  {
   "cell_type": "markdown",
   "metadata": {},
   "source": [
    "### **[Newton-Verfahren](https://mathepedia.de/Beispiele_Newton-Verfahren.html)** zum Berechnen von Quadratwurzeln:"
   ]
  },
  {
   "cell_type": "code",
   "execution_count": null,
   "metadata": {},
   "outputs": [],
   "source": [
    "# wurzel berechnen\n",
    "\n",
    "a = int (input(\"Zu berechnende Quadratwurzel: \"))\n",
    "\n",
    "x = int (input(\"Startwert x1: \"))\n",
    "\n",
    "print (\"Iteration  Näherungswert\")\n",
    "\n",
    "print (\"_________________________\")   \n",
    "\n",
    "xalt = 0.0\n",
    "\n",
    "while abs (x*x - a) > 0.0000001:\n",
    "  xalt = x\n",
    "  x = 0.5*(xalt+a/xalt)\n",
    "  # Bemerkung: 0.5 statt 1/2, damit mit Kommazahlen gerechnet wird!\n",
    "  print (xalt, '   ', x)"
   ]
  },
  {
   "cell_type": "markdown",
   "metadata": {},
   "source": [
    "### ***Aufgabe***: Ein Ratespiel:\n",
    "\n",
    "- Es ist ein Spiel für zwei Personen (A und B genannt)\n",
    "- A denkt sich eine Zahl aus. Sie soll in dem Bereich [1, ..., 100] liegen. B soll diese Zahl erraten.\n",
    "- B versucht es mit einer Zahl:\n",
    "    - A meldet dann zurück, ob die geratene Zahl zu klein / zu groß / korrekt ist.\n",
    "- Das wiederholt sich solange, bis B die Zahl geraten hat.   \n",
    "- Die Anzahl der Versuche ist dann zu notieren.\n",
    "\n",
    "> *Spielt das Spiel mehrfach zu zweit, abwechselnd mit jeweils vertauschten Rollen.*\n",
    "\n",
    "> *Schau dir die folgenden Programmzeilen an und versuche sie zu verstehen.*"
   ]
  },
  {
   "cell_type": "code",
   "execution_count": null,
   "metadata": {},
   "outputs": [],
   "source": [
    "# Ein Ratespiel\n",
    "from random import randint\n",
    "\n",
    "print ('Rate eine Zahl zwischen 1 und 100 (einschliesslich)')\n",
    "meineZahl = randint (1,101)\n",
    "geraten = False\n",
    "anzahl = 0\n",
    "while (not geraten):\n",
    "    geratenText = input ('Welche Zahl meinst du?')\n",
    "    geratenZahl = int (geratenText)\n",
    "    anzahl = anzahl + 1\n",
    "    if (geratenZahl > meineZahl):\n",
    "        print ('Zu Gross!')\n",
    "    else:\n",
    "        if (geratenZahl < meineZahl):\n",
    "            print ('Zu klein!')\n",
    "        else:\n",
    "            print ('Toll!')\n",
    "            geraten = True\n",
    "print ('Spiel beendet.', anzahl, 'Versuche.')"
   ]
  },
  {
   "cell_type": "markdown",
   "metadata": {},
   "source": [
    "### Und jetzt errät der Computer die von dir gedachte Zahl!"
   ]
  },
  {
   "cell_type": "markdown",
   "metadata": {},
   "source": [
    "**Also. Du denkst dir eine Zahl zwischen 1 und 100 (jeweils einschließlich) aus und dann startest du das folgende Programm!**"
   ]
  },
  {
   "cell_type": "code",
   "execution_count": null,
   "metadata": {},
   "outputs": [],
   "source": [
    "def sucheInBereich (unten, oben, anzahlVersuche):\n",
    "    if unten > oben:\n",
    "        print (\"Ich habe keine Ahnung, welche Zahl du dir ausgedacht hast. Vielleicht eine nicht erlaubte?\")\n",
    "    elif unten == oben:\n",
    "        print (\"Die Zahl, die du dir ausgedacht hast, ist ganz sicher\", unten)\n",
    "        print (\"Ich habe\", anzahlVersuche, \"Versuche benötigt.\")\n",
    "    else:\n",
    "        mitte = (oben + unten) // 2\n",
    "        text = \"Ist es vielleicht \" + str(mitte) + \" ? (j/n)\"\n",
    "        jn = input (text)\n",
    "        if jn == \"j\":\n",
    "            print (\"Na bitte!\",\"Ich habe\", anzahlVersuche, \"Versuche benötigt.\")\n",
    "        else:\n",
    "            text = \"Ist deine Zahl kleiner als \" + str(mitte) + \" ? (j/n)\"\n",
    "            jn = input (text)\n",
    "            if jn == \"j\":\n",
    "                sucheInBereich (unten, mitte-1, anzahlVersuche+1)\n",
    "            else:\n",
    "                sucheInBereich (mitte+1, oben, anzahlVersuche+1)\n",
    "\n",
    "def ichRate ():\n",
    "    print (\"Denk dir eine Zahl zwischen 1 und 100 (jeweils einschließlich) aus.\")\n",
    "    sucheInBereich (1, 100, 0)\n",
    "    \n",
    "ichRate ()"
   ]
  },
  {
   "cell_type": "markdown",
   "metadata": {},
   "source": [
    "# Hier geht es weiter:\n",
    "- [Funktionen](5_Funktionen.ipynb)"
   ]
  },
  {
   "cell_type": "code",
   "execution_count": null,
   "metadata": {},
   "outputs": [],
   "source": []
  }
 ],
 "metadata": {
  "hide_input": false,
  "kernelspec": {
   "display_name": "Python 3 (ipykernel)",
   "language": "python",
   "name": "python3"
  },
  "language_info": {
   "codemirror_mode": {
    "name": "ipython",
    "version": 3
   },
   "file_extension": ".py",
   "mimetype": "text/x-python",
   "name": "python",
   "nbconvert_exporter": "python",
   "pygments_lexer": "ipython3",
   "version": "3.10.6"
  },
  "latex_envs": {
   "LaTeX_envs_menu_present": true,
   "autoclose": false,
   "autocomplete": true,
   "bibliofile": "biblio.bib",
   "cite_by": "apalike",
   "current_citInitial": 1,
   "eqLabelWithNumbers": true,
   "eqNumInitial": 1,
   "hotkeys": {
    "equation": "Ctrl-E",
    "itemize": "Ctrl-I"
   },
   "labels_anchors": false,
   "latex_user_defs": false,
   "report_style_numbering": false,
   "user_envs_cfg": false
  },
  "toc": {
   "base_numbering": 1,
   "nav_menu": {},
   "number_sections": true,
   "sideBar": true,
   "skip_h1_title": true,
   "title_cell": "Table of Contents",
   "title_sidebar": "Contents",
   "toc_cell": false,
   "toc_position": {
    "height": "292px",
    "left": "996px",
    "top": "212.133px",
    "width": "288px"
   },
   "toc_section_display": true,
   "toc_window_display": true
  },
  "varInspector": {
   "cols": {
    "lenName": 16,
    "lenType": 16,
    "lenVar": 40
   },
   "kernels_config": {
    "python": {
     "delete_cmd_postfix": "",
     "delete_cmd_prefix": "del ",
     "library": "var_list.py",
     "varRefreshCmd": "print(var_dic_list())"
    },
    "r": {
     "delete_cmd_postfix": ") ",
     "delete_cmd_prefix": "rm(",
     "library": "var_list.r",
     "varRefreshCmd": "cat(var_dic_list()) "
    }
   },
   "types_to_exclude": [
    "module",
    "function",
    "builtin_function_or_method",
    "instance",
    "_Feature"
   ],
   "window_display": false
  }
 },
 "nbformat": 4,
 "nbformat_minor": 4
}
