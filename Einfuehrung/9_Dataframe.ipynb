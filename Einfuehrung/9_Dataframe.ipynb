{
 "cells": [
  {
   "cell_type": "code",
   "execution_count": 10,
   "id": "e8f9f6c9",
   "metadata": {},
   "outputs": [],
   "source": [
    "import numpy as np\n",
    "import pandas as pd"
   ]
  },
  {
   "cell_type": "code",
   "execution_count": 11,
   "id": "e2311684",
   "metadata": {},
   "outputs": [],
   "source": [
    "anzahl = 32\n",
    "dezi = []\n",
    "bina = []\n",
    "octa = []\n",
    "hexa = []\n",
    "\n",
    "for i in range (anzahl):\n",
    "    dezi.append(i)\n",
    "    bina.append(bin(i))\n",
    "    octa.append(oct(i))\n",
    "    hexa.append(hex(i))"
   ]
  },
  {
   "cell_type": "code",
   "execution_count": 14,
   "id": "128ab679",
   "metadata": {
    "scrolled": false
   },
   "outputs": [
    {
     "data": {
      "text/html": [
       "<div>\n",
       "<style scoped>\n",
       "    .dataframe tbody tr th:only-of-type {\n",
       "        vertical-align: middle;\n",
       "    }\n",
       "\n",
       "    .dataframe tbody tr th {\n",
       "        vertical-align: top;\n",
       "    }\n",
       "\n",
       "    .dataframe thead th {\n",
       "        text-align: right;\n",
       "    }\n",
       "</style>\n",
       "<table border=\"1\" class=\"dataframe\">\n",
       "  <thead>\n",
       "    <tr style=\"text-align: right;\">\n",
       "      <th></th>\n",
       "      <th>Binär</th>\n",
       "      <th>Octal</th>\n",
       "      <th>Hexadezimal</th>\n",
       "    </tr>\n",
       "    <tr>\n",
       "      <th>Dezimal</th>\n",
       "      <th></th>\n",
       "      <th></th>\n",
       "      <th></th>\n",
       "    </tr>\n",
       "  </thead>\n",
       "  <tbody>\n",
       "    <tr>\n",
       "      <th>0</th>\n",
       "      <td>0b0</td>\n",
       "      <td>0o0</td>\n",
       "      <td>0x0</td>\n",
       "    </tr>\n",
       "    <tr>\n",
       "      <th>1</th>\n",
       "      <td>0b1</td>\n",
       "      <td>0o1</td>\n",
       "      <td>0x1</td>\n",
       "    </tr>\n",
       "    <tr>\n",
       "      <th>2</th>\n",
       "      <td>0b10</td>\n",
       "      <td>0o2</td>\n",
       "      <td>0x2</td>\n",
       "    </tr>\n",
       "    <tr>\n",
       "      <th>3</th>\n",
       "      <td>0b11</td>\n",
       "      <td>0o3</td>\n",
       "      <td>0x3</td>\n",
       "    </tr>\n",
       "    <tr>\n",
       "      <th>4</th>\n",
       "      <td>0b100</td>\n",
       "      <td>0o4</td>\n",
       "      <td>0x4</td>\n",
       "    </tr>\n",
       "    <tr>\n",
       "      <th>5</th>\n",
       "      <td>0b101</td>\n",
       "      <td>0o5</td>\n",
       "      <td>0x5</td>\n",
       "    </tr>\n",
       "    <tr>\n",
       "      <th>6</th>\n",
       "      <td>0b110</td>\n",
       "      <td>0o6</td>\n",
       "      <td>0x6</td>\n",
       "    </tr>\n",
       "    <tr>\n",
       "      <th>7</th>\n",
       "      <td>0b111</td>\n",
       "      <td>0o7</td>\n",
       "      <td>0x7</td>\n",
       "    </tr>\n",
       "    <tr>\n",
       "      <th>8</th>\n",
       "      <td>0b1000</td>\n",
       "      <td>0o10</td>\n",
       "      <td>0x8</td>\n",
       "    </tr>\n",
       "    <tr>\n",
       "      <th>9</th>\n",
       "      <td>0b1001</td>\n",
       "      <td>0o11</td>\n",
       "      <td>0x9</td>\n",
       "    </tr>\n",
       "  </tbody>\n",
       "</table>\n",
       "</div>"
      ],
      "text/plain": [
       "          Binär Octal Hexadezimal\n",
       "Dezimal                          \n",
       "0           0b0   0o0         0x0\n",
       "1           0b1   0o1         0x1\n",
       "2          0b10   0o2         0x2\n",
       "3          0b11   0o3         0x3\n",
       "4         0b100   0o4         0x4\n",
       "5         0b101   0o5         0x5\n",
       "6         0b110   0o6         0x6\n",
       "7         0b111   0o7         0x7\n",
       "8        0b1000  0o10         0x8\n",
       "9        0b1001  0o11         0x9"
      ]
     },
     "execution_count": 14,
     "metadata": {},
     "output_type": "execute_result"
    }
   ],
   "source": [
    "ascii = {\"Dezimal\": dezi,\n",
    "         \"Binär\": bina,\n",
    "         \"Octal\": octa,\n",
    "         \"Hexadezimal\": hexa\n",
    "        }\n",
    "asciiFrame = pd.DataFrame(ascii)\n",
    "df = asciiFrame.set_index(\"Dezimal\")\n",
    "df.head(10)"
   ]
  },
  {
   "cell_type": "code",
   "execution_count": 30,
   "id": "49f2dd2c",
   "metadata": {},
   "outputs": [
    {
     "data": {
      "text/plain": [
       "'0x2a'"
      ]
     },
     "execution_count": 30,
     "metadata": {},
     "output_type": "execute_result"
    }
   ],
   "source": [
    "hex(42)"
   ]
  },
  {
   "cell_type": "code",
   "execution_count": null,
   "id": "727e4819",
   "metadata": {},
   "outputs": [],
   "source": []
  }
 ],
 "metadata": {
  "hide_input": false,
  "kernelspec": {
   "display_name": "Python 3 (ipykernel)",
   "language": "python",
   "name": "python3"
  },
  "language_info": {
   "codemirror_mode": {
    "name": "ipython",
    "version": 3
   },
   "file_extension": ".py",
   "mimetype": "text/x-python",
   "name": "python",
   "nbconvert_exporter": "python",
   "pygments_lexer": "ipython3",
   "version": "3.10.13"
  },
  "toc": {
   "base_numbering": 1,
   "nav_menu": {},
   "number_sections": true,
   "sideBar": true,
   "skip_h1_title": true,
   "title_cell": "Inhalt",
   "title_sidebar": "Inhalt",
   "toc_cell": false,
   "toc_position": {},
   "toc_section_display": true,
   "toc_window_display": true
  },
  "varInspector": {
   "cols": {
    "lenName": 16,
    "lenType": 16,
    "lenVar": 40
   },
   "kernels_config": {
    "python": {
     "delete_cmd_postfix": "",
     "delete_cmd_prefix": "del ",
     "library": "var_list.py",
     "varRefreshCmd": "print(var_dic_list())"
    },
    "r": {
     "delete_cmd_postfix": ") ",
     "delete_cmd_prefix": "rm(",
     "library": "var_list.r",
     "varRefreshCmd": "cat(var_dic_list()) "
    }
   },
   "types_to_exclude": [
    "module",
    "function",
    "builtin_function_or_method",
    "instance",
    "_Feature"
   ],
   "window_display": false
  }
 },
 "nbformat": 4,
 "nbformat_minor": 5
}
