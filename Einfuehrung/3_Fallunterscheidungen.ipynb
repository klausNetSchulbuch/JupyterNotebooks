{
 "cells": [
  {
   "cell_type": "markdown",
   "metadata": {
    "slideshow": {
     "slide_type": "-"
    }
   },
   "source": [
    "# **Python**"
   ]
  },
  {
   "cell_type": "markdown",
   "metadata": {},
   "source": [
    "<div style=\"background-color: Cornsilk; padding: 5px 20px 20px\">\n",
    "\n",
    "In diesem Notebook entdeckst du die Möglichkeit, wie ein Python-Programm auf unterschiedliche Situationen reagieren kann.\n",
    "\n",
    "Falls du neugierig bist und schon einmal sehen möchtest, welche weiteren Möglichkeiten es in Python gibt, kannst du die folgenden Links nutzen:\n",
    "   \n",
    "- [Wiederholungen](4_Wiederholungen.ipynb)    \n",
    "- [Funktionen](5_Funktionen.ipynb)\n",
    "- [rekursive Funktionen](6_Rekursion.ipynb)"
   ]
  },
  {
   "cell_type": "markdown",
   "metadata": {},
   "source": [
    "## Was bisher geschah"
   ]
  },
  {
   "cell_type": "markdown",
   "metadata": {},
   "source": [
    "<div style=\"background-color: Cornsilk; padding: 5px 20px 20px\">\n",
    "\n",
    "- Du hast verschiedene Zahlentypen kennen gelernt\n",
    "- Du hast gesehen, dass Python rechnen kann\n",
    "- Variablen konnten Daten speichern\n",
    "- Das System kommunizierte mit dir durch eingaben und Ausgaben"
   ]
  },
  {
   "cell_type": "markdown",
   "metadata": {},
   "source": [
    "## Fallunterscheidungen"
   ]
  },
  {
   "cell_type": "markdown",
   "metadata": {},
   "source": [
    "> ***Aktionen oder Variablenwerte in Anhängigkeit von Bedingungen***"
   ]
  },
  {
   "cell_type": "markdown",
   "metadata": {},
   "source": [
    "<div style=\"background-color: Cornsilk; padding: 5px 20px 20px\">\n",
    "\n",
    "In allen bisherigen Beispielen wurden die Python-Anweisungen immer der Reihe nach und komplett ausgeführt. Jedoch ist  der Ablauf eines Programms sehr oft abhängig von *Bedingungen*.\n",
    "    \n",
    "So wird man z.B. jemanden am Morgen anders begrüßen als am Abend. Vor 10 Uhr wird man dann `Guten Morgen`, ansonsten `Guten Tag` sagen."
   ]
  },
  {
   "cell_type": "markdown",
   "metadata": {},
   "source": [
    "### Zweiseitige Fallunterscheidung"
   ]
  },
  {
   "cell_type": "markdown",
   "metadata": {},
   "source": [
    "<div style=\"background-color: Cornsilk; padding: 5px 20px 20px\">\n",
    "\n",
    "In dem Python-System kann man je nach Bedingung unterschiedlich reagieren. Die syntax dazu:\n",
    "    \n",
    "    if bedingung:\n",
    "       tueDieses\n",
    "    else:\n",
    "       tueJenes"
   ]
  },
  {
   "cell_type": "markdown",
   "metadata": {},
   "source": [
    "<div style=\"background-color: Cornsilk; padding: 5px 20px 20px\">\n",
    "\n",
    "Simuliert man die Aktion der Begrüßung:"
   ]
  },
  {
   "cell_type": "code",
   "execution_count": null,
   "metadata": {},
   "outputs": [],
   "source": [
    "stunde = int (input (\"Es ist jetzt ... Uhr (nur Stundenangabe bitte) \"))\n",
    "if stunde <= 10:\n",
    "    print (\"Guten Morgen\")\n",
    "else:\n",
    "    print (\"Guten Tag\")"
   ]
  },
  {
   "cell_type": "markdown",
   "metadata": {},
   "source": [
    "<div style=\"background-color: Cornsilk; padding: 5px 20px 20px\">\n",
    "\n",
    "Jetzt wollen wir dies natürlich nicht nur simulieren. Die Ausgabe soll jetzt tatsächlich von der aktuellen Tageszeit abhängen.\n",
    "    \n",
    "Damit wir die aktuelle Uhrzeit benutzen können, müssen wir noch eine Python-Bibliothek laden:"
   ]
  },
  {
   "cell_type": "code",
   "execution_count": null,
   "metadata": {},
   "outputs": [],
   "source": [
    "import datetime"
   ]
  },
  {
   "cell_type": "markdown",
   "metadata": {},
   "source": [
    "<div style=\"background-color: Cornsilk; padding: 5px 20px 20px\">\n",
    "\n",
    "Und jetzt können wir die Informationen anzeigen lassen:"
   ]
  },
  {
   "cell_type": "code",
   "execution_count": null,
   "metadata": {},
   "outputs": [],
   "source": [
    "now = datetime.datetime.now()\n",
    "print (now.strftime('%Y-%m-%d %H:%M:%S'))"
   ]
  },
  {
   "cell_type": "markdown",
   "metadata": {},
   "source": [
    "<div style=\"background-color: Cornsilk; padding: 5px 20px 20px\">\n",
    "\n",
    "Um jetzt nur die Stundenangabe der Uhrzeit zu erhalten, benutzt man nur die `%H`-Information. Es handelt sich dabei um einen String, der dann noch als Zahl zu interpretieren ist."
   ]
  },
  {
   "cell_type": "code",
   "execution_count": null,
   "metadata": {},
   "outputs": [],
   "source": [
    "now = datetime.datetime.now()\n",
    "stunde = int (now.strftime('%H'))\n",
    "if stunde <= 10:\n",
    "    print (\"Guten Morgen\")\n",
    "else:\n",
    "    print (\"Guten Tag\")"
   ]
  },
  {
   "cell_type": "markdown",
   "metadata": {},
   "source": [
    "#### Beispiel: Gerade Zahlen"
   ]
  },
  {
   "cell_type": "markdown",
   "metadata": {},
   "source": [
    "<div style=\"background-color: Cornsilk; padding: 5px 20px 20px\">\n",
    "\n",
    "Gerade Zahlen können entdeckt werden, indem man den Rest beim ganzzahligen Dividieren durch 2 betrachtet:\n",
    "- Eine gerade Zahl lässt den Divisionsrest 0\n",
    "- Ungerade Zahlen lässt den Divisionsrest 1\n",
    "    \n",
    "Damit kann man also den gewünschten Test programmieren:"
   ]
  },
  {
   "cell_type": "code",
   "execution_count": null,
   "metadata": {},
   "outputs": [],
   "source": [
    "zahl = int (input (\"zu testende Zahl :\"))\n",
    "rest = zahl % 2\n",
    "if rest == 0:\n",
    "    print (str (zahl), \"ist gerade\")\n",
    "else:\n",
    "    print (str (zahl), \"ist ungerade\")"
   ]
  },
  {
   "cell_type": "markdown",
   "metadata": {},
   "source": [
    "#### ***Aufgaben***"
   ]
  },
  {
   "cell_type": "markdown",
   "metadata": {},
   "source": [
    "<div style=\"background-color: DarkSeaGreen; padding: 5px 20px 20px\">\n",
    "\n",
    "1. Ein Würfel wird geworfen. Wenn dabei eine `6` erscheint, erfolgt die entsprechende Ausgabe `Du hast eine 6 geworfen!`. Ansonsten erscheint die Ausgabe `Du hast leider keine 6 geworfen!`.\n",
    "   \n",
    "   \n",
    "2. Jetzt werden zwei Würfel geworfen. Es wird angezeigt, ob dabei ein *Pasch* (beide Würfel zeigen dieselbe Augenzahl) geworfen wurde."
   ]
  },
  {
   "cell_type": "markdown",
   "metadata": {},
   "source": [
    "### Einseitige Fallunterscheidungen"
   ]
  },
  {
   "cell_type": "markdown",
   "metadata": {},
   "source": [
    "In einigen Fällen kann der else-Teil einer Fallunterschidung entfallen.\n",
    "\n",
    "Beispielsweise könnte es sein, dass jemand zu einer einzugebenden Zahl die nächst-kleinere gerade Zahl sucht, also zu der Zahl n diejenige gerade Zahl g, so dass $g=n$ ist, wenn n gerade ist, oder $g = n-1$"
   ]
  },
  {
   "cell_type": "code",
   "execution_count": null,
   "metadata": {},
   "outputs": [],
   "source": [
    "zahl = int (input (\"natürliche Zahl: \"))\n",
    "if zahl % 2 == 1:  # zahl ist nicht gerade!\n",
    "    zahl = zahl - 1\n",
    "print (zahl)"
   ]
  },
  {
   "cell_type": "markdown",
   "metadata": {},
   "source": [
    "### Mehrfache Fallunterscheidungen"
   ]
  },
  {
   "cell_type": "markdown",
   "metadata": {},
   "source": [
    "Es gibt Probleme, bei deren Lösung mehr als zwei Fälle zu unterscheiden sind.\n",
    "\n",
    "Ein stark vereinfachtes Steuermodell könnte aus der folgenden Tabelle zu sehen sein:\n",
    "\n",
    " Das zu versteuernde Einkommen E | Steuersatz \n",
    " :--: | :--: \n",
    " $ E<=1000\\ € $ | 10% \n",
    " $ 1000\\ €<E<=5000\\ € $ | 20% \n",
    " $5000\\ €<E\\ $ | 30% \n",
    "\n"
   ]
  },
  {
   "cell_type": "code",
   "execution_count": null,
   "metadata": {},
   "outputs": [],
   "source": [
    "einkommen = int (input (\"natürliche Zahl: \"))\n",
    "if einkommen <= 1000:\n",
    "    s = 10\n",
    "elif einkommen <= 5000:\n",
    "    s = 20\n",
    "else:\n",
    "    s = 30\n",
    "print (\"Der Steuersatz beträgt\", s, \"%\")"
   ]
  },
  {
   "cell_type": "markdown",
   "metadata": {},
   "source": [
    "## Beispiel: Nochmals BMI"
   ]
  },
  {
   "cell_type": "markdown",
   "metadata": {},
   "source": [
    "Schau dir noch einmal die Informationen über den BMI an:\n",
    "- [BMI im Abschnitt 6.2](2_Python_Basics.ipynb)"
   ]
  },
  {
   "cell_type": "markdown",
   "metadata": {},
   "source": [
    "<div style=\"background-color: Cornsilk; padding: 5px 20px 20px\">\n",
    "\n",
    "Nachdem der BMI ermittelt wurde, kann eine Bewertung erfolgen, indem man eine Tabelle der *WeltGesundheitsOrganisation* benutzt:\n",
    "\n",
    "unterer Wert (einschl.) | oberer Wert (ausschl.) | Bewertung\n",
    ":----------: | :----------:|:-------------------------------------\n",
    "0            | 16          | starkes Untergewicht\n",
    "16           | 17          | mäßiges Untergewicht\n",
    "17           | 18.5        | leichtes Untergewicht           \n",
    "18.5         | 25          | Normalgewicht\n",
    "25           | 30          | Übergewicht\n",
    "30           | 35          | Adipositas (Fettleibigkeit) Grad I\n",
    "35           | 39          | Adipositas Grad II\n",
    "40           |             | Adipositas Grad III\n",
    "\n",
    "Hat jemand also z.B. einen BMI von 21, hat er eine Normalgewicht.\n",
    "\n",
    "Damit ergibt sich das folgende Python-Programm, das intensiv die mehrfache Fallunterscheidung nutzt:"
   ]
  },
  {
   "cell_type": "code",
   "execution_count": null,
   "metadata": {},
   "outputs": [],
   "source": [
    "groesse = float(input(\"Ihre Körpergröße (in Metern angeben)\"))\n",
    "gewicht = float (input(\"Ihr Körpergewicht (in Kilogramm angeben)\"))\n",
    "bmi=gewicht / (groesse**2)\n",
    "if bmi < 16:\n",
    "    print (\"Sie haben starkes Untergewicht!\")\n",
    "elif bmi < 17:\n",
    "    print (\"Sie haben mäßiges Untergewicht!\")\n",
    "elif bmi < 18.5:\n",
    "    print (\"Sie haben leichtes Untergewicht!\")\n",
    "elif bmi < 25:\n",
    "    print (\"Sie haben Normalgewicht!\")\n",
    "elif bmi < 30:\n",
    "    print (\"Sie haben Übergewicht!\")\n",
    "elif bmi < 35:\n",
    "    print (\"Sie haben Adipositas Grad I!\")\n",
    "elif bmi < 39:\n",
    "    print (\"Sie haben Adipositas Grad II!\")\n",
    "else:\n",
    "    print (\"Sie haben Adipositas Grad III!\")"
   ]
  },
  {
   "cell_type": "markdown",
   "metadata": {},
   "source": [
    "# Hier geht es weiter:\n",
    "- [Wiederholungen](4_Wiederholungen.ipynb)    "
   ]
  },
  {
   "cell_type": "code",
   "execution_count": null,
   "metadata": {},
   "outputs": [],
   "source": []
  }
 ],
 "metadata": {
  "hide_input": false,
  "kernelspec": {
   "display_name": "Python 3 (ipykernel)",
   "language": "python",
   "name": "python3"
  },
  "language_info": {
   "codemirror_mode": {
    "name": "ipython",
    "version": 3
   },
   "file_extension": ".py",
   "mimetype": "text/x-python",
   "name": "python",
   "nbconvert_exporter": "python",
   "pygments_lexer": "ipython3",
   "version": "3.10.13"
  },
  "latex_envs": {
   "LaTeX_envs_menu_present": true,
   "autoclose": false,
   "autocomplete": true,
   "bibliofile": "biblio.bib",
   "cite_by": "apalike",
   "current_citInitial": 1,
   "eqLabelWithNumbers": true,
   "eqNumInitial": 1,
   "hotkeys": {
    "equation": "Ctrl-E",
    "itemize": "Ctrl-I"
   },
   "labels_anchors": false,
   "latex_user_defs": false,
   "report_style_numbering": false,
   "user_envs_cfg": false
  },
  "toc": {
   "base_numbering": 1,
   "nav_menu": {},
   "number_sections": true,
   "sideBar": true,
   "skip_h1_title": true,
   "title_cell": "Table of Contents",
   "title_sidebar": "Contents",
   "toc_cell": false,
   "toc_position": {
    "height": "377.717px",
    "left": "1066px",
    "top": "177.133px",
    "width": "272.333px"
   },
   "toc_section_display": true,
   "toc_window_display": true
  },
  "varInspector": {
   "cols": {
    "lenName": 16,
    "lenType": 16,
    "lenVar": 40
   },
   "kernels_config": {
    "python": {
     "delete_cmd_postfix": "",
     "delete_cmd_prefix": "del ",
     "library": "var_list.py",
     "varRefreshCmd": "print(var_dic_list())"
    },
    "r": {
     "delete_cmd_postfix": ") ",
     "delete_cmd_prefix": "rm(",
     "library": "var_list.r",
     "varRefreshCmd": "cat(var_dic_list()) "
    }
   },
   "types_to_exclude": [
    "module",
    "function",
    "builtin_function_or_method",
    "instance",
    "_Feature"
   ],
   "window_display": false
  }
 },
 "nbformat": 4,
 "nbformat_minor": 4
}
