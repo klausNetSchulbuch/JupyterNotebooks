{
 "cells": [
  {
   "cell_type": "markdown",
   "metadata": {},
   "source": [
    "# Python"
   ]
  },
  {
   "cell_type": "markdown",
   "metadata": {},
   "source": [
    "<div style=\"background-color: Cornsilk; padding: 5px 20px 20px\">\n",
    "\n",
    "In diesem Notebook lernst du, eigene Funktionen zu definieren.\n",
    "\n",
    "Falls du neugierig bist und schon einmal sehen möchtest, welche weiteren Möglichkeiten es in Python gibt, kannst du den folgenden Link nutzen:\n",
    "   \n",
    "- [rekursive Funktionen](6_Rekursion.ipynb)"
   ]
  },
  {
   "cell_type": "markdown",
   "metadata": {},
   "source": [
    "- [Funktionen definieren](#Funktionen-definieren)\n",
    "- [Funktionen mit Parametern](#Funktionen-mit-Parametern)\n",
    "- [Funktionen mit Ergebnissen](#Funktionen-mit-Ergebnissen)"
   ]
  },
  {
   "cell_type": "markdown",
   "metadata": {},
   "source": [
    "## Funktionen definieren"
   ]
  },
  {
   "cell_type": "markdown",
   "metadata": {},
   "source": [
    "Für häufig wiederkehrende Aktionen kann man sogenannte **Funktionen** definieren. Ein sehr einfaches Beispiel (und sicher auch nicht wirklich sinnvoll) gibt - wenn man sie benuzt - immer die Zahl 42 aus:"
   ]
  },
  {
   "cell_type": "code",
   "execution_count": null,
   "metadata": {},
   "outputs": [],
   "source": [
    "def antwortAufAlleFragen ():\n",
    "    print (42)"
   ]
  },
  {
   "cell_type": "markdown",
   "metadata": {},
   "source": [
    "Dazu benutzt man das Schlüsselwort `def`, gefolgt von dem Namen der Funktion und einem Klammerpaar. Der Doppelpunkt `:` leitet dann den Anweisungsblock (der **Rumpf**) ein.\n",
    "\n",
    "Dieser Rumpf wird eingerückt geschrieben."
   ]
  },
  {
   "cell_type": "markdown",
   "metadata": {},
   "source": [
    "Um eine definierte Funktion auszuführen, schreibt man den Namen hin. Das Klammerpaar ist dabei wichtig!"
   ]
  },
  {
   "cell_type": "code",
   "execution_count": null,
   "metadata": {},
   "outputs": [],
   "source": [
    "antwortAufAlleFragen ()"
   ]
  },
  {
   "cell_type": "markdown",
   "metadata": {},
   "source": [
    "> Der Name einer Funktion besteht aus Buchstaben (gross oder klein)  und Ziffern; nur das erste Zeichen darf **keine** Ziffer sein!"
   ]
  },
  {
   "cell_type": "markdown",
   "metadata": {},
   "source": [
    "## Funktionen mit Parametern"
   ]
  },
  {
   "cell_type": "markdown",
   "metadata": {},
   "source": [
    "![Collatz-Beispielgraph](Bilder/collatz-graph.png \"collatz-graph\")"
   ]
  },
  {
   "cell_type": "markdown",
   "metadata": {},
   "source": [
    "Die folgende Funktion implementiert ein bekanntes mathematisches Rätsel, das sogenannte *Collatz-Problem*:\n",
    "\n",
    "Es geht dabei um Zahlenfolgen, die nach einem einfachen Bildungsgesetz konstruiert werden:\n",
    "\n",
    "Beginne mit irgendeiner natürlichen Zahl `n`. Ist `n` gerade, so nimm als nächstes `n/2`.\n",
    "Ansonsten nimm als nächste Zahl den Wert `3*n+1`. Diesen Vorgang wiederhole fortlaufend.\n",
    "\n",
    "Für die Startzahl `n=19` erhält man dann z.B. die Folge\n",
    "\n",
    "`19, 58, 29, 88, 44, 22, 11, 34, 17, 52, 26, 13, 40, 20, 10, 5, 16, 8, 4, 2, 1, 4, 2, 1, 4, 2, 1, `\n",
    "\n",
    "Die Folge mündet also in dem Zyklus 4, 2, 1. \n",
    "\n",
    "Die Collatz-Vermutung lautet nun:\n",
    "\n",
    "***Jede so konstruierte Zahlenfolge mündet in den Zyklus 4, 2, 1, egal, mit welcher natürlichen Startzahl \n",
    "man beginnt***."
   ]
  },
  {
   "cell_type": "markdown",
   "metadata": {},
   "source": [
    "Für die Startzahl 19 kann man jetzt folgenden Funktion implementieren:"
   ]
  },
  {
   "cell_type": "code",
   "execution_count": null,
   "metadata": {},
   "outputs": [],
   "source": [
    "def collatz_1 ():\n",
    "    n = 19\n",
    "    zahl = n\n",
    "    while zahl != 1:\n",
    "        if (zahl % 2 == 0):\n",
    "            zahl = zahl // 2\n",
    "        else:\n",
    "            zahl = zahl * 3 + 1\n",
    "        print (\"zahl = \" + str(zahl))"
   ]
  },
  {
   "cell_type": "code",
   "execution_count": null,
   "metadata": {},
   "outputs": [],
   "source": [
    "collatz_1()"
   ]
  },
  {
   "cell_type": "markdown",
   "metadata": {},
   "source": [
    "### Probiere andere Startwerte aus!"
   ]
  },
  {
   "cell_type": "markdown",
   "metadata": {},
   "source": [
    "Hast du eine Idee, wie man diese Aufgabe lösen kann?"
   ]
  },
  {
   "cell_type": "markdown",
   "metadata": {},
   "source": [
    "> ????"
   ]
  },
  {
   "cell_type": "markdown",
   "metadata": {},
   "source": [
    "Will man jetzt die Collatz-Folge mit einem anderen Wert starten lassen, kann man\n",
    "- in der Definition den Wert `19` ändern\n",
    "\n",
    "oder besser\n",
    "- in der Definition einen sog. ***formalen (Funktions-)Parameter*** angeben:"
   ]
  },
  {
   "cell_type": "code",
   "execution_count": null,
   "metadata": {},
   "outputs": [],
   "source": [
    "def collatz_2 (n):\n",
    "    zahl = n\n",
    "    while zahl != 1:\n",
    "        if (zahl % 2 == 0):\n",
    "            zahl = zahl // 2\n",
    "        else:\n",
    "            zahl = zahl * 3 + 1\n",
    "        print (\"zahl = \" + str(zahl))"
   ]
  },
  {
   "cell_type": "markdown",
   "metadata": {},
   "source": [
    "Um jetzt die Folge für den Startwert `19`zu erzeugen, ruft man die Funktion mit dem ***aktuellen (Funktions-)Parameter***, nämlich 19, auf. \n",
    "\n",
    "> Also muss man `collatz_2(19)` aufrufen: "
   ]
  },
  {
   "cell_type": "code",
   "execution_count": null,
   "metadata": {
    "scrolled": true
   },
   "outputs": [],
   "source": [
    "collatz_2(19)"
   ]
  },
  {
   "cell_type": "markdown",
   "metadata": {},
   "source": [
    "### Probiere auch hier andere Startwerte aus!"
   ]
  },
  {
   "cell_type": "code",
   "execution_count": null,
   "metadata": {},
   "outputs": [],
   "source": []
  },
  {
   "cell_type": "code",
   "execution_count": null,
   "metadata": {},
   "outputs": [],
   "source": []
  },
  {
   "cell_type": "markdown",
   "metadata": {},
   "source": [
    "## Funktionen mit Ergebnissen"
   ]
  },
  {
   "cell_type": "markdown",
   "metadata": {},
   "source": [
    "In diesem Zusammenhang ist es interessant zu erfahren, wie viele Folgenglieder erzeugt werden müssen, bis man endlich bei der `1` gelandet ist. Das können wir herausfinden, wenn in die Schleife ein Zähler eingebaut wird:"
   ]
  },
  {
   "cell_type": "code",
   "execution_count": null,
   "metadata": {},
   "outputs": [],
   "source": [
    "def collatz_3 (n):\n",
    "    zahl = n\n",
    "    anzahl = 0\n",
    "    while zahl != 1:\n",
    "        if (zahl % 2 == 0):\n",
    "            zahl = zahl // 2\n",
    "        else:\n",
    "            zahl = zahl * 3 + 1\n",
    "        anzahl = anzahl + 1\n",
    "        print (\"zahl = \" + str(zahl))\n",
    "    print (\"Anzahl = \" + str (anzahl))    "
   ]
  },
  {
   "cell_type": "code",
   "execution_count": null,
   "metadata": {
    "scrolled": true
   },
   "outputs": [],
   "source": [
    "collatz_3(19)"
   ]
  },
  {
   "cell_type": "markdown",
   "metadata": {},
   "source": [
    "Jetzt interessiert uns eigentlich nur noch diese Anzahl:"
   ]
  },
  {
   "cell_type": "code",
   "execution_count": null,
   "metadata": {},
   "outputs": [],
   "source": [
    "def collatz_4 (n):\n",
    "    zahl = n\n",
    "    anzahl = 0\n",
    "    while zahl != 1:\n",
    "        if (zahl % 2 == 0):\n",
    "            zahl = zahl // 2\n",
    "        else:\n",
    "            zahl = zahl * 3 + 1\n",
    "        anzahl = anzahl + 1\n",
    "    print (\"Anzahl = \" + str (anzahl))    "
   ]
  },
  {
   "cell_type": "code",
   "execution_count": null,
   "metadata": {},
   "outputs": [],
   "source": [
    "collatz_4(20)"
   ]
  },
  {
   "cell_type": "markdown",
   "metadata": {},
   "source": [
    "Die Funktion `collatz_4` schreibt den gesuchten Wert mit Hilfe der `print`-Funktion in die Ausgabe. Das ist oft jedoch nicht erwünscht, da der Benutzer dieser Funktion diesen Wert benutzen möchte, um damit z.B. weitere Rechnungen auszuführen oder den Wert in einer Datei einzutragen.\n",
    "\n",
    "Dazu veranlassen wir die Funktion, den Wert nicht auszugeben sondern ihn zu **liefern**. Dazu:"
   ]
  },
  {
   "cell_type": "code",
   "execution_count": null,
   "metadata": {},
   "outputs": [],
   "source": [
    "def collatz_5 (n):\n",
    "    zahl = n\n",
    "    anzahl = 0\n",
    "    while zahl != 1:\n",
    "        if (zahl % 2 == 0):\n",
    "            zahl = zahl // 2\n",
    "        else:\n",
    "            zahl = zahl * 3 + 1\n",
    "        anzahl = anzahl + 1\n",
    "    return anzahl  "
   ]
  },
  {
   "cell_type": "markdown",
   "metadata": {},
   "source": [
    "Der Aufruf ist identisch, jedoch wird der Wert ohne weitere Angaben angezeigt:"
   ]
  },
  {
   "cell_type": "code",
   "execution_count": null,
   "metadata": {},
   "outputs": [],
   "source": [
    "collatz_5(20)"
   ]
  },
  {
   "cell_type": "markdown",
   "metadata": {},
   "source": [
    "Man kann jetzt auch damit rechnen (wozu auch immer):"
   ]
  },
  {
   "cell_type": "code",
   "execution_count": null,
   "metadata": {},
   "outputs": [],
   "source": [
    "5 * collatz_5(20)"
   ]
  },
  {
   "cell_type": "markdown",
   "metadata": {},
   "source": [
    "oder den Wert in einem Text eingebettet ausgeben:"
   ]
  },
  {
   "cell_type": "code",
   "execution_count": null,
   "metadata": {},
   "outputs": [],
   "source": [
    "start = 20\n",
    "ergebnis = collatz_5(start)\n",
    "print (\"Die Collatz-Folge mit Startwert\", start, \"benötigt\", ergebnis, \"Schritte.\")"
   ]
  },
  {
   "cell_type": "markdown",
   "metadata": {},
   "source": [
    "### Probieren Sie jetzt doch einmal aus, mit welcher Startzahl unter 100 die längste Folge erzeugt werden kann."
   ]
  },
  {
   "cell_type": "code",
   "execution_count": null,
   "metadata": {},
   "outputs": [],
   "source": []
  },
  {
   "cell_type": "markdown",
   "metadata": {},
   "source": [
    "Mathematiker definieren dazu jetzt:\n",
    "\n",
    "> **Die Collatz-Zahl `c(n)` einer Zahl `n` ist die Anzahl der Folgenglieder bis zum ersten Auftauchen der Zahl 1.**\n",
    "\n",
    "Dann ist also `c(19) = 20` und `c(20) = 7`\n",
    "\n",
    "Diese Definition kann man jetzt in eine Python-Definition umsetzen:"
   ]
  },
  {
   "cell_type": "code",
   "execution_count": null,
   "metadata": {},
   "outputs": [],
   "source": [
    "def collatz_6 (n):\n",
    "    zahl = n\n",
    "    anzahl = 0\n",
    "    while zahl != 1:\n",
    "        if (zahl % 2 == 0):\n",
    "            zahl = zahl // 2\n",
    "        else:\n",
    "            zahl = zahl * 3 + 1\n",
    "        anzahl = anzahl + 1\n",
    "    return anzahl"
   ]
  },
  {
   "cell_type": "code",
   "execution_count": null,
   "metadata": {},
   "outputs": [],
   "source": [
    "collatz_6(1000)"
   ]
  },
  {
   "cell_type": "markdown",
   "metadata": {},
   "source": [
    "Das hat einen enormen Vorteil: \n",
    "\n",
    "Denn jetzt kann man mit diesem Wert z.B. rechnen oder ihn beliebig anders nutzen, wohingegen dieser Wert in der Funktion `collatz_4` immer nur direkt ausgegeben wird!\n",
    "\n",
    "Damit können wir jetzt z.B. viele Collatz-Zahlen angeben lassen:"
   ]
  },
  {
   "cell_type": "code",
   "execution_count": null,
   "metadata": {},
   "outputs": [],
   "source": [
    "for i in range(1, 11):\n",
    "    print (\"Collatz-Zahl von \" + str(i) + \" = \" + str(collatz_6(i)))"
   ]
  },
  {
   "cell_type": "markdown",
   "metadata": {},
   "source": [
    "Jetzt suchen wir noch diejenige Startzahl `n` im Bereich [1, ... m], zu der die größe Collatz-Zahl `c(n)` gehört.\n",
    "\n",
    "Dazu dient jetzt die folgende Definition:"
   ]
  },
  {
   "cell_type": "code",
   "execution_count": null,
   "metadata": {},
   "outputs": [],
   "source": [
    "def maxCollatzLaenge (m):\n",
    "    maximum = 1\n",
    "    start = 1\n",
    "    for n in range (2,m+1):\n",
    "        laenge = collatz_6 (n)\n",
    "        if laenge > maximum:\n",
    "            maximum = laenge\n",
    "            start = n\n",
    "    print (\"Startwert \" + str (start) + \" hat maximale Länge von \" + str (maximum))        "
   ]
  },
  {
   "cell_type": "code",
   "execution_count": null,
   "metadata": {},
   "outputs": [],
   "source": [
    "maxCollatzLaenge (300)"
   ]
  },
  {
   "cell_type": "markdown",
   "metadata": {},
   "source": [
    "### Aufgabe: Man kann sich jetzt z.B. in einer Collatz-Folge für den höchsten Wert innerhalb der Folge interessieren"
   ]
  },
  {
   "cell_type": "markdown",
   "metadata": {},
   "source": [
    "Für die Startzahl `n=19` haben wir oben bereits die Folge erzeugt:\n",
    "\n",
    "`19, 58, 29, 88, 44, 22, 11, 34, 17, 52, 26, 13, 40, 20, 10, 5, 16, 8, 4, 2, 1, 4, 2, 1, 4, 2, 1, `\n",
    "\n",
    "Der höchste Wert innerhalb der Folge ist offenbar 88.\n",
    "\n",
    "1. Suche in anderen Folgen, also in Collatz-Folgen mit anderen Startwerten, nach dem höchsten Wert.\n",
    "2. Schreibe eine Python-Funktion, die zu einem Startwert `n` den in der zugehörigen Folge höchsten Wert verrät.\n",
    "3. Schreibe eine Python-Funktion, die unter allen Collatz-Folgen mit Startwerten zwischen 1 und 100 denjenigen Startwert ermittelt, der zu der höchsten Höhe führt."
   ]
  },
  {
   "cell_type": "code",
   "execution_count": null,
   "metadata": {},
   "outputs": [],
   "source": [
    "def maxCollatzHoehe (n):\n",
    "    zahl = n\n",
    "    hoehe = n\n",
    "    while zahl != 1:\n",
    "        if (zahl % 2 == 0):\n",
    "            zahl = zahl // 2\n",
    "        else:\n",
    "            zahl = zahl * 3 + 1\n",
    "        \n",
    "        if zahl > hoehe:\n",
    "            hoehe = zahl\n",
    "    return hoehe"
   ]
  },
  {
   "cell_type": "code",
   "execution_count": null,
   "metadata": {},
   "outputs": [],
   "source": [
    "maxCollatzHoehe(19)"
   ]
  },
  {
   "cell_type": "code",
   "execution_count": null,
   "metadata": {},
   "outputs": [],
   "source": [
    "def maxmaxCollatzHoehe (n):\n",
    "    bestStart = 0\n",
    "    bestHoehe = 0\n",
    "    for start in range (1, n+1):\n",
    "        hoehe = maxCollatzHoehe (start)\n",
    "        if hoehe > bestHoehe:\n",
    "            bestHoehe = hoehe\n",
    "            bestStart = start\n",
    "    print (\"Beste Hoehe\", str(bestHoehe), \"wird erreicht bei Startwert\", str(bestStart))        \n",
    "        "
   ]
  },
  {
   "cell_type": "code",
   "execution_count": null,
   "metadata": {},
   "outputs": [],
   "source": [
    "maxmaxCollatzHoehe(30)"
   ]
  },
  {
   "cell_type": "markdown",
   "metadata": {},
   "source": [
    "### Kürzer mit einer Funtion für den Nachfolger"
   ]
  },
  {
   "cell_type": "markdown",
   "metadata": {},
   "source": [
    "In allen oben definierten Collatz-Funktionen taucht immer wieder dieselbe Rechnung auf, nämlich die Berechnung des Nachfolgers.\n",
    "\n",
    "Das kann man zunächst ausgliedern:"
   ]
  },
  {
   "cell_type": "code",
   "execution_count": null,
   "metadata": {},
   "outputs": [],
   "source": [
    "def nachfolger(n):\n",
    "    if n%2 == 0:\n",
    "        return n // 2\n",
    "    else:\n",
    "        return (3*n+1)"
   ]
  },
  {
   "cell_type": "code",
   "execution_count": null,
   "metadata": {},
   "outputs": [],
   "source": [
    "nachfolger(20)"
   ]
  },
  {
   "cell_type": "markdown",
   "metadata": {},
   "source": [
    "Jetzt kann man die Collatz-Funktionen kürzer schreiben, wie z.B.:"
   ]
  },
  {
   "cell_type": "code",
   "execution_count": null,
   "metadata": {},
   "outputs": [],
   "source": [
    "def collatzNeu_1 (n):\n",
    "    zahl = n\n",
    "    while zahl != 1:\n",
    "        zahl = nachfolger (zahl)\n",
    "        print (zahl)"
   ]
  },
  {
   "cell_type": "code",
   "execution_count": null,
   "metadata": {},
   "outputs": [],
   "source": [
    "collatzNeu_1 (20)"
   ]
  },
  {
   "cell_type": "markdown",
   "metadata": {},
   "source": [
    "## Funktionen als Parameter"
   ]
  },
  {
   "cell_type": "markdown",
   "metadata": {},
   "source": [
    "Vielleicht möchten wir ganz andere Folgen erzeugen als diese seltsame Collatz-Folge. Im Allgemeinen ist eine Folge charakterisiert durch einen Startwert und eine Funktion, mit der man Nachfolger berechnet.\n",
    "\n",
    "Jede Collatz-Folge hatte ja in der Tat einen Startwert und eine Nachfolger-Funktion, die wir im vorigen Abschnitt definiert haben."
   ]
  },
  {
   "cell_type": "markdown",
   "metadata": {},
   "source": [
    "Ein anderes Beispiel findest du, wenn du bei einer Bank oder Sparkasse Jahreszinsen bekommst.\n",
    "\n",
    "Du zahlst einen bestimmten Betrag auf dein Konto und nach einem Jahr wirst du Zinsen erhalten, die dem Guthaben zugeschlagen werden. Im folgenden Jahr bekommst du wieder Zinsen, doch jetzt auf das neue Guthaben. Das geht dann immer so weiter."
   ]
  },
  {
   "cell_type": "markdown",
   "metadata": {},
   "source": [
    "Erläutere in diesem Zusammenhang die folgenden beiden Funktionen sowie den Funktionsaufruf:"
   ]
  },
  {
   "cell_type": "code",
   "execution_count": null,
   "metadata": {},
   "outputs": [],
   "source": [
    "def zinsen (guthaben, prozentangabe):\n",
    "    return guthaben * prozentangabe / 100"
   ]
  },
  {
   "cell_type": "code",
   "execution_count": null,
   "metadata": {},
   "outputs": [],
   "source": [
    "def guthabenschritt (guthaben, prozentangabe):\n",
    "    return guthaben + zinsen (guthaben, prozentangabe)"
   ]
  },
  {
   "cell_type": "code",
   "execution_count": null,
   "metadata": {},
   "outputs": [],
   "source": [
    "guthabenschritt (1000, 5)"
   ]
  },
  {
   "cell_type": "markdown",
   "metadata": {},
   "source": [
    "Damit kann man jetzt ermitteln, wie hoch nach einigen Jahren das Guthaben ist, wenn man einen gewissen Betrag zu Beginn eines Jahres auf ein Konto einzahlt, das pro Jahr mit einem bestimmten Zinssatz verzinst wird."
   ]
  },
  {
   "cell_type": "code",
   "execution_count": null,
   "metadata": {},
   "outputs": [],
   "source": [
    "def endguthaben (jahre, startguthaben, prozentangabe):\n",
    "    guthaben = startguthaben\n",
    "    for i in range (1, jahre+1):\n",
    "        guthaben = guthabenschritt (guthaben, prozentangabe)\n",
    "        print (\"Guthaben nach\", i, \"Jahren ist\", guthaben)"
   ]
  },
  {
   "cell_type": "code",
   "execution_count": null,
   "metadata": {},
   "outputs": [],
   "source": [
    "endguthaben (5, 1000, 1)"
   ]
  },
  {
   "cell_type": "markdown",
   "metadata": {},
   "source": [
    "Die Funktion `endguthaben` erzeugt jetzt eine Folge von Werten, wobei pro Durchgang die Funktion `guthabenschritt` benutzt wird.\n",
    "\n",
    "Stellen wir uns jetzt einmal vor, das Guthaben wird nicht verzinst, sondern z.B. jedes Jahr um einen bestimmten Betrag vergrößert. Dann könnte man die Funktion `endguthaben` natürlich entsprechend ändern.\n",
    "\n",
    "Doch kann man in Pyhton die Funktion, die intern aufgerufen wird, als Parameter übergeben. Schau dir dazu die folgenden Zeilen an:"
   ]
  },
  {
   "cell_type": "code",
   "execution_count": null,
   "metadata": {},
   "outputs": [],
   "source": [
    "def endguthaben_1 (jahre, startguthaben, angabe, funktion):\n",
    "    guthaben = startguthaben\n",
    "    for i in range (1, jahre+1):\n",
    "        guthaben = funktion (guthaben, angabe)\n",
    "        print (\"Guthaben nach\", i, \"Jahren ist\", guthaben) \n",
    "\n",
    "def konstanterSchritt (guthaben, delta):\n",
    "    return guthaben + delta"
   ]
  },
  {
   "cell_type": "markdown",
   "metadata": {},
   "source": [
    "Jetzt kann man diese neue Funktion wie folgt aufrufen:"
   ]
  },
  {
   "cell_type": "code",
   "execution_count": null,
   "metadata": {},
   "outputs": [],
   "source": [
    "endguthaben_1 (5, 1000, 1, guthabenschritt)"
   ]
  },
  {
   "cell_type": "markdown",
   "metadata": {},
   "source": [
    "oder auch:"
   ]
  },
  {
   "cell_type": "code",
   "execution_count": null,
   "metadata": {},
   "outputs": [],
   "source": [
    "endguthaben_1 (5, 1000, 1, konstanterSchritt)"
   ]
  },
  {
   "cell_type": "markdown",
   "metadata": {},
   "source": [
    "# Hier geht es weiter\n",
    "- [rekursive Funktionen](6_Rekursion.ipynb)"
   ]
  },
  {
   "cell_type": "raw",
   "metadata": {},
   "source": []
  },
  {
   "cell_type": "code",
   "execution_count": null,
   "metadata": {},
   "outputs": [],
   "source": []
  }
 ],
 "metadata": {
  "hide_input": false,
  "kernelspec": {
   "display_name": "Python 3 (ipykernel)",
   "language": "python",
   "name": "python3"
  },
  "language_info": {
   "codemirror_mode": {
    "name": "ipython",
    "version": 3
   },
   "file_extension": ".py",
   "mimetype": "text/x-python",
   "name": "python",
   "nbconvert_exporter": "python",
   "pygments_lexer": "ipython3",
   "version": "3.10.9"
  },
  "latex_envs": {
   "LaTeX_envs_menu_present": true,
   "autoclose": false,
   "autocomplete": true,
   "bibliofile": "biblio.bib",
   "cite_by": "apalike",
   "current_citInitial": 1,
   "eqLabelWithNumbers": true,
   "eqNumInitial": 1,
   "hotkeys": {
    "equation": "Ctrl-E",
    "itemize": "Ctrl-I"
   },
   "labels_anchors": false,
   "latex_user_defs": false,
   "report_style_numbering": false,
   "user_envs_cfg": false
  },
  "toc": {
   "base_numbering": 1,
   "nav_menu": {},
   "number_sections": true,
   "sideBar": true,
   "skip_h1_title": true,
   "title_cell": "Table of Contents",
   "title_sidebar": "Contents",
   "toc_cell": false,
   "toc_position": {
    "height": "292px",
    "left": "1018px",
    "top": "147.133px",
    "width": "288px"
   },
   "toc_section_display": true,
   "toc_window_display": true
  },
  "varInspector": {
   "cols": {
    "lenName": 16,
    "lenType": 16,
    "lenVar": 40
   },
   "kernels_config": {
    "python": {
     "delete_cmd_postfix": "",
     "delete_cmd_prefix": "del ",
     "library": "var_list.py",
     "varRefreshCmd": "print(var_dic_list())"
    },
    "r": {
     "delete_cmd_postfix": ") ",
     "delete_cmd_prefix": "rm(",
     "library": "var_list.r",
     "varRefreshCmd": "cat(var_dic_list()) "
    }
   },
   "types_to_exclude": [
    "module",
    "function",
    "builtin_function_or_method",
    "instance",
    "_Feature"
   ],
   "window_display": false
  }
 },
 "nbformat": 4,
 "nbformat_minor": 4
}
