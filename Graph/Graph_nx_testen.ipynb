{
 "cells": [
  {
   "cell_type": "markdown",
   "id": "b2b6c311",
   "metadata": {},
   "source": [
    "# Mögliche Klasse für gewichtete ungerichtete Graphen"
   ]
  },
  {
   "cell_type": "code",
   "execution_count": 16,
   "id": "1a1f37e9",
   "metadata": {},
   "outputs": [],
   "source": [
    "import pandas as pd\n",
    "import matplotlib.pyplot as plt\n",
    "import nrw_graph as ng\n",
    "import networkx as nx"
   ]
  },
  {
   "cell_type": "markdown",
   "id": "37db96dd",
   "metadata": {},
   "source": [
    "### Einige Testaufrufe"
   ]
  },
  {
   "cell_type": "code",
   "execution_count": 17,
   "id": "88939b97",
   "metadata": {},
   "outputs": [],
   "source": [
    "G = ng.nrw_graph()\n",
    "G.fuegeKnotenHinzu('d',farbe = \"rosa\")\n",
    "G.fuegeKanteHinzu('d', 'a', farbe = \"grau\", gewicht = 4)\n",
    "G.markiereKnoten('d', 42)\n",
    "G.fuegeKanteHinzu('a', 'b', gewicht = 5)\n",
    "G.fuegeKanteHinzu('b', 'c', gewicht = 1.0, marke = 4711)\n",
    "G.fuegeKanteHinzu('e', 'a', gewicht = 3.14, farbe = \"blau\")\n",
    "G.fuegeKanteHinzu('b', 'd', gewicht = 0, farbe = \"gelb\")\n",
    "G.fuegeKanteHinzu('c', 'a', gewicht = 3, umfang = 11)\n"
   ]
  },
  {
   "cell_type": "code",
   "execution_count": 18,
   "id": "fd315400",
   "metadata": {},
   "outputs": [
    {
     "name": "stdout",
     "output_type": "stream",
     "text": [
      "rosa\n",
      "42\n",
      "4711\n",
      "?\n"
     ]
    }
   ],
   "source": [
    "print(G.knotenAttribut('d', 'farbe'))\n",
    "print(G.knotenAttribut('d', 'marke'))\n",
    "print(G.kantenAttribut ('b', 'c', 'marke'))\n",
    "print(G.kantenAttribut ('b', 'c', 'breite'))"
   ]
  },
  {
   "cell_type": "code",
   "execution_count": 19,
   "id": "48c3fb0b",
   "metadata": {},
   "outputs": [],
   "source": [
    "# HausdesNikolaus\n",
    "HDN = ng.nrw_graph()\n",
    "HDN.fuegeKanteHinzu('a', 'b')\n",
    "HDN.fuegeKanteHinzu('a', 'c')\n",
    "HDN.fuegeKanteHinzu('a', 'd')\n",
    "HDN.fuegeKanteHinzu('b', 'c')\n",
    "HDN.fuegeKanteHinzu('b', 'd')\n",
    "HDN.fuegeKanteHinzu('c', 'd')\n",
    "HDN.fuegeKanteHinzu('c', 'e')\n",
    "HDN.fuegeKanteHinzu('d', 'e')"
   ]
  },
  {
   "cell_type": "code",
   "execution_count": 20,
   "id": "17a1a10a",
   "metadata": {},
   "outputs": [
    {
     "data": {
      "text/plain": [
       "EdgeView([('d', 'a'), ('d', 'b'), ('a', 'b'), ('a', 'e'), ('a', 'c'), ('b', 'c')])"
      ]
     },
     "execution_count": 20,
     "metadata": {},
     "output_type": "execute_result"
    }
   ],
   "source": [
    "G.alleKanten()"
   ]
  },
  {
   "cell_type": "code",
   "execution_count": 21,
   "id": "9b665ee8",
   "metadata": {},
   "outputs": [
    {
     "data": {
      "text/plain": [
       "['d', 'a', 'b', 'c', 'e']"
      ]
     },
     "execution_count": 21,
     "metadata": {},
     "output_type": "execute_result"
    }
   ],
   "source": [
    "G.alleKnoten()"
   ]
  },
  {
   "cell_type": "code",
   "execution_count": 22,
   "id": "70401bb7",
   "metadata": {},
   "outputs": [
    {
     "name": "stdout",
     "output_type": "stream",
     "text": [
      "4\n",
      "grau\n",
      "?\n"
     ]
    }
   ],
   "source": [
    "print(G.kantenGewicht('a', 'd'))\n",
    "print(G.kantenFarbe('a', 'd'))\n",
    "print(G.kantenMarke('a', 'd'))"
   ]
  },
  {
   "cell_type": "code",
   "execution_count": 23,
   "id": "439cce08",
   "metadata": {},
   "outputs": [
    {
     "ename": "AttributeError",
     "evalue": "'nrw_graph' object has no attribute 'kanten_von'",
     "output_type": "error",
     "traceback": [
      "\u001b[0;31m---------------------------------------------------------------------------\u001b[0m",
      "\u001b[0;31mAttributeError\u001b[0m                            Traceback (most recent call last)",
      "Cell \u001b[0;32mIn[23], line 1\u001b[0m\n\u001b[0;32m----> 1\u001b[0m \u001b[43mG\u001b[49m\u001b[38;5;241;43m.\u001b[39;49m\u001b[43mkanten_von\u001b[49m(\u001b[38;5;124m'\u001b[39m\u001b[38;5;124ma\u001b[39m\u001b[38;5;124m'\u001b[39m)\n",
      "\u001b[0;31mAttributeError\u001b[0m: 'nrw_graph' object has no attribute 'kanten_von'"
     ]
    }
   ],
   "source": [
    "G.kanten_von('a')"
   ]
  },
  {
   "cell_type": "code",
   "execution_count": 24,
   "id": "d65ad720",
   "metadata": {},
   "outputs": [],
   "source": [
    "G.faerbeKante('a', 'd', 'pink')"
   ]
  },
  {
   "cell_type": "code",
   "execution_count": 25,
   "id": "24b7baed",
   "metadata": {},
   "outputs": [
    {
     "name": "stdout",
     "output_type": "stream",
     "text": [
      "pink\n"
     ]
    }
   ],
   "source": [
    "print(G.kantenFarbe('a', 'd'))"
   ]
  },
  {
   "cell_type": "code",
   "execution_count": 26,
   "id": "d6683d14",
   "metadata": {},
   "outputs": [],
   "source": [
    "# Man kann noch beliebige neue Attribute definieren, lesen und setzen/ändern\n",
    "G.attributiereKante('a','b','hoehe', 1234)"
   ]
  },
  {
   "cell_type": "code",
   "execution_count": 27,
   "id": "87807073",
   "metadata": {},
   "outputs": [
    {
     "data": {
      "text/plain": [
       "1234"
      ]
     },
     "execution_count": 27,
     "metadata": {},
     "output_type": "execute_result"
    }
   ],
   "source": [
    "G.kantenAttribut('a', 'b', 'hoehe')"
   ]
  },
  {
   "cell_type": "code",
   "execution_count": 28,
   "id": "4a5dd706",
   "metadata": {},
   "outputs": [],
   "source": [
    "# Das kann man auch mit Knoten machen!!!\n",
    "G.attributiereKnoten('a', 'radius', 3.14)"
   ]
  },
  {
   "cell_type": "code",
   "execution_count": 29,
   "id": "b4dd8101",
   "metadata": {},
   "outputs": [
    {
     "data": {
      "text/plain": [
       "3.14"
      ]
     },
     "execution_count": 29,
     "metadata": {},
     "output_type": "execute_result"
    }
   ],
   "source": [
    "G.knotenAttribut('a', 'radius')"
   ]
  },
  {
   "cell_type": "code",
   "execution_count": null,
   "id": "a4e3f8f8",
   "metadata": {},
   "outputs": [],
   "source": []
  },
  {
   "cell_type": "code",
   "execution_count": null,
   "id": "45a9ee43",
   "metadata": {},
   "outputs": [],
   "source": []
  },
  {
   "cell_type": "code",
   "execution_count": null,
   "id": "a7560f5e",
   "metadata": {},
   "outputs": [],
   "source": []
  },
  {
   "cell_type": "code",
   "execution_count": 15,
   "id": "6b0e7f04",
   "metadata": {},
   "outputs": [
    {
     "ename": "NameError",
     "evalue": "name 'autobahn' is not defined",
     "output_type": "error",
     "traceback": [
      "\u001b[0;31m---------------------------------------------------------------------------\u001b[0m",
      "\u001b[0;31mNameError\u001b[0m                                 Traceback (most recent call last)",
      "Cell \u001b[0;32mIn[15], line 2\u001b[0m\n\u001b[1;32m      1\u001b[0m start \u001b[38;5;241m=\u001b[39m \u001b[38;5;124m'\u001b[39m\u001b[38;5;124mBerlin\u001b[39m\u001b[38;5;124m'\u001b[39m\n\u001b[0;32m----> 2\u001b[0m schnittkanten \u001b[38;5;241m=\u001b[39m \u001b[43mautobahn\u001b[49m\u001b[38;5;241m.\u001b[39mkanten_von(start)\n\u001b[1;32m      3\u001b[0m \u001b[38;5;28;01mfor\u001b[39;00m ziel \u001b[38;5;129;01min\u001b[39;00m schnittkanten:\n\u001b[1;32m      4\u001b[0m     zeile \u001b[38;5;241m=\u001b[39m start \u001b[38;5;241m+\u001b[39m \u001b[38;5;124m\"\u001b[39m\u001b[38;5;124m --> \u001b[39m\u001b[38;5;124m\"\u001b[39m \u001b[38;5;241m+\u001b[39m ziel \u001b[38;5;241m+\u001b[39m \u001b[38;5;124m\"\u001b[39m\u001b[38;5;124m: \u001b[39m\u001b[38;5;124m\"\u001b[39m \n",
      "\u001b[0;31mNameError\u001b[0m: name 'autobahn' is not defined"
     ]
    }
   ],
   "source": [
    "start = 'Berlin'\n",
    "schnittkanten = autobahn.kanten_von(start)\n",
    "for ziel in schnittkanten:\n",
    "    zeile = start + \" --> \" + ziel + \": \" \n",
    "    lang = schnittkanten[ziel]\n",
    "    zeile += (str(lang) + \"km\")\n",
    "    print(zeile)"
   ]
  },
  {
   "cell_type": "markdown",
   "id": "8cdd4738",
   "metadata": {},
   "source": [
    "Wähle dann Potsdam aus; von Berlin sind es 35.0"
   ]
  },
  {
   "cell_type": "code",
   "execution_count": null,
   "id": "bab22359",
   "metadata": {},
   "outputs": [],
   "source": [
    "autobahn.setzeKnotenmarke (\"Potsdam\", (\"Berlin\", 35.0))"
   ]
  },
  {
   "cell_type": "code",
   "execution_count": null,
   "id": "7fafae64",
   "metadata": {},
   "outputs": [],
   "source": [
    "(von, weit) = autobahn.knotenAttribut (\"Potsdam\", \"marke\")\n",
    "print(\"Von Berlin nach Potsdam ist es\", weit)"
   ]
  },
  {
   "cell_type": "markdown",
   "id": "6fb1031f",
   "metadata": {},
   "source": [
    "Alle markierten Knoten updaten"
   ]
  },
  {
   "cell_type": "code",
   "execution_count": null,
   "id": "19e47fbe",
   "metadata": {},
   "outputs": [],
   "source": [
    "markedNodes.append (\"Potsdam\")"
   ]
  },
  {
   "cell_type": "code",
   "execution_count": null,
   "id": "8985f2ba",
   "metadata": {},
   "outputs": [],
   "source": [
    "start = 'Potsdam'\n",
    "schnittkanten = autobahn.kanten_von(start)\n",
    "for ziel in schnittkanten:\n",
    "    if not autobahn.knotenAttribut (ziel, 'marke'):\n",
    "        zeile = start + \" --> \" + ziel + \": \" \n",
    "        lang = schnittkanten[ziel]\n",
    "        (von, weit) = autobahn.knotenAttribut (start, \"marke\")\n",
    "        lang += weit\n",
    "        zeile += (str(lang) + \"km\")\n",
    "        print(zeile)"
   ]
  },
  {
   "cell_type": "markdown",
   "id": "56fc43bd",
   "metadata": {},
   "source": [
    "Wähle also Magdeburg aus. Es sind von Berlin über Potsdam 169.0"
   ]
  },
  {
   "cell_type": "code",
   "execution_count": null,
   "id": "5468c7e1",
   "metadata": {},
   "outputs": [],
   "source": [
    "autobahn.setzeKnotenmarke (\"Magdeburg\", (\"Potsdam\", 169.0))"
   ]
  },
  {
   "cell_type": "code",
   "execution_count": null,
   "id": "88fd4e57",
   "metadata": {},
   "outputs": [],
   "source": [
    "(von, weit) = autobahn.knotenAttribut (\"Magdeburg\", \"marke\")\n",
    "print(\"Von Berlin nach Magdeburg über\", von, \"ist es\", weit)"
   ]
  },
  {
   "cell_type": "markdown",
   "id": "6ea6f720",
   "metadata": {},
   "source": [
    "Alle markierten Knoten updaten"
   ]
  },
  {
   "cell_type": "code",
   "execution_count": null,
   "id": "12081235",
   "metadata": {},
   "outputs": [],
   "source": [
    "markedNodes.append (\"Magdeburg\")"
   ]
  },
  {
   "cell_type": "code",
   "execution_count": null,
   "id": "09304482",
   "metadata": {},
   "outputs": [],
   "source": [
    "start = 'Magdeburg'\n",
    "schnittkanten = autobahn.kanten_von(start)\n",
    "for ziel in schnittkanten:\n",
    "    if not autobahn.knotenAttribut (ziel, 'marke'):\n",
    "        zeile = start + \" --> \" + ziel + \": \" \n",
    "        lang = schnittkanten[ziel]\n",
    "        (von, weit) = autobahn.knotenAttribut (start, \"marke\")\n",
    "        lang += weit\n",
    "        zeile += (str(lang) + \"km\")\n",
    "        print(zeile)"
   ]
  },
  {
   "cell_type": "code",
   "execution_count": null,
   "id": "68301b81",
   "metadata": {},
   "outputs": [],
   "source": [
    "start = 'Potsdam'\n",
    "schnittkanten = autobahn.kanten_von(start)\n",
    "for ziel in schnittkanten:\n",
    "    if not autobahn.knotenAttribut (ziel, 'marke'):\n",
    "        zeile = start + \" --> \" + ziel + \": \" \n",
    "        lang = schnittkanten[ziel]\n",
    "        (von, weit) = autobahn.knotenAttribut (start, \"marke\")\n",
    "        lang += weit\n",
    "        zeile += (str(lang) + \"km\")\n",
    "        print(zeile)"
   ]
  },
  {
   "cell_type": "code",
   "execution_count": null,
   "id": "2114073c",
   "metadata": {},
   "outputs": [],
   "source": [
    "start = 'Berlin'\n",
    "schnittkanten = autobahn.kanten_von(start)\n",
    "for ziel in schnittkanten:\n",
    "    if not autobahn.knotenAttribut (ziel, 'marke'):\n",
    "        zeile = start + \" --> \" + ziel + \": \" \n",
    "        lang = schnittkanten[ziel]\n",
    "        if start != \"Berlin\":\n",
    "            (von, weit) = autobahn.knotenAttribut (start, \"marke\")\n",
    "            lang += weit            \n",
    "        zeile += (str(lang) + \"km\")\n",
    "        print(zeile)"
   ]
  },
  {
   "cell_type": "markdown",
   "id": "83ec5710",
   "metadata": {},
   "source": [
    "Also ist es nach Dresden am kürzesten! Dann muss man jetzt Dresden geeignet markieren und die markierten\n",
    "Knoten updaten:"
   ]
  },
  {
   "cell_type": "code",
   "execution_count": null,
   "id": "0f6fed9c",
   "metadata": {},
   "outputs": [],
   "source": [
    "autobahn.setzeKnotenmarke (\"Dresden\", (\"Berlin\", 193.0))"
   ]
  },
  {
   "cell_type": "code",
   "execution_count": null,
   "id": "b4d16842",
   "metadata": {},
   "outputs": [],
   "source": [
    "markedNodes.append (\"Dresden\")"
   ]
  },
  {
   "cell_type": "markdown",
   "id": "f96247b1",
   "metadata": {},
   "source": [
    "Alle bisher markierten Knoten:"
   ]
  },
  {
   "cell_type": "code",
   "execution_count": null,
   "id": "ef5ddfc1",
   "metadata": {},
   "outputs": [],
   "source": [
    "markedNodes"
   ]
  },
  {
   "cell_type": "markdown",
   "id": "2a3cd54f",
   "metadata": {},
   "source": [
    "Die Entfernungen der markierten Knoten von Berlin mit der Angabe \"ÜBER\":"
   ]
  },
  {
   "cell_type": "code",
   "execution_count": null,
   "id": "5bcf5bc7",
   "metadata": {},
   "outputs": [],
   "source": [
    "for start in markedNodes:\n",
    "    if start == \"Berlin\":\n",
    "        print (\"Berlin!\")\n",
    "    else:\n",
    "        (von, weit) = autobahn.knotenAttribut (start, \"marke\")\n",
    "        print (\"Von Berlin nach\", start, \"über\", von, \"ist es\", weit)"
   ]
  },
  {
   "cell_type": "code",
   "execution_count": null,
   "id": "b41868e7",
   "metadata": {},
   "outputs": [],
   "source": []
  }
 ],
 "metadata": {
  "hide_input": false,
  "kernelspec": {
   "display_name": "Python 3 (ipykernel)",
   "language": "python",
   "name": "python3"
  },
  "language_info": {
   "codemirror_mode": {
    "name": "ipython",
    "version": 3
   },
   "file_extension": ".py",
   "mimetype": "text/x-python",
   "name": "python",
   "nbconvert_exporter": "python",
   "pygments_lexer": "ipython3",
   "version": "3.10.9"
  },
  "latex_envs": {
   "LaTeX_envs_menu_present": true,
   "autoclose": false,
   "autocomplete": true,
   "bibliofile": "biblio.bib",
   "cite_by": "apalike",
   "current_citInitial": 1,
   "eqLabelWithNumbers": true,
   "eqNumInitial": 1,
   "hotkeys": {
    "equation": "Ctrl-E",
    "itemize": "Ctrl-I"
   },
   "labels_anchors": false,
   "latex_user_defs": false,
   "report_style_numbering": false,
   "user_envs_cfg": false
  },
  "toc": {
   "base_numbering": 1,
   "nav_menu": {},
   "number_sections": true,
   "sideBar": true,
   "skip_h1_title": true,
   "title_cell": "Inhalt",
   "title_sidebar": "Inhalt",
   "toc_cell": false,
   "toc_position": {
    "height": "calc(100% - 180px)",
    "left": "10px",
    "top": "150px",
    "width": "288px"
   },
   "toc_section_display": true,
   "toc_window_display": true
  },
  "varInspector": {
   "cols": {
    "lenName": 16,
    "lenType": 16,
    "lenVar": 40
   },
   "kernels_config": {
    "python": {
     "delete_cmd_postfix": "",
     "delete_cmd_prefix": "del ",
     "library": "var_list.py",
     "varRefreshCmd": "print(var_dic_list())"
    },
    "r": {
     "delete_cmd_postfix": ") ",
     "delete_cmd_prefix": "rm(",
     "library": "var_list.r",
     "varRefreshCmd": "cat(var_dic_list()) "
    }
   },
   "types_to_exclude": [
    "module",
    "function",
    "builtin_function_or_method",
    "instance",
    "_Feature"
   ],
   "window_display": false
  }
 },
 "nbformat": 4,
 "nbformat_minor": 5
}
