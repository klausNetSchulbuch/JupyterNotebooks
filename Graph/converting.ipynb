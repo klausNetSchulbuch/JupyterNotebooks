{
 "cells": [
  {
   "cell_type": "code",
   "execution_count": 9,
   "id": "eb060beb",
   "metadata": {},
   "outputs": [],
   "source": [
    "import pandas as pd\n",
    "import csv"
   ]
  },
  {
   "cell_type": "code",
   "execution_count": 20,
   "id": "5e56f856",
   "metadata": {},
   "outputs": [],
   "source": [
    "with open('AutobahnAbschnitte.txt') as csv_in_file:\n",
    "    csv_reader = csv.reader(csv_in_file, delimiter=',')\n",
    "    lineNo = 0\n",
    "    res = []\n",
    "    for row in csv_reader:\n",
    "        if lineNo == 0:\n",
    "            e, s, z = row\n",
    "            res.append([s,z,e])\n",
    "        elif lineNo % 2 != 0:\n",
    "            e, s, z = row\n",
    "            res.append([s,z,e])\n",
    "        lineNo += 1\n",
    "        \n",
    "with open('Highway_Germany.txt', mode='w') as hg_file:\n",
    "    csv_writer = csv.writer(hg_file, delimiter=',')\n",
    "    for l in res:\n",
    "        csv_writer.writerow(l)\n",
    "    "
   ]
  },
  {
   "cell_type": "code",
   "execution_count": null,
   "id": "f7061cb1",
   "metadata": {},
   "outputs": [],
   "source": []
  },
  {
   "cell_type": "code",
   "execution_count": null,
   "id": "9638ef68",
   "metadata": {},
   "outputs": [],
   "source": []
  },
  {
   "cell_type": "code",
   "execution_count": 26,
   "id": "a87b2bbb",
   "metadata": {},
   "outputs": [],
   "source": [
    "df_staedte = pd.read_csv(\"Highway_Germany.txt\", sep=\",\")"
   ]
  },
  {
   "cell_type": "code",
   "execution_count": 27,
   "id": "89d13edd",
   "metadata": {},
   "outputs": [
    {
     "data": {
      "text/html": [
       "<div>\n",
       "<style scoped>\n",
       "    .dataframe tbody tr th:only-of-type {\n",
       "        vertical-align: middle;\n",
       "    }\n",
       "\n",
       "    .dataframe tbody tr th {\n",
       "        vertical-align: top;\n",
       "    }\n",
       "\n",
       "    .dataframe thead th {\n",
       "        text-align: right;\n",
       "    }\n",
       "</style>\n",
       "<table border=\"1\" class=\"dataframe\">\n",
       "  <thead>\n",
       "    <tr style=\"text-align: right;\">\n",
       "      <th></th>\n",
       "      <th>Start</th>\n",
       "      <th>Ziel</th>\n",
       "      <th>Entfernung</th>\n",
       "    </tr>\n",
       "  </thead>\n",
       "  <tbody>\n",
       "    <tr>\n",
       "      <th>0</th>\n",
       "      <td>HEILIGENHAFEN - MITTE (A 1)</td>\n",
       "      <td>GREMERSDORF (A 1)</td>\n",
       "      <td>3.0</td>\n",
       "    </tr>\n",
       "    <tr>\n",
       "      <th>1</th>\n",
       "      <td>GREMERSDORF (A 1)</td>\n",
       "      <td>JAHNSHOF (A 1)</td>\n",
       "      <td>3.0</td>\n",
       "    </tr>\n",
       "    <tr>\n",
       "      <th>2</th>\n",
       "      <td>JAHNSHOF (A 1)</td>\n",
       "      <td>OLDENBURG - NORD (A 1)</td>\n",
       "      <td>2.0</td>\n",
       "    </tr>\n",
       "    <tr>\n",
       "      <th>3</th>\n",
       "      <td>OLDENBURG - NORD (A 1)</td>\n",
       "      <td>OLDENBURG - MITTE (A 1)</td>\n",
       "      <td>1.0</td>\n",
       "    </tr>\n",
       "    <tr>\n",
       "      <th>4</th>\n",
       "      <td>OLDENBURG - MITTE (A 1)</td>\n",
       "      <td>OLDENBURG - SUED (A 1)</td>\n",
       "      <td>1.0</td>\n",
       "    </tr>\n",
       "    <tr>\n",
       "      <th>...</th>\n",
       "      <td>...</td>\n",
       "      <td>...</td>\n",
       "      <td>...</td>\n",
       "    </tr>\n",
       "    <tr>\n",
       "      <th>2825</th>\n",
       "      <td>MANNHEIM - NECKARAU (A 656)</td>\n",
       "      <td>KREUZ MANNHEIM</td>\n",
       "      <td>2.0</td>\n",
       "    </tr>\n",
       "    <tr>\n",
       "      <th>2826</th>\n",
       "      <td>KREUZ MANNHEIM</td>\n",
       "      <td>MANNHEIM - SECKENHEIM (A 656)</td>\n",
       "      <td>2.5</td>\n",
       "    </tr>\n",
       "    <tr>\n",
       "      <th>2827</th>\n",
       "      <td>MANNHEIM - SECKENHEIM (A 656)</td>\n",
       "      <td>KREUZ HEIDELBERG</td>\n",
       "      <td>6.0</td>\n",
       "    </tr>\n",
       "    <tr>\n",
       "      <th>2828</th>\n",
       "      <td>KREUZ WEINHEIM</td>\n",
       "      <td>VIERNHEIM - OST (A 659)</td>\n",
       "      <td>3.0</td>\n",
       "    </tr>\n",
       "    <tr>\n",
       "      <th>2829</th>\n",
       "      <td>VIERNHEIM - OST (A 659)</td>\n",
       "      <td>VIERNHEIM (A 659)</td>\n",
       "      <td>1.0</td>\n",
       "    </tr>\n",
       "  </tbody>\n",
       "</table>\n",
       "<p>2830 rows × 3 columns</p>\n",
       "</div>"
      ],
      "text/plain": [
       "                              Start                           Ziel  Entfernung\n",
       "0       HEILIGENHAFEN - MITTE (A 1)              GREMERSDORF (A 1)         3.0\n",
       "1                 GREMERSDORF (A 1)                 JAHNSHOF (A 1)         3.0\n",
       "2                    JAHNSHOF (A 1)         OLDENBURG - NORD (A 1)         2.0\n",
       "3            OLDENBURG - NORD (A 1)        OLDENBURG - MITTE (A 1)         1.0\n",
       "4           OLDENBURG - MITTE (A 1)         OLDENBURG - SUED (A 1)         1.0\n",
       "...                             ...                            ...         ...\n",
       "2825    MANNHEIM - NECKARAU (A 656)                 KREUZ MANNHEIM         2.0\n",
       "2826                 KREUZ MANNHEIM  MANNHEIM - SECKENHEIM (A 656)         2.5\n",
       "2827  MANNHEIM - SECKENHEIM (A 656)               KREUZ HEIDELBERG         6.0\n",
       "2828                 KREUZ WEINHEIM        VIERNHEIM - OST (A 659)         3.0\n",
       "2829        VIERNHEIM - OST (A 659)              VIERNHEIM (A 659)         1.0\n",
       "\n",
       "[2830 rows x 3 columns]"
      ]
     },
     "execution_count": 27,
     "metadata": {},
     "output_type": "execute_result"
    }
   ],
   "source": [
    "df_staedte"
   ]
  },
  {
   "cell_type": "code",
   "execution_count": null,
   "id": "2a26ebee",
   "metadata": {},
   "outputs": [],
   "source": []
  }
 ],
 "metadata": {
  "hide_input": false,
  "kernelspec": {
   "display_name": "Python 3 (ipykernel)",
   "language": "python",
   "name": "python3"
  },
  "language_info": {
   "codemirror_mode": {
    "name": "ipython",
    "version": 3
   },
   "file_extension": ".py",
   "mimetype": "text/x-python",
   "name": "python",
   "nbconvert_exporter": "python",
   "pygments_lexer": "ipython3",
   "version": "3.10.6"
  },
  "latex_envs": {
   "LaTeX_envs_menu_present": true,
   "autoclose": false,
   "autocomplete": true,
   "bibliofile": "biblio.bib",
   "cite_by": "apalike",
   "current_citInitial": 1,
   "eqLabelWithNumbers": true,
   "eqNumInitial": 1,
   "hotkeys": {
    "equation": "Ctrl-E",
    "itemize": "Ctrl-I"
   },
   "labels_anchors": false,
   "latex_user_defs": false,
   "report_style_numbering": false,
   "user_envs_cfg": false
  },
  "toc": {
   "base_numbering": 1,
   "nav_menu": {},
   "number_sections": true,
   "sideBar": true,
   "skip_h1_title": true,
   "title_cell": "Inhalt",
   "title_sidebar": "Inhalt",
   "toc_cell": false,
   "toc_position": {},
   "toc_section_display": true,
   "toc_window_display": true
  },
  "varInspector": {
   "cols": {
    "lenName": 16,
    "lenType": 16,
    "lenVar": 40
   },
   "kernels_config": {
    "python": {
     "delete_cmd_postfix": "",
     "delete_cmd_prefix": "del ",
     "library": "var_list.py",
     "varRefreshCmd": "print(var_dic_list())"
    },
    "r": {
     "delete_cmd_postfix": ") ",
     "delete_cmd_prefix": "rm(",
     "library": "var_list.r",
     "varRefreshCmd": "cat(var_dic_list()) "
    }
   },
   "types_to_exclude": [
    "module",
    "function",
    "builtin_function_or_method",
    "instance",
    "_Feature"
   ],
   "window_display": false
  }
 },
 "nbformat": 4,
 "nbformat_minor": 5
}
