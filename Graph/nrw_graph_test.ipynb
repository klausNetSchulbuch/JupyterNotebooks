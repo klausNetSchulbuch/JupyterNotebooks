{
 "cells": [
  {
   "cell_type": "code",
   "execution_count": null,
   "id": "e3a574e9",
   "metadata": {},
   "outputs": [],
   "source": [
    "import nrw_graph as ng\n",
    "import matplotlib.pyplot as plt\n",
    "import networkx as nx"
   ]
  },
  {
   "cell_type": "code",
   "execution_count": null,
   "id": "01ff9476",
   "metadata": {},
   "outputs": [],
   "source": [
    "G = ng.nrw_graph()"
   ]
  },
  {
   "cell_type": "code",
   "execution_count": null,
   "id": "ba52f43b",
   "metadata": {},
   "outputs": [],
   "source": [
    "G = ng.nrw_graph()\n",
    "G.fuegeKnotenHinzu('d',farbe = \"rosa\")\n",
    "G.fuegeKanteHinzu('d', 'a', farbe = \"grau\", gewicht = 4)\n",
    "G.markiereKnoten('d', 42)\n",
    "G.fuegeKanteHinzu('a', 'b', gewicht = 5)\n",
    "G.fuegeKanteHinzu('b', 'c', gewicht = 1.0, marke = 4711)\n",
    "G.fuegeKanteHinzu('e', 'a', gewicht = 3.14, farbe = \"blau\")\n",
    "G.fuegeKanteHinzu('b', 'd', gewicht = 0, farbe = \"gelb\")\n",
    "G.fuegeKanteHinzu('c', 'a', gewicht = 3, umfang = 11)"
   ]
  },
  {
   "cell_type": "code",
   "execution_count": null,
   "id": "6e02939c",
   "metadata": {},
   "outputs": [],
   "source": [
    "nx.draw_networkx(G,\n",
    "                 node_size=0, \n",
    "                 font_size=20, \n",
    "#                 pos=nx.spring_layout(G),\n",
    "#                 pos=nx.planar_layout(G),\n",
    "                )"
   ]
  },
  {
   "cell_type": "code",
   "execution_count": null,
   "id": "c26ed447",
   "metadata": {},
   "outputs": [],
   "source": [
    "G.getKnotenAttribut ('d', 'marke')"
   ]
  },
  {
   "cell_type": "code",
   "execution_count": null,
   "id": "2ca08289",
   "metadata": {},
   "outputs": [],
   "source": [
    "G.getKnotenAttribut ('d', 'farbe')"
   ]
  },
  {
   "cell_type": "code",
   "execution_count": null,
   "id": "12c1cbb5",
   "metadata": {},
   "outputs": [],
   "source": [
    "G.knotenHatAttribut('d', 'breite')"
   ]
  },
  {
   "cell_type": "code",
   "execution_count": null,
   "id": "5847ba7a",
   "metadata": {
    "scrolled": true
   },
   "outputs": [],
   "source": [
    "G.getKnotenAttribut ('d', 'breite')"
   ]
  },
  {
   "cell_type": "code",
   "execution_count": null,
   "id": "70fac074",
   "metadata": {},
   "outputs": [],
   "source": [
    "G.getKnotenAttribut ('f', 'breite')"
   ]
  },
  {
   "cell_type": "code",
   "execution_count": null,
   "id": "2c13d257",
   "metadata": {},
   "outputs": [],
   "source": [
    "G.markiereKnoten('a', 4711)"
   ]
  },
  {
   "cell_type": "code",
   "execution_count": null,
   "id": "b1e4ed10",
   "metadata": {},
   "outputs": [],
   "source": [
    "G.getKnotenMarke('b')"
   ]
  },
  {
   "cell_type": "code",
   "execution_count": null,
   "id": "6ed1d158",
   "metadata": {},
   "outputs": [],
   "source": [
    "G.deflagKnoten('b')"
   ]
  },
  {
   "cell_type": "code",
   "execution_count": null,
   "id": "2c9fe153",
   "metadata": {},
   "outputs": [],
   "source": [
    "G.knotenHatFlag('b')"
   ]
  },
  {
   "cell_type": "code",
   "execution_count": null,
   "id": "fb702648",
   "metadata": {
    "scrolled": true
   },
   "outputs": [],
   "source": [
    "l=G.alleKanten()\n",
    "['d','c'] in l"
   ]
  },
  {
   "cell_type": "code",
   "execution_count": null,
   "id": "5c0a4229",
   "metadata": {},
   "outputs": [],
   "source": [
    "G.fuegeKanteHinzu('c','d')"
   ]
  },
  {
   "cell_type": "code",
   "execution_count": null,
   "id": "41d4cf85",
   "metadata": {},
   "outputs": [],
   "source": [
    "l=G.alleKanten()\n",
    "['d','c'] in l"
   ]
  },
  {
   "cell_type": "code",
   "execution_count": null,
   "id": "4f518aaa",
   "metadata": {},
   "outputs": [],
   "source": [
    "nx.draw_networkx(G,\n",
    "                 node_size=0, \n",
    "                 font_size=20, \n",
    "#                 pos=nx.spring_layout(G),\n",
    "#                 pos=nx.planar_layout(G),\n",
    "                )"
   ]
  },
  {
   "cell_type": "code",
   "execution_count": null,
   "id": "29a322f0",
   "metadata": {},
   "outputs": [],
   "source": [
    "G.edges.data()"
   ]
  },
  {
   "cell_type": "code",
   "execution_count": null,
   "id": "97eaf6f4",
   "metadata": {},
   "outputs": [],
   "source": [
    "nx.to_undirected(G)"
   ]
  },
  {
   "cell_type": "code",
   "execution_count": null,
   "id": "30bfe5b5",
   "metadata": {
    "scrolled": true
   },
   "outputs": [],
   "source": [
    "nx.get_edge_attributes(G,'farbe')"
   ]
  },
  {
   "cell_type": "code",
   "execution_count": null,
   "id": "65530683",
   "metadata": {},
   "outputs": [],
   "source": [
    "data = G.edges.data()\n",
    "for (s,z,attrs) in data:\n",
    "    if (s == 'd' and z == 'a') or (s == 'a' and z == 'd'):\n",
    "        if 'farbe' in attrs:\n",
    "            print (attrs['farbe'])"
   ]
  },
  {
   "cell_type": "code",
   "execution_count": null,
   "id": "35a731ec",
   "metadata": {},
   "outputs": [],
   "source": [
    "G.setKantenAttribut('a','b', 'dicke', 4711)"
   ]
  },
  {
   "cell_type": "code",
   "execution_count": null,
   "id": "4c7db1eb",
   "metadata": {},
   "outputs": [],
   "source": [
    "G.getKantenAttribut('b','a', 'dicke')"
   ]
  },
  {
   "cell_type": "code",
   "execution_count": null,
   "id": "157a83ef",
   "metadata": {},
   "outputs": [],
   "source": [
    "G.kanteHatAttribut('b','a', 'dicke')"
   ]
  },
  {
   "cell_type": "code",
   "execution_count": null,
   "id": "b7555175",
   "metadata": {},
   "outputs": [],
   "source": [
    "G.alleKanten()"
   ]
  },
  {
   "cell_type": "code",
   "execution_count": null,
   "id": "2170770d",
   "metadata": {},
   "outputs": [],
   "source": [
    "G.kantenFarbe('d','b')"
   ]
  },
  {
   "cell_type": "code",
   "execution_count": null,
   "id": "9f72d803",
   "metadata": {},
   "outputs": [],
   "source": [
    "G.faerbeKante('c','e','pink')"
   ]
  },
  {
   "cell_type": "code",
   "execution_count": null,
   "id": "962a373d",
   "metadata": {},
   "outputs": [],
   "source": [
    "G.kantenFarbe('a','b')"
   ]
  },
  {
   "cell_type": "code",
   "execution_count": null,
   "id": "e51b0af6",
   "metadata": {},
   "outputs": [],
   "source": [
    "G.faerbeKante('a','b','white')"
   ]
  },
  {
   "cell_type": "code",
   "execution_count": null,
   "id": "5f358a5f",
   "metadata": {},
   "outputs": [],
   "source": [
    "G.kantenFarbe('a','b')"
   ]
  },
  {
   "cell_type": "code",
   "execution_count": null,
   "id": "3eedfc46",
   "metadata": {},
   "outputs": [],
   "source": [
    "G.kantenFarbe('a','d')"
   ]
  },
  {
   "cell_type": "code",
   "execution_count": null,
   "id": "33312c31",
   "metadata": {},
   "outputs": [],
   "source": [
    "G.gewichteKante('e','a',777)"
   ]
  },
  {
   "cell_type": "code",
   "execution_count": null,
   "id": "791337c9",
   "metadata": {},
   "outputs": [],
   "source": [
    "G.kantenGewicht('e','a')"
   ]
  },
  {
   "cell_type": "code",
   "execution_count": null,
   "id": "470d1f4b",
   "metadata": {},
   "outputs": [],
   "source": [
    "G.kantenGewicht('e','b')"
   ]
  },
  {
   "cell_type": "code",
   "execution_count": null,
   "id": "7a13ab1c",
   "metadata": {},
   "outputs": [],
   "source": [
    "G.gewichteKante('e','b',12345)"
   ]
  },
  {
   "cell_type": "code",
   "execution_count": null,
   "id": "cb71ffcd",
   "metadata": {},
   "outputs": [],
   "source": [
    "G.getKnotenMitAttribut('farbe')"
   ]
  },
  {
   "cell_type": "code",
   "execution_count": null,
   "id": "1a9197a2",
   "metadata": {},
   "outputs": [],
   "source": [
    "G.knotenExists('f')"
   ]
  },
  {
   "cell_type": "code",
   "execution_count": null,
   "id": "a9fc2018",
   "metadata": {},
   "outputs": [],
   "source": []
  }
 ],
 "metadata": {
  "hide_input": false,
  "kernelspec": {
   "display_name": "Python 3 (ipykernel)",
   "language": "python",
   "name": "python3"
  },
  "language_info": {
   "codemirror_mode": {
    "name": "ipython",
    "version": 3
   },
   "file_extension": ".py",
   "mimetype": "text/x-python",
   "name": "python",
   "nbconvert_exporter": "python",
   "pygments_lexer": "ipython3",
   "version": "3.10.9"
  },
  "toc": {
   "base_numbering": 1,
   "nav_menu": {},
   "number_sections": true,
   "sideBar": true,
   "skip_h1_title": true,
   "title_cell": "Inhalt",
   "title_sidebar": "Inhalt",
   "toc_cell": false,
   "toc_position": {},
   "toc_section_display": true,
   "toc_window_display": true
  },
  "varInspector": {
   "cols": {
    "lenName": 16,
    "lenType": 16,
    "lenVar": 40
   },
   "kernels_config": {
    "python": {
     "delete_cmd_postfix": "",
     "delete_cmd_prefix": "del ",
     "library": "var_list.py",
     "varRefreshCmd": "print(var_dic_list())"
    },
    "r": {
     "delete_cmd_postfix": ") ",
     "delete_cmd_prefix": "rm(",
     "library": "var_list.r",
     "varRefreshCmd": "cat(var_dic_list()) "
    }
   },
   "types_to_exclude": [
    "module",
    "function",
    "builtin_function_or_method",
    "instance",
    "_Feature"
   ],
   "window_display": false
  }
 },
 "nbformat": 4,
 "nbformat_minor": 5
}
