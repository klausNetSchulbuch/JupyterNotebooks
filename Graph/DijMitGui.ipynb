{
 "cells": [
  {
   "cell_type": "markdown",
   "id": "caa34e2f",
   "metadata": {},
   "source": [
    "# Dijkstra mit GUI"
   ]
  },
  {
   "cell_type": "markdown",
   "id": "884b5085",
   "metadata": {},
   "source": [
    "## Importieren von Bibliotheken"
   ]
  },
  {
   "cell_type": "code",
   "execution_count": null,
   "id": "9f3b7f51",
   "metadata": {},
   "outputs": [],
   "source": [
    "from tkinter import *\n",
    "from tkinter import ttk\n",
    "from tkinter.messagebox import showinfo\n",
    "from tkinter import scrolledtext\n",
    "from tkinter import filedialog\n",
    "\n",
    "\n",
    "import nrw_graph_unsave as ng\n",
    "import pandas as pd\n",
    "# import networkx as nx"
   ]
  },
  {
   "cell_type": "markdown",
   "id": "b0ad98d7",
   "metadata": {},
   "source": [
    "## Datei einlesen"
   ]
  },
  {
   "cell_type": "code",
   "execution_count": null,
   "id": "e089d701",
   "metadata": {},
   "outputs": [],
   "source": [
    "def dieKanten(datname):\n",
    "    return pd.read_csv(datname, sep=\",\")"
   ]
  },
  {
   "cell_type": "markdown",
   "id": "0c5bc4fa",
   "metadata": {},
   "source": [
    "## Graph (neu) bauen"
   ]
  },
  {
   "cell_type": "code",
   "execution_count": null,
   "id": "eee4d035",
   "metadata": {},
   "outputs": [],
   "source": [
    "def derGraph():\n",
    "    autobahn = ng.nrw_graph()\n",
    "    \n",
    "    datname = filedialog.askopenfilename(filetypes=[('Graph txt-Files','.txt')])\n",
    "\n",
    "#    df_kanten = dieKanten(\"Highway_Germany.txt\")\n",
    "    df_kanten = dieKanten(datname)\n",
    "    zeilen = df_kanten.shape[0]\n",
    "    for i in range(zeilen):\n",
    "        source = df_kanten.iloc[i]['Start']\n",
    "        target = df_kanten.iloc[i]['Ziel']\n",
    "        dist = float(df_kanten.iloc[i]['Entfernung'])\n",
    "\n",
    "        autobahn.fuegeKanteHinzu(source, target, gewicht=dist)\n",
    "        autobahn.deflagKnoten(source)\n",
    "        autobahn.deflagKnoten(target)\n",
    "    \n",
    "    return autobahn"
   ]
  },
  {
   "cell_type": "code",
   "execution_count": null,
   "id": "d9234a2b",
   "metadata": {},
   "outputs": [],
   "source": [
    "def graphDemarkAll(g):\n",
    "    for knoten in g.alleKnoten():\n",
    "        g.deflagKnoten(knoten)"
   ]
  },
  {
   "cell_type": "markdown",
   "id": "11919e51",
   "metadata": {},
   "source": [
    "## Hilfsfunktionen für den Algorithmus"
   ]
  },
  {
   "cell_type": "code",
   "execution_count": null,
   "id": "2a027c9d",
   "metadata": {},
   "outputs": [],
   "source": [
    "def entfernung (liste):\n",
    "    return liste[2]"
   ]
  },
  {
   "cell_type": "code",
   "execution_count": null,
   "id": "d88fa46c",
   "metadata": {},
   "outputs": [],
   "source": [
    "def alleSchnittkanten(meinGraph):\n",
    "    kanten = []\n",
    "    for (s,z) in meinGraph.alleKanten():\n",
    "        if meinGraph.knotenHatFlag(s) and not meinGraph.knotenHatFlag(z):\n",
    "            l = meinGraph.kantenGewicht(s, z)\n",
    "            (ueber, weit) = meinGraph.getKnotenMarke(s)\n",
    "            l += weit\n",
    "            kanten.append ([s, z, l])\n",
    "        elif meinGraph.knotenHatFlag(z) and not meinGraph.knotenHatFlag(s):\n",
    "            l = meinGraph.kantenGewicht(z, s)\n",
    "            (ueber, weit) = meinGraph.getKnotenMarke(z)\n",
    "            l += weit\n",
    "            kanten.append([z, s, l])\n",
    "\n",
    "    kanten.sort(key = entfernung)\n",
    "    return kanten"
   ]
  },
  {
   "cell_type": "code",
   "execution_count": null,
   "id": "9dd6328c",
   "metadata": {},
   "outputs": [],
   "source": [
    "def alleBesuchtenKnoten(meinGraph):\n",
    "    alle = []\n",
    "    for knoten in meinGraph.alleKnoten():\n",
    "        if meinGraph.knotenHatFlag(knoten):\n",
    "            (ueber, lang) = meinGraph.getKnotenMarke(knoten)\n",
    "            alle.append([knoten,ueber, lang])\n",
    "    return alle"
   ]
  },
  {
   "cell_type": "markdown",
   "id": "1ebf6f5c",
   "metadata": {},
   "source": [
    "## Der Algorithmus"
   ]
  },
  {
   "cell_type": "code",
   "execution_count": null,
   "id": "72a25f0e",
   "metadata": {},
   "outputs": [],
   "source": [
    "def dij (g, startknoten, zielknoten):\n",
    "    graphDemarkAll(g)\n",
    "    g.flagKnoten(startknoten)\n",
    "    g.markiereKnoten(startknoten, (startknoten, 0.0))\n",
    "    \n",
    "    while not g.knotenHatFlag(zielknoten):\n",
    "        sk = alleSchnittkanten(g)\n",
    "        shortest = sk [0]\n",
    "        ueber = shortest[0]\n",
    "        neu = shortest[1]\n",
    "        lang = shortest[2]\n",
    "        g.flagKnoten(neu)\n",
    "        g.markiereKnoten(neu, (ueber, lang))\n",
    "    \n",
    "    besucht = {}\n",
    "    for kante in alleBesuchtenKnoten(g):\n",
    "        besucht[kante[0]] = [kante[1], kante[2]]\n",
    "\n",
    "    node = zielknoten\n",
    "    ausgabe = \"\"\n",
    "    gesamt = besucht[zielknoten][1]\n",
    "    while node != startknoten:\n",
    "        info = besucht[node]\n",
    "        ueber = info[0]\n",
    "        lang = g.kantenGewicht(ueber, node)\n",
    "        ausgabe = \"Von \" + ueber + \" nach \" + node + \" (\" + str(lang) + \")\" + \"\\n\" + ausgabe\n",
    "        node = ueber\n",
    "    ausgabe = \"Es sind insgesamt \" + str(gesamt) + \"km\" + \"\\n\" + ausgabe  \n",
    "    return ausgabe"
   ]
  },
  {
   "cell_type": "markdown",
   "id": "2ff69aec",
   "metadata": {},
   "source": [
    "## Die Anwendung"
   ]
  },
  {
   "cell_type": "code",
   "execution_count": null,
   "id": "f0d991fd",
   "metadata": {},
   "outputs": [],
   "source": [
    "meinGraph = derGraph()\n",
    "\n",
    "fenster = Tk()\n",
    "fenster.title(\"Dijkstra\")\n",
    "\n",
    "def act(g, startknoten, zielknoten):\n",
    "    \n",
    "    text_area.delete('0.0', END)\n",
    "    out = dij(g, startknoten, zielknoten)\n",
    "    text_area.insert(INSERT,out)\n",
    "\n",
    "labelStart = Label(fenster, text = \"Startknoten wählen\")\n",
    "labelStart.pack(padx=5, pady=5)\n",
    "\n",
    "selected_Start = StringVar()\n",
    "start_cb = ttk.Combobox(fenster, textvariable=selected_Start)\n",
    "start_cb['state'] = 'readonly'\n",
    "start_cb.pack(padx=5, pady=5)\n",
    "start_cb['values'] = sorted(meinGraph.alleKnoten())\n",
    "\n",
    "labelZiel = Label(fenster, text = \"Zielknoten wählen\")\n",
    "labelZiel.pack(padx=5, pady=5)\n",
    "\n",
    "selected_Ziel = StringVar()\n",
    "ziel_cb = ttk.Combobox(fenster, textvariable=selected_Ziel)\n",
    "ziel_cb['values'] = sorted(meinGraph.alleKnoten())\n",
    "ziel_cb['state'] = 'readonly'\n",
    "ziel_cb.pack(padx=5, pady=5)\n",
    "\n",
    "dijkstraButton = Button(fenster, \n",
    "                        text = \"Search\", \n",
    "                        command = lambda: act(meinGraph,\n",
    "                                              selected_Start.get(), \n",
    "                                              selected_Ziel.get())\n",
    "                       )\n",
    "\n",
    "dijkstraButton.pack(padx = 10, pady = 10)\n",
    "\n",
    "text_area = scrolledtext.ScrolledText(fenster, \n",
    "                                      wrap = WORD, \n",
    "                                      width = 100, \n",
    "                                      height = 100, \n",
    "                                      font = (\"Times New Roman\", 15))\n",
    "  \n",
    "text_area.pack(pady = 50, padx = 50)\n",
    "                 \n",
    "def start_changed(event):\n",
    "    showinfo(\n",
    "        title='Start',\n",
    "        message=f'You selected {selected_Start.get()} as Start!'\n",
    "    )\n",
    "\n",
    "def ziel_changed(event):\n",
    "    showinfo(\n",
    "        title='Ziel',\n",
    "        message=f'You selected {selected_Ziel.get()} as Ziel!'\n",
    "    )\n",
    "    \n",
    "start_cb.bind('<<ComboboxSelected>>', start_changed)\n",
    "ziel_cb.bind('<<ComboboxSelected>>', ziel_changed)\n",
    "\n",
    "\n",
    "fenster.mainloop()"
   ]
  },
  {
   "cell_type": "code",
   "execution_count": null,
   "id": "f03ec9b4",
   "metadata": {},
   "outputs": [],
   "source": []
  },
  {
   "cell_type": "code",
   "execution_count": null,
   "id": "30792f05",
   "metadata": {},
   "outputs": [],
   "source": []
  },
  {
   "cell_type": "code",
   "execution_count": null,
   "id": "b372e99a",
   "metadata": {},
   "outputs": [],
   "source": []
  },
  {
   "cell_type": "code",
   "execution_count": null,
   "id": "c6b17107",
   "metadata": {},
   "outputs": [],
   "source": []
  },
  {
   "cell_type": "code",
   "execution_count": null,
   "id": "4dae2b3f",
   "metadata": {},
   "outputs": [],
   "source": []
  }
 ],
 "metadata": {
  "hide_input": false,
  "kernelspec": {
   "display_name": "Python 3 (ipykernel)",
   "language": "python",
   "name": "python3"
  },
  "language_info": {
   "codemirror_mode": {
    "name": "ipython",
    "version": 3
   },
   "file_extension": ".py",
   "mimetype": "text/x-python",
   "name": "python",
   "nbconvert_exporter": "python",
   "pygments_lexer": "ipython3",
   "version": "3.10.9"
  },
  "latex_envs": {
   "LaTeX_envs_menu_present": true,
   "autoclose": false,
   "autocomplete": true,
   "bibliofile": "biblio.bib",
   "cite_by": "apalike",
   "current_citInitial": 1,
   "eqLabelWithNumbers": true,
   "eqNumInitial": 1,
   "hotkeys": {
    "equation": "Ctrl-E",
    "itemize": "Ctrl-I"
   },
   "labels_anchors": false,
   "latex_user_defs": false,
   "report_style_numbering": false,
   "user_envs_cfg": false
  },
  "toc": {
   "base_numbering": 1,
   "nav_menu": {},
   "number_sections": true,
   "sideBar": true,
   "skip_h1_title": true,
   "title_cell": "Inhalt",
   "title_sidebar": "Inhalt",
   "toc_cell": false,
   "toc_position": {},
   "toc_section_display": true,
   "toc_window_display": true
  },
  "varInspector": {
   "cols": {
    "lenName": 16,
    "lenType": 16,
    "lenVar": 40
   },
   "kernels_config": {
    "python": {
     "delete_cmd_postfix": "",
     "delete_cmd_prefix": "del ",
     "library": "var_list.py",
     "varRefreshCmd": "print(var_dic_list())"
    },
    "r": {
     "delete_cmd_postfix": ") ",
     "delete_cmd_prefix": "rm(",
     "library": "var_list.r",
     "varRefreshCmd": "cat(var_dic_list()) "
    }
   },
   "types_to_exclude": [
    "module",
    "function",
    "builtin_function_or_method",
    "instance",
    "_Feature"
   ],
   "window_display": false
  }
 },
 "nbformat": 4,
 "nbformat_minor": 5
}
