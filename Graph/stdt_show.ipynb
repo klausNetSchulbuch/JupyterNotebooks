{
 "cells": [
  {
   "cell_type": "code",
   "execution_count": 1,
   "id": "975761e5",
   "metadata": {},
   "outputs": [],
   "source": [
    "import networkx as nx\n",
    "import nrw_graph as ng\n",
    "\n",
    "# pandas ist eine Bibliothek für Python u.a. zur Verarbeitung von Daten.\n",
    "import pandas as pd\n",
    "\n",
    "# Bibliothek, z.B. um Daten graphisch darzustellen.\n",
    "import matplotlib.pyplot as plt"
   ]
  },
  {
   "cell_type": "code",
   "execution_count": 2,
   "id": "5d0a8873",
   "metadata": {},
   "outputs": [
    {
     "data": {
      "text/html": [
       "<div>\n",
       "<style scoped>\n",
       "    .dataframe tbody tr th:only-of-type {\n",
       "        vertical-align: middle;\n",
       "    }\n",
       "\n",
       "    .dataframe tbody tr th {\n",
       "        vertical-align: top;\n",
       "    }\n",
       "\n",
       "    .dataframe thead th {\n",
       "        text-align: right;\n",
       "    }\n",
       "</style>\n",
       "<table border=\"1\" class=\"dataframe\">\n",
       "  <thead>\n",
       "    <tr style=\"text-align: right;\">\n",
       "      <th></th>\n",
       "      <th>Start</th>\n",
       "      <th>Ziel</th>\n",
       "      <th>Entfernung</th>\n",
       "    </tr>\n",
       "  </thead>\n",
       "  <tbody>\n",
       "    <tr>\n",
       "      <th>0</th>\n",
       "      <td>KI</td>\n",
       "      <td>SN</td>\n",
       "      <td>160</td>\n",
       "    </tr>\n",
       "    <tr>\n",
       "      <th>1</th>\n",
       "      <td>KI</td>\n",
       "      <td>HH</td>\n",
       "      <td>97</td>\n",
       "    </tr>\n",
       "    <tr>\n",
       "      <th>2</th>\n",
       "      <td>KI</td>\n",
       "      <td>HB</td>\n",
       "      <td>211</td>\n",
       "    </tr>\n",
       "    <tr>\n",
       "      <th>3</th>\n",
       "      <td>HH</td>\n",
       "      <td>HB</td>\n",
       "      <td>126</td>\n",
       "    </tr>\n",
       "    <tr>\n",
       "      <th>4</th>\n",
       "      <td>SN</td>\n",
       "      <td>HH</td>\n",
       "      <td>110</td>\n",
       "    </tr>\n",
       "    <tr>\n",
       "      <th>5</th>\n",
       "      <td>HAM</td>\n",
       "      <td>MS</td>\n",
       "      <td>70</td>\n",
       "    </tr>\n",
       "    <tr>\n",
       "      <th>6</th>\n",
       "      <td>MS</td>\n",
       "      <td>HB</td>\n",
       "      <td>120</td>\n",
       "    </tr>\n",
       "    <tr>\n",
       "      <th>7</th>\n",
       "      <td>HB</td>\n",
       "      <td>H</td>\n",
       "      <td>127</td>\n",
       "    </tr>\n",
       "    <tr>\n",
       "      <th>8</th>\n",
       "      <td>HH</td>\n",
       "      <td>H</td>\n",
       "      <td>159</td>\n",
       "    </tr>\n",
       "    <tr>\n",
       "      <th>9</th>\n",
       "      <td>BI</td>\n",
       "      <td>H</td>\n",
       "      <td>90</td>\n",
       "    </tr>\n",
       "  </tbody>\n",
       "</table>\n",
       "</div>"
      ],
      "text/plain": [
       "  Start Ziel  Entfernung\n",
       "0    KI   SN         160\n",
       "1    KI   HH          97\n",
       "2    KI   HB         211\n",
       "3    HH   HB         126\n",
       "4    SN   HH         110\n",
       "5   HAM   MS          70\n",
       "6    MS   HB         120\n",
       "7    HB    H         127\n",
       "8    HH    H         159\n",
       "9    BI    H          90"
      ]
     },
     "metadata": {},
     "output_type": "display_data"
    }
   ],
   "source": [
    "df_staedte = pd.read_csv(\"stdt.txt\", sep=\",\")\n",
    "\n",
    "# Hier werden aus Gründen der Übersichtlichkeit \n",
    "# nur die ersten 10 Datensätze in einer Tabelle gezeigt.\n",
    "display(df_staedte.head(10)) #"
   ]
  },
  {
   "cell_type": "code",
   "execution_count": 15,
   "id": "c01e509d",
   "metadata": {},
   "outputs": [],
   "source": [
    "# Ein neuer leerer Graph\n",
    "autobahn = ng.nrw_graph()\n",
    "\n",
    "zeilen = df_staedte.shape[0]\n",
    "for i in range(zeilen):\n",
    "#for i in range(7):    \n",
    "    source = df_staedte.iloc[i]['Start']\n",
    "    target = df_staedte.iloc[i]['Ziel']\n",
    "    dist = float(df_staedte.iloc[i]['Entfernung'])\n",
    "\n",
    "    autobahn.fuegeKanteHinzu(source, target, gewicht=dist)\n",
    "    autobahn.deflagKnoten(source)\n",
    "    autobahn.deflagKnoten(target)"
   ]
  },
  {
   "cell_type": "code",
   "execution_count": 62,
   "id": "420e44d5",
   "metadata": {},
   "outputs": [
    {
     "data": {
      "image/png": "[encoded data removed]",
      "text/plain": [
       "<Figure size 640x480 with 1 Axes>"
      ]
     },
     "metadata": {},
     "output_type": "display_data"
    }
   ],
   "source": [
    "# explicitly set positions\n",
    "pos = {'KI': (10.12, 54.32), 'SN': (11.40, 53.63), \n",
    "       'HH': ( 9.99, 53.55), 'HB': ( 8.80, 53.07), \n",
    "       'BI': ( 8.53, 52.03), 'H' : ( 9.73, 52.37), \n",
    "       'MD': (11.62, 52.12), \n",
    "#       'P' : (13.06, 52.39), # orig\n",
    "       'P' : (12.90, 52.39), # verschoben\n",
    "       'B' : (13.37, 52.51), 'D' : ( 6.77, 51.22), \n",
    "       'MZ': ( 8.24, 49.99), \n",
    "       'EF': (11.02, 50.98), 'DD': (13.73, 51.05), \n",
    "       'SB': ( 6.99, 49.24), 'S' : ( 9.18, 48.77), \n",
    "       'M' : (11.57, 48.13), \n",
    "#       'MS': ( 7.62, 51.96), # orig\n",
    "#       'WI': ( 8.23, 50.07), # orig \n",
    "       'MS': ( 7.62, 52.20), # verschoben\n",
    "       'WI': ( 8.23, 50.50), # verschoben \n",
    "      'HAM': (7.81, 51.67), }\n",
    "\n",
    "node_options = {\n",
    "    \"node_color\": \"tab:red\",\n",
    "    \"node_size\": 250,\n",
    "    \"linewidths\": 1,\n",
    "                }\n",
    "edge_options = {\n",
    "    \"edge_color\": \"tab:blue\",\n",
    "    \"width\": 1,\n",
    "}\n",
    "\n",
    "label_options = {\n",
    "    \"font_size\": 7, \n",
    "    \"font_color\" : \"white\",\n",
    "}\n",
    "\n",
    "\n",
    "# nodes:\n",
    "nx.draw_networkx_nodes(autobahn, pos, **node_options)\n",
    "\n",
    "# edges:\n",
    "nx.draw_networkx_edges(autobahn, pos, **edge_options)\n",
    "\n",
    "# labels:\n",
    "nx.draw_networkx_labels(autobahn, pos, **label_options)\n",
    "\n",
    "# Set margins for the axes so that nodes aren't clipped\n",
    "ax = plt.gca()\n",
    "#ax.margins(0.1)\n",
    "plt.axis(\"on\")\n",
    "plt.show()\n"
   ]
  },
  {
   "cell_type": "code",
   "execution_count": null,
   "id": "3681f8f9",
   "metadata": {},
   "outputs": [],
   "source": []
  }
 ],
 "metadata": {
  "hide_input": false,
  "kernelspec": {
   "display_name": "Python 3 (ipykernel)",
   "language": "python",
   "name": "python3"
  },
  "language_info": {
   "codemirror_mode": {
    "name": "ipython",
    "version": 3
   },
   "file_extension": ".py",
   "mimetype": "text/x-python",
   "name": "python",
   "nbconvert_exporter": "python",
   "pygments_lexer": "ipython3",
   "version": "3.10.9"
  },
  "toc": {
   "base_numbering": 1,
   "nav_menu": {},
   "number_sections": true,
   "sideBar": true,
   "skip_h1_title": true,
   "title_cell": "Inhalt",
   "title_sidebar": "Inhalt",
   "toc_cell": false,
   "toc_position": {},
   "toc_section_display": true,
   "toc_window_display": true
  },
  "varInspector": {
   "cols": {
    "lenName": 16,
    "lenType": 16,
    "lenVar": 40
   },
   "kernels_config": {
    "python": {
     "delete_cmd_postfix": "",
     "delete_cmd_prefix": "del ",
     "library": "var_list.py",
     "varRefreshCmd": "print(var_dic_list())"
    },
    "r": {
     "delete_cmd_postfix": ") ",
     "delete_cmd_prefix": "rm(",
     "library": "var_list.r",
     "varRefreshCmd": "cat(var_dic_list()) "
    }
   },
   "types_to_exclude": [
    "module",
    "function",
    "builtin_function_or_method",
    "instance",
    "_Feature"
   ],
   "window_display": false
  }
 },
 "nbformat": 4,
 "nbformat_minor": 5
}
