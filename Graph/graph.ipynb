{
 "cells": [
  {
   "cell_type": "markdown",
   "id": "623918df",
   "metadata": {},
   "source": [
    "## Klasse `Graph`\n",
    "### Eine mögliche Implementation "
   ]
  },
  {
   "cell_type": "code",
   "execution_count": 1,
   "id": "5ef4e886",
   "metadata": {},
   "outputs": [],
   "source": [
    "\"\"\" Eine Python-Klasse\n",
    "Hier werden wichtige Details und Funktionalitäten von gerichteten Graphen bereitgestellt.\n",
    "\"\"\"\n",
    "\n",
    "class Graph(object):\n",
    "\n",
    "    def __init__(self, graph_dict=None):\n",
    "        \"\"\" Initialisierung \n",
    "            Falls kein oder ein leeres Dictionary angegeben wird,\n",
    "            wird ein Graph ohne Ecken und ohne Kanten generiert.\n",
    "            Ansonsten wird der Graph über ein Dictionary deklariert.\n",
    "            Das Dictionary benutzt Einträge der Form KEY:VALUE, \n",
    "            wobei KEY der Name eines Knotens \n",
    "            und VALUE eine Menge von Namen von Nachbarknoten ist.\n",
    "        \"\"\"\n",
    "        if graph_dict == None:\n",
    "            graph_dict = {}\n",
    "        self._graph_dict = graph_dict\n",
    "\n",
    "    def nachbarknoten(self, vertice):\n",
    "        \"\"\" liefert eine Liste aller mit dem Knoten verbundenen Knoten \"\"\"\n",
    "        return self._graph_dict[vertice]\n",
    "        \n",
    "    def alle_knoten(self):\n",
    "        \"\"\" liefert die Menge aller Knoten \"\"\"\n",
    "        return set(self._graph_dict.keys())\n",
    "\n",
    "    def alle_kanten(self):\n",
    "        \"\"\" liefert eine Liste aller Kanten \n",
    "            dabei ist eine Kante eine Menge, \n",
    "            also sind beide Richtungen \n",
    "        \"\"\"\n",
    "        edges = []\n",
    "        for vertex in self._graph_dict:\n",
    "            for neighbour in self._graph_dict[vertex]:\n",
    "                if {neighbour, vertex} not in edges:\n",
    "                    edges.append({vertex, neighbour})\n",
    "        return edges\n",
    "\n",
    "    def add_vertex(self, vertex):\n",
    "        \"\"\" If the vertex \"vertex\" is not in \n",
    "            self._graph_dict, a key \"vertex\" with an empty\n",
    "            list as a value is added to the dictionary. \n",
    "            Otherwise nothing has to be done. \n",
    "        \"\"\"\n",
    "        if vertex not in self._graph_dict:\n",
    "            self._graph_dict[vertex] = []\n",
    "\n",
    "    def add_edge(self, edge):\n",
    "        \"\"\" assumes that edge is of type set, tuple or list; \n",
    "            between two vertices can be multiple edges! \n",
    "        \"\"\"\n",
    "        edge = set(edge)\n",
    "        vertex1, vertex2 = tuple(edge)\n",
    "        for x, y in [(vertex1, vertex2), (vertex2, vertex1)]:\n",
    "            if x in self._graph_dict:\n",
    "                self._graph_dict[x].append(y)\n",
    "            else:\n",
    "                self._graph_dict[x] = [y]\n",
    "    \n",
    "    def __str__(self):\n",
    "        res = \"Knoten: \"\n",
    "        for k in self._graph_dict:\n",
    "            res += str(k) + \" \"\n",
    "        res += \"\\nKanten: \"\n",
    "        for edge in self.alle_kanten():\n",
    "            res += str(edge) + \" \"\n",
    "        return res\n",
    "\n",
    "    def path(self, start_vertex, end_vertex, path=None):\n",
    "        \"\"\" liefert einen Weg vom Start zum Ziel \"\"\"\n",
    "        if path == None:\n",
    "            path = []\n",
    "        graph = self._graph_dict\n",
    "        path = path + [start_vertex]\n",
    "        if start_vertex == end_vertex:\n",
    "            return path\n",
    "        if start_vertex not in graph:\n",
    "            return None\n",
    "        for vertex in graph[start_vertex]:\n",
    "            if vertex not in path:\n",
    "                extended_path = self.find_path(vertex, \n",
    "                                               end_vertex, \n",
    "                                               path)\n",
    "                if extended_path: \n",
    "                    return extended_path\n",
    "        return None"
   ]
  },
  {
   "cell_type": "markdown",
   "id": "a714be3f",
   "metadata": {},
   "source": [
    "### Test der Klasse `Graph`"
   ]
  },
  {
   "cell_type": "code",
   "execution_count": 2,
   "id": "d5a89941",
   "metadata": {},
   "outputs": [
    {
     "name": "stdout",
     "output_type": "stream",
     "text": [
      "Graph g\n",
      "Knoten: a b c d e f \n",
      "Kanten: {'a', 'c'} {'e', 'b'} {'c', 'b'} {'e', 'c'} {'c', 'd'} \n",
      "Graph h\n",
      "Knoten: a b c d \n",
      "Kanten: {'f', 'a'} {'a', 'd'} {'c', 'b'} {'e', 'c'} {'c', 'd'} {'f', 'd'} \n"
     ]
    }
   ],
   "source": [
    "g = { \"a\" : {\"c\"},\n",
    "      \"b\" : {\"c\", \"e\"},\n",
    "      \"c\" : {\"a\", \"b\", \"d\", \"e\"},\n",
    "      \"d\" : {\"c\"},\n",
    "      \"e\" : {\"b\", \"c\"},\n",
    "      \"f\" : {},\n",
    "    }\n",
    "\n",
    "h = { \"a\" : {\"d\", \"f\"},\n",
    "      \"b\" : {\"c\"},\n",
    "      \"c\" : {\"d\", \"e\"},\n",
    "      \"d\" : {\"f\"},\n",
    "    }\n",
    "\n",
    "graph_g = Graph(g)\n",
    "graph_h = Graph(h)\n",
    "\n",
    "print(\"Graph g\")\n",
    "print(graph_g)\n",
    "\n",
    "print(\"Graph h\")\n",
    "print(graph_h)"
   ]
  },
  {
   "cell_type": "code",
   "execution_count": null,
   "id": "e07496ee",
   "metadata": {},
   "outputs": [],
   "source": [
    "print(\"Nachbarn finden in g\")\n",
    "start = input()\n",
    "if not start in graph_g.alle_knoten():\n",
    "    print(\"Knoten\", start, \"nicht vorhanden\")\n",
    "else:\n",
    "    nachbarn = graph_g.nachbarknoten(start)\n",
    "    if not nachbarn:\n",
    "        print(start, \"hat keine Nachbarn\")\n",
    "    else:\n",
    "        print(nachbarn)"
   ]
  },
  {
   "cell_type": "code",
   "execution_count": null,
   "id": "84ffe5d2",
   "metadata": {},
   "outputs": [],
   "source": [
    "graph_g.alle_kanten()"
   ]
  },
  {
   "cell_type": "code",
   "execution_count": null,
   "id": "6015de26",
   "metadata": {},
   "outputs": [],
   "source": [
    "graph_g.alle_knoten()"
   ]
  },
  {
   "cell_type": "code",
   "execution_count": null,
   "id": "678dee5b",
   "metadata": {},
   "outputs": [],
   "source": [
    "print('Weg von \"a\" nach \"b\":')\n",
    "path_g_a_b = graph_g.find_path(\"a\", \"b\")\n",
    "print(path_g_a_b)\n",
    "\n",
    "print('The path from vertex \"a\" to vertex \"f\":')\n",
    "path_g_a_f = graph_g.find_path(\"a\", \"f\")\n",
    "print(path_g_a_f)\n",
    "\n",
    "print('The path from vertex \"c\" to vertex \"c\":')\n",
    "path_g_c_c = graph_g.find_path(\"c\", \"c\")\n",
    "print(path_g_c_c)\n",
    "\n",
    "print('The path from vertex \"a\" to vertex \"e\":')\n",
    "path_g_c_c = graph_g.find_path(\"a\", \"e\")\n",
    "print(path_g_c_c)"
   ]
  },
  {
   "cell_type": "code",
   "execution_count": null,
   "id": "d49ea45a",
   "metadata": {},
   "outputs": [],
   "source": [
    "print('Alle Wege von \"a\" nach \"b\":')\n",
    "wege_g_a_b = graph_g.find_all_paths(\"a\", \"b\")"
   ]
  },
  {
   "cell_type": "code",
   "execution_count": null,
   "id": "2947dd5b",
   "metadata": {},
   "outputs": [],
   "source": [
    "h = { \"a\" : {\"d\", \"f\"},\n",
    "      \"b\" : {\"c\"},\n",
    "      \"c\" : {\"b\", \"c\", \"d\", \"e\"},\n",
    "      \"d\" : {\"a\", \"c\", \"f\"},\n",
    "      \"e\" : {\"c\"},\n",
    "      \"f\" : {\"a\", \"d\"}\n",
    "    }\n",
    "\n",
    "graph_h = Graph(g)\n",
    "\n",
    "print(graph_h)\n",
    "\n",
    "print(\"Vertices of graph:\")\n",
    "print(graph_h.all_vertices())\n",
    "\n",
    "print(\"Edges of graph:\")\n",
    "print(graph_h.all_edges())\n",
    "\n",
    "\n",
    "print('The path from vertex \"a\" to vertex \"b\":')\n",
    "path_h_a_b = graph_h.find_path(\"a\", \"b\")\n",
    "print(path_h_a_b)\n",
    "\n",
    "print('The path from vertex \"a\" to vertex \"f\":')\n",
    "path_h_a_f = graph_h.find_path(\"a\", \"f\")\n",
    "print(path_h_a_f)\n",
    "\n",
    "print('The path from vertex \"c\" to vertex \"c\":')\n",
    "path_h_c_c = graph_h.find_path(\"c\", \"c\")\n",
    "print(path_h_c_c)"
   ]
  },
  {
   "cell_type": "markdown",
   "id": "cfabff3d",
   "metadata": {},
   "source": [
    "## Neue Funktionen in einer abgeleiteten Klasse `Graph2`"
   ]
  },
  {
   "cell_type": "code",
   "execution_count": null,
   "id": "a5167d0b",
   "metadata": {},
   "outputs": [],
   "source": [
    "class Graph2(Graph):\n",
    "    \n",
    "    def vertex_degree(self, vertex):\n",
    "        \"\"\" The degree of a vertex is the number of edges connecting\n",
    "        it, i.e. the number of adjacent vertices. Loops are counted \n",
    "        double, i.e. every occurence of vertex in the list \n",
    "        of adjacent vertices. \"\"\" \n",
    "        degree =  len(self._graph_dict[vertex]) \n",
    "        if vertex in self._graph_dict[vertex]:\n",
    "            degree += 1\n",
    "        return degree\n",
    "\n",
    "    def find_isolated_vertices(self):\n",
    "        \"\"\" returns a list of isolated vertices. \"\"\"\n",
    "        graph = self._graph_dict\n",
    "        isolated = []\n",
    "        for vertex in graph:\n",
    "            print(isolated, vertex)\n",
    "            if not graph[vertex]:\n",
    "                isolated += [vertex]\n",
    "        return isolated\n",
    "        \n",
    "    def Delta(self):\n",
    "        \"\"\" the maximum degree of the vertices \"\"\"\n",
    "        max = 0\n",
    "        for vertex in self._graph_dict:\n",
    "            vertex_degree = self.vertex_degree(vertex)\n",
    "            if vertex_degree > max:\n",
    "                max = vertex_degree\n",
    "        return max\n",
    "    \n",
    "    def degree_sequence(self):\n",
    "        \"\"\" calculates the degree sequence \"\"\"\n",
    "        seq = []\n",
    "        for vertex in self._graph_dict:\n",
    "            seq.append(self.vertex_degree(vertex))\n",
    "        seq.sort(reverse=True)\n",
    "        return tuple(seq)"
   ]
  },
  {
   "cell_type": "code",
   "execution_count": null,
   "id": "037de8fd",
   "metadata": {},
   "outputs": [],
   "source": [
    "graph = Graph2(g)\n",
    "graph.vertex_degree(\"f\")"
   ]
  },
  {
   "cell_type": "markdown",
   "id": "8d74e8c2",
   "metadata": {},
   "source": [
    "## ein wenig Spielerei mit ..."
   ]
  },
  {
   "cell_type": "code",
   "execution_count": null,
   "id": "05486edb",
   "metadata": {},
   "outputs": [],
   "source": [
    "import os\n",
    "print(os.name)"
   ]
  },
  {
   "cell_type": "code",
   "execution_count": null,
   "id": "24d0d636",
   "metadata": {},
   "outputs": [],
   "source": [
    "print(os.getcwd())"
   ]
  },
  {
   "cell_type": "code",
   "execution_count": null,
   "id": "9dd77121",
   "metadata": {},
   "outputs": [],
   "source": [
    "print(os.listdir())"
   ]
  },
  {
   "cell_type": "code",
   "execution_count": null,
   "id": "669ec5ad",
   "metadata": {},
   "outputs": [],
   "source": [
    "dir = os.popen(\"ls\").readlines()\n",
    "print(dir)"
   ]
  },
  {
   "cell_type": "code",
   "execution_count": null,
   "id": "1f4769fb",
   "metadata": {},
   "outputs": [],
   "source": [
    "command = \" \"\n",
    "\n",
    "while (command != \"exit\"):\n",
    "    command = input(\"Command: \")\n",
    "    handle = os.popen(command)\n",
    "    line = \" \"\n",
    "    while line:\n",
    "        line = handle.read()\n",
    "        print(line)\n",
    "    handle.close()\n",
    "    \n",
    "print(\"Ciao that's it!\")"
   ]
  },
  {
   "cell_type": "code",
   "execution_count": null,
   "id": "3e82f833",
   "metadata": {},
   "outputs": [],
   "source": []
  },
  {
   "cell_type": "code",
   "execution_count": null,
   "id": "8c779e82",
   "metadata": {},
   "outputs": [],
   "source": []
  }
 ],
 "metadata": {
  "hide_input": false,
  "kernelspec": {
   "display_name": "Python 3 (ipykernel)",
   "language": "python",
   "name": "python3"
  },
  "language_info": {
   "codemirror_mode": {
    "name": "ipython",
    "version": 3
   },
   "file_extension": ".py",
   "mimetype": "text/x-python",
   "name": "python",
   "nbconvert_exporter": "python",
   "pygments_lexer": "ipython3",
   "version": "3.10.9"
  },
  "latex_envs": {
   "LaTeX_envs_menu_present": true,
   "autoclose": false,
   "autocomplete": true,
   "bibliofile": "biblio.bib",
   "cite_by": "apalike",
   "current_citInitial": 1,
   "eqLabelWithNumbers": true,
   "eqNumInitial": 1,
   "hotkeys": {
    "equation": "Ctrl-E",
    "itemize": "Ctrl-I"
   },
   "labels_anchors": false,
   "latex_user_defs": false,
   "report_style_numbering": false,
   "user_envs_cfg": false
  },
  "toc": {
   "base_numbering": 1,
   "nav_menu": {},
   "number_sections": true,
   "sideBar": true,
   "skip_h1_title": true,
   "title_cell": "Inhalt",
   "title_sidebar": "Inhalt",
   "toc_cell": false,
   "toc_position": {
    "height": "calc(100% - 180px)",
    "left": "10px",
    "top": "150px",
    "width": "165px"
   },
   "toc_section_display": true,
   "toc_window_display": true
  },
  "varInspector": {
   "cols": {
    "lenName": 16,
    "lenType": 16,
    "lenVar": 40
   },
   "kernels_config": {
    "python": {
     "delete_cmd_postfix": "",
     "delete_cmd_prefix": "del ",
     "library": "var_list.py",
     "varRefreshCmd": "print(var_dic_list())"
    },
    "r": {
     "delete_cmd_postfix": ") ",
     "delete_cmd_prefix": "rm(",
     "library": "var_list.r",
     "varRefreshCmd": "cat(var_dic_list()) "
    }
   },
   "types_to_exclude": [
    "module",
    "function",
    "builtin_function_or_method",
    "instance",
    "_Feature"
   ],
   "window_display": false
  }
 },
 "nbformat": 4,
 "nbformat_minor": 5
}
