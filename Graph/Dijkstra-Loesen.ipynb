{
 "cells": [
  {
   "cell_type": "markdown",
   "id": "9b5e535d",
   "metadata": {},
   "source": [
    "# Dijkstra: kürzeste Wege in einem Graphen"
   ]
  },
  {
   "cell_type": "markdown",
   "id": "f0880730",
   "metadata": {},
   "source": [
    "## Notwendige Bibliotheken"
   ]
  },
  {
   "cell_type": "code",
   "execution_count": null,
   "id": "7e75abd2",
   "metadata": {},
   "outputs": [],
   "source": [
    "import nrw_graph_unsave as ng\n",
    "import pandas as pd\n",
    "import matplotlib.pyplot as plt\n",
    "import networkx as nx"
   ]
  },
  {
   "cell_type": "markdown",
   "id": "b794a5c7",
   "metadata": {},
   "source": [
    "## Graph aus einer Datei einlesen"
   ]
  },
  {
   "cell_type": "code",
   "execution_count": null,
   "id": "5d8a90f1",
   "metadata": {},
   "outputs": [],
   "source": [
    "df_staedte = pd.read_csv(\"Highway_Germany.txt\", sep=\",\")\n",
    "display(df_staedte)"
   ]
  },
  {
   "cell_type": "code",
   "execution_count": null,
   "id": "6c71ad2a",
   "metadata": {},
   "outputs": [],
   "source": [
    "autobahn = ng.nrw_graph()\n",
    "zeilen = df_staedte.shape[0]\n",
    "for i in range(zeilen):\n",
    "    source = df_staedte.iloc[i]['Start']\n",
    "    target = df_staedte.iloc[i]['Ziel']\n",
    "    dist = float(df_staedte.iloc[i]['Entfernung'])\n",
    "\n",
    "    autobahn.fuegeKanteHinzu(source, target, gewicht=dist)\n",
    "    autobahn.deflagKnoten(source)\n",
    "    autobahn.deflagKnoten(target)"
   ]
  },
  {
   "cell_type": "markdown",
   "id": "905753cf",
   "metadata": {},
   "source": [
    "## Einige Hilfsfunktionen"
   ]
  },
  {
   "cell_type": "code",
   "execution_count": null,
   "id": "f07a462f",
   "metadata": {},
   "outputs": [],
   "source": [
    "def entfernung (liste):\n",
    "    return liste[2]"
   ]
  },
  {
   "cell_type": "code",
   "execution_count": null,
   "id": "696defec",
   "metadata": {},
   "outputs": [],
   "source": [
    "def alleBesuchtenKnoten():\n",
    "    alle = []\n",
    "    for knoten in autobahn.alleKnoten():\n",
    "        if autobahn.knotenHatFlag(knoten):\n",
    "            (ueber, lang) = autobahn.getKnotenMarke(knoten)\n",
    "            alle.append([knoten,ueber, lang])\n",
    "    return alle"
   ]
  },
  {
   "cell_type": "code",
   "execution_count": null,
   "id": "e81f8061",
   "metadata": {},
   "outputs": [],
   "source": [
    "def kantenVon(start):\n",
    "    kanten = []\n",
    "    for (s,z) in autobahn.alleKanten():\n",
    "        if s == start:\n",
    "            l = autobahn.kantenGewicht(s, z)\n",
    "            kanten.append([s,z, l])\n",
    "        elif z == start:\n",
    "            l = autobahn.kantenGewicht(s, z)\n",
    "            kanten.append([z, s, l])\n",
    "\n",
    "    kanten.sort(key = entfernung)\n",
    "    return kanten"
   ]
  },
  {
   "cell_type": "code",
   "execution_count": null,
   "id": "76cca20a",
   "metadata": {},
   "outputs": [],
   "source": [
    "def schnittkantenDirektVon(start):\n",
    "    kanten = []\n",
    "    for (s,z) in autobahn.alleKanten():\n",
    "        if s == start and not autobahn.knotenHatFlag(z):\n",
    "            l = autobahn.kantenGewicht(s, z)\n",
    "            kanten.append([s, z, l])\n",
    "        elif z == start and not autobahn.knotenHatFlag(s):\n",
    "            l = autobahn.kantenGewicht(s, z)\n",
    "            kanten.append ([z,s, l])\n",
    "\n",
    "    kanten.sort(key = entfernung)\n",
    "    return kanten"
   ]
  },
  {
   "cell_type": "code",
   "execution_count": null,
   "id": "144a502a",
   "metadata": {},
   "outputs": [],
   "source": [
    "def alleSchnittkanten():\n",
    "    kanten = []\n",
    "    for (s,z) in autobahn.alleKanten():\n",
    "        if autobahn.knotenHatFlag(s) and not autobahn.knotenHatFlag(z):\n",
    "            l = autobahn.kantenGewicht(s, z)\n",
    "            (ueber, weit) = autobahn.getKnotenMarke(s)\n",
    "            l += weit\n",
    "            kanten.append ([s, z, l])\n",
    "        elif autobahn.knotenHatFlag(z) and not autobahn.knotenHatFlag(s):\n",
    "            l = autobahn.kantenGewicht(z, s)\n",
    "            (ueber, weit) = autobahn.getKnotenMarke(z)\n",
    "            l += weit\n",
    "            kanten.append([z, s, l])\n",
    "\n",
    "    kanten.sort(key = entfernung)\n",
    "    return kanten"
   ]
  },
  {
   "cell_type": "markdown",
   "id": "4b3f9b44",
   "metadata": {},
   "source": [
    "## Von X nach Y"
   ]
  },
  {
   "cell_type": "code",
   "execution_count": null,
   "id": "74c67773",
   "metadata": {},
   "outputs": [],
   "source": [
    "#startknoten = \"Berlin\"\n",
    "#zielknoten = \"München\""
   ]
  },
  {
   "cell_type": "code",
   "execution_count": null,
   "id": "67ffaaf8",
   "metadata": {},
   "outputs": [],
   "source": [
    "startknoten = \"BIELEFELD - SENNESTADT (A 2)\"\n",
    "zielknoten = \"KREUZ MUENSTER - NORD\""
   ]
  },
  {
   "cell_type": "code",
   "execution_count": null,
   "id": "4e068dff",
   "metadata": {},
   "outputs": [],
   "source": []
  },
  {
   "cell_type": "markdown",
   "id": "e0416bab",
   "metadata": {},
   "source": [
    "### Der Startknoten ist bereits besucht!"
   ]
  },
  {
   "cell_type": "markdown",
   "id": "42e30fa5",
   "metadata": {},
   "source": [
    "Zunächst eine Trivialität:\n",
    "- Möchte man von X nach X reisen, so ist die kürzeste Verbindung über X mit einer Länge von 0.0\n",
    "\n",
    "Also wird X mit einer Flagge und eine Marke der Form (ueber, laenge) versehen:"
   ]
  },
  {
   "cell_type": "code",
   "execution_count": null,
   "id": "58e51f81",
   "metadata": {},
   "outputs": [],
   "source": [
    "autobahn.flagKnoten(startknoten)\n",
    "autobahn.markiereKnoten(startknoten, (startknoten, 0.0))"
   ]
  },
  {
   "cell_type": "markdown",
   "id": "c2c61559",
   "metadata": {},
   "source": [
    "Jetzt kann man sich alle geflaggten Knoten mit ihren Marken ansehen.\n",
    "\n",
    "**Schau dir dazu die entsprechende Hilfsfunktion weiter oben an!**"
   ]
  },
  {
   "cell_type": "code",
   "execution_count": null,
   "id": "e7559a7a",
   "metadata": {},
   "outputs": [],
   "source": [
    "alleBesuchtenKnoten()"
   ]
  },
  {
   "cell_type": "code",
   "execution_count": null,
   "id": "3282f3c5",
   "metadata": {
    "scrolled": true
   },
   "outputs": [],
   "source": [
    "alleSchnittkanten()"
   ]
  },
  {
   "cell_type": "markdown",
   "id": "445cd955",
   "metadata": {},
   "source": [
    "### Das Verfahren automatisiert"
   ]
  },
  {
   "cell_type": "raw",
   "id": "1747c5cd",
   "metadata": {},
   "source": [
    "Hier kommt eine Erläuterung!"
   ]
  },
  {
   "cell_type": "code",
   "execution_count": null,
   "id": "3fd96368",
   "metadata": {
    "scrolled": false
   },
   "outputs": [],
   "source": [
    "while not autobahn.knotenHatFlag(zielknoten):\n",
    "    sk = alleSchnittkanten()\n",
    "    shortest = sk [0]\n",
    "    print(\"Shortest =\", shortest)\n",
    "    ueber = shortest[0]\n",
    "    neu = shortest[1]\n",
    "    lang = shortest[2]\n",
    "    autobahn.flagKnoten(neu)\n",
    "    autobahn.markiereKnoten(neu, (ueber, lang))\n",
    "    \n",
    "besucht = {}\n",
    "for kante in alleBesuchtenKnoten():\n",
    "    besucht[kante[0]] = [kante[1], kante[2]]\n",
    "\n",
    "node = zielknoten\n",
    "ausgabe = \"\"\n",
    "gesamt = besucht[zielknoten][1]\n",
    "while node != startknoten:\n",
    "    info = besucht[node]\n",
    "    ueber = info[0]\n",
    "    lang = autobahn.kantenGewicht(ueber, node)\n",
    "    ausgabe = \"Von \" + ueber + \" nach \" + node + \" (\" + str(lang) + \")\" +\"\\n\" + ausgabe\n",
    "    node = ueber\n",
    "print(\"Es sind insgesamt\", gesamt, \"km\")    \n",
    "print (ausgabe)    \n",
    "    "
   ]
  },
  {
   "cell_type": "code",
   "execution_count": null,
   "id": "3e816d40",
   "metadata": {},
   "outputs": [],
   "source": []
  },
  {
   "cell_type": "code",
   "execution_count": null,
   "id": "5612e78f",
   "metadata": {},
   "outputs": [],
   "source": []
  },
  {
   "cell_type": "code",
   "execution_count": null,
   "id": "05589ca6",
   "metadata": {},
   "outputs": [],
   "source": []
  },
  {
   "cell_type": "code",
   "execution_count": null,
   "id": "ac6da08a",
   "metadata": {},
   "outputs": [],
   "source": []
  },
  {
   "cell_type": "code",
   "execution_count": null,
   "id": "c4a05b23",
   "metadata": {},
   "outputs": [],
   "source": []
  },
  {
   "cell_type": "code",
   "execution_count": null,
   "id": "a08d8694",
   "metadata": {},
   "outputs": [],
   "source": []
  },
  {
   "cell_type": "markdown",
   "id": "9fe3e033",
   "metadata": {},
   "source": [
    "### Man hat mehr als gewünscht!"
   ]
  },
  {
   "cell_type": "markdown",
   "id": "ec4cfb9e",
   "metadata": {},
   "source": [
    "Man kann jetzt auch die kürzeste Route von Berlin zu jeder anderen Stadt berechnen, die im Laufe der Schritte markiert wurde."
   ]
  },
  {
   "cell_type": "code",
   "execution_count": null,
   "id": "72555d30",
   "metadata": {},
   "outputs": [],
   "source": [
    "node = \"KREUZ DORTMUND - NORDWEST\"\n",
    "ausgabe = \"\"\n",
    "gesamt = besucht[node][1]\n",
    "while node != startknoten:\n",
    "    info = besucht[node]\n",
    "    ueber = info[0]\n",
    "    lang = autobahn.kantenGewicht(ueber, node)\n",
    "    ausgabe = \"Von \" + ueber + \" nach \" + node + \" (\" + str(lang) + \")\" +\"\\n\" + ausgabe\n",
    "    node = ueber\n",
    "print(\"Es sind insgesamt\", gesamt, \"km\")    \n",
    "print (ausgabe)"
   ]
  }
 ],
 "metadata": {
  "hide_input": false,
  "kernelspec": {
   "display_name": "Python 3 (ipykernel)",
   "language": "python",
   "name": "python3"
  },
  "language_info": {
   "codemirror_mode": {
    "name": "ipython",
    "version": 3
   },
   "file_extension": ".py",
   "mimetype": "text/x-python",
   "name": "python",
   "nbconvert_exporter": "python",
   "pygments_lexer": "ipython3",
   "version": "3.10.9"
  },
  "latex_envs": {
   "LaTeX_envs_menu_present": true,
   "autoclose": false,
   "autocomplete": true,
   "bibliofile": "biblio.bib",
   "cite_by": "apalike",
   "current_citInitial": 1,
   "eqLabelWithNumbers": true,
   "eqNumInitial": 1,
   "hotkeys": {
    "equation": "Ctrl-E",
    "itemize": "Ctrl-I"
   },
   "labels_anchors": false,
   "latex_user_defs": false,
   "report_style_numbering": false,
   "user_envs_cfg": false
  },
  "toc": {
   "base_numbering": 1,
   "nav_menu": {},
   "number_sections": true,
   "sideBar": true,
   "skip_h1_title": true,
   "title_cell": "Inhalt",
   "title_sidebar": "Inhalt",
   "toc_cell": false,
   "toc_position": {
    "height": "582px",
    "left": "92px",
    "top": "111.133px",
    "width": "240px"
   },
   "toc_section_display": true,
   "toc_window_display": true
  },
  "varInspector": {
   "cols": {
    "lenName": 16,
    "lenType": 16,
    "lenVar": 40
   },
   "kernels_config": {
    "python": {
     "delete_cmd_postfix": "",
     "delete_cmd_prefix": "del ",
     "library": "var_list.py",
     "varRefreshCmd": "print(var_dic_list())"
    },
    "r": {
     "delete_cmd_postfix": ") ",
     "delete_cmd_prefix": "rm(",
     "library": "var_list.r",
     "varRefreshCmd": "cat(var_dic_list()) "
    }
   },
   "types_to_exclude": [
    "module",
    "function",
    "builtin_function_or_method",
    "instance",
    "_Feature"
   ],
   "window_display": false
  }
 },
 "nbformat": 4,
 "nbformat_minor": 5
}
