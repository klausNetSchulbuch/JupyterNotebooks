{
 "cells": [
  {
   "cell_type": "markdown",
   "metadata": {},
   "source": [
    "#  Untersuchen eines fertigen künstlichen Neuronales Netzes (KNN)"
   ]
  },
  {
   "cell_type": "markdown",
   "metadata": {},
   "source": [
    "**Funktionsweise eines fertigen Künstlichen Neuronalen Netzwerks**\n",
    "\n",
    "Wir wollen verstehen wie Künstliche Neuronale Netzwerke (KNN) funktionieren und wie man sie konfiguriert und trainiert, um verschiedene Aufgaben zu lösen. Folgende Fragen sind dafür relevant:\n",
    "\n",
    "    1. Welche Art von Aufgaben kann ein KNN lösen?\n",
    "    \n",
    "    2. Wie funktioniert ein fertiges KNN?\n",
    "    \n",
    "    3. Wie wird ein KNN mit Hilfe von Daten trainiert? \n",
    "    \n",
    "    4. Wie konfiguriert man ein KNN passend zu einer Problemstellung und einem Datensatz?\n",
    "    \n",
    "In diesem Notebook wollen wir die **ersten beiden Fragen** beantworten und uns anschauen wie eine fertiges Neuronales Netzwerk aufgebaut ist und wie es funktioniert. Dafür schauen wir uns ein sehr einfaches Anwendungsbeispiel und ein dazu passendes fertiges künstliches neuronales Netzwerk an. \n",
    "\n",
    "Später, in weiteren Notebooks schauen wir uns dann das Lernprinzip und die Konfiguration eines KNN an, um auch die **dritte und vierte Frage** zu beantworten.\n",
    "    "
   ]
  },
  {
   "cell_type": "markdown",
   "metadata": {},
   "source": [
    "# Klassifikationsproblem"
   ]
  },
  {
   "cell_type": "markdown",
   "metadata": {},
   "source": [
    "Mit KNN können Klassifikationsaufgaben gelöst werden, wie es für verschiendene Methoden des Machine Learning typisch ist. Bei einer Klassifikationsaufgabe geht es darum ein Objekt anhand einer Menge verschiedener Merkmale zu erkennen und einer Klasse zuzuordnen. \n",
    "\n",
    "\n",
    "\n"
   ]
  },
  {
   "cell_type": "markdown",
   "metadata": {},
   "source": [
    "Ein sehr einfaches Beispiel für ein Klassifikationsproblem ist die Unterscheidung von Insekten. Dabei haben wir nur die zwei Klassen <font color=blue>**Marienkäfer**</font> und <font color=red>**Raupe**</font>. Die Merkmale, die man zur Erkennung heranziehen könnte sind vielfältig. Man könnte z. B. Farben, Größe, Fortbewegungsgeschwindigket und vieles mehr anschauen. Da wir aber ein möglichst einfaches Beispiel betrachten wollen schauen wir uns nur \"Breite\" und \"Länge\" der Insekten an. "
   ]
  },
  {
   "cell_type": "markdown",
   "metadata": {},
   "source": [
    "<td> \n",
    "    <img src=\"Bilder\\marienkaefer.jpg\" alt=\"Drawing\" style=\"width: 300px; float: left;\"  hspace=40 /> \n",
    "    <img src=\"Bilder\\raupe.jpg\" alt=\"Drawing\" style=\"width: 300px; float: left;\" hspace=40/>\n",
    "</td>\n"
   ]
  },
  {
   "cell_type": "markdown",
   "metadata": {},
   "source": [
    "Wenn man sich überlegt wie die Breite und Länge von Marienkäfern und Raupen aussieht, könnten diese Merkmale genügen um eine passende Zuordnung zu treffen. Beispielhaft können wir uns einmal die Maße von zwei Raupen und einem Marienkäfer anschauen: "
   ]
  },
  {
   "cell_type": "markdown",
   "metadata": {},
   "source": [
    "<td> \n",
    "    <img src=\"Bilder\\InsektenMessen.jpg\" alt=\"Drawing\" style=\"width: 800px; float: left;\" /> \n",
    "    \n",
    "</td>\n"
   ]
  },
  {
   "cell_type": "markdown",
   "metadata": {},
   "source": [
    "# Datenbeispiel"
   ]
  },
  {
   "cell_type": "code",
   "execution_count": null,
   "metadata": {},
   "outputs": [],
   "source": [
    "#Bibliothek pandas zur Datenverarbeitung importieren\n",
    "import pandas as pd\n",
    "\n",
    "#Bibliotheken plotly und vufflinks zur Datenvisualisierung importieren\n",
    "from plotly.offline import iplot\n",
    "import plotly.graph_objects as go\n",
    "import cufflinks as cf\n",
    "cf.go_offline()\n",
    "\n",
    "#Ein quadratsiches Layout für plotly-Graphiken wird definiert \n",
    "square_layout = go.Layout(xaxis={'title':'Breite','range':[-0.01,1.01]},\n",
    "                   yaxis={'title':'Länge','range':[-0.01,1.01]},\n",
    "                   height=810,\n",
    "                   width=810)\n"
   ]
  },
  {
   "cell_type": "code",
   "execution_count": null,
   "metadata": {},
   "outputs": [],
   "source": [
    "#Datensatz einlesen\n",
    "df_käfer = pd.read_csv('Kaefer.csv', sep=';')\n",
    "\n",
    "df_käfer#.head()"
   ]
  },
  {
   "cell_type": "markdown",
   "metadata": {},
   "source": [
    "\n",
    "In der Folgenden Zelle wird dieser Datensatz als Streudiagramm (Scatterchart) visualisiert. \n",
    "\n",
    "Mit diesem Streudiagramm können wir zunächst analysieren, wie die Eigenschaft der unterschiedlichen Insekten sind."
   ]
  },
  {
   "cell_type": "code",
   "execution_count": null,
   "metadata": {
    "scrolled": false
   },
   "outputs": [],
   "source": [
    "df_käfer.iplot('scatter', mode = 'markers',  layout = square_layout,\n",
    "               x = 'Breite', \n",
    "               y = 'Länge',\n",
    "               categories = 'Insekt')"
   ]
  },
  {
   "cell_type": "markdown",
   "metadata": {},
   "source": [
    "\n",
    "<div class=\"panel panel-info\">\n",
    "    <div class=\"panel-heading\">\n",
    "        <b>Aufgabe</b>\n",
    "    </div>\n",
    "    <div class=\"panel-body\">\n",
    "Im Datensatz <code>df_käfer</code> sind 100 Marienkäfer und 100 Raupen erfasst worden. Beschreibe was sich anhand des Streudiagramms über Raupen und Marienkäfer aussagen lässt. \n",
    "    </div> \n",
    "</div>\n",
    "\n",
    "\n",
    "\n",
    "\n",
    "\n"
   ]
  },
  {
   "cell_type": "markdown",
   "metadata": {},
   "source": [
    "ANWORT HIER EINFÜGEN\n",
    "\n",
    "\n",
    "___"
   ]
  },
  {
   "cell_type": "markdown",
   "metadata": {},
   "source": [
    "Die Aufgabe diese beiden Insektentypen anhand von Länge und Breite zu klassifizieren ist nicht besonders kompliziert, aber sehr gut geeignet, um daran nachzuvollziehen wie ein relativ einfaches fertiges Künstliches Neuronales Netzwerk arbeitet."
   ]
  },
  {
   "cell_type": "markdown",
   "metadata": {},
   "source": [
    "# Das künstliche neuronale Netzwerk\n",
    "Im folgenden wollen wir nachvollziehen, wie ein Künstliches Neuronalen Netz (KNN) Daten über Länge und Breite nach dem sogenannten **Feed-Forward-Prinzip** verarbeitet und jeweils einer Insektenklasse zuordnen kann.\n",
    "\n",
    "Das von uns betrachtete KNN kann Marienkäfer und Raupen anhand von Länge und Breite klassifizieren. "
   ]
  },
  {
   "cell_type": "markdown",
   "metadata": {},
   "source": [
    "<a id=\"Abschnitt4_1\"> </a>\n",
    "## Aufbau"
   ]
  },
  {
   "cell_type": "markdown",
   "metadata": {},
   "source": [
    "<div class=\"panel panel-success\">\n",
    "    <div class=\"panel-heading\">\n",
    "        <b> Eklärung - Aufbau des künstlichen Neuronalen Netzwerks</b>\n",
    "    </div>\n",
    "    <div class=\"panel-body\">\n",
    "Wir betrachten im folgenden ein Künstliches Neuronales Netz, das aus <b>4 Neuronen</b> besteht. Diese 4 Neuronen sind angeordnet in <b>3 Layern</b>.\n",
    "\n",
    "Der <font color=blue>**Input Layer**</font> besteht aus 2 Neuronen <code>I1</code> und <code>I2</code>, der <font color=green>**Hidden Layer**</font> besteht aus nur einem Neuron <code>H1</code> und der <font color=red>**Output Layer**</font> besteht ebenfalls aus nur einem Neuron <code>O1</code>.\n",
    "\n",
    "Das Neuronale Netz bekommt als Eingabe (Input) 2 Werte, nämlich die Länge und Breite eines Insekts. Diese Werte werden dann durch das Neuronale Netz verarbeitet und die Neuronen in den unterschiedlichen Layern werden dadurch entweder <font color=blue> **aktiviert** </font> oder <font color=red> **nicht aktiviert** </font>. Die Entscheidung, die das neuronale Netz trifft hängt von der Aktivierung des letzten (Output-) Neurons ab.\n",
    "        \n",
    "* Wenn das letzte Neuron aktiviert ist, wählt das neuronale Netz den Ausgabewert <font color=blue>**Marienkäfer**</font>\n",
    "      \n",
    "* Wenn das letzte Neuron nicht aktiviert ist, wählt das neuronale Netz die Ausgabewert <font color=red>**Raupe**</font>\n",
    "        \n",
    "Dieser Ausgabewert gibt an welches Insekt das künstliche neuronale Netzwerk hinter den Eingabewerten (Breite & Länge) vermutet.\n",
    "    </div> \n",
    "</div>"
   ]
  },
  {
   "cell_type": "code",
   "execution_count": null,
   "metadata": {},
   "outputs": [],
   "source": [
    "#Anzeigen der Daten von Insekt Nummer 199\n",
    "df_käfer.loc[199]"
   ]
  },
  {
   "cell_type": "markdown",
   "metadata": {},
   "source": [
    "Z.B. kann man die Werte für Breite und Länge von Insekt Nummer 199 eingeben und das Neuronale Netz erkennt, dass es sich um eine Raupe handelt. \n",
    "\n",
    "Für eine erste Visualisierung dieses Vorgangs starte das folgende Video. Die Verarbeitungsschritte und die Aktivierung der Neuronen des Netzwerks werden darin zunächst farblich dargestellt. Was genau dabei passiert schauen wir uns danach an."
   ]
  },
  {
   "cell_type": "markdown",
   "metadata": {},
   "source": [
    "<video src=\"Videos\\FeedForward_Vid1.mp4\" width=\"600\" \n",
    "    autobuffer autoplay controls>\n",
    "</video>"
   ]
  },
  {
   "cell_type": "markdown",
   "metadata": {},
   "source": [
    "<div class=\"panel panel-danger\">\n",
    "    <div class=\"panel-heading\">\n",
    "        <b>Wichtige Erkenntnisse</b>\n",
    "    </div>\n",
    "    <div class=\"panel-body\">\n",
    "Wir können festhalten:\n",
    "\n",
    "* Das künstliche neuronale Netzwerk kann anhand von Breite und Länge entscheiden welches Insekt vorliegt. \n",
    "        \n",
    "* Die Entscheidung für die Insektenklassen <font color=blue>Marienkäfer</font> oder <font color=red>Raupe</font> hängt davon ab ob das letzte (Output-) Neuron <font color=blue> **aktiviert** </font> oder <font color=red> **nicht aktiviert** </font> ist.\n",
    "\n",
    "Wir wissen noch nicht:\n",
    "\n",
    "* Was genau machen die Neuronen? \n",
    "</div> \n"
   ]
  },
  {
   "cell_type": "markdown",
   "metadata": {},
   "source": [
    "<a id=\"Abschnitt4_2\"> </a>\n",
    "## Was ist ein künstliches Neuron?"
   ]
  },
  {
   "cell_type": "markdown",
   "metadata": {},
   "source": [
    "\n",
    "\n",
    "<div class=\"panel panel-success\">\n",
    "    <div class=\"panel-heading\">\n",
    "        <b> Eklärung - Was ist ein künstliches Neuron?</b>\n",
    "    </div>\n",
    "    <div class=\"panel-body\">\n",
    "Die künstliche Neuronen die wir betrachten sind inspiriert von realen Neuronen im menschlichen Gehirn. Allerdings ist das was die künstlichen Neuronen machen nicht besonders kompliziert. Vereinfacht kann man sich merken:\n",
    "        \n",
    "<br><br>\n",
    "<center style=\"font-size:20px\"><i> Ein künstliches Neuron ist ein  <b>Ding, das eine Zahl enthält</b>.</i> \n",
    "</center>  \n",
    "<br><br>\n",
    "        \n",
    "Genauer gesagt können Zahlen zwischen 1 und -1 in einem Neuron enthalten sein. An dieser Zahl kann man die Aktivierung des Neurons ablesen. Ein Neuron gilt als \n",
    "\n",
    "*  <font color=blue> **aktiviert** </font>, wenn der Wert zwischen 0 und 1 liegt \n",
    "\n",
    "und als \n",
    "\n",
    "* <font color=red> **nicht aktiviert** </font>, wenn der Wert zwischen -1 und 0 liegt.\n",
    "\n",
    "Je näher der Wert also an der 1 ist desto aktiver ist das Neuron und umgekehrt je näher der Wert an der -1 ist desto inaktiver ist das Neuron.\n",
    "\n",
    "Die tatsächliche Aktivierung eines Neurons hängt von den eingehenden Signale ab und kann daher unterschiedliche Zahlen annehmen, je nachdem welchen Input man in das neuronale Netzwerk eingibt.\n",
    "        \n",
    "</div> \n",
    "\n",
    "\n",
    "\n",
    "        "
   ]
  },
  {
   "cell_type": "markdown",
   "metadata": {},
   "source": [
    "Im folgenden Video schauen wir uns einmal an, wie die Aktivierungen der einzelnen Neuronen bei dem vorherigen Beispiel aussehen. \n",
    "Die Neuronen färben sich blau wenn sie aktiviert sind und rot wenn nicht aktiviert sind."
   ]
  },
  {
   "cell_type": "markdown",
   "metadata": {},
   "source": [
    "<video src=\"Videos\\FeedForward_Vid2.mp4\" width=\"600\" \n",
    "    autobuffer autoplay controls>\n",
    "</video>"
   ]
  },
  {
   "cell_type": "markdown",
   "metadata": {},
   "source": [
    "<div class=\"panel panel-danger\">\n",
    "    <div class=\"panel-heading\">\n",
    "        <b>Wichtige Erkenntnisse</b>\n",
    "    </div>\n",
    "    <div class=\"panel-body\">\n",
    "\n",
    "Wir können festhalten:\n",
    "\n",
    "* Künstliche Neuronen enthalten Zahlenwerte zwischen -1 und 1.       \n",
    "\n",
    "\n",
    "\n",
    "* Die ersten beiden Neuronen im Input Layer übernehmen einfach die Werte der Eingaben (Länge und Breite) als Aktivierungswerte.\n",
    "\n",
    "\n",
    "\n",
    "* Das letzte Neuron im Outputlayer bestimmt welche Klasse ausgewählt wird. Wenn das letzte Neuron <font color=red>nicht aktiviert</font> ist wird die Klasse <font color=red>Raupe</font>  gewählt. Wenn das letzte Neuron <font color=blue> aktiviert </font> ist, wird die Klasse <font color=blue>Marienkäfer</font> gewählt.\n",
    "\n",
    "\n",
    "Wir wissen noch nicht:\n",
    "\n",
    "\n",
    "* Wie kommen die Aktivierungswerte von den Neuronen im Hidden Layer und im Output Layer zustande?\n",
    "\n",
    "        \n",
    "       \n",
    "</div> \n",
    "\n",
    "\n",
    "\n",
    "\n",
    "\n"
   ]
  },
  {
   "cell_type": "markdown",
   "metadata": {},
   "source": [
    "<div class=\"panel panel-warning\">\n",
    "    <div class=\"panel-heading\">\n",
    "        <b>Prüfe dich selbst: </b>\n",
    "    </div>\n",
    "    <div class=\"panel-body\">\n",
    "\n",
    "        \n",
    "* Wann ist ein Neuron aktiviert und wann ist es nicht aktiviert? ( Nachlesen: <a href=\"#Abschnitt4_2\">4.2. Neuron</a>)\n",
    "\n",
    "* Was sind Input Layer, Hidden Layer und Output Layer? (Nachlesen: <a href=\"#Abschnitt4_1\">4.1. Aufbau eines KNN</a>)\n",
    "\n",
    "</div> \n",
    "\n",
    "\n",
    "\n"
   ]
  },
  {
   "cell_type": "markdown",
   "metadata": {},
   "source": [
    "## Aktivierung eines Neurons"
   ]
  },
  {
   "cell_type": "markdown",
   "metadata": {},
   "source": [
    "<div class=\"panel panel-success\">\n",
    "    <div class=\"panel-heading\">\n",
    "        <b> Eklärung - Aktivierung eines Neurons</b>\n",
    "    </div>\n",
    "    <div class=\"panel-body\">\n",
    "\n",
    "Die Aktivierung eines Neurons hängt immer davon ab welche Aktivierungswerte die Neuronen aus dem vorherigen Layer übermitteln. Die so eingehenden Signale werden addiert und je nachdem wie hoch die Summe der eingehenden Signale ist wird das Neuron aktiviert oder nicht aktiviert.        \n",
    "        \n",
    "Allerdings werden nicht einfach die Aktivierungswerte der vorherigen Neuronen addiert, sondern diese werden beim übermitteln über Verbidnungsstrecken (Kanten) zwischen den Neuronen noch verändert. An jeder Kante steht ein sogenanntes **Kantengewicht**. \n",
    "\n",
    "<br><br>        \n",
    "<center style=\"font-size:20px\"><i> Kantengewichte sind <b>Vorfaktoren, die mit dem Wert des vorherigen Neurons multipliziert werden</b>. </i> \n",
    "</center>   \n",
    "<br><br>\n",
    "        \n",
    "Die eingehenden Signale mit den Kantengewichten multipliziert und anschließend aufaddiert werden. Wenn diese Summe über einem bestimmten Schwellwert liegt wird das nächste Neuron aktiviert. Wenn die Summe unter dem Schwellwert liegt wird das nächste Neuron nicht aktiviert. Der konkrete Wert der Aktivierung wird durch eine **Aktivierungsfunktion** bestimmt.\n",
    "        \n",
    "<br><br>        \n",
    "<center style=\"font-size:20px\"><i>Die Aktivierungsfunktion erhält als Eingabewert die Summe der eingehenden Signale und <b>berechnet daraus daraus den Wert der Aktivierung des Neurons</b>. </i> \n",
    "</center>   \n",
    "<br><br>\n",
    "        \n",
    "        \n",
    "        \n",
    "</div> \n",
    "\n",
    "\n",
    "\n",
    "        "
   ]
  },
  {
   "cell_type": "markdown",
   "metadata": {},
   "source": [
    "Im folgenden Video wird die Aktivierung des Neurons im Hidden Layer einmal beispielhaft dargestellt. Folgende Schritte gehören dazu:\n",
    "\n",
    "* Die Kantengewichte, die gezeigt werden haben die Werte 3.6 und -3.7\n",
    "\n",
    "\n",
    "* Die eingehenden Signale werden mit den Kantengewichten multipliziert\n",
    "\n",
    "\n",
    "* Es wird die Summe der eingehenden Signale gebildet\n",
    "\n",
    "\n",
    "* Die Aktivierungsfunktion wird auf die Summe der Signale angewandt"
   ]
  },
  {
   "cell_type": "markdown",
   "metadata": {},
   "source": [
    "<video src=\"Videos\\FeedForward_Vid3_1.mp4\" width=\"600\" \n",
    "    autobuffer autoplay controls>\n",
    "</video>"
   ]
  },
  {
   "cell_type": "markdown",
   "metadata": {},
   "source": [
    "### Aktivierungsfunktion"
   ]
  },
  {
   "cell_type": "markdown",
   "metadata": {},
   "source": [
    "Nun schauen wir uns noch einmal die Aktivierungsfunktion etwas genauer an. Wir wollen nun herausfinden wie die Aktivierungsfunktion Eingabewerte umwandelt. Wir haben gesehen, dass z.B. für den Eingabewert -2.07 ein Aktivierungswert von -0.96 herauskommt."
   ]
  },
  {
   "cell_type": "code",
   "execution_count": null,
   "metadata": {},
   "outputs": [],
   "source": [
    "#import der Aktivierungsfunktions\n",
    "from numpy import tanh as aktivierung"
   ]
  },
  {
   "cell_type": "code",
   "execution_count": null,
   "metadata": {},
   "outputs": [],
   "source": [
    "#Anwenden der Aktivierungsfunktion - Der Eingabewert entspricht der Summer der eingehenden Signale\n",
    "\n",
    "aktivierung(-2.07)"
   ]
  },
  {
   "cell_type": "markdown",
   "metadata": {},
   "source": [
    "\n",
    "<div class=\"panel panel-info\">\n",
    "    <div class=\"panel-heading\">\n",
    "        <b>Aufgabe</b>\n",
    "    </div>\n",
    "    <div class=\"panel-body\">\n",
    "Ändere in der vorherigen Codezelle den Eingabewert für die Aktivierungsfunktion. Probiere verschiedenen Eingabewerte aus und finde einen Wert für den...\n",
    "        \n",
    "        a) ... als Ausgabewert 1.0 herauskommt.\n",
    "        b) ... als Ausgabewert -1.0 herauskommt.\n",
    "        c) ... als Ausgabewert 0.0 herauskommt.\n",
    "        d) ... als Ausgabewert ca. 0.5 herauskommt.\n",
    "        e) ... als Ausgabewert 5.0 herauskommt.\n",
    "\n",
    "Notiere deine Eingabewerte in der nächsten Zelle. Falls du keinen Eingabewert findest, begründe warum das so ist.    \n",
    "    </div> \n",
    "</div>\n",
    "\n",
    "\n"
   ]
  },
  {
   "cell_type": "markdown",
   "metadata": {},
   "source": [
    "Eingabewerte hier notieren:\n",
    "\n",
    "a)\n",
    "\n",
    "b)\n",
    "\n",
    "c)\n",
    "\n",
    "d)\n",
    "\n",
    "e)\n"
   ]
  },
  {
   "cell_type": "markdown",
   "metadata": {},
   "source": [
    "In der folgenden Zelle wird der Graph der Aktivierungsfunktion für Eingabewerte von -10 bis 10 visualisiert."
   ]
  },
  {
   "cell_type": "code",
   "execution_count": null,
   "metadata": {
    "hide_input": false
   },
   "outputs": [],
   "source": [
    "#Den Code in dieser Zelle musst du nicht verstehen - Wichtig ist die erzeugt Visualisierung\n",
    "#Layout der Graphik festlegen\n",
    "aktivierung_layout = go.Layout(xaxis={'title':'Input','range':[-10.0,10.0]},\n",
    "                               yaxis={'title':'Aktivierung','range':[-1.5,1.5]},\n",
    "                               height=500,\n",
    "                               width=1000)\n",
    "\n",
    "#Wertetabelle erzeugen\n",
    "df_aktivierung = pd.DataFrame()\n",
    "df_aktivierung['Input']=[x/100 for x in range(-1000, 1000)]\n",
    "df_aktivierung['Aktivierung']=[aktivierung(x/100) for x in range(-1000, 1000)]\n",
    "\n",
    "#Werte als Graphik Visualisieren\n",
    "df_aktivierung.iplot(x='Input', y='Aktivierung', layout = aktivierung_layout)"
   ]
  },
  {
   "cell_type": "markdown",
   "metadata": {},
   "source": [
    "<div class=\"panel panel-info\">\n",
    "    <div class=\"panel-heading\">\n",
    "        <b>Aufgabe</b>\n",
    "    </div>\n",
    "    <div class=\"panel-body\">\n",
    "Welchen Eingabewerte kann man als Schwellwert bezeichnen, oberhalb dessen das Neuron feuert (aktiviert ist)? \n",
    "        \n",
    "Schwellwert bedeutet, dass unterhalb des Schwellwerts das Neuron nicht aktiviert ist und oberhalb des Schwellwerts das Neuron aktiviert ist. \n",
    "    </div> \n",
    "</div>\n",
    "\n"
   ]
  },
  {
   "cell_type": "markdown",
   "metadata": {},
   "source": [
    "Antwort hier einfügen."
   ]
  },
  {
   "cell_type": "markdown",
   "metadata": {},
   "source": [
    "<div class=\"panel-group\">\n",
    "    <div class= \"panel panel-default\">\n",
    "        <div class = \"panel-heading\">\n",
    "            <h4 class=\"panel-title\">\n",
    "                <a data-toggle=\"collapse\" href=\"#testhilfe1\"> Weitere Information Aktivierungsfunktion </a>\n",
    "            </h4>\n",
    "        </div>\n",
    "        <div id=\"testhilfe1\" class=\"panel-collapse collapse\">\n",
    "            <div class=\"panel-body\"> Es gibt verschiedene Aktivierungsfunktionen die für Neuronale Netze genutzt werden. Die Aktivierungsfunktion, die in unserem KNN zum Einsatz kommt ist der Tangens Hyperbolicus oder auch kurz <code>tanh</code>.\n",
    "\n",
    "Die Funktionsgleich lautet:\n",
    "\n",
    "$$\\large{tanh(x) = 1 - \\frac{2}{e^{2x}+1}}$$\n",
    "\n",
    "Das sieht ziemlich kompliziert aus! Mit dem genauen Funktionsterm müssen wir uns aber nicht näher auseinandersetzen, da wir die Funktion <code>tanh</code> ganz einfach aus der <code>numpy</code>  Bibliothek importieren können.\n",
    "            </div>\n",
    "        </div>\n",
    "    </div>\n",
    "</div>\n"
   ]
  },
  {
   "cell_type": "markdown",
   "metadata": {},
   "source": [
    "# Den Output berechnen - Das Feed-Forward-Prinzip"
   ]
  },
  {
   "cell_type": "markdown",
   "metadata": {},
   "source": [
    "### Kantengewichte \n",
    "\n",
    "Außer den Neuronen und dem Aufbau der Layer sind noch weitere Dinge wichtig, damit des Künstliche Neuronale Netz funktionieren kann. Die **Kantengewichte** sind Zahlenwerte, die an jeder Verbindung zwischen zwei Neuronen stehen. Im oben abgebildeten KNN gibt es die drei Kantengewichte <code>w1</code>,\n",
    "<code>w2</code> und <code>w3</code>. Diese konkreten Werte für unser KNN stehen in der folgenden Zelle.\n"
   ]
  },
  {
   "cell_type": "code",
   "execution_count": null,
   "metadata": {},
   "outputs": [],
   "source": [
    "#Festlegung der Kantengewichte\n",
    "\n",
    "w1 = 3.6\n",
    "\n",
    "w2 = -3.7\n",
    "\n",
    "w3 = 3.2"
   ]
  },
  {
   "cell_type": "markdown",
   "metadata": {},
   "source": [
    "Die Kantengewichte wirken zunächst willkürlich. Diese Kantengewichte sind aber das Ergebnis eines Lernprozesses basierend auf dem Datensatz <code>df_käfer</code>. Wie genau der Lernprozess funktioniert schauen wir uns zunächst nicht an. Um später den Lernprozess verstehen zu können, schauen wir uns zunächst an wie ein fertiges Künstliches Neuronales Netz arbeitet.\n",
    "\n",
    "Neben den **Neuronen** und den **Kantengewichten** ist noch eine weitere Sache wichtig für das Künstliche Neuronale Netz. Jedes Neuron besitzt noch eine **Aktivierungsfunktion**."
   ]
  },
  {
   "cell_type": "code",
   "execution_count": null,
   "metadata": {},
   "outputs": [],
   "source": [
    "#import der Aktivierungsfunktions\n",
    "from numpy import tanh"
   ]
  },
  {
   "cell_type": "markdown",
   "metadata": {},
   "source": [
    "Wir haben weiter oben die Kantengewichte  <code>w1</code>, <code>w2</code> und <code>w3</code> definiert und kennen nun unsere Aktivierungsfunktion <code>tanh</code>.\n",
    "\n",
    "Als nächstes schauen wir uns den Verarbeitungsprozess des KNN an. Wir schauen uns also genauer an wie aus den Inputwerten <code>x1</code> und <code>x2</code> ein Outputwert <code>y</code> wird. Dies funktioniert nach dem sogenannten Feed-Forward-Prinzip, was soviel heißt wie \"vorwärts durchlaufen\"."
   ]
  },
  {
   "cell_type": "markdown",
   "metadata": {},
   "source": [
    "<video src=\"Videos\\knn_feed_forward.mp4\" width=\"600\" \n",
    "    autobuffer autoplay controls>\n",
    "\n",
    "</video>"
   ]
  },
  {
   "cell_type": "code",
   "execution_count": null,
   "metadata": {},
   "outputs": [],
   "source": [
    "df_käfer.head()"
   ]
  },
  {
   "cell_type": "markdown",
   "metadata": {},
   "source": [
    "Wir geben zunächst als Inputwerte die Breite und die Länge des ersten Käfers ein. Der erste Käfer ist ein Marienkäfer.\n",
    "\n"
   ]
  },
  {
   "cell_type": "markdown",
   "metadata": {},
   "source": [
    "## Input Layer\n",
    "\n",
    "Der Input Layer ist immer etwas besonders, da er keine besondere Aktivierungsfunktion enthält. D. h. in den Neuronen des Input Layers werden die Inputdaten einfach weitergegeben und nicht durch eine Aktivierungsfunktion wie z. B. tanh verarbeitet.\n"
   ]
  },
  {
   "cell_type": "code",
   "execution_count": null,
   "metadata": {},
   "outputs": [],
   "source": [
    "#Breite\n",
    "x1 = 0.38\n",
    "\n",
    "#Länge\n",
    "x2 = 0.93"
   ]
  },
  {
   "cell_type": "markdown",
   "metadata": {},
   "source": [
    "## Hidden Layer\n",
    "\n",
    "Nun durchlaufen die Outputwerte der Neuronen <code>I1</code> und <code>I2</code> die Kanten mit den Gewichten <code>w1</code> und <code>w2</code>. \n",
    "\n",
    "An jeder Kante wird der Output des vorherigen Layers mit dem Kantengewicht multipliziert. Die Summe über alle Kanten bildet den Input für das Neuron des nächsten Layers. Die Summe wird als Eingabewert für die Aktivierungsfunktion (tanh) genutzt.\n",
    "\n"
   ]
  },
  {
   "cell_type": "code",
   "execution_count": null,
   "metadata": {
    "slideshow": {
     "slide_type": "slide"
    }
   },
   "outputs": [],
   "source": [
    "#Summe der Signale mit Kantengewichten\n",
    "w1 * x1 + w2 * x2\n"
   ]
  },
  {
   "cell_type": "code",
   "execution_count": null,
   "metadata": {},
   "outputs": [],
   "source": [
    "#Aktivierung des Neurons im Hidden Layer\n",
    "tanh(w1 * x1 + w2 * x2)\n",
    "  "
   ]
  },
  {
   "cell_type": "markdown",
   "metadata": {},
   "source": [
    "## Output Layer\n",
    "\n",
    "Nun durchlaufen der Outputwert des Neurons <code>H1</code> die Kante mit dem Gewicht <code>w3</code>. \n",
    "\n",
    "Da nur eine Kante zwischen Hidden Layer und Output Layer existiert muss dieses mal keine Summe gebildet werden, sondern nur ein Produkt.\n"
   ]
  },
  {
   "cell_type": "code",
   "execution_count": null,
   "metadata": {},
   "outputs": [],
   "source": [
    "#Summe der Signale mit Kantengewichten\n",
    "w3 * tanh( w1 * x1 + w2 * x2) "
   ]
  },
  {
   "cell_type": "code",
   "execution_count": null,
   "metadata": {},
   "outputs": [],
   "source": [
    "#Aktivierung des Neurons im Output Layer\n",
    "tanh(w3 * tanh( w1 * x1 + w2 * x2) )\n",
    "  "
   ]
  },
  {
   "cell_type": "markdown",
   "metadata": {},
   "source": [
    "Der korrekte Output ist <code>-0.9959516357629201</code>. Falls bei dir ein anderer Output herauskommt muss in den vorherigen Schritten etwas schief gelaufen sein. \n",
    "\n",
    "Falls das Ergebnis nicht übereinstimmt überprüfe deine vorherigen Rechnungen."
   ]
  },
  {
   "cell_type": "markdown",
   "metadata": {},
   "source": [
    "<div class=\"panel panel-info\">\n",
    "    <div class=\"panel-heading\">\n",
    "        <b>Aufgabe</b>\n",
    "    </div>\n",
    "    <div class=\"panel-body\">\n",
    "Ändere weiter oben die Eingabewerte des neuronalen Netzes (x1 und x2). Suche dir eine andere Insekt aus dem Datensatz und verifiziere, dass auch dafür ein sinnvolles Ergebnis herauskommt.\n",
    "    </div> \n",
    "</div>\n",
    "\n"
   ]
  },
  {
   "cell_type": "markdown",
   "metadata": {},
   "source": [
    "# Den Output des Neuronalen Netzes visualisieren\n"
   ]
  },
  {
   "cell_type": "markdown",
   "metadata": {},
   "source": [
    "<div class=\"panel panel-info\">\n",
    "    <div class=\"panel-heading\">\n",
    "        <b>Aufgabe</b>\n",
    "    </div>\n",
    "    <div class=\"panel-body\">\n",
    "Damit man nicht jedes mal mehrere Zellen ausführen muss um einen Output zu berechnen benötigen wir eine Funktion.\n",
    "\n",
    "Implementiere diese Funktion, die als Input <code>x1</code> und <code>x2</code> bekommt und <code>y</code> als Output liefert.\n",
    "\n",
    "Definiere innerhalb der Funktion die Gewichte <code>w1</code>, <code>w2</code> und <code>w3</code>\n",
    "    </div> \n",
    "</div>\n",
    "\n",
    "\n"
   ]
  },
  {
   "cell_type": "code",
   "execution_count": null,
   "metadata": {},
   "outputs": [],
   "source": [
    "def knn_output(x1, x2):\n",
    "    w1 = 3.7\n",
    "    w2 = -3.6\n",
    "    w3 = 3.2\n",
    "    y = tanh(w3*tanh(w1*x1+w2*x2))\n",
    "    return y"
   ]
  },
  {
   "cell_type": "code",
   "execution_count": null,
   "metadata": {},
   "outputs": [],
   "source": [
    "#zum testen\n",
    "knn_output(0.38, 0.93)"
   ]
  },
  {
   "cell_type": "markdown",
   "metadata": {},
   "source": [
    "Falls die Funktion <code>knn_output</code> korrekt funktioniert, kann mit dem ausführen der folgenden Zelle eine Übersicht über verschiedene Outputs erstellt werden. "
   ]
  },
  {
   "cell_type": "code",
   "execution_count": null,
   "metadata": {},
   "outputs": [],
   "source": [
    "#Übersicht über verschiedene Outputs erstellen\n",
    "ergebnisse = pd.DataFrame(index = [y/10 for y in reversed(range(10))])\n",
    "\n",
    "for x in range(10):\n",
    "    ergebnisse[str(x/10)] = [knn_output(y/10,x/10) for y in reversed(range(10))]\n",
    "\n",
    "ergebnisse#.T"
   ]
  },
  {
   "cell_type": "markdown",
   "metadata": {},
   "source": [
    "## Outputwerte als Heatmap Visualisieren"
   ]
  },
  {
   "cell_type": "markdown",
   "metadata": {},
   "source": [
    "Um die Übersicht über die Outputwerte etwas anschaulicher zu machen, kann man alle Outputs auch als \"Heatmap\" anzeigen lassen.\n",
    "\n",
    "Auf der x-Achse steht die Breite, auf der y-Achse die Länge und in der Mitte ist die Heatmap unterschiedlich eingefärbt, je nachdem welchen Output das KNN liefert."
   ]
  },
  {
   "cell_type": "code",
   "execution_count": null,
   "metadata": {},
   "outputs": [],
   "source": [
    "ergebnisse.iplot('heatmap', xTitle='Breite', yTitle ='Länge', colorscale='RdBu')"
   ]
  },
  {
   "cell_type": "markdown",
   "metadata": {},
   "source": [
    "## Feinere Übersicht über die Outputs des KNN"
   ]
  },
  {
   "cell_type": "code",
   "execution_count": null,
   "metadata": {},
   "outputs": [],
   "source": [
    "heatmap=pd.DataFrame()\n",
    "\n",
    "for x in range(100):\n",
    "    heatmap[str(x/100)] = [knn_output(y/100,x/100) for y in range(100)]\n",
    "\n",
    "heatmap.index = [y/100 for y in range(100)]\n",
    "\n",
    "heatmap.iplot('heatmap', xTitle='Breite', yTitle ='Länge', colorscale='RdBu', layout=square_layout)"
   ]
  },
  {
   "cell_type": "markdown",
   "metadata": {},
   "source": [
    "<div class=\"panel panel-info\">\n",
    "    <div class=\"panel-heading\">\n",
    "        <b>Aufgabe</b>\n",
    "    </div>\n",
    "    <div class=\"panel-body\">\n",
    "Versuche die Heatmap zu interpretieren. Ist Sie sinnvoll? \n",
    "\n",
    "Schaue dir dafür auch nochmal das Streudiagramm des Datensatzes <code>df_käfer</code> weiter oben an.\n",
    "\n",
    "(Hinweis: Wenn du mit der Maus über die Heatmap fährst werden verschiedene Werte angezeigt)\n",
    "    </div> \n",
    "</div>\n",
    "\n",
    "\n",
    "\n"
   ]
  },
  {
   "cell_type": "markdown",
   "metadata": {},
   "source": [
    "ANTWORT HIER EINFÜGEN"
   ]
  },
  {
   "cell_type": "markdown",
   "metadata": {},
   "source": [
    "## Performance des KNN bewerten"
   ]
  },
  {
   "cell_type": "markdown",
   "metadata": {},
   "source": [
    "### Vorhersagegenauigkeit / Fehlklassifikationsrate"
   ]
  },
  {
   "cell_type": "code",
   "execution_count": null,
   "metadata": {},
   "outputs": [],
   "source": [
    "#Erstelle Spalte mit interpretierten Outputs des KNN\n",
    "Outputs=[]\n",
    "\n",
    "for i in range(len(df_käfer)):\n",
    "    \n",
    "    output = knn_output(df_käfer.iloc[i]['Breite'],df_käfer.iloc[i]['Länge'])\n",
    "    \n",
    "    if output > 0:\n",
    "        Outputs.append('Marienkäfer')\n",
    "    elif output <= 0:\n",
    "        Outputs.append('Raupe')\n",
    "\n",
    "        \n",
    "df_käfer_test = df_käfer.copy()\n",
    "df_käfer_test['Outputs'] = Outputs\n",
    "\n",
    "df_käfer_test.head()"
   ]
  },
  {
   "cell_type": "code",
   "execution_count": null,
   "metadata": {},
   "outputs": [],
   "source": [
    "#Vergleiche Outputs mit tatsächlichen Werten\n",
    "df_käfer_test[df_käfer_test['Insekt'] != df_käfer_test['Outputs']]"
   ]
  },
  {
   "cell_type": "code",
   "execution_count": null,
   "metadata": {},
   "outputs": [],
   "source": [
    "#Berechne wie viele Beispiele korrekt klassifiziert werden \n",
    "sum(df_käfer_test['Insekt'] == df_käfer_test['Outputs'])"
   ]
  },
  {
   "cell_type": "markdown",
   "metadata": {},
   "source": [
    "### Mittlere Numerische Abweichung"
   ]
  },
  {
   "cell_type": "code",
   "execution_count": null,
   "metadata": {},
   "outputs": [],
   "source": [
    "Outputs=[]\n",
    "\n",
    "for i in range(len(df_käfer)):\n",
    "    \n",
    "    Outputs.append(knn_output(df_käfer.iloc[i]['Breite'],df_käfer.iloc[i]['Länge']))\n",
    "    \n",
    "df_käfer_test2 = df_käfer.replace(['Marienkäfer', 'Raupe'],[-1,1])\n",
    "df_käfer_test2['Outputs'] = Outputs\n",
    "\n",
    "df_käfer_test2.head()"
   ]
  },
  {
   "cell_type": "code",
   "execution_count": null,
   "metadata": {},
   "outputs": [],
   "source": [
    "df_käfer_test2['Insekt'] - df_käfer_test2['Outputs']"
   ]
  },
  {
   "cell_type": "code",
   "execution_count": null,
   "metadata": {},
   "outputs": [],
   "source": [
    "sum(abs(df_käfer_test2['Insekt'] - df_käfer_test2['Outputs']))"
   ]
  },
  {
   "cell_type": "code",
   "execution_count": null,
   "metadata": {},
   "outputs": [],
   "source": [
    "abs(df_käfer_test2['Insekt'] - df_käfer_test2['Outputs']).mean()"
   ]
  },
  {
   "cell_type": "code",
   "execution_count": null,
   "metadata": {},
   "outputs": [],
   "source": []
  },
  {
   "cell_type": "code",
   "execution_count": null,
   "metadata": {},
   "outputs": [],
   "source": []
  },
  {
   "cell_type": "code",
   "execution_count": null,
   "metadata": {},
   "outputs": [],
   "source": [
    " "
   ]
  },
  {
   "cell_type": "code",
   "execution_count": null,
   "metadata": {},
   "outputs": [],
   "source": []
  },
  {
   "cell_type": "code",
   "execution_count": null,
   "metadata": {},
   "outputs": [],
   "source": []
  },
  {
   "cell_type": "code",
   "execution_count": null,
   "metadata": {},
   "outputs": [],
   "source": []
  },
  {
   "cell_type": "code",
   "execution_count": null,
   "metadata": {},
   "outputs": [],
   "source": []
  },
  {
   "cell_type": "code",
   "execution_count": null,
   "metadata": {},
   "outputs": [],
   "source": []
  },
  {
   "cell_type": "code",
   "execution_count": null,
   "metadata": {},
   "outputs": [],
   "source": []
  },
  {
   "cell_type": "code",
   "execution_count": null,
   "metadata": {},
   "outputs": [],
   "source": [
    " "
   ]
  },
  {
   "cell_type": "code",
   "execution_count": null,
   "metadata": {},
   "outputs": [],
   "source": []
  },
  {
   "cell_type": "code",
   "execution_count": null,
   "metadata": {},
   "outputs": [],
   "source": []
  }
 ],
 "metadata": {
  "hide_input": false,
  "kernelspec": {
   "display_name": "Python 3 (ipykernel)",
   "language": "python",
   "name": "python3"
  },
  "language_info": {
   "codemirror_mode": {
    "name": "ipython",
    "version": 3
   },
   "file_extension": ".py",
   "mimetype": "text/x-python",
   "name": "python",
   "nbconvert_exporter": "python",
   "pygments_lexer": "ipython3",
   "version": "3.10.4"
  },
  "latex_envs": {
   "LaTeX_envs_menu_present": true,
   "autoclose": false,
   "autocomplete": true,
   "bibliofile": "biblio.bib",
   "cite_by": "apalike",
   "current_citInitial": 1,
   "eqLabelWithNumbers": true,
   "eqNumInitial": 1,
   "hotkeys": {
    "equation": "Ctrl-E",
    "itemize": "Ctrl-I"
   },
   "labels_anchors": false,
   "latex_user_defs": false,
   "report_style_numbering": false,
   "user_envs_cfg": true
  },
  "toc": {
   "base_numbering": 1,
   "nav_menu": {},
   "number_sections": true,
   "sideBar": true,
   "skip_h1_title": false,
   "title_cell": "Table of Contents",
   "title_sidebar": "Contents",
   "toc_cell": false,
   "toc_position": {
    "height": "calc(100% - 180px)",
    "left": "10px",
    "top": "150px",
    "width": "384.4px"
   },
   "toc_section_display": true,
   "toc_window_display": true
  },
  "varInspector": {
   "cols": {
    "lenName": 16,
    "lenType": 16,
    "lenVar": 40
   },
   "kernels_config": {
    "python": {
     "delete_cmd_postfix": "",
     "delete_cmd_prefix": "del ",
     "library": "var_list.py",
     "varRefreshCmd": "print(var_dic_list())"
    },
    "r": {
     "delete_cmd_postfix": ") ",
     "delete_cmd_prefix": "rm(",
     "library": "var_list.r",
     "varRefreshCmd": "cat(var_dic_list()) "
    }
   },
   "types_to_exclude": [
    "module",
    "function",
    "builtin_function_or_method",
    "instance",
    "_Feature"
   ],
   "window_display": false
  }
 },
 "nbformat": 4,
 "nbformat_minor": 2
}
